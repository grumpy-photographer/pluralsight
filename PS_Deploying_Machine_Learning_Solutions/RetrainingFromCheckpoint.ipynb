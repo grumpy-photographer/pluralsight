{
 "cells": [
  {
   "cell_type": "code",
   "execution_count": 1,
   "id": "hungry-honey",
   "metadata": {},
   "outputs": [],
   "source": [
    "import sklearn\n",
    "import pandas as pd\n",
    "from sklearn.ensemble import RandomForestRegressor\n",
    "from sklearn.metrics import r2_score"
   ]
  },
  {
   "cell_type": "code",
   "execution_count": 2,
   "id": "worth-provider",
   "metadata": {},
   "outputs": [
    {
     "data": {
      "text/plain": [
       "'0.24.1'"
      ]
     },
     "execution_count": 2,
     "metadata": {},
     "output_type": "execute_result"
    }
   ],
   "source": [
    "scikit_learn_version = sklearn.__version__\n",
    "scikit_learn_version"
   ]
  },
  {
   "cell_type": "code",
   "execution_count": 3,
   "id": "adaptive-publication",
   "metadata": {},
   "outputs": [
    {
     "data": {
      "text/plain": [
       "(82, 52)"
      ]
     },
     "execution_count": 3,
     "metadata": {},
     "output_type": "execute_result"
    }
   ],
   "source": [
    "auto_train = pd.read_csv('datasets/automobiles_file1.csv')\n",
    "auto_train.shape"
   ]
  },
  {
   "cell_type": "code",
   "execution_count": 4,
   "id": "promising-article",
   "metadata": {},
   "outputs": [
    {
     "data": {
      "text/plain": [
       "(41, 52)"
      ]
     },
     "execution_count": 4,
     "metadata": {},
     "output_type": "execute_result"
    }
   ],
   "source": [
    "auto_test = pd.read_csv('datasets/automobiles_test.csv')\n",
    "auto_test.shape"
   ]
  },
  {
   "cell_type": "code",
   "execution_count": 5,
   "id": "manual-directory",
   "metadata": {},
   "outputs": [],
   "source": [
    "X_train = auto_train.drop('price', axis=1)\n",
    "y_train = auto_train['price']"
   ]
  },
  {
   "cell_type": "code",
   "execution_count": 6,
   "id": "quantitative-suspect",
   "metadata": {},
   "outputs": [],
   "source": [
    "X_test = auto_test.drop('price', axis=1)\n",
    "y_test = auto_test['price']"
   ]
  },
  {
   "cell_type": "code",
   "execution_count": 7,
   "id": "selected-clinton",
   "metadata": {},
   "outputs": [
    {
     "data": {
      "text/plain": [
       "RandomForestRegressor(n_estimators=5, warm_start=True)"
      ]
     },
     "execution_count": 7,
     "metadata": {},
     "output_type": "execute_result"
    }
   ],
   "source": [
    "regressor_model =  RandomForestRegressor(n_estimators=5, warm_start=True)\n",
    "rfr_model = regressor_model.fit(X_train, y_train)\n",
    "\n",
    "rfr_model"
   ]
  },
  {
   "cell_type": "code",
   "execution_count": 8,
   "id": "broke-consolidation",
   "metadata": {},
   "outputs": [
    {
     "data": {
      "text/plain": [
       "0.9664941543513106"
      ]
     },
     "execution_count": 8,
     "metadata": {},
     "output_type": "execute_result"
    }
   ],
   "source": [
    "train_score = rfr_model.score(X_train, y_train)\n",
    "train_score"
   ]
  },
  {
   "cell_type": "code",
   "execution_count": 9,
   "id": "verified-porter",
   "metadata": {},
   "outputs": [],
   "source": [
    "y_pred = rfr_model.predict(X_test)"
   ]
  },
  {
   "cell_type": "code",
   "execution_count": 10,
   "id": "small-premium",
   "metadata": {},
   "outputs": [
    {
     "data": {
      "text/plain": [
       "0.8183343211585542"
      ]
     },
     "execution_count": 10,
     "metadata": {},
     "output_type": "execute_result"
    }
   ],
   "source": [
    "test_score = r2_score(y_test, y_pred)\n",
    "test_score"
   ]
  },
  {
   "cell_type": "code",
   "execution_count": 11,
   "id": "tough-humidity",
   "metadata": {},
   "outputs": [],
   "source": [
    "rfr_model_param = {}\n",
    "\n",
    "rfr_model_param['model'] = rfr_model\n",
    "rfr_model_param['sklearn_version'] = scikit_learn_version\n",
    "rfr_model_param['r2_score'] = test_score"
   ]
  },
  {
   "cell_type": "code",
   "execution_count": 12,
   "id": "related-reasoning",
   "metadata": {},
   "outputs": [
    {
     "data": {
      "text/plain": [
       "{'model': RandomForestRegressor(n_estimators=5, warm_start=True),\n",
       " 'sklearn_version': '0.24.1',\n",
       " 'r2_score': 0.8183343211585542}"
      ]
     },
     "execution_count": 12,
     "metadata": {},
     "output_type": "execute_result"
    }
   ],
   "source": [
    "rfr_model_param"
   ]
  },
  {
   "cell_type": "code",
   "execution_count": 13,
   "id": "incorporated-jersey",
   "metadata": {},
   "outputs": [],
   "source": [
    "import joblib"
   ]
  },
  {
   "cell_type": "code",
   "execution_count": 14,
   "id": "german-journalist",
   "metadata": {},
   "outputs": [],
   "source": [
    "filename = 'models/rfr_model_checkpoint.joblib'"
   ]
  },
  {
   "cell_type": "code",
   "execution_count": 15,
   "id": "driven-crisis",
   "metadata": {},
   "outputs": [
    {
     "data": {
      "text/plain": [
       "['models/rfr_model_checkpoint.joblib']"
      ]
     },
     "execution_count": 15,
     "metadata": {},
     "output_type": "execute_result"
    }
   ],
   "source": [
    "joblib.dump(rfr_model_param, filename)"
   ]
  },
  {
   "cell_type": "code",
   "execution_count": 16,
   "id": "classified-arrangement",
   "metadata": {},
   "outputs": [],
   "source": [
    "joblib_model = joblib.load(filename)"
   ]
  },
  {
   "cell_type": "code",
   "execution_count": 17,
   "id": "loving-american",
   "metadata": {
    "scrolled": true
   },
   "outputs": [
    {
     "data": {
      "text/plain": [
       "RandomForestRegressor(n_estimators=5, warm_start=True)"
      ]
     },
     "execution_count": 17,
     "metadata": {},
     "output_type": "execute_result"
    }
   ],
   "source": [
    "joblib_model['model']"
   ]
  },
  {
   "cell_type": "code",
   "execution_count": 18,
   "id": "affecting-income",
   "metadata": {
    "scrolled": true
   },
   "outputs": [
    {
     "data": {
      "text/plain": [
       "'0.24.1'"
      ]
     },
     "execution_count": 18,
     "metadata": {},
     "output_type": "execute_result"
    }
   ],
   "source": [
    "joblib_model['sklearn_version']"
   ]
  },
  {
   "cell_type": "code",
   "execution_count": 19,
   "id": "public-reviewer",
   "metadata": {},
   "outputs": [
    {
     "data": {
      "text/plain": [
       "RandomForestRegressor(n_estimators=15, warm_start=True)"
      ]
     },
     "execution_count": 19,
     "metadata": {},
     "output_type": "execute_result"
    }
   ],
   "source": [
    "joblib_model['model'].n_estimators = 15\n",
    "joblib_model['model']"
   ]
  },
  {
   "cell_type": "code",
   "execution_count": 20,
   "id": "american-inspector",
   "metadata": {},
   "outputs": [
    {
     "data": {
      "text/plain": [
       "(82, 52)"
      ]
     },
     "execution_count": 20,
     "metadata": {},
     "output_type": "execute_result"
    }
   ],
   "source": [
    "auto_retrain = pd.read_csv('datasets/automobiles_file2.csv')\n",
    "auto_retrain.shape"
   ]
  },
  {
   "cell_type": "code",
   "execution_count": 21,
   "id": "superb-biodiversity",
   "metadata": {},
   "outputs": [],
   "source": [
    "X_train = auto_retrain.drop('price', axis=1)\n",
    "y_train = auto_retrain['price']"
   ]
  },
  {
   "cell_type": "code",
   "execution_count": 22,
   "id": "solved-designation",
   "metadata": {},
   "outputs": [],
   "source": [
    "rfr_retrain = joblib_model['model'].fit(X_train, y_train)"
   ]
  },
  {
   "cell_type": "code",
   "execution_count": 23,
   "id": "greenhouse-tribute",
   "metadata": {},
   "outputs": [
    {
     "data": {
      "text/plain": [
       "0.960269593487997"
      ]
     },
     "execution_count": 23,
     "metadata": {},
     "output_type": "execute_result"
    }
   ],
   "source": [
    "rfr_retrain_train_score = rfr_retrain.score(X_train, y_train)\n",
    "rfr_retrain_train_score"
   ]
  },
  {
   "cell_type": "code",
   "execution_count": 24,
   "id": "seventh-roulette",
   "metadata": {},
   "outputs": [],
   "source": [
    "y_pred = rfr_retrain.predict(X_test)"
   ]
  },
  {
   "cell_type": "code",
   "execution_count": 25,
   "id": "voluntary-fundamental",
   "metadata": {},
   "outputs": [
    {
     "data": {
      "text/plain": [
       "0.8954898118693329"
      ]
     },
     "execution_count": 25,
     "metadata": {},
     "output_type": "execute_result"
    }
   ],
   "source": [
    "rfr_retrain_test_score = r2_score(y_test, y_pred)\n",
    "rfr_retrain_test_score"
   ]
  },
  {
   "cell_type": "code",
   "execution_count": 26,
   "id": "norman-stylus",
   "metadata": {},
   "outputs": [
    {
     "data": {
      "text/plain": [
       "0.8183343211585542"
      ]
     },
     "execution_count": 26,
     "metadata": {},
     "output_type": "execute_result"
    }
   ],
   "source": [
    "rfr_model_param['r2_score']"
   ]
  },
  {
   "cell_type": "code",
   "execution_count": 28,
   "id": "fundamental-dictionary",
   "metadata": {},
   "outputs": [],
   "source": [
    "retrained_rfr_model_param = {}\n",
    "retrained_rfr_model_param['model'] = rfr_retrain\n",
    "retrained_rfr_model_param['sklearn_version'] = scikit_learn_version\n",
    "retrained_rfr_model_param['r2_score'] = rfr_retrain_test_score"
   ]
  },
  {
   "cell_type": "code",
   "execution_count": 29,
   "id": "danish-external",
   "metadata": {},
   "outputs": [],
   "source": [
    "filename = 'models/retrained_rfr_model_checkpoint.joblib'"
   ]
  },
  {
   "cell_type": "code",
   "execution_count": 30,
   "id": "american-antenna",
   "metadata": {},
   "outputs": [
    {
     "data": {
      "text/plain": [
       "['models/retrained_rfr_model_checkpoint.joblib']"
      ]
     },
     "execution_count": 30,
     "metadata": {},
     "output_type": "execute_result"
    }
   ],
   "source": [
    "joblib.dump(retrained_rfr_model_param, filename)"
   ]
  }
 ],
 "metadata": {
  "kernelspec": {
   "display_name": "Python 3",
   "language": "python",
   "name": "python3"
  },
  "language_info": {
   "codemirror_mode": {
    "name": "ipython",
    "version": 3
   },
   "file_extension": ".py",
   "mimetype": "text/x-python",
   "name": "python",
   "nbconvert_exporter": "python",
   "pygments_lexer": "ipython3",
   "version": "3.8.7"
  }
 },
 "nbformat": 4,
 "nbformat_minor": 5
}
