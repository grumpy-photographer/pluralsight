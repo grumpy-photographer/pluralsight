{
 "cells": [
  {
   "cell_type": "code",
   "execution_count": 1,
   "metadata": {},
   "outputs": [],
   "source": [
    "import sys\n",
    "import pandas as pd\n",
    "import numpy as np\n",
    "from sklearn.model_selection import train_test_split\n",
    "from sklearn.linear_model import LogisticRegression\n",
    "from sklearn.tree import DecisionTreeClassifier\n",
    "from sklearn.metrics import classification_report"
   ]
  },
  {
   "cell_type": "code",
   "execution_count": 2,
   "metadata": {},
   "outputs": [],
   "source": [
    "def build_model(classifier_fn, features, label, dataset, test_frac=0.2):\n",
    "    X = dataset[features]\n",
    "    y = dataset[label]\n",
    "\n",
    "    X_train, X_test, y_train, y_test = train_test_split(X, y, test_size=test_frac)\n",
    "    model = classifier_fn(X_train, y_train)\n",
    "    y_pred = model.predict(X_test)\n",
    "    print(\"Featured used: \", features)\n",
    "    summarize_classification(y_test, y_pred)\n",
    "\n",
    "    return {\n",
    "        \"model\": model,\n",
    "        \"X_train\": X_train,\n",
    "        \"y_train\": y_train,\n",
    "        \"X_test\": X_test,\n",
    "        \"y_test\": y_test,\n",
    "        \"y_pred\": y_pred,\n",
    "    }"
   ]
  },
  {
   "cell_type": "code",
   "execution_count": 3,
   "metadata": {},
   "outputs": [],
   "source": [
    "def summarize_classification(y_test, y_pred):\n",
    "    report = classification_report(y_test, y_pred)\n",
    "    print(\"Classification Report\")\n",
    "    print(\"------\" * 10)\n",
    "    print(report)"
   ]
  },
  {
   "cell_type": "code",
   "execution_count": 4,
   "metadata": {},
   "outputs": [],
   "source": [
    "def logistic_fn(X_train, y_train, penalty=\"l2\", C=1.0, max_iter=1000):\n",
    "    model = LogisticRegression(penalty=penalty, C=C, max_iter=max_iter, solver=\"lbfgs\")\n",
    "    model.fit(X_train, y_train)\n",
    "    return model"
   ]
  },
  {
   "cell_type": "code",
   "execution_count": 5,
   "metadata": {},
   "outputs": [],
   "source": [
    "def decision_tree_fn(X_train, y_train, max_depth=3):\n",
    "    model = DecisionTreeClassifier(max_depth=max_depth)\n",
    "    model.fit(X_train, y_train)\n",
    "    return model"
   ]
  },
  {
   "cell_type": "code",
   "execution_count": 6,
   "metadata": {},
   "outputs": [],
   "source": [
    "def main():\n",
    "    data = pd.read_csv(\"./datasets/advertising_cleaned.csv\")\n",
    "    features = [\"TimeSpent\", \"Age\", \"AreaIncome\", \"DailyInternetUsage\", \"Male\"]\n",
    "    try:\n",
    "        model_type = sys.argv[1]\n",
    "\n",
    "        if len(sys.argv) > 2:\n",
    "            features = sys.argv[2:]\n",
    "\n",
    "    except error:\n",
    "        print(\"Classifier model not specified!\")\n",
    "\n",
    "    print(\"Running classifier: \", model_type)\n",
    "\n",
    "    if model_type == \"logistic_regression\":\n",
    "        build_model(logistic_fn, features, \"Clicked\", data)\n",
    "    elif model_type == \"decision_tree\":\n",
    "        build_model(decision_tree_fn, features, \"Clicked\", data)\n",
    "    else:\n",
    "        print(\"Invalid classifier model\")"
   ]
  },
  {
   "cell_type": "code",
   "execution_count": 7,
   "metadata": {},
   "outputs": [
    {
     "name": "stdout",
     "output_type": "stream",
     "text": [
      "Running classifier:  --ip=127.0.0.1\n",
      "Invalid classifier model\n"
     ]
    }
   ],
   "source": [
    "if __name__ == \"__main__\":\n",
    "    main()"
   ]
  }
 ],
 "metadata": {
  "language_info": {
   "name": "python"
  },
  "orig_nbformat": 4
 },
 "nbformat": 4,
 "nbformat_minor": 2
}
