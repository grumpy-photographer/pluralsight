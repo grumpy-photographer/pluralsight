{
 "cells": [
  {
   "cell_type": "code",
   "execution_count": 1,
   "id": "267c6f9d",
   "metadata": {
    "ExecuteTime": {
     "end_time": "2022-10-27T01:54:27.046525Z",
     "start_time": "2022-10-27T01:54:26.724236Z"
    }
   },
   "outputs": [],
   "source": [
    "import numpy as np\n",
    "import matplotlib.pyplot as plt"
   ]
  },
  {
   "cell_type": "code",
   "execution_count": 2,
   "id": "360e5697",
   "metadata": {
    "ExecuteTime": {
     "end_time": "2022-10-27T01:54:27.062551Z",
     "start_time": "2022-10-27T01:54:27.047586Z"
    }
   },
   "outputs": [],
   "source": [
    "x_train = np.array(\n",
    "    [\n",
    "        [4.7],\n",
    "        [2.4],\n",
    "        [7.5],\n",
    "        [7.1],\n",
    "        [4.3],\n",
    "        [7.8],\n",
    "        [8.9],\n",
    "        [5.2],\n",
    "        [4.59],\n",
    "        [2.1],\n",
    "        [8],\n",
    "        [5],\n",
    "        [7.5],\n",
    "        [5],\n",
    "        [4],\n",
    "        [8],\n",
    "        [5.2],\n",
    "        [4.9],\n",
    "        [3],\n",
    "        [4.7],\n",
    "        [4],\n",
    "        [4.8],\n",
    "        [3.5],\n",
    "        [2.1],\n",
    "        [4.1],\n",
    "    ],\n",
    "    dtype=np.float32,\n",
    ")\n",
    "c\n",
    "y_train = np.array(\n",
    "    [\n",
    "        [2.6],\n",
    "        [1.6],\n",
    "        [3.09],\n",
    "        [2.4],\n",
    "        [2.4],\n",
    "        [3.3],\n",
    "        [2.6],\n",
    "        [1.96],\n",
    "        [3.13],\n",
    "        [1.76],\n",
    "        [3.2],\n",
    "        [2.1],\n",
    "        [1.6],\n",
    "        [2.5],\n",
    "        [2.2],\n",
    "        [2.75],\n",
    "        [2.4],\n",
    "        [1.8],\n",
    "        [1],\n",
    "        [2],\n",
    "        [1.6],\n",
    "        [2.4],\n",
    "        [2.6],\n",
    "        [1.5],\n",
    "        [3.1],\n",
    "    ],\n",
    "    dtype=np.float32,\n",
    ")"
   ]
  },
  {
   "cell_type": "code",
   "execution_count": 3,
   "id": "549b22a1",
   "metadata": {
    "ExecuteTime": {
     "end_time": "2022-10-27T01:54:27.140567Z",
     "start_time": "2022-10-27T01:54:27.065061Z"
    },
    "scrolled": false
   },
   "outputs": [
    {
     "data": {
      "image/png": "[encoded data removed]",
      "text/plain": [
       "<Figure size 576x576 with 1 Axes>"
      ]
     },
     "metadata": {
      "needs_background": "light"
     },
     "output_type": "display_data"
    }
   ],
   "source": [
    "plt.figure(figsize=(8, 8))\n",
    "\n",
    "plt.scatter(x_train, y_train, c=\"green\", s=250, label=\"Original Data\")\n",
    "\n",
    "plt.show()"
   ]
  },
  {
   "cell_type": "code",
   "execution_count": 4,
   "id": "a3da9af3",
   "metadata": {
    "ExecuteTime": {
     "end_time": "2022-10-27T01:54:27.642465Z",
     "start_time": "2022-10-27T01:54:27.141574Z"
    }
   },
   "outputs": [],
   "source": [
    "import torch"
   ]
  },
  {
   "cell_type": "code",
   "execution_count": 5,
   "id": "ed44850c",
   "metadata": {
    "ExecuteTime": {
     "end_time": "2022-10-27T01:54:27.658443Z",
     "start_time": "2022-10-27T01:54:27.644761Z"
    }
   },
   "outputs": [
    {
     "name": "stdout",
     "output_type": "stream",
     "text": [
      "requires_grad for X_train:  False\n",
      "requires_grad for Y_train:  False\n"
     ]
    }
   ],
   "source": [
    "X_train = torch.from_numpy(x_train)\n",
    "Y_train = torch.from_numpy(y_train)\n",
    "\n",
    "print(\"requires_grad for X_train: \", X_train.requires_grad)\n",
    "print(\"requires_grad for Y_train: \", Y_train.requires_grad)"
   ]
  },
  {
   "cell_type": "code",
   "execution_count": 6,
   "id": "06925f96",
   "metadata": {
    "ExecuteTime": {
     "end_time": "2022-10-27T01:54:27.674146Z",
     "start_time": "2022-10-27T01:54:27.660443Z"
    }
   },
   "outputs": [],
   "source": [
    "input_size = 1\n",
    "hidden_size = 1\n",
    "output_size = 1\n",
    "learning_rate = 0.001"
   ]
  },
  {
   "cell_type": "code",
   "execution_count": 7,
   "id": "23738c34",
   "metadata": {
    "ExecuteTime": {
     "end_time": "2022-10-27T01:54:27.689509Z",
     "start_time": "2022-10-27T01:54:27.675151Z"
    }
   },
   "outputs": [
    {
     "data": {
      "text/plain": [
       "torch.Size([1, 1])"
      ]
     },
     "execution_count": 7,
     "metadata": {},
     "output_type": "execute_result"
    }
   ],
   "source": [
    "w1 = torch.rand(input_size, hidden_size, requires_grad=True)\n",
    "w1.shape"
   ]
  },
  {
   "cell_type": "code",
   "execution_count": 8,
   "id": "bd463788",
   "metadata": {
    "ExecuteTime": {
     "end_time": "2022-10-27T01:54:27.720437Z",
     "start_time": "2022-10-27T01:54:27.692023Z"
    }
   },
   "outputs": [
    {
     "data": {
      "text/plain": [
       "torch.Size([1, 1])"
      ]
     },
     "execution_count": 8,
     "metadata": {},
     "output_type": "execute_result"
    }
   ],
   "source": [
    "b1 = torch.rand(hidden_size, output_size, requires_grad=True)\n",
    "b1.shape"
   ]
  },
  {
   "cell_type": "code",
   "execution_count": 9,
   "id": "798c517a",
   "metadata": {
    "ExecuteTime": {
     "end_time": "2022-10-27T01:54:27.736150Z",
     "start_time": "2022-10-27T01:54:27.722446Z"
    }
   },
   "outputs": [
    {
     "data": {
      "text/plain": [
       "tensor([[0.9435]], requires_grad=True)"
      ]
     },
     "execution_count": 9,
     "metadata": {},
     "output_type": "execute_result"
    }
   ],
   "source": [
    "w1"
   ]
  },
  {
   "cell_type": "code",
   "execution_count": 10,
   "id": "43932ca8",
   "metadata": {
    "ExecuteTime": {
     "end_time": "2022-10-27T01:54:27.751400Z",
     "start_time": "2022-10-27T01:54:27.738150Z"
    }
   },
   "outputs": [
    {
     "data": {
      "text/plain": [
       "tensor([[0.5973]], requires_grad=True)"
      ]
     },
     "execution_count": 10,
     "metadata": {},
     "output_type": "execute_result"
    }
   ],
   "source": [
    "b1"
   ]
  },
  {
   "cell_type": "code",
   "execution_count": 15,
   "id": "bb96a998",
   "metadata": {
    "ExecuteTime": {
     "end_time": "2022-10-27T01:56:20.163141Z",
     "start_time": "2022-10-27T01:56:19.904745Z"
    }
   },
   "outputs": [
    {
     "name": "stdout",
     "output_type": "stream",
     "text": [
      "100 8.24272632598877\n",
      "200 6.770336151123047\n",
      "300 6.3191938400268555\n",
      "400 6.180962085723877\n",
      "500 6.138607025146484\n",
      "600 6.125629425048828\n",
      "700 6.121653079986572\n",
      "800 6.1204352378845215\n",
      "900 6.120061874389648\n",
      "1000 6.119947910308838\n",
      "1100 6.119912147521973\n",
      "1200 6.119901657104492\n",
      "1300 6.119898319244385\n",
      "1400 6.119897842407227\n",
      "1500 6.119896411895752\n",
      "1600 6.119897365570068\n",
      "1700 6.119897365570068\n",
      "1800 6.11989688873291\n",
      "1900 6.119896411895752\n",
      "2000 6.119897365570068\n",
      "2100 6.119896411895752\n",
      "2200 6.119896411895752\n",
      "2300 6.119896411895752\n",
      "2400 6.119896411895752\n",
      "2500 6.119896411895752\n",
      "2600 6.119896411895752\n",
      "2700 6.119896411895752\n",
      "2800 6.119896411895752\n",
      "2900 6.119896411895752\n",
      "3000 6.119896411895752\n",
      "3100 6.119896411895752\n",
      "3200 6.119896411895752\n",
      "3300 6.119896411895752\n",
      "3400 6.119896411895752\n",
      "3500 6.119896411895752\n",
      "3600 6.119896411895752\n",
      "3700 6.119896411895752\n",
      "3800 6.119896411895752\n",
      "3900 6.119896411895752\n",
      "4000 6.119896411895752\n"
     ]
    }
   ],
   "source": [
    "for iter in range(1, 4001):\n",
    "    y_pred = X_train.mm(w1).clamp(min=0).add(b1)\n",
    "    loss = (y_pred - Y_train).pow(2).sum()\n",
    "\n",
    "    if iter % 100 == 0:\n",
    "        print(iter, loss.item())\n",
    "\n",
    "    loss.backward()\n",
    "\n",
    "    with torch.no_grad():\n",
    "        w1 -= learning_rate * w1.grad\n",
    "        b1 -= learning_rate * b1.grad\n",
    "        w1.grad.zero_()\n",
    "        b1.grad.zero_()"
   ]
  },
  {
   "cell_type": "code",
   "execution_count": 16,
   "id": "b0dba99d",
   "metadata": {
    "ExecuteTime": {
     "end_time": "2022-10-27T01:56:22.885926Z",
     "start_time": "2022-10-27T01:56:22.872806Z"
    }
   },
   "outputs": [
    {
     "name": "stdout",
     "output_type": "stream",
     "text": [
      "w1:  tensor([[0.1751]], requires_grad=True)\n",
      "b1:  tensor([[1.4045]], requires_grad=True)\n"
     ]
    }
   ],
   "source": [
    "print(\"w1: \", w1)\n",
    "print(\"b1: \", b1)"
   ]
  },
  {
   "cell_type": "code",
   "execution_count": 17,
   "id": "5e522c78",
   "metadata": {
    "ExecuteTime": {
     "end_time": "2022-10-27T01:56:23.987075Z",
     "start_time": "2022-10-27T01:56:23.967318Z"
    }
   },
   "outputs": [
    {
     "data": {
      "text/plain": [
       "tensor([[4.7000],\n",
       "        [2.4000],\n",
       "        [7.5000],\n",
       "        [7.1000],\n",
       "        [4.3000],\n",
       "        [7.8000],\n",
       "        [8.9000],\n",
       "        [5.2000],\n",
       "        [4.5900],\n",
       "        [2.1000],\n",
       "        [8.0000],\n",
       "        [5.0000],\n",
       "        [7.5000],\n",
       "        [5.0000],\n",
       "        [4.0000],\n",
       "        [8.0000],\n",
       "        [5.2000],\n",
       "        [4.9000],\n",
       "        [3.0000],\n",
       "        [4.7000],\n",
       "        [4.0000],\n",
       "        [4.8000],\n",
       "        [3.5000],\n",
       "        [2.1000],\n",
       "        [4.1000]])"
      ]
     },
     "execution_count": 17,
     "metadata": {},
     "output_type": "execute_result"
    }
   ],
   "source": [
    "x_train_tensor = torch.from_numpy(x_train)\n",
    "x_train_tensor"
   ]
  },
  {
   "cell_type": "code",
   "execution_count": 18,
   "id": "4b68f105",
   "metadata": {
    "ExecuteTime": {
     "end_time": "2022-10-27T01:56:25.073996Z",
     "start_time": "2022-10-27T01:56:25.061844Z"
    }
   },
   "outputs": [
    {
     "data": {
      "text/plain": [
       "tensor([[2.2273],\n",
       "        [1.8247],\n",
       "        [2.7175],\n",
       "        [2.6475],\n",
       "        [2.1573],\n",
       "        [2.7701],\n",
       "        [2.9626],\n",
       "        [2.3149],\n",
       "        [2.2081],\n",
       "        [1.7721],\n",
       "        [2.8051],\n",
       "        [2.2799],\n",
       "        [2.7175],\n",
       "        [2.2799],\n",
       "        [2.1048],\n",
       "        [2.8051],\n",
       "        [2.3149],\n",
       "        [2.2624],\n",
       "        [1.9297],\n",
       "        [2.2273],\n",
       "        [2.1048],\n",
       "        [2.2448],\n",
       "        [2.0172],\n",
       "        [1.7721],\n",
       "        [2.1223]], grad_fn=<AddBackward0>)"
      ]
     },
     "execution_count": 18,
     "metadata": {},
     "output_type": "execute_result"
    }
   ],
   "source": [
    "predicted_in_tensor = x_train_tensor.mm(w1).clamp(min=0).add(b1)\n",
    "predicted_in_tensor"
   ]
  },
  {
   "cell_type": "code",
   "execution_count": 19,
   "id": "a2e9f3dd",
   "metadata": {
    "ExecuteTime": {
     "end_time": "2022-10-27T01:57:00.055006Z",
     "start_time": "2022-10-27T01:57:00.039353Z"
    }
   },
   "outputs": [
    {
     "data": {
      "text/plain": [
       "array([[2.2273371],\n",
       "       [1.8246689],\n",
       "       [2.717542 ],\n",
       "       [2.6475127],\n",
       "       [2.1573079],\n",
       "       [2.7700639],\n",
       "       [2.9626443],\n",
       "       [2.3148737],\n",
       "       [2.208079 ],\n",
       "       [1.7721468],\n",
       "       [2.8050785],\n",
       "       [2.279859 ],\n",
       "       [2.717542 ],\n",
       "       [2.279859 ],\n",
       "       [2.104786 ],\n",
       "       [2.8050785],\n",
       "       [2.3148737],\n",
       "       [2.2623518],\n",
       "       [1.9297128],\n",
       "       [2.2273371],\n",
       "       [2.104786 ],\n",
       "       [2.2448444],\n",
       "       [2.0172493],\n",
       "       [1.7721468],\n",
       "       [2.1222932]], dtype=float32)"
      ]
     },
     "execution_count": 19,
     "metadata": {},
     "output_type": "execute_result"
    }
   ],
   "source": [
    "predicted = predicted_in_tensor.detach().numpy()\n",
    "predicted"
   ]
  },
  {
   "cell_type": "code",
   "execution_count": 20,
   "id": "d8417a67",
   "metadata": {
    "ExecuteTime": {
     "end_time": "2022-10-27T01:58:05.526352Z",
     "start_time": "2022-10-27T01:58:05.450302Z"
    }
   },
   "outputs": [
    {
     "data": {
      "image/png": "[encoded data removed]",
      "text/plain": [
       "<Figure size 576x576 with 1 Axes>"
      ]
     },
     "metadata": {
      "needs_background": "light"
     },
     "output_type": "display_data"
    }
   ],
   "source": [
    "plt.figure(figsize=(8, 8))\n",
    "plt.scatter(x_train, y_train, c=\"green\", s=250, label=\"Original Data\")\n",
    "plt.plot(x_train, predicted, label=\"Fitted LIne\")\n",
    "plt.legend()\n",
    "plt.show()"
   ]
  },
  {
   "cell_type": "code",
   "execution_count": 22,
   "id": "9d9d5da3",
   "metadata": {
    "ExecuteTime": {
     "end_time": "2022-10-27T01:59:10.682108Z",
     "start_time": "2022-10-27T01:59:10.379798Z"
    }
   },
   "outputs": [],
   "source": [
    "import sklearn\n",
    "from sklearn.linear_model import LinearRegression"
   ]
  },
  {
   "cell_type": "code",
   "execution_count": 23,
   "id": "26e8080f",
   "metadata": {
    "ExecuteTime": {
     "end_time": "2022-10-27T01:59:21.688019Z",
     "start_time": "2022-10-27T01:59:21.669004Z"
    }
   },
   "outputs": [],
   "source": [
    "reg = LinearRegression().fit(x_train, y_train)"
   ]
  },
  {
   "cell_type": "code",
   "execution_count": 24,
   "id": "294b38ff",
   "metadata": {
    "ExecuteTime": {
     "end_time": "2022-10-27T01:59:47.502263Z",
     "start_time": "2022-10-27T01:59:47.490200Z"
    }
   },
   "outputs": [
    {
     "name": "stdout",
     "output_type": "stream",
     "text": [
      "w1 with sklearn is : [[0.17507163]]\n"
     ]
    }
   ],
   "source": [
    "print(\"w1 with sklearn is :\", reg.coef_)"
   ]
  },
  {
   "cell_type": "code",
   "execution_count": 25,
   "id": "9360ad0e",
   "metadata": {
    "ExecuteTime": {
     "end_time": "2022-10-27T02:00:15.195350Z",
     "start_time": "2022-10-27T02:00:15.180270Z"
    }
   },
   "outputs": [
    {
     "name": "stdout",
     "output_type": "stream",
     "text": [
      "b1 with sklearn is:  [1.4045022]\n"
     ]
    }
   ],
   "source": [
    "print(\"b1 with sklearn is: \", reg.intercept_)"
   ]
  },
  {
   "cell_type": "code",
   "execution_count": 28,
   "id": "9a32115d",
   "metadata": {
    "ExecuteTime": {
     "end_time": "2022-10-27T02:00:44.340772Z",
     "start_time": "2022-10-27T02:00:44.324493Z"
    }
   },
   "outputs": [
    {
     "data": {
      "text/plain": [
       "array([[2.2273388],\n",
       "       [1.8246741],\n",
       "       [2.7175393],\n",
       "       [2.6475105],\n",
       "       [2.1573102],\n",
       "       [2.770061 ],\n",
       "       [2.9626396],\n",
       "       [2.3148746],\n",
       "       [2.208081 ],\n",
       "       [1.7721525],\n",
       "       [2.8050752],\n",
       "       [2.2798603],\n",
       "       [2.7175393],\n",
       "       [2.2798603],\n",
       "       [2.1047888],\n",
       "       [2.8050752],\n",
       "       [2.3148746],\n",
       "       [2.2623532],\n",
       "       [1.9297171],\n",
       "       [2.2273388],\n",
       "       [2.1047888],\n",
       "       [2.2448459],\n",
       "       [2.017253 ],\n",
       "       [1.7721525],\n",
       "       [2.1222959]], dtype=float32)"
      ]
     },
     "execution_count": 28,
     "metadata": {},
     "output_type": "execute_result"
    }
   ],
   "source": [
    "predicted = reg.predict(x_train)\n",
    "predicted"
   ]
  },
  {
   "cell_type": "code",
   "execution_count": null,
   "id": "b3b8830d",
   "metadata": {},
   "outputs": [],
   "source": []
  }
 ],
 "metadata": {
  "kernelspec": {
   "display_name": "Python 3 (ipykernel)",
   "language": "python",
   "name": "python3"
  },
  "language_info": {
   "codemirror_mode": {
    "name": "ipython",
    "version": 3
   },
   "file_extension": ".py",
   "mimetype": "text/x-python",
   "name": "python",
   "nbconvert_exporter": "python",
   "pygments_lexer": "ipython3",
   "version": "3.10.6"
  },
  "toc": {
   "base_numbering": 1,
   "nav_menu": {},
   "number_sections": true,
   "sideBar": true,
   "skip_h1_title": false,
   "title_cell": "Table of Contents",
   "title_sidebar": "Contents",
   "toc_cell": false,
   "toc_position": {},
   "toc_section_display": true,
   "toc_window_display": false
  }
 },
 "nbformat": 4,
 "nbformat_minor": 5
}
