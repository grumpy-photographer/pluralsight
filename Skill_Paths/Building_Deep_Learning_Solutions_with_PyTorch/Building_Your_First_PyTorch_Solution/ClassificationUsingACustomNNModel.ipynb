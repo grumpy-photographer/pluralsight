{
 "cells": [
  {
   "cell_type": "code",
   "execution_count": 1,
   "id": "eca1164c",
   "metadata": {
    "ExecuteTime": {
     "end_time": "2022-10-28T03:27:09.098082Z",
     "start_time": "2022-10-28T03:27:07.611009Z"
    }
   },
   "outputs": [],
   "source": [
    "import torch\n",
    "import pandas as pd\n",
    "import numpy as np\n",
    "import seaborn as sns\n",
    "import matplotlib.pyplot as plt"
   ]
  },
  {
   "cell_type": "code",
   "execution_count": 2,
   "id": "fc7d3e5e",
   "metadata": {
    "ExecuteTime": {
     "end_time": "2022-10-28T03:27:09.113002Z",
     "start_time": "2022-10-28T03:27:09.100095Z"
    }
   },
   "outputs": [],
   "source": [
    "data = pd.read_csv(\"datasets/graduate-admissions/admission_predict.csv\")"
   ]
  },
  {
   "cell_type": "code",
   "execution_count": 3,
   "id": "5f0b042c",
   "metadata": {
    "ExecuteTime": {
     "end_time": "2022-10-28T03:27:09.128033Z",
     "start_time": "2022-10-28T03:27:09.115002Z"
    }
   },
   "outputs": [
    {
     "data": {
      "text/html": [
       "<div>\n",
       "<style scoped>\n",
       "    .dataframe tbody tr th:only-of-type {\n",
       "        vertical-align: middle;\n",
       "    }\n",
       "\n",
       "    .dataframe tbody tr th {\n",
       "        vertical-align: top;\n",
       "    }\n",
       "\n",
       "    .dataframe thead th {\n",
       "        text-align: right;\n",
       "    }\n",
       "</style>\n",
       "<table border=\"1\" class=\"dataframe\">\n",
       "  <thead>\n",
       "    <tr style=\"text-align: right;\">\n",
       "      <th></th>\n",
       "      <th>Serial No.</th>\n",
       "      <th>GRE Score</th>\n",
       "      <th>TOEFL Score</th>\n",
       "      <th>University Rating</th>\n",
       "      <th>SOP</th>\n",
       "      <th>LOR</th>\n",
       "      <th>CGPA</th>\n",
       "      <th>Research</th>\n",
       "      <th>Chance of Admit</th>\n",
       "    </tr>\n",
       "  </thead>\n",
       "  <tbody>\n",
       "    <tr>\n",
       "      <th>0</th>\n",
       "      <td>1</td>\n",
       "      <td>337</td>\n",
       "      <td>118</td>\n",
       "      <td>4</td>\n",
       "      <td>4.5</td>\n",
       "      <td>4.5</td>\n",
       "      <td>9.65</td>\n",
       "      <td>1</td>\n",
       "      <td>0.92</td>\n",
       "    </tr>\n",
       "    <tr>\n",
       "      <th>1</th>\n",
       "      <td>2</td>\n",
       "      <td>324</td>\n",
       "      <td>107</td>\n",
       "      <td>4</td>\n",
       "      <td>4.0</td>\n",
       "      <td>4.5</td>\n",
       "      <td>8.87</td>\n",
       "      <td>1</td>\n",
       "      <td>0.76</td>\n",
       "    </tr>\n",
       "    <tr>\n",
       "      <th>2</th>\n",
       "      <td>3</td>\n",
       "      <td>316</td>\n",
       "      <td>104</td>\n",
       "      <td>3</td>\n",
       "      <td>3.0</td>\n",
       "      <td>3.5</td>\n",
       "      <td>8.00</td>\n",
       "      <td>1</td>\n",
       "      <td>0.72</td>\n",
       "    </tr>\n",
       "    <tr>\n",
       "      <th>3</th>\n",
       "      <td>4</td>\n",
       "      <td>322</td>\n",
       "      <td>110</td>\n",
       "      <td>3</td>\n",
       "      <td>3.5</td>\n",
       "      <td>2.5</td>\n",
       "      <td>8.67</td>\n",
       "      <td>1</td>\n",
       "      <td>0.80</td>\n",
       "    </tr>\n",
       "    <tr>\n",
       "      <th>4</th>\n",
       "      <td>5</td>\n",
       "      <td>314</td>\n",
       "      <td>103</td>\n",
       "      <td>2</td>\n",
       "      <td>2.0</td>\n",
       "      <td>3.0</td>\n",
       "      <td>8.21</td>\n",
       "      <td>0</td>\n",
       "      <td>0.65</td>\n",
       "    </tr>\n",
       "  </tbody>\n",
       "</table>\n",
       "</div>"
      ],
      "text/plain": [
       "   Serial No.  GRE Score  TOEFL Score  University Rating  SOP  LOR   CGPA  \\\n",
       "0           1        337          118                  4  4.5   4.5  9.65   \n",
       "1           2        324          107                  4  4.0   4.5  8.87   \n",
       "2           3        316          104                  3  3.0   3.5  8.00   \n",
       "3           4        322          110                  3  3.5   2.5  8.67   \n",
       "4           5        314          103                  2  2.0   3.0  8.21   \n",
       "\n",
       "   Research  Chance of Admit   \n",
       "0         1              0.92  \n",
       "1         1              0.76  \n",
       "2         1              0.72  \n",
       "3         1              0.80  \n",
       "4         0              0.65  "
      ]
     },
     "execution_count": 3,
     "metadata": {},
     "output_type": "execute_result"
    }
   ],
   "source": [
    "data.head()"
   ]
  },
  {
   "cell_type": "code",
   "execution_count": 4,
   "id": "b24f1ddc",
   "metadata": {
    "ExecuteTime": {
     "end_time": "2022-10-28T03:27:09.143681Z",
     "start_time": "2022-10-28T03:27:09.129034Z"
    }
   },
   "outputs": [
    {
     "data": {
      "text/plain": [
       "(400, 9)"
      ]
     },
     "execution_count": 4,
     "metadata": {},
     "output_type": "execute_result"
    }
   ],
   "source": [
    "data.shape"
   ]
  },
  {
   "cell_type": "code",
   "execution_count": 5,
   "id": "6d903ded",
   "metadata": {
    "ExecuteTime": {
     "end_time": "2022-10-28T03:27:09.175716Z",
     "start_time": "2022-10-28T03:27:09.144681Z"
    },
    "scrolled": true
   },
   "outputs": [
    {
     "data": {
      "text/html": [
       "<div>\n",
       "<style scoped>\n",
       "    .dataframe tbody tr th:only-of-type {\n",
       "        vertical-align: middle;\n",
       "    }\n",
       "\n",
       "    .dataframe tbody tr th {\n",
       "        vertical-align: top;\n",
       "    }\n",
       "\n",
       "    .dataframe thead th {\n",
       "        text-align: right;\n",
       "    }\n",
       "</style>\n",
       "<table border=\"1\" class=\"dataframe\">\n",
       "  <thead>\n",
       "    <tr style=\"text-align: right;\">\n",
       "      <th></th>\n",
       "      <th>Serial No.</th>\n",
       "      <th>GRE Score</th>\n",
       "      <th>TOEFL Score</th>\n",
       "      <th>University Rating</th>\n",
       "      <th>SOP</th>\n",
       "      <th>LOR</th>\n",
       "      <th>CGPA</th>\n",
       "      <th>Research</th>\n",
       "      <th>Chance of Admit</th>\n",
       "    </tr>\n",
       "  </thead>\n",
       "  <tbody>\n",
       "    <tr>\n",
       "      <th>count</th>\n",
       "      <td>400.000000</td>\n",
       "      <td>400.000000</td>\n",
       "      <td>400.000000</td>\n",
       "      <td>400.000000</td>\n",
       "      <td>400.000000</td>\n",
       "      <td>400.000000</td>\n",
       "      <td>400.000000</td>\n",
       "      <td>400.000000</td>\n",
       "      <td>400.000000</td>\n",
       "    </tr>\n",
       "    <tr>\n",
       "      <th>mean</th>\n",
       "      <td>200.500000</td>\n",
       "      <td>316.807500</td>\n",
       "      <td>107.410000</td>\n",
       "      <td>3.087500</td>\n",
       "      <td>3.400000</td>\n",
       "      <td>3.452500</td>\n",
       "      <td>8.598925</td>\n",
       "      <td>0.547500</td>\n",
       "      <td>0.724350</td>\n",
       "    </tr>\n",
       "    <tr>\n",
       "      <th>std</th>\n",
       "      <td>115.614301</td>\n",
       "      <td>11.473646</td>\n",
       "      <td>6.069514</td>\n",
       "      <td>1.143728</td>\n",
       "      <td>1.006869</td>\n",
       "      <td>0.898478</td>\n",
       "      <td>0.596317</td>\n",
       "      <td>0.498362</td>\n",
       "      <td>0.142609</td>\n",
       "    </tr>\n",
       "    <tr>\n",
       "      <th>min</th>\n",
       "      <td>1.000000</td>\n",
       "      <td>290.000000</td>\n",
       "      <td>92.000000</td>\n",
       "      <td>1.000000</td>\n",
       "      <td>1.000000</td>\n",
       "      <td>1.000000</td>\n",
       "      <td>6.800000</td>\n",
       "      <td>0.000000</td>\n",
       "      <td>0.340000</td>\n",
       "    </tr>\n",
       "    <tr>\n",
       "      <th>25%</th>\n",
       "      <td>100.750000</td>\n",
       "      <td>308.000000</td>\n",
       "      <td>103.000000</td>\n",
       "      <td>2.000000</td>\n",
       "      <td>2.500000</td>\n",
       "      <td>3.000000</td>\n",
       "      <td>8.170000</td>\n",
       "      <td>0.000000</td>\n",
       "      <td>0.640000</td>\n",
       "    </tr>\n",
       "    <tr>\n",
       "      <th>50%</th>\n",
       "      <td>200.500000</td>\n",
       "      <td>317.000000</td>\n",
       "      <td>107.000000</td>\n",
       "      <td>3.000000</td>\n",
       "      <td>3.500000</td>\n",
       "      <td>3.500000</td>\n",
       "      <td>8.610000</td>\n",
       "      <td>1.000000</td>\n",
       "      <td>0.730000</td>\n",
       "    </tr>\n",
       "    <tr>\n",
       "      <th>75%</th>\n",
       "      <td>300.250000</td>\n",
       "      <td>325.000000</td>\n",
       "      <td>112.000000</td>\n",
       "      <td>4.000000</td>\n",
       "      <td>4.000000</td>\n",
       "      <td>4.000000</td>\n",
       "      <td>9.062500</td>\n",
       "      <td>1.000000</td>\n",
       "      <td>0.830000</td>\n",
       "    </tr>\n",
       "    <tr>\n",
       "      <th>max</th>\n",
       "      <td>400.000000</td>\n",
       "      <td>340.000000</td>\n",
       "      <td>120.000000</td>\n",
       "      <td>5.000000</td>\n",
       "      <td>5.000000</td>\n",
       "      <td>5.000000</td>\n",
       "      <td>9.920000</td>\n",
       "      <td>1.000000</td>\n",
       "      <td>0.970000</td>\n",
       "    </tr>\n",
       "  </tbody>\n",
       "</table>\n",
       "</div>"
      ],
      "text/plain": [
       "       Serial No.   GRE Score  TOEFL Score  University Rating         SOP  \\\n",
       "count  400.000000  400.000000   400.000000         400.000000  400.000000   \n",
       "mean   200.500000  316.807500   107.410000           3.087500    3.400000   \n",
       "std    115.614301   11.473646     6.069514           1.143728    1.006869   \n",
       "min      1.000000  290.000000    92.000000           1.000000    1.000000   \n",
       "25%    100.750000  308.000000   103.000000           2.000000    2.500000   \n",
       "50%    200.500000  317.000000   107.000000           3.000000    3.500000   \n",
       "75%    300.250000  325.000000   112.000000           4.000000    4.000000   \n",
       "max    400.000000  340.000000   120.000000           5.000000    5.000000   \n",
       "\n",
       "             LOR         CGPA    Research  Chance of Admit   \n",
       "count  400.000000  400.000000  400.000000        400.000000  \n",
       "mean     3.452500    8.598925    0.547500          0.724350  \n",
       "std      0.898478    0.596317    0.498362          0.142609  \n",
       "min      1.000000    6.800000    0.000000          0.340000  \n",
       "25%      3.000000    8.170000    0.000000          0.640000  \n",
       "50%      3.500000    8.610000    1.000000          0.730000  \n",
       "75%      4.000000    9.062500    1.000000          0.830000  \n",
       "max      5.000000    9.920000    1.000000          0.970000  "
      ]
     },
     "execution_count": 5,
     "metadata": {},
     "output_type": "execute_result"
    }
   ],
   "source": [
    "data.describe()"
   ]
  },
  {
   "cell_type": "code",
   "execution_count": 6,
   "id": "318e455b",
   "metadata": {
    "ExecuteTime": {
     "end_time": "2022-10-28T03:27:09.191252Z",
     "start_time": "2022-10-28T03:27:09.177717Z"
    }
   },
   "outputs": [
    {
     "data": {
      "text/plain": [
       "['Serial No.',\n",
       " 'GRE Score',\n",
       " 'TOEFL Score',\n",
       " 'University Rating',\n",
       " 'SOP',\n",
       " 'LOR ',\n",
       " 'CGPA',\n",
       " 'Research',\n",
       " 'Chance of Admit ']"
      ]
     },
     "execution_count": 6,
     "metadata": {},
     "output_type": "execute_result"
    }
   ],
   "source": [
    "data.columns.to_list()"
   ]
  },
  {
   "cell_type": "code",
   "execution_count": 7,
   "id": "a7e89d74",
   "metadata": {
    "ExecuteTime": {
     "end_time": "2022-10-28T03:27:09.207099Z",
     "start_time": "2022-10-28T03:27:09.192763Z"
    }
   },
   "outputs": [],
   "source": [
    "data = data.rename(index=str, columns={\"Chance of Admit \": \"Admit_Probability\"})\n",
    "\n",
    "data = data[\n",
    "    [\n",
    "        \"GRE Score\",\n",
    "        \"TOEFL Score\",\n",
    "        \"University Rating\",\n",
    "        \"SOP\",\n",
    "        \"LOR \",\n",
    "        \"CGPA\",\n",
    "        \"Research\",\n",
    "        \"Admit_Probability\",\n",
    "    ]\n",
    "]"
   ]
  },
  {
   "cell_type": "code",
   "execution_count": 8,
   "id": "e845f140",
   "metadata": {
    "ExecuteTime": {
     "end_time": "2022-10-28T03:27:09.348812Z",
     "start_time": "2022-10-28T03:27:09.208103Z"
    }
   },
   "outputs": [
    {
     "data": {
      "image/png": "[encoded data removed]",
      "text/plain": [
       "<Figure size 576x576 with 1 Axes>"
      ]
     },
     "metadata": {
      "needs_background": "light"
     },
     "output_type": "display_data"
    }
   ],
   "source": [
    "plt.figure(figsize=(8, 8))\n",
    "fig = sns.regplot(x=\"GRE Score\", y=\"TOEFL Score\", data=data)\n",
    "plt.title(\"GRE Score vs TOEFL Score\")\n",
    "plt.show()"
   ]
  },
  {
   "cell_type": "code",
   "execution_count": 9,
   "id": "d0ea0ec2",
   "metadata": {
    "ExecuteTime": {
     "end_time": "2022-10-28T03:27:09.471448Z",
     "start_time": "2022-10-28T03:27:09.349812Z"
    }
   },
   "outputs": [
    {
     "data": {
      "image/png": "[encoded data removed]",
      "text/plain": [
       "<Figure size 576x576 with 1 Axes>"
      ]
     },
     "metadata": {
      "needs_background": "light"
     },
     "output_type": "display_data"
    }
   ],
   "source": [
    "plt.figure(figsize=(8, 8))\n",
    "\n",
    "fig = sns.regplot(x=\"GRE Score\", y=\"CGPA\", data=data)\n",
    "\n",
    "plt.title(\"GRE Score vs CGPA\")\n",
    "\n",
    "plt.show()"
   ]
  },
  {
   "cell_type": "code",
   "execution_count": 10,
   "id": "74f2f427",
   "metadata": {
    "ExecuteTime": {
     "end_time": "2022-10-28T03:27:09.581860Z",
     "start_time": "2022-10-28T03:27:09.473453Z"
    }
   },
   "outputs": [
    {
     "data": {
      "image/png": "[encoded data removed]",
      "text/plain": [
       "<Figure size 576x576 with 1 Axes>"
      ]
     },
     "metadata": {
      "needs_background": "light"
     },
     "output_type": "display_data"
    }
   ],
   "source": [
    "plt.figure(figsize=(8, 8))\n",
    "\n",
    "fig = sns.scatterplot(x=\"Admit_Probability\", y=\"CGPA\", data=data, hue=\"Research\")\n",
    "\n",
    "plt.title(\"Admit_Probability vs CGPA\")\n",
    "\n",
    "plt.xlabel(\"Admit_Probability\")\n",
    "plt.ylabel(\"CGPA\")\n",
    "\n",
    "plt.show()"
   ]
  },
  {
   "cell_type": "code",
   "execution_count": 11,
   "id": "841a51d9",
   "metadata": {
    "ExecuteTime": {
     "end_time": "2022-10-28T03:27:09.737455Z",
     "start_time": "2022-10-28T03:27:09.585864Z"
    },
    "scrolled": false
   },
   "outputs": [
    {
     "data": {
      "image/png": "[encoded data removed]",
      "text/plain": [
       "<Figure size 720x720 with 2 Axes>"
      ]
     },
     "metadata": {
      "needs_background": "light"
     },
     "output_type": "display_data"
    }
   ],
   "source": [
    "plt.figure(figsize=(10, 10))\n",
    "\n",
    "sns.heatmap(data.corr(), annot=True, linewidths=0.05, fmt=\".2f\")\n",
    "plt.show()"
   ]
  },
  {
   "cell_type": "code",
   "execution_count": 12,
   "id": "48a82a3d",
   "metadata": {
    "ExecuteTime": {
     "end_time": "2022-10-28T03:27:09.908703Z",
     "start_time": "2022-10-28T03:27:09.739455Z"
    }
   },
   "outputs": [],
   "source": [
    "from sklearn import preprocessing"
   ]
  },
  {
   "cell_type": "code",
   "execution_count": 13,
   "id": "9b08fbed",
   "metadata": {
    "ExecuteTime": {
     "end_time": "2022-10-28T03:27:09.924002Z",
     "start_time": "2022-10-28T03:27:09.909711Z"
    }
   },
   "outputs": [],
   "source": [
    "data[\n",
    "    [\"GRE Score\", \"TOEFL Score\", \"University Rating\", \"SOP\", \"LOR \", \"CGPA\"]\n",
    "] = preprocessing.scale(\n",
    "    data[[\"GRE Score\", \"TOEFL Score\", \"University Rating\", \"SOP\", \"LOR \", \"CGPA\"]]\n",
    ")"
   ]
  },
  {
   "cell_type": "code",
   "execution_count": 14,
   "id": "ba4eabbb",
   "metadata": {
    "ExecuteTime": {
     "end_time": "2022-10-28T03:27:09.940044Z",
     "start_time": "2022-10-28T03:27:09.925003Z"
    }
   },
   "outputs": [
    {
     "data": {
      "text/html": [
       "<div>\n",
       "<style scoped>\n",
       "    .dataframe tbody tr th:only-of-type {\n",
       "        vertical-align: middle;\n",
       "    }\n",
       "\n",
       "    .dataframe tbody tr th {\n",
       "        vertical-align: top;\n",
       "    }\n",
       "\n",
       "    .dataframe thead th {\n",
       "        text-align: right;\n",
       "    }\n",
       "</style>\n",
       "<table border=\"1\" class=\"dataframe\">\n",
       "  <thead>\n",
       "    <tr style=\"text-align: right;\">\n",
       "      <th></th>\n",
       "      <th>GRE Score</th>\n",
       "      <th>TOEFL Score</th>\n",
       "      <th>University Rating</th>\n",
       "      <th>SOP</th>\n",
       "      <th>LOR</th>\n",
       "      <th>CGPA</th>\n",
       "      <th>Research</th>\n",
       "      <th>Admit_Probability</th>\n",
       "    </tr>\n",
       "  </thead>\n",
       "  <tbody>\n",
       "    <tr>\n",
       "      <th>149</th>\n",
       "      <td>-0.506794</td>\n",
       "      <td>-0.232599</td>\n",
       "      <td>-0.952029</td>\n",
       "      <td>0.099442</td>\n",
       "      <td>-0.504260</td>\n",
       "      <td>-0.569076</td>\n",
       "      <td>1</td>\n",
       "      <td>0.79</td>\n",
       "    </tr>\n",
       "    <tr>\n",
       "      <th>379</th>\n",
       "      <td>-0.506794</td>\n",
       "      <td>-1.387349</td>\n",
       "      <td>-1.827457</td>\n",
       "      <td>-0.894980</td>\n",
       "      <td>-0.504260</td>\n",
       "      <td>-0.283635</td>\n",
       "      <td>1</td>\n",
       "      <td>0.71</td>\n",
       "    </tr>\n",
       "    <tr>\n",
       "      <th>250</th>\n",
       "      <td>0.278595</td>\n",
       "      <td>-0.562528</td>\n",
       "      <td>-0.076600</td>\n",
       "      <td>-0.397769</td>\n",
       "      <td>-1.061454</td>\n",
       "      <td>-0.048567</td>\n",
       "      <td>1</td>\n",
       "      <td>0.74</td>\n",
       "    </tr>\n",
       "    <tr>\n",
       "      <th>289</th>\n",
       "      <td>-0.332263</td>\n",
       "      <td>0.262293</td>\n",
       "      <td>-0.076600</td>\n",
       "      <td>0.596653</td>\n",
       "      <td>0.052933</td>\n",
       "      <td>0.673429</td>\n",
       "      <td>0</td>\n",
       "      <td>0.79</td>\n",
       "    </tr>\n",
       "    <tr>\n",
       "      <th>284</th>\n",
       "      <td>2.023903</td>\n",
       "      <td>0.757186</td>\n",
       "      <td>0.798829</td>\n",
       "      <td>1.591075</td>\n",
       "      <td>1.167321</td>\n",
       "      <td>1.781609</td>\n",
       "      <td>1</td>\n",
       "      <td>0.94</td>\n",
       "    </tr>\n",
       "    <tr>\n",
       "      <th>103</th>\n",
       "      <td>0.016799</td>\n",
       "      <td>-0.562528</td>\n",
       "      <td>-0.952029</td>\n",
       "      <td>1.093864</td>\n",
       "      <td>0.610127</td>\n",
       "      <td>-0.216473</td>\n",
       "      <td>0</td>\n",
       "      <td>0.57</td>\n",
       "    </tr>\n",
       "    <tr>\n",
       "      <th>242</th>\n",
       "      <td>0.627656</td>\n",
       "      <td>1.252078</td>\n",
       "      <td>-0.076600</td>\n",
       "      <td>0.099442</td>\n",
       "      <td>-0.504260</td>\n",
       "      <td>0.270455</td>\n",
       "      <td>1</td>\n",
       "      <td>0.70</td>\n",
       "    </tr>\n",
       "    <tr>\n",
       "      <th>178</th>\n",
       "      <td>-0.681325</td>\n",
       "      <td>0.097329</td>\n",
       "      <td>-0.076600</td>\n",
       "      <td>-0.894980</td>\n",
       "      <td>-0.504260</td>\n",
       "      <td>-0.804144</td>\n",
       "      <td>0</td>\n",
       "      <td>0.72</td>\n",
       "    </tr>\n",
       "    <tr>\n",
       "      <th>173</th>\n",
       "      <td>0.540391</td>\n",
       "      <td>0.922150</td>\n",
       "      <td>0.798829</td>\n",
       "      <td>0.596653</td>\n",
       "      <td>1.167321</td>\n",
       "      <td>1.059613</td>\n",
       "      <td>1</td>\n",
       "      <td>0.89</td>\n",
       "    </tr>\n",
       "    <tr>\n",
       "      <th>304</th>\n",
       "      <td>-0.332263</td>\n",
       "      <td>-0.232599</td>\n",
       "      <td>-0.952029</td>\n",
       "      <td>-0.894980</td>\n",
       "      <td>-1.618648</td>\n",
       "      <td>-0.283635</td>\n",
       "      <td>0</td>\n",
       "      <td>0.62</td>\n",
       "    </tr>\n",
       "  </tbody>\n",
       "</table>\n",
       "</div>"
      ],
      "text/plain": [
       "     GRE Score  TOEFL Score  University Rating       SOP      LOR       CGPA  \\\n",
       "149  -0.506794    -0.232599          -0.952029  0.099442 -0.504260 -0.569076   \n",
       "379  -0.506794    -1.387349          -1.827457 -0.894980 -0.504260 -0.283635   \n",
       "250   0.278595    -0.562528          -0.076600 -0.397769 -1.061454 -0.048567   \n",
       "289  -0.332263     0.262293          -0.076600  0.596653  0.052933  0.673429   \n",
       "284   2.023903     0.757186           0.798829  1.591075  1.167321  1.781609   \n",
       "103   0.016799    -0.562528          -0.952029  1.093864  0.610127 -0.216473   \n",
       "242   0.627656     1.252078          -0.076600  0.099442 -0.504260  0.270455   \n",
       "178  -0.681325     0.097329          -0.076600 -0.894980 -0.504260 -0.804144   \n",
       "173   0.540391     0.922150           0.798829  0.596653  1.167321  1.059613   \n",
       "304  -0.332263    -0.232599          -0.952029 -0.894980 -1.618648 -0.283635   \n",
       "\n",
       "     Research  Admit_Probability  \n",
       "149         1               0.79  \n",
       "379         1               0.71  \n",
       "250         1               0.74  \n",
       "289         0               0.79  \n",
       "284         1               0.94  \n",
       "103         0               0.57  \n",
       "242         1               0.70  \n",
       "178         0               0.72  \n",
       "173         1               0.89  \n",
       "304         0               0.62  "
      ]
     },
     "execution_count": 14,
     "metadata": {},
     "output_type": "execute_result"
    }
   ],
   "source": [
    "data.sample(10)"
   ]
  },
  {
   "cell_type": "code",
   "execution_count": 15,
   "id": "c36099db",
   "metadata": {
    "ExecuteTime": {
     "end_time": "2022-10-28T03:27:09.955105Z",
     "start_time": "2022-10-28T03:27:09.942087Z"
    }
   },
   "outputs": [],
   "source": [
    "col = [\"GRE Score\", \"TOEFL Score\", \"University Rating\", \"SOP\", \"LOR \", \"CGPA\"]\n",
    "\n",
    "features = data[col]"
   ]
  },
  {
   "cell_type": "code",
   "execution_count": 16,
   "id": "79329dbb",
   "metadata": {
    "ExecuteTime": {
     "end_time": "2022-10-28T03:27:09.971043Z",
     "start_time": "2022-10-28T03:27:09.956106Z"
    }
   },
   "outputs": [
    {
     "data": {
      "text/html": [
       "<div>\n",
       "<style scoped>\n",
       "    .dataframe tbody tr th:only-of-type {\n",
       "        vertical-align: middle;\n",
       "    }\n",
       "\n",
       "    .dataframe tbody tr th {\n",
       "        vertical-align: top;\n",
       "    }\n",
       "\n",
       "    .dataframe thead th {\n",
       "        text-align: right;\n",
       "    }\n",
       "</style>\n",
       "<table border=\"1\" class=\"dataframe\">\n",
       "  <thead>\n",
       "    <tr style=\"text-align: right;\">\n",
       "      <th></th>\n",
       "      <th>GRE Score</th>\n",
       "      <th>TOEFL Score</th>\n",
       "      <th>University Rating</th>\n",
       "      <th>SOP</th>\n",
       "      <th>LOR</th>\n",
       "      <th>CGPA</th>\n",
       "    </tr>\n",
       "  </thead>\n",
       "  <tbody>\n",
       "    <tr>\n",
       "      <th>0</th>\n",
       "      <td>1.762107</td>\n",
       "      <td>1.746971</td>\n",
       "      <td>0.798829</td>\n",
       "      <td>1.093864</td>\n",
       "      <td>1.167321</td>\n",
       "      <td>1.764818</td>\n",
       "    </tr>\n",
       "    <tr>\n",
       "      <th>1</th>\n",
       "      <td>0.627656</td>\n",
       "      <td>-0.067635</td>\n",
       "      <td>0.798829</td>\n",
       "      <td>0.596653</td>\n",
       "      <td>1.167321</td>\n",
       "      <td>0.455151</td>\n",
       "    </tr>\n",
       "    <tr>\n",
       "      <th>2</th>\n",
       "      <td>-0.070467</td>\n",
       "      <td>-0.562528</td>\n",
       "      <td>-0.076600</td>\n",
       "      <td>-0.397769</td>\n",
       "      <td>0.052933</td>\n",
       "      <td>-1.005631</td>\n",
       "    </tr>\n",
       "    <tr>\n",
       "      <th>3</th>\n",
       "      <td>0.453126</td>\n",
       "      <td>0.427257</td>\n",
       "      <td>-0.076600</td>\n",
       "      <td>0.099442</td>\n",
       "      <td>-1.061454</td>\n",
       "      <td>0.119339</td>\n",
       "    </tr>\n",
       "    <tr>\n",
       "      <th>4</th>\n",
       "      <td>-0.244998</td>\n",
       "      <td>-0.727492</td>\n",
       "      <td>-0.952029</td>\n",
       "      <td>-1.392191</td>\n",
       "      <td>-0.504260</td>\n",
       "      <td>-0.653029</td>\n",
       "    </tr>\n",
       "  </tbody>\n",
       "</table>\n",
       "</div>"
      ],
      "text/plain": [
       "   GRE Score  TOEFL Score  University Rating       SOP      LOR       CGPA\n",
       "0   1.762107     1.746971           0.798829  1.093864  1.167321  1.764818\n",
       "1   0.627656    -0.067635           0.798829  0.596653  1.167321  0.455151\n",
       "2  -0.070467    -0.562528          -0.076600 -0.397769  0.052933 -1.005631\n",
       "3   0.453126     0.427257          -0.076600  0.099442 -1.061454  0.119339\n",
       "4  -0.244998    -0.727492          -0.952029 -1.392191 -0.504260 -0.653029"
      ]
     },
     "execution_count": 16,
     "metadata": {},
     "output_type": "execute_result"
    }
   ],
   "source": [
    "features.head()"
   ]
  },
  {
   "cell_type": "code",
   "execution_count": 17,
   "id": "9cb778f2",
   "metadata": {
    "ExecuteTime": {
     "end_time": "2022-10-28T03:27:09.986401Z",
     "start_time": "2022-10-28T03:27:09.972887Z"
    }
   },
   "outputs": [
    {
     "data": {
      "text/html": [
       "<div>\n",
       "<style scoped>\n",
       "    .dataframe tbody tr th:only-of-type {\n",
       "        vertical-align: middle;\n",
       "    }\n",
       "\n",
       "    .dataframe tbody tr th {\n",
       "        vertical-align: top;\n",
       "    }\n",
       "\n",
       "    .dataframe thead th {\n",
       "        text-align: right;\n",
       "    }\n",
       "</style>\n",
       "<table border=\"1\" class=\"dataframe\">\n",
       "  <thead>\n",
       "    <tr style=\"text-align: right;\">\n",
       "      <th></th>\n",
       "      <th>Admit_Probability</th>\n",
       "    </tr>\n",
       "  </thead>\n",
       "  <tbody>\n",
       "    <tr>\n",
       "      <th>0</th>\n",
       "      <td>0.92</td>\n",
       "    </tr>\n",
       "    <tr>\n",
       "      <th>1</th>\n",
       "      <td>0.76</td>\n",
       "    </tr>\n",
       "    <tr>\n",
       "      <th>2</th>\n",
       "      <td>0.72</td>\n",
       "    </tr>\n",
       "    <tr>\n",
       "      <th>3</th>\n",
       "      <td>0.80</td>\n",
       "    </tr>\n",
       "    <tr>\n",
       "      <th>4</th>\n",
       "      <td>0.65</td>\n",
       "    </tr>\n",
       "  </tbody>\n",
       "</table>\n",
       "</div>"
      ],
      "text/plain": [
       "   Admit_Probability\n",
       "0               0.92\n",
       "1               0.76\n",
       "2               0.72\n",
       "3               0.80\n",
       "4               0.65"
      ]
     },
     "execution_count": 17,
     "metadata": {},
     "output_type": "execute_result"
    }
   ],
   "source": [
    "target = data[[\"Admit_Probability\"]]\n",
    "target.head()"
   ]
  },
  {
   "cell_type": "code",
   "execution_count": 18,
   "id": "f3cfc88e",
   "metadata": {
    "ExecuteTime": {
     "end_time": "2022-10-28T03:27:10.001911Z",
     "start_time": "2022-10-28T03:27:09.987402Z"
    }
   },
   "outputs": [],
   "source": [
    "y = target.copy()"
   ]
  },
  {
   "cell_type": "code",
   "execution_count": 19,
   "id": "3ed58cf5",
   "metadata": {
    "ExecuteTime": {
     "end_time": "2022-10-28T03:27:10.017072Z",
     "start_time": "2022-10-28T03:27:10.003912Z"
    }
   },
   "outputs": [],
   "source": [
    "y.loc[y[\"Admit_Probability\"] >= 0.80] = 2\n",
    "y.loc[(y[\"Admit_Probability\"] < 0.80) & (y[\"Admit_Probability\"] >= 0.60)] = 1\n",
    "y.loc[y[\"Admit_Probability\"] < 0.60] = 0"
   ]
  },
  {
   "cell_type": "code",
   "execution_count": 20,
   "id": "b8d8a101",
   "metadata": {
    "ExecuteTime": {
     "end_time": "2022-10-28T03:27:10.032250Z",
     "start_time": "2022-10-28T03:27:10.019073Z"
    }
   },
   "outputs": [],
   "source": [
    "target = y"
   ]
  },
  {
   "cell_type": "code",
   "execution_count": 21,
   "id": "b7c6cbd1",
   "metadata": {
    "ExecuteTime": {
     "end_time": "2022-10-28T03:27:10.047361Z",
     "start_time": "2022-10-28T03:27:10.035857Z"
    }
   },
   "outputs": [
    {
     "data": {
      "text/plain": [
       "array([2., 1., 0.])"
      ]
     },
     "execution_count": 21,
     "metadata": {},
     "output_type": "execute_result"
    }
   ],
   "source": [
    "target[\"Admit_Probability\"].unique()"
   ]
  },
  {
   "cell_type": "code",
   "execution_count": 22,
   "id": "c15b4409",
   "metadata": {
    "ExecuteTime": {
     "end_time": "2022-10-28T03:27:10.094248Z",
     "start_time": "2022-10-28T03:27:10.053430Z"
    }
   },
   "outputs": [],
   "source": [
    "from sklearn.model_selection import train_test_split"
   ]
  },
  {
   "cell_type": "code",
   "execution_count": 23,
   "id": "c1161620",
   "metadata": {
    "ExecuteTime": {
     "end_time": "2022-10-28T03:27:10.110140Z",
     "start_time": "2022-10-28T03:27:10.095247Z"
    }
   },
   "outputs": [],
   "source": [
    "X_train, x_test, Y_train, y_test = train_test_split(features, target, test_size=0.2)"
   ]
  },
  {
   "cell_type": "code",
   "execution_count": 24,
   "id": "a22be45b",
   "metadata": {
    "ExecuteTime": {
     "end_time": "2022-10-28T03:27:10.126020Z",
     "start_time": "2022-10-28T03:27:10.111142Z"
    }
   },
   "outputs": [],
   "source": [
    "Xtrain = torch.from_numpy(X_train.values).float()\n",
    "Xtest = torch.from_numpy(x_test.values).float()"
   ]
  },
  {
   "cell_type": "code",
   "execution_count": 25,
   "id": "a6d06fe2",
   "metadata": {
    "ExecuteTime": {
     "end_time": "2022-10-28T03:27:10.142035Z",
     "start_time": "2022-10-28T03:27:10.128020Z"
    }
   },
   "outputs": [
    {
     "data": {
      "text/plain": [
       "torch.Size([320, 6])"
      ]
     },
     "execution_count": 25,
     "metadata": {},
     "output_type": "execute_result"
    }
   ],
   "source": [
    "Xtrain.shape"
   ]
  },
  {
   "cell_type": "code",
   "execution_count": 26,
   "id": "8cae0147",
   "metadata": {
    "ExecuteTime": {
     "end_time": "2022-10-28T03:27:10.158012Z",
     "start_time": "2022-10-28T03:27:10.144036Z"
    }
   },
   "outputs": [
    {
     "data": {
      "text/plain": [
       "((320, 1), (80, 1))"
      ]
     },
     "execution_count": 26,
     "metadata": {},
     "output_type": "execute_result"
    }
   ],
   "source": [
    "Y_train.shape, y_test.shape"
   ]
  },
  {
   "cell_type": "code",
   "execution_count": 27,
   "id": "6984e734",
   "metadata": {
    "ExecuteTime": {
     "end_time": "2022-10-28T03:27:10.172735Z",
     "start_time": "2022-10-28T03:27:10.160013Z"
    }
   },
   "outputs": [],
   "source": [
    "Ytrain = torch.from_numpy(Y_train.values).view(1, -1)[0].long()\n",
    "Ytest = torch.from_numpy(y_test.values).view(1, -1)[0].long()"
   ]
  },
  {
   "cell_type": "code",
   "execution_count": 28,
   "id": "e3904bb5",
   "metadata": {
    "ExecuteTime": {
     "end_time": "2022-10-28T03:27:10.188242Z",
     "start_time": "2022-10-28T03:27:10.174735Z"
    }
   },
   "outputs": [
    {
     "data": {
      "text/plain": [
       "(torch.Tensor, torch.Tensor)"
      ]
     },
     "execution_count": 28,
     "metadata": {},
     "output_type": "execute_result"
    }
   ],
   "source": [
    "type(Ytrain), type(Ytest)"
   ]
  },
  {
   "cell_type": "code",
   "execution_count": 29,
   "id": "b4d092af",
   "metadata": {
    "ExecuteTime": {
     "end_time": "2022-10-28T03:27:10.203753Z",
     "start_time": "2022-10-28T03:27:10.190240Z"
    }
   },
   "outputs": [
    {
     "data": {
      "text/plain": [
       "(torch.Size([320]), torch.Size([80]))"
      ]
     },
     "execution_count": 29,
     "metadata": {},
     "output_type": "execute_result"
    }
   ],
   "source": [
    "Ytrain.shape, Ytest.shape"
   ]
  },
  {
   "cell_type": "code",
   "execution_count": 30,
   "id": "5da51637",
   "metadata": {
    "ExecuteTime": {
     "end_time": "2022-10-28T03:27:10.219066Z",
     "start_time": "2022-10-28T03:27:10.205752Z"
    }
   },
   "outputs": [],
   "source": [
    "import torch.nn as nn\n",
    "import torch.nn.functional as F"
   ]
  },
  {
   "cell_type": "code",
   "execution_count": 31,
   "id": "759e80de",
   "metadata": {
    "ExecuteTime": {
     "end_time": "2022-10-28T03:27:10.234886Z",
     "start_time": "2022-10-28T03:27:10.221067Z"
    }
   },
   "outputs": [],
   "source": [
    "input_size = Xtrain.shape[1]\n",
    "output_size = len(target[\"Admit_Probability\"].unique())"
   ]
  },
  {
   "cell_type": "code",
   "execution_count": 32,
   "id": "9d7e6b31",
   "metadata": {
    "ExecuteTime": {
     "end_time": "2022-10-28T03:27:10.251576Z",
     "start_time": "2022-10-28T03:27:10.239106Z"
    }
   },
   "outputs": [],
   "source": [
    "class Net(nn.Module):\n",
    "    def __init__(self, hidden_size, activation_fn=\"relu\", apply_dropout=False):\n",
    "        super(Net, self).__init__()\n",
    "\n",
    "        self.fc1 = nn.Linear(input_size, hidden_size)\n",
    "        self.fc2 = nn.Linear(hidden_size, hidden_size)\n",
    "        self.fc3 = nn.Linear(hidden_size, output_size)\n",
    "\n",
    "        self.hidden_size = hidden_size\n",
    "        self.activation_fn = activation_fn\n",
    "\n",
    "        self.dropout = None\n",
    "        if apply_dropout:\n",
    "            self.dropout = nn.Dropout(0.2)\n",
    "\n",
    "    def forward(self, x):\n",
    "\n",
    "        activation_fn = None\n",
    "        if self.activation_fn == \"sigmoid\":\n",
    "            activation_fn = F.torch.sigmoid\n",
    "\n",
    "        elif self.activation_fn == \"tanh\":\n",
    "            activation_fn = F.torch.tanh\n",
    "\n",
    "        elif self.activation_fn == \"relu\":\n",
    "            activation_fn = F.relu\n",
    "\n",
    "        x = activation_fn(self.fc1(x))\n",
    "        x = activation_fn(self.fc2(x))\n",
    "\n",
    "        if self.dropout != None:\n",
    "            x = self.dropout(x)\n",
    "\n",
    "        x = self.fc3(x)\n",
    "        return F.log_softmax(x, dim=-1)"
   ]
  },
  {
   "cell_type": "code",
   "execution_count": 33,
   "id": "744dcda2",
   "metadata": {
    "ExecuteTime": {
     "end_time": "2022-10-28T03:27:10.267019Z",
     "start_time": "2022-10-28T03:27:10.254358Z"
    }
   },
   "outputs": [],
   "source": [
    "import torch.optim as optim"
   ]
  },
  {
   "cell_type": "code",
   "execution_count": 34,
   "id": "8966736e",
   "metadata": {
    "ExecuteTime": {
     "end_time": "2022-10-28T03:27:10.283111Z",
     "start_time": "2022-10-28T03:27:10.270018Z"
    }
   },
   "outputs": [],
   "source": [
    "def train_and_evaluate_model(model, learn_rate=0.001):\n",
    "    epoch_data = []\n",
    "    epochs = 1001\n",
    "\n",
    "    optimizer = optim.Adam(model.parameters(), lr=learn_rate)\n",
    "\n",
    "    loss_fn = nn.NLLLoss()\n",
    "\n",
    "    test_accuracy = 0.0\n",
    "    for epoch in range(1, epochs):\n",
    "\n",
    "        optimizer.zero_grad()\n",
    "\n",
    "        Ypred = model(Xtrain)\n",
    "\n",
    "        loss = loss_fn(Ypred, Ytrain)\n",
    "        loss.backward()\n",
    "\n",
    "        optimizer.step()\n",
    "\n",
    "        Ypred_test = model(Xtest)\n",
    "        loss_test = loss_fn(Ypred_test, Ytest)\n",
    "\n",
    "        _, pred = Ypred_test.data.max(1)\n",
    "\n",
    "        test_accuracy = pred.eq(Ytest.data).sum().item() / y_test.values.size\n",
    "\n",
    "        epoch_data.append(\n",
    "            [epoch, loss.data.item(), loss_test.data.item(), test_accuracy]\n",
    "        )\n",
    "\n",
    "        if epoch % 100 == 0:\n",
    "            print(\n",
    "                \"epoch - %d (%d%%) train loss - %.2f test loss - %.2f Test accuracy - %.4f\"\n",
    "                % (\n",
    "                    epoch,\n",
    "                    epoch / 150 * 10,\n",
    "                    loss.data.item(),\n",
    "                    loss_test.data.item(),\n",
    "                    test_accuracy,\n",
    "                )\n",
    "            )\n",
    "\n",
    "    return {\n",
    "        \"model\": model,\n",
    "        \"epoch_data\": epoch_data,\n",
    "        \"num_epochs\": epochs,\n",
    "        \"optimizer\": optimizer,\n",
    "        \"loss_fn\": loss_fn,\n",
    "        \"test_accuracy\": test_accuracy,\n",
    "        \"_, pred\": Ypred_test.data.max(1),\n",
    "        \"actual_test_label\": Ytest,\n",
    "    }"
   ]
  },
  {
   "cell_type": "code",
   "execution_count": 35,
   "id": "37e795d8",
   "metadata": {
    "ExecuteTime": {
     "end_time": "2022-10-28T03:27:10.299117Z",
     "start_time": "2022-10-28T03:27:10.285114Z"
    }
   },
   "outputs": [
    {
     "data": {
      "text/plain": [
       "Net(\n",
       "  (fc1): Linear(in_features=6, out_features=3, bias=True)\n",
       "  (fc2): Linear(in_features=3, out_features=3, bias=True)\n",
       "  (fc3): Linear(in_features=3, out_features=3, bias=True)\n",
       ")"
      ]
     },
     "execution_count": 35,
     "metadata": {},
     "output_type": "execute_result"
    }
   ],
   "source": [
    "net = Net(hidden_size=3, activation_fn=\"sigmoid\", apply_dropout=False)\n",
    "net"
   ]
  },
  {
   "cell_type": "code",
   "execution_count": 36,
   "id": "f9c4e555",
   "metadata": {
    "ExecuteTime": {
     "end_time": "2022-10-28T03:27:11.138524Z",
     "start_time": "2022-10-28T03:27:10.301116Z"
    }
   },
   "outputs": [
    {
     "name": "stdout",
     "output_type": "stream",
     "text": [
      "epoch - 100 (6%) train loss - 1.04 test loss - 1.03 Test accuracy - 0.5000\n",
      "epoch - 200 (13%) train loss - 1.01 test loss - 1.01 Test accuracy - 0.5000\n",
      "epoch - 300 (20%) train loss - 0.98 test loss - 0.98 Test accuracy - 0.5000\n",
      "epoch - 400 (26%) train loss - 0.95 test loss - 0.95 Test accuracy - 0.5000\n",
      "epoch - 500 (33%) train loss - 0.91 test loss - 0.92 Test accuracy - 0.5000\n",
      "epoch - 600 (40%) train loss - 0.86 test loss - 0.87 Test accuracy - 0.6875\n",
      "epoch - 700 (46%) train loss - 0.81 test loss - 0.83 Test accuracy - 0.6875\n",
      "epoch - 800 (53%) train loss - 0.76 test loss - 0.79 Test accuracy - 0.6875\n",
      "epoch - 900 (60%) train loss - 0.72 test loss - 0.75 Test accuracy - 0.6875\n",
      "epoch - 1000 (66%) train loss - 0.69 test loss - 0.72 Test accuracy - 0.6875\n"
     ]
    }
   ],
   "source": [
    "result_3_sigmoid = train_and_evaluate_model(net)"
   ]
  },
  {
   "cell_type": "code",
   "execution_count": 37,
   "id": "37fcc47a",
   "metadata": {
    "ExecuteTime": {
     "end_time": "2022-10-28T03:27:11.154514Z",
     "start_time": "2022-10-28T03:27:11.139525Z"
    }
   },
   "outputs": [
    {
     "data": {
      "text/plain": [
       "Net(\n",
       "  (fc1): Linear(in_features=6, out_features=3, bias=True)\n",
       "  (fc2): Linear(in_features=3, out_features=3, bias=True)\n",
       "  (fc3): Linear(in_features=3, out_features=3, bias=True)\n",
       "  (dropout): Dropout(p=0.2, inplace=False)\n",
       ")"
      ]
     },
     "execution_count": 37,
     "metadata": {},
     "output_type": "execute_result"
    }
   ],
   "source": [
    "net = Net(hidden_size=3, activation_fn=\"sigmoid\", apply_dropout=True)\n",
    "net"
   ]
  },
  {
   "cell_type": "code",
   "execution_count": 38,
   "id": "475c249f",
   "metadata": {
    "ExecuteTime": {
     "end_time": "2022-10-28T03:27:12.128866Z",
     "start_time": "2022-10-28T03:27:11.155516Z"
    }
   },
   "outputs": [
    {
     "name": "stdout",
     "output_type": "stream",
     "text": [
      "epoch - 100 (6%) train loss - 1.15 test loss - 1.15 Test accuracy - 0.2625\n",
      "epoch - 200 (13%) train loss - 1.06 test loss - 1.06 Test accuracy - 0.4750\n",
      "epoch - 300 (20%) train loss - 1.02 test loss - 1.02 Test accuracy - 0.4875\n",
      "epoch - 400 (26%) train loss - 0.99 test loss - 1.03 Test accuracy - 0.4625\n",
      "epoch - 500 (33%) train loss - 0.96 test loss - 0.94 Test accuracy - 0.5250\n",
      "epoch - 600 (40%) train loss - 0.92 test loss - 0.93 Test accuracy - 0.4500\n",
      "epoch - 700 (46%) train loss - 0.86 test loss - 0.88 Test accuracy - 0.5750\n",
      "epoch - 800 (53%) train loss - 0.83 test loss - 0.80 Test accuracy - 0.7000\n",
      "epoch - 900 (60%) train loss - 0.78 test loss - 0.82 Test accuracy - 0.6500\n",
      "epoch - 1000 (66%) train loss - 0.75 test loss - 0.79 Test accuracy - 0.6250\n"
     ]
    }
   ],
   "source": [
    "result_3_sigmoid = train_and_evaluate_model(net)"
   ]
  },
  {
   "cell_type": "code",
   "execution_count": 39,
   "id": "c89f222f",
   "metadata": {
    "ExecuteTime": {
     "end_time": "2022-10-28T03:27:12.143963Z",
     "start_time": "2022-10-28T03:27:12.132376Z"
    }
   },
   "outputs": [
    {
     "data": {
      "text/plain": [
       "Net(\n",
       "  (fc1): Linear(in_features=6, out_features=50, bias=True)\n",
       "  (fc2): Linear(in_features=50, out_features=50, bias=True)\n",
       "  (fc3): Linear(in_features=50, out_features=3, bias=True)\n",
       ")"
      ]
     },
     "execution_count": 39,
     "metadata": {},
     "output_type": "execute_result"
    }
   ],
   "source": [
    "net = Net(hidden_size=50, activation_fn=\"tanh\")\n",
    "net"
   ]
  },
  {
   "cell_type": "code",
   "execution_count": 40,
   "id": "00a72409",
   "metadata": {
    "ExecuteTime": {
     "end_time": "2022-10-28T03:27:13.588436Z",
     "start_time": "2022-10-28T03:27:12.144892Z"
    }
   },
   "outputs": [
    {
     "name": "stdout",
     "output_type": "stream",
     "text": [
      "epoch - 100 (6%) train loss - 0.43 test loss - 0.51 Test accuracy - 0.7750\n",
      "epoch - 200 (13%) train loss - 0.40 test loss - 0.51 Test accuracy - 0.8000\n",
      "epoch - 300 (20%) train loss - 0.38 test loss - 0.52 Test accuracy - 0.8125\n",
      "epoch - 400 (26%) train loss - 0.36 test loss - 0.54 Test accuracy - 0.7875\n",
      "epoch - 500 (33%) train loss - 0.33 test loss - 0.55 Test accuracy - 0.7750\n",
      "epoch - 600 (40%) train loss - 0.29 test loss - 0.56 Test accuracy - 0.7625\n",
      "epoch - 700 (46%) train loss - 0.24 test loss - 0.58 Test accuracy - 0.7500\n",
      "epoch - 800 (53%) train loss - 0.19 test loss - 0.62 Test accuracy - 0.7375\n",
      "epoch - 900 (60%) train loss - 0.13 test loss - 0.69 Test accuracy - 0.7125\n",
      "epoch - 1000 (66%) train loss - 0.09 test loss - 0.80 Test accuracy - 0.7250\n"
     ]
    }
   ],
   "source": [
    "result_50_tanh = train_and_evaluate_model(net)"
   ]
  },
  {
   "cell_type": "code",
   "execution_count": 41,
   "id": "ef611e88",
   "metadata": {
    "ExecuteTime": {
     "end_time": "2022-10-28T03:27:13.604141Z",
     "start_time": "2022-10-28T03:27:13.589446Z"
    }
   },
   "outputs": [
    {
     "data": {
      "text/plain": [
       "Net(\n",
       "  (fc1): Linear(in_features=6, out_features=1000, bias=True)\n",
       "  (fc2): Linear(in_features=1000, out_features=1000, bias=True)\n",
       "  (fc3): Linear(in_features=1000, out_features=3, bias=True)\n",
       ")"
      ]
     },
     "execution_count": 41,
     "metadata": {},
     "output_type": "execute_result"
    }
   ],
   "source": [
    "net = Net(hidden_size=1000, activation_fn=\"tanh\")\n",
    "net"
   ]
  },
  {
   "cell_type": "code",
   "execution_count": 42,
   "id": "9323c61e",
   "metadata": {
    "ExecuteTime": {
     "end_time": "2022-10-28T03:27:25.989431Z",
     "start_time": "2022-10-28T03:27:13.605139Z"
    }
   },
   "outputs": [
    {
     "name": "stdout",
     "output_type": "stream",
     "text": [
      "epoch - 100 (6%) train loss - 0.28 test loss - 0.56 Test accuracy - 0.8000\n",
      "epoch - 200 (13%) train loss - 0.06 test loss - 0.76 Test accuracy - 0.7500\n",
      "epoch - 300 (20%) train loss - 0.02 test loss - 0.99 Test accuracy - 0.7750\n",
      "epoch - 400 (26%) train loss - 0.01 test loss - 1.13 Test accuracy - 0.7750\n",
      "epoch - 500 (33%) train loss - 0.00 test loss - 1.22 Test accuracy - 0.7750\n",
      "epoch - 600 (40%) train loss - 0.00 test loss - 1.28 Test accuracy - 0.7750\n",
      "epoch - 700 (46%) train loss - 0.00 test loss - 1.33 Test accuracy - 0.7750\n",
      "epoch - 800 (53%) train loss - 0.00 test loss - 1.38 Test accuracy - 0.7750\n",
      "epoch - 900 (60%) train loss - 0.00 test loss - 1.42 Test accuracy - 0.7750\n",
      "epoch - 1000 (66%) train loss - 0.00 test loss - 1.45 Test accuracy - 0.7750\n"
     ]
    }
   ],
   "source": [
    "result_1000_tanh = train_and_evaluate_model(net)"
   ]
  },
  {
   "cell_type": "code",
   "execution_count": 43,
   "id": "11217699",
   "metadata": {
    "ExecuteTime": {
     "end_time": "2022-10-28T03:27:26.004808Z",
     "start_time": "2022-10-28T03:27:25.990940Z"
    }
   },
   "outputs": [
    {
     "data": {
      "text/plain": [
       "Net(\n",
       "  (fc1): Linear(in_features=6, out_features=1000, bias=True)\n",
       "  (fc2): Linear(in_features=1000, out_features=1000, bias=True)\n",
       "  (fc3): Linear(in_features=1000, out_features=3, bias=True)\n",
       "  (dropout): Dropout(p=0.2, inplace=False)\n",
       ")"
      ]
     },
     "execution_count": 43,
     "metadata": {},
     "output_type": "execute_result"
    }
   ],
   "source": [
    "net = Net(hidden_size=1000, activation_fn=\"tanh\", apply_dropout=True)\n",
    "net"
   ]
  },
  {
   "cell_type": "code",
   "execution_count": 44,
   "id": "d95115f6",
   "metadata": {
    "ExecuteTime": {
     "end_time": "2022-10-28T03:27:40.472113Z",
     "start_time": "2022-10-28T03:27:26.006808Z"
    }
   },
   "outputs": [
    {
     "name": "stdout",
     "output_type": "stream",
     "text": [
      "epoch - 100 (6%) train loss - 0.29 test loss - 0.55 Test accuracy - 0.7750\n",
      "epoch - 200 (13%) train loss - 0.10 test loss - 0.81 Test accuracy - 0.7500\n",
      "epoch - 300 (20%) train loss - 0.04 test loss - 0.94 Test accuracy - 0.7750\n",
      "epoch - 400 (26%) train loss - 0.01 test loss - 1.07 Test accuracy - 0.7500\n",
      "epoch - 500 (33%) train loss - 0.01 test loss - 1.26 Test accuracy - 0.7625\n",
      "epoch - 600 (40%) train loss - 0.01 test loss - 1.36 Test accuracy - 0.7375\n",
      "epoch - 700 (46%) train loss - 0.00 test loss - 1.40 Test accuracy - 0.7375\n",
      "epoch - 800 (53%) train loss - 0.00 test loss - 1.41 Test accuracy - 0.7875\n",
      "epoch - 900 (60%) train loss - 0.00 test loss - 1.57 Test accuracy - 0.7500\n",
      "epoch - 1000 (66%) train loss - 0.00 test loss - 1.40 Test accuracy - 0.7875\n"
     ]
    }
   ],
   "source": [
    "result_1000_tanh = train_and_evaluate_model(net)"
   ]
  },
  {
   "cell_type": "code",
   "execution_count": 45,
   "id": "4512818b",
   "metadata": {
    "ExecuteTime": {
     "end_time": "2022-10-28T03:27:40.487624Z",
     "start_time": "2022-10-28T03:27:40.474113Z"
    }
   },
   "outputs": [
    {
     "data": {
      "text/plain": [
       "Net(\n",
       "  (fc1): Linear(in_features=6, out_features=100, bias=True)\n",
       "  (fc2): Linear(in_features=100, out_features=100, bias=True)\n",
       "  (fc3): Linear(in_features=100, out_features=3, bias=True)\n",
       ")"
      ]
     },
     "execution_count": 45,
     "metadata": {},
     "output_type": "execute_result"
    }
   ],
   "source": [
    "net = Net(hidden_size=100, activation_fn=\"sigmoid\")\n",
    "net"
   ]
  },
  {
   "cell_type": "code",
   "execution_count": 46,
   "id": "c23409ad",
   "metadata": {
    "ExecuteTime": {
     "end_time": "2022-10-28T03:27:42.733880Z",
     "start_time": "2022-10-28T03:27:40.489624Z"
    }
   },
   "outputs": [
    {
     "name": "stdout",
     "output_type": "stream",
     "text": [
      "epoch - 100 (6%) train loss - 0.55 test loss - 0.59 Test accuracy - 0.7125\n",
      "epoch - 200 (13%) train loss - 0.46 test loss - 0.52 Test accuracy - 0.8125\n",
      "epoch - 300 (20%) train loss - 0.43 test loss - 0.50 Test accuracy - 0.8125\n",
      "epoch - 400 (26%) train loss - 0.42 test loss - 0.49 Test accuracy - 0.7875\n",
      "epoch - 500 (33%) train loss - 0.41 test loss - 0.48 Test accuracy - 0.7875\n",
      "epoch - 600 (40%) train loss - 0.41 test loss - 0.48 Test accuracy - 0.8000\n",
      "epoch - 700 (46%) train loss - 0.40 test loss - 0.48 Test accuracy - 0.8000\n",
      "epoch - 800 (53%) train loss - 0.40 test loss - 0.47 Test accuracy - 0.8000\n",
      "epoch - 900 (60%) train loss - 0.39 test loss - 0.47 Test accuracy - 0.8000\n",
      "epoch - 1000 (66%) train loss - 0.39 test loss - 0.48 Test accuracy - 0.8000\n"
     ]
    }
   ],
   "source": [
    "result_100_tanh = train_and_evaluate_model(net)"
   ]
  },
  {
   "cell_type": "code",
   "execution_count": 47,
   "id": "9de2b1f0",
   "metadata": {
    "ExecuteTime": {
     "end_time": "2022-10-28T03:27:42.749547Z",
     "start_time": "2022-10-28T03:27:42.735884Z"
    }
   },
   "outputs": [],
   "source": [
    "result_model = result_50_tanh"
   ]
  },
  {
   "cell_type": "code",
   "execution_count": 48,
   "id": "0de58beb",
   "metadata": {
    "ExecuteTime": {
     "end_time": "2022-10-28T03:27:42.765204Z",
     "start_time": "2022-10-28T03:27:42.751925Z"
    }
   },
   "outputs": [],
   "source": [
    "df_epochs_data = pd.DataFrame(\n",
    "    result_model[\"epoch_data\"], columns=[\"epoch\", \"train_loss\", \"test_loss\", \"accuracy\"]\n",
    ")"
   ]
  },
  {
   "cell_type": "code",
   "execution_count": 49,
   "id": "fc2a5c3c",
   "metadata": {
    "ExecuteTime": {
     "end_time": "2022-10-28T03:27:42.906936Z",
     "start_time": "2022-10-28T03:27:42.768204Z"
    }
   },
   "outputs": [
    {
     "data": {
      "image/png": "[encoded data removed]",
      "text/plain": [
       "<Figure size 864x576 with 2 Axes>"
      ]
     },
     "metadata": {
      "needs_background": "light"
     },
     "output_type": "display_data"
    }
   ],
   "source": [
    "f, (ax1, ax2) = plt.subplots(1, 2, figsize=(12, 8))\n",
    "\n",
    "df_epochs_data[[\"train_loss\", \"test_loss\"]].plot(ax=ax1)\n",
    "df_epochs_data[[\"accuracy\"]].plot(ax=ax2)\n",
    "\n",
    "plt.ylim(bottom=0.5)\n",
    "plt.show()"
   ]
  },
  {
   "cell_type": "code",
   "execution_count": null,
   "id": "0975f46f",
   "metadata": {},
   "outputs": [],
   "source": []
  }
 ],
 "metadata": {
  "kernelspec": {
   "display_name": "Python 3 (ipykernel)",
   "language": "python",
   "name": "python3"
  },
  "language_info": {
   "codemirror_mode": {
    "name": "ipython",
    "version": 3
   },
   "file_extension": ".py",
   "mimetype": "text/x-python",
   "name": "python",
   "nbconvert_exporter": "python",
   "pygments_lexer": "ipython3",
   "version": "3.10.6"
  },
  "toc": {
   "base_numbering": 1,
   "nav_menu": {},
   "number_sections": true,
   "sideBar": true,
   "skip_h1_title": false,
   "title_cell": "Table of Contents",
   "title_sidebar": "Contents",
   "toc_cell": false,
   "toc_position": {},
   "toc_section_display": true,
   "toc_window_display": false
  }
 },
 "nbformat": 4,
 "nbformat_minor": 5
}
