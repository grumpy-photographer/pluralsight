{
 "cells": [
  {
   "cell_type": "markdown",
   "id": "67004a2d",
   "metadata": {},
   "source": [
    "Ridge regression adds a regularization term as a penalty to the regression loss function to prevent overfitting"
   ]
  },
  {
   "cell_type": "code",
   "execution_count": 1,
   "id": "c3a05f8b",
   "metadata": {
    "ExecuteTime": {
     "end_time": "2022-10-27T02:24:57.010075Z",
     "start_time": "2022-10-27T02:24:56.670125Z"
    }
   },
   "outputs": [],
   "source": [
    "import numpy as np\n",
    "import matplotlib.pyplot as plt"
   ]
  },
  {
   "cell_type": "code",
   "execution_count": 2,
   "id": "c6671bc2",
   "metadata": {
    "ExecuteTime": {
     "end_time": "2022-10-27T02:24:57.025375Z",
     "start_time": "2022-10-27T02:24:57.011076Z"
    }
   },
   "outputs": [],
   "source": [
    "x_train = np.array([[4.7], [2.4], [7.5], [7.1], [4.3], [7.8], [8.9], [5.2],\n",
    "                    [4.59], [2.1], [8], [5], [7.5], [5], [4], [8], [5.2],\n",
    "                    [4.9], [3], [4.7], [4], [4.8], [3.5], [2.1], [4.1]],\n",
    "                   dtype=np.float32)\n",
    "\n",
    "y_train = np.array([[2.6], [1.6], [3.09], [2.4], [2.4], [3.3], [2.6], [1.96],\n",
    "                    [3.13], [1.76], [3.2], [2.1], [1.6], [2.5], [2.2], [2.75],\n",
    "                    [2.4], [1.8], [1], [2], [1.6], [2.4], [2.6], [1.5], [3.1]],\n",
    "                   dtype=np.float32)"
   ]
  },
  {
   "cell_type": "code",
   "execution_count": 3,
   "id": "8af7aafc",
   "metadata": {
    "ExecuteTime": {
     "end_time": "2022-10-27T02:24:57.102828Z",
     "start_time": "2022-10-27T02:24:57.028240Z"
    }
   },
   "outputs": [
    {
     "data": {
      "image/png": "[encoded data removed]",
      "text/plain": [
       "<Figure size 576x576 with 1 Axes>"
      ]
     },
     "metadata": {
      "needs_background": "light"
     },
     "output_type": "display_data"
    }
   ],
   "source": [
    "plt.figure(figsize=(8, 8))\n",
    "plt.scatter(x_train, y_train, c='green', s=250, label='Original Data')\n",
    "plt.show()"
   ]
  },
  {
   "cell_type": "code",
   "execution_count": 4,
   "id": "2a90b8a4",
   "metadata": {
    "ExecuteTime": {
     "end_time": "2022-10-27T02:24:57.630918Z",
     "start_time": "2022-10-27T02:24:57.104442Z"
    }
   },
   "outputs": [],
   "source": [
    "import torch"
   ]
  },
  {
   "cell_type": "code",
   "execution_count": 5,
   "id": "5e2b0a15",
   "metadata": {
    "ExecuteTime": {
     "end_time": "2022-10-27T02:24:57.646191Z",
     "start_time": "2022-10-27T02:24:57.632919Z"
    }
   },
   "outputs": [
    {
     "name": "stdout",
     "output_type": "stream",
     "text": [
      "requires_grad for X_train:  False\n",
      "requires_grad for Y_train:  False\n"
     ]
    }
   ],
   "source": [
    "X_train = torch.from_numpy(x_train)\n",
    "Y_train = torch.from_numpy(y_train)\n",
    "\n",
    "print('requires_grad for X_train: ', X_train.requires_grad)\n",
    "print('requires_grad for Y_train: ', Y_train.requires_grad)"
   ]
  },
  {
   "cell_type": "code",
   "execution_count": 6,
   "id": "c51549d6",
   "metadata": {
    "ExecuteTime": {
     "end_time": "2022-10-27T02:24:57.661213Z",
     "start_time": "2022-10-27T02:24:57.648189Z"
    }
   },
   "outputs": [],
   "source": [
    "input_size = 1\n",
    "hidden_size = 1\n",
    "output_size = 1\n",
    "learning_rate = 0.001"
   ]
  },
  {
   "cell_type": "code",
   "execution_count": 7,
   "id": "77909118",
   "metadata": {
    "ExecuteTime": {
     "end_time": "2022-10-27T02:24:57.676840Z",
     "start_time": "2022-10-27T02:24:57.663213Z"
    }
   },
   "outputs": [
    {
     "data": {
      "text/plain": [
       "torch.Size([1, 1])"
      ]
     },
     "execution_count": 7,
     "metadata": {},
     "output_type": "execute_result"
    }
   ],
   "source": [
    "w1 = torch.rand(input_size, hidden_size, requires_grad=True)\n",
    "w1.shape"
   ]
  },
  {
   "cell_type": "code",
   "execution_count": 8,
   "id": "ff1e904c",
   "metadata": {
    "ExecuteTime": {
     "end_time": "2022-10-27T02:24:57.692348Z",
     "start_time": "2022-10-27T02:24:57.678839Z"
    }
   },
   "outputs": [
    {
     "data": {
      "text/plain": [
       "torch.Size([1, 1])"
      ]
     },
     "execution_count": 8,
     "metadata": {},
     "output_type": "execute_result"
    }
   ],
   "source": [
    "b1 = torch.rand(hidden_size, output_size, requires_grad=True)\n",
    "b1.shape"
   ]
  },
  {
   "cell_type": "code",
   "execution_count": 9,
   "id": "fae7d0c2",
   "metadata": {
    "ExecuteTime": {
     "end_time": "2022-10-27T02:24:57.707694Z",
     "start_time": "2022-10-27T02:24:57.694399Z"
    }
   },
   "outputs": [
    {
     "data": {
      "text/plain": [
       "tensor([[0.6684]], requires_grad=True)"
      ]
     },
     "execution_count": 9,
     "metadata": {},
     "output_type": "execute_result"
    }
   ],
   "source": [
    "w1"
   ]
  },
  {
   "cell_type": "code",
   "execution_count": 10,
   "id": "26e32aa5",
   "metadata": {
    "ExecuteTime": {
     "end_time": "2022-10-27T02:24:57.723207Z",
     "start_time": "2022-10-27T02:24:57.710694Z"
    }
   },
   "outputs": [
    {
     "data": {
      "text/plain": [
       "tensor([[0.0919]], requires_grad=True)"
      ]
     },
     "execution_count": 10,
     "metadata": {},
     "output_type": "execute_result"
    }
   ],
   "source": [
    "b1"
   ]
  },
  {
   "cell_type": "code",
   "execution_count": 11,
   "id": "7a5f1575",
   "metadata": {
    "ExecuteTime": {
     "end_time": "2022-10-27T02:24:57.739233Z",
     "start_time": "2022-10-27T02:24:57.724716Z"
    }
   },
   "outputs": [],
   "source": [
    "# strength of the regularization - larger values imply strong regularization i.e. larger penalties\n",
    "alpha = 0.8"
   ]
  },
  {
   "cell_type": "code",
   "execution_count": 12,
   "id": "de8d3042",
   "metadata": {
    "ExecuteTime": {
     "end_time": "2022-10-27T02:24:58.110817Z",
     "start_time": "2022-10-27T02:24:57.741232Z"
    }
   },
   "outputs": [
    {
     "name": "stdout",
     "output_type": "stream",
     "text": [
      "500 6.964991092681885\n",
      "1000 6.950252532958984\n",
      "1500 6.950214385986328\n",
      "2000 6.950213432312012\n",
      "2500 6.950213432312012\n",
      "3000 6.950213432312012\n",
      "3500 6.950213432312012\n",
      "4000 6.950213432312012\n",
      "4500 6.950213432312012\n",
      "5000 6.950213432312012\n"
     ]
    }
   ],
   "source": [
    "for iter in range(1, 5001):\n",
    "    y_pred = X_train.mm(w1).add(b1)\n",
    "    ridge_regularization_penalty = (w1 * w1)\n",
    "    loss = ((y_pred - Y_train).pow(2).sum()) + (alpha +\n",
    "                                                ridge_regularization_penalty)\n",
    "\n",
    "    if iter % 500 == 0:\n",
    "        print(iter, loss.item())\n",
    "\n",
    "    loss.backward()\n",
    "\n",
    "    with torch.no_grad():\n",
    "        w1 -= learning_rate * w1.grad\n",
    "        b1 -= learning_rate * b1.grad\n",
    "        w1.grad.zero_()\n",
    "        b1.grad.zero_()"
   ]
  },
  {
   "cell_type": "code",
   "execution_count": 13,
   "id": "3d06c111",
   "metadata": {
    "ExecuteTime": {
     "end_time": "2022-10-27T02:26:04.224213Z",
     "start_time": "2022-10-27T02:26:04.218192Z"
    }
   },
   "outputs": [
    {
     "name": "stdout",
     "output_type": "stream",
     "text": [
      "w1:  tensor([[0.1732]], requires_grad=True)\n",
      "b1:  tensor([[1.4143]], requires_grad=True)\n"
     ]
    }
   ],
   "source": [
    "print('w1: ', w1)\n",
    "print('b1: ', b1)"
   ]
  },
  {
   "cell_type": "code",
   "execution_count": 14,
   "id": "c8a0e667",
   "metadata": {
    "ExecuteTime": {
     "end_time": "2022-10-27T02:26:30.476025Z",
     "start_time": "2022-10-27T02:26:30.453606Z"
    }
   },
   "outputs": [
    {
     "data": {
      "text/plain": [
       "tensor([[4.7000],\n",
       "        [2.4000],\n",
       "        [7.5000],\n",
       "        [7.1000],\n",
       "        [4.3000],\n",
       "        [7.8000],\n",
       "        [8.9000],\n",
       "        [5.2000],\n",
       "        [4.5900],\n",
       "        [2.1000],\n",
       "        [8.0000],\n",
       "        [5.0000],\n",
       "        [7.5000],\n",
       "        [5.0000],\n",
       "        [4.0000],\n",
       "        [8.0000],\n",
       "        [5.2000],\n",
       "        [4.9000],\n",
       "        [3.0000],\n",
       "        [4.7000],\n",
       "        [4.0000],\n",
       "        [4.8000],\n",
       "        [3.5000],\n",
       "        [2.1000],\n",
       "        [4.1000]])"
      ]
     },
     "execution_count": 14,
     "metadata": {},
     "output_type": "execute_result"
    }
   ],
   "source": [
    "x_train_tensor = torch.from_numpy(x_train)\n",
    "x_train_tensor"
   ]
  },
  {
   "cell_type": "code",
   "execution_count": 17,
   "id": "a79da672",
   "metadata": {
    "ExecuteTime": {
     "end_time": "2022-10-27T02:27:17.482982Z",
     "start_time": "2022-10-27T02:27:17.474441Z"
    }
   },
   "outputs": [
    {
     "data": {
      "text/plain": [
       "tensor([[2.2282],\n",
       "        [1.8299],\n",
       "        [2.7130],\n",
       "        [2.6438],\n",
       "        [2.1589],\n",
       "        [2.7650],\n",
       "        [2.9555],\n",
       "        [2.3148],\n",
       "        [2.2091],\n",
       "        [1.7779],\n",
       "        [2.7996],\n",
       "        [2.2801],\n",
       "        [2.7130],\n",
       "        [2.2801],\n",
       "        [2.1069],\n",
       "        [2.7996],\n",
       "        [2.3148],\n",
       "        [2.2628],\n",
       "        [1.9338],\n",
       "        [2.2282],\n",
       "        [2.1069],\n",
       "        [2.2455],\n",
       "        [2.0204],\n",
       "        [1.7779],\n",
       "        [2.1243]], grad_fn=<AddBackward0>)"
      ]
     },
     "execution_count": 17,
     "metadata": {},
     "output_type": "execute_result"
    }
   ],
   "source": [
    "predicted_in_tensor = x_train_tensor.mm(w1).add(b1)\n",
    "predicted_in_tensor"
   ]
  },
  {
   "cell_type": "code",
   "execution_count": 18,
   "id": "63d878a5",
   "metadata": {
    "ExecuteTime": {
     "end_time": "2022-10-27T02:27:40.085675Z",
     "start_time": "2022-10-27T02:27:40.080650Z"
    }
   },
   "outputs": [
    {
     "data": {
      "text/plain": [
       "array([[2.228165 ],\n",
       "       [1.8298681],\n",
       "       [2.713048 ],\n",
       "       [2.6437788],\n",
       "       [2.158896 ],\n",
       "       [2.7649999],\n",
       "       [2.9554894],\n",
       "       [2.3147511],\n",
       "       [2.209116 ],\n",
       "       [1.7779162],\n",
       "       [2.7996342],\n",
       "       [2.2801166],\n",
       "       [2.713048 ],\n",
       "       [2.2801166],\n",
       "       [2.106944 ],\n",
       "       [2.7996342],\n",
       "       [2.3147511],\n",
       "       [2.2627993],\n",
       "       [1.9337716],\n",
       "       [2.228165 ],\n",
       "       [2.106944 ],\n",
       "       [2.2454822],\n",
       "       [2.0203578],\n",
       "       [1.7779162],\n",
       "       [2.1242614]], dtype=float32)"
      ]
     },
     "execution_count": 18,
     "metadata": {},
     "output_type": "execute_result"
    }
   ],
   "source": [
    "predicted = predicted_in_tensor.detach().numpy()\n",
    "predicted"
   ]
  },
  {
   "cell_type": "code",
   "execution_count": 19,
   "id": "c28b6ece",
   "metadata": {
    "ExecuteTime": {
     "end_time": "2022-10-27T02:28:32.657595Z",
     "start_time": "2022-10-27T02:28:32.581523Z"
    }
   },
   "outputs": [
    {
     "data": {
      "image/png": "[encoded data removed]",
      "text/plain": [
       "<Figure size 576x576 with 1 Axes>"
      ]
     },
     "metadata": {
      "needs_background": "light"
     },
     "output_type": "display_data"
    }
   ],
   "source": [
    "plt.figure(figsize=(8, 8))\n",
    "\n",
    "plt.scatter(x_train, y_train, c='green', s=250, label='Original Data')\n",
    "plt.plot(x_train, predicted, label = 'Fitted Line')\n",
    "plt.legend()\n",
    "plt.show()"
   ]
  },
  {
   "cell_type": "code",
   "execution_count": 20,
   "id": "44629496",
   "metadata": {
    "ExecuteTime": {
     "end_time": "2022-10-27T02:29:03.388079Z",
     "start_time": "2022-10-27T02:29:02.880234Z"
    }
   },
   "outputs": [],
   "source": [
    "from sklearn.linear_model import Ridge\n",
    "\n",
    "ridge_model = Ridge()"
   ]
  },
  {
   "cell_type": "code",
   "execution_count": 21,
   "id": "4d5395fb",
   "metadata": {
    "ExecuteTime": {
     "end_time": "2022-10-27T02:29:21.759437Z",
     "start_time": "2022-10-27T02:29:21.733461Z"
    }
   },
   "outputs": [],
   "source": [
    "ridge_reg = ridge_model.fit(x_train, y_train)"
   ]
  },
  {
   "cell_type": "code",
   "execution_count": 22,
   "id": "c1b15959",
   "metadata": {
    "ExecuteTime": {
     "end_time": "2022-10-27T02:29:40.228861Z",
     "start_time": "2022-10-27T02:29:40.214403Z"
    }
   },
   "outputs": [
    {
     "name": "stdout",
     "output_type": "stream",
     "text": [
      "w1 with sklearn is:  [[0.17317088]]\n"
     ]
    }
   ],
   "source": [
    "print('w1 with sklearn is: ', ridge_model.coef_)"
   ]
  },
  {
   "cell_type": "code",
   "execution_count": 23,
   "id": "b95c7fda",
   "metadata": {
    "ExecuteTime": {
     "end_time": "2022-10-27T02:30:08.393308Z",
     "start_time": "2022-10-27T02:30:08.382997Z"
    }
   },
   "outputs": [
    {
     "name": "stdout",
     "output_type": "stream",
     "text": [
      "b1 with sklearn is:  [1.4142637]\n"
     ]
    }
   ],
   "source": [
    "print('b1 with sklearn is: ', ridge_model.intercept_)"
   ]
  },
  {
   "cell_type": "code",
   "execution_count": null,
   "id": "c9e4e788",
   "metadata": {},
   "outputs": [],
   "source": []
  }
 ],
 "metadata": {
  "kernelspec": {
   "display_name": "Python 3.10.4 64-bit",
   "language": "python",
   "name": "python3"
  },
  "language_info": {
   "codemirror_mode": {
    "name": "ipython",
    "version": 3
   },
   "file_extension": ".py",
   "mimetype": "text/x-python",
   "name": "python",
   "nbconvert_exporter": "python",
   "pygments_lexer": "ipython3",
   "version": "3.10.4"
  },
  "toc": {
   "base_numbering": 1,
   "nav_menu": {},
   "number_sections": true,
   "sideBar": true,
   "skip_h1_title": false,
   "title_cell": "Table of Contents",
   "title_sidebar": "Contents",
   "toc_cell": false,
   "toc_position": {},
   "toc_section_display": true,
   "toc_window_display": false
  },
  "vscode": {
   "interpreter": {
    "hash": "3ad933181bd8a04b432d3370b9dc3b0662ad032c4dfaa4e4f1596c548f763858"
   }
  }
 },
 "nbformat": 4,
 "nbformat_minor": 5
}
