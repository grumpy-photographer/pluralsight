{
 "cells": [
  {
   "cell_type": "code",
   "execution_count": null,
   "id": "79fe6aff",
   "metadata": {
    "ExecuteTime": {
     "end_time": "2022-11-18T05:10:31.973005Z",
     "start_time": "2022-11-18T05:10:31.958249Z"
    }
   },
   "outputs": [],
   "source": [
    "import numpy as np\n",
    "import matplotlib.pyplot as plt\n",
    "\n",
    "import torch\n",
    "import torchvision\n",
    "import torch.nn as nn\n",
    "import torch.nn.functional as F\n",
    "import torchvision.transforms as transforms"
   ]
  },
  {
   "cell_type": "code",
   "execution_count": null,
   "id": "b416985c",
   "metadata": {
    "ExecuteTime": {
     "end_time": "2022-11-18T05:11:16.735354Z",
     "start_time": "2022-11-18T05:11:16.718331Z"
    }
   },
   "outputs": [],
   "source": [
    "mean = [0.49159187, 0.48234594, 0.44671956]\n",
    "std = [0.23834434, 0.23486559, 0.25264624]"
   ]
  },
  {
   "cell_type": "code",
   "execution_count": null,
   "id": "5e61d59c",
   "metadata": {
    "ExecuteTime": {
     "end_time": "2022-11-18T05:12:28.790766Z",
     "start_time": "2022-11-18T05:12:28.778735Z"
    }
   },
   "outputs": [],
   "source": [
    "train_transform = transforms.Compose([\n",
    "    transforms.Resize(128),\n",
    "    transforms.RandomHorizontalFlip(),\n",
    "    transforms.ToTensor(),\n",
    "    transforms.Normalize(mean, std)\n",
    "])"
   ]
  },
  {
   "cell_type": "code",
   "execution_count": null,
   "id": "0e8ee535",
   "metadata": {
    "ExecuteTime": {
     "end_time": "2022-11-18T05:12:54.936364Z",
     "start_time": "2022-11-18T05:12:54.922228Z"
    }
   },
   "outputs": [],
   "source": [
    "test_transform = transforms.Compose([\n",
    "    transforms.Resize(128),\n",
    "    transforms.ToTensor(),\n",
    "    transforms.Normalize(mean, std)\n",
    "])"
   ]
  },
  {
   "cell_type": "code",
   "execution_count": null,
   "id": "57c5739d",
   "metadata": {
    "ExecuteTime": {
     "end_time": "2022-11-18T05:13:24.943364Z",
     "start_time": "2022-11-18T05:13:24.250349Z"
    }
   },
   "outputs": [],
   "source": [
    "trainset = torchvision.datasets.CIFAR10(root='datasets/cifar10/train',\n",
    "                                        train=True,\n",
    "                                        download=True,\n",
    "                                        transform=train_transform)"
   ]
  },
  {
   "cell_type": "code",
   "execution_count": null,
   "id": "7bba32e5",
   "metadata": {
    "ExecuteTime": {
     "end_time": "2022-11-18T05:13:26.699365Z",
     "start_time": "2022-11-18T05:13:26.142546Z"
    }
   },
   "outputs": [],
   "source": [
    "testset = torchvision.datasets.CIFAR10(root='datasets/cifar10/train',\n",
    "                                       train=False,\n",
    "                                       download=True,\n",
    "                                       transform=test_transform)"
   ]
  },
  {
   "cell_type": "code",
   "execution_count": null,
   "id": "e5871228",
   "metadata": {
    "ExecuteTime": {
     "end_time": "2022-11-18T05:13:40.190379Z",
     "start_time": "2022-11-18T05:13:40.181394Z"
    }
   },
   "outputs": [],
   "source": [
    "trainloader = torch.utils.data.DataLoader(trainset,\n",
    "                                          batch_size=16,\n",
    "                                          shuffle=True,\n",
    "                                          num_workers=2)"
   ]
  },
  {
   "cell_type": "code",
   "execution_count": null,
   "id": "90f603e0",
   "metadata": {
    "ExecuteTime": {
     "end_time": "2022-11-18T05:13:41.334309Z",
     "start_time": "2022-11-18T05:13:41.330307Z"
    }
   },
   "outputs": [],
   "source": [
    "testloader = torch.utils.data.DataLoader(testset,\n",
    "                                         batch_size=16,\n",
    "                                         shuffle=False,\n",
    "                                         num_workers=2)"
   ]
  },
  {
   "cell_type": "code",
   "execution_count": null,
   "id": "05936d04",
   "metadata": {
    "ExecuteTime": {
     "end_time": "2022-11-18T05:14:29.098707Z",
     "start_time": "2022-11-18T05:14:29.082342Z"
    }
   },
   "outputs": [],
   "source": [
    "in_size = 3\n",
    "hid1_size = 16\n",
    "hid2_size = 32\n",
    "hid3_size = 64\n",
    "\n",
    "out1_size = 2000\n",
    "out2_size = 10\n",
    "\n",
    "k_conv_size = 9"
   ]
  },
  {
   "cell_type": "code",
   "execution_count": null,
   "id": "e46f62db",
   "metadata": {
    "ExecuteTime": {
     "end_time": "2022-11-18T05:24:21.343107Z",
     "start_time": "2022-11-18T05:24:21.334848Z"
    }
   },
   "outputs": [],
   "source": [
    "class ConvNet(nn.Module):\n",
    "\n",
    "    def __init__(self):\n",
    "        super(ConvNet, self).__init__()\n",
    "\n",
    "        self.layer1 = nn.Sequential(\n",
    "                                    nn.Conv2d(in_size, hid1_size, k_conv_size),\n",
    "                                    nn.BatchNorm2d(hid1_size),\n",
    "                                    nn.ReLU(),\n",
    "                                    nn.MaxPool2d(kernel_size=2))\n",
    "\n",
    "        self.layer2 = nn.Sequential(\n",
    "                                    nn.Conv2d(hid1_size, hid2_size, k_conv_size),\n",
    "                                    nn.BatchNorm2d(hid2_size),\n",
    "                                    nn.ReLU(),\n",
    "                                    nn.MaxPool2d(kernel_size=2))\n",
    "        \n",
    "        self.layer3 = nn.Sequential(\n",
    "                                    nn.Conv2d(hid2_size, hid3_size, k_conv_size),\n",
    "                                    nn.BatchNorm2d(hid3_size),\n",
    "                                    nn.ReLU(),\n",
    "                                    nn.MaxPool2d(kernel_size=2))\n",
    "\n",
    "        self.layer4 = nn.Sequential(\n",
    "                                    nn.Linear(hid3_size * k_conv_size * k_conv_size, out1_size),\n",
    "                                    nn.ReLU(), \n",
    "                                    nn.Dropout(0.5),\n",
    "                                    nn.Linear(out1_size, out2_size))\n",
    "\n",
    "    def forward(self, x):\n",
    "        out = self.layer1(x)\n",
    "        out = self.layer2(out)\n",
    "        out = self.layer3(out)\n",
    "        out = out.reshape(out.size(0), -1)\n",
    "        out = self.layer4(out)\n",
    "\n",
    "        return F.log_softmax(out, dim=-1)\n"
   ]
  },
  {
   "cell_type": "code",
   "execution_count": null,
   "id": "6240a3a3",
   "metadata": {
    "ExecuteTime": {
     "end_time": "2022-11-18T05:24:27.142819Z",
     "start_time": "2022-11-18T05:24:27.108335Z"
    }
   },
   "outputs": [],
   "source": [
    "model = ConvNet()"
   ]
  },
  {
   "cell_type": "code",
   "execution_count": null,
   "id": "c00e9c37",
   "metadata": {
    "ExecuteTime": {
     "end_time": "2022-11-18T05:24:30.326177Z",
     "start_time": "2022-11-18T05:24:30.315327Z"
    }
   },
   "outputs": [],
   "source": [
    "device = torch.device(\"cuda:0\" if torch.cuda.is_available() else \"cpu\")\n",
    "print(device)"
   ]
  },
  {
   "cell_type": "code",
   "execution_count": null,
   "id": "ad934886",
   "metadata": {
    "ExecuteTime": {
     "end_time": "2022-11-18T05:24:34.143030Z",
     "start_time": "2022-11-18T05:24:34.124508Z"
    }
   },
   "outputs": [],
   "source": [
    "model.to(device)"
   ]
  },
  {
   "cell_type": "code",
   "execution_count": null,
   "id": "8f6a960a",
   "metadata": {
    "ExecuteTime": {
     "end_time": "2022-11-18T05:24:52.634626Z",
     "start_time": "2022-11-18T05:24:52.623728Z"
    }
   },
   "outputs": [],
   "source": [
    "learning_rate = 0.001\n",
    "criterion = nn.NLLLoss()\n",
    "optimizer = torch.optim.Adam(model.parameters(), lr=learning_rate)"
   ]
  },
  {
   "cell_type": "code",
   "execution_count": null,
   "id": "0618e50c",
   "metadata": {
    "ExecuteTime": {
     "end_time": "2022-11-18T05:25:09.664125Z",
     "start_time": "2022-11-18T05:25:09.659818Z"
    }
   },
   "outputs": [],
   "source": [
    "total_step = len(trainloader)\n",
    "num_epochs = 10\n",
    "loss_values = list()"
   ]
  },
  {
   "cell_type": "code",
   "execution_count": null,
   "id": "dbd1af04",
   "metadata": {
    "ExecuteTime": {
     "start_time": "2022-11-18T05:25:10.562Z"
    }
   },
   "outputs": [],
   "source": [
    "for epoch in range(num_epochs):\n",
    "    for i, (images, labels) in enumerate(trainloader):\n",
    "        images, labels = images.to(device), labels.to(device)\n",
    "        outputs = model(images)\n",
    "        loss = criterion(outputs, labels)\n",
    "        \n",
    "        optimizer.zero_grad()\n",
    "        loss.backward()\n",
    "        optimizer.step()\n",
    "        \n",
    "        if (i+1) % 2000 == 0:\n",
    "            print('Epoch [{}/{}], Step [{}/{}], Loss: {:.4f}'.format(epoch+1, num_epochs, i+1, total_step, loss.item()))\n",
    "            \n",
    "            loss_values.append(loss.item())\n",
    "\n",
    "print('Finished Training')"
   ]
  },
  {
   "cell_type": "code",
   "execution_count": null,
   "id": "0509a7fe",
   "metadata": {},
   "outputs": [],
   "source": []
  }
 ],
 "metadata": {
  "kernelspec": {
   "display_name": "Python 3",
   "language": "python",
   "name": "python3"
  },
  "language_info": {
   "codemirror_mode": {
    "name": "ipython",
    "version": 3
   },
   "file_extension": ".py",
   "mimetype": "text/x-python",
   "name": "python",
   "nbconvert_exporter": "python",
   "pygments_lexer": "ipython3",
   "version": "3.10.6"
  },
  "toc": {
   "base_numbering": 1,
   "nav_menu": {},
   "number_sections": true,
   "sideBar": true,
   "skip_h1_title": false,
   "title_cell": "Table of Contents",
   "title_sidebar": "Contents",
   "toc_cell": false,
   "toc_position": {},
   "toc_section_display": true,
   "toc_window_display": false
  },
  "vscode": {
   "interpreter": {
    "hash": "26de051ba29f2982a8de78e945f0abaf191376122a1563185a90213a26c5da77"
   }
  }
 },
 "nbformat": 4,
 "nbformat_minor": 5
}
