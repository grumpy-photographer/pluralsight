{
 "cells": [
  {
   "cell_type": "code",
   "execution_count": null,
   "metadata": {
    "ExecuteTime": {
     "end_time": "2022-11-18T04:52:25.055509Z",
     "start_time": "2022-11-18T04:52:23.989594Z"
    }
   },
   "outputs": [],
   "source": [
    "import numpy as np\n",
    "import matplotlib.pyplot as plt\n",
    "\n",
    "import torch\n",
    "import torchvision\n",
    "import torch.nn as nn\n",
    "import torch.nn.functional as F\n",
    "import torchvision.transforms as transforms"
   ]
  },
  {
   "cell_type": "code",
   "execution_count": null,
   "metadata": {
    "ExecuteTime": {
     "end_time": "2022-11-18T04:52:25.071297Z",
     "start_time": "2022-11-18T04:52:25.058094Z"
    }
   },
   "outputs": [],
   "source": [
    "mean = [0.4915909, 0.4823458, 0.4467193]\n",
    "std = [0.23832326, 0.23488124, 0.25267875]"
   ]
  },
  {
   "cell_type": "code",
   "execution_count": null,
   "metadata": {
    "ExecuteTime": {
     "end_time": "2022-11-18T04:52:25.086897Z",
     "start_time": "2022-11-18T04:52:25.073296Z"
    }
   },
   "outputs": [],
   "source": [
    "train_transform = transforms.Compose(\n",
    "    [\n",
    "        transforms.Resize(32),\n",
    "        transforms.RandomHorizontalFlip(),\n",
    "        transforms.ToTensor(),\n",
    "        transforms.Normalize(mean, std),\n",
    "    ]\n",
    ")"
   ]
  },
  {
   "cell_type": "code",
   "execution_count": null,
   "metadata": {
    "ExecuteTime": {
     "end_time": "2022-11-18T04:52:25.102968Z",
     "start_time": "2022-11-18T04:52:25.087897Z"
    }
   },
   "outputs": [],
   "source": [
    "test_transform = transforms.Compose(\n",
    "    [transforms.Resize(32), transforms.ToTensor(), transforms.Normalize(mean, std)]\n",
    ")"
   ]
  },
  {
   "cell_type": "code",
   "execution_count": null,
   "metadata": {
    "ExecuteTime": {
     "end_time": "2022-11-18T04:52:25.796561Z",
     "start_time": "2022-11-18T04:52:25.103968Z"
    }
   },
   "outputs": [],
   "source": [
    "trainset = torchvision.datasets.CIFAR10(\n",
    "    root=\"datasets/cifar10/train\", train=True, download=True, transform=train_transform\n",
    ")"
   ]
  },
  {
   "cell_type": "code",
   "execution_count": null,
   "metadata": {
    "ExecuteTime": {
     "end_time": "2022-11-18T04:52:26.363215Z",
     "start_time": "2022-11-18T04:52:25.797561Z"
    }
   },
   "outputs": [],
   "source": [
    "testset = torchvision.datasets.CIFAR10(\n",
    "    root=\"datasets/cifar10/train\", train=False, download=True, transform=test_transform\n",
    ")"
   ]
  },
  {
   "cell_type": "code",
   "execution_count": null,
   "metadata": {
    "ExecuteTime": {
     "end_time": "2022-11-18T04:52:26.378681Z",
     "start_time": "2022-11-18T04:52:26.364216Z"
    }
   },
   "outputs": [],
   "source": [
    "trainloader = torch.utils.data.DataLoader(\n",
    "    trainset, batch_size=16, shuffle=True, num_workers=2\n",
    ")"
   ]
  },
  {
   "cell_type": "code",
   "execution_count": null,
   "metadata": {
    "ExecuteTime": {
     "end_time": "2022-11-18T04:52:26.394218Z",
     "start_time": "2022-11-18T04:52:26.380184Z"
    }
   },
   "outputs": [],
   "source": [
    "testloader = torch.utils.data.DataLoader(\n",
    "    testset, batch_size=16, shuffle=False, num_workers=2\n",
    ")"
   ]
  },
  {
   "cell_type": "code",
   "execution_count": null,
   "metadata": {
    "ExecuteTime": {
     "end_time": "2022-11-18T04:52:26.410228Z",
     "start_time": "2022-11-18T04:52:26.395218Z"
    }
   },
   "outputs": [],
   "source": [
    "class_names = trainset.classes\n",
    "\n",
    "print(class_names)"
   ]
  },
  {
   "cell_type": "code",
   "execution_count": null,
   "metadata": {
    "ExecuteTime": {
     "end_time": "2022-11-18T04:52:29.044255Z",
     "start_time": "2022-11-18T04:52:26.412231Z"
    }
   },
   "outputs": [],
   "source": [
    "img, label = iter(trainloader).next()"
   ]
  },
  {
   "cell_type": "code",
   "execution_count": null,
   "metadata": {
    "ExecuteTime": {
     "end_time": "2022-11-18T04:52:29.060250Z",
     "start_time": "2022-11-18T04:52:29.045586Z"
    }
   },
   "outputs": [],
   "source": [
    "img.shape"
   ]
  },
  {
   "cell_type": "code",
   "execution_count": null,
   "metadata": {
    "ExecuteTime": {
     "end_time": "2022-11-18T04:52:29.076241Z",
     "start_time": "2022-11-18T04:52:29.062351Z"
    }
   },
   "outputs": [],
   "source": [
    "label"
   ]
  },
  {
   "cell_type": "code",
   "execution_count": null,
   "metadata": {
    "ExecuteTime": {
     "end_time": "2022-11-18T05:03:43.303981Z",
     "start_time": "2022-11-18T05:03:43.297478Z"
    }
   },
   "outputs": [],
   "source": [
    "in_size = 3\n",
    "hid1_size = 16\n",
    "hid2_size = 32\n",
    "out1_size = 400\n",
    "out2_size = 10\n",
    "k_conv_size = 5  # 4 #6"
   ]
  },
  {
   "cell_type": "code",
   "execution_count": null,
   "metadata": {
    "ExecuteTime": {
     "end_time": "2022-11-18T05:03:44.738658Z",
     "start_time": "2022-11-18T05:03:44.723224Z"
    }
   },
   "outputs": [],
   "source": [
    "class ConvNet(nn.Module):\n",
    "    def __init__(self):\n",
    "        super(ConvNet, self).__init__()\n",
    "\n",
    "        self.layer1 = nn.Sequential(\n",
    "            nn.Conv2d(in_size, hid1_size, k_conv_size),\n",
    "            nn.BatchNorm2d(hid1_size),\n",
    "            nn.ReLU(),\n",
    "            nn.LPPool2d(1, kernel_size=2),\n",
    "        )\n",
    "        # nn.AvgPool2d(kernel_size=2))\n",
    "        # nn.MaxPool2d(kernel_size=2))\n",
    "\n",
    "        self.layer2 = nn.Sequential(\n",
    "            nn.Conv2d(hid1_size, hid2_size, k_conv_size),\n",
    "            nn.BatchNorm2d(hid2_size),\n",
    "            nn.ReLU(),\n",
    "            nn.LPPool2d(1, kernel_size=2),\n",
    "        )\n",
    "        # nn.AvgPool2d(kernel_size=2))\n",
    "        # nn.MaxPool2d(kernel_size=2))\n",
    "\n",
    "        self.layer3 = nn.Sequential(\n",
    "            nn.Linear(hid2_size * k_conv_size * k_conv_size, out1_size),\n",
    "            nn.ReLU(),\n",
    "            nn.Dropout(0.5),\n",
    "            nn.Linear(out1_size, out2_size),\n",
    "        )\n",
    "\n",
    "    def forward(self, x):\n",
    "        out = self.layer1(x)\n",
    "        out = self.layer2(out)\n",
    "        out = out.reshape(out.size(0), -1)\n",
    "        out = self.layer3(out)\n",
    "\n",
    "        return F.log_softmax(out, dim=-1)"
   ]
  },
  {
   "cell_type": "code",
   "execution_count": null,
   "metadata": {
    "ExecuteTime": {
     "end_time": "2022-11-18T05:03:45.003063Z",
     "start_time": "2022-11-18T05:03:44.983019Z"
    }
   },
   "outputs": [],
   "source": [
    "model = ConvNet()"
   ]
  },
  {
   "cell_type": "code",
   "execution_count": null,
   "metadata": {
    "ExecuteTime": {
     "end_time": "2022-11-18T05:03:45.206626Z",
     "start_time": "2022-11-18T05:03:45.190587Z"
    }
   },
   "outputs": [],
   "source": [
    "device = torch.device(\"cuda:0\" if torch.cuda.is_available() else \"cpu\")\n",
    "print(device)"
   ]
  },
  {
   "cell_type": "code",
   "execution_count": null,
   "metadata": {
    "ExecuteTime": {
     "end_time": "2022-11-18T05:03:45.504325Z",
     "start_time": "2022-11-18T05:03:45.488339Z"
    }
   },
   "outputs": [],
   "source": [
    "model.to(device)"
   ]
  },
  {
   "cell_type": "code",
   "execution_count": null,
   "metadata": {
    "ExecuteTime": {
     "end_time": "2022-11-18T05:03:45.910264Z",
     "start_time": "2022-11-18T05:03:45.895638Z"
    }
   },
   "outputs": [],
   "source": [
    "learning_rate = 0.001\n",
    "criterion = nn.NLLLoss()\n",
    "optimizer = torch.optim.Adam(model.parameters(), lr=learning_rate)"
   ]
  },
  {
   "cell_type": "code",
   "execution_count": null,
   "metadata": {
    "ExecuteTime": {
     "end_time": "2022-11-18T05:03:46.392591Z",
     "start_time": "2022-11-18T05:03:46.375186Z"
    }
   },
   "outputs": [],
   "source": [
    "total_step = len(trainloader)\n",
    "num_epochs = 10\n",
    "loss_values = list()"
   ]
  },
  {
   "cell_type": "code",
   "execution_count": null,
   "metadata": {
    "ExecuteTime": {
     "start_time": "2022-11-18T05:03:46.888Z"
    }
   },
   "outputs": [],
   "source": [
    "for epoch in range(num_epochs):\n",
    "    for i, (images, labels) in enumerate(trainloader):\n",
    "        images, labels = images.to(device), labels.to(device)\n",
    "        outputs = model(images)\n",
    "        loss = criterion(outputs, labels)\n",
    "\n",
    "        optimizer.zero_grad()\n",
    "        loss.backward()\n",
    "        optimizer.step()\n",
    "\n",
    "        if (i + 1) % 2000 == 0:\n",
    "            print(\n",
    "                \"Epoch [{}/{}], Step [{}/{}], Loss: {:.4f}\".format(\n",
    "                    epoch + 1, num_epochs, i + 1, total_step, loss.item()\n",
    "                )\n",
    "            )\n",
    "\n",
    "            loss_values.append(loss.item())\n",
    "\n",
    "print(\"Finished Training\")"
   ]
  },
  {
   "cell_type": "code",
   "execution_count": null,
   "metadata": {
    "ExecuteTime": {
     "end_time": "2022-11-18T05:01:02.047245Z",
     "start_time": "2022-11-18T05:01:01.954832Z"
    },
    "scrolled": true
   },
   "outputs": [],
   "source": [
    "x = range(1, 11)\n",
    "\n",
    "plt.figure(figsize=(12, 10))\n",
    "\n",
    "plt.plot(x, loss_values)\n",
    "plt.xlabel(\"Step\")\n",
    "plt.ylabel(\"Loss\");"
   ]
  },
  {
   "cell_type": "code",
   "execution_count": null,
   "metadata": {
    "ExecuteTime": {
     "end_time": "2022-11-18T05:01:06.496264Z",
     "start_time": "2022-11-18T05:01:02.048246Z"
    }
   },
   "outputs": [],
   "source": [
    "model.eval()\n",
    "\n",
    "with torch.no_grad():\n",
    "    correct = 0\n",
    "    total = 0\n",
    "    for images, labels in testloader:\n",
    "        images, labels = images.to(device), labels.to(device)\n",
    "        outputs = model(images)\n",
    "        _, predicted = torch.max(outputs.data, 1)\n",
    "        total += labels.size(0)\n",
    "        correct += (predicted == labels).sum().item()\n",
    "\n",
    "    print(\n",
    "        \"Accuracy of the model on the 10000 test images: {}%\".format(\n",
    "            100 * correct / total\n",
    "        )\n",
    "    )"
   ]
  },
  {
   "cell_type": "code",
   "execution_count": null,
   "metadata": {
    "ExecuteTime": {
     "end_time": "2022-11-18T05:01:06.512198Z",
     "start_time": "2022-11-18T05:01:06.497264Z"
    }
   },
   "outputs": [],
   "source": [
    "sample_img, _ = testset[23]"
   ]
  },
  {
   "cell_type": "code",
   "execution_count": null,
   "metadata": {
    "ExecuteTime": {
     "end_time": "2022-11-18T05:01:06.527772Z",
     "start_time": "2022-11-18T05:01:06.513263Z"
    }
   },
   "outputs": [],
   "source": [
    "sample_img.shape"
   ]
  },
  {
   "cell_type": "code",
   "execution_count": null,
   "metadata": {
    "ExecuteTime": {
     "end_time": "2022-11-18T05:01:06.543790Z",
     "start_time": "2022-11-18T05:01:06.528771Z"
    }
   },
   "outputs": [],
   "source": [
    "sample_img = np.transpose(sample_img, (1, 2, 0))"
   ]
  },
  {
   "cell_type": "code",
   "execution_count": null,
   "metadata": {
    "ExecuteTime": {
     "end_time": "2022-11-18T05:01:06.559298Z",
     "start_time": "2022-11-18T05:01:06.545791Z"
    }
   },
   "outputs": [],
   "source": [
    "m, M = sample_img.min(), sample_img.max()\n",
    "sample_img = (1 / (abs(m) * M)) * sample_img + 0.5"
   ]
  },
  {
   "cell_type": "code",
   "execution_count": null,
   "metadata": {
    "ExecuteTime": {
     "end_time": "2022-11-18T05:01:06.637992Z",
     "start_time": "2022-11-18T05:01:06.561297Z"
    }
   },
   "outputs": [],
   "source": [
    "plt.figure(figsize=(6, 6))\n",
    "plt.imshow(sample_img);"
   ]
  },
  {
   "cell_type": "code",
   "execution_count": null,
   "metadata": {
    "ExecuteTime": {
     "end_time": "2022-11-18T05:01:06.653537Z",
     "start_time": "2022-11-18T05:01:06.639992Z"
    }
   },
   "outputs": [],
   "source": [
    "test_img, test_label = testset[23]\n",
    "\n",
    "test_img = test_img.reshape(-1, 3, 32, 32)"
   ]
  },
  {
   "cell_type": "code",
   "execution_count": null,
   "metadata": {
    "ExecuteTime": {
     "end_time": "2022-11-18T05:01:06.669046Z",
     "start_time": "2022-11-18T05:01:06.654537Z"
    }
   },
   "outputs": [],
   "source": [
    "out_predict = model(test_img.to(device))\n",
    "_, predicted = torch.max(out_predict.data, 1)"
   ]
  },
  {
   "cell_type": "code",
   "execution_count": null,
   "metadata": {
    "ExecuteTime": {
     "end_time": "2022-11-18T05:01:06.684110Z",
     "start_time": "2022-11-18T05:01:06.670047Z"
    }
   },
   "outputs": [],
   "source": [
    "print(\"Actual Label : \", test_label)"
   ]
  },
  {
   "cell_type": "code",
   "execution_count": null,
   "metadata": {
    "ExecuteTime": {
     "end_time": "2022-11-18T05:01:06.699323Z",
     "start_time": "2022-11-18T05:01:06.686110Z"
    }
   },
   "outputs": [],
   "source": [
    "print(\"Class name for {}: {}\".format(predicted.item(), class_names[predicted.item()]))"
   ]
  },
  {
   "cell_type": "code",
   "execution_count": null,
   "metadata": {},
   "outputs": [],
   "source": []
  },
  {
   "cell_type": "code",
   "execution_count": null,
   "metadata": {},
   "outputs": [],
   "source": []
  },
  {
   "cell_type": "code",
   "execution_count": null,
   "metadata": {},
   "outputs": [],
   "source": []
  }
 ],
 "metadata": {
  "kernelspec": {
   "display_name": "Python 3 (ipykernel)",
   "language": "python",
   "name": "python3"
  },
  "language_info": {
   "codemirror_mode": {
    "name": "ipython",
    "version": 3
   },
   "file_extension": ".py",
   "mimetype": "text/x-python",
   "name": "python",
   "nbconvert_exporter": "python",
   "pygments_lexer": "ipython3",
   "version": "3.10.6"
  },
  "toc": {
   "base_numbering": 1,
   "nav_menu": {},
   "number_sections": true,
   "sideBar": true,
   "skip_h1_title": false,
   "title_cell": "Table of Contents",
   "title_sidebar": "Contents",
   "toc_cell": false,
   "toc_position": {},
   "toc_section_display": true,
   "toc_window_display": false
  },
  "vscode": {
   "interpreter": {
    "hash": "26de051ba29f2982a8de78e945f0abaf191376122a1563185a90213a26c5da77"
   }
  }
 },
 "nbformat": 4,
 "nbformat_minor": 2
}
