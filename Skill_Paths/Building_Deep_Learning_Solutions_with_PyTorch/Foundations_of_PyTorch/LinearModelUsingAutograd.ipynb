{
 "cells": [
  {
   "cell_type": "code",
   "execution_count": 1,
   "metadata": {
    "ExecuteTime": {
     "end_time": "2022-10-26T02:08:50.108706Z",
     "start_time": "2022-10-26T02:08:49.797900Z"
    }
   },
   "outputs": [],
   "source": [
    "import numpy as np\n",
    "import matplotlib.pyplot as plt"
   ]
  },
  {
   "cell_type": "code",
   "execution_count": 2,
   "metadata": {
    "ExecuteTime": {
     "end_time": "2022-10-26T02:08:50.123980Z",
     "start_time": "2022-10-26T02:08:50.109707Z"
    }
   },
   "outputs": [],
   "source": [
    "x_train = np.array(\n",
    "    [\n",
    "        [4.7],\n",
    "        [2.4],\n",
    "        [7.5],\n",
    "        [7.1],\n",
    "        [4.3],\n",
    "        [7.816],\n",
    "        [8.9],\n",
    "        [5.2],\n",
    "        [8.59],\n",
    "        [2.1],\n",
    "        [8],\n",
    "        [10],\n",
    "        [4.5],\n",
    "        [6],\n",
    "        [4],\n",
    "    ],\n",
    "    dtype=np.float32,\n",
    ")\n",
    "\n",
    "y_train = np.array(\n",
    "    [\n",
    "        [2.6],\n",
    "        [1.6],\n",
    "        [3.09],\n",
    "        [2.4],\n",
    "        [2.4],\n",
    "        [3.357],\n",
    "        [2.6],\n",
    "        [1.96],\n",
    "        [3.53],\n",
    "        [1.76],\n",
    "        [3.2],\n",
    "        [3.5],\n",
    "        [1.6],\n",
    "        [2.5],\n",
    "        [2.2],\n",
    "    ],\n",
    "    dtype=np.float32,\n",
    ")"
   ]
  },
  {
   "cell_type": "code",
   "execution_count": 3,
   "metadata": {
    "ExecuteTime": {
     "end_time": "2022-10-26T02:08:50.217603Z",
     "start_time": "2022-10-26T02:08:50.125630Z"
    },
    "scrolled": true
   },
   "outputs": [
    {
     "data": {
      "image/png": "[encoded data removed]",
      "text/plain": [
       "<Figure size 864x576 with 1 Axes>"
      ]
     },
     "metadata": {
      "needs_background": "light"
     },
     "output_type": "display_data"
    }
   ],
   "source": [
    "plt.figure(figsize=(12, 8))\n",
    "\n",
    "plt.scatter(x_train, y_train, label=\"Original Data\", s=250, c='g')\n",
    "plt.legend()\n",
    "plt.show()"
   ]
  },
  {
   "cell_type": "code",
   "execution_count": 4,
   "metadata": {
    "ExecuteTime": {
     "end_time": "2022-10-26T02:08:50.716312Z",
     "start_time": "2022-10-26T02:08:50.218601Z"
    }
   },
   "outputs": [],
   "source": [
    "import torch"
   ]
  },
  {
   "cell_type": "code",
   "execution_count": 5,
   "metadata": {
    "ExecuteTime": {
     "end_time": "2022-10-26T02:08:50.731550Z",
     "start_time": "2022-10-26T02:08:50.717314Z"
    }
   },
   "outputs": [
    {
     "name": "stdout",
     "output_type": "stream",
     "text": [
      "requires_grad for X train:  False\n",
      "requires_grad for y_train:  False\n"
     ]
    }
   ],
   "source": [
    "X_train = torch.from_numpy(x_train)\n",
    "Y_train = torch.from_numpy(y_train)\n",
    "\n",
    "print(\"requires_grad for X train: \", X_train.requires_grad)\n",
    "print(\"requires_grad for y_train: \", Y_train.requires_grad)"
   ]
  },
  {
   "cell_type": "code",
   "execution_count": 6,
   "metadata": {
    "ExecuteTime": {
     "end_time": "2022-10-26T02:08:50.747079Z",
     "start_time": "2022-10-26T02:08:50.733070Z"
    }
   },
   "outputs": [],
   "source": [
    "input_size = 1\n",
    "hidden_size = 1\n",
    "output_size = 1"
   ]
  },
  {
   "cell_type": "code",
   "execution_count": 7,
   "metadata": {
    "ExecuteTime": {
     "end_time": "2022-10-26T02:08:50.762081Z",
     "start_time": "2022-10-26T02:08:50.749076Z"
    }
   },
   "outputs": [
    {
     "data": {
      "text/plain": [
       "torch.Size([1, 1])"
      ]
     },
     "execution_count": 7,
     "metadata": {},
     "output_type": "execute_result"
    }
   ],
   "source": [
    "w1 = torch.rand(input_size, hidden_size, requires_grad=True)\n",
    "w1.shape"
   ]
  },
  {
   "cell_type": "code",
   "execution_count": 8,
   "metadata": {
    "ExecuteTime": {
     "end_time": "2022-10-26T02:08:50.777079Z",
     "start_time": "2022-10-26T02:08:50.763080Z"
    }
   },
   "outputs": [
    {
     "data": {
      "text/plain": [
       "torch.Size([1, 1])"
      ]
     },
     "execution_count": 8,
     "metadata": {},
     "output_type": "execute_result"
    }
   ],
   "source": [
    "w2 = torch.rand(hidden_size, output_size, requires_grad=True)\n",
    "w2.shape"
   ]
  },
  {
   "cell_type": "code",
   "execution_count": 9,
   "metadata": {
    "ExecuteTime": {
     "end_time": "2022-10-26T02:08:50.793086Z",
     "start_time": "2022-10-26T02:08:50.779079Z"
    }
   },
   "outputs": [],
   "source": [
    "learning_rate = 1e-6"
   ]
  },
  {
   "cell_type": "code",
   "execution_count": 22,
   "metadata": {
    "ExecuteTime": {
     "end_time": "2022-10-26T02:09:30.356198Z",
     "start_time": "2022-10-26T02:09:30.194311Z"
    }
   },
   "outputs": [
    {
     "name": "stdout",
     "output_type": "stream",
     "text": [
      "50 8.0363187789917\n",
      "100 7.500833511352539\n",
      "150 7.035740852355957\n",
      "200 6.632218360900879\n",
      "250 6.282462120056152\n",
      "300 5.979598522186279\n",
      "350 5.717576503753662\n",
      "400 5.49108362197876\n",
      "450 5.295456886291504\n",
      "500 5.126613616943359\n",
      "550 4.980989456176758\n",
      "600 4.855480194091797\n",
      "650 4.747367858886719\n",
      "700 4.654296875\n",
      "750 4.574219226837158\n",
      "800 4.505355358123779\n",
      "850 4.446163177490234\n",
      "900 4.3953046798706055\n",
      "950 4.351626396179199\n",
      "1000 4.314130783081055\n",
      "1050 4.281949043273926\n",
      "1100 4.254339218139648\n",
      "1150 4.2306599617004395\n",
      "1200 4.210361480712891\n",
      "1250 4.192957401275635\n",
      "1300 4.178041458129883\n",
      "1350 4.165262699127197\n",
      "1400 4.154315948486328\n",
      "1450 4.1449408531188965\n",
      "1500 4.136913776397705\n",
      "1550 4.13004207611084\n",
      "1600 4.1241583824157715\n",
      "1650 4.119124889373779\n",
      "1700 4.114816188812256\n",
      "1750 4.111128330230713\n",
      "1800 4.107975006103516\n",
      "1850 4.105276584625244\n",
      "1900 4.102967739105225\n",
      "1950 4.10099458694458\n",
      "2000 4.099307537078857\n",
      "2050 4.097862720489502\n",
      "2100 4.096627712249756\n",
      "2150 4.095571517944336\n",
      "2200 4.094668388366699\n",
      "2250 4.093897819519043\n",
      "2300 4.093238830566406\n",
      "2350 4.092674732208252\n",
      "2400 4.092191696166992\n",
      "2450 4.091780185699463\n",
      "2500 4.091427326202393\n",
      "2550 4.091126918792725\n",
      "2600 4.090868949890137\n",
      "2650 4.090649127960205\n",
      "2700 4.090461254119873\n",
      "2750 4.090301036834717\n",
      "2800 4.090162754058838\n",
      "2850 4.090046405792236\n",
      "2900 4.0899457931518555\n",
      "2950 4.089859485626221\n"
     ]
    }
   ],
   "source": [
    "for iter in range(1, 3000):    # run loop for 10 iterations\n",
    "    # perform a forward pass through the neural network constructed using a single linear neuron with no activation function\n",
    "    y_pred = X_train.mm(w1).mm(w2)\n",
    "    # get mean squared error loss for linear regression\n",
    "    loss = (y_pred - Y_train).pow(2).sum()\n",
    "\n",
    "    # for every 50 iterations, print out loss\n",
    "    if iter % 50 == 0:\n",
    "        print(iter, loss.item())\n",
    "\n",
    "    # calculate gradient for model params\n",
    "    loss.backward()\n",
    "\n",
    "    with torch.no_grad():\n",
    "        w1 -= learning_rate * w1.grad\n",
    "        w2 -= learning_rate * w2.grad\n",
    "        w1.grad.zero_()\n",
    "        w2.grad.zero_()"
   ]
  },
  {
   "cell_type": "code",
   "execution_count": 23,
   "metadata": {
    "ExecuteTime": {
     "end_time": "2022-10-26T02:09:31.612219Z",
     "start_time": "2022-10-26T02:09:31.604699Z"
    }
   },
   "outputs": [
    {
     "name": "stdout",
     "output_type": "stream",
     "text": [
      "w1:  tensor([[0.3783]], requires_grad=True)\n",
      "w2:  tensor([[1.0464]], requires_grad=True)\n"
     ]
    }
   ],
   "source": [
    "print('w1: ', w1)\n",
    "print('w2: ', w2)"
   ]
  },
  {
   "cell_type": "code",
   "execution_count": 24,
   "metadata": {
    "ExecuteTime": {
     "end_time": "2022-10-26T02:09:31.783302Z",
     "start_time": "2022-10-26T02:09:31.766244Z"
    }
   },
   "outputs": [
    {
     "data": {
      "text/plain": [
       "tensor([[ 4.7000],\n",
       "        [ 2.4000],\n",
       "        [ 7.5000],\n",
       "        [ 7.1000],\n",
       "        [ 4.3000],\n",
       "        [ 7.8160],\n",
       "        [ 8.9000],\n",
       "        [ 5.2000],\n",
       "        [ 8.5900],\n",
       "        [ 2.1000],\n",
       "        [ 8.0000],\n",
       "        [10.0000],\n",
       "        [ 4.5000],\n",
       "        [ 6.0000],\n",
       "        [ 4.0000]])"
      ]
     },
     "execution_count": 24,
     "metadata": {},
     "output_type": "execute_result"
    }
   ],
   "source": [
    "x_train_tensor = torch.from_numpy(x_train)\n",
    "x_train_tensor"
   ]
  },
  {
   "cell_type": "code",
   "execution_count": 25,
   "metadata": {
    "ExecuteTime": {
     "end_time": "2022-10-26T02:09:31.936935Z",
     "start_time": "2022-10-26T02:09:31.916779Z"
    }
   },
   "outputs": [
    {
     "data": {
      "text/plain": [
       "tensor([[1.8604],\n",
       "        [0.9500],\n",
       "        [2.9686],\n",
       "        [2.8103],\n",
       "        [1.7020],\n",
       "        [3.0937],\n",
       "        [3.5228],\n",
       "        [2.0583],\n",
       "        [3.4001],\n",
       "        [0.8312],\n",
       "        [3.1666],\n",
       "        [3.9582],\n",
       "        [1.7812],\n",
       "        [2.3749],\n",
       "        [1.5833]], grad_fn=<MmBackward0>)"
      ]
     },
     "execution_count": 25,
     "metadata": {},
     "output_type": "execute_result"
    }
   ],
   "source": [
    "predicted_in_tensor = x_train_tensor.mm(w1).mm(w2)\n",
    "predicted_in_tensor"
   ]
  },
  {
   "cell_type": "code",
   "execution_count": 26,
   "metadata": {
    "ExecuteTime": {
     "end_time": "2022-10-26T02:09:32.074174Z",
     "start_time": "2022-10-26T02:09:32.067659Z"
    }
   },
   "outputs": [
    {
     "data": {
      "text/plain": [
       "array([[1.8603536],\n",
       "       [0.9499679],\n",
       "       [2.9686496],\n",
       "       [2.8103216],\n",
       "       [1.7020259],\n",
       "       [3.0937288],\n",
       "       [3.5227973],\n",
       "       [2.0582635],\n",
       "       [3.4000933],\n",
       "       [0.8312218],\n",
       "       [3.1665595],\n",
       "       [3.9581995],\n",
       "       [1.7811898],\n",
       "       [2.3749197],\n",
       "       [1.5832797]], dtype=float32)"
      ]
     },
     "execution_count": 26,
     "metadata": {},
     "output_type": "execute_result"
    }
   ],
   "source": [
    "predicted = predicted_in_tensor.detach().numpy()\n",
    "predicted"
   ]
  },
  {
   "cell_type": "code",
   "execution_count": 27,
   "metadata": {
    "ExecuteTime": {
     "end_time": "2022-10-26T02:09:32.277327Z",
     "start_time": "2022-10-26T02:09:32.202638Z"
    }
   },
   "outputs": [
    {
     "data": {
      "image/png": "[encoded data removed]",
      "text/plain": [
       "<Figure size 864x576 with 1 Axes>"
      ]
     },
     "metadata": {
      "needs_background": "light"
     },
     "output_type": "display_data"
    }
   ],
   "source": [
    "plt.figure(figsize=(12, 8))\n",
    "plt.scatter(x_train, y_train, label=\"Original Data\", s=250, c='g')\n",
    "plt.plot(x_train, predicted, label=\"Fitted Line\")\n",
    "plt.legend()\n",
    "plt.show()"
   ]
  },
  {
   "cell_type": "code",
   "execution_count": null,
   "metadata": {},
   "outputs": [],
   "source": []
  },
  {
   "cell_type": "code",
   "execution_count": null,
   "metadata": {},
   "outputs": [],
   "source": []
  }
 ],
 "metadata": {
  "kernelspec": {
   "display_name": "Python 3 (ipykernel)",
   "language": "python",
   "name": "python3"
  },
  "language_info": {
   "codemirror_mode": {
    "name": "ipython",
    "version": 3
   },
   "file_extension": ".py",
   "mimetype": "text/x-python",
   "name": "python",
   "nbconvert_exporter": "python",
   "pygments_lexer": "ipython3",
   "version": "3.10.6"
  },
  "toc": {
   "base_numbering": 1,
   "nav_menu": {},
   "number_sections": true,
   "sideBar": true,
   "skip_h1_title": false,
   "title_cell": "Table of Contents",
   "title_sidebar": "Contents",
   "toc_cell": false,
   "toc_position": {},
   "toc_section_display": true,
   "toc_window_display": false
  },
  "vscode": {
   "interpreter": {
    "hash": "26de051ba29f2982a8de78e945f0abaf191376122a1563185a90213a26c5da77"
   }
  }
 },
 "nbformat": 4,
 "nbformat_minor": 2
}
