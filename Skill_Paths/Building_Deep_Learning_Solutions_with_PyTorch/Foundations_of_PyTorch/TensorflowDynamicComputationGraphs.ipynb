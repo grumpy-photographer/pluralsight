{
 "cells": [
  {
   "cell_type": "code",
   "execution_count": 1,
   "id": "2b44b7d9",
   "metadata": {
    "ExecuteTime": {
     "end_time": "2022-10-26T03:18:12.117213Z",
     "start_time": "2022-10-26T03:18:09.678547Z"
    }
   },
   "outputs": [],
   "source": [
    "import numpy as np\n",
    "import tensorflow as tf"
   ]
  },
  {
   "cell_type": "code",
   "execution_count": 2,
   "id": "e3b00759",
   "metadata": {
    "ExecuteTime": {
     "end_time": "2022-10-26T03:18:12.133257Z",
     "start_time": "2022-10-26T03:18:12.118213Z"
    }
   },
   "outputs": [
    {
     "data": {
      "text/plain": [
       "True"
      ]
     },
     "execution_count": 2,
     "metadata": {},
     "output_type": "execute_result"
    }
   ],
   "source": [
    "tf.executing_eagerly()"
   ]
  },
  {
   "cell_type": "code",
   "execution_count": 5,
   "id": "abda0157",
   "metadata": {
    "ExecuteTime": {
     "end_time": "2022-10-26T03:18:25.728384Z",
     "start_time": "2022-10-26T03:18:25.718032Z"
    }
   },
   "outputs": [],
   "source": [
    "W = tf.Variable(6, name=\"var_W\")\n",
    "x = tf.constant([10, 10], name=\"x\")\n",
    "b = tf.constant(3, name=\"constant_b\")"
   ]
  },
  {
   "cell_type": "code",
   "execution_count": 6,
   "id": "2b28f80a",
   "metadata": {
    "ExecuteTime": {
     "end_time": "2022-10-26T03:18:26.070426Z",
     "start_time": "2022-10-26T03:18:26.046522Z"
    }
   },
   "outputs": [
    {
     "data": {
      "text/plain": [
       "<tf.Variable 'var_W:0' shape=() dtype=int32, numpy=6>"
      ]
     },
     "execution_count": 6,
     "metadata": {},
     "output_type": "execute_result"
    }
   ],
   "source": [
    "W"
   ]
  },
  {
   "cell_type": "code",
   "execution_count": 7,
   "id": "7aaace7f",
   "metadata": {
    "ExecuteTime": {
     "end_time": "2022-10-26T03:18:34.690979Z",
     "start_time": "2022-10-26T03:18:34.669963Z"
    }
   },
   "outputs": [
    {
     "data": {
      "text/plain": [
       "<tf.Tensor: shape=(2,), dtype=int32, numpy=array([10, 10])>"
      ]
     },
     "execution_count": 7,
     "metadata": {},
     "output_type": "execute_result"
    }
   ],
   "source": [
    "x"
   ]
  },
  {
   "cell_type": "code",
   "execution_count": 8,
   "id": "02c780a9",
   "metadata": {
    "ExecuteTime": {
     "end_time": "2022-10-26T03:18:36.895838Z",
     "start_time": "2022-10-26T03:18:36.878604Z"
    }
   },
   "outputs": [
    {
     "data": {
      "text/plain": [
       "<tf.Tensor: shape=(), dtype=int32, numpy=3>"
      ]
     },
     "execution_count": 8,
     "metadata": {},
     "output_type": "execute_result"
    }
   ],
   "source": [
    "b"
   ]
  },
  {
   "cell_type": "code",
   "execution_count": 9,
   "id": "e9cc3a29",
   "metadata": {
    "ExecuteTime": {
     "end_time": "2022-10-26T03:18:45.915861Z",
     "start_time": "2022-10-26T03:18:45.907271Z"
    }
   },
   "outputs": [],
   "source": [
    "y = W * x + b"
   ]
  },
  {
   "cell_type": "code",
   "execution_count": 10,
   "id": "b703c7ab",
   "metadata": {
    "ExecuteTime": {
     "end_time": "2022-10-26T03:18:52.898451Z",
     "start_time": "2022-10-26T03:18:52.890943Z"
    }
   },
   "outputs": [
    {
     "data": {
      "text/plain": [
       "<tf.Tensor: shape=(2,), dtype=int32, numpy=array([63, 63])>"
      ]
     },
     "execution_count": 10,
     "metadata": {},
     "output_type": "execute_result"
    }
   ],
   "source": [
    "y"
   ]
  },
  {
   "cell_type": "code",
   "execution_count": 11,
   "id": "85bbe317",
   "metadata": {
    "ExecuteTime": {
     "end_time": "2022-10-26T03:19:12.480181Z",
     "start_time": "2022-10-26T03:19:12.471590Z"
    }
   },
   "outputs": [
    {
     "name": "stdout",
     "output_type": "stream",
     "text": [
      "tf.Tensor([63 63], shape=(2,), dtype=int32)\n"
     ]
    }
   ],
   "source": [
    "print(y)"
   ]
  },
  {
   "cell_type": "code",
   "execution_count": 12,
   "id": "3da46501",
   "metadata": {
    "ExecuteTime": {
     "end_time": "2022-10-26T03:19:25.421341Z",
     "start_time": "2022-10-26T03:19:25.401833Z"
    }
   },
   "outputs": [
    {
     "name": "stdout",
     "output_type": "stream",
     "text": [
      "tf.Tensor([60 60], shape=(2,), dtype=int32)\n"
     ]
    }
   ],
   "source": [
    "print(W * x)"
   ]
  },
  {
   "cell_type": "code",
   "execution_count": 13,
   "id": "8f435566",
   "metadata": {
    "ExecuteTime": {
     "end_time": "2022-10-26T03:19:37.194048Z",
     "start_time": "2022-10-26T03:19:37.177102Z"
    }
   },
   "outputs": [
    {
     "data": {
      "text/plain": [
       "array([60, 60])"
      ]
     },
     "execution_count": 13,
     "metadata": {},
     "output_type": "execute_result"
    }
   ],
   "source": [
    "np_result = np.multiply(W, x)\n",
    "np_result"
   ]
  },
  {
   "cell_type": "code",
   "execution_count": 14,
   "id": "4d125c1a",
   "metadata": {
    "ExecuteTime": {
     "end_time": "2022-10-26T03:19:42.409663Z",
     "start_time": "2022-10-26T03:19:42.396781Z"
    }
   },
   "outputs": [
    {
     "data": {
      "text/plain": [
       "6"
      ]
     },
     "execution_count": 14,
     "metadata": {},
     "output_type": "execute_result"
    }
   ],
   "source": [
    "W.numpy()"
   ]
  },
  {
   "cell_type": "code",
   "execution_count": 15,
   "id": "0e62a20f",
   "metadata": {
    "ExecuteTime": {
     "end_time": "2022-10-26T03:19:45.473955Z",
     "start_time": "2022-10-26T03:19:45.454558Z"
    }
   },
   "outputs": [
    {
     "data": {
      "text/plain": [
       "array([63, 63])"
      ]
     },
     "execution_count": 15,
     "metadata": {},
     "output_type": "execute_result"
    }
   ],
   "source": [
    "y.numpy()"
   ]
  }
 ],
 "metadata": {
  "kernelspec": {
   "display_name": "Python 3 (ipykernel)",
   "language": "python",
   "name": "python3"
  },
  "language_info": {
   "codemirror_mode": {
    "name": "ipython",
    "version": 3
   },
   "file_extension": ".py",
   "mimetype": "text/x-python",
   "name": "python",
   "nbconvert_exporter": "python",
   "pygments_lexer": "ipython3",
   "version": "3.10.6"
  },
  "toc": {
   "base_numbering": 1,
   "nav_menu": {},
   "number_sections": true,
   "sideBar": true,
   "skip_h1_title": false,
   "title_cell": "Table of Contents",
   "title_sidebar": "Contents",
   "toc_cell": false,
   "toc_position": {},
   "toc_section_display": true,
   "toc_window_display": false
  }
 },
 "nbformat": 4,
 "nbformat_minor": 5
}
