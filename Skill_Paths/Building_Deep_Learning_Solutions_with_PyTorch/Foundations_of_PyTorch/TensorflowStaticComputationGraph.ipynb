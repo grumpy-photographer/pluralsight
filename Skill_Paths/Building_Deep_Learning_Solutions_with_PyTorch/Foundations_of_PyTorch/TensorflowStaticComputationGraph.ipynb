{
 "cells": [
  {
   "cell_type": "code",
   "execution_count": 1,
   "id": "d2057eee",
   "metadata": {
    "ExecuteTime": {
     "end_time": "2022-10-26T03:09:47.666181Z",
     "start_time": "2022-10-26T03:09:45.096414Z"
    }
   },
   "outputs": [
    {
     "name": "stdout",
     "output_type": "stream",
     "text": [
      "WARNING:tensorflow:From C:\\Users\\natha\\AppData\\Roaming\\Python\\Python310\\site-packages\\tensorflow\\python\\compat\\v2_compat.py:107: disable_resource_variables (from tensorflow.python.ops.variable_scope) is deprecated and will be removed in a future version.\n",
      "Instructions for updating:\n",
      "non-resource variables are not supported in the long term\n"
     ]
    }
   ],
   "source": [
    "import tensorflow.compat.v1 as tf\n",
    "\n",
    "tf.disable_v2_behavior()"
   ]
  },
  {
   "cell_type": "code",
   "execution_count": 2,
   "id": "e04bd4ff",
   "metadata": {
    "ExecuteTime": {
     "end_time": "2022-10-26T03:09:47.681196Z",
     "start_time": "2022-10-26T03:09:47.667179Z"
    }
   },
   "outputs": [],
   "source": [
    "W = tf.Variable(6, name=\"var_W\")\n",
    "x = tf.placeholder(tf.int32, shape=[3], name=\"x\")\n",
    "b = tf.constant(3, name=\"constant_b\")"
   ]
  },
  {
   "cell_type": "code",
   "execution_count": 3,
   "id": "e24d417b",
   "metadata": {
    "ExecuteTime": {
     "end_time": "2022-10-26T03:09:47.696737Z",
     "start_time": "2022-10-26T03:09:47.683197Z"
    }
   },
   "outputs": [
    {
     "data": {
      "text/plain": [
       "<tf.Variable 'var_W:0' shape=() dtype=int32_ref>"
      ]
     },
     "execution_count": 3,
     "metadata": {},
     "output_type": "execute_result"
    }
   ],
   "source": [
    "W"
   ]
  },
  {
   "cell_type": "code",
   "execution_count": 4,
   "id": "efc8dd86",
   "metadata": {
    "ExecuteTime": {
     "end_time": "2022-10-26T03:09:47.712253Z",
     "start_time": "2022-10-26T03:09:47.697738Z"
    }
   },
   "outputs": [
    {
     "data": {
      "text/plain": [
       "<tf.Tensor 'x:0' shape=(3,) dtype=int32>"
      ]
     },
     "execution_count": 4,
     "metadata": {},
     "output_type": "execute_result"
    }
   ],
   "source": [
    "x"
   ]
  },
  {
   "cell_type": "code",
   "execution_count": 5,
   "id": "dee35a90",
   "metadata": {
    "ExecuteTime": {
     "end_time": "2022-10-26T03:09:47.727497Z",
     "start_time": "2022-10-26T03:09:47.713253Z"
    }
   },
   "outputs": [
    {
     "data": {
      "text/plain": [
       "<tf.Tensor 'constant_b:0' shape=() dtype=int32>"
      ]
     },
     "execution_count": 5,
     "metadata": {},
     "output_type": "execute_result"
    }
   ],
   "source": [
    "b"
   ]
  },
  {
   "cell_type": "code",
   "execution_count": 6,
   "id": "6fdfd4e4",
   "metadata": {
    "ExecuteTime": {
     "end_time": "2022-10-26T03:09:47.743003Z",
     "start_time": "2022-10-26T03:09:47.728425Z"
    }
   },
   "outputs": [],
   "source": [
    "y = W * x + b"
   ]
  },
  {
   "cell_type": "code",
   "execution_count": 7,
   "id": "638e0616",
   "metadata": {
    "ExecuteTime": {
     "end_time": "2022-10-26T03:09:47.759096Z",
     "start_time": "2022-10-26T03:09:47.744441Z"
    }
   },
   "outputs": [
    {
     "data": {
      "text/plain": [
       "<tf.Tensor 'add:0' shape=(3,) dtype=int32>"
      ]
     },
     "execution_count": 7,
     "metadata": {},
     "output_type": "execute_result"
    }
   ],
   "source": [
    "y"
   ]
  },
  {
   "cell_type": "code",
   "execution_count": 8,
   "id": "28545466",
   "metadata": {
    "ExecuteTime": {
     "end_time": "2022-10-26T03:09:47.775188Z",
     "start_time": "2022-10-26T03:09:47.760098Z"
    }
   },
   "outputs": [],
   "source": [
    "init = tf.global_variables_initializer()"
   ]
  },
  {
   "cell_type": "code",
   "execution_count": 9,
   "id": "c6de680e",
   "metadata": {
    "ExecuteTime": {
     "end_time": "2022-10-26T03:09:47.806086Z",
     "start_time": "2022-10-26T03:09:47.776187Z"
    }
   },
   "outputs": [
    {
     "name": "stdout",
     "output_type": "stream",
     "text": [
      "Wx+b =  [ 63 123 183]\n"
     ]
    }
   ],
   "source": [
    "with tf.Session() as sess:\n",
    "    sess.run(init)\n",
    "\n",
    "    y_result = sess.run(y, feed_dict={x: [10, 20, 30]})\n",
    "\n",
    "    print(\"Wx+b = \", y_result)"
   ]
  },
  {
   "cell_type": "code",
   "execution_count": 10,
   "id": "5091b85b",
   "metadata": {
    "ExecuteTime": {
     "end_time": "2022-10-26T03:09:47.837603Z",
     "start_time": "2022-10-26T03:09:47.807541Z"
    }
   },
   "outputs": [],
   "source": [
    "writer = tf.summary.FileWriter(\"./graphs\", sess.graph)\n",
    "writer.close()"
   ]
  },
  {
   "cell_type": "code",
   "execution_count": 12,
   "id": "29d8f1f5",
   "metadata": {
    "ExecuteTime": {
     "end_time": "2022-10-26T03:10:07.347589Z",
     "start_time": "2022-10-26T03:10:07.344584Z"
    }
   },
   "outputs": [],
   "source": [
    "graph = tf.get_default_graph()"
   ]
  },
  {
   "cell_type": "code",
   "execution_count": 13,
   "id": "6672fcb1",
   "metadata": {
    "ExecuteTime": {
     "end_time": "2022-10-26T03:10:12.420523Z",
     "start_time": "2022-10-26T03:10:12.404514Z"
    }
   },
   "outputs": [
    {
     "name": "stdout",
     "output_type": "stream",
     "text": [
      "[<tf.Operation 'var_W/initial_value' type=Const>, <tf.Operation 'var_W' type=VariableV2>, <tf.Operation 'var_W/Assign' type=Assign>, <tf.Operation 'var_W/read' type=Identity>, <tf.Operation 'x' type=Placeholder>, <tf.Operation 'constant_b' type=Const>, <tf.Operation 'mul' type=Mul>, <tf.Operation 'add' type=AddV2>, <tf.Operation 'init' type=NoOp>]\n"
     ]
    }
   ],
   "source": [
    "print(graph.get_operations())"
   ]
  },
  {
   "cell_type": "code",
   "execution_count": null,
   "id": "fe4c8b5c",
   "metadata": {},
   "outputs": [],
   "source": []
  }
 ],
 "metadata": {
  "kernelspec": {
   "display_name": "Python 3 (ipykernel)",
   "language": "python",
   "name": "python3"
  },
  "language_info": {
   "codemirror_mode": {
    "name": "ipython",
    "version": 3
   },
   "file_extension": ".py",
   "mimetype": "text/x-python",
   "name": "python",
   "nbconvert_exporter": "python",
   "pygments_lexer": "ipython3",
   "version": "3.10.6"
  },
  "toc": {
   "base_numbering": 1,
   "nav_menu": {},
   "number_sections": true,
   "sideBar": true,
   "skip_h1_title": false,
   "title_cell": "Table of Contents",
   "title_sidebar": "Contents",
   "toc_cell": false,
   "toc_position": {},
   "toc_section_display": true,
   "toc_window_display": false
  }
 },
 "nbformat": 4,
 "nbformat_minor": 5
}
