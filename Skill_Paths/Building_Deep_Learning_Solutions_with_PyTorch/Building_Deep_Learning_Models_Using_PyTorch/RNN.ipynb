{
 "cells": [
  {
   "cell_type": "code",
   "execution_count": 24,
   "id": "b8124c0d",
   "metadata": {
    "ExecuteTime": {
     "end_time": "2022-11-06T03:43:29.207830Z",
     "start_time": "2022-11-06T03:43:28.870708Z"
    }
   },
   "outputs": [],
   "source": [
    "import pandas as pd\n",
    "import random\n",
    "from sklearn import preprocessing\n",
    "import string\n",
    "import torch\n",
    "import torch.nn as nn\n",
    "from sklearn.metrics import confusion_matrix\n",
    "import numpy as np\n",
    "import seaborn as sns"
   ]
  },
  {
   "cell_type": "code",
   "execution_count": 2,
   "id": "ce2493b0",
   "metadata": {
    "ExecuteTime": {
     "end_time": "2022-11-06T03:36:21.494610Z",
     "start_time": "2022-11-06T03:36:21.465819Z"
    },
    "scrolled": true
   },
   "outputs": [
    {
     "data": {
      "text/html": [
       "<div>\n",
       "<style scoped>\n",
       "    .dataframe tbody tr th:only-of-type {\n",
       "        vertical-align: middle;\n",
       "    }\n",
       "\n",
       "    .dataframe tbody tr th {\n",
       "        vertical-align: top;\n",
       "    }\n",
       "\n",
       "    .dataframe thead th {\n",
       "        text-align: right;\n",
       "    }\n",
       "</style>\n",
       "<table border=\"1\" class=\"dataframe\">\n",
       "  <thead>\n",
       "    <tr style=\"text-align: right;\">\n",
       "      <th></th>\n",
       "      <th>Name</th>\n",
       "      <th>Gender</th>\n",
       "    </tr>\n",
       "  </thead>\n",
       "  <tbody>\n",
       "    <tr>\n",
       "      <th>0</th>\n",
       "      <td>Aamir</td>\n",
       "      <td>Male</td>\n",
       "    </tr>\n",
       "    <tr>\n",
       "      <th>1</th>\n",
       "      <td>Aaron</td>\n",
       "      <td>Female</td>\n",
       "    </tr>\n",
       "    <tr>\n",
       "      <th>2</th>\n",
       "      <td>Aaron</td>\n",
       "      <td>Male</td>\n",
       "    </tr>\n",
       "    <tr>\n",
       "      <th>3</th>\n",
       "      <td>Abagael</td>\n",
       "      <td>Female</td>\n",
       "    </tr>\n",
       "    <tr>\n",
       "      <th>4</th>\n",
       "      <td>Abagail</td>\n",
       "      <td>Female</td>\n",
       "    </tr>\n",
       "  </tbody>\n",
       "</table>\n",
       "</div>"
      ],
      "text/plain": [
       "      Name  Gender\n",
       "0    Aamir    Male\n",
       "1    Aaron  Female\n",
       "2    Aaron    Male\n",
       "3  Abagael  Female\n",
       "4  Abagail  Female"
      ]
     },
     "execution_count": 2,
     "metadata": {},
     "output_type": "execute_result"
    }
   ],
   "source": [
    "names_data = pd.read_csv(\"datasets/gender_by_names/names.csv\")\n",
    "\n",
    "names_data.head()"
   ]
  },
  {
   "cell_type": "code",
   "execution_count": 3,
   "id": "7e841ce6",
   "metadata": {
    "ExecuteTime": {
     "end_time": "2022-11-06T03:36:21.510406Z",
     "start_time": "2022-11-06T03:36:21.496617Z"
    }
   },
   "outputs": [
    {
     "data": {
      "text/plain": [
       "10132"
      ]
     },
     "execution_count": 3,
     "metadata": {},
     "output_type": "execute_result"
    }
   ],
   "source": [
    "len(names_data)"
   ]
  },
  {
   "cell_type": "code",
   "execution_count": 4,
   "id": "357e8b73",
   "metadata": {
    "ExecuteTime": {
     "end_time": "2022-11-06T03:36:21.525845Z",
     "start_time": "2022-11-06T03:36:21.511405Z"
    }
   },
   "outputs": [
    {
     "data": {
      "text/plain": [
       "9543"
      ]
     },
     "execution_count": 4,
     "metadata": {},
     "output_type": "execute_result"
    }
   ],
   "source": [
    "len(names_data['Name'].unique())"
   ]
  },
  {
   "cell_type": "code",
   "execution_count": 5,
   "id": "de622cf9",
   "metadata": {
    "ExecuteTime": {
     "end_time": "2022-11-06T03:36:21.541089Z",
     "start_time": "2022-11-06T03:36:21.527844Z"
    }
   },
   "outputs": [],
   "source": [
    "names_data = names_data.drop_duplicates(subset=['Name'],\n",
    "                                        keep=random.choice(['first', 'last']))"
   ]
  },
  {
   "cell_type": "code",
   "execution_count": 6,
   "id": "c156b190",
   "metadata": {
    "ExecuteTime": {
     "end_time": "2022-11-06T03:36:21.556865Z",
     "start_time": "2022-11-06T03:36:21.543089Z"
    }
   },
   "outputs": [
    {
     "data": {
      "text/plain": [
       "9543"
      ]
     },
     "execution_count": 6,
     "metadata": {},
     "output_type": "execute_result"
    }
   ],
   "source": [
    "len(names_data)"
   ]
  },
  {
   "cell_type": "code",
   "execution_count": 7,
   "id": "9a3dc590",
   "metadata": {
    "ExecuteTime": {
     "end_time": "2022-11-06T03:36:21.572835Z",
     "start_time": "2022-11-06T03:36:21.558865Z"
    }
   },
   "outputs": [
    {
     "data": {
      "text/html": [
       "<div>\n",
       "<style scoped>\n",
       "    .dataframe tbody tr th:only-of-type {\n",
       "        vertical-align: middle;\n",
       "    }\n",
       "\n",
       "    .dataframe tbody tr th {\n",
       "        vertical-align: top;\n",
       "    }\n",
       "\n",
       "    .dataframe thead th {\n",
       "        text-align: right;\n",
       "    }\n",
       "</style>\n",
       "<table border=\"1\" class=\"dataframe\">\n",
       "  <thead>\n",
       "    <tr style=\"text-align: right;\">\n",
       "      <th></th>\n",
       "      <th>Name</th>\n",
       "      <th>Gender</th>\n",
       "    </tr>\n",
       "  </thead>\n",
       "  <tbody>\n",
       "    <tr>\n",
       "      <th>0</th>\n",
       "      <td>Aamir</td>\n",
       "      <td>Male</td>\n",
       "    </tr>\n",
       "    <tr>\n",
       "      <th>2</th>\n",
       "      <td>Aaron</td>\n",
       "      <td>Male</td>\n",
       "    </tr>\n",
       "    <tr>\n",
       "      <th>3</th>\n",
       "      <td>Abagael</td>\n",
       "      <td>Female</td>\n",
       "    </tr>\n",
       "    <tr>\n",
       "      <th>4</th>\n",
       "      <td>Abagail</td>\n",
       "      <td>Female</td>\n",
       "    </tr>\n",
       "    <tr>\n",
       "      <th>5</th>\n",
       "      <td>Abbe</td>\n",
       "      <td>Female</td>\n",
       "    </tr>\n",
       "  </tbody>\n",
       "</table>\n",
       "</div>"
      ],
      "text/plain": [
       "      Name  Gender\n",
       "0    Aamir    Male\n",
       "2    Aaron    Male\n",
       "3  Abagael  Female\n",
       "4  Abagail  Female\n",
       "5     Abbe  Female"
      ]
     },
     "execution_count": 7,
     "metadata": {},
     "output_type": "execute_result"
    }
   ],
   "source": [
    "names_data.head()"
   ]
  },
  {
   "cell_type": "code",
   "execution_count": 8,
   "id": "5aadff04",
   "metadata": {
    "ExecuteTime": {
     "end_time": "2022-11-06T03:36:21.588836Z",
     "start_time": "2022-11-06T03:36:21.573835Z"
    }
   },
   "outputs": [
    {
     "data": {
      "text/html": [
       "<div>\n",
       "<style scoped>\n",
       "    .dataframe tbody tr th:only-of-type {\n",
       "        vertical-align: middle;\n",
       "    }\n",
       "\n",
       "    .dataframe tbody tr th {\n",
       "        vertical-align: top;\n",
       "    }\n",
       "\n",
       "    .dataframe thead th {\n",
       "        text-align: right;\n",
       "    }\n",
       "</style>\n",
       "<table border=\"1\" class=\"dataframe\">\n",
       "  <thead>\n",
       "    <tr style=\"text-align: right;\">\n",
       "      <th></th>\n",
       "      <th>Name</th>\n",
       "      <th>Gender</th>\n",
       "    </tr>\n",
       "  </thead>\n",
       "  <tbody>\n",
       "    <tr>\n",
       "      <th>0</th>\n",
       "      <td>Aamir</td>\n",
       "      <td>1</td>\n",
       "    </tr>\n",
       "    <tr>\n",
       "      <th>2</th>\n",
       "      <td>Aaron</td>\n",
       "      <td>1</td>\n",
       "    </tr>\n",
       "    <tr>\n",
       "      <th>3</th>\n",
       "      <td>Abagael</td>\n",
       "      <td>0</td>\n",
       "    </tr>\n",
       "    <tr>\n",
       "      <th>4</th>\n",
       "      <td>Abagail</td>\n",
       "      <td>0</td>\n",
       "    </tr>\n",
       "    <tr>\n",
       "      <th>5</th>\n",
       "      <td>Abbe</td>\n",
       "      <td>0</td>\n",
       "    </tr>\n",
       "  </tbody>\n",
       "</table>\n",
       "</div>"
      ],
      "text/plain": [
       "      Name  Gender\n",
       "0    Aamir       1\n",
       "2    Aaron       1\n",
       "3  Abagael       0\n",
       "4  Abagail       0\n",
       "5     Abbe       0"
      ]
     },
     "execution_count": 8,
     "metadata": {},
     "output_type": "execute_result"
    }
   ],
   "source": [
    "le = preprocessing.LabelEncoder()\n",
    "names_data['Gender'] = le.fit_transform(names_data['Gender'])\n",
    "names_data.head()"
   ]
  },
  {
   "cell_type": "code",
   "execution_count": 9,
   "id": "8060ebac",
   "metadata": {
    "ExecuteTime": {
     "end_time": "2022-11-06T03:36:21.604838Z",
     "start_time": "2022-11-06T03:36:21.589835Z"
    }
   },
   "outputs": [],
   "source": [
    "genders = ['Female', 'Male']"
   ]
  },
  {
   "cell_type": "code",
   "execution_count": 10,
   "id": "057cd77d",
   "metadata": {
    "ExecuteTime": {
     "end_time": "2022-11-06T03:36:21.619977Z",
     "start_time": "2022-11-06T03:36:21.605837Z"
    }
   },
   "outputs": [],
   "source": [
    "all_letters = string.ascii_letters + \" .,;'\""
   ]
  },
  {
   "cell_type": "code",
   "execution_count": 11,
   "id": "1d13bb0e",
   "metadata": {
    "ExecuteTime": {
     "end_time": "2022-11-06T03:36:21.635489Z",
     "start_time": "2022-11-06T03:36:21.620978Z"
    }
   },
   "outputs": [
    {
     "data": {
      "text/plain": [
       "\"abcdefghijklmnopqrstuvwxyzABCDEFGHIJKLMNOPQRSTUVWXYZ .,;'\""
      ]
     },
     "execution_count": 11,
     "metadata": {},
     "output_type": "execute_result"
    }
   ],
   "source": [
    "n_letters = len(all_letters)\n",
    "all_letters"
   ]
  },
  {
   "cell_type": "code",
   "execution_count": 12,
   "id": "e579cbea",
   "metadata": {
    "ExecuteTime": {
     "end_time": "2022-11-06T03:36:21.651488Z",
     "start_time": "2022-11-06T03:36:21.637488Z"
    }
   },
   "outputs": [],
   "source": [
    "def name_to_tensor(name):\n",
    "    name_in_tensor = torch.zeros(len(name), 1, n_letters)\n",
    "    for i, letter in enumerate(name):\n",
    "        name_in_tensor[i][0][all_letters.find(letter)] = 1\n",
    "\n",
    "    return name_in_tensor"
   ]
  },
  {
   "cell_type": "code",
   "execution_count": 13,
   "id": "c84f0c73",
   "metadata": {
    "ExecuteTime": {
     "end_time": "2022-11-06T03:36:21.666146Z",
     "start_time": "2022-11-06T03:36:21.652489Z"
    }
   },
   "outputs": [
    {
     "data": {
      "text/plain": [
       "tensor([[[1., 0., 0., 0., 0., 0., 0., 0., 0., 0., 0., 0., 0., 0., 0., 0., 0.,\n",
       "          0., 0., 0., 0., 0., 0., 0., 0., 0., 0., 0., 0., 0., 0., 0., 0., 0.,\n",
       "          0., 0., 0., 0., 0., 0., 0., 0., 0., 0., 0., 0., 0., 0., 0., 0., 0.,\n",
       "          0., 0., 0., 0., 0., 0.]]])"
      ]
     },
     "execution_count": 13,
     "metadata": {},
     "output_type": "execute_result"
    }
   ],
   "source": [
    "name_to_tensor('a')"
   ]
  },
  {
   "cell_type": "code",
   "execution_count": 14,
   "id": "ae9e6408",
   "metadata": {
    "ExecuteTime": {
     "end_time": "2022-11-06T03:36:21.681824Z",
     "start_time": "2022-11-06T03:36:21.667151Z"
    }
   },
   "outputs": [
    {
     "data": {
      "text/plain": [
       "tensor([[[1., 0., 0., 0., 0., 0., 0., 0., 0., 0., 0., 0., 0., 0., 0., 0., 0.,\n",
       "          0., 0., 0., 0., 0., 0., 0., 0., 0., 0., 0., 0., 0., 0., 0., 0., 0.,\n",
       "          0., 0., 0., 0., 0., 0., 0., 0., 0., 0., 0., 0., 0., 0., 0., 0., 0.,\n",
       "          0., 0., 0., 0., 0., 0.]],\n",
       "\n",
       "        [[0., 0., 0., 0., 0., 0., 0., 0., 0., 0., 0., 0., 0., 0., 0., 0., 0.,\n",
       "          0., 0., 0., 0., 0., 0., 0., 0., 0., 1., 0., 0., 0., 0., 0., 0., 0.,\n",
       "          0., 0., 0., 0., 0., 0., 0., 0., 0., 0., 0., 0., 0., 0., 0., 0., 0.,\n",
       "          0., 0., 0., 0., 0., 0.]]])"
      ]
     },
     "execution_count": 14,
     "metadata": {},
     "output_type": "execute_result"
    }
   ],
   "source": [
    "name_to_tensor('aA')"
   ]
  },
  {
   "cell_type": "code",
   "execution_count": 15,
   "id": "e855b4ce",
   "metadata": {
    "ExecuteTime": {
     "end_time": "2022-11-06T03:36:21.697560Z",
     "start_time": "2022-11-06T03:36:21.682824Z"
    }
   },
   "outputs": [],
   "source": [
    "class RNN(nn.Module):\n",
    "\n",
    "    def __init__(self, input_size, hidden_size, output_size):\n",
    "        super(RNN, self).__init__()\n",
    "\n",
    "        self.hidden_size = hidden_size\n",
    "\n",
    "        self.i2h = nn.Linear(input_size + hidden_size, hidden_size)\n",
    "        self.i2o = nn.Linear(input_size + hidden_size, output_size)\n",
    "        self.softmax = nn.LogSoftmax(dim=1)\n",
    "\n",
    "    def forward(self, input, hidden):\n",
    "        combined = torch.cat((input, hidden), 1)\n",
    "        hidden = self.i2h(combined)\n",
    "        output = self.i2o(combined)\n",
    "        output = self.softmax(output)\n",
    "        return output, hidden\n",
    "\n",
    "    def initHidden(self):\n",
    "        return torch.zeros(1, self.hidden_size)"
   ]
  },
  {
   "cell_type": "code",
   "execution_count": 16,
   "id": "f3e71717",
   "metadata": {
    "ExecuteTime": {
     "end_time": "2022-11-06T03:36:21.712971Z",
     "start_time": "2022-11-06T03:36:21.698561Z"
    }
   },
   "outputs": [],
   "source": [
    "n_hidden = 128\n",
    "n_genders = len(genders)\n",
    "\n",
    "rnn = RNN(n_letters, n_hidden, output_size=n_genders)"
   ]
  },
  {
   "cell_type": "code",
   "execution_count": 17,
   "id": "45f5204e",
   "metadata": {
    "ExecuteTime": {
     "end_time": "2022-11-06T03:36:21.728820Z",
     "start_time": "2022-11-06T03:36:21.713969Z"
    }
   },
   "outputs": [],
   "source": [
    "iterations = 100000\n",
    "criterion = nn.NLLLoss()\n",
    "learning_rate = 0.005"
   ]
  },
  {
   "cell_type": "code",
   "execution_count": 18,
   "id": "ec62c008",
   "metadata": {
    "ExecuteTime": {
     "end_time": "2022-11-06T03:36:21.744238Z",
     "start_time": "2022-11-06T03:36:21.729822Z"
    }
   },
   "outputs": [],
   "source": [
    "def output_to_gender(output):\n",
    "\n",
    "    top_n, top_index = output.topk(1)\n",
    "    pred_i = top_index[0].item()\n",
    "    pred = genders[pred_i]\n",
    "\n",
    "    return pred"
   ]
  },
  {
   "cell_type": "code",
   "execution_count": 19,
   "id": "4429e295",
   "metadata": {
    "ExecuteTime": {
     "end_time": "2022-11-06T03:42:34.796930Z",
     "start_time": "2022-11-06T03:36:21.746239Z"
    }
   },
   "outputs": [
    {
     "name": "stderr",
     "output_type": "stream",
     "text": [
      "C:\\Users\\natha\\AppData\\Local\\Temp\\ipykernel_7536\\1460729713.py:21: UserWarning: This overload of add_ is deprecated:\n",
      "\tadd_(Number alpha, Tensor other)\n",
      "Consider using one of the following signatures instead:\n",
      "\tadd_(Tensor other, *, Number alpha) (Triggered internally at  ..\\torch\\csrc\\utils\\python_arg_parser.cpp:1174.)\n",
      "  p.data.add_(-learning_rate, p.grad.data)\n"
     ]
    },
    {
     "name": "stdout",
     "output_type": "stream",
     "text": [
      "iters- 5000 5% (2.451145887374878) Name- Bela Gender- Female ✗ (Male)\n",
      "iters- 10000 10% (0.15420183539390564) Name- Rosalie Gender- Female ✓\n",
      "iters- 15000 15% (0.1267431229352951) Name- Tucker Gender- Male ✓\n",
      "iters- 20000 20% (0.5003519058227539) Name- Abdulkarim Gender- Male ✓\n",
      "iters- 25000 25% (0.4103381037712097) Name- Angel Gender- Male ✓\n",
      "iters- 30000 30% (0.15564747154712677) Name- Brandi Gender- Female ✓\n",
      "iters- 35000 35% (0.004067007452249527) Name- Erinna Gender- Female ✓\n",
      "iters- 40000 40% (0.2822185754776001) Name- Noach Gender- Male ✓\n",
      "iters- 45000 45% (0.7760442495346069) Name- Pasquale Gender- Female ✗ (Male)\n",
      "iters- 50000 50% (0.17016837000846863) Name- Nico Gender- Male ✓\n",
      "iters- 55000 55% (0.02430010959506035) Name- Rana Gender- Female ✓\n",
      "iters- 60000 60% (0.3996577262878418) Name- Audrie Gender- Female ✓\n",
      "iters- 65000 65% (0.02462013065814972) Name- Cleva Gender- Female ✓\n",
      "iters- 70000 70% (0.12492665648460388) Name- Syble Gender- Female ✓\n",
      "iters- 75000 75% (0.0808592364192009) Name- Larine Gender- Female ✓\n",
      "iters- 80000 80% (0.0066049834713339806) Name- Adriena Gender- Female ✓\n",
      "iters- 85000 85% (0.0038459161296486855) Name- Kenisha Gender- Female ✓\n",
      "iters- 90000 90% (0.0909317210316658) Name- Cedrick Gender- Male ✓\n",
      "iters- 95000 95% (0.36956503987312317) Name- Shannen Gender- Female ✓\n",
      "iters- 100000 100% (0.2669444680213928) Name- Ami Gender- Female ✓\n"
     ]
    }
   ],
   "source": [
    "for iteration in range(1, iterations + 1):\n",
    "\n",
    "    i = random.randint(0, len(names_data) - 1)\n",
    "\n",
    "    name = names_data.iloc[i][0]\n",
    "    name_in_tensor = name_to_tensor(name)\n",
    "\n",
    "    gender = names_data.iloc[i][1]\n",
    "    gender_in_tensor = torch.LongTensor([gender])\n",
    "\n",
    "    hidden = rnn.initHidden()\n",
    "    rnn.zero_grad()\n",
    "\n",
    "    for i in range(name_in_tensor.size()[0]):\n",
    "        output, hidden = rnn(name_in_tensor[i], hidden)\n",
    "\n",
    "    loss = criterion(output, gender_in_tensor)\n",
    "    loss.backward()\n",
    "\n",
    "    for p in rnn.parameters():\n",
    "        p.data.add_(-learning_rate, p.grad.data)\n",
    "\n",
    "    if iteration % 5000 == 0:\n",
    "\n",
    "        pred = output_to_gender(output)\n",
    "\n",
    "        correct = '✓' if pred == genders[gender] else '✗ (%s)' % genders[gender]\n",
    "        print('iters- %d %d%% (%s) Name- %s Gender- %s %s' % \\\n",
    "              (iteration, iteration/iterations*100, loss.item(), name, pred, correct))"
   ]
  },
  {
   "cell_type": "code",
   "execution_count": 20,
   "id": "165da21c",
   "metadata": {
    "ExecuteTime": {
     "end_time": "2022-11-06T03:42:54.301998Z",
     "start_time": "2022-11-06T03:42:34.800930Z"
    }
   },
   "outputs": [],
   "source": [
    "n_confusion = 10000\n",
    "\n",
    "prediction = []\n",
    "actual = []\n",
    "\n",
    "for _ in range(n_confusion):\n",
    "    i = random.randint(0, len(names_data) - 1)\n",
    "    name = names_data.iloc[i][0]\n",
    "    name_in_tensor = name_to_tensor(name)\n",
    "\n",
    "    gender_idx = names_data.iloc[i][1]\n",
    "    gender_in_tensor = torch.LongTensor([gender_idx])\n",
    "\n",
    "    hidden = rnn.initHidden()\n",
    "\n",
    "    for j in range(name_in_tensor.size()[0]):\n",
    "        output, hidden = rnn(name_in_tensor[j], hidden)\n",
    "\n",
    "    pred = output_to_gender(output)\n",
    "\n",
    "    prediction.append(pred)\n",
    "    actual.append(genders[gender_idx])"
   ]
  },
  {
   "cell_type": "code",
   "execution_count": 21,
   "id": "1062e474",
   "metadata": {
    "ExecuteTime": {
     "end_time": "2022-11-06T03:42:54.317171Z",
     "start_time": "2022-11-06T03:42:54.304059Z"
    }
   },
   "outputs": [],
   "source": [
    "np_prediction = np.array(prediction)\n",
    "np_actual = np.array(actual)"
   ]
  },
  {
   "cell_type": "code",
   "execution_count": 22,
   "id": "f5f9182b",
   "metadata": {
    "ExecuteTime": {
     "end_time": "2022-11-06T03:42:54.349193Z",
     "start_time": "2022-11-06T03:42:54.323173Z"
    }
   },
   "outputs": [],
   "source": [
    "cm = confusion_matrix(np.where(np_prediction == \"Female\", True, False),\n",
    "                      np.where(np_actual == \"Female\", True, False))"
   ]
  },
  {
   "cell_type": "code",
   "execution_count": 31,
   "id": "196431c6",
   "metadata": {
    "ExecuteTime": {
     "end_time": "2022-11-06T03:46:35.945484Z",
     "start_time": "2022-11-06T03:46:35.818976Z"
    }
   },
   "outputs": [
    {
     "data": {
      "image/png": "[encoded data removed]",
      "text/plain": [
       "<Figure size 432x288 with 2 Axes>"
      ]
     },
     "metadata": {
      "needs_background": "light"
     },
     "output_type": "display_data"
    }
   ],
   "source": [
    "sns.heatmap(cm, annot=True, fmt='d', cmap=\"Greens\")"
   ]
  },
  {
   "cell_type": "code",
   "execution_count": null,
   "id": "cf921c63",
   "metadata": {},
   "outputs": [],
   "source": []
  }
 ],
 "metadata": {
  "kernelspec": {
   "display_name": "Python 3 (ipykernel)",
   "language": "python",
   "name": "python3"
  },
  "language_info": {
   "codemirror_mode": {
    "name": "ipython",
    "version": 3
   },
   "file_extension": ".py",
   "mimetype": "text/x-python",
   "name": "python",
   "nbconvert_exporter": "python",
   "pygments_lexer": "ipython3",
   "version": "3.10.6"
  },
  "toc": {
   "base_numbering": 1,
   "nav_menu": {},
   "number_sections": true,
   "sideBar": true,
   "skip_h1_title": false,
   "title_cell": "Table of Contents",
   "title_sidebar": "Contents",
   "toc_cell": false,
   "toc_position": {},
   "toc_section_display": true,
   "toc_window_display": false
  }
 },
 "nbformat": 4,
 "nbformat_minor": 5
}
