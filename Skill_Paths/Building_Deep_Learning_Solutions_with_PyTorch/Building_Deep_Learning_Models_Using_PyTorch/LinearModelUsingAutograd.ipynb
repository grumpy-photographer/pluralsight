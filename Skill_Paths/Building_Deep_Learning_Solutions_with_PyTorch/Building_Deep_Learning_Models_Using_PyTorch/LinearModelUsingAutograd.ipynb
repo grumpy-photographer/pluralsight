{
 "cells": [
  {
   "cell_type": "code",
   "execution_count": 1,
   "metadata": {},
   "outputs": [],
   "source": [
    "import numpy as np\n",
    "import matplotlib.pyplot as plt"
   ]
  },
  {
   "cell_type": "code",
   "execution_count": 2,
   "metadata": {},
   "outputs": [],
   "source": [
    "x_train = np.array(\n",
    "    [\n",
    "        [3.3],\n",
    "        [4.4],\n",
    "        [5.5],\n",
    "        [6.71],\n",
    "        [6.93],\n",
    "        [4.168],\n",
    "        [9.779],\n",
    "        [6.182],\n",
    "        [7.59],\n",
    "        [2.167],\n",
    "        [7.042],\n",
    "        [10.791],\n",
    "        [5.313],\n",
    "        [7.997],\n",
    "        [3.1],\n",
    "    ],\n",
    "    dtype=np.float32,\n",
    ")\n",
    "\n",
    "y_train = np.array(\n",
    "    [\n",
    "        [1.7],\n",
    "        [2.76],\n",
    "        [2.09],\n",
    "        [3.19],\n",
    "        [1.694],\n",
    "        [1.573],\n",
    "        [3.366],\n",
    "        [2.596],\n",
    "        [2.53],\n",
    "        [1.221],\n",
    "        [2.827],\n",
    "        [3.465],\n",
    "        [1.65],\n",
    "        [2.904],\n",
    "        [1.3],\n",
    "    ],\n",
    "    dtype=np.float32,\n",
    ")"
   ]
  },
  {
   "cell_type": "code",
   "execution_count": 3,
   "metadata": {},
   "outputs": [
    {
     "data": {
      "image/png": "[encoded data removed]",
      "text/plain": [
       "<Figure size 432x288 with 1 Axes>"
      ]
     },
     "metadata": {
      "needs_background": "light"
     },
     "output_type": "display_data"
    }
   ],
   "source": [
    "plt.plot(x_train, y_train, \"ro\", label=\"Original Data\")\n",
    "plt.show()"
   ]
  },
  {
   "cell_type": "code",
   "execution_count": 4,
   "metadata": {},
   "outputs": [],
   "source": [
    "import torch"
   ]
  },
  {
   "cell_type": "code",
   "execution_count": 5,
   "metadata": {},
   "outputs": [],
   "source": [
    "X_train = torch.from_numpy(x_train)\n",
    "Y_train = torch.from_numpy(y_train)"
   ]
  },
  {
   "cell_type": "code",
   "execution_count": 6,
   "metadata": {},
   "outputs": [
    {
     "name": "stdout",
     "output_type": "stream",
     "text": [
      "requires_grad for X_train =  False\n",
      "requires_grad for Y_train =  False\n"
     ]
    }
   ],
   "source": [
    "print(\"requires_grad for X_train = \", X_train.requires_grad)\n",
    "print(\"requires_grad for Y_train = \", Y_train.requires_grad)"
   ]
  },
  {
   "cell_type": "code",
   "execution_count": 7,
   "metadata": {},
   "outputs": [],
   "source": [
    "input_size = 1\n",
    "hidden_size = 100\n",
    "output_size = 1\n",
    "learning_rate = 1e-6"
   ]
  },
  {
   "cell_type": "code",
   "execution_count": 8,
   "metadata": {},
   "outputs": [
    {
     "data": {
      "text/plain": [
       "torch.Size([1, 100])"
      ]
     },
     "execution_count": 8,
     "metadata": {},
     "output_type": "execute_result"
    }
   ],
   "source": [
    "w1 = torch.rand(input_size, hidden_size, requires_grad=True)\n",
    "w1.shape"
   ]
  },
  {
   "cell_type": "code",
   "execution_count": 9,
   "metadata": {},
   "outputs": [
    {
     "data": {
      "text/plain": [
       "torch.Size([100, 1])"
      ]
     },
     "execution_count": 9,
     "metadata": {},
     "output_type": "execute_result"
    }
   ],
   "source": [
    "w2 = torch.rand(hidden_size, output_size, requires_grad=True)\n",
    "w2.shape"
   ]
  },
  {
   "cell_type": "code",
   "execution_count": 10,
   "metadata": {},
   "outputs": [
    {
     "name": "stdout",
     "output_type": "stream",
     "text": [
      "50 2091.739501953125\n",
      "100 38.391990661621094\n",
      "150 4.279866695404053\n",
      "200 3.644700765609741\n",
      "250 3.632849931716919\n",
      "300 3.6326284408569336\n"
     ]
    }
   ],
   "source": [
    "for iter in range(1, 301):\n",
    "    y_pred = X_train.mm(w1).clamp(min=0).mm(w2)\n",
    "    loss = (y_pred - Y_train).pow(2).sum()\n",
    "\n",
    "    if iter % 50 == 0:\n",
    "        print(iter, loss.item())\n",
    "\n",
    "    loss.backward()\n",
    "\n",
    "    with torch.no_grad():\n",
    "        w1 -= learning_rate * w1.grad\n",
    "        w2 -= learning_rate * w2.grad\n",
    "        w1.grad.zero_()\n",
    "        w2.grad.zero_()"
   ]
  },
  {
   "cell_type": "code",
   "execution_count": 11,
   "metadata": {},
   "outputs": [
    {
     "name": "stdout",
     "output_type": "stream",
     "text": [
      "w1:  tensor([[ 1.0086e+00,  4.0278e-01,  5.4134e-02,  2.9683e-01,  6.2412e-01,\n",
      "          7.6386e-01,  6.5860e-01,  8.7927e-01,  2.7435e-01,  5.0753e-01,\n",
      "          5.3897e-01,  4.3815e-01,  4.7882e-01, -1.5295e-03,  1.3556e-01,\n",
      "          5.6384e-01, -3.8621e-03,  2.4028e-01,  1.2659e-01,  4.8908e-02,\n",
      "          8.6239e-01, -1.1469e-04, -2.3753e-03,  9.0492e-01,  5.5954e-01,\n",
      "          4.6735e-02,  6.6293e-01,  1.0772e+00, -1.5418e-03,  1.5809e-01,\n",
      "         -4.3277e-03,  3.4122e-01,  8.1021e-01,  6.0448e-01, -2.2417e-03,\n",
      "          2.5215e-01,  4.2331e-01,  7.5220e-02,  7.9227e-01,  3.6930e-01,\n",
      "          2.1192e-01, -2.3365e-04, -1.3680e-03, -7.6475e-05,  8.6733e-01,\n",
      "          6.1125e-02,  1.6860e-01,  4.6935e-01,  3.6341e-01, -2.5410e-03,\n",
      "          7.3376e-01, -1.1758e-02,  3.0043e-01,  1.3248e-01, -2.8688e-04,\n",
      "          1.8450e-01,  6.5308e-01,  3.1015e-01,  4.8610e-01, -1.2118e-02,\n",
      "         -5.6494e-04,  2.7469e-01,  4.2121e-01,  9.5171e-01,  4.2119e-01,\n",
      "          7.3531e-01, -1.0096e-02,  4.6460e-01, -5.6172e-03,  8.9237e-01,\n",
      "          7.6709e-01,  5.4204e-01,  4.8364e-01, -4.7259e-03,  2.9097e-01,\n",
      "          4.2217e-02,  1.2352e-01,  5.4190e-01, -1.3175e-03,  1.7075e-01,\n",
      "          3.6014e-01, -1.3297e-04,  9.2404e-01,  3.2058e-01,  3.9611e-01,\n",
      "         -5.2886e-03,  2.7541e-01, -4.6845e-03,  2.9107e-01,  5.8177e-01,\n",
      "          7.0441e-01,  3.5609e-01, -1.1482e-04,  3.3632e-01,  9.6036e-01,\n",
      "         -8.3301e-05,  3.2441e-01,  7.7783e-01,  2.4004e-01,  1.2108e-01]],\n",
      "       requires_grad=True)\n",
      "w2:  tensor([[-0.3024],\n",
      "        [ 0.4237],\n",
      "        [ 0.0072],\n",
      "        [ 0.1223],\n",
      "        [ 0.1342],\n",
      "        [-0.0625],\n",
      "        [-0.1010],\n",
      "        [-0.2069],\n",
      "        [-0.0144],\n",
      "        [ 0.5512],\n",
      "        [ 0.1743],\n",
      "        [-0.0151],\n",
      "        [-0.0014],\n",
      "        [ 0.7765],\n",
      "        [ 0.7042],\n",
      "        [ 0.1020],\n",
      "        [ 0.3806],\n",
      "        [ 0.5228],\n",
      "        [ 0.7712],\n",
      "        [ 0.0642],\n",
      "        [-0.3504],\n",
      "        [ 0.1404],\n",
      "        [ 0.8810],\n",
      "        [-0.2995],\n",
      "        [ 0.3539],\n",
      "        [ 0.5446],\n",
      "        [ 0.1866],\n",
      "        [-0.4734],\n",
      "        [ 0.5742],\n",
      "        [ 0.0351],\n",
      "        [ 0.9195],\n",
      "        [ 0.4431],\n",
      "        [-0.1734],\n",
      "        [-0.1453],\n",
      "        [ 0.8591],\n",
      "        [ 0.6477],\n",
      "        [ 0.3976],\n",
      "        [ 0.6791],\n",
      "        [-0.2701],\n",
      "        [ 0.5775],\n",
      "        [ 0.4299],\n",
      "        [ 0.1184],\n",
      "        [ 0.4836],\n",
      "        [ 0.5728],\n",
      "        [-0.0956],\n",
      "        [ 0.2664],\n",
      "        [ 0.3211],\n",
      "        [ 0.4153],\n",
      "        [ 0.0759],\n",
      "        [ 0.7971],\n",
      "        [ 0.0069],\n",
      "        [ 0.9379],\n",
      "        [-0.0819],\n",
      "        [ 0.1676],\n",
      "        [ 0.8157],\n",
      "        [-0.0415],\n",
      "        [-0.2443],\n",
      "        [-0.0939],\n",
      "        [ 0.1024],\n",
      "        [ 0.8580],\n",
      "        [ 0.4472],\n",
      "        [ 0.2198],\n",
      "        [ 0.1511],\n",
      "        [-0.2240],\n",
      "        [ 0.3868],\n",
      "        [-0.2663],\n",
      "        [ 0.6157],\n",
      "        [ 0.0449],\n",
      "        [ 0.4232],\n",
      "        [-0.1963],\n",
      "        [-0.3488],\n",
      "        [-0.1972],\n",
      "        [ 0.6430],\n",
      "        [ 0.8718],\n",
      "        [ 0.1123],\n",
      "        [ 0.3869],\n",
      "        [ 0.7187],\n",
      "        [-0.1811],\n",
      "        [ 0.6526],\n",
      "        [ 0.0135],\n",
      "        [ 0.5125],\n",
      "        [ 0.7602],\n",
      "        [-0.1558],\n",
      "        [ 0.5172],\n",
      "        [-0.1209],\n",
      "        [ 0.5469],\n",
      "        [ 0.1339],\n",
      "        [ 0.5379],\n",
      "        [ 0.6584],\n",
      "        [ 0.1437],\n",
      "        [ 0.1223],\n",
      "        [ 0.5190],\n",
      "        [ 0.5045],\n",
      "        [ 0.0298],\n",
      "        [-0.3308],\n",
      "        [ 0.8758],\n",
      "        [ 0.3508],\n",
      "        [-0.2474],\n",
      "        [ 0.5708],\n",
      "        [ 0.0767]], requires_grad=True)\n"
     ]
    }
   ],
   "source": [
    "print(\"w1: \", w1)\n",
    "print(\"w2: \", w2)"
   ]
  },
  {
   "cell_type": "code",
   "execution_count": 12,
   "metadata": {},
   "outputs": [
    {
     "data": {
      "text/plain": [
       "tensor([[ 3.3000],\n",
       "        [ 4.4000],\n",
       "        [ 5.5000],\n",
       "        [ 6.7100],\n",
       "        [ 6.9300],\n",
       "        [ 4.1680],\n",
       "        [ 9.7790],\n",
       "        [ 6.1820],\n",
       "        [ 7.5900],\n",
       "        [ 2.1670],\n",
       "        [ 7.0420],\n",
       "        [10.7910],\n",
       "        [ 5.3130],\n",
       "        [ 7.9970],\n",
       "        [ 3.1000]])"
      ]
     },
     "execution_count": 12,
     "metadata": {},
     "output_type": "execute_result"
    }
   ],
   "source": [
    "x_train_tensor = torch.from_numpy(x_train)\n",
    "x_train_tensor"
   ]
  },
  {
   "cell_type": "code",
   "execution_count": 13,
   "metadata": {},
   "outputs": [
    {
     "data": {
      "text/plain": [
       "tensor([[1.2117],\n",
       "        [1.6157],\n",
       "        [2.0196],\n",
       "        [2.4639],\n",
       "        [2.5447],\n",
       "        [1.5305],\n",
       "        [3.5908],\n",
       "        [2.2700],\n",
       "        [2.7870],\n",
       "        [0.7957],\n",
       "        [2.5858],\n",
       "        [3.9624],\n",
       "        [1.9509],\n",
       "        [2.9365],\n",
       "        [1.1383]], grad_fn=<MmBackward0>)"
      ]
     },
     "execution_count": 13,
     "metadata": {},
     "output_type": "execute_result"
    }
   ],
   "source": [
    "predicted_in_tensor = x_train_tensor.mm(w1).clamp(min=0).mm(w2)\n",
    "predicted_in_tensor"
   ]
  },
  {
   "cell_type": "code",
   "execution_count": 14,
   "metadata": {},
   "outputs": [
    {
     "data": {
      "text/plain": [
       "array([[1.2117426],\n",
       "       [1.6156578],\n",
       "       [2.0195713],\n",
       "       [2.4638765],\n",
       "       [2.5446596],\n",
       "       [1.5304677],\n",
       "       [3.590797 ],\n",
       "       [2.269998 ],\n",
       "       [2.7870064],\n",
       "       [0.7957109],\n",
       "       [2.5857844],\n",
       "       [3.9624   ],\n",
       "       [1.9509058],\n",
       "       [2.9364557],\n",
       "       [1.1383034]], dtype=float32)"
      ]
     },
     "execution_count": 14,
     "metadata": {},
     "output_type": "execute_result"
    }
   ],
   "source": [
    "predicted = predicted_in_tensor.detach().numpy()\n",
    "predicted"
   ]
  },
  {
   "cell_type": "code",
   "execution_count": 16,
   "metadata": {},
   "outputs": [
    {
     "data": {
      "image/png": "[encoded data removed]",
      "text/plain": [
       "<Figure size 432x288 with 1 Axes>"
      ]
     },
     "metadata": {
      "needs_background": "light"
     },
     "output_type": "display_data"
    }
   ],
   "source": [
    "plt.plot(x_train, y_train, \"ro\", label=\"Original Data\")\n",
    "\n",
    "plt.plot(x_train, predicted, label=\"Fitted Line\")\n",
    "\n",
    "plt.legend()\n",
    "\n",
    "plt.show()"
   ]
  },
  {
   "cell_type": "code",
   "execution_count": null,
   "metadata": {},
   "outputs": [],
   "source": []
  }
 ],
 "metadata": {
  "kernelspec": {
   "display_name": "Python 3",
   "language": "python",
   "name": "python3"
  },
  "language_info": {
   "codemirror_mode": {
    "name": "ipython",
    "version": 3
   },
   "file_extension": ".py",
   "mimetype": "text/x-python",
   "name": "python",
   "nbconvert_exporter": "python",
   "pygments_lexer": "ipython3",
   "version": "3.10.6"
  },
  "orig_nbformat": 4,
  "vscode": {
   "interpreter": {
    "hash": "26de051ba29f2982a8de78e945f0abaf191376122a1563185a90213a26c5da77"
   }
  }
 },
 "nbformat": 4,
 "nbformat_minor": 2
}
