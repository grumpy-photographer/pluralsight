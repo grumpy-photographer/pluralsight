{
 "cells": [
  {
   "cell_type": "code",
   "execution_count": 1,
   "metadata": {},
   "outputs": [],
   "source": [
    "from io import open\n",
    "import glob\n",
    "import os\n",
    "import unicodedata\n",
    "import string\n",
    "import random\n",
    "import torch\n",
    "import torch.nn as nn\n",
    "import matplotlib.pyplot as plt"
   ]
  },
  {
   "cell_type": "code",
   "execution_count": 2,
   "metadata": {},
   "outputs": [
    {
     "name": "stdout",
     "output_type": "stream",
     "text": [
      "['datasets/data/names\\\\Arabic.txt', 'datasets/data/names\\\\Chinese.txt', 'datasets/data/names\\\\Czech.txt', 'datasets/data/names\\\\Dutch.txt', 'datasets/data/names\\\\English.txt', 'datasets/data/names\\\\French.txt', 'datasets/data/names\\\\German.txt', 'datasets/data/names\\\\Greek.txt', 'datasets/data/names\\\\Irish.txt', 'datasets/data/names\\\\Italian.txt', 'datasets/data/names\\\\Japanese.txt', 'datasets/data/names\\\\Korean.txt', 'datasets/data/names\\\\Polish.txt', 'datasets/data/names\\\\Portuguese.txt', 'datasets/data/names\\\\Russian.txt', 'datasets/data/names\\\\Scottish.txt', 'datasets/data/names\\\\Spanish.txt', 'datasets/data/names\\\\Vietnamese.txt']\n"
     ]
    }
   ],
   "source": [
    "print(glob.glob('datasets/data/names/*.txt'))"
   ]
  },
  {
   "cell_type": "code",
   "execution_count": 3,
   "metadata": {},
   "outputs": [
    {
     "data": {
      "text/plain": [
       "\"abcdefghijklmnopqrstuvwxyzABCDEFGHIJKLMNOPQRSTUVWXYZ .,;'\""
      ]
     },
     "execution_count": 3,
     "metadata": {},
     "output_type": "execute_result"
    }
   ],
   "source": [
    "all_letters = string.ascii_letters + \" .,;'\"\n",
    "n_letters = len(all_letters)\n",
    "all_letters"
   ]
  },
  {
   "cell_type": "code",
   "execution_count": 4,
   "metadata": {},
   "outputs": [
    {
     "data": {
      "text/plain": [
       "57"
      ]
     },
     "execution_count": 4,
     "metadata": {},
     "output_type": "execute_result"
    }
   ],
   "source": [
    "n_letters"
   ]
  },
  {
   "cell_type": "code",
   "execution_count": 5,
   "metadata": {},
   "outputs": [],
   "source": [
    "language_names = {}\n",
    "all_languages = []"
   ]
  },
  {
   "cell_type": "code",
   "execution_count": 6,
   "metadata": {},
   "outputs": [],
   "source": [
    "def unicodeToAscii(s):\n",
    "    return ''.join(\n",
    "        c for c in unicodedata.normalize('NFD', s)\n",
    "        if unicodedata.category(c) != 'Mn' and c in all_letters\n",
    "    )"
   ]
  },
  {
   "cell_type": "code",
   "execution_count": 7,
   "metadata": {},
   "outputs": [
    {
     "name": "stdout",
     "output_type": "stream",
     "text": [
      "Emile\n"
     ]
    }
   ],
   "source": [
    "print(unicodeToAscii('Émile'))"
   ]
  },
  {
   "cell_type": "code",
   "execution_count": 8,
   "metadata": {},
   "outputs": [],
   "source": [
    "def findFiles(path):\n",
    "    return glob.glob(path)"
   ]
  },
  {
   "cell_type": "code",
   "execution_count": 9,
   "metadata": {},
   "outputs": [],
   "source": [
    "total_names = 0\n",
    "\n",
    "for filename in findFiles('datasets/data/names/*.txt'):\n",
    "    language = os.path.splitext(os.path.basename(filename))[0]\n",
    "    all_languages.append(language)\n",
    "    read_names = open(filename, encoding='utf-8').read().strip().split('\\n')\n",
    "    names = [unicodeToAscii(line) for line in read_names]\n",
    "    language_names[language] = names\n",
    "    total_names += len(names)"
   ]
  },
  {
   "cell_type": "code",
   "execution_count": 10,
   "metadata": {},
   "outputs": [
    {
     "data": {
      "text/plain": [
       "['Arabic',\n",
       " 'Chinese',\n",
       " 'Czech',\n",
       " 'Dutch',\n",
       " 'English',\n",
       " 'French',\n",
       " 'German',\n",
       " 'Greek',\n",
       " 'Irish',\n",
       " 'Italian',\n",
       " 'Japanese',\n",
       " 'Korean',\n",
       " 'Polish',\n",
       " 'Portuguese',\n",
       " 'Russian',\n",
       " 'Scottish',\n",
       " 'Spanish',\n",
       " 'Vietnamese']"
      ]
     },
     "execution_count": 10,
     "metadata": {},
     "output_type": "execute_result"
    }
   ],
   "source": [
    "all_languages"
   ]
  },
  {
   "cell_type": "code",
   "execution_count": 11,
   "metadata": {},
   "outputs": [
    {
     "data": {
      "text/plain": [
       "18"
      ]
     },
     "execution_count": 11,
     "metadata": {},
     "output_type": "execute_result"
    }
   ],
   "source": [
    "n_languages = len(all_languages)\n",
    "n_languages"
   ]
  },
  {
   "cell_type": "code",
   "execution_count": 12,
   "metadata": {},
   "outputs": [
    {
     "data": {
      "text/plain": [
       "20074"
      ]
     },
     "execution_count": 12,
     "metadata": {},
     "output_type": "execute_result"
    }
   ],
   "source": [
    "total_names"
   ]
  },
  {
   "cell_type": "code",
   "execution_count": 13,
   "metadata": {},
   "outputs": [
    {
     "name": "stdout",
     "output_type": "stream",
     "text": [
      "['Abl', 'Adsit', 'Ajdrna', 'Alt', 'Antonowitsch']\n"
     ]
    }
   ],
   "source": [
    "print(language_names['Czech'][:5])"
   ]
  },
  {
   "cell_type": "code",
   "execution_count": 14,
   "metadata": {},
   "outputs": [],
   "source": [
    "def letterToTensor(letter):\n",
    "    tensor = torch.zeros(1, n_letters)\n",
    "    tensor[0][all_letters.find(letter)] = 1\n",
    "    return tensor"
   ]
  },
  {
   "cell_type": "code",
   "execution_count": 15,
   "metadata": {},
   "outputs": [
    {
     "name": "stdout",
     "output_type": "stream",
     "text": [
      "tensor([[1., 0., 0., 0., 0., 0., 0., 0., 0., 0., 0., 0., 0., 0., 0., 0., 0., 0.,\n",
      "         0., 0., 0., 0., 0., 0., 0., 0., 0., 0., 0., 0., 0., 0., 0., 0., 0., 0.,\n",
      "         0., 0., 0., 0., 0., 0., 0., 0., 0., 0., 0., 0., 0., 0., 0., 0., 0., 0.,\n",
      "         0., 0., 0.]])\n"
     ]
    }
   ],
   "source": [
    "print(letterToTensor('a'))"
   ]
  },
  {
   "cell_type": "code",
   "execution_count": 16,
   "metadata": {},
   "outputs": [
    {
     "name": "stdout",
     "output_type": "stream",
     "text": [
      "tensor([[0., 0., 0., 0., 0., 0., 0., 0., 0., 0., 0., 0., 0., 0., 0., 0., 0., 0.,\n",
      "         0., 0., 0., 0., 0., 0., 0., 0., 0., 0., 0., 0., 0., 0., 0., 0., 0., 0.,\n",
      "         0., 0., 0., 0., 0., 0., 0., 0., 0., 0., 0., 0., 0., 0., 0., 1., 0., 0.,\n",
      "         0., 0., 0.]])\n"
     ]
    }
   ],
   "source": [
    "print(letterToTensor('Z'))"
   ]
  },
  {
   "cell_type": "code",
   "execution_count": 17,
   "metadata": {},
   "outputs": [],
   "source": [
    "def nameToTensor(name):\n",
    "    tensor = torch.zeros(len(name), 1, n_letters)\n",
    "    for li, letter in enumerate(name):\n",
    "        tensor[li][0][all_letters.find(letter)] = 1\n",
    "\n",
    "    return tensor "
   ]
  },
  {
   "cell_type": "code",
   "execution_count": 18,
   "metadata": {},
   "outputs": [
    {
     "data": {
      "text/plain": [
       "torch.Size([4, 1, 57])"
      ]
     },
     "execution_count": 18,
     "metadata": {},
     "output_type": "execute_result"
    }
   ],
   "source": [
    "mary_tensor = nameToTensor('Mary')\n",
    "mary_tensor.size()"
   ]
  },
  {
   "cell_type": "code",
   "execution_count": 19,
   "metadata": {},
   "outputs": [
    {
     "data": {
      "text/plain": [
       "tensor([[[0., 0., 0., 0., 0., 0., 0., 0., 0., 0., 0., 0., 0., 0., 0., 0., 0.,\n",
       "          0., 0., 0., 0., 0., 0., 0., 0., 0., 0., 0., 0., 0., 0., 0., 0., 0.,\n",
       "          0., 0., 0., 0., 1., 0., 0., 0., 0., 0., 0., 0., 0., 0., 0., 0., 0.,\n",
       "          0., 0., 0., 0., 0., 0.]],\n",
       "\n",
       "        [[1., 0., 0., 0., 0., 0., 0., 0., 0., 0., 0., 0., 0., 0., 0., 0., 0.,\n",
       "          0., 0., 0., 0., 0., 0., 0., 0., 0., 0., 0., 0., 0., 0., 0., 0., 0.,\n",
       "          0., 0., 0., 0., 0., 0., 0., 0., 0., 0., 0., 0., 0., 0., 0., 0., 0.,\n",
       "          0., 0., 0., 0., 0., 0.]],\n",
       "\n",
       "        [[0., 0., 0., 0., 0., 0., 0., 0., 0., 0., 0., 0., 0., 0., 0., 0., 0.,\n",
       "          1., 0., 0., 0., 0., 0., 0., 0., 0., 0., 0., 0., 0., 0., 0., 0., 0.,\n",
       "          0., 0., 0., 0., 0., 0., 0., 0., 0., 0., 0., 0., 0., 0., 0., 0., 0.,\n",
       "          0., 0., 0., 0., 0., 0.]],\n",
       "\n",
       "        [[0., 0., 0., 0., 0., 0., 0., 0., 0., 0., 0., 0., 0., 0., 0., 0., 0.,\n",
       "          0., 0., 0., 0., 0., 0., 0., 1., 0., 0., 0., 0., 0., 0., 0., 0., 0.,\n",
       "          0., 0., 0., 0., 0., 0., 0., 0., 0., 0., 0., 0., 0., 0., 0., 0., 0.,\n",
       "          0., 0., 0., 0., 0., 0.]]])"
      ]
     },
     "execution_count": 19,
     "metadata": {},
     "output_type": "execute_result"
    }
   ],
   "source": [
    "mary_tensor"
   ]
  },
  {
   "cell_type": "code",
   "execution_count": 20,
   "metadata": {},
   "outputs": [],
   "source": [
    "class RNN(nn.Module):\n",
    "    def __init__(self, input_size, hidden_size, output_size):\n",
    "        super(RNN, self).__init__()\n",
    "        self.hidden_size = hidden_size\n",
    "        self.i2h = nn.Linear(input_size + hidden_size, hidden_size)\n",
    "        self.i2o = nn.Linear(input_size + hidden_size, output_size)\n",
    "        self.softmax = nn.LogSoftmax(dim=1)\n",
    "\n",
    "    def forward(self, input, hidden):\n",
    "        combined = torch.cat((input, hidden), 1)\n",
    "        hidden = self.i2h(combined)\n",
    "        output = self.i2o(combined)\n",
    "        output = self.softmax(output)\n",
    "        return output, hidden\n",
    "    \n",
    "    def initHidden(self):\n",
    "        return torch.zeros(1, self.hidden_size)"
   ]
  },
  {
   "cell_type": "code",
   "execution_count": 21,
   "metadata": {},
   "outputs": [],
   "source": [
    "n_hidden = 256\n",
    "rnn = RNN(n_letters, n_hidden, n_languages)"
   ]
  },
  {
   "cell_type": "code",
   "execution_count": 22,
   "metadata": {},
   "outputs": [
    {
     "name": "stdout",
     "output_type": "stream",
     "text": [
      "output size = torch.Size([1, 18])\n",
      "next_hidden size= torch.Size([1, 256])\n"
     ]
    }
   ],
   "source": [
    "inp = letterToTensor('C')\n",
    "hidden = torch.zeros(1, n_hidden)\n",
    "output, next_hidden = rnn(inp, hidden)\n",
    "print('output size =', output.size())\n",
    "print('next_hidden size=', next_hidden.size())"
   ]
  },
  {
   "cell_type": "code",
   "execution_count": 23,
   "metadata": {},
   "outputs": [],
   "source": [
    "inp = nameToTensor('Charron')\n",
    "hidden = torch.zeros(1, n_hidden)\n",
    "output, next_hidden = rnn(inp[0], hidden)"
   ]
  },
  {
   "cell_type": "code",
   "execution_count": 24,
   "metadata": {},
   "outputs": [
    {
     "name": "stdout",
     "output_type": "stream",
     "text": [
      "tensor([[-2.9083, -2.9369, -2.9151, -2.8441, -2.8965, -2.8256, -2.9369, -2.8743,\n",
      "         -2.8360, -2.8475, -2.8292, -2.8374, -2.9367, -2.9522, -2.9219, -2.8859,\n",
      "         -2.9339, -2.9249]], grad_fn=<LogSoftmaxBackward0>)\n"
     ]
    }
   ],
   "source": [
    "print(output)"
   ]
  },
  {
   "cell_type": "code",
   "execution_count": 25,
   "metadata": {},
   "outputs": [],
   "source": [
    "def languageFromOutput(output):\n",
    "    _, top_i = output.topk(1)\n",
    "    language_i = top_i[0].item()\n",
    "    return all_languages[language_i], language_i"
   ]
  },
  {
   "cell_type": "code",
   "execution_count": 26,
   "metadata": {},
   "outputs": [
    {
     "name": "stdout",
     "output_type": "stream",
     "text": [
      "('French', 5)\n"
     ]
    }
   ],
   "source": [
    "print(languageFromOutput(output))"
   ]
  },
  {
   "cell_type": "code",
   "execution_count": 27,
   "metadata": {},
   "outputs": [],
   "source": [
    "def randomTrainingExample():\n",
    "    random_langague_index = random.randint(0, n_languages - 1)\n",
    "    language = all_languages[random_langague_index]\n",
    "\n",
    "    random_langague_names = language_names[language]\n",
    "    name = random_langague_names[random.randint(0, len(random_langague_names) - 1)]\n",
    "    \n",
    "    language_tensor = torch.tensor([all_languages.index(language)], dtype=torch.long)\n",
    "    name_tensor = nameToTensor(name)\n",
    "    return language, name, language_tensor, name_tensor"
   ]
  },
  {
   "cell_type": "code",
   "execution_count": 28,
   "metadata": {},
   "outputs": [
    {
     "name": "stdout",
     "output_type": "stream",
     "text": [
      "language =  Japanese , name =  Okuma\n",
      "language =  Korean , name =  Shim\n",
      "language =  Portuguese , name =  Coelho\n",
      "language =  Spanish , name =  Zubizarreta\n",
      "language =  Japanese , name =  Tankoshitsu\n",
      "language =  Polish , name =  Bartosz\n",
      "language =  Irish , name =  Power\n",
      "language =  Chinese , name =  Wei\n",
      "language =  Korean , name =  Ho\n",
      "language =  Irish , name =  Mcmahon\n"
     ]
    }
   ],
   "source": [
    "for i in range(10):\n",
    "    language, name,language_tensor, name_tensor = randomTrainingExample()\n",
    "    print('language = ', language, ', name = ', name)"
   ]
  },
  {
   "cell_type": "code",
   "execution_count": 29,
   "metadata": {},
   "outputs": [],
   "source": [
    "criterion= nn.NLLLoss()\n",
    "learning_rate = 0.005"
   ]
  },
  {
   "cell_type": "code",
   "execution_count": 30,
   "metadata": {},
   "outputs": [],
   "source": [
    "def train(lannguage_tensor, name_tensor):\n",
    "    hidden = rnn.initHidden()\n",
    "    rnn.zero_grad()\n",
    "    for i in range(name_tensor.size()[0]):\n",
    "        output, hidden = rnn(name_tensor[i], hidden)\n",
    "\n",
    "    loss = criterion(output, language_tensor)\n",
    "    loss.backward()\n",
    "\n",
    "    for p in rnn.parameters():\n",
    "        p.data.add_(-learning_rate, p.grad.data)\n",
    "\n",
    "    return output, loss.item()"
   ]
  },
  {
   "cell_type": "code",
   "execution_count": 31,
   "metadata": {},
   "outputs": [],
   "source": [
    "n_iters = 200000\n",
    "current_loss = 0\n",
    "all_losses = []"
   ]
  },
  {
   "cell_type": "code",
   "execution_count": 32,
   "metadata": {},
   "outputs": [
    {
     "name": "stderr",
     "output_type": "stream",
     "text": [
      "C:\\Users\\natha\\AppData\\Local\\Temp\\ipykernel_21764\\163125262.py:11: UserWarning: This overload of add_ is deprecated:\n",
      "\tadd_(Number alpha, Tensor other)\n",
      "Consider using one of the following signatures instead:\n",
      "\tadd_(Tensor other, *, Number alpha) (Triggered internally at ..\\torch\\csrc\\utils\\python_arg_parser.cpp:1420.)\n",
      "  p.data.add_(-learning_rate, p.grad.data)\n"
     ]
    },
    {
     "name": "stdout",
     "output_type": "stream",
     "text": [
      "5000 2% 2.4022 Acker / German o\n",
      "10000 5% 1.6413 Gomulka / Polish o\n",
      "15000 7% 2.2289 Sokal / Arabic x (Polish)\n",
      "20000 10% 1.7831 Alvarado / Italian x (Spanish)\n",
      "25000 12% 1.4402 Maloof / Arabic o\n",
      "30000 15% 2.4086 Wasem / Dutch x (Arabic)\n",
      "35000 17% 1.8310 Haddad / English x (Arabic)\n",
      "40000 20% 0.5924 Sienkiewicz / Polish o\n",
      "45000 22% 2.1627 Rahal / Irish x (Arabic)\n",
      "50000 25% 3.2151 Garrastazu / Japanese x (Spanish)\n",
      "55000 27% 0.5679 Conall / Irish o\n",
      "60000 30% 0.0506 Callaghan / Irish o\n",
      "65000 32% 0.2353 Biryulev / Russian o\n",
      "70000 35% 1.8634 Bonhomme / French o\n",
      "75000 37% 2.2653 Pinho / Korean x (Portuguese)\n",
      "80000 40% 0.5053 Dertilis / Greek o\n",
      "85000 42% 2.1766 Deniaud / Portuguese x (French)\n",
      "90000 45% 0.7490 Di stefano / Italian o\n",
      "95000 47% 1.9367 Voneve / English x (Czech)\n",
      "100000 50% 1.3222 Curran / Irish o\n",
      "105000 52% 0.9570 Castro / Portuguese o\n",
      "110000 55% 0.5953 Brodeur / French o\n",
      "115000 57% 1.7628 Ballalatak / Irish x (Czech)\n",
      "120000 60% 4.9594 Sarkozi / Japanese x (French)\n",
      "125000 62% 0.4905 Simpson / Scottish o\n",
      "130000 65% 1.2869 Chu / Vietnamese x (Korean)\n",
      "135000 67% 2.8588 Ballalatak / Spanish x (Czech)\n",
      "140000 70% 0.8816 Lehrer / German o\n",
      "145000 72% 0.0002 Theofilopoulos / Greek o\n",
      "150000 75% 2.8335 Jaso / Korean x (Spanish)\n",
      "155000 77% 1.1154 Docherty / Scottish o\n",
      "160000 80% 2.3213 Holmsky / Czech x (Russian)\n",
      "165000 82% 2.1053 Nussenbaum / Russian x (German)\n",
      "170000 85% 0.8876 Kerr / Scottish o\n",
      "175000 87% 1.2103 Ruba / Czech o\n",
      "180000 90% 0.2944 Abaroa / Spanish o\n",
      "185000 92% 1.7247 Maloney / Irish x (English)\n",
      "190000 95% 2.3917 Bata / Portuguese x (Arabic)\n",
      "195000 97% 2.8066 Beckert / French x (German)\n",
      "200000 100% 0.0640 Yoon / Korean o\n"
     ]
    }
   ],
   "source": [
    "for epoch in range(1, n_iters + 1):\n",
    "    language, name, language_tensor, name_tensor = randomTrainingExample()\n",
    "\n",
    "    output, loss = train(language_tensor, name_tensor)\n",
    "    current_loss += loss\n",
    "\n",
    "    if epoch % 5000 == 0:\n",
    "        guess, guess_i = languageFromOutput(output)\n",
    "        correct = 'o' if guess == language else 'x (%s)' % language\n",
    "\n",
    "        print('%d %d%% %.4f %s / %s %s' % (epoch, epoch / n_iters * 100, loss, name, guess, correct))\n",
    "\n",
    "    if epoch % 1000 == 0:\n",
    "        all_losses.append(current_loss / 1000)\n",
    "        current_loss = 0"
   ]
  },
  {
   "cell_type": "code",
   "execution_count": 33,
   "metadata": {},
   "outputs": [
    {
     "data": {
      "image/png": "[encoded data removed]",
      "text/plain": [
       "<Figure size 720x576 with 1 Axes>"
      ]
     },
     "metadata": {
      "needs_background": "light"
     },
     "output_type": "display_data"
    }
   ],
   "source": [
    "plt.figure(figsize=(10, 8))\n",
    "plt.plot(all_losses)\n",
    "plt.show()\n",
    "\n"
   ]
  },
  {
   "cell_type": "code",
   "execution_count": 34,
   "metadata": {},
   "outputs": [],
   "source": [
    "n_predictions = 3"
   ]
  },
  {
   "cell_type": "code",
   "execution_count": 39,
   "metadata": {},
   "outputs": [],
   "source": [
    "#input_name = 'Batsakis' #Greek, Russian, Japanese\n",
    "#input_name = 'Amaya' #Japanese, Arabic, Portuguese\n",
    "input_name = 'Bukoski' #Polish, Japanese, Russian"
   ]
  },
  {
   "cell_type": "code",
   "execution_count": 40,
   "metadata": {},
   "outputs": [
    {
     "name": "stdout",
     "output_type": "stream",
     "text": [
      "(-0.07) Polish\n",
      "(-3.40) Japanese\n",
      "(-3.52) Russian\n"
     ]
    }
   ],
   "source": [
    "with torch.no_grad():\n",
    "    name_tensor = nameToTensor(input_name)\n",
    "    hidden = rnn.initHidden()\n",
    "    for i in range(name_tensor.size()[0]):\n",
    "        output, hidden = rnn(name_tensor[i], hidden)\n",
    "\n",
    "    topv, topi = output.topk(n_predictions, 1, True)\n",
    "\n",
    "    for i in range(n_predictions):\n",
    "        value = topv[0][i].item()\n",
    "        language_index = topi[0][i].item()\n",
    "\n",
    "        print('(%.2f) %s' % (value, all_languages[language_index]))"
   ]
  },
  {
   "cell_type": "code",
   "execution_count": null,
   "metadata": {},
   "outputs": [],
   "source": []
  }
 ],
 "metadata": {
  "kernelspec": {
   "display_name": "Python 3",
   "language": "python",
   "name": "python3"
  },
  "language_info": {
   "codemirror_mode": {
    "name": "ipython",
    "version": 3
   },
   "file_extension": ".py",
   "mimetype": "text/x-python",
   "name": "python",
   "nbconvert_exporter": "python",
   "pygments_lexer": "ipython3",
   "version": "3.10.6"
  },
  "orig_nbformat": 4,
  "vscode": {
   "interpreter": {
    "hash": "26de051ba29f2982a8de78e945f0abaf191376122a1563185a90213a26c5da77"
   }
  }
 },
 "nbformat": 4,
 "nbformat_minor": 2
}
