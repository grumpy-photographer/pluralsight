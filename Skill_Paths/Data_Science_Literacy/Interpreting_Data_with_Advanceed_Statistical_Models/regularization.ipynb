{
 "cells": [
  {
   "cell_type": "markdown",
   "source": [
    "# Regularization\r\n",
    "\r\n",
    "This kernel will be around regularization.  We will see how regularization helps reduce variance and therefore our regression (and any model) will be more robust to outliers or more extreme values.  Later we will check how this is done by reducing the coefficients."
   ],
   "metadata": {}
  },
  {
   "cell_type": "code",
   "execution_count": null,
   "source": [
    "import numpy as np\r\n",
    "import matplotlib.pyplot as plt\r\n",
    "from sklearn import linear_model\r\n",
    "from sklearn.datasets import make_regression\r\n",
    "from sklearn.linear_model import Ridge\r\n",
    "from sklearn.metrics import mean_squared_error\r\n",
    "\r\n",
    "np.random.seed(0)"
   ],
   "outputs": [],
   "metadata": {}
  },
  {
   "cell_type": "code",
   "execution_count": null,
   "source": [
    "X_train = np.c_[.5, 1].T\r\n",
    "y_train = [.5, 1]\r\n",
    "X_test = np.c_[0, 2].T"
   ],
   "outputs": [],
   "metadata": {}
  },
  {
   "cell_type": "code",
   "execution_count": null,
   "source": [],
   "outputs": [],
   "metadata": {}
  }
 ],
 "metadata": {
  "orig_nbformat": 4,
  "language_info": {
   "name": "python",
   "version": "3.9.4"
  },
  "kernelspec": {
   "name": "python3",
   "display_name": "Python 3.9.4 64-bit"
  },
  "interpreter": {
   "hash": "9fdb9160099e666fbe1246fdc3611df6e34403c4a50d97f5ca90d3cacc6ef812"
  }
 },
 "nbformat": 4,
 "nbformat_minor": 2
}