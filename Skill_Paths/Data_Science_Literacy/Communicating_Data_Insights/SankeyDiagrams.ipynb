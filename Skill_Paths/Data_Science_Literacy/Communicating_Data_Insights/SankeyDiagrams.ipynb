{
 "cells": [
  {
   "cell_type": "code",
   "execution_count": 1,
   "source": [
    " import pandas as pd\r\n",
    " import plotly.graph_objects as go\r\n",
    " import plotly.offline as offline\r\n",
    "\r\n",
    " offline.init_notebook_mode(connected=True)"
   ],
   "outputs": [
    {
     "output_type": "display_data",
     "data": {
      "text/html": [
       "        <script type=\"text/javascript\">\n",
       "        window.PlotlyConfig = {MathJaxConfig: 'local'};\n",
       "        if (window.MathJax) {MathJax.Hub.Config({SVG: {font: \"STIX-Web\"}});}\n",
       "        if (typeof require !== 'undefined') {\n",
       "        require.undef(\"plotly\");\n",
       "        requirejs.config({\n",
       "            paths: {\n",
       "                'plotly': ['https://cdn.plot.ly/plotly-latest.min']\n",
       "            }\n",
       "        });\n",
       "        require(['plotly'], function(Plotly) {\n",
       "            window._Plotly = Plotly;\n",
       "        });\n",
       "        }\n",
       "        </script>\n",
       "        "
      ]
     },
     "metadata": {}
    }
   ],
   "metadata": {}
  },
  {
   "cell_type": "code",
   "execution_count": 2,
   "source": [
    "career_path = [\"PhD\",\r\n",
    "               \"Early Career Researcher\",\r\n",
    "               \"Research Staff\", \r\n",
    "               \"Career Outside Science\",\r\n",
    "               \"Permanent Research Staff\",\r\n",
    "               \"Professor\",\r\n",
    "               \"Non-Academic Research\"]"
   ],
   "outputs": [],
   "metadata": {}
  },
  {
   "cell_type": "code",
   "execution_count": 3,
   "source": [
    "data_trace = go.Sankey(node = dict(label = career_path),\r\n",
    "                       link = dict(source = [0, 0, 1, 1, 2, 2, 2, 2],\r\n",
    "                                   target = [3, 1, 2, 6, 3, 4, 5, 6],\r\n",
    "                                   value = [53, 47, 30, 17, 20, 6.5, 3.5, 10]))"
   ],
   "outputs": [],
   "metadata": {}
  },
  {
   "cell_type": "code",
   "execution_count": 4,
   "source": [
    "layout = dict(title = \"Sanky Diagram for Career Path after PhD\")"
   ],
   "outputs": [],
   "metadata": {}
  },
  {
   "cell_type": "code",
   "execution_count": 5,
   "source": [
    "fig = dict(data = [data_trace],\r\n",
    "           layout = layout)\r\n",
    "\r\n",
    "offline.iplot(fig)"
   ],
   "outputs": [],
   "metadata": {}
  },
  {
   "cell_type": "code",
   "execution_count": null,
   "source": [],
   "outputs": [],
   "metadata": {}
  }
 ],
 "metadata": {
  "orig_nbformat": 4,
  "language_info": {
   "name": "python"
  }
 },
 "nbformat": 4,
 "nbformat_minor": 2
}