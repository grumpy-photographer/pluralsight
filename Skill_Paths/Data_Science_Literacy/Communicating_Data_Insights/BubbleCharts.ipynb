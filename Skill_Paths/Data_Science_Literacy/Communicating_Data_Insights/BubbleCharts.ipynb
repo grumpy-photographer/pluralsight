{
 "cells": [
  {
   "cell_type": "code",
   "execution_count": 1,
   "id": "d0be3cdf",
   "metadata": {
    "ExecuteTime": {
     "end_time": "2021-06-01T01:14:35.583130Z",
     "start_time": "2021-06-01T01:14:34.191299Z"
    }
   },
   "outputs": [
    {
     "data": {
      "text/html": [
       "        <script type=\"text/javascript\">\n",
       "        window.PlotlyConfig = {MathJaxConfig: 'local'};\n",
       "        if (window.MathJax) {MathJax.Hub.Config({SVG: {font: \"STIX-Web\"}});}\n",
       "        if (typeof require !== 'undefined') {\n",
       "        require.undef(\"plotly\");\n",
       "        requirejs.config({\n",
       "            paths: {\n",
       "                'plotly': ['https://cdn.plot.ly/plotly-latest.min']\n",
       "            }\n",
       "        });\n",
       "        require(['plotly'], function(Plotly) {\n",
       "            window._Plotly = Plotly;\n",
       "        });\n",
       "        }\n",
       "        </script>\n",
       "        "
      ]
     },
     "metadata": {},
     "output_type": "display_data"
    }
   ],
   "source": [
    "import pandas as pd\n",
    "import plotly\n",
    "import plotly.graph_objs as go\n",
    "import plotly.offline as offline\n",
    "\n",
    "offline.init_notebook_mode(connected=True)"
   ]
  },
  {
   "cell_type": "code",
   "execution_count": 2,
   "id": "3c9a12f7",
   "metadata": {
    "ExecuteTime": {
     "end_time": "2021-06-01T01:14:36.753193Z",
     "start_time": "2021-06-01T01:14:35.589531Z"
    }
   },
   "outputs": [
    {
     "data": {
      "application/vnd.plotly.v1+json": {
       "config": {
        "linkText": "Export to plot.ly",
        "plotlyServerURL": "https://plot.ly",
        "showLink": false
       },
       "data": [
        {
         "mode": "markers",
         "type": "scatter",
         "x": [
          15,
          18,
          21,
          25
         ],
         "y": [
          100,
          400,
          300,
          200
         ]
        }
       ],
       "layout": {
        "template": {
         "data": {
          "bar": [
           {
            "error_x": {
             "color": "#2a3f5f"
            },
            "error_y": {
             "color": "#2a3f5f"
            },
            "marker": {
             "line": {
              "color": "#E5ECF6",
              "width": 0.5
             }
            },
            "type": "bar"
           }
          ],
          "barpolar": [
           {
            "marker": {
             "line": {
              "color": "#E5ECF6",
              "width": 0.5
             }
            },
            "type": "barpolar"
           }
          ],
          "carpet": [
           {
            "aaxis": {
             "endlinecolor": "#2a3f5f",
             "gridcolor": "white",
             "linecolor": "white",
             "minorgridcolor": "white",
             "startlinecolor": "#2a3f5f"
            },
            "baxis": {
             "endlinecolor": "#2a3f5f",
             "gridcolor": "white",
             "linecolor": "white",
             "minorgridcolor": "white",
             "startlinecolor": "#2a3f5f"
            },
            "type": "carpet"
           }
          ],
          "choropleth": [
           {
            "colorbar": {
             "outlinewidth": 0,
             "ticks": ""
            },
            "type": "choropleth"
           }
          ],
          "contour": [
           {
            "colorbar": {
             "outlinewidth": 0,
             "ticks": ""
            },
            "colorscale": [
             [
              0,
              "#0d0887"
             ],
             [
              0.1111111111111111,
              "#46039f"
             ],
             [
              0.2222222222222222,
              "#7201a8"
             ],
             [
              0.3333333333333333,
              "#9c179e"
             ],
             [
              0.4444444444444444,
              "#bd3786"
             ],
             [
              0.5555555555555556,
              "#d8576b"
             ],
             [
              0.6666666666666666,
              "#ed7953"
             ],
             [
              0.7777777777777778,
              "#fb9f3a"
             ],
             [
              0.8888888888888888,
              "#fdca26"
             ],
             [
              1,
              "#f0f921"
             ]
            ],
            "type": "contour"
           }
          ],
          "contourcarpet": [
           {
            "colorbar": {
             "outlinewidth": 0,
             "ticks": ""
            },
            "type": "contourcarpet"
           }
          ],
          "heatmap": [
           {
            "colorbar": {
             "outlinewidth": 0,
             "ticks": ""
            },
            "colorscale": [
             [
              0,
              "#0d0887"
             ],
             [
              0.1111111111111111,
              "#46039f"
             ],
             [
              0.2222222222222222,
              "#7201a8"
             ],
             [
              0.3333333333333333,
              "#9c179e"
             ],
             [
              0.4444444444444444,
              "#bd3786"
             ],
             [
              0.5555555555555556,
              "#d8576b"
             ],
             [
              0.6666666666666666,
              "#ed7953"
             ],
             [
              0.7777777777777778,
              "#fb9f3a"
             ],
             [
              0.8888888888888888,
              "#fdca26"
             ],
             [
              1,
              "#f0f921"
             ]
            ],
            "type": "heatmap"
           }
          ],
          "heatmapgl": [
           {
            "colorbar": {
             "outlinewidth": 0,
             "ticks": ""
            },
            "colorscale": [
             [
              0,
              "#0d0887"
             ],
             [
              0.1111111111111111,
              "#46039f"
             ],
             [
              0.2222222222222222,
              "#7201a8"
             ],
             [
              0.3333333333333333,
              "#9c179e"
             ],
             [
              0.4444444444444444,
              "#bd3786"
             ],
             [
              0.5555555555555556,
              "#d8576b"
             ],
             [
              0.6666666666666666,
              "#ed7953"
             ],
             [
              0.7777777777777778,
              "#fb9f3a"
             ],
             [
              0.8888888888888888,
              "#fdca26"
             ],
             [
              1,
              "#f0f921"
             ]
            ],
            "type": "heatmapgl"
           }
          ],
          "histogram": [
           {
            "marker": {
             "colorbar": {
              "outlinewidth": 0,
              "ticks": ""
             }
            },
            "type": "histogram"
           }
          ],
          "histogram2d": [
           {
            "colorbar": {
             "outlinewidth": 0,
             "ticks": ""
            },
            "colorscale": [
             [
              0,
              "#0d0887"
             ],
             [
              0.1111111111111111,
              "#46039f"
             ],
             [
              0.2222222222222222,
              "#7201a8"
             ],
             [
              0.3333333333333333,
              "#9c179e"
             ],
             [
              0.4444444444444444,
              "#bd3786"
             ],
             [
              0.5555555555555556,
              "#d8576b"
             ],
             [
              0.6666666666666666,
              "#ed7953"
             ],
             [
              0.7777777777777778,
              "#fb9f3a"
             ],
             [
              0.8888888888888888,
              "#fdca26"
             ],
             [
              1,
              "#f0f921"
             ]
            ],
            "type": "histogram2d"
           }
          ],
          "histogram2dcontour": [
           {
            "colorbar": {
             "outlinewidth": 0,
             "ticks": ""
            },
            "colorscale": [
             [
              0,
              "#0d0887"
             ],
             [
              0.1111111111111111,
              "#46039f"
             ],
             [
              0.2222222222222222,
              "#7201a8"
             ],
             [
              0.3333333333333333,
              "#9c179e"
             ],
             [
              0.4444444444444444,
              "#bd3786"
             ],
             [
              0.5555555555555556,
              "#d8576b"
             ],
             [
              0.6666666666666666,
              "#ed7953"
             ],
             [
              0.7777777777777778,
              "#fb9f3a"
             ],
             [
              0.8888888888888888,
              "#fdca26"
             ],
             [
              1,
              "#f0f921"
             ]
            ],
            "type": "histogram2dcontour"
           }
          ],
          "mesh3d": [
           {
            "colorbar": {
             "outlinewidth": 0,
             "ticks": ""
            },
            "type": "mesh3d"
           }
          ],
          "parcoords": [
           {
            "line": {
             "colorbar": {
              "outlinewidth": 0,
              "ticks": ""
             }
            },
            "type": "parcoords"
           }
          ],
          "pie": [
           {
            "automargin": true,
            "type": "pie"
           }
          ],
          "scatter": [
           {
            "marker": {
             "colorbar": {
              "outlinewidth": 0,
              "ticks": ""
             }
            },
            "type": "scatter"
           }
          ],
          "scatter3d": [
           {
            "line": {
             "colorbar": {
              "outlinewidth": 0,
              "ticks": ""
             }
            },
            "marker": {
             "colorbar": {
              "outlinewidth": 0,
              "ticks": ""
             }
            },
            "type": "scatter3d"
           }
          ],
          "scattercarpet": [
           {
            "marker": {
             "colorbar": {
              "outlinewidth": 0,
              "ticks": ""
             }
            },
            "type": "scattercarpet"
           }
          ],
          "scattergeo": [
           {
            "marker": {
             "colorbar": {
              "outlinewidth": 0,
              "ticks": ""
             }
            },
            "type": "scattergeo"
           }
          ],
          "scattergl": [
           {
            "marker": {
             "colorbar": {
              "outlinewidth": 0,
              "ticks": ""
             }
            },
            "type": "scattergl"
           }
          ],
          "scattermapbox": [
           {
            "marker": {
             "colorbar": {
              "outlinewidth": 0,
              "ticks": ""
             }
            },
            "type": "scattermapbox"
           }
          ],
          "scatterpolar": [
           {
            "marker": {
             "colorbar": {
              "outlinewidth": 0,
              "ticks": ""
             }
            },
            "type": "scatterpolar"
           }
          ],
          "scatterpolargl": [
           {
            "marker": {
             "colorbar": {
              "outlinewidth": 0,
              "ticks": ""
             }
            },
            "type": "scatterpolargl"
           }
          ],
          "scatterternary": [
           {
            "marker": {
             "colorbar": {
              "outlinewidth": 0,
              "ticks": ""
             }
            },
            "type": "scatterternary"
           }
          ],
          "surface": [
           {
            "colorbar": {
             "outlinewidth": 0,
             "ticks": ""
            },
            "colorscale": [
             [
              0,
              "#0d0887"
             ],
             [
              0.1111111111111111,
              "#46039f"
             ],
             [
              0.2222222222222222,
              "#7201a8"
             ],
             [
              0.3333333333333333,
              "#9c179e"
             ],
             [
              0.4444444444444444,
              "#bd3786"
             ],
             [
              0.5555555555555556,
              "#d8576b"
             ],
             [
              0.6666666666666666,
              "#ed7953"
             ],
             [
              0.7777777777777778,
              "#fb9f3a"
             ],
             [
              0.8888888888888888,
              "#fdca26"
             ],
             [
              1,
              "#f0f921"
             ]
            ],
            "type": "surface"
           }
          ],
          "table": [
           {
            "cells": {
             "fill": {
              "color": "#EBF0F8"
             },
             "line": {
              "color": "white"
             }
            },
            "header": {
             "fill": {
              "color": "#C8D4E3"
             },
             "line": {
              "color": "white"
             }
            },
            "type": "table"
           }
          ]
         },
         "layout": {
          "annotationdefaults": {
           "arrowcolor": "#2a3f5f",
           "arrowhead": 0,
           "arrowwidth": 1
          },
          "autotypenumbers": "strict",
          "coloraxis": {
           "colorbar": {
            "outlinewidth": 0,
            "ticks": ""
           }
          },
          "colorscale": {
           "diverging": [
            [
             0,
             "#8e0152"
            ],
            [
             0.1,
             "#c51b7d"
            ],
            [
             0.2,
             "#de77ae"
            ],
            [
             0.3,
             "#f1b6da"
            ],
            [
             0.4,
             "#fde0ef"
            ],
            [
             0.5,
             "#f7f7f7"
            ],
            [
             0.6,
             "#e6f5d0"
            ],
            [
             0.7,
             "#b8e186"
            ],
            [
             0.8,
             "#7fbc41"
            ],
            [
             0.9,
             "#4d9221"
            ],
            [
             1,
             "#276419"
            ]
           ],
           "sequential": [
            [
             0,
             "#0d0887"
            ],
            [
             0.1111111111111111,
             "#46039f"
            ],
            [
             0.2222222222222222,
             "#7201a8"
            ],
            [
             0.3333333333333333,
             "#9c179e"
            ],
            [
             0.4444444444444444,
             "#bd3786"
            ],
            [
             0.5555555555555556,
             "#d8576b"
            ],
            [
             0.6666666666666666,
             "#ed7953"
            ],
            [
             0.7777777777777778,
             "#fb9f3a"
            ],
            [
             0.8888888888888888,
             "#fdca26"
            ],
            [
             1,
             "#f0f921"
            ]
           ],
           "sequentialminus": [
            [
             0,
             "#0d0887"
            ],
            [
             0.1111111111111111,
             "#46039f"
            ],
            [
             0.2222222222222222,
             "#7201a8"
            ],
            [
             0.3333333333333333,
             "#9c179e"
            ],
            [
             0.4444444444444444,
             "#bd3786"
            ],
            [
             0.5555555555555556,
             "#d8576b"
            ],
            [
             0.6666666666666666,
             "#ed7953"
            ],
            [
             0.7777777777777778,
             "#fb9f3a"
            ],
            [
             0.8888888888888888,
             "#fdca26"
            ],
            [
             1,
             "#f0f921"
            ]
           ]
          },
          "colorway": [
           "#636efa",
           "#EF553B",
           "#00cc96",
           "#ab63fa",
           "#FFA15A",
           "#19d3f3",
           "#FF6692",
           "#B6E880",
           "#FF97FF",
           "#FECB52"
          ],
          "font": {
           "color": "#2a3f5f"
          },
          "geo": {
           "bgcolor": "white",
           "lakecolor": "white",
           "landcolor": "#E5ECF6",
           "showlakes": true,
           "showland": true,
           "subunitcolor": "white"
          },
          "hoverlabel": {
           "align": "left"
          },
          "hovermode": "closest",
          "mapbox": {
           "style": "light"
          },
          "paper_bgcolor": "white",
          "plot_bgcolor": "#E5ECF6",
          "polar": {
           "angularaxis": {
            "gridcolor": "white",
            "linecolor": "white",
            "ticks": ""
           },
           "bgcolor": "#E5ECF6",
           "radialaxis": {
            "gridcolor": "white",
            "linecolor": "white",
            "ticks": ""
           }
          },
          "scene": {
           "xaxis": {
            "backgroundcolor": "#E5ECF6",
            "gridcolor": "white",
            "gridwidth": 2,
            "linecolor": "white",
            "showbackground": true,
            "ticks": "",
            "zerolinecolor": "white"
           },
           "yaxis": {
            "backgroundcolor": "#E5ECF6",
            "gridcolor": "white",
            "gridwidth": 2,
            "linecolor": "white",
            "showbackground": true,
            "ticks": "",
            "zerolinecolor": "white"
           },
           "zaxis": {
            "backgroundcolor": "#E5ECF6",
            "gridcolor": "white",
            "gridwidth": 2,
            "linecolor": "white",
            "showbackground": true,
            "ticks": "",
            "zerolinecolor": "white"
           }
          },
          "shapedefaults": {
           "line": {
            "color": "#2a3f5f"
           }
          },
          "ternary": {
           "aaxis": {
            "gridcolor": "white",
            "linecolor": "white",
            "ticks": ""
           },
           "baxis": {
            "gridcolor": "white",
            "linecolor": "white",
            "ticks": ""
           },
           "bgcolor": "#E5ECF6",
           "caxis": {
            "gridcolor": "white",
            "linecolor": "white",
            "ticks": ""
           }
          },
          "title": {
           "x": 0.05
          },
          "xaxis": {
           "automargin": true,
           "gridcolor": "white",
           "linecolor": "white",
           "ticks": "",
           "title": {
            "standoff": 15
           },
           "zerolinecolor": "white",
           "zerolinewidth": 2
          },
          "yaxis": {
           "automargin": true,
           "gridcolor": "white",
           "linecolor": "white",
           "ticks": "",
           "title": {
            "standoff": 15
           },
           "zerolinecolor": "white",
           "zerolinewidth": 2
          }
         }
        }
       }
      },
      "text/html": [
       "<div>                            <div id=\"0090d10a-2822-4e67-b6fb-0bc1bc02b24a\" class=\"plotly-graph-div\" style=\"height:525px; width:100%;\"></div>            <script type=\"text/javascript\">                require([\"plotly\"], function(Plotly) {                    window.PLOTLYENV=window.PLOTLYENV || {};                                    if (document.getElementById(\"0090d10a-2822-4e67-b6fb-0bc1bc02b24a\")) {                    Plotly.newPlot(                        \"0090d10a-2822-4e67-b6fb-0bc1bc02b24a\",                        [{\"mode\": \"markers\", \"type\": \"scatter\", \"x\": [15, 18, 21, 25], \"y\": [100, 400, 300, 200]}],                        {\"template\": {\"data\": {\"bar\": [{\"error_x\": {\"color\": \"#2a3f5f\"}, \"error_y\": {\"color\": \"#2a3f5f\"}, \"marker\": {\"line\": {\"color\": \"#E5ECF6\", \"width\": 0.5}}, \"type\": \"bar\"}], \"barpolar\": [{\"marker\": {\"line\": {\"color\": \"#E5ECF6\", \"width\": 0.5}}, \"type\": \"barpolar\"}], \"carpet\": [{\"aaxis\": {\"endlinecolor\": \"#2a3f5f\", \"gridcolor\": \"white\", \"linecolor\": \"white\", \"minorgridcolor\": \"white\", \"startlinecolor\": \"#2a3f5f\"}, \"baxis\": {\"endlinecolor\": \"#2a3f5f\", \"gridcolor\": \"white\", \"linecolor\": \"white\", \"minorgridcolor\": \"white\", \"startlinecolor\": \"#2a3f5f\"}, \"type\": \"carpet\"}], \"choropleth\": [{\"colorbar\": {\"outlinewidth\": 0, \"ticks\": \"\"}, \"type\": \"choropleth\"}], \"contour\": [{\"colorbar\": {\"outlinewidth\": 0, \"ticks\": \"\"}, \"colorscale\": [[0.0, \"#0d0887\"], [0.1111111111111111, \"#46039f\"], [0.2222222222222222, \"#7201a8\"], [0.3333333333333333, \"#9c179e\"], [0.4444444444444444, \"#bd3786\"], [0.5555555555555556, \"#d8576b\"], [0.6666666666666666, \"#ed7953\"], [0.7777777777777778, \"#fb9f3a\"], [0.8888888888888888, \"#fdca26\"], [1.0, \"#f0f921\"]], \"type\": \"contour\"}], \"contourcarpet\": [{\"colorbar\": {\"outlinewidth\": 0, \"ticks\": \"\"}, \"type\": \"contourcarpet\"}], \"heatmap\": [{\"colorbar\": {\"outlinewidth\": 0, \"ticks\": \"\"}, \"colorscale\": [[0.0, \"#0d0887\"], [0.1111111111111111, \"#46039f\"], [0.2222222222222222, \"#7201a8\"], [0.3333333333333333, \"#9c179e\"], [0.4444444444444444, \"#bd3786\"], [0.5555555555555556, \"#d8576b\"], [0.6666666666666666, \"#ed7953\"], [0.7777777777777778, \"#fb9f3a\"], [0.8888888888888888, \"#fdca26\"], [1.0, \"#f0f921\"]], \"type\": \"heatmap\"}], \"heatmapgl\": [{\"colorbar\": {\"outlinewidth\": 0, \"ticks\": \"\"}, \"colorscale\": [[0.0, \"#0d0887\"], [0.1111111111111111, \"#46039f\"], [0.2222222222222222, \"#7201a8\"], [0.3333333333333333, \"#9c179e\"], [0.4444444444444444, \"#bd3786\"], [0.5555555555555556, \"#d8576b\"], [0.6666666666666666, \"#ed7953\"], [0.7777777777777778, \"#fb9f3a\"], [0.8888888888888888, \"#fdca26\"], [1.0, \"#f0f921\"]], \"type\": \"heatmapgl\"}], \"histogram\": [{\"marker\": {\"colorbar\": {\"outlinewidth\": 0, \"ticks\": \"\"}}, \"type\": \"histogram\"}], \"histogram2d\": [{\"colorbar\": {\"outlinewidth\": 0, \"ticks\": \"\"}, \"colorscale\": [[0.0, \"#0d0887\"], [0.1111111111111111, \"#46039f\"], [0.2222222222222222, \"#7201a8\"], [0.3333333333333333, \"#9c179e\"], [0.4444444444444444, \"#bd3786\"], [0.5555555555555556, \"#d8576b\"], [0.6666666666666666, \"#ed7953\"], [0.7777777777777778, \"#fb9f3a\"], [0.8888888888888888, \"#fdca26\"], [1.0, \"#f0f921\"]], \"type\": \"histogram2d\"}], \"histogram2dcontour\": [{\"colorbar\": {\"outlinewidth\": 0, \"ticks\": \"\"}, \"colorscale\": [[0.0, \"#0d0887\"], [0.1111111111111111, \"#46039f\"], [0.2222222222222222, \"#7201a8\"], [0.3333333333333333, \"#9c179e\"], [0.4444444444444444, \"#bd3786\"], [0.5555555555555556, \"#d8576b\"], [0.6666666666666666, \"#ed7953\"], [0.7777777777777778, \"#fb9f3a\"], [0.8888888888888888, \"#fdca26\"], [1.0, \"#f0f921\"]], \"type\": \"histogram2dcontour\"}], \"mesh3d\": [{\"colorbar\": {\"outlinewidth\": 0, \"ticks\": \"\"}, \"type\": \"mesh3d\"}], \"parcoords\": [{\"line\": {\"colorbar\": {\"outlinewidth\": 0, \"ticks\": \"\"}}, \"type\": \"parcoords\"}], \"pie\": [{\"automargin\": true, \"type\": \"pie\"}], \"scatter\": [{\"marker\": {\"colorbar\": {\"outlinewidth\": 0, \"ticks\": \"\"}}, \"type\": \"scatter\"}], \"scatter3d\": [{\"line\": {\"colorbar\": {\"outlinewidth\": 0, \"ticks\": \"\"}}, \"marker\": {\"colorbar\": {\"outlinewidth\": 0, \"ticks\": \"\"}}, \"type\": \"scatter3d\"}], \"scattercarpet\": [{\"marker\": {\"colorbar\": {\"outlinewidth\": 0, \"ticks\": \"\"}}, \"type\": \"scattercarpet\"}], \"scattergeo\": [{\"marker\": {\"colorbar\": {\"outlinewidth\": 0, \"ticks\": \"\"}}, \"type\": \"scattergeo\"}], \"scattergl\": [{\"marker\": {\"colorbar\": {\"outlinewidth\": 0, \"ticks\": \"\"}}, \"type\": \"scattergl\"}], \"scattermapbox\": [{\"marker\": {\"colorbar\": {\"outlinewidth\": 0, \"ticks\": \"\"}}, \"type\": \"scattermapbox\"}], \"scatterpolar\": [{\"marker\": {\"colorbar\": {\"outlinewidth\": 0, \"ticks\": \"\"}}, \"type\": \"scatterpolar\"}], \"scatterpolargl\": [{\"marker\": {\"colorbar\": {\"outlinewidth\": 0, \"ticks\": \"\"}}, \"type\": \"scatterpolargl\"}], \"scatterternary\": [{\"marker\": {\"colorbar\": {\"outlinewidth\": 0, \"ticks\": \"\"}}, \"type\": \"scatterternary\"}], \"surface\": [{\"colorbar\": {\"outlinewidth\": 0, \"ticks\": \"\"}, \"colorscale\": [[0.0, \"#0d0887\"], [0.1111111111111111, \"#46039f\"], [0.2222222222222222, \"#7201a8\"], [0.3333333333333333, \"#9c179e\"], [0.4444444444444444, \"#bd3786\"], [0.5555555555555556, \"#d8576b\"], [0.6666666666666666, \"#ed7953\"], [0.7777777777777778, \"#fb9f3a\"], [0.8888888888888888, \"#fdca26\"], [1.0, \"#f0f921\"]], \"type\": \"surface\"}], \"table\": [{\"cells\": {\"fill\": {\"color\": \"#EBF0F8\"}, \"line\": {\"color\": \"white\"}}, \"header\": {\"fill\": {\"color\": \"#C8D4E3\"}, \"line\": {\"color\": \"white\"}}, \"type\": \"table\"}]}, \"layout\": {\"annotationdefaults\": {\"arrowcolor\": \"#2a3f5f\", \"arrowhead\": 0, \"arrowwidth\": 1}, \"autotypenumbers\": \"strict\", \"coloraxis\": {\"colorbar\": {\"outlinewidth\": 0, \"ticks\": \"\"}}, \"colorscale\": {\"diverging\": [[0, \"#8e0152\"], [0.1, \"#c51b7d\"], [0.2, \"#de77ae\"], [0.3, \"#f1b6da\"], [0.4, \"#fde0ef\"], [0.5, \"#f7f7f7\"], [0.6, \"#e6f5d0\"], [0.7, \"#b8e186\"], [0.8, \"#7fbc41\"], [0.9, \"#4d9221\"], [1, \"#276419\"]], \"sequential\": [[0.0, \"#0d0887\"], [0.1111111111111111, \"#46039f\"], [0.2222222222222222, \"#7201a8\"], [0.3333333333333333, \"#9c179e\"], [0.4444444444444444, \"#bd3786\"], [0.5555555555555556, \"#d8576b\"], [0.6666666666666666, \"#ed7953\"], [0.7777777777777778, \"#fb9f3a\"], [0.8888888888888888, \"#fdca26\"], [1.0, \"#f0f921\"]], \"sequentialminus\": [[0.0, \"#0d0887\"], [0.1111111111111111, \"#46039f\"], [0.2222222222222222, \"#7201a8\"], [0.3333333333333333, \"#9c179e\"], [0.4444444444444444, \"#bd3786\"], [0.5555555555555556, \"#d8576b\"], [0.6666666666666666, \"#ed7953\"], [0.7777777777777778, \"#fb9f3a\"], [0.8888888888888888, \"#fdca26\"], [1.0, \"#f0f921\"]]}, \"colorway\": [\"#636efa\", \"#EF553B\", \"#00cc96\", \"#ab63fa\", \"#FFA15A\", \"#19d3f3\", \"#FF6692\", \"#B6E880\", \"#FF97FF\", \"#FECB52\"], \"font\": {\"color\": \"#2a3f5f\"}, \"geo\": {\"bgcolor\": \"white\", \"lakecolor\": \"white\", \"landcolor\": \"#E5ECF6\", \"showlakes\": true, \"showland\": true, \"subunitcolor\": \"white\"}, \"hoverlabel\": {\"align\": \"left\"}, \"hovermode\": \"closest\", \"mapbox\": {\"style\": \"light\"}, \"paper_bgcolor\": \"white\", \"plot_bgcolor\": \"#E5ECF6\", \"polar\": {\"angularaxis\": {\"gridcolor\": \"white\", \"linecolor\": \"white\", \"ticks\": \"\"}, \"bgcolor\": \"#E5ECF6\", \"radialaxis\": {\"gridcolor\": \"white\", \"linecolor\": \"white\", \"ticks\": \"\"}}, \"scene\": {\"xaxis\": {\"backgroundcolor\": \"#E5ECF6\", \"gridcolor\": \"white\", \"gridwidth\": 2, \"linecolor\": \"white\", \"showbackground\": true, \"ticks\": \"\", \"zerolinecolor\": \"white\"}, \"yaxis\": {\"backgroundcolor\": \"#E5ECF6\", \"gridcolor\": \"white\", \"gridwidth\": 2, \"linecolor\": \"white\", \"showbackground\": true, \"ticks\": \"\", \"zerolinecolor\": \"white\"}, \"zaxis\": {\"backgroundcolor\": \"#E5ECF6\", \"gridcolor\": \"white\", \"gridwidth\": 2, \"linecolor\": \"white\", \"showbackground\": true, \"ticks\": \"\", \"zerolinecolor\": \"white\"}}, \"shapedefaults\": {\"line\": {\"color\": \"#2a3f5f\"}}, \"ternary\": {\"aaxis\": {\"gridcolor\": \"white\", \"linecolor\": \"white\", \"ticks\": \"\"}, \"baxis\": {\"gridcolor\": \"white\", \"linecolor\": \"white\", \"ticks\": \"\"}, \"bgcolor\": \"#E5ECF6\", \"caxis\": {\"gridcolor\": \"white\", \"linecolor\": \"white\", \"ticks\": \"\"}}, \"title\": {\"x\": 0.05}, \"xaxis\": {\"automargin\": true, \"gridcolor\": \"white\", \"linecolor\": \"white\", \"ticks\": \"\", \"title\": {\"standoff\": 15}, \"zerolinecolor\": \"white\", \"zerolinewidth\": 2}, \"yaxis\": {\"automargin\": true, \"gridcolor\": \"white\", \"linecolor\": \"white\", \"ticks\": \"\", \"title\": {\"standoff\": 15}, \"zerolinecolor\": \"white\", \"zerolinewidth\": 2}}}},                        {\"responsive\": true}                    ).then(function(){\n",
       "                            \n",
       "var gd = document.getElementById('0090d10a-2822-4e67-b6fb-0bc1bc02b24a');\n",
       "var x = new MutationObserver(function (mutations, observer) {{\n",
       "        var display = window.getComputedStyle(gd).display;\n",
       "        if (!display || display === 'none') {{\n",
       "            console.log([gd, 'removed!']);\n",
       "            Plotly.purge(gd);\n",
       "            observer.disconnect();\n",
       "        }}\n",
       "}});\n",
       "\n",
       "// Listen for the removal of the full notebook cells\n",
       "var notebookContainer = gd.closest('#notebook-container');\n",
       "if (notebookContainer) {{\n",
       "    x.observe(notebookContainer, {childList: true});\n",
       "}}\n",
       "\n",
       "// Listen for the clearing of the current output cell\n",
       "var outputEl = gd.closest('.output');\n",
       "if (outputEl) {{\n",
       "    x.observe(outputEl, {childList: true});\n",
       "}}\n",
       "\n",
       "                        })                };                });            </script>        </div>"
      ]
     },
     "metadata": {},
     "output_type": "display_data"
    }
   ],
   "source": [
    "trace = go.Scatter(x=[15, 18, 21, 25], y=[100, 400, 300, 200], mode=\"markers\")\n",
    "\n",
    "data = [trace]\n",
    "\n",
    "offline.iplot(data)"
   ]
  },
  {
   "cell_type": "code",
   "execution_count": 3,
   "id": "e91e6c19",
   "metadata": {
    "ExecuteTime": {
     "end_time": "2021-06-01T01:14:36.768015Z",
     "start_time": "2021-06-01T01:14:36.759082Z"
    }
   },
   "outputs": [],
   "source": [
    "z = [25, 100, 75, 50]"
   ]
  },
  {
   "cell_type": "code",
   "execution_count": 4,
   "id": "d6405d0e",
   "metadata": {
    "ExecuteTime": {
     "end_time": "2021-06-01T01:14:36.881233Z",
     "start_time": "2021-06-01T01:14:36.775195Z"
    },
    "scrolled": false
   },
   "outputs": [
    {
     "data": {
      "application/vnd.plotly.v1+json": {
       "config": {
        "linkText": "Export to plot.ly",
        "plotlyServerURL": "https://plot.ly",
        "showLink": false
       },
       "data": [
        {
         "marker": {
          "size": [
           25,
           100,
           75,
           50
          ]
         },
         "mode": "markers",
         "type": "scatter",
         "x": [
          15,
          18,
          21,
          25
         ],
         "y": [
          100,
          400,
          300,
          200
         ]
        }
       ],
       "layout": {
        "template": {
         "data": {
          "bar": [
           {
            "error_x": {
             "color": "#2a3f5f"
            },
            "error_y": {
             "color": "#2a3f5f"
            },
            "marker": {
             "line": {
              "color": "#E5ECF6",
              "width": 0.5
             }
            },
            "type": "bar"
           }
          ],
          "barpolar": [
           {
            "marker": {
             "line": {
              "color": "#E5ECF6",
              "width": 0.5
             }
            },
            "type": "barpolar"
           }
          ],
          "carpet": [
           {
            "aaxis": {
             "endlinecolor": "#2a3f5f",
             "gridcolor": "white",
             "linecolor": "white",
             "minorgridcolor": "white",
             "startlinecolor": "#2a3f5f"
            },
            "baxis": {
             "endlinecolor": "#2a3f5f",
             "gridcolor": "white",
             "linecolor": "white",
             "minorgridcolor": "white",
             "startlinecolor": "#2a3f5f"
            },
            "type": "carpet"
           }
          ],
          "choropleth": [
           {
            "colorbar": {
             "outlinewidth": 0,
             "ticks": ""
            },
            "type": "choropleth"
           }
          ],
          "contour": [
           {
            "colorbar": {
             "outlinewidth": 0,
             "ticks": ""
            },
            "colorscale": [
             [
              0,
              "#0d0887"
             ],
             [
              0.1111111111111111,
              "#46039f"
             ],
             [
              0.2222222222222222,
              "#7201a8"
             ],
             [
              0.3333333333333333,
              "#9c179e"
             ],
             [
              0.4444444444444444,
              "#bd3786"
             ],
             [
              0.5555555555555556,
              "#d8576b"
             ],
             [
              0.6666666666666666,
              "#ed7953"
             ],
             [
              0.7777777777777778,
              "#fb9f3a"
             ],
             [
              0.8888888888888888,
              "#fdca26"
             ],
             [
              1,
              "#f0f921"
             ]
            ],
            "type": "contour"
           }
          ],
          "contourcarpet": [
           {
            "colorbar": {
             "outlinewidth": 0,
             "ticks": ""
            },
            "type": "contourcarpet"
           }
          ],
          "heatmap": [
           {
            "colorbar": {
             "outlinewidth": 0,
             "ticks": ""
            },
            "colorscale": [
             [
              0,
              "#0d0887"
             ],
             [
              0.1111111111111111,
              "#46039f"
             ],
             [
              0.2222222222222222,
              "#7201a8"
             ],
             [
              0.3333333333333333,
              "#9c179e"
             ],
             [
              0.4444444444444444,
              "#bd3786"
             ],
             [
              0.5555555555555556,
              "#d8576b"
             ],
             [
              0.6666666666666666,
              "#ed7953"
             ],
             [
              0.7777777777777778,
              "#fb9f3a"
             ],
             [
              0.8888888888888888,
              "#fdca26"
             ],
             [
              1,
              "#f0f921"
             ]
            ],
            "type": "heatmap"
           }
          ],
          "heatmapgl": [
           {
            "colorbar": {
             "outlinewidth": 0,
             "ticks": ""
            },
            "colorscale": [
             [
              0,
              "#0d0887"
             ],
             [
              0.1111111111111111,
              "#46039f"
             ],
             [
              0.2222222222222222,
              "#7201a8"
             ],
             [
              0.3333333333333333,
              "#9c179e"
             ],
             [
              0.4444444444444444,
              "#bd3786"
             ],
             [
              0.5555555555555556,
              "#d8576b"
             ],
             [
              0.6666666666666666,
              "#ed7953"
             ],
             [
              0.7777777777777778,
              "#fb9f3a"
             ],
             [
              0.8888888888888888,
              "#fdca26"
             ],
             [
              1,
              "#f0f921"
             ]
            ],
            "type": "heatmapgl"
           }
          ],
          "histogram": [
           {
            "marker": {
             "colorbar": {
              "outlinewidth": 0,
              "ticks": ""
             }
            },
            "type": "histogram"
           }
          ],
          "histogram2d": [
           {
            "colorbar": {
             "outlinewidth": 0,
             "ticks": ""
            },
            "colorscale": [
             [
              0,
              "#0d0887"
             ],
             [
              0.1111111111111111,
              "#46039f"
             ],
             [
              0.2222222222222222,
              "#7201a8"
             ],
             [
              0.3333333333333333,
              "#9c179e"
             ],
             [
              0.4444444444444444,
              "#bd3786"
             ],
             [
              0.5555555555555556,
              "#d8576b"
             ],
             [
              0.6666666666666666,
              "#ed7953"
             ],
             [
              0.7777777777777778,
              "#fb9f3a"
             ],
             [
              0.8888888888888888,
              "#fdca26"
             ],
             [
              1,
              "#f0f921"
             ]
            ],
            "type": "histogram2d"
           }
          ],
          "histogram2dcontour": [
           {
            "colorbar": {
             "outlinewidth": 0,
             "ticks": ""
            },
            "colorscale": [
             [
              0,
              "#0d0887"
             ],
             [
              0.1111111111111111,
              "#46039f"
             ],
             [
              0.2222222222222222,
              "#7201a8"
             ],
             [
              0.3333333333333333,
              "#9c179e"
             ],
             [
              0.4444444444444444,
              "#bd3786"
             ],
             [
              0.5555555555555556,
              "#d8576b"
             ],
             [
              0.6666666666666666,
              "#ed7953"
             ],
             [
              0.7777777777777778,
              "#fb9f3a"
             ],
             [
              0.8888888888888888,
              "#fdca26"
             ],
             [
              1,
              "#f0f921"
             ]
            ],
            "type": "histogram2dcontour"
           }
          ],
          "mesh3d": [
           {
            "colorbar": {
             "outlinewidth": 0,
             "ticks": ""
            },
            "type": "mesh3d"
           }
          ],
          "parcoords": [
           {
            "line": {
             "colorbar": {
              "outlinewidth": 0,
              "ticks": ""
             }
            },
            "type": "parcoords"
           }
          ],
          "pie": [
           {
            "automargin": true,
            "type": "pie"
           }
          ],
          "scatter": [
           {
            "marker": {
             "colorbar": {
              "outlinewidth": 0,
              "ticks": ""
             }
            },
            "type": "scatter"
           }
          ],
          "scatter3d": [
           {
            "line": {
             "colorbar": {
              "outlinewidth": 0,
              "ticks": ""
             }
            },
            "marker": {
             "colorbar": {
              "outlinewidth": 0,
              "ticks": ""
             }
            },
            "type": "scatter3d"
           }
          ],
          "scattercarpet": [
           {
            "marker": {
             "colorbar": {
              "outlinewidth": 0,
              "ticks": ""
             }
            },
            "type": "scattercarpet"
           }
          ],
          "scattergeo": [
           {
            "marker": {
             "colorbar": {
              "outlinewidth": 0,
              "ticks": ""
             }
            },
            "type": "scattergeo"
           }
          ],
          "scattergl": [
           {
            "marker": {
             "colorbar": {
              "outlinewidth": 0,
              "ticks": ""
             }
            },
            "type": "scattergl"
           }
          ],
          "scattermapbox": [
           {
            "marker": {
             "colorbar": {
              "outlinewidth": 0,
              "ticks": ""
             }
            },
            "type": "scattermapbox"
           }
          ],
          "scatterpolar": [
           {
            "marker": {
             "colorbar": {
              "outlinewidth": 0,
              "ticks": ""
             }
            },
            "type": "scatterpolar"
           }
          ],
          "scatterpolargl": [
           {
            "marker": {
             "colorbar": {
              "outlinewidth": 0,
              "ticks": ""
             }
            },
            "type": "scatterpolargl"
           }
          ],
          "scatterternary": [
           {
            "marker": {
             "colorbar": {
              "outlinewidth": 0,
              "ticks": ""
             }
            },
            "type": "scatterternary"
           }
          ],
          "surface": [
           {
            "colorbar": {
             "outlinewidth": 0,
             "ticks": ""
            },
            "colorscale": [
             [
              0,
              "#0d0887"
             ],
             [
              0.1111111111111111,
              "#46039f"
             ],
             [
              0.2222222222222222,
              "#7201a8"
             ],
             [
              0.3333333333333333,
              "#9c179e"
             ],
             [
              0.4444444444444444,
              "#bd3786"
             ],
             [
              0.5555555555555556,
              "#d8576b"
             ],
             [
              0.6666666666666666,
              "#ed7953"
             ],
             [
              0.7777777777777778,
              "#fb9f3a"
             ],
             [
              0.8888888888888888,
              "#fdca26"
             ],
             [
              1,
              "#f0f921"
             ]
            ],
            "type": "surface"
           }
          ],
          "table": [
           {
            "cells": {
             "fill": {
              "color": "#EBF0F8"
             },
             "line": {
              "color": "white"
             }
            },
            "header": {
             "fill": {
              "color": "#C8D4E3"
             },
             "line": {
              "color": "white"
             }
            },
            "type": "table"
           }
          ]
         },
         "layout": {
          "annotationdefaults": {
           "arrowcolor": "#2a3f5f",
           "arrowhead": 0,
           "arrowwidth": 1
          },
          "autotypenumbers": "strict",
          "coloraxis": {
           "colorbar": {
            "outlinewidth": 0,
            "ticks": ""
           }
          },
          "colorscale": {
           "diverging": [
            [
             0,
             "#8e0152"
            ],
            [
             0.1,
             "#c51b7d"
            ],
            [
             0.2,
             "#de77ae"
            ],
            [
             0.3,
             "#f1b6da"
            ],
            [
             0.4,
             "#fde0ef"
            ],
            [
             0.5,
             "#f7f7f7"
            ],
            [
             0.6,
             "#e6f5d0"
            ],
            [
             0.7,
             "#b8e186"
            ],
            [
             0.8,
             "#7fbc41"
            ],
            [
             0.9,
             "#4d9221"
            ],
            [
             1,
             "#276419"
            ]
           ],
           "sequential": [
            [
             0,
             "#0d0887"
            ],
            [
             0.1111111111111111,
             "#46039f"
            ],
            [
             0.2222222222222222,
             "#7201a8"
            ],
            [
             0.3333333333333333,
             "#9c179e"
            ],
            [
             0.4444444444444444,
             "#bd3786"
            ],
            [
             0.5555555555555556,
             "#d8576b"
            ],
            [
             0.6666666666666666,
             "#ed7953"
            ],
            [
             0.7777777777777778,
             "#fb9f3a"
            ],
            [
             0.8888888888888888,
             "#fdca26"
            ],
            [
             1,
             "#f0f921"
            ]
           ],
           "sequentialminus": [
            [
             0,
             "#0d0887"
            ],
            [
             0.1111111111111111,
             "#46039f"
            ],
            [
             0.2222222222222222,
             "#7201a8"
            ],
            [
             0.3333333333333333,
             "#9c179e"
            ],
            [
             0.4444444444444444,
             "#bd3786"
            ],
            [
             0.5555555555555556,
             "#d8576b"
            ],
            [
             0.6666666666666666,
             "#ed7953"
            ],
            [
             0.7777777777777778,
             "#fb9f3a"
            ],
            [
             0.8888888888888888,
             "#fdca26"
            ],
            [
             1,
             "#f0f921"
            ]
           ]
          },
          "colorway": [
           "#636efa",
           "#EF553B",
           "#00cc96",
           "#ab63fa",
           "#FFA15A",
           "#19d3f3",
           "#FF6692",
           "#B6E880",
           "#FF97FF",
           "#FECB52"
          ],
          "font": {
           "color": "#2a3f5f"
          },
          "geo": {
           "bgcolor": "white",
           "lakecolor": "white",
           "landcolor": "#E5ECF6",
           "showlakes": true,
           "showland": true,
           "subunitcolor": "white"
          },
          "hoverlabel": {
           "align": "left"
          },
          "hovermode": "closest",
          "mapbox": {
           "style": "light"
          },
          "paper_bgcolor": "white",
          "plot_bgcolor": "#E5ECF6",
          "polar": {
           "angularaxis": {
            "gridcolor": "white",
            "linecolor": "white",
            "ticks": ""
           },
           "bgcolor": "#E5ECF6",
           "radialaxis": {
            "gridcolor": "white",
            "linecolor": "white",
            "ticks": ""
           }
          },
          "scene": {
           "xaxis": {
            "backgroundcolor": "#E5ECF6",
            "gridcolor": "white",
            "gridwidth": 2,
            "linecolor": "white",
            "showbackground": true,
            "ticks": "",
            "zerolinecolor": "white"
           },
           "yaxis": {
            "backgroundcolor": "#E5ECF6",
            "gridcolor": "white",
            "gridwidth": 2,
            "linecolor": "white",
            "showbackground": true,
            "ticks": "",
            "zerolinecolor": "white"
           },
           "zaxis": {
            "backgroundcolor": "#E5ECF6",
            "gridcolor": "white",
            "gridwidth": 2,
            "linecolor": "white",
            "showbackground": true,
            "ticks": "",
            "zerolinecolor": "white"
           }
          },
          "shapedefaults": {
           "line": {
            "color": "#2a3f5f"
           }
          },
          "ternary": {
           "aaxis": {
            "gridcolor": "white",
            "linecolor": "white",
            "ticks": ""
           },
           "baxis": {
            "gridcolor": "white",
            "linecolor": "white",
            "ticks": ""
           },
           "bgcolor": "#E5ECF6",
           "caxis": {
            "gridcolor": "white",
            "linecolor": "white",
            "ticks": ""
           }
          },
          "title": {
           "x": 0.05
          },
          "xaxis": {
           "automargin": true,
           "gridcolor": "white",
           "linecolor": "white",
           "ticks": "",
           "title": {
            "standoff": 15
           },
           "zerolinecolor": "white",
           "zerolinewidth": 2
          },
          "yaxis": {
           "automargin": true,
           "gridcolor": "white",
           "linecolor": "white",
           "ticks": "",
           "title": {
            "standoff": 15
           },
           "zerolinecolor": "white",
           "zerolinewidth": 2
          }
         }
        }
       }
      },
      "text/html": [
       "<div>                            <div id=\"c78bb845-3e90-43e4-8e4a-c04adeae9b98\" class=\"plotly-graph-div\" style=\"height:525px; width:100%;\"></div>            <script type=\"text/javascript\">                require([\"plotly\"], function(Plotly) {                    window.PLOTLYENV=window.PLOTLYENV || {};                                    if (document.getElementById(\"c78bb845-3e90-43e4-8e4a-c04adeae9b98\")) {                    Plotly.newPlot(                        \"c78bb845-3e90-43e4-8e4a-c04adeae9b98\",                        [{\"marker\": {\"size\": [25, 100, 75, 50]}, \"mode\": \"markers\", \"type\": \"scatter\", \"x\": [15, 18, 21, 25], \"y\": [100, 400, 300, 200]}],                        {\"template\": {\"data\": {\"bar\": [{\"error_x\": {\"color\": \"#2a3f5f\"}, \"error_y\": {\"color\": \"#2a3f5f\"}, \"marker\": {\"line\": {\"color\": \"#E5ECF6\", \"width\": 0.5}}, \"type\": \"bar\"}], \"barpolar\": [{\"marker\": {\"line\": {\"color\": \"#E5ECF6\", \"width\": 0.5}}, \"type\": \"barpolar\"}], \"carpet\": [{\"aaxis\": {\"endlinecolor\": \"#2a3f5f\", \"gridcolor\": \"white\", \"linecolor\": \"white\", \"minorgridcolor\": \"white\", \"startlinecolor\": \"#2a3f5f\"}, \"baxis\": {\"endlinecolor\": \"#2a3f5f\", \"gridcolor\": \"white\", \"linecolor\": \"white\", \"minorgridcolor\": \"white\", \"startlinecolor\": \"#2a3f5f\"}, \"type\": \"carpet\"}], \"choropleth\": [{\"colorbar\": {\"outlinewidth\": 0, \"ticks\": \"\"}, \"type\": \"choropleth\"}], \"contour\": [{\"colorbar\": {\"outlinewidth\": 0, \"ticks\": \"\"}, \"colorscale\": [[0.0, \"#0d0887\"], [0.1111111111111111, \"#46039f\"], [0.2222222222222222, \"#7201a8\"], [0.3333333333333333, \"#9c179e\"], [0.4444444444444444, \"#bd3786\"], [0.5555555555555556, \"#d8576b\"], [0.6666666666666666, \"#ed7953\"], [0.7777777777777778, \"#fb9f3a\"], [0.8888888888888888, \"#fdca26\"], [1.0, \"#f0f921\"]], \"type\": \"contour\"}], \"contourcarpet\": [{\"colorbar\": {\"outlinewidth\": 0, \"ticks\": \"\"}, \"type\": \"contourcarpet\"}], \"heatmap\": [{\"colorbar\": {\"outlinewidth\": 0, \"ticks\": \"\"}, \"colorscale\": [[0.0, \"#0d0887\"], [0.1111111111111111, \"#46039f\"], [0.2222222222222222, \"#7201a8\"], [0.3333333333333333, \"#9c179e\"], [0.4444444444444444, \"#bd3786\"], [0.5555555555555556, \"#d8576b\"], [0.6666666666666666, \"#ed7953\"], [0.7777777777777778, \"#fb9f3a\"], [0.8888888888888888, \"#fdca26\"], [1.0, \"#f0f921\"]], \"type\": \"heatmap\"}], \"heatmapgl\": [{\"colorbar\": {\"outlinewidth\": 0, \"ticks\": \"\"}, \"colorscale\": [[0.0, \"#0d0887\"], [0.1111111111111111, \"#46039f\"], [0.2222222222222222, \"#7201a8\"], [0.3333333333333333, \"#9c179e\"], [0.4444444444444444, \"#bd3786\"], [0.5555555555555556, \"#d8576b\"], [0.6666666666666666, \"#ed7953\"], [0.7777777777777778, \"#fb9f3a\"], [0.8888888888888888, \"#fdca26\"], [1.0, \"#f0f921\"]], \"type\": \"heatmapgl\"}], \"histogram\": [{\"marker\": {\"colorbar\": {\"outlinewidth\": 0, \"ticks\": \"\"}}, \"type\": \"histogram\"}], \"histogram2d\": [{\"colorbar\": {\"outlinewidth\": 0, \"ticks\": \"\"}, \"colorscale\": [[0.0, \"#0d0887\"], [0.1111111111111111, \"#46039f\"], [0.2222222222222222, \"#7201a8\"], [0.3333333333333333, \"#9c179e\"], [0.4444444444444444, \"#bd3786\"], [0.5555555555555556, \"#d8576b\"], [0.6666666666666666, \"#ed7953\"], [0.7777777777777778, \"#fb9f3a\"], [0.8888888888888888, \"#fdca26\"], [1.0, \"#f0f921\"]], \"type\": \"histogram2d\"}], \"histogram2dcontour\": [{\"colorbar\": {\"outlinewidth\": 0, \"ticks\": \"\"}, \"colorscale\": [[0.0, \"#0d0887\"], [0.1111111111111111, \"#46039f\"], [0.2222222222222222, \"#7201a8\"], [0.3333333333333333, \"#9c179e\"], [0.4444444444444444, \"#bd3786\"], [0.5555555555555556, \"#d8576b\"], [0.6666666666666666, \"#ed7953\"], [0.7777777777777778, \"#fb9f3a\"], [0.8888888888888888, \"#fdca26\"], [1.0, \"#f0f921\"]], \"type\": \"histogram2dcontour\"}], \"mesh3d\": [{\"colorbar\": {\"outlinewidth\": 0, \"ticks\": \"\"}, \"type\": \"mesh3d\"}], \"parcoords\": [{\"line\": {\"colorbar\": {\"outlinewidth\": 0, \"ticks\": \"\"}}, \"type\": \"parcoords\"}], \"pie\": [{\"automargin\": true, \"type\": \"pie\"}], \"scatter\": [{\"marker\": {\"colorbar\": {\"outlinewidth\": 0, \"ticks\": \"\"}}, \"type\": \"scatter\"}], \"scatter3d\": [{\"line\": {\"colorbar\": {\"outlinewidth\": 0, \"ticks\": \"\"}}, \"marker\": {\"colorbar\": {\"outlinewidth\": 0, \"ticks\": \"\"}}, \"type\": \"scatter3d\"}], \"scattercarpet\": [{\"marker\": {\"colorbar\": {\"outlinewidth\": 0, \"ticks\": \"\"}}, \"type\": \"scattercarpet\"}], \"scattergeo\": [{\"marker\": {\"colorbar\": {\"outlinewidth\": 0, \"ticks\": \"\"}}, \"type\": \"scattergeo\"}], \"scattergl\": [{\"marker\": {\"colorbar\": {\"outlinewidth\": 0, \"ticks\": \"\"}}, \"type\": \"scattergl\"}], \"scattermapbox\": [{\"marker\": {\"colorbar\": {\"outlinewidth\": 0, \"ticks\": \"\"}}, \"type\": \"scattermapbox\"}], \"scatterpolar\": [{\"marker\": {\"colorbar\": {\"outlinewidth\": 0, \"ticks\": \"\"}}, \"type\": \"scatterpolar\"}], \"scatterpolargl\": [{\"marker\": {\"colorbar\": {\"outlinewidth\": 0, \"ticks\": \"\"}}, \"type\": \"scatterpolargl\"}], \"scatterternary\": [{\"marker\": {\"colorbar\": {\"outlinewidth\": 0, \"ticks\": \"\"}}, \"type\": \"scatterternary\"}], \"surface\": [{\"colorbar\": {\"outlinewidth\": 0, \"ticks\": \"\"}, \"colorscale\": [[0.0, \"#0d0887\"], [0.1111111111111111, \"#46039f\"], [0.2222222222222222, \"#7201a8\"], [0.3333333333333333, \"#9c179e\"], [0.4444444444444444, \"#bd3786\"], [0.5555555555555556, \"#d8576b\"], [0.6666666666666666, \"#ed7953\"], [0.7777777777777778, \"#fb9f3a\"], [0.8888888888888888, \"#fdca26\"], [1.0, \"#f0f921\"]], \"type\": \"surface\"}], \"table\": [{\"cells\": {\"fill\": {\"color\": \"#EBF0F8\"}, \"line\": {\"color\": \"white\"}}, \"header\": {\"fill\": {\"color\": \"#C8D4E3\"}, \"line\": {\"color\": \"white\"}}, \"type\": \"table\"}]}, \"layout\": {\"annotationdefaults\": {\"arrowcolor\": \"#2a3f5f\", \"arrowhead\": 0, \"arrowwidth\": 1}, \"autotypenumbers\": \"strict\", \"coloraxis\": {\"colorbar\": {\"outlinewidth\": 0, \"ticks\": \"\"}}, \"colorscale\": {\"diverging\": [[0, \"#8e0152\"], [0.1, \"#c51b7d\"], [0.2, \"#de77ae\"], [0.3, \"#f1b6da\"], [0.4, \"#fde0ef\"], [0.5, \"#f7f7f7\"], [0.6, \"#e6f5d0\"], [0.7, \"#b8e186\"], [0.8, \"#7fbc41\"], [0.9, \"#4d9221\"], [1, \"#276419\"]], \"sequential\": [[0.0, \"#0d0887\"], [0.1111111111111111, \"#46039f\"], [0.2222222222222222, \"#7201a8\"], [0.3333333333333333, \"#9c179e\"], [0.4444444444444444, \"#bd3786\"], [0.5555555555555556, \"#d8576b\"], [0.6666666666666666, \"#ed7953\"], [0.7777777777777778, \"#fb9f3a\"], [0.8888888888888888, \"#fdca26\"], [1.0, \"#f0f921\"]], \"sequentialminus\": [[0.0, \"#0d0887\"], [0.1111111111111111, \"#46039f\"], [0.2222222222222222, \"#7201a8\"], [0.3333333333333333, \"#9c179e\"], [0.4444444444444444, \"#bd3786\"], [0.5555555555555556, \"#d8576b\"], [0.6666666666666666, \"#ed7953\"], [0.7777777777777778, \"#fb9f3a\"], [0.8888888888888888, \"#fdca26\"], [1.0, \"#f0f921\"]]}, \"colorway\": [\"#636efa\", \"#EF553B\", \"#00cc96\", \"#ab63fa\", \"#FFA15A\", \"#19d3f3\", \"#FF6692\", \"#B6E880\", \"#FF97FF\", \"#FECB52\"], \"font\": {\"color\": \"#2a3f5f\"}, \"geo\": {\"bgcolor\": \"white\", \"lakecolor\": \"white\", \"landcolor\": \"#E5ECF6\", \"showlakes\": true, \"showland\": true, \"subunitcolor\": \"white\"}, \"hoverlabel\": {\"align\": \"left\"}, \"hovermode\": \"closest\", \"mapbox\": {\"style\": \"light\"}, \"paper_bgcolor\": \"white\", \"plot_bgcolor\": \"#E5ECF6\", \"polar\": {\"angularaxis\": {\"gridcolor\": \"white\", \"linecolor\": \"white\", \"ticks\": \"\"}, \"bgcolor\": \"#E5ECF6\", \"radialaxis\": {\"gridcolor\": \"white\", \"linecolor\": \"white\", \"ticks\": \"\"}}, \"scene\": {\"xaxis\": {\"backgroundcolor\": \"#E5ECF6\", \"gridcolor\": \"white\", \"gridwidth\": 2, \"linecolor\": \"white\", \"showbackground\": true, \"ticks\": \"\", \"zerolinecolor\": \"white\"}, \"yaxis\": {\"backgroundcolor\": \"#E5ECF6\", \"gridcolor\": \"white\", \"gridwidth\": 2, \"linecolor\": \"white\", \"showbackground\": true, \"ticks\": \"\", \"zerolinecolor\": \"white\"}, \"zaxis\": {\"backgroundcolor\": \"#E5ECF6\", \"gridcolor\": \"white\", \"gridwidth\": 2, \"linecolor\": \"white\", \"showbackground\": true, \"ticks\": \"\", \"zerolinecolor\": \"white\"}}, \"shapedefaults\": {\"line\": {\"color\": \"#2a3f5f\"}}, \"ternary\": {\"aaxis\": {\"gridcolor\": \"white\", \"linecolor\": \"white\", \"ticks\": \"\"}, \"baxis\": {\"gridcolor\": \"white\", \"linecolor\": \"white\", \"ticks\": \"\"}, \"bgcolor\": \"#E5ECF6\", \"caxis\": {\"gridcolor\": \"white\", \"linecolor\": \"white\", \"ticks\": \"\"}}, \"title\": {\"x\": 0.05}, \"xaxis\": {\"automargin\": true, \"gridcolor\": \"white\", \"linecolor\": \"white\", \"ticks\": \"\", \"title\": {\"standoff\": 15}, \"zerolinecolor\": \"white\", \"zerolinewidth\": 2}, \"yaxis\": {\"automargin\": true, \"gridcolor\": \"white\", \"linecolor\": \"white\", \"ticks\": \"\", \"title\": {\"standoff\": 15}, \"zerolinecolor\": \"white\", \"zerolinewidth\": 2}}}},                        {\"responsive\": true}                    ).then(function(){\n",
       "                            \n",
       "var gd = document.getElementById('c78bb845-3e90-43e4-8e4a-c04adeae9b98');\n",
       "var x = new MutationObserver(function (mutations, observer) {{\n",
       "        var display = window.getComputedStyle(gd).display;\n",
       "        if (!display || display === 'none') {{\n",
       "            console.log([gd, 'removed!']);\n",
       "            Plotly.purge(gd);\n",
       "            observer.disconnect();\n",
       "        }}\n",
       "}});\n",
       "\n",
       "// Listen for the removal of the full notebook cells\n",
       "var notebookContainer = gd.closest('#notebook-container');\n",
       "if (notebookContainer) {{\n",
       "    x.observe(notebookContainer, {childList: true});\n",
       "}}\n",
       "\n",
       "// Listen for the clearing of the current output cell\n",
       "var outputEl = gd.closest('.output');\n",
       "if (outputEl) {{\n",
       "    x.observe(outputEl, {childList: true});\n",
       "}}\n",
       "\n",
       "                        })                };                });            </script>        </div>"
      ]
     },
     "metadata": {},
     "output_type": "display_data"
    }
   ],
   "source": [
    "trace = go.Scatter(\n",
    "    x=[15, 18, 21, 25], y=[100, 400, 300, 200], mode=\"markers\", marker=dict(size=z)\n",
    ")\n",
    "\n",
    "data = [trace]\n",
    "\n",
    "offline.iplot(data)"
   ]
  },
  {
   "cell_type": "code",
   "execution_count": 5,
   "id": "caca5bb1",
   "metadata": {
    "ExecuteTime": {
     "end_time": "2021-06-01T01:14:36.898943Z",
     "start_time": "2021-06-01T01:14:36.887282Z"
    }
   },
   "outputs": [],
   "source": [
    "i = [5, 6, 8, 4]"
   ]
  },
  {
   "cell_type": "code",
   "execution_count": 6,
   "id": "402c7788",
   "metadata": {
    "ExecuteTime": {
     "end_time": "2021-06-01T01:14:37.017752Z",
     "start_time": "2021-06-01T01:14:36.906478Z"
    },
    "scrolled": true
   },
   "outputs": [
    {
     "data": {
      "application/vnd.plotly.v1+json": {
       "config": {
        "linkText": "Export to plot.ly",
        "plotlyServerURL": "https://plot.ly",
        "showLink": false
       },
       "data": [
        {
         "marker": {
          "color": [
           5,
           6,
           8,
           4
          ],
          "colorscale": [
           [
            0,
            "rgb(12,51,131)"
           ],
           [
            0.25,
            "rgb(10,136,186)"
           ],
           [
            0.5,
            "rgb(242,211,56)"
           ],
           [
            0.75,
            "rgb(242,143,56)"
           ],
           [
            1,
            "rgb(217,30,30)"
           ]
          ],
          "showscale": true,
          "size": [
           25,
           100,
           75,
           50
          ]
         },
         "mode": "markers",
         "type": "scatter",
         "x": [
          15,
          18,
          21,
          25
         ],
         "y": [
          100,
          400,
          300,
          200
         ]
        }
       ],
       "layout": {
        "template": {
         "data": {
          "bar": [
           {
            "error_x": {
             "color": "#2a3f5f"
            },
            "error_y": {
             "color": "#2a3f5f"
            },
            "marker": {
             "line": {
              "color": "#E5ECF6",
              "width": 0.5
             }
            },
            "type": "bar"
           }
          ],
          "barpolar": [
           {
            "marker": {
             "line": {
              "color": "#E5ECF6",
              "width": 0.5
             }
            },
            "type": "barpolar"
           }
          ],
          "carpet": [
           {
            "aaxis": {
             "endlinecolor": "#2a3f5f",
             "gridcolor": "white",
             "linecolor": "white",
             "minorgridcolor": "white",
             "startlinecolor": "#2a3f5f"
            },
            "baxis": {
             "endlinecolor": "#2a3f5f",
             "gridcolor": "white",
             "linecolor": "white",
             "minorgridcolor": "white",
             "startlinecolor": "#2a3f5f"
            },
            "type": "carpet"
           }
          ],
          "choropleth": [
           {
            "colorbar": {
             "outlinewidth": 0,
             "ticks": ""
            },
            "type": "choropleth"
           }
          ],
          "contour": [
           {
            "colorbar": {
             "outlinewidth": 0,
             "ticks": ""
            },
            "colorscale": [
             [
              0,
              "#0d0887"
             ],
             [
              0.1111111111111111,
              "#46039f"
             ],
             [
              0.2222222222222222,
              "#7201a8"
             ],
             [
              0.3333333333333333,
              "#9c179e"
             ],
             [
              0.4444444444444444,
              "#bd3786"
             ],
             [
              0.5555555555555556,
              "#d8576b"
             ],
             [
              0.6666666666666666,
              "#ed7953"
             ],
             [
              0.7777777777777778,
              "#fb9f3a"
             ],
             [
              0.8888888888888888,
              "#fdca26"
             ],
             [
              1,
              "#f0f921"
             ]
            ],
            "type": "contour"
           }
          ],
          "contourcarpet": [
           {
            "colorbar": {
             "outlinewidth": 0,
             "ticks": ""
            },
            "type": "contourcarpet"
           }
          ],
          "heatmap": [
           {
            "colorbar": {
             "outlinewidth": 0,
             "ticks": ""
            },
            "colorscale": [
             [
              0,
              "#0d0887"
             ],
             [
              0.1111111111111111,
              "#46039f"
             ],
             [
              0.2222222222222222,
              "#7201a8"
             ],
             [
              0.3333333333333333,
              "#9c179e"
             ],
             [
              0.4444444444444444,
              "#bd3786"
             ],
             [
              0.5555555555555556,
              "#d8576b"
             ],
             [
              0.6666666666666666,
              "#ed7953"
             ],
             [
              0.7777777777777778,
              "#fb9f3a"
             ],
             [
              0.8888888888888888,
              "#fdca26"
             ],
             [
              1,
              "#f0f921"
             ]
            ],
            "type": "heatmap"
           }
          ],
          "heatmapgl": [
           {
            "colorbar": {
             "outlinewidth": 0,
             "ticks": ""
            },
            "colorscale": [
             [
              0,
              "#0d0887"
             ],
             [
              0.1111111111111111,
              "#46039f"
             ],
             [
              0.2222222222222222,
              "#7201a8"
             ],
             [
              0.3333333333333333,
              "#9c179e"
             ],
             [
              0.4444444444444444,
              "#bd3786"
             ],
             [
              0.5555555555555556,
              "#d8576b"
             ],
             [
              0.6666666666666666,
              "#ed7953"
             ],
             [
              0.7777777777777778,
              "#fb9f3a"
             ],
             [
              0.8888888888888888,
              "#fdca26"
             ],
             [
              1,
              "#f0f921"
             ]
            ],
            "type": "heatmapgl"
           }
          ],
          "histogram": [
           {
            "marker": {
             "colorbar": {
              "outlinewidth": 0,
              "ticks": ""
             }
            },
            "type": "histogram"
           }
          ],
          "histogram2d": [
           {
            "colorbar": {
             "outlinewidth": 0,
             "ticks": ""
            },
            "colorscale": [
             [
              0,
              "#0d0887"
             ],
             [
              0.1111111111111111,
              "#46039f"
             ],
             [
              0.2222222222222222,
              "#7201a8"
             ],
             [
              0.3333333333333333,
              "#9c179e"
             ],
             [
              0.4444444444444444,
              "#bd3786"
             ],
             [
              0.5555555555555556,
              "#d8576b"
             ],
             [
              0.6666666666666666,
              "#ed7953"
             ],
             [
              0.7777777777777778,
              "#fb9f3a"
             ],
             [
              0.8888888888888888,
              "#fdca26"
             ],
             [
              1,
              "#f0f921"
             ]
            ],
            "type": "histogram2d"
           }
          ],
          "histogram2dcontour": [
           {
            "colorbar": {
             "outlinewidth": 0,
             "ticks": ""
            },
            "colorscale": [
             [
              0,
              "#0d0887"
             ],
             [
              0.1111111111111111,
              "#46039f"
             ],
             [
              0.2222222222222222,
              "#7201a8"
             ],
             [
              0.3333333333333333,
              "#9c179e"
             ],
             [
              0.4444444444444444,
              "#bd3786"
             ],
             [
              0.5555555555555556,
              "#d8576b"
             ],
             [
              0.6666666666666666,
              "#ed7953"
             ],
             [
              0.7777777777777778,
              "#fb9f3a"
             ],
             [
              0.8888888888888888,
              "#fdca26"
             ],
             [
              1,
              "#f0f921"
             ]
            ],
            "type": "histogram2dcontour"
           }
          ],
          "mesh3d": [
           {
            "colorbar": {
             "outlinewidth": 0,
             "ticks": ""
            },
            "type": "mesh3d"
           }
          ],
          "parcoords": [
           {
            "line": {
             "colorbar": {
              "outlinewidth": 0,
              "ticks": ""
             }
            },
            "type": "parcoords"
           }
          ],
          "pie": [
           {
            "automargin": true,
            "type": "pie"
           }
          ],
          "scatter": [
           {
            "marker": {
             "colorbar": {
              "outlinewidth": 0,
              "ticks": ""
             }
            },
            "type": "scatter"
           }
          ],
          "scatter3d": [
           {
            "line": {
             "colorbar": {
              "outlinewidth": 0,
              "ticks": ""
             }
            },
            "marker": {
             "colorbar": {
              "outlinewidth": 0,
              "ticks": ""
             }
            },
            "type": "scatter3d"
           }
          ],
          "scattercarpet": [
           {
            "marker": {
             "colorbar": {
              "outlinewidth": 0,
              "ticks": ""
             }
            },
            "type": "scattercarpet"
           }
          ],
          "scattergeo": [
           {
            "marker": {
             "colorbar": {
              "outlinewidth": 0,
              "ticks": ""
             }
            },
            "type": "scattergeo"
           }
          ],
          "scattergl": [
           {
            "marker": {
             "colorbar": {
              "outlinewidth": 0,
              "ticks": ""
             }
            },
            "type": "scattergl"
           }
          ],
          "scattermapbox": [
           {
            "marker": {
             "colorbar": {
              "outlinewidth": 0,
              "ticks": ""
             }
            },
            "type": "scattermapbox"
           }
          ],
          "scatterpolar": [
           {
            "marker": {
             "colorbar": {
              "outlinewidth": 0,
              "ticks": ""
             }
            },
            "type": "scatterpolar"
           }
          ],
          "scatterpolargl": [
           {
            "marker": {
             "colorbar": {
              "outlinewidth": 0,
              "ticks": ""
             }
            },
            "type": "scatterpolargl"
           }
          ],
          "scatterternary": [
           {
            "marker": {
             "colorbar": {
              "outlinewidth": 0,
              "ticks": ""
             }
            },
            "type": "scatterternary"
           }
          ],
          "surface": [
           {
            "colorbar": {
             "outlinewidth": 0,
             "ticks": ""
            },
            "colorscale": [
             [
              0,
              "#0d0887"
             ],
             [
              0.1111111111111111,
              "#46039f"
             ],
             [
              0.2222222222222222,
              "#7201a8"
             ],
             [
              0.3333333333333333,
              "#9c179e"
             ],
             [
              0.4444444444444444,
              "#bd3786"
             ],
             [
              0.5555555555555556,
              "#d8576b"
             ],
             [
              0.6666666666666666,
              "#ed7953"
             ],
             [
              0.7777777777777778,
              "#fb9f3a"
             ],
             [
              0.8888888888888888,
              "#fdca26"
             ],
             [
              1,
              "#f0f921"
             ]
            ],
            "type": "surface"
           }
          ],
          "table": [
           {
            "cells": {
             "fill": {
              "color": "#EBF0F8"
             },
             "line": {
              "color": "white"
             }
            },
            "header": {
             "fill": {
              "color": "#C8D4E3"
             },
             "line": {
              "color": "white"
             }
            },
            "type": "table"
           }
          ]
         },
         "layout": {
          "annotationdefaults": {
           "arrowcolor": "#2a3f5f",
           "arrowhead": 0,
           "arrowwidth": 1
          },
          "autotypenumbers": "strict",
          "coloraxis": {
           "colorbar": {
            "outlinewidth": 0,
            "ticks": ""
           }
          },
          "colorscale": {
           "diverging": [
            [
             0,
             "#8e0152"
            ],
            [
             0.1,
             "#c51b7d"
            ],
            [
             0.2,
             "#de77ae"
            ],
            [
             0.3,
             "#f1b6da"
            ],
            [
             0.4,
             "#fde0ef"
            ],
            [
             0.5,
             "#f7f7f7"
            ],
            [
             0.6,
             "#e6f5d0"
            ],
            [
             0.7,
             "#b8e186"
            ],
            [
             0.8,
             "#7fbc41"
            ],
            [
             0.9,
             "#4d9221"
            ],
            [
             1,
             "#276419"
            ]
           ],
           "sequential": [
            [
             0,
             "#0d0887"
            ],
            [
             0.1111111111111111,
             "#46039f"
            ],
            [
             0.2222222222222222,
             "#7201a8"
            ],
            [
             0.3333333333333333,
             "#9c179e"
            ],
            [
             0.4444444444444444,
             "#bd3786"
            ],
            [
             0.5555555555555556,
             "#d8576b"
            ],
            [
             0.6666666666666666,
             "#ed7953"
            ],
            [
             0.7777777777777778,
             "#fb9f3a"
            ],
            [
             0.8888888888888888,
             "#fdca26"
            ],
            [
             1,
             "#f0f921"
            ]
           ],
           "sequentialminus": [
            [
             0,
             "#0d0887"
            ],
            [
             0.1111111111111111,
             "#46039f"
            ],
            [
             0.2222222222222222,
             "#7201a8"
            ],
            [
             0.3333333333333333,
             "#9c179e"
            ],
            [
             0.4444444444444444,
             "#bd3786"
            ],
            [
             0.5555555555555556,
             "#d8576b"
            ],
            [
             0.6666666666666666,
             "#ed7953"
            ],
            [
             0.7777777777777778,
             "#fb9f3a"
            ],
            [
             0.8888888888888888,
             "#fdca26"
            ],
            [
             1,
             "#f0f921"
            ]
           ]
          },
          "colorway": [
           "#636efa",
           "#EF553B",
           "#00cc96",
           "#ab63fa",
           "#FFA15A",
           "#19d3f3",
           "#FF6692",
           "#B6E880",
           "#FF97FF",
           "#FECB52"
          ],
          "font": {
           "color": "#2a3f5f"
          },
          "geo": {
           "bgcolor": "white",
           "lakecolor": "white",
           "landcolor": "#E5ECF6",
           "showlakes": true,
           "showland": true,
           "subunitcolor": "white"
          },
          "hoverlabel": {
           "align": "left"
          },
          "hovermode": "closest",
          "mapbox": {
           "style": "light"
          },
          "paper_bgcolor": "white",
          "plot_bgcolor": "#E5ECF6",
          "polar": {
           "angularaxis": {
            "gridcolor": "white",
            "linecolor": "white",
            "ticks": ""
           },
           "bgcolor": "#E5ECF6",
           "radialaxis": {
            "gridcolor": "white",
            "linecolor": "white",
            "ticks": ""
           }
          },
          "scene": {
           "xaxis": {
            "backgroundcolor": "#E5ECF6",
            "gridcolor": "white",
            "gridwidth": 2,
            "linecolor": "white",
            "showbackground": true,
            "ticks": "",
            "zerolinecolor": "white"
           },
           "yaxis": {
            "backgroundcolor": "#E5ECF6",
            "gridcolor": "white",
            "gridwidth": 2,
            "linecolor": "white",
            "showbackground": true,
            "ticks": "",
            "zerolinecolor": "white"
           },
           "zaxis": {
            "backgroundcolor": "#E5ECF6",
            "gridcolor": "white",
            "gridwidth": 2,
            "linecolor": "white",
            "showbackground": true,
            "ticks": "",
            "zerolinecolor": "white"
           }
          },
          "shapedefaults": {
           "line": {
            "color": "#2a3f5f"
           }
          },
          "ternary": {
           "aaxis": {
            "gridcolor": "white",
            "linecolor": "white",
            "ticks": ""
           },
           "baxis": {
            "gridcolor": "white",
            "linecolor": "white",
            "ticks": ""
           },
           "bgcolor": "#E5ECF6",
           "caxis": {
            "gridcolor": "white",
            "linecolor": "white",
            "ticks": ""
           }
          },
          "title": {
           "x": 0.05
          },
          "xaxis": {
           "automargin": true,
           "gridcolor": "white",
           "linecolor": "white",
           "ticks": "",
           "title": {
            "standoff": 15
           },
           "zerolinecolor": "white",
           "zerolinewidth": 2
          },
          "yaxis": {
           "automargin": true,
           "gridcolor": "white",
           "linecolor": "white",
           "ticks": "",
           "title": {
            "standoff": 15
           },
           "zerolinecolor": "white",
           "zerolinewidth": 2
          }
         }
        }
       }
      },
      "text/html": [
       "<div>                            <div id=\"1f992394-0002-4433-ac1c-1c692fa4f26e\" class=\"plotly-graph-div\" style=\"height:525px; width:100%;\"></div>            <script type=\"text/javascript\">                require([\"plotly\"], function(Plotly) {                    window.PLOTLYENV=window.PLOTLYENV || {};                                    if (document.getElementById(\"1f992394-0002-4433-ac1c-1c692fa4f26e\")) {                    Plotly.newPlot(                        \"1f992394-0002-4433-ac1c-1c692fa4f26e\",                        [{\"marker\": {\"color\": [5, 6, 8, 4], \"colorscale\": [[0.0, \"rgb(12,51,131)\"], [0.25, \"rgb(10,136,186)\"], [0.5, \"rgb(242,211,56)\"], [0.75, \"rgb(242,143,56)\"], [1.0, \"rgb(217,30,30)\"]], \"showscale\": true, \"size\": [25, 100, 75, 50]}, \"mode\": \"markers\", \"type\": \"scatter\", \"x\": [15, 18, 21, 25], \"y\": [100, 400, 300, 200]}],                        {\"template\": {\"data\": {\"bar\": [{\"error_x\": {\"color\": \"#2a3f5f\"}, \"error_y\": {\"color\": \"#2a3f5f\"}, \"marker\": {\"line\": {\"color\": \"#E5ECF6\", \"width\": 0.5}}, \"type\": \"bar\"}], \"barpolar\": [{\"marker\": {\"line\": {\"color\": \"#E5ECF6\", \"width\": 0.5}}, \"type\": \"barpolar\"}], \"carpet\": [{\"aaxis\": {\"endlinecolor\": \"#2a3f5f\", \"gridcolor\": \"white\", \"linecolor\": \"white\", \"minorgridcolor\": \"white\", \"startlinecolor\": \"#2a3f5f\"}, \"baxis\": {\"endlinecolor\": \"#2a3f5f\", \"gridcolor\": \"white\", \"linecolor\": \"white\", \"minorgridcolor\": \"white\", \"startlinecolor\": \"#2a3f5f\"}, \"type\": \"carpet\"}], \"choropleth\": [{\"colorbar\": {\"outlinewidth\": 0, \"ticks\": \"\"}, \"type\": \"choropleth\"}], \"contour\": [{\"colorbar\": {\"outlinewidth\": 0, \"ticks\": \"\"}, \"colorscale\": [[0.0, \"#0d0887\"], [0.1111111111111111, \"#46039f\"], [0.2222222222222222, \"#7201a8\"], [0.3333333333333333, \"#9c179e\"], [0.4444444444444444, \"#bd3786\"], [0.5555555555555556, \"#d8576b\"], [0.6666666666666666, \"#ed7953\"], [0.7777777777777778, \"#fb9f3a\"], [0.8888888888888888, \"#fdca26\"], [1.0, \"#f0f921\"]], \"type\": \"contour\"}], \"contourcarpet\": [{\"colorbar\": {\"outlinewidth\": 0, \"ticks\": \"\"}, \"type\": \"contourcarpet\"}], \"heatmap\": [{\"colorbar\": {\"outlinewidth\": 0, \"ticks\": \"\"}, \"colorscale\": [[0.0, \"#0d0887\"], [0.1111111111111111, \"#46039f\"], [0.2222222222222222, \"#7201a8\"], [0.3333333333333333, \"#9c179e\"], [0.4444444444444444, \"#bd3786\"], [0.5555555555555556, \"#d8576b\"], [0.6666666666666666, \"#ed7953\"], [0.7777777777777778, \"#fb9f3a\"], [0.8888888888888888, \"#fdca26\"], [1.0, \"#f0f921\"]], \"type\": \"heatmap\"}], \"heatmapgl\": [{\"colorbar\": {\"outlinewidth\": 0, \"ticks\": \"\"}, \"colorscale\": [[0.0, \"#0d0887\"], [0.1111111111111111, \"#46039f\"], [0.2222222222222222, \"#7201a8\"], [0.3333333333333333, \"#9c179e\"], [0.4444444444444444, \"#bd3786\"], [0.5555555555555556, \"#d8576b\"], [0.6666666666666666, \"#ed7953\"], [0.7777777777777778, \"#fb9f3a\"], [0.8888888888888888, \"#fdca26\"], [1.0, \"#f0f921\"]], \"type\": \"heatmapgl\"}], \"histogram\": [{\"marker\": {\"colorbar\": {\"outlinewidth\": 0, \"ticks\": \"\"}}, \"type\": \"histogram\"}], \"histogram2d\": [{\"colorbar\": {\"outlinewidth\": 0, \"ticks\": \"\"}, \"colorscale\": [[0.0, \"#0d0887\"], [0.1111111111111111, \"#46039f\"], [0.2222222222222222, \"#7201a8\"], [0.3333333333333333, \"#9c179e\"], [0.4444444444444444, \"#bd3786\"], [0.5555555555555556, \"#d8576b\"], [0.6666666666666666, \"#ed7953\"], [0.7777777777777778, \"#fb9f3a\"], [0.8888888888888888, \"#fdca26\"], [1.0, \"#f0f921\"]], \"type\": \"histogram2d\"}], \"histogram2dcontour\": [{\"colorbar\": {\"outlinewidth\": 0, \"ticks\": \"\"}, \"colorscale\": [[0.0, \"#0d0887\"], [0.1111111111111111, \"#46039f\"], [0.2222222222222222, \"#7201a8\"], [0.3333333333333333, \"#9c179e\"], [0.4444444444444444, \"#bd3786\"], [0.5555555555555556, \"#d8576b\"], [0.6666666666666666, \"#ed7953\"], [0.7777777777777778, \"#fb9f3a\"], [0.8888888888888888, \"#fdca26\"], [1.0, \"#f0f921\"]], \"type\": \"histogram2dcontour\"}], \"mesh3d\": [{\"colorbar\": {\"outlinewidth\": 0, \"ticks\": \"\"}, \"type\": \"mesh3d\"}], \"parcoords\": [{\"line\": {\"colorbar\": {\"outlinewidth\": 0, \"ticks\": \"\"}}, \"type\": \"parcoords\"}], \"pie\": [{\"automargin\": true, \"type\": \"pie\"}], \"scatter\": [{\"marker\": {\"colorbar\": {\"outlinewidth\": 0, \"ticks\": \"\"}}, \"type\": \"scatter\"}], \"scatter3d\": [{\"line\": {\"colorbar\": {\"outlinewidth\": 0, \"ticks\": \"\"}}, \"marker\": {\"colorbar\": {\"outlinewidth\": 0, \"ticks\": \"\"}}, \"type\": \"scatter3d\"}], \"scattercarpet\": [{\"marker\": {\"colorbar\": {\"outlinewidth\": 0, \"ticks\": \"\"}}, \"type\": \"scattercarpet\"}], \"scattergeo\": [{\"marker\": {\"colorbar\": {\"outlinewidth\": 0, \"ticks\": \"\"}}, \"type\": \"scattergeo\"}], \"scattergl\": [{\"marker\": {\"colorbar\": {\"outlinewidth\": 0, \"ticks\": \"\"}}, \"type\": \"scattergl\"}], \"scattermapbox\": [{\"marker\": {\"colorbar\": {\"outlinewidth\": 0, \"ticks\": \"\"}}, \"type\": \"scattermapbox\"}], \"scatterpolar\": [{\"marker\": {\"colorbar\": {\"outlinewidth\": 0, \"ticks\": \"\"}}, \"type\": \"scatterpolar\"}], \"scatterpolargl\": [{\"marker\": {\"colorbar\": {\"outlinewidth\": 0, \"ticks\": \"\"}}, \"type\": \"scatterpolargl\"}], \"scatterternary\": [{\"marker\": {\"colorbar\": {\"outlinewidth\": 0, \"ticks\": \"\"}}, \"type\": \"scatterternary\"}], \"surface\": [{\"colorbar\": {\"outlinewidth\": 0, \"ticks\": \"\"}, \"colorscale\": [[0.0, \"#0d0887\"], [0.1111111111111111, \"#46039f\"], [0.2222222222222222, \"#7201a8\"], [0.3333333333333333, \"#9c179e\"], [0.4444444444444444, \"#bd3786\"], [0.5555555555555556, \"#d8576b\"], [0.6666666666666666, \"#ed7953\"], [0.7777777777777778, \"#fb9f3a\"], [0.8888888888888888, \"#fdca26\"], [1.0, \"#f0f921\"]], \"type\": \"surface\"}], \"table\": [{\"cells\": {\"fill\": {\"color\": \"#EBF0F8\"}, \"line\": {\"color\": \"white\"}}, \"header\": {\"fill\": {\"color\": \"#C8D4E3\"}, \"line\": {\"color\": \"white\"}}, \"type\": \"table\"}]}, \"layout\": {\"annotationdefaults\": {\"arrowcolor\": \"#2a3f5f\", \"arrowhead\": 0, \"arrowwidth\": 1}, \"autotypenumbers\": \"strict\", \"coloraxis\": {\"colorbar\": {\"outlinewidth\": 0, \"ticks\": \"\"}}, \"colorscale\": {\"diverging\": [[0, \"#8e0152\"], [0.1, \"#c51b7d\"], [0.2, \"#de77ae\"], [0.3, \"#f1b6da\"], [0.4, \"#fde0ef\"], [0.5, \"#f7f7f7\"], [0.6, \"#e6f5d0\"], [0.7, \"#b8e186\"], [0.8, \"#7fbc41\"], [0.9, \"#4d9221\"], [1, \"#276419\"]], \"sequential\": [[0.0, \"#0d0887\"], [0.1111111111111111, \"#46039f\"], [0.2222222222222222, \"#7201a8\"], [0.3333333333333333, \"#9c179e\"], [0.4444444444444444, \"#bd3786\"], [0.5555555555555556, \"#d8576b\"], [0.6666666666666666, \"#ed7953\"], [0.7777777777777778, \"#fb9f3a\"], [0.8888888888888888, \"#fdca26\"], [1.0, \"#f0f921\"]], \"sequentialminus\": [[0.0, \"#0d0887\"], [0.1111111111111111, \"#46039f\"], [0.2222222222222222, \"#7201a8\"], [0.3333333333333333, \"#9c179e\"], [0.4444444444444444, \"#bd3786\"], [0.5555555555555556, \"#d8576b\"], [0.6666666666666666, \"#ed7953\"], [0.7777777777777778, \"#fb9f3a\"], [0.8888888888888888, \"#fdca26\"], [1.0, \"#f0f921\"]]}, \"colorway\": [\"#636efa\", \"#EF553B\", \"#00cc96\", \"#ab63fa\", \"#FFA15A\", \"#19d3f3\", \"#FF6692\", \"#B6E880\", \"#FF97FF\", \"#FECB52\"], \"font\": {\"color\": \"#2a3f5f\"}, \"geo\": {\"bgcolor\": \"white\", \"lakecolor\": \"white\", \"landcolor\": \"#E5ECF6\", \"showlakes\": true, \"showland\": true, \"subunitcolor\": \"white\"}, \"hoverlabel\": {\"align\": \"left\"}, \"hovermode\": \"closest\", \"mapbox\": {\"style\": \"light\"}, \"paper_bgcolor\": \"white\", \"plot_bgcolor\": \"#E5ECF6\", \"polar\": {\"angularaxis\": {\"gridcolor\": \"white\", \"linecolor\": \"white\", \"ticks\": \"\"}, \"bgcolor\": \"#E5ECF6\", \"radialaxis\": {\"gridcolor\": \"white\", \"linecolor\": \"white\", \"ticks\": \"\"}}, \"scene\": {\"xaxis\": {\"backgroundcolor\": \"#E5ECF6\", \"gridcolor\": \"white\", \"gridwidth\": 2, \"linecolor\": \"white\", \"showbackground\": true, \"ticks\": \"\", \"zerolinecolor\": \"white\"}, \"yaxis\": {\"backgroundcolor\": \"#E5ECF6\", \"gridcolor\": \"white\", \"gridwidth\": 2, \"linecolor\": \"white\", \"showbackground\": true, \"ticks\": \"\", \"zerolinecolor\": \"white\"}, \"zaxis\": {\"backgroundcolor\": \"#E5ECF6\", \"gridcolor\": \"white\", \"gridwidth\": 2, \"linecolor\": \"white\", \"showbackground\": true, \"ticks\": \"\", \"zerolinecolor\": \"white\"}}, \"shapedefaults\": {\"line\": {\"color\": \"#2a3f5f\"}}, \"ternary\": {\"aaxis\": {\"gridcolor\": \"white\", \"linecolor\": \"white\", \"ticks\": \"\"}, \"baxis\": {\"gridcolor\": \"white\", \"linecolor\": \"white\", \"ticks\": \"\"}, \"bgcolor\": \"#E5ECF6\", \"caxis\": {\"gridcolor\": \"white\", \"linecolor\": \"white\", \"ticks\": \"\"}}, \"title\": {\"x\": 0.05}, \"xaxis\": {\"automargin\": true, \"gridcolor\": \"white\", \"linecolor\": \"white\", \"ticks\": \"\", \"title\": {\"standoff\": 15}, \"zerolinecolor\": \"white\", \"zerolinewidth\": 2}, \"yaxis\": {\"automargin\": true, \"gridcolor\": \"white\", \"linecolor\": \"white\", \"ticks\": \"\", \"title\": {\"standoff\": 15}, \"zerolinecolor\": \"white\", \"zerolinewidth\": 2}}}},                        {\"responsive\": true}                    ).then(function(){\n",
       "                            \n",
       "var gd = document.getElementById('1f992394-0002-4433-ac1c-1c692fa4f26e');\n",
       "var x = new MutationObserver(function (mutations, observer) {{\n",
       "        var display = window.getComputedStyle(gd).display;\n",
       "        if (!display || display === 'none') {{\n",
       "            console.log([gd, 'removed!']);\n",
       "            Plotly.purge(gd);\n",
       "            observer.disconnect();\n",
       "        }}\n",
       "}});\n",
       "\n",
       "// Listen for the removal of the full notebook cells\n",
       "var notebookContainer = gd.closest('#notebook-container');\n",
       "if (notebookContainer) {{\n",
       "    x.observe(notebookContainer, {childList: true});\n",
       "}}\n",
       "\n",
       "// Listen for the clearing of the current output cell\n",
       "var outputEl = gd.closest('.output');\n",
       "if (outputEl) {{\n",
       "    x.observe(outputEl, {childList: true});\n",
       "}}\n",
       "\n",
       "                        })                };                });            </script>        </div>"
      ]
     },
     "metadata": {},
     "output_type": "display_data"
    }
   ],
   "source": [
    "trace = go.Scatter(\n",
    "    x=[15, 18, 21, 25],\n",
    "    y=[100, 400, 300, 200],\n",
    "    mode=\"markers\",\n",
    "    marker=dict(size=z, color=i, colorscale=\"Portland\", showscale=True),\n",
    ")\n",
    "\n",
    "data = [trace]\n",
    "\n",
    "offline.iplot(data)"
   ]
  },
  {
   "cell_type": "code",
   "execution_count": 7,
   "id": "13e0452c",
   "metadata": {
    "ExecuteTime": {
     "end_time": "2021-06-01T01:14:37.187869Z",
     "start_time": "2021-06-01T01:14:37.024587Z"
    },
    "scrolled": true
   },
   "outputs": [
    {
     "data": {
      "text/html": [
       "<div>\n",
       "<style scoped>\n",
       "    .dataframe tbody tr th:only-of-type {\n",
       "        vertical-align: middle;\n",
       "    }\n",
       "\n",
       "    .dataframe tbody tr th {\n",
       "        vertical-align: top;\n",
       "    }\n",
       "\n",
       "    .dataframe thead th {\n",
       "        text-align: right;\n",
       "    }\n",
       "</style>\n",
       "<table border=\"1\" class=\"dataframe\">\n",
       "  <thead>\n",
       "    <tr style=\"text-align: right;\">\n",
       "      <th></th>\n",
       "      <th>longitude</th>\n",
       "      <th>latitude</th>\n",
       "      <th>housing_median_age</th>\n",
       "      <th>total_rooms</th>\n",
       "      <th>total_bedrooms</th>\n",
       "      <th>population</th>\n",
       "      <th>households</th>\n",
       "      <th>median_income</th>\n",
       "      <th>median_house_value</th>\n",
       "      <th>ocean_proximity</th>\n",
       "    </tr>\n",
       "  </thead>\n",
       "  <tbody>\n",
       "    <tr>\n",
       "      <th>5307</th>\n",
       "      <td>-118.44</td>\n",
       "      <td>34.05</td>\n",
       "      <td>18.0</td>\n",
       "      <td>4780.0</td>\n",
       "      <td>1192.0</td>\n",
       "      <td>1886.0</td>\n",
       "      <td>1036.0</td>\n",
       "      <td>4.4674</td>\n",
       "      <td>500001.0</td>\n",
       "      <td>&lt;1H OCEAN</td>\n",
       "    </tr>\n",
       "    <tr>\n",
       "      <th>4213</th>\n",
       "      <td>-118.27</td>\n",
       "      <td>34.14</td>\n",
       "      <td>29.0</td>\n",
       "      <td>3768.0</td>\n",
       "      <td>1211.0</td>\n",
       "      <td>2320.0</td>\n",
       "      <td>1030.0</td>\n",
       "      <td>2.7685</td>\n",
       "      <td>204500.0</td>\n",
       "      <td>&lt;1H OCEAN</td>\n",
       "    </tr>\n",
       "    <tr>\n",
       "      <th>8449</th>\n",
       "      <td>-118.35</td>\n",
       "      <td>33.91</td>\n",
       "      <td>19.0</td>\n",
       "      <td>1949.0</td>\n",
       "      <td>559.0</td>\n",
       "      <td>1282.0</td>\n",
       "      <td>498.0</td>\n",
       "      <td>2.7813</td>\n",
       "      <td>231300.0</td>\n",
       "      <td>&lt;1H OCEAN</td>\n",
       "    </tr>\n",
       "    <tr>\n",
       "      <th>11953</th>\n",
       "      <td>-117.45</td>\n",
       "      <td>33.93</td>\n",
       "      <td>20.0</td>\n",
       "      <td>5998.0</td>\n",
       "      <td>1320.0</td>\n",
       "      <td>3185.0</td>\n",
       "      <td>1199.0</td>\n",
       "      <td>3.2731</td>\n",
       "      <td>113900.0</td>\n",
       "      <td>INLAND</td>\n",
       "    </tr>\n",
       "    <tr>\n",
       "      <th>13364</th>\n",
       "      <td>-117.66</td>\n",
       "      <td>34.00</td>\n",
       "      <td>5.0</td>\n",
       "      <td>1387.0</td>\n",
       "      <td>236.0</td>\n",
       "      <td>855.0</td>\n",
       "      <td>270.0</td>\n",
       "      <td>5.4110</td>\n",
       "      <td>201100.0</td>\n",
       "      <td>INLAND</td>\n",
       "    </tr>\n",
       "    <tr>\n",
       "      <th>4330</th>\n",
       "      <td>-118.31</td>\n",
       "      <td>34.08</td>\n",
       "      <td>31.0</td>\n",
       "      <td>2275.0</td>\n",
       "      <td>823.0</td>\n",
       "      <td>2189.0</td>\n",
       "      <td>720.0</td>\n",
       "      <td>1.7542</td>\n",
       "      <td>287500.0</td>\n",
       "      <td>&lt;1H OCEAN</td>\n",
       "    </tr>\n",
       "    <tr>\n",
       "      <th>179</th>\n",
       "      <td>-122.24</td>\n",
       "      <td>37.80</td>\n",
       "      <td>52.0</td>\n",
       "      <td>1803.0</td>\n",
       "      <td>420.0</td>\n",
       "      <td>1321.0</td>\n",
       "      <td>401.0</td>\n",
       "      <td>2.9570</td>\n",
       "      <td>122800.0</td>\n",
       "      <td>NEAR BAY</td>\n",
       "    </tr>\n",
       "    <tr>\n",
       "      <th>17060</th>\n",
       "      <td>-122.24</td>\n",
       "      <td>37.49</td>\n",
       "      <td>30.0</td>\n",
       "      <td>2956.0</td>\n",
       "      <td>590.0</td>\n",
       "      <td>1191.0</td>\n",
       "      <td>594.0</td>\n",
       "      <td>3.7463</td>\n",
       "      <td>427600.0</td>\n",
       "      <td>NEAR OCEAN</td>\n",
       "    </tr>\n",
       "    <tr>\n",
       "      <th>14117</th>\n",
       "      <td>-117.11</td>\n",
       "      <td>32.73</td>\n",
       "      <td>34.0</td>\n",
       "      <td>1096.0</td>\n",
       "      <td>221.0</td>\n",
       "      <td>574.0</td>\n",
       "      <td>223.0</td>\n",
       "      <td>3.8355</td>\n",
       "      <td>126700.0</td>\n",
       "      <td>NEAR OCEAN</td>\n",
       "    </tr>\n",
       "    <tr>\n",
       "      <th>398</th>\n",
       "      <td>-122.29</td>\n",
       "      <td>37.89</td>\n",
       "      <td>52.0</td>\n",
       "      <td>979.0</td>\n",
       "      <td>175.0</td>\n",
       "      <td>374.0</td>\n",
       "      <td>153.0</td>\n",
       "      <td>5.1675</td>\n",
       "      <td>270600.0</td>\n",
       "      <td>NEAR BAY</td>\n",
       "    </tr>\n",
       "  </tbody>\n",
       "</table>\n",
       "</div>"
      ],
      "text/plain": [
       "       longitude  latitude  housing_median_age  total_rooms  total_bedrooms  \\\n",
       "5307     -118.44     34.05                18.0       4780.0          1192.0   \n",
       "4213     -118.27     34.14                29.0       3768.0          1211.0   \n",
       "8449     -118.35     33.91                19.0       1949.0           559.0   \n",
       "11953    -117.45     33.93                20.0       5998.0          1320.0   \n",
       "13364    -117.66     34.00                 5.0       1387.0           236.0   \n",
       "4330     -118.31     34.08                31.0       2275.0           823.0   \n",
       "179      -122.24     37.80                52.0       1803.0           420.0   \n",
       "17060    -122.24     37.49                30.0       2956.0           590.0   \n",
       "14117    -117.11     32.73                34.0       1096.0           221.0   \n",
       "398      -122.29     37.89                52.0        979.0           175.0   \n",
       "\n",
       "       population  households  median_income  median_house_value  \\\n",
       "5307       1886.0      1036.0         4.4674            500001.0   \n",
       "4213       2320.0      1030.0         2.7685            204500.0   \n",
       "8449       1282.0       498.0         2.7813            231300.0   \n",
       "11953      3185.0      1199.0         3.2731            113900.0   \n",
       "13364       855.0       270.0         5.4110            201100.0   \n",
       "4330       2189.0       720.0         1.7542            287500.0   \n",
       "179        1321.0       401.0         2.9570            122800.0   \n",
       "17060      1191.0       594.0         3.7463            427600.0   \n",
       "14117       574.0       223.0         3.8355            126700.0   \n",
       "398         374.0       153.0         5.1675            270600.0   \n",
       "\n",
       "      ocean_proximity  \n",
       "5307        <1H OCEAN  \n",
       "4213        <1H OCEAN  \n",
       "8449        <1H OCEAN  \n",
       "11953          INLAND  \n",
       "13364          INLAND  \n",
       "4330        <1H OCEAN  \n",
       "179          NEAR BAY  \n",
       "17060      NEAR OCEAN  \n",
       "14117      NEAR OCEAN  \n",
       "398          NEAR BAY  "
      ]
     },
     "execution_count": 7,
     "metadata": {},
     "output_type": "execute_result"
    }
   ],
   "source": [
    "housing_data = pd.read_csv(\"data/housing.csv\")\n",
    "housing_data.sample(10)"
   ]
  },
  {
   "cell_type": "code",
   "execution_count": 8,
   "id": "7f879053",
   "metadata": {
    "ExecuteTime": {
     "end_time": "2021-06-01T01:14:37.218484Z",
     "start_time": "2021-06-01T01:14:37.195789Z"
    }
   },
   "outputs": [
    {
     "data": {
      "text/plain": [
       "(1445, 10)"
      ]
     },
     "execution_count": 8,
     "metadata": {},
     "output_type": "execute_result"
    }
   ],
   "source": [
    "housing_data = housing_data.sample(frac=0.07).reset_index(drop=True)\n",
    "housing_data.shape"
   ]
  },
  {
   "cell_type": "code",
   "execution_count": 9,
   "id": "6173ca89",
   "metadata": {
    "ExecuteTime": {
     "end_time": "2021-06-01T01:14:37.249104Z",
     "start_time": "2021-06-01T01:14:37.225481Z"
    }
   },
   "outputs": [],
   "source": [
    "trace = go.Scatter(\n",
    "    x=housing_data[\"median_income\"],\n",
    "    y=housing_data[\"median_house_value\"],\n",
    "    mode=\"markers\",\n",
    "    marker=dict(\n",
    "        size=housing_data[\"total_rooms\"],\n",
    "        sizeref=500,\n",
    "        color=housing_data[\"housing_median_age\"],\n",
    "        colorscale=\"Jet\",\n",
    "        showscale=True,\n",
    "    ),\n",
    ")"
   ]
  },
  {
   "cell_type": "code",
   "execution_count": 10,
   "id": "4c2681fd",
   "metadata": {
    "ExecuteTime": {
     "end_time": "2021-06-01T01:14:37.280469Z",
     "start_time": "2021-06-01T01:14:37.257662Z"
    }
   },
   "outputs": [],
   "source": [
    "data = [trace]\n",
    "layout = go.Layout(height=600, width=900, title=\"Housing Data\", hovermode=\"closest\")"
   ]
  },
  {
   "cell_type": "code",
   "execution_count": 11,
   "id": "522bcdcf",
   "metadata": {
    "ExecuteTime": {
     "end_time": "2021-06-01T01:14:37.402534Z",
     "start_time": "2021-06-01T01:14:37.288522Z"
    },
    "scrolled": false
   },
   "outputs": [
    {
     "data": {
      "application/vnd.plotly.v1+json": {
       "config": {
        "linkText": "Export to plot.ly",
        "plotlyServerURL": "https://plot.ly",
        "showLink": false
       },
       "data": [
        {
         "marker": {
          "color": [
           25,
           18,
           20,
           26,
           33,
           23,
           21,
           5,
           17,
           32,
           17,
           34,
           5,
           19,
           49,
           47,
           46,
           52,
           20,
           24,
           22,
           30,
           49,
           26,
           15,
           45,
           33,
           18,
           29,
           17,
           39,
           40,
           52,
           31,
           35,
           30,
           44,
           19,
           16,
           18,
           5,
           31,
           5,
           52,
           17,
           32,
           35,
           52,
           52,
           46,
           38,
           9,
           40,
           41,
           43,
           15,
           34,
           35,
           27,
           34,
           23,
           29,
           33,
           19,
           3,
           17,
           26,
           23,
           36,
           34,
           17,
           17,
           16,
           33,
           34,
           29,
           16,
           50,
           12,
           10,
           43,
           16,
           38,
           45,
           29,
           34,
           16,
           32,
           52,
           29,
           24,
           3,
           24,
           48,
           42,
           5,
           19,
           12,
           3,
           4,
           33,
           20,
           27,
           52,
           52,
           36,
           34,
           12,
           36,
           36,
           35,
           9,
           16,
           21,
           36,
           18,
           25,
           22,
           40,
           30,
           35,
           34,
           19,
           33,
           44,
           25,
           2,
           39,
           52,
           18,
           15,
           17,
           23,
           40,
           26,
           20,
           21,
           18,
           24,
           15,
           30,
           32,
           24,
           52,
           18,
           14,
           34,
           13,
           36,
           17,
           40,
           38,
           24,
           32,
           6,
           33,
           52,
           52,
           42,
           15,
           42,
           46,
           15,
           21,
           37,
           21,
           35,
           35,
           44,
           40,
           19,
           26,
           19,
           41,
           33,
           40,
           36,
           33,
           46,
           42,
           37,
           44,
           46,
           6,
           18,
           21,
           8,
           30,
           23,
           12,
           52,
           46,
           14,
           41,
           22,
           32,
           17,
           16,
           47,
           24,
           22,
           13,
           49,
           40,
           43,
           38,
           30,
           29,
           10,
           29,
           23,
           33,
           21,
           33,
           18,
           46,
           17,
           22,
           25,
           33,
           33,
           9,
           36,
           40,
           47,
           41,
           41,
           18,
           39,
           11,
           20,
           28,
           36,
           34,
           32,
           18,
           26,
           52,
           38,
           36,
           36,
           38,
           18,
           36,
           21,
           26,
           19,
           42,
           35,
           32,
           52,
           16,
           36,
           11,
           34,
           51,
           38,
           49,
           16,
           16,
           26,
           34,
           24,
           46,
           23,
           34,
           26,
           8,
           20,
           11,
           10,
           34,
           15,
           36,
           15,
           39,
           26,
           23,
           24,
           22,
           38,
           16,
           5,
           29,
           31,
           44,
           17,
           10,
           28,
           29,
           30,
           35,
           8,
           7,
           14,
           29,
           14,
           37,
           20,
           52,
           25,
           11,
           26,
           23,
           41,
           43,
           16,
           44,
           14,
           34,
           18,
           32,
           37,
           34,
           17,
           24,
           27,
           34,
           35,
           52,
           39,
           35,
           23,
           20,
           36,
           16,
           52,
           34,
           31,
           36,
           49,
           20,
           52,
           32,
           15,
           18,
           32,
           47,
           38,
           29,
           33,
           31,
           15,
           39,
           25,
           52,
           31,
           32,
           23,
           30,
           34,
           16,
           25,
           38,
           37,
           10,
           34,
           19,
           3,
           39,
           52,
           26,
           22,
           26,
           52,
           30,
           13,
           27,
           31,
           39,
           17,
           35,
           16,
           15,
           33,
           37,
           46,
           36,
           36,
           18,
           33,
           21,
           18,
           16,
           23,
           17,
           18,
           20,
           32,
           29,
           29,
           31,
           16,
           48,
           22,
           11,
           19,
           23,
           22,
           16,
           34,
           49,
           52,
           36,
           22,
           39,
           46,
           16,
           33,
           48,
           5,
           17,
           34,
           22,
           35,
           48,
           32,
           35,
           18,
           35,
           52,
           35,
           20,
           27,
           34,
           25,
           41,
           22,
           52,
           34,
           16,
           39,
           32,
           18,
           33,
           35,
           52,
           13,
           21,
           47,
           52,
           20,
           38,
           17,
           26,
           13,
           36,
           37,
           23,
           22,
           52,
           28,
           44,
           20,
           17,
           16,
           35,
           19,
           16,
           39,
           36,
           17,
           44,
           27,
           23,
           37,
           17,
           19,
           21,
           4,
           34,
           41,
           52,
           17,
           27,
           34,
           10,
           21,
           28,
           24,
           19,
           13,
           46,
           43,
           23,
           35,
           18,
           23,
           30,
           36,
           24,
           46,
           44,
           26,
           24,
           42,
           34,
           34,
           52,
           48,
           25,
           41,
           25,
           38,
           28,
           42,
           25,
           48,
           22,
           52,
           52,
           37,
           26,
           13,
           33,
           37,
           52,
           52,
           26,
           15,
           36,
           18,
           10,
           48,
           36,
           36,
           27,
           43,
           42,
           26,
           10,
           5,
           17,
           11,
           37,
           52,
           25,
           34,
           35,
           11,
           29,
           33,
           37,
           6,
           19,
           20,
           39,
           8,
           30,
           14,
           33,
           18,
           26,
           16,
           36,
           36,
           27,
           17,
           6,
           13,
           32,
           46,
           42,
           45,
           28,
           32,
           18,
           45,
           17,
           18,
           20,
           13,
           16,
           23,
           40,
           32,
           36,
           44,
           27,
           24,
           30,
           14,
           41,
           25,
           13,
           35,
           38,
           16,
           23,
           17,
           18,
           52,
           7,
           7,
           48,
           37,
           16,
           21,
           26,
           29,
           19,
           34,
           19,
           41,
           42,
           30,
           26,
           7,
           32,
           31,
           15,
           34,
           49,
           22,
           36,
           14,
           31,
           28,
           34,
           46,
           36,
           18,
           33,
           13,
           2,
           18,
           19,
           37,
           14,
           14,
           15,
           52,
           34,
           52,
           33,
           19,
           29,
           16,
           23,
           26,
           8,
           11,
           24,
           10,
           26,
           9,
           41,
           30,
           16,
           32,
           38,
           28,
           45,
           52,
           41,
           23,
           19,
           41,
           30,
           45,
           49,
           17,
           11,
           39,
           23,
           15,
           33,
           17,
           25,
           28,
           29,
           36,
           14,
           18,
           36,
           17,
           41,
           36,
           43,
           37,
           14,
           44,
           47,
           24,
           52,
           36,
           30,
           21,
           32,
           20,
           17,
           32,
           23,
           32,
           50,
           18,
           52,
           42,
           22,
           17,
           11,
           25,
           7,
           19,
           23,
           35,
           20,
           44,
           43,
           34,
           26,
           33,
           45,
           20,
           33,
           6,
           36,
           45,
           25,
           18,
           29,
           37,
           9,
           8,
           5,
           25,
           19,
           48,
           36,
           36,
           52,
           34,
           52,
           28,
           28,
           10,
           15,
           37,
           27,
           17,
           39,
           8,
           33,
           34,
           29,
           33,
           24,
           25,
           36,
           29,
           23,
           52,
           42,
           33,
           24,
           39,
           8,
           41,
           38,
           38,
           37,
           18,
           38,
           31,
           52,
           26,
           4,
           43,
           18,
           44,
           17,
           47,
           11,
           18,
           16,
           20,
           15,
           20,
           18,
           35,
           35,
           39,
           34,
           36,
           12,
           26,
           27,
           33,
           42,
           52,
           35,
           18,
           3,
           21,
           27,
           43,
           52,
           14,
           29,
           34,
           44,
           37,
           32,
           15,
           52,
           22,
           33,
           20,
           5,
           17,
           34,
           11,
           32,
           36,
           9,
           8,
           36,
           17,
           29,
           28,
           23,
           37,
           14,
           36,
           49,
           36,
           18,
           25,
           15,
           18,
           12,
           43,
           36,
           47,
           15,
           39,
           37,
           32,
           26,
           33,
           38,
           38,
           52,
           52,
           8,
           43,
           35,
           29,
           17,
           27,
           19,
           45,
           25,
           20,
           35,
           30,
           16,
           40,
           52,
           36,
           27,
           32,
           34,
           8,
           31,
           18,
           17,
           26,
           44,
           17,
           15,
           29,
           34,
           21,
           27,
           18,
           21,
           17,
           27,
           6,
           14,
           39,
           38,
           39,
           25,
           37,
           52,
           18,
           8,
           28,
           12,
           47,
           36,
           24,
           6,
           16,
           35,
           35,
           38,
           52,
           24,
           51,
           26,
           34,
           14,
           41,
           16,
           40,
           12,
           52,
           8,
           3,
           37,
           9,
           48,
           29,
           35,
           19,
           43,
           28,
           25,
           44,
           33,
           38,
           18,
           6,
           25,
           29,
           36,
           48,
           19,
           35,
           25,
           41,
           50,
           35,
           35,
           27,
           23,
           36,
           45,
           37,
           23,
           45,
           19,
           21,
           19,
           31,
           43,
           20,
           21,
           33,
           32,
           30,
           43,
           48,
           33,
           12,
           36,
           16,
           35,
           36,
           19,
           16,
           45,
           38,
           17,
           28,
           25,
           25,
           52,
           28,
           42,
           36,
           52,
           5,
           5,
           37,
           15,
           33,
           16,
           38,
           52,
           36,
           5,
           40,
           15,
           18,
           18,
           52,
           15,
           26,
           20,
           33,
           4,
           20,
           35,
           26,
           6,
           40,
           12,
           37,
           31,
           52,
           20,
           26,
           52,
           37,
           44,
           27,
           45,
           44,
           16,
           24,
           33,
           52,
           9,
           33,
           33,
           19,
           35,
           40,
           25,
           36,
           20,
           19,
           31,
           26,
           38,
           20,
           17,
           20,
           17,
           33,
           36,
           39,
           52,
           13,
           24,
           52,
           46,
           16,
           35,
           33,
           29,
           37,
           17,
           30,
           23,
           34,
           14,
           26,
           25,
           35,
           47,
           7,
           31,
           37,
           34,
           25,
           34,
           35,
           51,
           38,
           23,
           30,
           46,
           22,
           34,
           52,
           27,
           26,
           44,
           15,
           42,
           35,
           15,
           34,
           24,
           17,
           41,
           30,
           43,
           4,
           25,
           38,
           40,
           24,
           39,
           41,
           47,
           43,
           19,
           45,
           24,
           20,
           7,
           26,
           52,
           12,
           14,
           24,
           28,
           41,
           52,
           41,
           17,
           44,
           18,
           35,
           36,
           43,
           4,
           21,
           50,
           6,
           36,
           29,
           21,
           21,
           34,
           34,
           44,
           30,
           45,
           31,
           27,
           16,
           26,
           37,
           45,
           24,
           19,
           20,
           44,
           35,
           5,
           5,
           3,
           36,
           35,
           19,
           52,
           30,
           9,
           34,
           28,
           41,
           28,
           10,
           27,
           17,
           8,
           19,
           47,
           27,
           29,
           35,
           28,
           22,
           44,
           20,
           20,
           39,
           48,
           10,
           20,
           36,
           24,
           7,
           41,
           16,
           27,
           45,
           40,
           16,
           33,
           45,
           30,
           8,
           13,
           52,
           33,
           34,
           44,
           52,
           26,
           42,
           50,
           32,
           19,
           36,
           44,
           18,
           52,
           52,
           34,
           9,
           15,
           41,
           26,
           11,
           5,
           14,
           14,
           38,
           21,
           22,
           37,
           14,
           14,
           49,
           34,
           20,
           3,
           20,
           38,
           25,
           37,
           37,
           42,
           40,
           12,
           16,
           39,
           35,
           41,
           52,
           18,
           22,
           47,
           21,
           24,
           52,
           49,
           35,
           33,
           33,
           11,
           26,
           34,
           34,
           13,
           22,
           43,
           40,
           32,
           13,
           16,
           27,
           37,
           52,
           16,
           19,
           17,
           30,
           26,
           30,
           43,
           27,
           24,
           7,
           22,
           11,
           23,
           31,
           39,
           33,
           39,
           36,
           34,
           46,
           27,
           52,
           16,
           28,
           25,
           36,
           16,
           46,
           10,
           43,
           37,
           19,
           25,
           44,
           29,
           26,
           36,
           34,
           11,
           34,
           9,
           36,
           42,
           46,
           35,
           23,
           31,
           36,
           25,
           24,
           13,
           29,
           26,
           4,
           11,
           20,
           20,
           14,
           22,
           31,
           32,
           5,
           16,
           18,
           18,
           26,
           27,
           18,
           10,
           34,
           44,
           22,
           19,
           39,
           16,
           16,
           46,
           6,
           4,
           21,
           37,
           14,
           21,
           52,
           37,
           52,
           38,
           23,
           29,
           37,
           13,
           9,
           36,
           30,
           35,
           18,
           45,
           6,
           20,
           33,
           16,
           47,
           43,
           22,
           27,
           24,
           41,
           21,
           12,
           22,
           26,
           50,
           27,
           15,
           16,
           35,
           52,
           26,
           28,
           15,
           37,
           27,
           22,
           8,
           43,
           33,
           27,
           4,
           52,
           42,
           16,
           36,
           52,
           32,
           22,
           31,
           18,
           13,
           17,
           42,
           29,
           17,
           37,
           9,
           28,
           33,
           37,
           22,
           32,
           32,
           22,
           41,
           31,
           25,
           28,
           18,
           44,
           23,
           12,
           35,
           40,
           52,
           31,
           52,
           36,
           27,
           36,
           7,
           24,
           14,
           27,
           22,
           34,
           12,
           31,
           19,
           30,
           50,
           38,
           8,
           30,
           52,
           19,
           40,
           32,
           44,
           37,
           41,
           35,
           32,
           43,
           35,
           7
          ],
          "colorscale": [
           [
            0,
            "rgb(0,0,131)"
           ],
           [
            0.2,
            "rgb(0,60,170)"
           ],
           [
            0.4,
            "rgb(5,255,255)"
           ],
           [
            0.6,
            "rgb(255,255,0)"
           ],
           [
            0.8,
            "rgb(250,0,0)"
           ],
           [
            1,
            "rgb(128,0,0)"
           ]
          ],
          "showscale": true,
          "size": [
           1785,
           2628,
           1782,
           1561,
           1530,
           545,
           4578,
           1808,
           2285,
           332,
           2009,
           2518,
           2087,
           1935,
           3780,
           825,
           1811,
           2239,
           1767,
           4179,
           3359,
           2775,
           1350,
           1485,
           2061,
           2397,
           873,
           6154,
           2242,
           3361,
           2603,
           1935,
           1704,
           2417,
           1939,
           2427,
           1631,
           256,
           13290,
           4070,
           3344,
           4949,
           3088,
           2070,
           5282,
           2297,
           2426,
           2662,
           1902,
           2298,
           2152,
           3415,
           1791,
           1425,
           1610,
           2153,
           1599,
           1872,
           966,
           3183,
           6379,
           3110,
           2275,
           3244,
           21060,
           2677,
           3061,
           3768,
           1359,
           1124,
           5202,
           1463,
           4608,
           3379,
           1469,
           3287,
           3787,
           1542,
           4038,
           7277,
           500,
           6058,
           1243,
           3312,
           3480,
           1440,
           8476,
           1252,
           979,
           1938,
           3241,
           5710,
           4670,
           1908,
           1207,
           2706,
           1461,
           4325,
           8874,
           2851,
           644,
           961,
           1226,
           1417,
           1611,
           1485,
           3426,
           1437,
           1929,
           2649,
           1504,
           2153,
           3109,
           730,
           613,
           4164,
           1471,
           809,
           2190,
           3199,
           1717,
           1502,
           2010,
           2235,
           1218,
           1611,
           5989,
           1173,
           2300,
           1712,
           3084,
           5512,
           4815,
           1417,
           2192,
           6541,
           1382,
           1573,
           2930,
           5218,
           2290,
           4281,
           4639,
           2224,
           2269,
           5058,
           1950,
           7174,
           1151,
           2727,
           1667,
           1545,
           1635,
           3556,
           1649,
           2496,
           3547,
           3510,
           413,
           1497,
           1756,
           206,
           826,
           6203,
           2733,
           1161,
           2072,
           2323,
           1856,
           1808,
           3808,
           1924,
           2648,
           1833,
           952,
           1896,
           1770,
           2420,
           4036,
           1988,
           4916,
           2314,
           860,
           1580,
           9963,
           1260,
           3105,
           2437,
           1586,
           5949,
           4001,
           1271,
           999,
           3170,
           12842,
           1601,
           2247,
           3471,
           2212,
           3409,
           2403,
           4013,
           1820,
           2523,
           284,
           2948,
           5293,
           3559,
           3113,
           515,
           5554,
           1348,
           1091,
           1077,
           1277,
           1938,
           4413,
           4935,
           1914,
           1504,
           1653,
           2099,
           2914,
           2162,
           1942,
           2417,
           990,
           2515,
           2925,
           3572,
           4534,
           3639,
           1742,
           1859,
           1731,
           1855,
           2012,
           1783,
           5688,
           1710,
           871,
           2419,
           3414,
           1044,
           2876,
           6459,
           3562,
           1957,
           1565,
           1408,
           3011,
           2102,
           1760,
           2285,
           1785,
           2812,
           3328,
           2838,
           2240,
           4221,
           5067,
           2158,
           2807,
           5677,
           1419,
           2840,
           2528,
           10997,
           2569,
           1994,
           9205,
           4453,
           1659,
           1340,
           11403,
           1613,
           2342,
           2830,
           6303,
           2340,
           2284,
           3222,
           1649,
           3025,
           767,
           2748,
           3173,
           2106,
           1812,
           5154,
           2762,
           3227,
           2120,
           5389,
           821,
           2003,
           1731,
           736,
           1309,
           204,
           1075,
           10804,
           5416,
           1650,
           2127,
           1840,
           2247,
           711,
           3155,
           4062,
           6476,
           1179,
           3000,
           1500,
           2754,
           7418,
           1190,
           1722,
           1470,
           2198,
           2492,
           182,
           4925,
           743,
           2178,
           4596,
           1909,
           1941,
           2447,
           2656,
           1977,
           5776,
           2432,
           1854,
           2576,
           2233,
           4018,
           1811,
           3966,
           855,
           2892,
           1893,
           2708,
           45,
           182,
           1877,
           2532,
           1430,
           2592,
           3474,
           2638,
           735,
           2409,
           977,
           1061,
           5780,
           2861,
           683,
           1206,
           2302,
           1384,
           1167,
           3517,
           3842,
           5486,
           3742,
           4460,
           1965,
           3508,
           3299,
           2791,
           1141,
           1444,
           208,
           726,
           1664,
           695,
           2064,
           1788,
           1063,
           2398,
           2484,
           1859,
           2777,
           3578,
           1319,
           1617,
           2063,
           3366,
           1716,
           1650,
           3533,
           3970,
           3623,
           2124,
           2000,
           2012,
           3942,
           2785,
           3536,
           1709,
           1435,
           402,
           2283,
           2465,
           3260,
           1414,
           5127,
           1039,
           1696,
           2652,
           2863,
           2199,
           1298,
           1928,
           2258,
           2458,
           1994,
           2042,
           1138,
           3080,
           1474,
           3960,
           574,
           1694,
           2769,
           616,
           2512,
           2501,
           1010,
           3049,
           3895,
           1792,
           2221,
           2443,
           2878,
           2224,
           6035,
           1344,
           1927,
           126,
           1580,
           1568,
           4150,
           934,
           3756,
           1528,
           1644,
           3425,
           3882,
           1319,
           4612,
           1856,
           2680,
           3719,
           1174,
           1705,
           3725,
           4241,
           5264,
           2443,
           3019,
           2007,
           2918,
           1808,
           2176,
           3912,
           1673,
           2271,
           2342,
           3268,
           4374,
           1615,
           711,
           2072,
           1719,
           3663,
           1856,
           2160,
           1307,
           1848,
           1713,
           271,
           1036,
           3498,
           2746,
           3960,
           2864,
           2365,
           787,
           2610,
           40,
           2142,
           1919,
           2932,
           2013,
           1523,
           3718,
           2747,
           1521,
           1374,
           2048,
           1858,
           1237,
           822,
           2690,
           1737,
           2015,
           639,
           2685,
           1871,
           1180,
           1733,
           5841,
           3585,
           4801,
           3328,
           889,
           2561,
           9103,
           1320,
           5129,
           3103,
           2434,
           6096,
           1543,
           3236,
           825,
           618,
           2867,
           3597,
           1975,
           2319,
           7483,
           3061,
           1424,
           1022,
           1256,
           1917,
           1802,
           2023,
           2070,
           1394,
           7880,
           2807,
           1705,
           2191,
           508,
           1328,
           4328,
           1984,
           2171,
           1921,
           1538,
           3097,
           1471,
           5484,
           2594,
           1488,
           2522,
           1083,
           2571,
           2508,
           2612,
           1926,
           1819,
           2453,
           1076,
           2486,
           2626,
           1838,
           5377,
           893,
           149,
           1685,
           3611,
           1493,
           4505,
           2083,
           5745,
           1615,
           5526,
           752,
           4284,
           4760,
           2285,
           1486,
           4356,
           1885,
           1712,
           6205,
           3944,
           2063,
           1347,
           1514,
           3714,
           808,
           3648,
           5359,
           3662,
           1648,
           1226,
           3325,
           1309,
           1210,
           4255,
           1887,
           9374,
           4138,
           1746,
           10377,
           2055,
           702,
           2823,
           1045,
           2539,
           2526,
           2112,
           1248,
           176,
           447,
           2505,
           2970,
           3192,
           2701,
           1775,
           1687,
           1572,
           859,
           5737,
           1371,
           1006,
           4789,
           3598,
           4015,
           2739,
           736,
           3299,
           2419,
           1833,
           1801,
           5892,
           1451,
           2653,
           2639,
           5904,
           1908,
           2599,
           1129,
           1438,
           2521,
           2862,
           1423,
           2477,
           1248,
           1444,
           4900,
           977,
           4648,
           2964,
           1412,
           3666,
           4031,
           979,
           2000,
           8748,
           1591,
           1441,
           3652,
           4380,
           3245,
           3129,
           2351,
           3814,
           2988,
           4203,
           2115,
           1287,
           2706,
           334,
           2807,
           819,
           932,
           2927,
           1185,
           1118,
           2456,
           2775,
           3633,
           3389,
           1620,
           9534,
           3284,
           721,
           1135,
           2509,
           1952,
           3292,
           1619,
           3006,
           3163,
           2655,
           3003,
           3972,
           588,
           3247,
           4536,
           2252,
           2483,
           2590,
           966,
           4294,
           903,
           1701,
           1980,
           6068,
           337,
           3149,
           8363,
           8399,
           3193,
           1525,
           3160,
           2608,
           2319,
           5187,
           786,
           1410,
           1383,
           1725,
           1978,
           1565,
           1904,
           3085,
           927,
           3138,
           6940,
           987,
           4051,
           1631,
           1224,
           3758,
           6841,
           884,
           2637,
           2563,
           3504,
           1180,
           1616,
           1694,
           1662,
           1388,
           1241,
           2831,
           2131,
           598,
           1959,
           3221,
           993,
           2726,
           1235,
           1534,
           1270,
           3007,
           3975,
           1967,
           23915,
           841,
           897,
           593,
           1646,
           2347,
           3761,
           1439,
           3072,
           1257,
           3057,
           1490,
           1048,
           2615,
           2024,
           1459,
           2415,
           1135,
           3744,
           1632,
           1452,
           3100,
           1670,
           2677,
           2828,
           2355,
           5284,
           1872,
           1321,
           1970,
           2508,
           3223,
           1745,
           1077,
           589,
           2740,
           981,
           2727,
           2275,
           1028,
           1227,
           3442,
           6529,
           4573,
           5166,
           1381,
           1143,
           931,
           3659,
           11609,
           1143,
           3229,
           3548,
           2243,
           3098,
           1217,
           6290,
           1475,
           806,
           2297,
           4032,
           1009,
           1852,
           2405,
           1474,
           1587,
           2864,
           2901,
           1117,
           1846,
           584,
           1382,
           3239,
           2829,
           3148,
           248,
           1846,
           3104,
           3579,
           2367,
           1940,
           2176,
           1320,
           1790,
           3866,
           944,
           2482,
           1326,
           2085,
           1654,
           5323,
           581,
           1368,
           1116,
           2456,
           2867,
           4183,
           3567,
           2149,
           1128,
           1665,
           2010,
           1877,
           11999,
           2407,
           1687,
           3580,
           1779,
           3931,
           6601,
           4349,
           2756,
           3230,
           1868,
           2925,
           2650,
           3767,
           906,
           2336,
           239,
           1438,
           4454,
           2915,
           2414,
           6474,
           1250,
           2378,
           3477,
           5762,
           3331,
           1363,
           1040,
           1486,
           935,
           2237,
           1637,
           1786,
           2328,
           388,
           1834,
           1006,
           2709,
           1159,
           2948,
           3694,
           3438,
           2638,
           2214,
           1353,
           1996,
           1864,
           5166,
           2583,
           3104,
           596,
           1014,
           1391,
           175,
           1519,
           1727,
           2652,
           488,
           2966,
           1116,
           2298,
           1810,
           1476,
           2221,
           2589,
           1789,
           568,
           2131,
           1970,
           921,
           942,
           1560,
           3166,
           1314,
           1863,
           1653,
           4780,
           2095,
           1357,
           2130,
           1342,
           1980,
           1993,
           833,
           1810,
           1226,
           3326,
           2480,
           361,
           2168,
           1788,
           1392,
           1366,
           2509,
           1693,
           3229,
           1989,
           2401,
           2857,
           4430,
           2050,
           2949,
           1555,
           945,
           957,
           1688,
           7748,
           4368,
           3249,
           1921,
           6101,
           2055,
           177,
           1156,
           3471,
           812,
           1036,
           133,
           5527,
           2125,
           4420,
           695,
           3118,
           3104,
           58,
           2662,
           1090,
           2744,
           4685,
           2198,
           1250,
           1220,
           3114,
           3452,
           2440,
           440,
           2964,
           1607,
           1158,
           5665,
           2179,
           2267,
           3581,
           2584,
           2821,
           2510,
           2254,
           2373,
           4448,
           1537,
           2494,
           1545,
           1252,
           1942,
           3426,
           5430,
           2017,
           3087,
           2105,
           4026,
           2332,
           4228,
           9044,
           4151,
           857,
           4402,
           2250,
           3309,
           1194,
           3047,
           2112,
           3047,
           1675,
           3047,
           3752,
           2394,
           2277,
           3977,
           1932,
           3745,
           2324,
           875,
           3087,
           2926,
           1273,
           20377,
           1465,
           3109,
           2105,
           4021,
           2065,
           2843,
           1492,
           2365,
           1824,
           511,
           769,
           4227,
           1797,
           2800,
           2772,
           4499,
           1558,
           2016,
           3894,
           1651,
           6365,
           4272,
           1723,
           1558,
           1087,
           1737,
           1531,
           6842,
           726,
           2231,
           1983,
           3344,
           1631,
           1989,
           2085,
           2065,
           792,
           2508,
           1943,
           1391,
           2191,
           788,
           523,
           1321,
           4239,
           4410,
           2108,
           1582,
           287,
           830,
           3043,
           1802,
           4775,
           1582,
           2017,
           1934,
           3078,
           4192,
           1587,
           6526,
           3661,
           1815,
           2284,
           2144,
           2028,
           2959,
           1404,
           2956,
           1792,
           1108,
           3900,
           3031,
           1910,
           3223,
           1176,
           1520,
           6224,
           3407,
           2147,
           2605,
           3634,
           1405,
           13802,
           1522,
           4148,
           3522,
           2515,
           2270,
           3811,
           161,
           1119,
           1413,
           3308,
           212,
           3142,
           3722,
           1612,
           1397,
           1162,
           3526,
           3415,
           1216,
           253,
           11016,
           3013,
           14291,
           3638,
           5468,
           1869,
           1652,
           2129,
           2715,
           7991,
           17579,
           1621,
           686,
           2341,
           2225,
           1723,
           1787,
           2664,
           2299,
           2265,
           1266,
           2109,
           1985,
           1954,
           1939,
           1487,
           2298,
           1983,
           3008,
           1746,
           2698,
           1124,
           3583,
           1819,
           3603,
           3505,
           745,
           3646,
           1621,
           2701,
           2369,
           2355,
           7217,
           4332,
           11635,
           5200,
           1981,
           3157,
           1824,
           2088,
           3727,
           2069,
           1749,
           3580,
           3214,
           14014,
           2271,
           1673,
           4927,
           1434,
           2143,
           963,
           1948,
           10236,
           4201,
           1629,
           2899,
           1653,
           2695,
           6572,
           1249,
           2852,
           939,
           796,
           1866,
           4438,
           1321,
           2479,
           2873,
           3159,
           2552,
           479,
           1943,
           18448,
           5284,
           2527,
           2261,
           2837,
           8527,
           3424,
           3789,
           2337,
           2074,
           2272,
           1684,
           1885,
           1671,
           2283,
           1547,
           2862,
           5640,
           1610,
           6306,
           3369,
           1112,
           282,
           2370,
           1529,
           3597,
           2602,
           1679,
           2622,
           947,
           2280,
           1081,
           2708,
           3306,
           3075,
           607,
           2127,
           1406,
           2506,
           1718,
           1643,
           3011,
           1642,
           2304,
           3051,
           4186,
           1371,
           2384,
           2901,
           1765,
           8185,
           2081,
           945,
           1425,
           2045,
           505,
           525,
           1721,
           4061,
           1268,
           6819,
           1671,
           1855,
           9153,
           436,
           8068,
           1918,
           3732,
           2664,
           2019,
           4013,
           4109,
           5187,
           3674,
           4827,
           5831,
           2051,
           3208,
           5600,
           2142,
           1678,
           3654,
           1402,
           1294,
           1427,
           1606,
           12,
           1487,
           22128,
           1033,
           2014,
           6090,
           3491,
           2980,
           470,
           679,
           5587,
           2105,
           2888,
           1404,
           2307,
           1554,
           1336,
           2188,
           3259,
           1715,
           2253,
           1638,
           1491,
           2493,
           2437,
           1150,
           1633,
           3119,
           3143,
           4144,
           2017,
           2837,
           3605,
           2626,
           1876,
           2195,
           849,
           1232,
           1704,
           3405,
           1511,
           4105,
           4194,
           5674,
           2155,
           1476,
           1690,
           4454,
           1420,
           1588,
           2512,
           37937,
           2036,
           2532,
           7194,
           2080,
           201,
           527,
           6114,
           3518,
           1619,
           4401,
           6592,
           2978,
           3559,
           1063,
           494,
           13255,
           409,
           1067,
           1950,
           2761,
           1280,
           1855,
           5861,
           1547,
           2809,
           6964,
           2969,
           1550,
           1064,
           969,
           3831,
           1650,
           2959,
           1514,
           215,
           1803,
           1441,
           1632,
           1267,
           1308,
           1543,
           2919,
           4580,
           2996,
           3659,
           3174,
           1620,
           6356,
           1856,
           1430,
           793,
           864,
           917,
           900,
           2228,
           2582,
           714,
           2734,
           422,
           2183,
           1354,
           1263,
           906,
           321,
           10648
          ],
          "sizeref": 500
         },
         "mode": "markers",
         "type": "scatter",
         "x": [
          6.8407,
          2.735,
          2.2094,
          5.477,
          5.1005,
          1.4861,
          3.1458,
          5.0509,
          1.8152,
          3.3409,
          1.3286,
          4.7861,
          5.4858,
          3.8929,
          4.3158,
          2.3333,
          3.43,
          4.125,
          6.5394,
          4.7986,
          4.645,
          3.2266,
          2.8846,
          1.9667,
          2.2417,
          4.21,
          2.67,
          5.6392,
          2.0781,
          2.2813,
          3.0854,
          2.875,
          4.226,
          3.8906,
          3.5556,
          2.5737,
          3.0788,
          5.3269,
          5.228,
          10.5941,
          3.6196,
          4.252,
          2.5125,
          5.4171,
          3.052,
          15.0001,
          3.4219,
          2.3305,
          2.9621,
          4.0217,
          2.5025,
          4.3646,
          2.1458,
          3.9732,
          1.7574,
          5.1966,
          4.3194,
          3.3272,
          1.7,
          2.2321,
          1.6336,
          4.2031,
          2.7452,
          2.0469,
          4.189,
          3.0313,
          2.875,
          1.9647,
          2.7955,
          3.1667,
          3.1201,
          3.024,
          6.04,
          2.7321,
          3.4583,
          3.7381,
          5.5676,
          3.9632,
          1.9698,
          4.485,
          3.3125,
          3.4133,
          2.5852,
          3.5719,
          3.2738,
          2.2206,
          2.1848,
          2.6579,
          5.1675,
          3.0134,
          5.5983,
          5.3638,
          3.1975,
          3.5714,
          3.3611,
          1.7301,
          1.5278,
          3.3173,
          6.8588,
          4.2895,
          3.9659,
          3.1838,
          2.77,
          1.9531,
          8.7477,
          3.3036,
          2.8994,
          4.225,
          1.7622,
          4.8056,
          2.0133,
          7.8139,
          6.6319,
          2.0511,
          3.0658,
          2.119,
          2.4688,
          2.3846,
          2.3947,
          3.4871,
          2.5197,
          3.3438,
          2.6696,
          1.725,
          1.9688,
          3.5547,
          6.6916,
          1.6146,
          3.5398,
          4.3971,
          2.5183,
          6.6073,
          3.488,
          2.4259,
          4.5352,
          2.1339,
          1.3967,
          2.895,
          3.5395,
          4.7083,
          3.5606,
          15.0001,
          2.5577,
          2.6,
          1.7951,
          2.3253,
          2.5197,
          3.0973,
          4.1719,
          4.8371,
          3.1406,
          3.825,
          2.4432,
          6.1426,
          3.4231,
          7.6685,
          8.0069,
          2.8654,
          4.3438,
          4.9688,
          2.5562,
          4.15,
          4.8125,
          7.7201,
          5.3041,
          3.1827,
          3.9855,
          4.2437,
          2.5033,
          5.3015,
          4.625,
          7.001,
          5.9357,
          5.726,
          3.2331,
          2.425,
          2.56,
          4.0658,
          4.5625,
          3.2569,
          3.2862,
          3.4914,
          3.5167,
          4.0469,
          3.8171,
          2.6172,
          0.8131,
          7.2211,
          1.2132,
          6.3721,
          3.3239,
          4.9312,
          2.7125,
          3.7813,
          5.9849,
          2.5568,
          5.5,
          4.1064,
          1.9853,
          1.7303,
          3.9,
          4.625,
          3.2976,
          3.11,
          4.25,
          4.0556,
          1.51,
          3.2643,
          2.8167,
          0.4999,
          5.3886,
          4.2917,
          2.2321,
          1.3462,
          2.6694,
          4.2727,
          6.9772,
          3.9825,
          4.4562,
          3.4792,
          3.1406,
          3.1875,
          2.4464,
          2.5667,
          2.2361,
          3.0568,
          2.125,
          5.0201,
          2.375,
          3.6615,
          6.0362,
          3.0042,
          4.6875,
          3.1906,
          3.3375,
          1.7572,
          5.4067,
          2.9357,
          6.203,
          2.8828,
          2.1845,
          1.4861,
          8.7015,
          4.7679,
          3.8292,
          6.2089,
          5.0162,
          2.9327,
          2.4844,
          3.7014,
          5.1039,
          4.7981,
          6.7546,
          2.7857,
          2.2687,
          3.875,
          5.0596,
          2.5238,
          3.5313,
          2.3816,
          7.0001,
          4.5402,
          4.8167,
          1.8238,
          3.1875,
          7.6144,
          4.1165,
          2.1979,
          2.0114,
          4.0187,
          3.65,
          5.6038,
          5,
          4.1731,
          4.3693,
          2.825,
          5.6677,
          3.0354,
          3.9227,
          2.5417,
          3.3125,
          4.1544,
          6.9635,
          6.112,
          3.7614,
          2.6951,
          6.7079,
          2.7813,
          4.9879,
          2.5762,
          5.1002,
          2.8445,
          3.4954,
          6.6659,
          3.15,
          3.994,
          2.3179,
          2.2875,
          10.9506,
          1.7961,
          6.8492,
          5.246,
          2.7909,
          6.0238,
          3.1711,
          4.7171,
          1.9946,
          2.1094,
          3.0625,
          7.8588,
          5.6327,
          5.1824,
          7.5385,
          2.515,
          3.1618,
          5.0867,
          1.7016,
          4.1523,
          4.9239,
          3.22,
          11.8603,
          2.6417,
          5.0824,
          1.625,
          2.7656,
          7.52,
          3.006,
          4.4663,
          3.3929,
          3.8056,
          3.1312,
          6.6447,
          2.5898,
          2.6406,
          5.5218,
          3.2578,
          8.6718,
          3.0379,
          3.8409,
          2.6964,
          5.3727,
          4.3077,
          6.2899,
          1.7679,
          1.0208,
          3.9722,
          4.0417,
          1.9417,
          5.4903,
          2.5863,
          4.2989,
          4.6354,
          1.9956,
          1.0208,
          4.75,
          5.6445,
          3.4286,
          2.5,
          5.1589,
          4.8017,
          2.0242,
          2.4196,
          2.6652,
          6.128,
          2.1833,
          6.1388,
          2.0136,
          2.75,
          6.6458,
          3.3295,
          5.7415,
          3.1591,
          3.1691,
          4.0208,
          3.1458,
          3.0526,
          2.4219,
          4.1,
          4.125,
          2.0192,
          10.3591,
          3.9722,
          7.732,
          2.5592,
          4.1898,
          1.8229,
          11.6017,
          3.2,
          2.5401,
          2.9324,
          2.2287,
          5.5843,
          3.4115,
          9.5221,
          2.1793,
          4.6167,
          2.2234,
          4.1169,
          7.3719,
          3,
          1.9704,
          4,
          1.3125,
          2.8793,
          2.875,
          2.5224,
          1.5833,
          7.8195,
          3.1103,
          2.0375,
          2.8025,
          2.6048,
          2.9861,
          1.6488,
          4.0893,
          3.765,
          7.2893,
          3.7383,
          2.9871,
          1.8818,
          3.776,
          2.6522,
          3.0441,
          3.9107,
          2.1164,
          3.6641,
          3.3333,
          5.759,
          6.6343,
          2.9531,
          2.4117,
          8.0073,
          2.4942,
          2.0458,
          4.0223,
          4.5,
          2.3952,
          4.0524,
          2.5893,
          1.3444,
          10.2264,
          1.8704,
          2.7042,
          3.5051,
          5.3209,
          4.0776,
          2.2679,
          3.3636,
          3.52,
          4.2733,
          2.7727,
          10.0346,
          2.0984,
          2.2115,
          6.7867,
          1.7143,
          2.3421,
          5.7476,
          4.375,
          3.623,
          3.9777,
          2.793,
          6.5989,
          2.6495,
          3.5682,
          2.875,
          5.0772,
          2.706,
          3.1528,
          2.9469,
          2.8237,
          2.3611,
          3.5114,
          2.6493,
          2.8043,
          2.8438,
          12.542,
          4.5833,
          1.9152,
          2.2244,
          3.0568,
          2.662,
          2.2321,
          2.069,
          5.021,
          4.25,
          1.7257,
          3.2303,
          5.5959,
          1.2412,
          3.5022,
          1.125,
          5.4273,
          4.2679,
          2.7535,
          2.0724,
          3.3621,
          5.3311,
          2.943,
          2.2232,
          6.3699,
          3.8,
          3.0938,
          3.6726,
          3.4583,
          3.88,
          4.625,
          4.0625,
          1.9306,
          3.6894,
          8.2961,
          3.117,
          6.195,
          4.1333,
          3.1176,
          6.0762,
          4.7437,
          3.125,
          7.3522,
          5.1508,
          2.6523,
          2.0272,
          3.071,
          1.6277,
          3.37,
          3.5313,
          3.5625,
          1.8897,
          3.3472,
          4.125,
          3.9375,
          4.4565,
          6.4664,
          4.0484,
          1.7375,
          5.0917,
          3.023,
          6.4271,
          4.8929,
          2.0337,
          6.7694,
          2.4667,
          3.6023,
          4.1807,
          2.6375,
          3.7262,
          1.6483,
          4.0332,
          2.3284,
          2.2899,
          3.875,
          2.3011,
          7.6933,
          5.5779,
          3.1905,
          5.4555,
          7.6202,
          2.0348,
          4.1859,
          1.6667,
          3.5583,
          6.0436,
          2.6513,
          2.3029,
          1.9385,
          3.975,
          2.3768,
          3.95,
          6.1007,
          4.0167,
          3.5486,
          6.868,
          3.6875,
          2.6458,
          1.8426,
          1.7427,
          3.5272,
          3.4811,
          2.6439,
          8.2827,
          1.8929,
          2.6561,
          2.5417,
          6.1509,
          5.4618,
          2.4848,
          4.6477,
          2.2672,
          3.2159,
          3.9375,
          6.9081,
          2.9567,
          1.7301,
          2.9485,
          2.1607,
          4.2218,
          6.0767,
          5.0956,
          1.7675,
          6.3974,
          1.7969,
          3.8068,
          2.9509,
          5.1708,
          0.8991,
          4.5185,
          3.0078,
          3.462,
          5.5791,
          2.6932,
          2.2466,
          3.825,
          4.8958,
          5.1333,
          3.1979,
          3.9762,
          4.7009,
          4.2222,
          2.9167,
          2.2361,
          4.2578,
          4.8359,
          4.3636,
          2.2619,
          4.071,
          3.5417,
          6.204,
          0.7403,
          1.6838,
          1.6731,
          1.767,
          2.7717,
          2.1782,
          2.9871,
          4.3152,
          1.6318,
          3.6167,
          5.5085,
          6.3501,
          1.3571,
          4.2589,
          6.1551,
          2.125,
          2.6643,
          6.2788,
          3.125,
          2.9194,
          5.8382,
          5.0346,
          4.1964,
          4.1296,
          4.6694,
          2.4519,
          4.9135,
          3.025,
          4.9079,
          4.8497,
          3.2317,
          1.3177,
          6.7851,
          1.7067,
          5.6818,
          3.8917,
          2.5547,
          4.369,
          5.8322,
          1.0467,
          2.425,
          10.1248,
          3.9018,
          2.1927,
          15.0001,
          6.9903,
          4.4722,
          3.5174,
          4.1742,
          4.0642,
          4.8523,
          2.1513,
          4.9643,
          2.6667,
          1.725,
          8.4375,
          2.2375,
          4.4074,
          3.7813,
          3.8542,
          7.9135,
          7.6917,
          3.2112,
          1.8042,
          3.3926,
          2.4526,
          1.6029,
          4.2614,
          2.6098,
          2.105,
          3.5517,
          1.7941,
          6.2083,
          2.4482,
          3.0529,
          5.8548,
          5.2608,
          1.2056,
          7.8426,
          6.0433,
          3.0132,
          4.0189,
          2.378,
          5.1698,
          2.8304,
          4.0313,
          1.6789,
          2.2042,
          3.5167,
          3.2404,
          2.7266,
          2.0285,
          6.9695,
          1.8209,
          2.8971,
          7.5443,
          3.968,
          3.6343,
          4.1865,
          1.7273,
          3.2596,
          5.9191,
          5.0874,
          5.3989,
          3.6979,
          6.6603,
          7.9794,
          2.5,
          4.0775,
          5.4889,
          3.5865,
          4.8711,
          2.7656,
          3.3491,
          3.1972,
          7.1088,
          6.0116,
          2.99,
          6.3197,
          4.6719,
          2.0729,
          2.6,
          6.0501,
          2.3,
          3.7404,
          1.9427,
          4.8316,
          5.6349,
          1.9125,
          3.3567,
          1.1108,
          1.1563,
          7.2419,
          3.6875,
          3.9607,
          1.87,
          3.7083,
          5.0156,
          1.6111,
          4.6357,
          3.0179,
          6.1288,
          1.4779,
          2.3798,
          5.3096,
          3.4598,
          2.1071,
          2.8929,
          4.6591,
          6.8429,
          1.4937,
          3.625,
          4.1339,
          2.4632,
          5.0081,
          6.1599,
          2.5521,
          2.3079,
          3.2125,
          4.6908,
          4.3333,
          2.788,
          4.3889,
          5.6013,
          3.4551,
          4.0717,
          3.725,
          1.85,
          3.2083,
          7.1035,
          6.5964,
          1.5611,
          2.6316,
          1.775,
          4.5368,
          1.8,
          3.5078,
          4.0652,
          6.0086,
          3.8036,
          3.1985,
          5.6754,
          5.7704,
          8.3609,
          2.3382,
          3.8333,
          3.1667,
          4.2716,
          5.0012,
          5.3184,
          6.3842,
          2.947,
          3.2105,
          5.7613,
          5.0445,
          6.7371,
          3.0904,
          2.3654,
          3.5192,
          2.7321,
          1.8462,
          5.3526,
          5.2155,
          4.0521,
          1.9821,
          2.3571,
          2.1366,
          2.6319,
          3.9187,
          1.8235,
          6.0957,
          3.2426,
          10.3587,
          2.8788,
          2.1413,
          2.6833,
          2.6667,
          3.4038,
          4.8295,
          3.1389,
          3.707,
          11.7064,
          3.5437,
          4.3281,
          3.4808,
          6.1572,
          2.6667,
          3.4886,
          3.1403,
          5.6762,
          2.4,
          8.3617,
          3.425,
          1.5954,
          2.4286,
          3.2216,
          5.3733,
          3.875,
          2.1771,
          6.5764,
          3.9815,
          6.8197,
          4.8405,
          3.0513,
          2.4943,
          5.4065,
          2.4414,
          3.9722,
          3.512,
          6.9014,
          5.5872,
          6.5308,
          4.3833,
          2.5865,
          3.4432,
          6.8787,
          10.3942,
          3.5129,
          1.4028,
          2.2188,
          4.57,
          7.9627,
          4.8403,
          5.0353,
          4.0417,
          3.625,
          6.8634,
          3.0723,
          1.6148,
          3.0804,
          2.5395,
          3.3988,
          1.8287,
          1.7538,
          2.489,
          5.7239,
          3.25,
          6.1359,
          2.8322,
          3.2386,
          4.6366,
          2.7232,
          4.7098,
          3.6492,
          3.9914,
          4.0071,
          6.8145,
          2.4359,
          3.6611,
          4.2361,
          5.979,
          2.5417,
          3.6429,
          3.0221,
          1.6554,
          4.1944,
          9.7066,
          2.9886,
          4.1083,
          7.5898,
          6.0774,
          4.6442,
          1.625,
          2.212,
          5.0123,
          3.5179,
          1.97,
          5.2519,
          5.592,
          1.8167,
          3.2404,
          4.4853,
          1.9224,
          3.8594,
          3.8516,
          7.9367,
          2.575,
          3.2465,
          1.9727,
          3.7431,
          3.6563,
          2.0819,
          2.3664,
          2.9231,
          1.4856,
          3.7258,
          6.8198,
          3.8529,
          3.9375,
          3.1441,
          1.6705,
          3.7734,
          5.4863,
          3.3713,
          4.7344,
          4.0625,
          6.0704,
          3.6923,
          3.8646,
          4.1603,
          3.5139,
          1.8095,
          5.6965,
          3.5603,
          4.9615,
          3.375,
          5.6266,
          3.2344,
          3.7857,
          5.305,
          3.8667,
          3.5393,
          2.3406,
          3.125,
          2.3382,
          2.3611,
          2.6014,
          4.8083,
          2.7891,
          5.8343,
          3.5625,
          2.6485,
          5.8186,
          4.6375,
          3.2788,
          6,
          13.4196,
          3.375,
          6.0162,
          2.1518,
          4.2639,
          4.5458,
          3.755,
          3.0625,
          1.825,
          6.244,
          2.8135,
          2.8281,
          5.1831,
          3.8105,
          1.7158,
          2.6842,
          3.0542,
          3.4839,
          3.6,
          5.041,
          3.2841,
          2.5481,
          5.1238,
          5.6856,
          3.0685,
          7.8904,
          1.5313,
          4.0313,
          4.4643,
          3.5893,
          3.6635,
          4.4911,
          2.9112,
          1.9219,
          4.9118,
          4.4125,
          5.5918,
          3.1932,
          4.3081,
          3.6348,
          3.1912,
          5.0086,
          3.8565,
          2.8458,
          3.8372,
          3.2396,
          3.4883,
          2.5737,
          5.3008,
          1.6722,
          4.58,
          9.8937,
          2.5321,
          2.5208,
          2.6161,
          3.662,
          3.1546,
          1.722,
          0.9288,
          1.8689,
          4.2014,
          2.4375,
          3.3086,
          2.0363,
          6.0235,
          4.3088,
          5.1663,
          3.2917,
          3.09,
          1.7155,
          2.0879,
          2.8913,
          2.3611,
          2.25,
          4.7356,
          3.455,
          6.3434,
          5.2016,
          5.516,
          4.0043,
          5.2732,
          1.5553,
          5.6482,
          2.5495,
          1.9829,
          7.0352,
          2.6934,
          2.0224,
          1.9875,
          2.6354,
          5.4132,
          3.2375,
          5.4165,
          5.9845,
          5.8305,
          4.5382,
          6.8406,
          1.2679,
          3.7318,
          0.7445,
          2.6786,
          3.0192,
          3.184,
          5.5362,
          5.0603,
          2.2794,
          4.0062,
          2.4278,
          2.9406,
          4.0775,
          2.825,
          0.8738,
          6.3824,
          3.1641,
          6.0286,
          2.3355,
          2.4537,
          5.0532,
          4.7381,
          4.9688,
          4.4306,
          2.0833,
          2.7231,
          2.5104,
          1.9091,
          4.8929,
          4.6,
          1.7402,
          6.348,
          4.1806,
          3.7463,
          4.9013,
          4.3333,
          2.7788,
          7.3732,
          5.8325,
          4.0938,
          2.3333,
          2.2019,
          5.9541,
          3.7321,
          4.1974,
          5.5519,
          4.2917,
          3.6037,
          5.0941,
          5.8642,
          3.3389,
          3.2663,
          3.5912,
          5.5926,
          5.5551,
          1,
          2.5903,
          2.3578,
          1.7694,
          6.0622,
          6.2924,
          3.6027,
          2.1806,
          8.7397,
          4.6528,
          5.7812,
          4.0125,
          4.0288,
          1.4732,
          3.703,
          3.4559,
          9.1232,
          3.3304,
          5.7248,
          1.7052,
          3.5125,
          1.8973,
          4.6042,
          5.4741,
          4.084,
          5.0594,
          0.8106,
          3.0208,
          2.64,
          3.3562,
          3.75,
          5.069,
          2.5122,
          1.975,
          9.802,
          2.3099,
          4.1071,
          3.6125,
          3.6705,
          3.2292,
          5.5291,
          6.7123,
          3.371,
          2.25,
          1.2222,
          1.8984,
          3.9745,
          3.4919,
          4.0229,
          4.3667,
          2.6765,
          7.629,
          2.2437,
          3.3269,
          2.9883,
          1.8208,
          2.8827,
          4.0417,
          4.7547,
          2.6964,
          3.8125,
          2.567,
          2.3365,
          5.1048,
          3.5625,
          4.5066,
          3.15,
          4.0469,
          5.2595,
          6.0824,
          2.2599,
          1.3302,
          2.7325,
          4.4375,
          4.4423,
          2.2898,
          3.0313,
          4.747,
          4.8839,
          2.4663,
          6.1049,
          1.78,
          2.8569,
          5.2987,
          2.6033,
          4.194,
          1.7196,
          0.8964,
          1.8295,
          5.1072,
          3.7312,
          4.7308,
          5.0709,
          2.4805,
          8.1839,
          1.525,
          1.1296,
          7.7876,
          4.7332,
          3.0465,
          2.465,
          2.3798,
          6.2242,
          4.121,
          4.39,
          3.145,
          4.8382,
          1.7031,
          4.1389,
          2.1607,
          2.5164,
          2.3774,
          2.5488,
          2.1151,
          5.065,
          1.8661,
          4.642,
          4.0474,
          4.7679,
          2.4375,
          5.0201,
          3.325,
          5.3963,
          2.0469,
          2.8167,
          4.0474,
          3.4125,
          1.9392,
          1.9219,
          3.7891,
          3.0919,
          5.2528,
          1.5625,
          2.7348,
          4.7143,
          3.135,
          2.7014,
          5.4446,
          5.1534,
          5.2088,
          4.652,
          3.1118,
          4.9917,
          5.0795,
          2.3062,
          3.1106,
          5.0118,
          4.1667,
          3.7917,
          3.7569,
          5.057,
          3.5214,
          1.3696,
          2.6964,
          10.1768,
          7.1572,
          5.0605,
          4.6225,
          2.16,
          2.2429,
          4.955,
          8.6196,
          5.7907,
          7.5755,
          2.5658,
          3.6354,
          3.1964,
          3.3689,
          3.2396,
          4.4551,
          8.176,
          6.1181,
          3.1483,
          7.6059,
          3.8162,
          5.0346,
          4.0379,
          2.0801,
          6.2748,
          2.25,
          2.2554,
          1.4241,
          6.0661,
          0.4999,
          1.4639,
          6.1287,
          2.8173,
          1.5515,
          2.8061,
          2.2241,
          11.2185,
          2.0368,
          4.2344,
          4.1711,
          3.375,
          1.7716,
          4.2062,
          3.1326,
          2.0185,
          5.5789,
          2.1419,
          3.2708,
          2.2417,
          4.2562,
          13.0502,
          1.6395,
          3.765,
          5.7117,
          2.5192,
          3.0405,
          3.0806,
          4.6957,
          2.5172,
          4.1591,
          4.9271,
          4.9,
          3.125,
          2.925,
          6.884,
          5.0362,
          6.9682,
          4.4239,
          2.7813,
          1.4103,
          5.844,
          4.2227,
          8.3996,
          3.8438,
          3.1929,
          2.0213,
          4.5615,
          1.9338,
          2.8208,
          4.2386,
          7.4947,
          5.4122,
          2.875,
          3.1887,
          4.2875,
          2.025,
          1.7708,
          5.2533,
          3.6212,
          2.1625,
          2.6942,
          3.0347,
          1.5064,
          4.0585,
          2.1719,
          4.8194,
          6.314,
          3.4643,
          4.0368,
          4.1449,
          1.6875,
          1.6023,
          2.5509,
          2.5158,
          2.0562,
          4.5606,
          5.2898,
          3.4338,
          2.3147,
          2.875,
          3.267,
          2.4375,
          1.5357,
          9.9025,
          3.6042,
          1.75,
          10.9508,
          2.1793,
          2.3173,
          5.2405,
          3.2151,
          6.4385,
          2.4003,
          4.7926,
          4.3438,
          3.6202,
          4.5347,
          1.8857,
          4.7325,
          4.0357,
          9.532,
          2.8837,
          4.8984,
          5.8133,
          3.25,
          2.6,
          3.5694,
          4.5052,
          7.9213,
          3.0625,
          1.6902,
          3.8056,
          1.9957,
          1.8365,
          2.8056,
          6.1047
         ],
         "y": [
          266700,
          170800,
          75000,
          209100,
          266700,
          95100,
          187700,
          184800,
          94300,
          256300,
          81800,
          210700,
          187800,
          144600,
          500001,
          133300,
          292900,
          349000,
          272000,
          236500,
          276200,
          141800,
          211300,
          84600,
          97900,
          167900,
          187500,
          271500,
          74800,
          145600,
          248700,
          120200,
          275000,
          282200,
          238000,
          76900,
          100000,
          375000,
          187800,
          245800,
          152800,
          436700,
          184500,
          292000,
          209800,
          500001,
          92800,
          162500,
          175000,
          272400,
          101900,
          185900,
          130300,
          188400,
          51700,
          325400,
          197000,
          65600,
          350000,
          71800,
          124500,
          394400,
          98100,
          66900,
          143000,
          103600,
          164000,
          186200,
          157500,
          186900,
          176100,
          100900,
          243000,
          76500,
          112700,
          290600,
          174200,
          240000,
          112300,
          179400,
          150000,
          290900,
          185100,
          500001,
          78700,
          63400,
          97900,
          156800,
          270600,
          55500,
          233300,
          206300,
          252400,
          84600,
          117600,
          125000,
          145800,
          247400,
          302000,
          186800,
          111800,
          245800,
          68400,
          162500,
          500001,
          141000,
          66000,
          127600,
          205800,
          345700,
          145800,
          304700,
          269600,
          350000,
          65000,
          133100,
          126800,
          500001,
          81900,
          136400,
          225600,
          135600,
          121200,
          57500,
          173900,
          122400,
          329500,
          53100,
          158400,
          238900,
          293300,
          258100,
          191800,
          164600,
          374200,
          78500,
          46500,
          146900,
          127900,
          213300,
          165100,
          500001,
          202300,
          132600,
          161800,
          133700,
          82300,
          251900,
          187000,
          160600,
          417600,
          96400,
          187500,
          450700,
          123800,
          474300,
          426800,
          280000,
          189800,
          135600,
          371400,
          265000,
          173900,
          362700,
          235700,
          71700,
          191900,
          164100,
          131900,
          254900,
          282200,
          286800,
          207400,
          287800,
          226700,
          255000,
          273100,
          165100,
          275200,
          201500,
          152300,
          153900,
          137500,
          162400,
          187200,
          88500,
          275000,
          171700,
          30000,
          241500,
          350000,
          240200,
          166100,
          389200,
          371000,
          258300,
          222000,
          246100,
          101100,
          74000,
          146900,
          248800,
          102600,
          185700,
          207500,
          146900,
          187500,
          163900,
          96100,
          500001,
          331900,
          161200,
          34600,
          55900,
          75900,
          246900,
          383300,
          180500,
          206200,
          94600,
          163100,
          173100,
          102100,
          239300,
          105100,
          85600,
          120200,
          154400,
          160800,
          105100,
          463500,
          103900,
          218200,
          76200,
          154300,
          53300,
          277500,
          107900,
          346800,
          131100,
          123800,
          63100,
          390900,
          153900,
          177000,
          261800,
          283100,
          240200,
          77000,
          179600,
          273800,
          170800,
          402400,
          110300,
          200000,
          342900,
          363900,
          169300,
          148700,
          116000,
          500001,
          182100,
          163300,
          237500,
          110200,
          376200,
          164900,
          95300,
          104900,
          235600,
          119400,
          451300,
          357900,
          205100,
          423300,
          276700,
          220700,
          113700,
          208600,
          217500,
          159100,
          119400,
          417300,
          390600,
          176000,
          169300,
          250800,
          124100,
          229400,
          173400,
          319400,
          242100,
          159500,
          500001,
          87500,
          195300,
          57500,
          79900,
          475800,
          47500,
          332200,
          161400,
          250000,
          500001,
          104200,
          237900,
          119200,
          73800,
          268800,
          454800,
          500001,
          500001,
          350000,
          110800,
          154200,
          500001,
          160000,
          252000,
          168800,
          156500,
          500001,
          98900,
          230900,
          88300,
          239500,
          370200,
          227900,
          183900,
          93800,
          177200,
          247600,
          416800,
          176000,
          156700,
          254400,
          85200,
          439100,
          249300,
          291400,
          122200,
          360900,
          140600,
          275000,
          450000,
          78600,
          290900,
          114500,
          76100,
          151400,
          98300,
          364700,
          179200,
          58000,
          86400,
          161900,
          135500,
          71400,
          64100,
          167800,
          273800,
          94600,
          275000,
          164800,
          248200,
          49500,
          302400,
          94100,
          327300,
          285500,
          500001,
          321900,
          148300,
          159400,
          32500,
          270500,
          216400,
          90600,
          243100,
          185800,
          171300,
          500001,
          127800,
          173200,
          75900,
          359100,
          137500,
          392600,
          157100,
          125400,
          137500,
          140000,
          384600,
          184800,
          500001,
          71500,
          144000,
          181300,
          362600,
          337400,
          146700,
          152100,
          264000,
          87500,
          118100,
          87500,
          119200,
          56700,
          390500,
          143500,
          122500,
          84300,
          148200,
          171800,
          117500,
          215700,
          164800,
          293500,
          166200,
          193800,
          100000,
          164500,
          65900,
          193800,
          186500,
          139400,
          386100,
          115100,
          425000,
          500001,
          104000,
          162500,
          500001,
          186300,
          105700,
          146000,
          266900,
          78400,
          213900,
          63600,
          125000,
          225000,
          88500,
          286600,
          232400,
          185000,
          196000,
          153900,
          257700,
          187300,
          180700,
          128600,
          500001,
          158000,
          75000,
          273700,
          113300,
          154200,
          248600,
          166500,
          276600,
          409800,
          76500,
          500001,
          116200,
          500001,
          98900,
          221500,
          64800,
          113700,
          216100,
          110700,
          87900,
          347500,
          67500,
          262100,
          139300,
          500001,
          500001,
          128100,
          98100,
          190300,
          92400,
          237500,
          84600,
          252200,
          166700,
          179100,
          131800,
          346200,
          216700,
          281300,
          225000,
          421000,
          131900,
          111000,
          107600,
          377200,
          270800,
          341700,
          162500,
          235500,
          222500,
          312500,
          154600,
          166300,
          281100,
          245700,
          138700,
          47500,
          418800,
          500001,
          164600,
          264900,
          158200,
          396300,
          487800,
          331000,
          85600,
          363800,
          367300,
          76300,
          92700,
          151600,
          140600,
          159100,
          117800,
          208600,
          174300,
          154200,
          226500,
          269200,
          159000,
          278300,
          262500,
          350000,
          262500,
          142000,
          451700,
          234900,
          146700,
          369700,
          80700,
          161800,
          182600,
          233800,
          211800,
          60800,
          128300,
          290600,
          159000,
          165100,
          57500,
          405900,
          234800,
          235300,
          395100,
          402600,
          177200,
          150000,
          78800,
          170800,
          473000,
          72300,
          148800,
          123200,
          162400,
          95300,
          164000,
          340900,
          189600,
          193800,
          337300,
          121900,
          112500,
          94800,
          60600,
          213700,
          300500,
          69100,
          451400,
          196900,
          144400,
          418200,
          315100,
          147800,
          54000,
          150400,
          91100,
          92800,
          148700,
          368700,
          425000,
          202300,
          112500,
          96100,
          200500,
          216400,
          246000,
          61300,
          410000,
          72800,
          150400,
          114800,
          418800,
          78900,
          142500,
          160400,
          151900,
          433300,
          66400,
          66800,
          235400,
          333600,
          207200,
          161800,
          138500,
          500001,
          108900,
          104200,
          93800,
          183300,
          195700,
          201800,
          123500,
          137400,
          177100,
          201800,
          68600,
          57900,
          95800,
          63300,
          500000,
          58400,
          380000,
          159300,
          117700,
          200000,
          223300,
          350000,
          59000,
          134900,
          291800,
          61200,
          81000,
          322200,
          92800,
          162000,
          330200,
          174600,
          202000,
          322900,
          158200,
          98100,
          368100,
          90600,
          273800,
          184400,
          184800,
          74300,
          323500,
          118600,
          338900,
          120800,
          108900,
          121100,
          276600,
          70100,
          171700,
          428500,
          182300,
          253300,
          500001,
          141200,
          215600,
          268000,
          159900,
          272500,
          175800,
          145000,
          335000,
          172400,
          59300,
          500001,
          102900,
          277300,
          192200,
          198500,
          496400,
          401800,
          204500,
          109200,
          103400,
          182900,
          89700,
          211300,
          146100,
          316700,
          291500,
          110300,
          242700,
          103000,
          265800,
          500001,
          151400,
          87500,
          500001,
          435900,
          272900,
          302900,
          199600,
          188000,
          143700,
          209100,
          95500,
          231300,
          130900,
          225000,
          354200,
          106300,
          360400,
          500001,
          186100,
          348400,
          102100,
          95400,
          154300,
          137500,
          272400,
          151900,
          368500,
          335600,
          99600,
          380400,
          426100,
          96200,
          164500,
          232300,
          112000,
          286600,
          130000,
          181800,
          151500,
          443300,
          271200,
          69400,
          340100,
          337000,
          84700,
          313600,
          254200,
          120800,
          247700,
          102200,
          237300,
          355600,
          57900,
          129100,
          97500,
          82700,
          410400,
          492300,
          132500,
          170800,
          166000,
          500001,
          54300,
          244900,
          149300,
          350000,
          66000,
          83800,
          209900,
          74600,
          73500,
          115600,
          247200,
          372600,
          54700,
          125000,
          238200,
          156900,
          298100,
          341200,
          113100,
          95300,
          455000,
          186600,
          261300,
          150500,
          378000,
          350200,
          121400,
          126500,
          84700,
          71800,
          122800,
          228700,
          358800,
          44400,
          252800,
          63400,
          168800,
          60400,
          109000,
          421300,
          166900,
          158200,
          106300,
          298500,
          500001,
          500001,
          89400,
          116100,
          158000,
          250800,
          106300,
          171100,
          307100,
          87100,
          90300,
          235800,
          196200,
          267400,
          158600,
          137500,
          144000,
          92600,
          55800,
          129800,
          248300,
          166700,
          98300,
          113400,
          101900,
          97700,
          311900,
          275000,
          405400,
          236900,
          500001,
          85500,
          96900,
          240900,
          128000,
          100500,
          319000,
          101100,
          180400,
          500001,
          115800,
          220000,
          206900,
          344000,
          86600,
          173900,
          153000,
          271300,
          255000,
          433800,
          163200,
          187500,
          68100,
          98100,
          302600,
          183900,
          39200,
          349000,
          142600,
          363600,
          354300,
          148100,
          81900,
          243800,
          71900,
          354100,
          174800,
          439000,
          200600,
          287800,
          307600,
          133800,
          106700,
          386800,
          500001,
          101200,
          105400,
          306700,
          189900,
          345400,
          268600,
          305800,
          265300,
          253100,
          276500,
          137300,
          86600,
          313400,
          139200,
          147800,
          146900,
          90300,
          119100,
          430600,
          99600,
          106300,
          170300,
          112500,
          395500,
          123200,
          287900,
          158900,
          120500,
          244700,
          339200,
          123700,
          344200,
          177500,
          285200,
          178300,
          332600,
          214300,
          119400,
          149500,
          182500,
          170800,
          210700,
          330200,
          334400,
          316800,
          237500,
          132000,
          165700,
          165500,
          51900,
          376600,
          239900,
          79500,
          230400,
          145900,
          94000,
          90800,
          206900,
          500001,
          73600,
          277400,
          114100,
          132800,
          344700,
          111800,
          192200,
          45000,
          86400,
          181900,
          493800,
          350000,
          450000,
          176300,
          350000,
          63800,
          153800,
          238400,
          346900,
          141700,
          173400,
          159700,
          257100,
          160500,
          211700,
          64100,
          261100,
          210000,
          228000,
          169600,
          320500,
          245500,
          231600,
          311200,
          127000,
          88000,
          122600,
          80800,
          103000,
          131300,
          320600,
          347700,
          73500,
          500001,
          235000,
          114500,
          281100,
          359100,
          101600,
          209400,
          500001,
          106300,
          318500,
          152800,
          154200,
          208200,
          398300,
          208800,
          81500,
          240000,
          260300,
          60200,
          350000,
          87600,
          94300,
          156300,
          142100,
          180600,
          307400,
          397600,
          167000,
          150800,
          335100,
          138100,
          181800,
          468800,
          50300,
          385300,
          308100,
          146400,
          282100,
          227400,
          199100,
          107000,
          217300,
          246000,
          260500,
          123400,
          227300,
          164500,
          159900,
          366700,
          239800,
          350000,
          129300,
          101900,
          337200,
          87000,
          186500,
          59100,
          236200,
          500001,
          105100,
          99100,
          132500,
          211900,
          261200,
          150000,
          36600,
          66800,
          143200,
          122900,
          138100,
          53500,
          413500,
          152500,
          241200,
          111500,
          174100,
          108800,
          120700,
          60900,
          156800,
          84200,
          195900,
          137500,
          373600,
          243000,
          185100,
          133500,
          209700,
          70000,
          294800,
          103600,
          82800,
          299600,
          160200,
          64900,
          56400,
          128100,
          216600,
          450000,
          435100,
          241700,
          245600,
          165700,
          500001,
          56700,
          327700,
          112500,
          191100,
          184300,
          220000,
          195600,
          185700,
          337500,
          153800,
          167700,
          73000,
          241400,
          168600,
          75000,
          500001,
          158600,
          356000,
          118800,
          91500,
          310900,
          347400,
          163200,
          159100,
          94300,
          250000,
          185000,
          71300,
          212500,
          239500,
          79400,
          500001,
          263800,
          427600,
          330100,
          149500,
          115700,
          287300,
          298900,
          126900,
          364700,
          100000,
          500001,
          351100,
          179300,
          329500,
          227900,
          187500,
          143700,
          363500,
          187100,
          337500,
          284900,
          300900,
          142500,
          187500,
          125000,
          166700,
          73900,
          390000,
          232500,
          211900,
          67200,
          500001,
          244400,
          275000,
          84400,
          184000,
          156300,
          361300,
          111900,
          472000,
          194600,
          398800,
          107400,
          155600,
          51600,
          357300,
          238800,
          194500,
          346000,
          83300,
          112700,
          112100,
          169200,
          163800,
          264200,
          95500,
          134000,
          500001,
          89600,
          240900,
          170800,
          275000,
          86100,
          274600,
          354600,
          165000,
          123500,
          107200,
          54300,
          170800,
          271800,
          363100,
          500001,
          88800,
          500001,
          54200,
          81900,
          296100,
          79500,
          166700,
          146400,
          157600,
          107000,
          97400,
          70400,
          69600,
          500001,
          125700,
          149800,
          72200,
          166800,
          110900,
          273500,
          157600,
          62200,
          162900,
          244900,
          216000,
          66100,
          219100,
          261100,
          134100,
          236500,
          297200,
          162500,
          372200,
          203400,
          121600,
          293900,
          75000,
          59200,
          243800,
          479700,
          159600,
          236200,
          176400,
          73200,
          367000,
          210000,
          93800,
          348900,
          289900,
          274200,
          198700,
          118800,
          237900,
          182100,
          270100,
          169100,
          294900,
          195000,
          174100,
          61400,
          178100,
          74300,
          187500,
          96700,
          215400,
          59800,
          457300,
          182100,
          169500,
          225000,
          264100,
          178200,
          500001,
          234500,
          160400,
          379700,
          160700,
          142900,
          165100,
          117700,
          185400,
          269400,
          47500,
          231300,
          219300,
          231400,
          133700,
          336700,
          232800,
          231400,
          387100,
          238100,
          248100,
          243300,
          158000,
          209400,
          165300,
          197700,
          160600,
          127100,
          246300,
          197600,
          275000,
          125000,
          500001,
          294900,
          216200,
          226500,
          56800,
          150000,
          241500,
          500001,
          264200,
          402300,
          208000,
          256300,
          177700,
          83400,
          125200,
          252400,
          308400,
          284500,
          213000,
          323700,
          235000,
          240500,
          172800,
          131900,
          274800,
          53200,
          165000,
          125000,
          247000,
          67500,
          112500,
          289600,
          226900,
          54100,
          180300,
          127300,
          500001,
          243800,
          162500,
          336900,
          184100,
          45500,
          195400,
          119800,
          141700,
          292000,
          105200,
          400000,
          79200,
          221600,
          500001,
          44400,
          94600,
          247200,
          110400,
          188000,
          118500,
          271500,
          96000,
          500001,
          209700,
          203700,
          111800,
          176000,
          365600,
          181300,
          182400,
          267100,
          159200,
          103900,
          273900,
          235400,
          442900,
          250700,
          137900,
          110600,
          282600,
          112500,
          238500,
          184200,
          366300,
          397500,
          177500,
          189300,
          176600,
          125000,
          138800,
          269100,
          151400,
          77200,
          123500,
          254500,
          66300,
          245500,
          261300,
          141100,
          228900,
          90900,
          139100,
          175300,
          87500,
          77300,
          170800,
          134900,
          102000,
          303800,
          177100,
          54900,
          70100,
          61500,
          185400,
          255400,
          56500,
          500001,
          166400,
          73800,
          500001,
          185700,
          125000,
          220000,
          106300,
          272600,
          142100,
          454400,
          209700,
          366100,
          101200,
          55500,
          283500,
          153800,
          483300,
          176100,
          151500,
          195700,
          296400,
          172800,
          276400,
          170800,
          477800,
          159700,
          61500,
          384700,
          89300,
          328600,
          68100,
          278200
         ]
        }
       ],
       "layout": {
        "height": 600,
        "hovermode": "closest",
        "template": {
         "data": {
          "bar": [
           {
            "error_x": {
             "color": "#2a3f5f"
            },
            "error_y": {
             "color": "#2a3f5f"
            },
            "marker": {
             "line": {
              "color": "#E5ECF6",
              "width": 0.5
             }
            },
            "type": "bar"
           }
          ],
          "barpolar": [
           {
            "marker": {
             "line": {
              "color": "#E5ECF6",
              "width": 0.5
             }
            },
            "type": "barpolar"
           }
          ],
          "carpet": [
           {
            "aaxis": {
             "endlinecolor": "#2a3f5f",
             "gridcolor": "white",
             "linecolor": "white",
             "minorgridcolor": "white",
             "startlinecolor": "#2a3f5f"
            },
            "baxis": {
             "endlinecolor": "#2a3f5f",
             "gridcolor": "white",
             "linecolor": "white",
             "minorgridcolor": "white",
             "startlinecolor": "#2a3f5f"
            },
            "type": "carpet"
           }
          ],
          "choropleth": [
           {
            "colorbar": {
             "outlinewidth": 0,
             "ticks": ""
            },
            "type": "choropleth"
           }
          ],
          "contour": [
           {
            "colorbar": {
             "outlinewidth": 0,
             "ticks": ""
            },
            "colorscale": [
             [
              0,
              "#0d0887"
             ],
             [
              0.1111111111111111,
              "#46039f"
             ],
             [
              0.2222222222222222,
              "#7201a8"
             ],
             [
              0.3333333333333333,
              "#9c179e"
             ],
             [
              0.4444444444444444,
              "#bd3786"
             ],
             [
              0.5555555555555556,
              "#d8576b"
             ],
             [
              0.6666666666666666,
              "#ed7953"
             ],
             [
              0.7777777777777778,
              "#fb9f3a"
             ],
             [
              0.8888888888888888,
              "#fdca26"
             ],
             [
              1,
              "#f0f921"
             ]
            ],
            "type": "contour"
           }
          ],
          "contourcarpet": [
           {
            "colorbar": {
             "outlinewidth": 0,
             "ticks": ""
            },
            "type": "contourcarpet"
           }
          ],
          "heatmap": [
           {
            "colorbar": {
             "outlinewidth": 0,
             "ticks": ""
            },
            "colorscale": [
             [
              0,
              "#0d0887"
             ],
             [
              0.1111111111111111,
              "#46039f"
             ],
             [
              0.2222222222222222,
              "#7201a8"
             ],
             [
              0.3333333333333333,
              "#9c179e"
             ],
             [
              0.4444444444444444,
              "#bd3786"
             ],
             [
              0.5555555555555556,
              "#d8576b"
             ],
             [
              0.6666666666666666,
              "#ed7953"
             ],
             [
              0.7777777777777778,
              "#fb9f3a"
             ],
             [
              0.8888888888888888,
              "#fdca26"
             ],
             [
              1,
              "#f0f921"
             ]
            ],
            "type": "heatmap"
           }
          ],
          "heatmapgl": [
           {
            "colorbar": {
             "outlinewidth": 0,
             "ticks": ""
            },
            "colorscale": [
             [
              0,
              "#0d0887"
             ],
             [
              0.1111111111111111,
              "#46039f"
             ],
             [
              0.2222222222222222,
              "#7201a8"
             ],
             [
              0.3333333333333333,
              "#9c179e"
             ],
             [
              0.4444444444444444,
              "#bd3786"
             ],
             [
              0.5555555555555556,
              "#d8576b"
             ],
             [
              0.6666666666666666,
              "#ed7953"
             ],
             [
              0.7777777777777778,
              "#fb9f3a"
             ],
             [
              0.8888888888888888,
              "#fdca26"
             ],
             [
              1,
              "#f0f921"
             ]
            ],
            "type": "heatmapgl"
           }
          ],
          "histogram": [
           {
            "marker": {
             "colorbar": {
              "outlinewidth": 0,
              "ticks": ""
             }
            },
            "type": "histogram"
           }
          ],
          "histogram2d": [
           {
            "colorbar": {
             "outlinewidth": 0,
             "ticks": ""
            },
            "colorscale": [
             [
              0,
              "#0d0887"
             ],
             [
              0.1111111111111111,
              "#46039f"
             ],
             [
              0.2222222222222222,
              "#7201a8"
             ],
             [
              0.3333333333333333,
              "#9c179e"
             ],
             [
              0.4444444444444444,
              "#bd3786"
             ],
             [
              0.5555555555555556,
              "#d8576b"
             ],
             [
              0.6666666666666666,
              "#ed7953"
             ],
             [
              0.7777777777777778,
              "#fb9f3a"
             ],
             [
              0.8888888888888888,
              "#fdca26"
             ],
             [
              1,
              "#f0f921"
             ]
            ],
            "type": "histogram2d"
           }
          ],
          "histogram2dcontour": [
           {
            "colorbar": {
             "outlinewidth": 0,
             "ticks": ""
            },
            "colorscale": [
             [
              0,
              "#0d0887"
             ],
             [
              0.1111111111111111,
              "#46039f"
             ],
             [
              0.2222222222222222,
              "#7201a8"
             ],
             [
              0.3333333333333333,
              "#9c179e"
             ],
             [
              0.4444444444444444,
              "#bd3786"
             ],
             [
              0.5555555555555556,
              "#d8576b"
             ],
             [
              0.6666666666666666,
              "#ed7953"
             ],
             [
              0.7777777777777778,
              "#fb9f3a"
             ],
             [
              0.8888888888888888,
              "#fdca26"
             ],
             [
              1,
              "#f0f921"
             ]
            ],
            "type": "histogram2dcontour"
           }
          ],
          "mesh3d": [
           {
            "colorbar": {
             "outlinewidth": 0,
             "ticks": ""
            },
            "type": "mesh3d"
           }
          ],
          "parcoords": [
           {
            "line": {
             "colorbar": {
              "outlinewidth": 0,
              "ticks": ""
             }
            },
            "type": "parcoords"
           }
          ],
          "pie": [
           {
            "automargin": true,
            "type": "pie"
           }
          ],
          "scatter": [
           {
            "marker": {
             "colorbar": {
              "outlinewidth": 0,
              "ticks": ""
             }
            },
            "type": "scatter"
           }
          ],
          "scatter3d": [
           {
            "line": {
             "colorbar": {
              "outlinewidth": 0,
              "ticks": ""
             }
            },
            "marker": {
             "colorbar": {
              "outlinewidth": 0,
              "ticks": ""
             }
            },
            "type": "scatter3d"
           }
          ],
          "scattercarpet": [
           {
            "marker": {
             "colorbar": {
              "outlinewidth": 0,
              "ticks": ""
             }
            },
            "type": "scattercarpet"
           }
          ],
          "scattergeo": [
           {
            "marker": {
             "colorbar": {
              "outlinewidth": 0,
              "ticks": ""
             }
            },
            "type": "scattergeo"
           }
          ],
          "scattergl": [
           {
            "marker": {
             "colorbar": {
              "outlinewidth": 0,
              "ticks": ""
             }
            },
            "type": "scattergl"
           }
          ],
          "scattermapbox": [
           {
            "marker": {
             "colorbar": {
              "outlinewidth": 0,
              "ticks": ""
             }
            },
            "type": "scattermapbox"
           }
          ],
          "scatterpolar": [
           {
            "marker": {
             "colorbar": {
              "outlinewidth": 0,
              "ticks": ""
             }
            },
            "type": "scatterpolar"
           }
          ],
          "scatterpolargl": [
           {
            "marker": {
             "colorbar": {
              "outlinewidth": 0,
              "ticks": ""
             }
            },
            "type": "scatterpolargl"
           }
          ],
          "scatterternary": [
           {
            "marker": {
             "colorbar": {
              "outlinewidth": 0,
              "ticks": ""
             }
            },
            "type": "scatterternary"
           }
          ],
          "surface": [
           {
            "colorbar": {
             "outlinewidth": 0,
             "ticks": ""
            },
            "colorscale": [
             [
              0,
              "#0d0887"
             ],
             [
              0.1111111111111111,
              "#46039f"
             ],
             [
              0.2222222222222222,
              "#7201a8"
             ],
             [
              0.3333333333333333,
              "#9c179e"
             ],
             [
              0.4444444444444444,
              "#bd3786"
             ],
             [
              0.5555555555555556,
              "#d8576b"
             ],
             [
              0.6666666666666666,
              "#ed7953"
             ],
             [
              0.7777777777777778,
              "#fb9f3a"
             ],
             [
              0.8888888888888888,
              "#fdca26"
             ],
             [
              1,
              "#f0f921"
             ]
            ],
            "type": "surface"
           }
          ],
          "table": [
           {
            "cells": {
             "fill": {
              "color": "#EBF0F8"
             },
             "line": {
              "color": "white"
             }
            },
            "header": {
             "fill": {
              "color": "#C8D4E3"
             },
             "line": {
              "color": "white"
             }
            },
            "type": "table"
           }
          ]
         },
         "layout": {
          "annotationdefaults": {
           "arrowcolor": "#2a3f5f",
           "arrowhead": 0,
           "arrowwidth": 1
          },
          "autotypenumbers": "strict",
          "coloraxis": {
           "colorbar": {
            "outlinewidth": 0,
            "ticks": ""
           }
          },
          "colorscale": {
           "diverging": [
            [
             0,
             "#8e0152"
            ],
            [
             0.1,
             "#c51b7d"
            ],
            [
             0.2,
             "#de77ae"
            ],
            [
             0.3,
             "#f1b6da"
            ],
            [
             0.4,
             "#fde0ef"
            ],
            [
             0.5,
             "#f7f7f7"
            ],
            [
             0.6,
             "#e6f5d0"
            ],
            [
             0.7,
             "#b8e186"
            ],
            [
             0.8,
             "#7fbc41"
            ],
            [
             0.9,
             "#4d9221"
            ],
            [
             1,
             "#276419"
            ]
           ],
           "sequential": [
            [
             0,
             "#0d0887"
            ],
            [
             0.1111111111111111,
             "#46039f"
            ],
            [
             0.2222222222222222,
             "#7201a8"
            ],
            [
             0.3333333333333333,
             "#9c179e"
            ],
            [
             0.4444444444444444,
             "#bd3786"
            ],
            [
             0.5555555555555556,
             "#d8576b"
            ],
            [
             0.6666666666666666,
             "#ed7953"
            ],
            [
             0.7777777777777778,
             "#fb9f3a"
            ],
            [
             0.8888888888888888,
             "#fdca26"
            ],
            [
             1,
             "#f0f921"
            ]
           ],
           "sequentialminus": [
            [
             0,
             "#0d0887"
            ],
            [
             0.1111111111111111,
             "#46039f"
            ],
            [
             0.2222222222222222,
             "#7201a8"
            ],
            [
             0.3333333333333333,
             "#9c179e"
            ],
            [
             0.4444444444444444,
             "#bd3786"
            ],
            [
             0.5555555555555556,
             "#d8576b"
            ],
            [
             0.6666666666666666,
             "#ed7953"
            ],
            [
             0.7777777777777778,
             "#fb9f3a"
            ],
            [
             0.8888888888888888,
             "#fdca26"
            ],
            [
             1,
             "#f0f921"
            ]
           ]
          },
          "colorway": [
           "#636efa",
           "#EF553B",
           "#00cc96",
           "#ab63fa",
           "#FFA15A",
           "#19d3f3",
           "#FF6692",
           "#B6E880",
           "#FF97FF",
           "#FECB52"
          ],
          "font": {
           "color": "#2a3f5f"
          },
          "geo": {
           "bgcolor": "white",
           "lakecolor": "white",
           "landcolor": "#E5ECF6",
           "showlakes": true,
           "showland": true,
           "subunitcolor": "white"
          },
          "hoverlabel": {
           "align": "left"
          },
          "hovermode": "closest",
          "mapbox": {
           "style": "light"
          },
          "paper_bgcolor": "white",
          "plot_bgcolor": "#E5ECF6",
          "polar": {
           "angularaxis": {
            "gridcolor": "white",
            "linecolor": "white",
            "ticks": ""
           },
           "bgcolor": "#E5ECF6",
           "radialaxis": {
            "gridcolor": "white",
            "linecolor": "white",
            "ticks": ""
           }
          },
          "scene": {
           "xaxis": {
            "backgroundcolor": "#E5ECF6",
            "gridcolor": "white",
            "gridwidth": 2,
            "linecolor": "white",
            "showbackground": true,
            "ticks": "",
            "zerolinecolor": "white"
           },
           "yaxis": {
            "backgroundcolor": "#E5ECF6",
            "gridcolor": "white",
            "gridwidth": 2,
            "linecolor": "white",
            "showbackground": true,
            "ticks": "",
            "zerolinecolor": "white"
           },
           "zaxis": {
            "backgroundcolor": "#E5ECF6",
            "gridcolor": "white",
            "gridwidth": 2,
            "linecolor": "white",
            "showbackground": true,
            "ticks": "",
            "zerolinecolor": "white"
           }
          },
          "shapedefaults": {
           "line": {
            "color": "#2a3f5f"
           }
          },
          "ternary": {
           "aaxis": {
            "gridcolor": "white",
            "linecolor": "white",
            "ticks": ""
           },
           "baxis": {
            "gridcolor": "white",
            "linecolor": "white",
            "ticks": ""
           },
           "bgcolor": "#E5ECF6",
           "caxis": {
            "gridcolor": "white",
            "linecolor": "white",
            "ticks": ""
           }
          },
          "title": {
           "x": 0.05
          },
          "xaxis": {
           "automargin": true,
           "gridcolor": "white",
           "linecolor": "white",
           "ticks": "",
           "title": {
            "standoff": 15
           },
           "zerolinecolor": "white",
           "zerolinewidth": 2
          },
          "yaxis": {
           "automargin": true,
           "gridcolor": "white",
           "linecolor": "white",
           "ticks": "",
           "title": {
            "standoff": 15
           },
           "zerolinecolor": "white",
           "zerolinewidth": 2
          }
         }
        },
        "title": {
         "text": "Housing Data"
        },
        "width": 900
       }
      },
      "text/html": [
       "<div>                            <div id=\"369cbb3c-c5ae-4c9d-b226-e7f1e79f1971\" class=\"plotly-graph-div\" style=\"height:600px; width:900px;\"></div>            <script type=\"text/javascript\">                require([\"plotly\"], function(Plotly) {                    window.PLOTLYENV=window.PLOTLYENV || {};                                    if (document.getElementById(\"369cbb3c-c5ae-4c9d-b226-e7f1e79f1971\")) {                    Plotly.newPlot(                        \"369cbb3c-c5ae-4c9d-b226-e7f1e79f1971\",                        [{\"marker\": {\"color\": [25.0, 18.0, 20.0, 26.0, 33.0, 23.0, 21.0, 5.0, 17.0, 32.0, 17.0, 34.0, 5.0, 19.0, 49.0, 47.0, 46.0, 52.0, 20.0, 24.0, 22.0, 30.0, 49.0, 26.0, 15.0, 45.0, 33.0, 18.0, 29.0, 17.0, 39.0, 40.0, 52.0, 31.0, 35.0, 30.0, 44.0, 19.0, 16.0, 18.0, 5.0, 31.0, 5.0, 52.0, 17.0, 32.0, 35.0, 52.0, 52.0, 46.0, 38.0, 9.0, 40.0, 41.0, 43.0, 15.0, 34.0, 35.0, 27.0, 34.0, 23.0, 29.0, 33.0, 19.0, 3.0, 17.0, 26.0, 23.0, 36.0, 34.0, 17.0, 17.0, 16.0, 33.0, 34.0, 29.0, 16.0, 50.0, 12.0, 10.0, 43.0, 16.0, 38.0, 45.0, 29.0, 34.0, 16.0, 32.0, 52.0, 29.0, 24.0, 3.0, 24.0, 48.0, 42.0, 5.0, 19.0, 12.0, 3.0, 4.0, 33.0, 20.0, 27.0, 52.0, 52.0, 36.0, 34.0, 12.0, 36.0, 36.0, 35.0, 9.0, 16.0, 21.0, 36.0, 18.0, 25.0, 22.0, 40.0, 30.0, 35.0, 34.0, 19.0, 33.0, 44.0, 25.0, 2.0, 39.0, 52.0, 18.0, 15.0, 17.0, 23.0, 40.0, 26.0, 20.0, 21.0, 18.0, 24.0, 15.0, 30.0, 32.0, 24.0, 52.0, 18.0, 14.0, 34.0, 13.0, 36.0, 17.0, 40.0, 38.0, 24.0, 32.0, 6.0, 33.0, 52.0, 52.0, 42.0, 15.0, 42.0, 46.0, 15.0, 21.0, 37.0, 21.0, 35.0, 35.0, 44.0, 40.0, 19.0, 26.0, 19.0, 41.0, 33.0, 40.0, 36.0, 33.0, 46.0, 42.0, 37.0, 44.0, 46.0, 6.0, 18.0, 21.0, 8.0, 30.0, 23.0, 12.0, 52.0, 46.0, 14.0, 41.0, 22.0, 32.0, 17.0, 16.0, 47.0, 24.0, 22.0, 13.0, 49.0, 40.0, 43.0, 38.0, 30.0, 29.0, 10.0, 29.0, 23.0, 33.0, 21.0, 33.0, 18.0, 46.0, 17.0, 22.0, 25.0, 33.0, 33.0, 9.0, 36.0, 40.0, 47.0, 41.0, 41.0, 18.0, 39.0, 11.0, 20.0, 28.0, 36.0, 34.0, 32.0, 18.0, 26.0, 52.0, 38.0, 36.0, 36.0, 38.0, 18.0, 36.0, 21.0, 26.0, 19.0, 42.0, 35.0, 32.0, 52.0, 16.0, 36.0, 11.0, 34.0, 51.0, 38.0, 49.0, 16.0, 16.0, 26.0, 34.0, 24.0, 46.0, 23.0, 34.0, 26.0, 8.0, 20.0, 11.0, 10.0, 34.0, 15.0, 36.0, 15.0, 39.0, 26.0, 23.0, 24.0, 22.0, 38.0, 16.0, 5.0, 29.0, 31.0, 44.0, 17.0, 10.0, 28.0, 29.0, 30.0, 35.0, 8.0, 7.0, 14.0, 29.0, 14.0, 37.0, 20.0, 52.0, 25.0, 11.0, 26.0, 23.0, 41.0, 43.0, 16.0, 44.0, 14.0, 34.0, 18.0, 32.0, 37.0, 34.0, 17.0, 24.0, 27.0, 34.0, 35.0, 52.0, 39.0, 35.0, 23.0, 20.0, 36.0, 16.0, 52.0, 34.0, 31.0, 36.0, 49.0, 20.0, 52.0, 32.0, 15.0, 18.0, 32.0, 47.0, 38.0, 29.0, 33.0, 31.0, 15.0, 39.0, 25.0, 52.0, 31.0, 32.0, 23.0, 30.0, 34.0, 16.0, 25.0, 38.0, 37.0, 10.0, 34.0, 19.0, 3.0, 39.0, 52.0, 26.0, 22.0, 26.0, 52.0, 30.0, 13.0, 27.0, 31.0, 39.0, 17.0, 35.0, 16.0, 15.0, 33.0, 37.0, 46.0, 36.0, 36.0, 18.0, 33.0, 21.0, 18.0, 16.0, 23.0, 17.0, 18.0, 20.0, 32.0, 29.0, 29.0, 31.0, 16.0, 48.0, 22.0, 11.0, 19.0, 23.0, 22.0, 16.0, 34.0, 49.0, 52.0, 36.0, 22.0, 39.0, 46.0, 16.0, 33.0, 48.0, 5.0, 17.0, 34.0, 22.0, 35.0, 48.0, 32.0, 35.0, 18.0, 35.0, 52.0, 35.0, 20.0, 27.0, 34.0, 25.0, 41.0, 22.0, 52.0, 34.0, 16.0, 39.0, 32.0, 18.0, 33.0, 35.0, 52.0, 13.0, 21.0, 47.0, 52.0, 20.0, 38.0, 17.0, 26.0, 13.0, 36.0, 37.0, 23.0, 22.0, 52.0, 28.0, 44.0, 20.0, 17.0, 16.0, 35.0, 19.0, 16.0, 39.0, 36.0, 17.0, 44.0, 27.0, 23.0, 37.0, 17.0, 19.0, 21.0, 4.0, 34.0, 41.0, 52.0, 17.0, 27.0, 34.0, 10.0, 21.0, 28.0, 24.0, 19.0, 13.0, 46.0, 43.0, 23.0, 35.0, 18.0, 23.0, 30.0, 36.0, 24.0, 46.0, 44.0, 26.0, 24.0, 42.0, 34.0, 34.0, 52.0, 48.0, 25.0, 41.0, 25.0, 38.0, 28.0, 42.0, 25.0, 48.0, 22.0, 52.0, 52.0, 37.0, 26.0, 13.0, 33.0, 37.0, 52.0, 52.0, 26.0, 15.0, 36.0, 18.0, 10.0, 48.0, 36.0, 36.0, 27.0, 43.0, 42.0, 26.0, 10.0, 5.0, 17.0, 11.0, 37.0, 52.0, 25.0, 34.0, 35.0, 11.0, 29.0, 33.0, 37.0, 6.0, 19.0, 20.0, 39.0, 8.0, 30.0, 14.0, 33.0, 18.0, 26.0, 16.0, 36.0, 36.0, 27.0, 17.0, 6.0, 13.0, 32.0, 46.0, 42.0, 45.0, 28.0, 32.0, 18.0, 45.0, 17.0, 18.0, 20.0, 13.0, 16.0, 23.0, 40.0, 32.0, 36.0, 44.0, 27.0, 24.0, 30.0, 14.0, 41.0, 25.0, 13.0, 35.0, 38.0, 16.0, 23.0, 17.0, 18.0, 52.0, 7.0, 7.0, 48.0, 37.0, 16.0, 21.0, 26.0, 29.0, 19.0, 34.0, 19.0, 41.0, 42.0, 30.0, 26.0, 7.0, 32.0, 31.0, 15.0, 34.0, 49.0, 22.0, 36.0, 14.0, 31.0, 28.0, 34.0, 46.0, 36.0, 18.0, 33.0, 13.0, 2.0, 18.0, 19.0, 37.0, 14.0, 14.0, 15.0, 52.0, 34.0, 52.0, 33.0, 19.0, 29.0, 16.0, 23.0, 26.0, 8.0, 11.0, 24.0, 10.0, 26.0, 9.0, 41.0, 30.0, 16.0, 32.0, 38.0, 28.0, 45.0, 52.0, 41.0, 23.0, 19.0, 41.0, 30.0, 45.0, 49.0, 17.0, 11.0, 39.0, 23.0, 15.0, 33.0, 17.0, 25.0, 28.0, 29.0, 36.0, 14.0, 18.0, 36.0, 17.0, 41.0, 36.0, 43.0, 37.0, 14.0, 44.0, 47.0, 24.0, 52.0, 36.0, 30.0, 21.0, 32.0, 20.0, 17.0, 32.0, 23.0, 32.0, 50.0, 18.0, 52.0, 42.0, 22.0, 17.0, 11.0, 25.0, 7.0, 19.0, 23.0, 35.0, 20.0, 44.0, 43.0, 34.0, 26.0, 33.0, 45.0, 20.0, 33.0, 6.0, 36.0, 45.0, 25.0, 18.0, 29.0, 37.0, 9.0, 8.0, 5.0, 25.0, 19.0, 48.0, 36.0, 36.0, 52.0, 34.0, 52.0, 28.0, 28.0, 10.0, 15.0, 37.0, 27.0, 17.0, 39.0, 8.0, 33.0, 34.0, 29.0, 33.0, 24.0, 25.0, 36.0, 29.0, 23.0, 52.0, 42.0, 33.0, 24.0, 39.0, 8.0, 41.0, 38.0, 38.0, 37.0, 18.0, 38.0, 31.0, 52.0, 26.0, 4.0, 43.0, 18.0, 44.0, 17.0, 47.0, 11.0, 18.0, 16.0, 20.0, 15.0, 20.0, 18.0, 35.0, 35.0, 39.0, 34.0, 36.0, 12.0, 26.0, 27.0, 33.0, 42.0, 52.0, 35.0, 18.0, 3.0, 21.0, 27.0, 43.0, 52.0, 14.0, 29.0, 34.0, 44.0, 37.0, 32.0, 15.0, 52.0, 22.0, 33.0, 20.0, 5.0, 17.0, 34.0, 11.0, 32.0, 36.0, 9.0, 8.0, 36.0, 17.0, 29.0, 28.0, 23.0, 37.0, 14.0, 36.0, 49.0, 36.0, 18.0, 25.0, 15.0, 18.0, 12.0, 43.0, 36.0, 47.0, 15.0, 39.0, 37.0, 32.0, 26.0, 33.0, 38.0, 38.0, 52.0, 52.0, 8.0, 43.0, 35.0, 29.0, 17.0, 27.0, 19.0, 45.0, 25.0, 20.0, 35.0, 30.0, 16.0, 40.0, 52.0, 36.0, 27.0, 32.0, 34.0, 8.0, 31.0, 18.0, 17.0, 26.0, 44.0, 17.0, 15.0, 29.0, 34.0, 21.0, 27.0, 18.0, 21.0, 17.0, 27.0, 6.0, 14.0, 39.0, 38.0, 39.0, 25.0, 37.0, 52.0, 18.0, 8.0, 28.0, 12.0, 47.0, 36.0, 24.0, 6.0, 16.0, 35.0, 35.0, 38.0, 52.0, 24.0, 51.0, 26.0, 34.0, 14.0, 41.0, 16.0, 40.0, 12.0, 52.0, 8.0, 3.0, 37.0, 9.0, 48.0, 29.0, 35.0, 19.0, 43.0, 28.0, 25.0, 44.0, 33.0, 38.0, 18.0, 6.0, 25.0, 29.0, 36.0, 48.0, 19.0, 35.0, 25.0, 41.0, 50.0, 35.0, 35.0, 27.0, 23.0, 36.0, 45.0, 37.0, 23.0, 45.0, 19.0, 21.0, 19.0, 31.0, 43.0, 20.0, 21.0, 33.0, 32.0, 30.0, 43.0, 48.0, 33.0, 12.0, 36.0, 16.0, 35.0, 36.0, 19.0, 16.0, 45.0, 38.0, 17.0, 28.0, 25.0, 25.0, 52.0, 28.0, 42.0, 36.0, 52.0, 5.0, 5.0, 37.0, 15.0, 33.0, 16.0, 38.0, 52.0, 36.0, 5.0, 40.0, 15.0, 18.0, 18.0, 52.0, 15.0, 26.0, 20.0, 33.0, 4.0, 20.0, 35.0, 26.0, 6.0, 40.0, 12.0, 37.0, 31.0, 52.0, 20.0, 26.0, 52.0, 37.0, 44.0, 27.0, 45.0, 44.0, 16.0, 24.0, 33.0, 52.0, 9.0, 33.0, 33.0, 19.0, 35.0, 40.0, 25.0, 36.0, 20.0, 19.0, 31.0, 26.0, 38.0, 20.0, 17.0, 20.0, 17.0, 33.0, 36.0, 39.0, 52.0, 13.0, 24.0, 52.0, 46.0, 16.0, 35.0, 33.0, 29.0, 37.0, 17.0, 30.0, 23.0, 34.0, 14.0, 26.0, 25.0, 35.0, 47.0, 7.0, 31.0, 37.0, 34.0, 25.0, 34.0, 35.0, 51.0, 38.0, 23.0, 30.0, 46.0, 22.0, 34.0, 52.0, 27.0, 26.0, 44.0, 15.0, 42.0, 35.0, 15.0, 34.0, 24.0, 17.0, 41.0, 30.0, 43.0, 4.0, 25.0, 38.0, 40.0, 24.0, 39.0, 41.0, 47.0, 43.0, 19.0, 45.0, 24.0, 20.0, 7.0, 26.0, 52.0, 12.0, 14.0, 24.0, 28.0, 41.0, 52.0, 41.0, 17.0, 44.0, 18.0, 35.0, 36.0, 43.0, 4.0, 21.0, 50.0, 6.0, 36.0, 29.0, 21.0, 21.0, 34.0, 34.0, 44.0, 30.0, 45.0, 31.0, 27.0, 16.0, 26.0, 37.0, 45.0, 24.0, 19.0, 20.0, 44.0, 35.0, 5.0, 5.0, 3.0, 36.0, 35.0, 19.0, 52.0, 30.0, 9.0, 34.0, 28.0, 41.0, 28.0, 10.0, 27.0, 17.0, 8.0, 19.0, 47.0, 27.0, 29.0, 35.0, 28.0, 22.0, 44.0, 20.0, 20.0, 39.0, 48.0, 10.0, 20.0, 36.0, 24.0, 7.0, 41.0, 16.0, 27.0, 45.0, 40.0, 16.0, 33.0, 45.0, 30.0, 8.0, 13.0, 52.0, 33.0, 34.0, 44.0, 52.0, 26.0, 42.0, 50.0, 32.0, 19.0, 36.0, 44.0, 18.0, 52.0, 52.0, 34.0, 9.0, 15.0, 41.0, 26.0, 11.0, 5.0, 14.0, 14.0, 38.0, 21.0, 22.0, 37.0, 14.0, 14.0, 49.0, 34.0, 20.0, 3.0, 20.0, 38.0, 25.0, 37.0, 37.0, 42.0, 40.0, 12.0, 16.0, 39.0, 35.0, 41.0, 52.0, 18.0, 22.0, 47.0, 21.0, 24.0, 52.0, 49.0, 35.0, 33.0, 33.0, 11.0, 26.0, 34.0, 34.0, 13.0, 22.0, 43.0, 40.0, 32.0, 13.0, 16.0, 27.0, 37.0, 52.0, 16.0, 19.0, 17.0, 30.0, 26.0, 30.0, 43.0, 27.0, 24.0, 7.0, 22.0, 11.0, 23.0, 31.0, 39.0, 33.0, 39.0, 36.0, 34.0, 46.0, 27.0, 52.0, 16.0, 28.0, 25.0, 36.0, 16.0, 46.0, 10.0, 43.0, 37.0, 19.0, 25.0, 44.0, 29.0, 26.0, 36.0, 34.0, 11.0, 34.0, 9.0, 36.0, 42.0, 46.0, 35.0, 23.0, 31.0, 36.0, 25.0, 24.0, 13.0, 29.0, 26.0, 4.0, 11.0, 20.0, 20.0, 14.0, 22.0, 31.0, 32.0, 5.0, 16.0, 18.0, 18.0, 26.0, 27.0, 18.0, 10.0, 34.0, 44.0, 22.0, 19.0, 39.0, 16.0, 16.0, 46.0, 6.0, 4.0, 21.0, 37.0, 14.0, 21.0, 52.0, 37.0, 52.0, 38.0, 23.0, 29.0, 37.0, 13.0, 9.0, 36.0, 30.0, 35.0, 18.0, 45.0, 6.0, 20.0, 33.0, 16.0, 47.0, 43.0, 22.0, 27.0, 24.0, 41.0, 21.0, 12.0, 22.0, 26.0, 50.0, 27.0, 15.0, 16.0, 35.0, 52.0, 26.0, 28.0, 15.0, 37.0, 27.0, 22.0, 8.0, 43.0, 33.0, 27.0, 4.0, 52.0, 42.0, 16.0, 36.0, 52.0, 32.0, 22.0, 31.0, 18.0, 13.0, 17.0, 42.0, 29.0, 17.0, 37.0, 9.0, 28.0, 33.0, 37.0, 22.0, 32.0, 32.0, 22.0, 41.0, 31.0, 25.0, 28.0, 18.0, 44.0, 23.0, 12.0, 35.0, 40.0, 52.0, 31.0, 52.0, 36.0, 27.0, 36.0, 7.0, 24.0, 14.0, 27.0, 22.0, 34.0, 12.0, 31.0, 19.0, 30.0, 50.0, 38.0, 8.0, 30.0, 52.0, 19.0, 40.0, 32.0, 44.0, 37.0, 41.0, 35.0, 32.0, 43.0, 35.0, 7.0], \"colorscale\": [[0.0, \"rgb(0,0,131)\"], [0.2, \"rgb(0,60,170)\"], [0.4, \"rgb(5,255,255)\"], [0.6, \"rgb(255,255,0)\"], [0.8, \"rgb(250,0,0)\"], [1.0, \"rgb(128,0,0)\"]], \"showscale\": true, \"size\": [1785.0, 2628.0, 1782.0, 1561.0, 1530.0, 545.0, 4578.0, 1808.0, 2285.0, 332.0, 2009.0, 2518.0, 2087.0, 1935.0, 3780.0, 825.0, 1811.0, 2239.0, 1767.0, 4179.0, 3359.0, 2775.0, 1350.0, 1485.0, 2061.0, 2397.0, 873.0, 6154.0, 2242.0, 3361.0, 2603.0, 1935.0, 1704.0, 2417.0, 1939.0, 2427.0, 1631.0, 256.0, 13290.0, 4070.0, 3344.0, 4949.0, 3088.0, 2070.0, 5282.0, 2297.0, 2426.0, 2662.0, 1902.0, 2298.0, 2152.0, 3415.0, 1791.0, 1425.0, 1610.0, 2153.0, 1599.0, 1872.0, 966.0, 3183.0, 6379.0, 3110.0, 2275.0, 3244.0, 21060.0, 2677.0, 3061.0, 3768.0, 1359.0, 1124.0, 5202.0, 1463.0, 4608.0, 3379.0, 1469.0, 3287.0, 3787.0, 1542.0, 4038.0, 7277.0, 500.0, 6058.0, 1243.0, 3312.0, 3480.0, 1440.0, 8476.0, 1252.0, 979.0, 1938.0, 3241.0, 5710.0, 4670.0, 1908.0, 1207.0, 2706.0, 1461.0, 4325.0, 8874.0, 2851.0, 644.0, 961.0, 1226.0, 1417.0, 1611.0, 1485.0, 3426.0, 1437.0, 1929.0, 2649.0, 1504.0, 2153.0, 3109.0, 730.0, 613.0, 4164.0, 1471.0, 809.0, 2190.0, 3199.0, 1717.0, 1502.0, 2010.0, 2235.0, 1218.0, 1611.0, 5989.0, 1173.0, 2300.0, 1712.0, 3084.0, 5512.0, 4815.0, 1417.0, 2192.0, 6541.0, 1382.0, 1573.0, 2930.0, 5218.0, 2290.0, 4281.0, 4639.0, 2224.0, 2269.0, 5058.0, 1950.0, 7174.0, 1151.0, 2727.0, 1667.0, 1545.0, 1635.0, 3556.0, 1649.0, 2496.0, 3547.0, 3510.0, 413.0, 1497.0, 1756.0, 206.0, 826.0, 6203.0, 2733.0, 1161.0, 2072.0, 2323.0, 1856.0, 1808.0, 3808.0, 1924.0, 2648.0, 1833.0, 952.0, 1896.0, 1770.0, 2420.0, 4036.0, 1988.0, 4916.0, 2314.0, 860.0, 1580.0, 9963.0, 1260.0, 3105.0, 2437.0, 1586.0, 5949.0, 4001.0, 1271.0, 999.0, 3170.0, 12842.0, 1601.0, 2247.0, 3471.0, 2212.0, 3409.0, 2403.0, 4013.0, 1820.0, 2523.0, 284.0, 2948.0, 5293.0, 3559.0, 3113.0, 515.0, 5554.0, 1348.0, 1091.0, 1077.0, 1277.0, 1938.0, 4413.0, 4935.0, 1914.0, 1504.0, 1653.0, 2099.0, 2914.0, 2162.0, 1942.0, 2417.0, 990.0, 2515.0, 2925.0, 3572.0, 4534.0, 3639.0, 1742.0, 1859.0, 1731.0, 1855.0, 2012.0, 1783.0, 5688.0, 1710.0, 871.0, 2419.0, 3414.0, 1044.0, 2876.0, 6459.0, 3562.0, 1957.0, 1565.0, 1408.0, 3011.0, 2102.0, 1760.0, 2285.0, 1785.0, 2812.0, 3328.0, 2838.0, 2240.0, 4221.0, 5067.0, 2158.0, 2807.0, 5677.0, 1419.0, 2840.0, 2528.0, 10997.0, 2569.0, 1994.0, 9205.0, 4453.0, 1659.0, 1340.0, 11403.0, 1613.0, 2342.0, 2830.0, 6303.0, 2340.0, 2284.0, 3222.0, 1649.0, 3025.0, 767.0, 2748.0, 3173.0, 2106.0, 1812.0, 5154.0, 2762.0, 3227.0, 2120.0, 5389.0, 821.0, 2003.0, 1731.0, 736.0, 1309.0, 204.0, 1075.0, 10804.0, 5416.0, 1650.0, 2127.0, 1840.0, 2247.0, 711.0, 3155.0, 4062.0, 6476.0, 1179.0, 3000.0, 1500.0, 2754.0, 7418.0, 1190.0, 1722.0, 1470.0, 2198.0, 2492.0, 182.0, 4925.0, 743.0, 2178.0, 4596.0, 1909.0, 1941.0, 2447.0, 2656.0, 1977.0, 5776.0, 2432.0, 1854.0, 2576.0, 2233.0, 4018.0, 1811.0, 3966.0, 855.0, 2892.0, 1893.0, 2708.0, 45.0, 182.0, 1877.0, 2532.0, 1430.0, 2592.0, 3474.0, 2638.0, 735.0, 2409.0, 977.0, 1061.0, 5780.0, 2861.0, 683.0, 1206.0, 2302.0, 1384.0, 1167.0, 3517.0, 3842.0, 5486.0, 3742.0, 4460.0, 1965.0, 3508.0, 3299.0, 2791.0, 1141.0, 1444.0, 208.0, 726.0, 1664.0, 695.0, 2064.0, 1788.0, 1063.0, 2398.0, 2484.0, 1859.0, 2777.0, 3578.0, 1319.0, 1617.0, 2063.0, 3366.0, 1716.0, 1650.0, 3533.0, 3970.0, 3623.0, 2124.0, 2000.0, 2012.0, 3942.0, 2785.0, 3536.0, 1709.0, 1435.0, 402.0, 2283.0, 2465.0, 3260.0, 1414.0, 5127.0, 1039.0, 1696.0, 2652.0, 2863.0, 2199.0, 1298.0, 1928.0, 2258.0, 2458.0, 1994.0, 2042.0, 1138.0, 3080.0, 1474.0, 3960.0, 574.0, 1694.0, 2769.0, 616.0, 2512.0, 2501.0, 1010.0, 3049.0, 3895.0, 1792.0, 2221.0, 2443.0, 2878.0, 2224.0, 6035.0, 1344.0, 1927.0, 126.0, 1580.0, 1568.0, 4150.0, 934.0, 3756.0, 1528.0, 1644.0, 3425.0, 3882.0, 1319.0, 4612.0, 1856.0, 2680.0, 3719.0, 1174.0, 1705.0, 3725.0, 4241.0, 5264.0, 2443.0, 3019.0, 2007.0, 2918.0, 1808.0, 2176.0, 3912.0, 1673.0, 2271.0, 2342.0, 3268.0, 4374.0, 1615.0, 711.0, 2072.0, 1719.0, 3663.0, 1856.0, 2160.0, 1307.0, 1848.0, 1713.0, 271.0, 1036.0, 3498.0, 2746.0, 3960.0, 2864.0, 2365.0, 787.0, 2610.0, 40.0, 2142.0, 1919.0, 2932.0, 2013.0, 1523.0, 3718.0, 2747.0, 1521.0, 1374.0, 2048.0, 1858.0, 1237.0, 822.0, 2690.0, 1737.0, 2015.0, 639.0, 2685.0, 1871.0, 1180.0, 1733.0, 5841.0, 3585.0, 4801.0, 3328.0, 889.0, 2561.0, 9103.0, 1320.0, 5129.0, 3103.0, 2434.0, 6096.0, 1543.0, 3236.0, 825.0, 618.0, 2867.0, 3597.0, 1975.0, 2319.0, 7483.0, 3061.0, 1424.0, 1022.0, 1256.0, 1917.0, 1802.0, 2023.0, 2070.0, 1394.0, 7880.0, 2807.0, 1705.0, 2191.0, 508.0, 1328.0, 4328.0, 1984.0, 2171.0, 1921.0, 1538.0, 3097.0, 1471.0, 5484.0, 2594.0, 1488.0, 2522.0, 1083.0, 2571.0, 2508.0, 2612.0, 1926.0, 1819.0, 2453.0, 1076.0, 2486.0, 2626.0, 1838.0, 5377.0, 893.0, 149.0, 1685.0, 3611.0, 1493.0, 4505.0, 2083.0, 5745.0, 1615.0, 5526.0, 752.0, 4284.0, 4760.0, 2285.0, 1486.0, 4356.0, 1885.0, 1712.0, 6205.0, 3944.0, 2063.0, 1347.0, 1514.0, 3714.0, 808.0, 3648.0, 5359.0, 3662.0, 1648.0, 1226.0, 3325.0, 1309.0, 1210.0, 4255.0, 1887.0, 9374.0, 4138.0, 1746.0, 10377.0, 2055.0, 702.0, 2823.0, 1045.0, 2539.0, 2526.0, 2112.0, 1248.0, 176.0, 447.0, 2505.0, 2970.0, 3192.0, 2701.0, 1775.0, 1687.0, 1572.0, 859.0, 5737.0, 1371.0, 1006.0, 4789.0, 3598.0, 4015.0, 2739.0, 736.0, 3299.0, 2419.0, 1833.0, 1801.0, 5892.0, 1451.0, 2653.0, 2639.0, 5904.0, 1908.0, 2599.0, 1129.0, 1438.0, 2521.0, 2862.0, 1423.0, 2477.0, 1248.0, 1444.0, 4900.0, 977.0, 4648.0, 2964.0, 1412.0, 3666.0, 4031.0, 979.0, 2000.0, 8748.0, 1591.0, 1441.0, 3652.0, 4380.0, 3245.0, 3129.0, 2351.0, 3814.0, 2988.0, 4203.0, 2115.0, 1287.0, 2706.0, 334.0, 2807.0, 819.0, 932.0, 2927.0, 1185.0, 1118.0, 2456.0, 2775.0, 3633.0, 3389.0, 1620.0, 9534.0, 3284.0, 721.0, 1135.0, 2509.0, 1952.0, 3292.0, 1619.0, 3006.0, 3163.0, 2655.0, 3003.0, 3972.0, 588.0, 3247.0, 4536.0, 2252.0, 2483.0, 2590.0, 966.0, 4294.0, 903.0, 1701.0, 1980.0, 6068.0, 337.0, 3149.0, 8363.0, 8399.0, 3193.0, 1525.0, 3160.0, 2608.0, 2319.0, 5187.0, 786.0, 1410.0, 1383.0, 1725.0, 1978.0, 1565.0, 1904.0, 3085.0, 927.0, 3138.0, 6940.0, 987.0, 4051.0, 1631.0, 1224.0, 3758.0, 6841.0, 884.0, 2637.0, 2563.0, 3504.0, 1180.0, 1616.0, 1694.0, 1662.0, 1388.0, 1241.0, 2831.0, 2131.0, 598.0, 1959.0, 3221.0, 993.0, 2726.0, 1235.0, 1534.0, 1270.0, 3007.0, 3975.0, 1967.0, 23915.0, 841.0, 897.0, 593.0, 1646.0, 2347.0, 3761.0, 1439.0, 3072.0, 1257.0, 3057.0, 1490.0, 1048.0, 2615.0, 2024.0, 1459.0, 2415.0, 1135.0, 3744.0, 1632.0, 1452.0, 3100.0, 1670.0, 2677.0, 2828.0, 2355.0, 5284.0, 1872.0, 1321.0, 1970.0, 2508.0, 3223.0, 1745.0, 1077.0, 589.0, 2740.0, 981.0, 2727.0, 2275.0, 1028.0, 1227.0, 3442.0, 6529.0, 4573.0, 5166.0, 1381.0, 1143.0, 931.0, 3659.0, 11609.0, 1143.0, 3229.0, 3548.0, 2243.0, 3098.0, 1217.0, 6290.0, 1475.0, 806.0, 2297.0, 4032.0, 1009.0, 1852.0, 2405.0, 1474.0, 1587.0, 2864.0, 2901.0, 1117.0, 1846.0, 584.0, 1382.0, 3239.0, 2829.0, 3148.0, 248.0, 1846.0, 3104.0, 3579.0, 2367.0, 1940.0, 2176.0, 1320.0, 1790.0, 3866.0, 944.0, 2482.0, 1326.0, 2085.0, 1654.0, 5323.0, 581.0, 1368.0, 1116.0, 2456.0, 2867.0, 4183.0, 3567.0, 2149.0, 1128.0, 1665.0, 2010.0, 1877.0, 11999.0, 2407.0, 1687.0, 3580.0, 1779.0, 3931.0, 6601.0, 4349.0, 2756.0, 3230.0, 1868.0, 2925.0, 2650.0, 3767.0, 906.0, 2336.0, 239.0, 1438.0, 4454.0, 2915.0, 2414.0, 6474.0, 1250.0, 2378.0, 3477.0, 5762.0, 3331.0, 1363.0, 1040.0, 1486.0, 935.0, 2237.0, 1637.0, 1786.0, 2328.0, 388.0, 1834.0, 1006.0, 2709.0, 1159.0, 2948.0, 3694.0, 3438.0, 2638.0, 2214.0, 1353.0, 1996.0, 1864.0, 5166.0, 2583.0, 3104.0, 596.0, 1014.0, 1391.0, 175.0, 1519.0, 1727.0, 2652.0, 488.0, 2966.0, 1116.0, 2298.0, 1810.0, 1476.0, 2221.0, 2589.0, 1789.0, 568.0, 2131.0, 1970.0, 921.0, 942.0, 1560.0, 3166.0, 1314.0, 1863.0, 1653.0, 4780.0, 2095.0, 1357.0, 2130.0, 1342.0, 1980.0, 1993.0, 833.0, 1810.0, 1226.0, 3326.0, 2480.0, 361.0, 2168.0, 1788.0, 1392.0, 1366.0, 2509.0, 1693.0, 3229.0, 1989.0, 2401.0, 2857.0, 4430.0, 2050.0, 2949.0, 1555.0, 945.0, 957.0, 1688.0, 7748.0, 4368.0, 3249.0, 1921.0, 6101.0, 2055.0, 177.0, 1156.0, 3471.0, 812.0, 1036.0, 133.0, 5527.0, 2125.0, 4420.0, 695.0, 3118.0, 3104.0, 58.0, 2662.0, 1090.0, 2744.0, 4685.0, 2198.0, 1250.0, 1220.0, 3114.0, 3452.0, 2440.0, 440.0, 2964.0, 1607.0, 1158.0, 5665.0, 2179.0, 2267.0, 3581.0, 2584.0, 2821.0, 2510.0, 2254.0, 2373.0, 4448.0, 1537.0, 2494.0, 1545.0, 1252.0, 1942.0, 3426.0, 5430.0, 2017.0, 3087.0, 2105.0, 4026.0, 2332.0, 4228.0, 9044.0, 4151.0, 857.0, 4402.0, 2250.0, 3309.0, 1194.0, 3047.0, 2112.0, 3047.0, 1675.0, 3047.0, 3752.0, 2394.0, 2277.0, 3977.0, 1932.0, 3745.0, 2324.0, 875.0, 3087.0, 2926.0, 1273.0, 20377.0, 1465.0, 3109.0, 2105.0, 4021.0, 2065.0, 2843.0, 1492.0, 2365.0, 1824.0, 511.0, 769.0, 4227.0, 1797.0, 2800.0, 2772.0, 4499.0, 1558.0, 2016.0, 3894.0, 1651.0, 6365.0, 4272.0, 1723.0, 1558.0, 1087.0, 1737.0, 1531.0, 6842.0, 726.0, 2231.0, 1983.0, 3344.0, 1631.0, 1989.0, 2085.0, 2065.0, 792.0, 2508.0, 1943.0, 1391.0, 2191.0, 788.0, 523.0, 1321.0, 4239.0, 4410.0, 2108.0, 1582.0, 287.0, 830.0, 3043.0, 1802.0, 4775.0, 1582.0, 2017.0, 1934.0, 3078.0, 4192.0, 1587.0, 6526.0, 3661.0, 1815.0, 2284.0, 2144.0, 2028.0, 2959.0, 1404.0, 2956.0, 1792.0, 1108.0, 3900.0, 3031.0, 1910.0, 3223.0, 1176.0, 1520.0, 6224.0, 3407.0, 2147.0, 2605.0, 3634.0, 1405.0, 13802.0, 1522.0, 4148.0, 3522.0, 2515.0, 2270.0, 3811.0, 161.0, 1119.0, 1413.0, 3308.0, 212.0, 3142.0, 3722.0, 1612.0, 1397.0, 1162.0, 3526.0, 3415.0, 1216.0, 253.0, 11016.0, 3013.0, 14291.0, 3638.0, 5468.0, 1869.0, 1652.0, 2129.0, 2715.0, 7991.0, 17579.0, 1621.0, 686.0, 2341.0, 2225.0, 1723.0, 1787.0, 2664.0, 2299.0, 2265.0, 1266.0, 2109.0, 1985.0, 1954.0, 1939.0, 1487.0, 2298.0, 1983.0, 3008.0, 1746.0, 2698.0, 1124.0, 3583.0, 1819.0, 3603.0, 3505.0, 745.0, 3646.0, 1621.0, 2701.0, 2369.0, 2355.0, 7217.0, 4332.0, 11635.0, 5200.0, 1981.0, 3157.0, 1824.0, 2088.0, 3727.0, 2069.0, 1749.0, 3580.0, 3214.0, 14014.0, 2271.0, 1673.0, 4927.0, 1434.0, 2143.0, 963.0, 1948.0, 10236.0, 4201.0, 1629.0, 2899.0, 1653.0, 2695.0, 6572.0, 1249.0, 2852.0, 939.0, 796.0, 1866.0, 4438.0, 1321.0, 2479.0, 2873.0, 3159.0, 2552.0, 479.0, 1943.0, 18448.0, 5284.0, 2527.0, 2261.0, 2837.0, 8527.0, 3424.0, 3789.0, 2337.0, 2074.0, 2272.0, 1684.0, 1885.0, 1671.0, 2283.0, 1547.0, 2862.0, 5640.0, 1610.0, 6306.0, 3369.0, 1112.0, 282.0, 2370.0, 1529.0, 3597.0, 2602.0, 1679.0, 2622.0, 947.0, 2280.0, 1081.0, 2708.0, 3306.0, 3075.0, 607.0, 2127.0, 1406.0, 2506.0, 1718.0, 1643.0, 3011.0, 1642.0, 2304.0, 3051.0, 4186.0, 1371.0, 2384.0, 2901.0, 1765.0, 8185.0, 2081.0, 945.0, 1425.0, 2045.0, 505.0, 525.0, 1721.0, 4061.0, 1268.0, 6819.0, 1671.0, 1855.0, 9153.0, 436.0, 8068.0, 1918.0, 3732.0, 2664.0, 2019.0, 4013.0, 4109.0, 5187.0, 3674.0, 4827.0, 5831.0, 2051.0, 3208.0, 5600.0, 2142.0, 1678.0, 3654.0, 1402.0, 1294.0, 1427.0, 1606.0, 12.0, 1487.0, 22128.0, 1033.0, 2014.0, 6090.0, 3491.0, 2980.0, 470.0, 679.0, 5587.0, 2105.0, 2888.0, 1404.0, 2307.0, 1554.0, 1336.0, 2188.0, 3259.0, 1715.0, 2253.0, 1638.0, 1491.0, 2493.0, 2437.0, 1150.0, 1633.0, 3119.0, 3143.0, 4144.0, 2017.0, 2837.0, 3605.0, 2626.0, 1876.0, 2195.0, 849.0, 1232.0, 1704.0, 3405.0, 1511.0, 4105.0, 4194.0, 5674.0, 2155.0, 1476.0, 1690.0, 4454.0, 1420.0, 1588.0, 2512.0, 37937.0, 2036.0, 2532.0, 7194.0, 2080.0, 201.0, 527.0, 6114.0, 3518.0, 1619.0, 4401.0, 6592.0, 2978.0, 3559.0, 1063.0, 494.0, 13255.0, 409.0, 1067.0, 1950.0, 2761.0, 1280.0, 1855.0, 5861.0, 1547.0, 2809.0, 6964.0, 2969.0, 1550.0, 1064.0, 969.0, 3831.0, 1650.0, 2959.0, 1514.0, 215.0, 1803.0, 1441.0, 1632.0, 1267.0, 1308.0, 1543.0, 2919.0, 4580.0, 2996.0, 3659.0, 3174.0, 1620.0, 6356.0, 1856.0, 1430.0, 793.0, 864.0, 917.0, 900.0, 2228.0, 2582.0, 714.0, 2734.0, 422.0, 2183.0, 1354.0, 1263.0, 906.0, 321.0, 10648.0], \"sizeref\": 500}, \"mode\": \"markers\", \"type\": \"scatter\", \"x\": [6.8407, 2.735, 2.2094, 5.477, 5.1005, 1.4861, 3.1458, 5.0509, 1.8152, 3.3409, 1.3286, 4.7861, 5.4858, 3.8929, 4.3158, 2.3333, 3.43, 4.125, 6.5394, 4.7986, 4.645, 3.2266, 2.8846, 1.9667, 2.2417, 4.21, 2.67, 5.6392, 2.0781, 2.2813, 3.0854, 2.875, 4.226, 3.8906, 3.5556, 2.5737, 3.0788, 5.3269, 5.228, 10.5941, 3.6196, 4.252, 2.5125, 5.4171, 3.052, 15.0001, 3.4219, 2.3305, 2.9621, 4.0217, 2.5025, 4.3646, 2.1458, 3.9732, 1.7574, 5.1966, 4.3194, 3.3272, 1.7, 2.2321, 1.6336, 4.2031, 2.7452, 2.0469, 4.189, 3.0313, 2.875, 1.9647, 2.7955, 3.1667, 3.1201, 3.024, 6.04, 2.7321, 3.4583, 3.7381, 5.5676, 3.9632, 1.9698, 4.485, 3.3125, 3.4133, 2.5852, 3.5719, 3.2738, 2.2206, 2.1848, 2.6579, 5.1675, 3.0134, 5.5983, 5.3638, 3.1975, 3.5714, 3.3611, 1.7301, 1.5278, 3.3173, 6.8588, 4.2895, 3.9659, 3.1838, 2.77, 1.9531, 8.7477, 3.3036, 2.8994, 4.225, 1.7622, 4.8056, 2.0133, 7.8139, 6.6319, 2.0511, 3.0658, 2.119, 2.4688, 2.3846, 2.3947, 3.4871, 2.5197, 3.3438, 2.6696, 1.725, 1.9688, 3.5547, 6.6916, 1.6146, 3.5398, 4.3971, 2.5183, 6.6073, 3.488, 2.4259, 4.5352, 2.1339, 1.3967, 2.895, 3.5395, 4.7083, 3.5606, 15.0001, 2.5577, 2.6, 1.7951, 2.3253, 2.5197, 3.0973, 4.1719, 4.8371, 3.1406, 3.825, 2.4432, 6.1426, 3.4231, 7.6685, 8.0069, 2.8654, 4.3438, 4.9688, 2.5562, 4.15, 4.8125, 7.7201, 5.3041, 3.1827, 3.9855, 4.2437, 2.5033, 5.3015, 4.625, 7.001, 5.9357, 5.726, 3.2331, 2.425, 2.56, 4.0658, 4.5625, 3.2569, 3.2862, 3.4914, 3.5167, 4.0469, 3.8171, 2.6172, 0.8131, 7.2211, 1.2132, 6.3721, 3.3239, 4.9312, 2.7125, 3.7813, 5.9849, 2.5568, 5.5, 4.1064, 1.9853, 1.7303, 3.9, 4.625, 3.2976, 3.11, 4.25, 4.0556, 1.51, 3.2643, 2.8167, 0.4999, 5.3886, 4.2917, 2.2321, 1.3462, 2.6694, 4.2727, 6.9772, 3.9825, 4.4562, 3.4792, 3.1406, 3.1875, 2.4464, 2.5667, 2.2361, 3.0568, 2.125, 5.0201, 2.375, 3.6615, 6.0362, 3.0042, 4.6875, 3.1906, 3.3375, 1.7572, 5.4067, 2.9357, 6.203, 2.8828, 2.1845, 1.4861, 8.7015, 4.7679, 3.8292, 6.2089, 5.0162, 2.9327, 2.4844, 3.7014, 5.1039, 4.7981, 6.7546, 2.7857, 2.2687, 3.875, 5.0596, 2.5238, 3.5313, 2.3816, 7.0001, 4.5402, 4.8167, 1.8238, 3.1875, 7.6144, 4.1165, 2.1979, 2.0114, 4.0187, 3.65, 5.6038, 5.0, 4.1731, 4.3693, 2.825, 5.6677, 3.0354, 3.9227, 2.5417, 3.3125, 4.1544, 6.9635, 6.112, 3.7614, 2.6951, 6.7079, 2.7813, 4.9879, 2.5762, 5.1002, 2.8445, 3.4954, 6.6659, 3.15, 3.994, 2.3179, 2.2875, 10.9506, 1.7961, 6.8492, 5.246, 2.7909, 6.0238, 3.1711, 4.7171, 1.9946, 2.1094, 3.0625, 7.8588, 5.6327, 5.1824, 7.5385, 2.515, 3.1618, 5.0867, 1.7016, 4.1523, 4.9239, 3.22, 11.8603, 2.6417, 5.0824, 1.625, 2.7656, 7.52, 3.006, 4.4663, 3.3929, 3.8056, 3.1312, 6.6447, 2.5898, 2.6406, 5.5218, 3.2578, 8.6718, 3.0379, 3.8409, 2.6964, 5.3727, 4.3077, 6.2899, 1.7679, 1.0208, 3.9722, 4.0417, 1.9417, 5.4903, 2.5863, 4.2989, 4.6354, 1.9956, 1.0208, 4.75, 5.6445, 3.4286, 2.5, 5.1589, 4.8017, 2.0242, 2.4196, 2.6652, 6.128, 2.1833, 6.1388, 2.0136, 2.75, 6.6458, 3.3295, 5.7415, 3.1591, 3.1691, 4.0208, 3.1458, 3.0526, 2.4219, 4.1, 4.125, 2.0192, 10.3591, 3.9722, 7.732, 2.5592, 4.1898, 1.8229, 11.6017, 3.2, 2.5401, 2.9324, 2.2287, 5.5843, 3.4115, 9.5221, 2.1793, 4.6167, 2.2234, 4.1169, 7.3719, 3.0, 1.9704, 4.0, 1.3125, 2.8793, 2.875, 2.5224, 1.5833, 7.8195, 3.1103, 2.0375, 2.8025, 2.6048, 2.9861, 1.6488, 4.0893, 3.765, 7.2893, 3.7383, 2.9871, 1.8818, 3.776, 2.6522, 3.0441, 3.9107, 2.1164, 3.6641, 3.3333, 5.759, 6.6343, 2.9531, 2.4117, 8.0073, 2.4942, 2.0458, 4.0223, 4.5, 2.3952, 4.0524, 2.5893, 1.3444, 10.2264, 1.8704, 2.7042, 3.5051, 5.3209, 4.0776, 2.2679, 3.3636, 3.52, 4.2733, 2.7727, 10.0346, 2.0984, 2.2115, 6.7867, 1.7143, 2.3421, 5.7476, 4.375, 3.623, 3.9777, 2.793, 6.5989, 2.6495, 3.5682, 2.875, 5.0772, 2.706, 3.1528, 2.9469, 2.8237, 2.3611, 3.5114, 2.6493, 2.8043, 2.8438, 12.542, 4.5833, 1.9152, 2.2244, 3.0568, 2.662, 2.2321, 2.069, 5.021, 4.25, 1.7257, 3.2303, 5.5959, 1.2412, 3.5022, 1.125, 5.4273, 4.2679, 2.7535, 2.0724, 3.3621, 5.3311, 2.943, 2.2232, 6.3699, 3.8, 3.0938, 3.6726, 3.4583, 3.88, 4.625, 4.0625, 1.9306, 3.6894, 8.2961, 3.117, 6.195, 4.1333, 3.1176, 6.0762, 4.7437, 3.125, 7.3522, 5.1508, 2.6523, 2.0272, 3.071, 1.6277, 3.37, 3.5313, 3.5625, 1.8897, 3.3472, 4.125, 3.9375, 4.4565, 6.4664, 4.0484, 1.7375, 5.0917, 3.023, 6.4271, 4.8929, 2.0337, 6.7694, 2.4667, 3.6023, 4.1807, 2.6375, 3.7262, 1.6483, 4.0332, 2.3284, 2.2899, 3.875, 2.3011, 7.6933, 5.5779, 3.1905, 5.4555, 7.6202, 2.0348, 4.1859, 1.6667, 3.5583, 6.0436, 2.6513, 2.3029, 1.9385, 3.975, 2.3768, 3.95, 6.1007, 4.0167, 3.5486, 6.868, 3.6875, 2.6458, 1.8426, 1.7427, 3.5272, 3.4811, 2.6439, 8.2827, 1.8929, 2.6561, 2.5417, 6.1509, 5.4618, 2.4848, 4.6477, 2.2672, 3.2159, 3.9375, 6.9081, 2.9567, 1.7301, 2.9485, 2.1607, 4.2218, 6.0767, 5.0956, 1.7675, 6.3974, 1.7969, 3.8068, 2.9509, 5.1708, 0.8991, 4.5185, 3.0078, 3.462, 5.5791, 2.6932, 2.2466, 3.825, 4.8958, 5.1333, 3.1979, 3.9762, 4.7009, 4.2222, 2.9167, 2.2361, 4.2578, 4.8359, 4.3636, 2.2619, 4.071, 3.5417, 6.204, 0.7403, 1.6838, 1.6731, 1.767, 2.7717, 2.1782, 2.9871, 4.3152, 1.6318, 3.6167, 5.5085, 6.3501, 1.3571, 4.2589, 6.1551, 2.125, 2.6643, 6.2788, 3.125, 2.9194, 5.8382, 5.0346, 4.1964, 4.1296, 4.6694, 2.4519, 4.9135, 3.025, 4.9079, 4.8497, 3.2317, 1.3177, 6.7851, 1.7067, 5.6818, 3.8917, 2.5547, 4.369, 5.8322, 1.0467, 2.425, 10.1248, 3.9018, 2.1927, 15.0001, 6.9903, 4.4722, 3.5174, 4.1742, 4.0642, 4.8523, 2.1513, 4.9643, 2.6667, 1.725, 8.4375, 2.2375, 4.4074, 3.7813, 3.8542, 7.9135, 7.6917, 3.2112, 1.8042, 3.3926, 2.4526, 1.6029, 4.2614, 2.6098, 2.105, 3.5517, 1.7941, 6.2083, 2.4482, 3.0529, 5.8548, 5.2608, 1.2056, 7.8426, 6.0433, 3.0132, 4.0189, 2.378, 5.1698, 2.8304, 4.0313, 1.6789, 2.2042, 3.5167, 3.2404, 2.7266, 2.0285, 6.9695, 1.8209, 2.8971, 7.5443, 3.968, 3.6343, 4.1865, 1.7273, 3.2596, 5.9191, 5.0874, 5.3989, 3.6979, 6.6603, 7.9794, 2.5, 4.0775, 5.4889, 3.5865, 4.8711, 2.7656, 3.3491, 3.1972, 7.1088, 6.0116, 2.99, 6.3197, 4.6719, 2.0729, 2.6, 6.0501, 2.3, 3.7404, 1.9427, 4.8316, 5.6349, 1.9125, 3.3567, 1.1108, 1.1563, 7.2419, 3.6875, 3.9607, 1.87, 3.7083, 5.0156, 1.6111, 4.6357, 3.0179, 6.1288, 1.4779, 2.3798, 5.3096, 3.4598, 2.1071, 2.8929, 4.6591, 6.8429, 1.4937, 3.625, 4.1339, 2.4632, 5.0081, 6.1599, 2.5521, 2.3079, 3.2125, 4.6908, 4.3333, 2.788, 4.3889, 5.6013, 3.4551, 4.0717, 3.725, 1.85, 3.2083, 7.1035, 6.5964, 1.5611, 2.6316, 1.775, 4.5368, 1.8, 3.5078, 4.0652, 6.0086, 3.8036, 3.1985, 5.6754, 5.7704, 8.3609, 2.3382, 3.8333, 3.1667, 4.2716, 5.0012, 5.3184, 6.3842, 2.947, 3.2105, 5.7613, 5.0445, 6.7371, 3.0904, 2.3654, 3.5192, 2.7321, 1.8462, 5.3526, 5.2155, 4.0521, 1.9821, 2.3571, 2.1366, 2.6319, 3.9187, 1.8235, 6.0957, 3.2426, 10.3587, 2.8788, 2.1413, 2.6833, 2.6667, 3.4038, 4.8295, 3.1389, 3.707, 11.7064, 3.5437, 4.3281, 3.4808, 6.1572, 2.6667, 3.4886, 3.1403, 5.6762, 2.4, 8.3617, 3.425, 1.5954, 2.4286, 3.2216, 5.3733, 3.875, 2.1771, 6.5764, 3.9815, 6.8197, 4.8405, 3.0513, 2.4943, 5.4065, 2.4414, 3.9722, 3.512, 6.9014, 5.5872, 6.5308, 4.3833, 2.5865, 3.4432, 6.8787, 10.3942, 3.5129, 1.4028, 2.2188, 4.57, 7.9627, 4.8403, 5.0353, 4.0417, 3.625, 6.8634, 3.0723, 1.6148, 3.0804, 2.5395, 3.3988, 1.8287, 1.7538, 2.489, 5.7239, 3.25, 6.1359, 2.8322, 3.2386, 4.6366, 2.7232, 4.7098, 3.6492, 3.9914, 4.0071, 6.8145, 2.4359, 3.6611, 4.2361, 5.979, 2.5417, 3.6429, 3.0221, 1.6554, 4.1944, 9.7066, 2.9886, 4.1083, 7.5898, 6.0774, 4.6442, 1.625, 2.212, 5.0123, 3.5179, 1.97, 5.2519, 5.592, 1.8167, 3.2404, 4.4853, 1.9224, 3.8594, 3.8516, 7.9367, 2.575, 3.2465, 1.9727, 3.7431, 3.6563, 2.0819, 2.3664, 2.9231, 1.4856, 3.7258, 6.8198, 3.8529, 3.9375, 3.1441, 1.6705, 3.7734, 5.4863, 3.3713, 4.7344, 4.0625, 6.0704, 3.6923, 3.8646, 4.1603, 3.5139, 1.8095, 5.6965, 3.5603, 4.9615, 3.375, 5.6266, 3.2344, 3.7857, 5.305, 3.8667, 3.5393, 2.3406, 3.125, 2.3382, 2.3611, 2.6014, 4.8083, 2.7891, 5.8343, 3.5625, 2.6485, 5.8186, 4.6375, 3.2788, 6.0, 13.4196, 3.375, 6.0162, 2.1518, 4.2639, 4.5458, 3.755, 3.0625, 1.825, 6.244, 2.8135, 2.8281, 5.1831, 3.8105, 1.7158, 2.6842, 3.0542, 3.4839, 3.6, 5.041, 3.2841, 2.5481, 5.1238, 5.6856, 3.0685, 7.8904, 1.5313, 4.0313, 4.4643, 3.5893, 3.6635, 4.4911, 2.9112, 1.9219, 4.9118, 4.4125, 5.5918, 3.1932, 4.3081, 3.6348, 3.1912, 5.0086, 3.8565, 2.8458, 3.8372, 3.2396, 3.4883, 2.5737, 5.3008, 1.6722, 4.58, 9.8937, 2.5321, 2.5208, 2.6161, 3.662, 3.1546, 1.722, 0.9288, 1.8689, 4.2014, 2.4375, 3.3086, 2.0363, 6.0235, 4.3088, 5.1663, 3.2917, 3.09, 1.7155, 2.0879, 2.8913, 2.3611, 2.25, 4.7356, 3.455, 6.3434, 5.2016, 5.516, 4.0043, 5.2732, 1.5553, 5.6482, 2.5495, 1.9829, 7.0352, 2.6934, 2.0224, 1.9875, 2.6354, 5.4132, 3.2375, 5.4165, 5.9845, 5.8305, 4.5382, 6.8406, 1.2679, 3.7318, 0.7445, 2.6786, 3.0192, 3.184, 5.5362, 5.0603, 2.2794, 4.0062, 2.4278, 2.9406, 4.0775, 2.825, 0.8738, 6.3824, 3.1641, 6.0286, 2.3355, 2.4537, 5.0532, 4.7381, 4.9688, 4.4306, 2.0833, 2.7231, 2.5104, 1.9091, 4.8929, 4.6, 1.7402, 6.348, 4.1806, 3.7463, 4.9013, 4.3333, 2.7788, 7.3732, 5.8325, 4.0938, 2.3333, 2.2019, 5.9541, 3.7321, 4.1974, 5.5519, 4.2917, 3.6037, 5.0941, 5.8642, 3.3389, 3.2663, 3.5912, 5.5926, 5.5551, 1.0, 2.5903, 2.3578, 1.7694, 6.0622, 6.2924, 3.6027, 2.1806, 8.7397, 4.6528, 5.7812, 4.0125, 4.0288, 1.4732, 3.703, 3.4559, 9.1232, 3.3304, 5.7248, 1.7052, 3.5125, 1.8973, 4.6042, 5.4741, 4.084, 5.0594, 0.8106, 3.0208, 2.64, 3.3562, 3.75, 5.069, 2.5122, 1.975, 9.802, 2.3099, 4.1071, 3.6125, 3.6705, 3.2292, 5.5291, 6.7123, 3.371, 2.25, 1.2222, 1.8984, 3.9745, 3.4919, 4.0229, 4.3667, 2.6765, 7.629, 2.2437, 3.3269, 2.9883, 1.8208, 2.8827, 4.0417, 4.7547, 2.6964, 3.8125, 2.567, 2.3365, 5.1048, 3.5625, 4.5066, 3.15, 4.0469, 5.2595, 6.0824, 2.2599, 1.3302, 2.7325, 4.4375, 4.4423, 2.2898, 3.0313, 4.747, 4.8839, 2.4663, 6.1049, 1.78, 2.8569, 5.2987, 2.6033, 4.194, 1.7196, 0.8964, 1.8295, 5.1072, 3.7312, 4.7308, 5.0709, 2.4805, 8.1839, 1.525, 1.1296, 7.7876, 4.7332, 3.0465, 2.465, 2.3798, 6.2242, 4.121, 4.39, 3.145, 4.8382, 1.7031, 4.1389, 2.1607, 2.5164, 2.3774, 2.5488, 2.1151, 5.065, 1.8661, 4.642, 4.0474, 4.7679, 2.4375, 5.0201, 3.325, 5.3963, 2.0469, 2.8167, 4.0474, 3.4125, 1.9392, 1.9219, 3.7891, 3.0919, 5.2528, 1.5625, 2.7348, 4.7143, 3.135, 2.7014, 5.4446, 5.1534, 5.2088, 4.652, 3.1118, 4.9917, 5.0795, 2.3062, 3.1106, 5.0118, 4.1667, 3.7917, 3.7569, 5.057, 3.5214, 1.3696, 2.6964, 10.1768, 7.1572, 5.0605, 4.6225, 2.16, 2.2429, 4.955, 8.6196, 5.7907, 7.5755, 2.5658, 3.6354, 3.1964, 3.3689, 3.2396, 4.4551, 8.176, 6.1181, 3.1483, 7.6059, 3.8162, 5.0346, 4.0379, 2.0801, 6.2748, 2.25, 2.2554, 1.4241, 6.0661, 0.4999, 1.4639, 6.1287, 2.8173, 1.5515, 2.8061, 2.2241, 11.2185, 2.0368, 4.2344, 4.1711, 3.375, 1.7716, 4.2062, 3.1326, 2.0185, 5.5789, 2.1419, 3.2708, 2.2417, 4.2562, 13.0502, 1.6395, 3.765, 5.7117, 2.5192, 3.0405, 3.0806, 4.6957, 2.5172, 4.1591, 4.9271, 4.9, 3.125, 2.925, 6.884, 5.0362, 6.9682, 4.4239, 2.7813, 1.4103, 5.844, 4.2227, 8.3996, 3.8438, 3.1929, 2.0213, 4.5615, 1.9338, 2.8208, 4.2386, 7.4947, 5.4122, 2.875, 3.1887, 4.2875, 2.025, 1.7708, 5.2533, 3.6212, 2.1625, 2.6942, 3.0347, 1.5064, 4.0585, 2.1719, 4.8194, 6.314, 3.4643, 4.0368, 4.1449, 1.6875, 1.6023, 2.5509, 2.5158, 2.0562, 4.5606, 5.2898, 3.4338, 2.3147, 2.875, 3.267, 2.4375, 1.5357, 9.9025, 3.6042, 1.75, 10.9508, 2.1793, 2.3173, 5.2405, 3.2151, 6.4385, 2.4003, 4.7926, 4.3438, 3.6202, 4.5347, 1.8857, 4.7325, 4.0357, 9.532, 2.8837, 4.8984, 5.8133, 3.25, 2.6, 3.5694, 4.5052, 7.9213, 3.0625, 1.6902, 3.8056, 1.9957, 1.8365, 2.8056, 6.1047], \"y\": [266700.0, 170800.0, 75000.0, 209100.0, 266700.0, 95100.0, 187700.0, 184800.0, 94300.0, 256300.0, 81800.0, 210700.0, 187800.0, 144600.0, 500001.0, 133300.0, 292900.0, 349000.0, 272000.0, 236500.0, 276200.0, 141800.0, 211300.0, 84600.0, 97900.0, 167900.0, 187500.0, 271500.0, 74800.0, 145600.0, 248700.0, 120200.0, 275000.0, 282200.0, 238000.0, 76900.0, 100000.0, 375000.0, 187800.0, 245800.0, 152800.0, 436700.0, 184500.0, 292000.0, 209800.0, 500001.0, 92800.0, 162500.0, 175000.0, 272400.0, 101900.0, 185900.0, 130300.0, 188400.0, 51700.0, 325400.0, 197000.0, 65600.0, 350000.0, 71800.0, 124500.0, 394400.0, 98100.0, 66900.0, 143000.0, 103600.0, 164000.0, 186200.0, 157500.0, 186900.0, 176100.0, 100900.0, 243000.0, 76500.0, 112700.0, 290600.0, 174200.0, 240000.0, 112300.0, 179400.0, 150000.0, 290900.0, 185100.0, 500001.0, 78700.0, 63400.0, 97900.0, 156800.0, 270600.0, 55500.0, 233300.0, 206300.0, 252400.0, 84600.0, 117600.0, 125000.0, 145800.0, 247400.0, 302000.0, 186800.0, 111800.0, 245800.0, 68400.0, 162500.0, 500001.0, 141000.0, 66000.0, 127600.0, 205800.0, 345700.0, 145800.0, 304700.0, 269600.0, 350000.0, 65000.0, 133100.0, 126800.0, 500001.0, 81900.0, 136400.0, 225600.0, 135600.0, 121200.0, 57500.0, 173900.0, 122400.0, 329500.0, 53100.0, 158400.0, 238900.0, 293300.0, 258100.0, 191800.0, 164600.0, 374200.0, 78500.0, 46500.0, 146900.0, 127900.0, 213300.0, 165100.0, 500001.0, 202300.0, 132600.0, 161800.0, 133700.0, 82300.0, 251900.0, 187000.0, 160600.0, 417600.0, 96400.0, 187500.0, 450700.0, 123800.0, 474300.0, 426800.0, 280000.0, 189800.0, 135600.0, 371400.0, 265000.0, 173900.0, 362700.0, 235700.0, 71700.0, 191900.0, 164100.0, 131900.0, 254900.0, 282200.0, 286800.0, 207400.0, 287800.0, 226700.0, 255000.0, 273100.0, 165100.0, 275200.0, 201500.0, 152300.0, 153900.0, 137500.0, 162400.0, 187200.0, 88500.0, 275000.0, 171700.0, 30000.0, 241500.0, 350000.0, 240200.0, 166100.0, 389200.0, 371000.0, 258300.0, 222000.0, 246100.0, 101100.0, 74000.0, 146900.0, 248800.0, 102600.0, 185700.0, 207500.0, 146900.0, 187500.0, 163900.0, 96100.0, 500001.0, 331900.0, 161200.0, 34600.0, 55900.0, 75900.0, 246900.0, 383300.0, 180500.0, 206200.0, 94600.0, 163100.0, 173100.0, 102100.0, 239300.0, 105100.0, 85600.0, 120200.0, 154400.0, 160800.0, 105100.0, 463500.0, 103900.0, 218200.0, 76200.0, 154300.0, 53300.0, 277500.0, 107900.0, 346800.0, 131100.0, 123800.0, 63100.0, 390900.0, 153900.0, 177000.0, 261800.0, 283100.0, 240200.0, 77000.0, 179600.0, 273800.0, 170800.0, 402400.0, 110300.0, 200000.0, 342900.0, 363900.0, 169300.0, 148700.0, 116000.0, 500001.0, 182100.0, 163300.0, 237500.0, 110200.0, 376200.0, 164900.0, 95300.0, 104900.0, 235600.0, 119400.0, 451300.0, 357900.0, 205100.0, 423300.0, 276700.0, 220700.0, 113700.0, 208600.0, 217500.0, 159100.0, 119400.0, 417300.0, 390600.0, 176000.0, 169300.0, 250800.0, 124100.0, 229400.0, 173400.0, 319400.0, 242100.0, 159500.0, 500001.0, 87500.0, 195300.0, 57500.0, 79900.0, 475800.0, 47500.0, 332200.0, 161400.0, 250000.0, 500001.0, 104200.0, 237900.0, 119200.0, 73800.0, 268800.0, 454800.0, 500001.0, 500001.0, 350000.0, 110800.0, 154200.0, 500001.0, 160000.0, 252000.0, 168800.0, 156500.0, 500001.0, 98900.0, 230900.0, 88300.0, 239500.0, 370200.0, 227900.0, 183900.0, 93800.0, 177200.0, 247600.0, 416800.0, 176000.0, 156700.0, 254400.0, 85200.0, 439100.0, 249300.0, 291400.0, 122200.0, 360900.0, 140600.0, 275000.0, 450000.0, 78600.0, 290900.0, 114500.0, 76100.0, 151400.0, 98300.0, 364700.0, 179200.0, 58000.0, 86400.0, 161900.0, 135500.0, 71400.0, 64100.0, 167800.0, 273800.0, 94600.0, 275000.0, 164800.0, 248200.0, 49500.0, 302400.0, 94100.0, 327300.0, 285500.0, 500001.0, 321900.0, 148300.0, 159400.0, 32500.0, 270500.0, 216400.0, 90600.0, 243100.0, 185800.0, 171300.0, 500001.0, 127800.0, 173200.0, 75900.0, 359100.0, 137500.0, 392600.0, 157100.0, 125400.0, 137500.0, 140000.0, 384600.0, 184800.0, 500001.0, 71500.0, 144000.0, 181300.0, 362600.0, 337400.0, 146700.0, 152100.0, 264000.0, 87500.0, 118100.0, 87500.0, 119200.0, 56700.0, 390500.0, 143500.0, 122500.0, 84300.0, 148200.0, 171800.0, 117500.0, 215700.0, 164800.0, 293500.0, 166200.0, 193800.0, 100000.0, 164500.0, 65900.0, 193800.0, 186500.0, 139400.0, 386100.0, 115100.0, 425000.0, 500001.0, 104000.0, 162500.0, 500001.0, 186300.0, 105700.0, 146000.0, 266900.0, 78400.0, 213900.0, 63600.0, 125000.0, 225000.0, 88500.0, 286600.0, 232400.0, 185000.0, 196000.0, 153900.0, 257700.0, 187300.0, 180700.0, 128600.0, 500001.0, 158000.0, 75000.0, 273700.0, 113300.0, 154200.0, 248600.0, 166500.0, 276600.0, 409800.0, 76500.0, 500001.0, 116200.0, 500001.0, 98900.0, 221500.0, 64800.0, 113700.0, 216100.0, 110700.0, 87900.0, 347500.0, 67500.0, 262100.0, 139300.0, 500001.0, 500001.0, 128100.0, 98100.0, 190300.0, 92400.0, 237500.0, 84600.0, 252200.0, 166700.0, 179100.0, 131800.0, 346200.0, 216700.0, 281300.0, 225000.0, 421000.0, 131900.0, 111000.0, 107600.0, 377200.0, 270800.0, 341700.0, 162500.0, 235500.0, 222500.0, 312500.0, 154600.0, 166300.0, 281100.0, 245700.0, 138700.0, 47500.0, 418800.0, 500001.0, 164600.0, 264900.0, 158200.0, 396300.0, 487800.0, 331000.0, 85600.0, 363800.0, 367300.0, 76300.0, 92700.0, 151600.0, 140600.0, 159100.0, 117800.0, 208600.0, 174300.0, 154200.0, 226500.0, 269200.0, 159000.0, 278300.0, 262500.0, 350000.0, 262500.0, 142000.0, 451700.0, 234900.0, 146700.0, 369700.0, 80700.0, 161800.0, 182600.0, 233800.0, 211800.0, 60800.0, 128300.0, 290600.0, 159000.0, 165100.0, 57500.0, 405900.0, 234800.0, 235300.0, 395100.0, 402600.0, 177200.0, 150000.0, 78800.0, 170800.0, 473000.0, 72300.0, 148800.0, 123200.0, 162400.0, 95300.0, 164000.0, 340900.0, 189600.0, 193800.0, 337300.0, 121900.0, 112500.0, 94800.0, 60600.0, 213700.0, 300500.0, 69100.0, 451400.0, 196900.0, 144400.0, 418200.0, 315100.0, 147800.0, 54000.0, 150400.0, 91100.0, 92800.0, 148700.0, 368700.0, 425000.0, 202300.0, 112500.0, 96100.0, 200500.0, 216400.0, 246000.0, 61300.0, 410000.0, 72800.0, 150400.0, 114800.0, 418800.0, 78900.0, 142500.0, 160400.0, 151900.0, 433300.0, 66400.0, 66800.0, 235400.0, 333600.0, 207200.0, 161800.0, 138500.0, 500001.0, 108900.0, 104200.0, 93800.0, 183300.0, 195700.0, 201800.0, 123500.0, 137400.0, 177100.0, 201800.0, 68600.0, 57900.0, 95800.0, 63300.0, 500000.0, 58400.0, 380000.0, 159300.0, 117700.0, 200000.0, 223300.0, 350000.0, 59000.0, 134900.0, 291800.0, 61200.0, 81000.0, 322200.0, 92800.0, 162000.0, 330200.0, 174600.0, 202000.0, 322900.0, 158200.0, 98100.0, 368100.0, 90600.0, 273800.0, 184400.0, 184800.0, 74300.0, 323500.0, 118600.0, 338900.0, 120800.0, 108900.0, 121100.0, 276600.0, 70100.0, 171700.0, 428500.0, 182300.0, 253300.0, 500001.0, 141200.0, 215600.0, 268000.0, 159900.0, 272500.0, 175800.0, 145000.0, 335000.0, 172400.0, 59300.0, 500001.0, 102900.0, 277300.0, 192200.0, 198500.0, 496400.0, 401800.0, 204500.0, 109200.0, 103400.0, 182900.0, 89700.0, 211300.0, 146100.0, 316700.0, 291500.0, 110300.0, 242700.0, 103000.0, 265800.0, 500001.0, 151400.0, 87500.0, 500001.0, 435900.0, 272900.0, 302900.0, 199600.0, 188000.0, 143700.0, 209100.0, 95500.0, 231300.0, 130900.0, 225000.0, 354200.0, 106300.0, 360400.0, 500001.0, 186100.0, 348400.0, 102100.0, 95400.0, 154300.0, 137500.0, 272400.0, 151900.0, 368500.0, 335600.0, 99600.0, 380400.0, 426100.0, 96200.0, 164500.0, 232300.0, 112000.0, 286600.0, 130000.0, 181800.0, 151500.0, 443300.0, 271200.0, 69400.0, 340100.0, 337000.0, 84700.0, 313600.0, 254200.0, 120800.0, 247700.0, 102200.0, 237300.0, 355600.0, 57900.0, 129100.0, 97500.0, 82700.0, 410400.0, 492300.0, 132500.0, 170800.0, 166000.0, 500001.0, 54300.0, 244900.0, 149300.0, 350000.0, 66000.0, 83800.0, 209900.0, 74600.0, 73500.0, 115600.0, 247200.0, 372600.0, 54700.0, 125000.0, 238200.0, 156900.0, 298100.0, 341200.0, 113100.0, 95300.0, 455000.0, 186600.0, 261300.0, 150500.0, 378000.0, 350200.0, 121400.0, 126500.0, 84700.0, 71800.0, 122800.0, 228700.0, 358800.0, 44400.0, 252800.0, 63400.0, 168800.0, 60400.0, 109000.0, 421300.0, 166900.0, 158200.0, 106300.0, 298500.0, 500001.0, 500001.0, 89400.0, 116100.0, 158000.0, 250800.0, 106300.0, 171100.0, 307100.0, 87100.0, 90300.0, 235800.0, 196200.0, 267400.0, 158600.0, 137500.0, 144000.0, 92600.0, 55800.0, 129800.0, 248300.0, 166700.0, 98300.0, 113400.0, 101900.0, 97700.0, 311900.0, 275000.0, 405400.0, 236900.0, 500001.0, 85500.0, 96900.0, 240900.0, 128000.0, 100500.0, 319000.0, 101100.0, 180400.0, 500001.0, 115800.0, 220000.0, 206900.0, 344000.0, 86600.0, 173900.0, 153000.0, 271300.0, 255000.0, 433800.0, 163200.0, 187500.0, 68100.0, 98100.0, 302600.0, 183900.0, 39200.0, 349000.0, 142600.0, 363600.0, 354300.0, 148100.0, 81900.0, 243800.0, 71900.0, 354100.0, 174800.0, 439000.0, 200600.0, 287800.0, 307600.0, 133800.0, 106700.0, 386800.0, 500001.0, 101200.0, 105400.0, 306700.0, 189900.0, 345400.0, 268600.0, 305800.0, 265300.0, 253100.0, 276500.0, 137300.0, 86600.0, 313400.0, 139200.0, 147800.0, 146900.0, 90300.0, 119100.0, 430600.0, 99600.0, 106300.0, 170300.0, 112500.0, 395500.0, 123200.0, 287900.0, 158900.0, 120500.0, 244700.0, 339200.0, 123700.0, 344200.0, 177500.0, 285200.0, 178300.0, 332600.0, 214300.0, 119400.0, 149500.0, 182500.0, 170800.0, 210700.0, 330200.0, 334400.0, 316800.0, 237500.0, 132000.0, 165700.0, 165500.0, 51900.0, 376600.0, 239900.0, 79500.0, 230400.0, 145900.0, 94000.0, 90800.0, 206900.0, 500001.0, 73600.0, 277400.0, 114100.0, 132800.0, 344700.0, 111800.0, 192200.0, 45000.0, 86400.0, 181900.0, 493800.0, 350000.0, 450000.0, 176300.0, 350000.0, 63800.0, 153800.0, 238400.0, 346900.0, 141700.0, 173400.0, 159700.0, 257100.0, 160500.0, 211700.0, 64100.0, 261100.0, 210000.0, 228000.0, 169600.0, 320500.0, 245500.0, 231600.0, 311200.0, 127000.0, 88000.0, 122600.0, 80800.0, 103000.0, 131300.0, 320600.0, 347700.0, 73500.0, 500001.0, 235000.0, 114500.0, 281100.0, 359100.0, 101600.0, 209400.0, 500001.0, 106300.0, 318500.0, 152800.0, 154200.0, 208200.0, 398300.0, 208800.0, 81500.0, 240000.0, 260300.0, 60200.0, 350000.0, 87600.0, 94300.0, 156300.0, 142100.0, 180600.0, 307400.0, 397600.0, 167000.0, 150800.0, 335100.0, 138100.0, 181800.0, 468800.0, 50300.0, 385300.0, 308100.0, 146400.0, 282100.0, 227400.0, 199100.0, 107000.0, 217300.0, 246000.0, 260500.0, 123400.0, 227300.0, 164500.0, 159900.0, 366700.0, 239800.0, 350000.0, 129300.0, 101900.0, 337200.0, 87000.0, 186500.0, 59100.0, 236200.0, 500001.0, 105100.0, 99100.0, 132500.0, 211900.0, 261200.0, 150000.0, 36600.0, 66800.0, 143200.0, 122900.0, 138100.0, 53500.0, 413500.0, 152500.0, 241200.0, 111500.0, 174100.0, 108800.0, 120700.0, 60900.0, 156800.0, 84200.0, 195900.0, 137500.0, 373600.0, 243000.0, 185100.0, 133500.0, 209700.0, 70000.0, 294800.0, 103600.0, 82800.0, 299600.0, 160200.0, 64900.0, 56400.0, 128100.0, 216600.0, 450000.0, 435100.0, 241700.0, 245600.0, 165700.0, 500001.0, 56700.0, 327700.0, 112500.0, 191100.0, 184300.0, 220000.0, 195600.0, 185700.0, 337500.0, 153800.0, 167700.0, 73000.0, 241400.0, 168600.0, 75000.0, 500001.0, 158600.0, 356000.0, 118800.0, 91500.0, 310900.0, 347400.0, 163200.0, 159100.0, 94300.0, 250000.0, 185000.0, 71300.0, 212500.0, 239500.0, 79400.0, 500001.0, 263800.0, 427600.0, 330100.0, 149500.0, 115700.0, 287300.0, 298900.0, 126900.0, 364700.0, 100000.0, 500001.0, 351100.0, 179300.0, 329500.0, 227900.0, 187500.0, 143700.0, 363500.0, 187100.0, 337500.0, 284900.0, 300900.0, 142500.0, 187500.0, 125000.0, 166700.0, 73900.0, 390000.0, 232500.0, 211900.0, 67200.0, 500001.0, 244400.0, 275000.0, 84400.0, 184000.0, 156300.0, 361300.0, 111900.0, 472000.0, 194600.0, 398800.0, 107400.0, 155600.0, 51600.0, 357300.0, 238800.0, 194500.0, 346000.0, 83300.0, 112700.0, 112100.0, 169200.0, 163800.0, 264200.0, 95500.0, 134000.0, 500001.0, 89600.0, 240900.0, 170800.0, 275000.0, 86100.0, 274600.0, 354600.0, 165000.0, 123500.0, 107200.0, 54300.0, 170800.0, 271800.0, 363100.0, 500001.0, 88800.0, 500001.0, 54200.0, 81900.0, 296100.0, 79500.0, 166700.0, 146400.0, 157600.0, 107000.0, 97400.0, 70400.0, 69600.0, 500001.0, 125700.0, 149800.0, 72200.0, 166800.0, 110900.0, 273500.0, 157600.0, 62200.0, 162900.0, 244900.0, 216000.0, 66100.0, 219100.0, 261100.0, 134100.0, 236500.0, 297200.0, 162500.0, 372200.0, 203400.0, 121600.0, 293900.0, 75000.0, 59200.0, 243800.0, 479700.0, 159600.0, 236200.0, 176400.0, 73200.0, 367000.0, 210000.0, 93800.0, 348900.0, 289900.0, 274200.0, 198700.0, 118800.0, 237900.0, 182100.0, 270100.0, 169100.0, 294900.0, 195000.0, 174100.0, 61400.0, 178100.0, 74300.0, 187500.0, 96700.0, 215400.0, 59800.0, 457300.0, 182100.0, 169500.0, 225000.0, 264100.0, 178200.0, 500001.0, 234500.0, 160400.0, 379700.0, 160700.0, 142900.0, 165100.0, 117700.0, 185400.0, 269400.0, 47500.0, 231300.0, 219300.0, 231400.0, 133700.0, 336700.0, 232800.0, 231400.0, 387100.0, 238100.0, 248100.0, 243300.0, 158000.0, 209400.0, 165300.0, 197700.0, 160600.0, 127100.0, 246300.0, 197600.0, 275000.0, 125000.0, 500001.0, 294900.0, 216200.0, 226500.0, 56800.0, 150000.0, 241500.0, 500001.0, 264200.0, 402300.0, 208000.0, 256300.0, 177700.0, 83400.0, 125200.0, 252400.0, 308400.0, 284500.0, 213000.0, 323700.0, 235000.0, 240500.0, 172800.0, 131900.0, 274800.0, 53200.0, 165000.0, 125000.0, 247000.0, 67500.0, 112500.0, 289600.0, 226900.0, 54100.0, 180300.0, 127300.0, 500001.0, 243800.0, 162500.0, 336900.0, 184100.0, 45500.0, 195400.0, 119800.0, 141700.0, 292000.0, 105200.0, 400000.0, 79200.0, 221600.0, 500001.0, 44400.0, 94600.0, 247200.0, 110400.0, 188000.0, 118500.0, 271500.0, 96000.0, 500001.0, 209700.0, 203700.0, 111800.0, 176000.0, 365600.0, 181300.0, 182400.0, 267100.0, 159200.0, 103900.0, 273900.0, 235400.0, 442900.0, 250700.0, 137900.0, 110600.0, 282600.0, 112500.0, 238500.0, 184200.0, 366300.0, 397500.0, 177500.0, 189300.0, 176600.0, 125000.0, 138800.0, 269100.0, 151400.0, 77200.0, 123500.0, 254500.0, 66300.0, 245500.0, 261300.0, 141100.0, 228900.0, 90900.0, 139100.0, 175300.0, 87500.0, 77300.0, 170800.0, 134900.0, 102000.0, 303800.0, 177100.0, 54900.0, 70100.0, 61500.0, 185400.0, 255400.0, 56500.0, 500001.0, 166400.0, 73800.0, 500001.0, 185700.0, 125000.0, 220000.0, 106300.0, 272600.0, 142100.0, 454400.0, 209700.0, 366100.0, 101200.0, 55500.0, 283500.0, 153800.0, 483300.0, 176100.0, 151500.0, 195700.0, 296400.0, 172800.0, 276400.0, 170800.0, 477800.0, 159700.0, 61500.0, 384700.0, 89300.0, 328600.0, 68100.0, 278200.0]}],                        {\"height\": 600, \"hovermode\": \"closest\", \"template\": {\"data\": {\"bar\": [{\"error_x\": {\"color\": \"#2a3f5f\"}, \"error_y\": {\"color\": \"#2a3f5f\"}, \"marker\": {\"line\": {\"color\": \"#E5ECF6\", \"width\": 0.5}}, \"type\": \"bar\"}], \"barpolar\": [{\"marker\": {\"line\": {\"color\": \"#E5ECF6\", \"width\": 0.5}}, \"type\": \"barpolar\"}], \"carpet\": [{\"aaxis\": {\"endlinecolor\": \"#2a3f5f\", \"gridcolor\": \"white\", \"linecolor\": \"white\", \"minorgridcolor\": \"white\", \"startlinecolor\": \"#2a3f5f\"}, \"baxis\": {\"endlinecolor\": \"#2a3f5f\", \"gridcolor\": \"white\", \"linecolor\": \"white\", \"minorgridcolor\": \"white\", \"startlinecolor\": \"#2a3f5f\"}, \"type\": \"carpet\"}], \"choropleth\": [{\"colorbar\": {\"outlinewidth\": 0, \"ticks\": \"\"}, \"type\": \"choropleth\"}], \"contour\": [{\"colorbar\": {\"outlinewidth\": 0, \"ticks\": \"\"}, \"colorscale\": [[0.0, \"#0d0887\"], [0.1111111111111111, \"#46039f\"], [0.2222222222222222, \"#7201a8\"], [0.3333333333333333, \"#9c179e\"], [0.4444444444444444, \"#bd3786\"], [0.5555555555555556, \"#d8576b\"], [0.6666666666666666, \"#ed7953\"], [0.7777777777777778, \"#fb9f3a\"], [0.8888888888888888, \"#fdca26\"], [1.0, \"#f0f921\"]], \"type\": \"contour\"}], \"contourcarpet\": [{\"colorbar\": {\"outlinewidth\": 0, \"ticks\": \"\"}, \"type\": \"contourcarpet\"}], \"heatmap\": [{\"colorbar\": {\"outlinewidth\": 0, \"ticks\": \"\"}, \"colorscale\": [[0.0, \"#0d0887\"], [0.1111111111111111, \"#46039f\"], [0.2222222222222222, \"#7201a8\"], [0.3333333333333333, \"#9c179e\"], [0.4444444444444444, \"#bd3786\"], [0.5555555555555556, \"#d8576b\"], [0.6666666666666666, \"#ed7953\"], [0.7777777777777778, \"#fb9f3a\"], [0.8888888888888888, \"#fdca26\"], [1.0, \"#f0f921\"]], \"type\": \"heatmap\"}], \"heatmapgl\": [{\"colorbar\": {\"outlinewidth\": 0, \"ticks\": \"\"}, \"colorscale\": [[0.0, \"#0d0887\"], [0.1111111111111111, \"#46039f\"], [0.2222222222222222, \"#7201a8\"], [0.3333333333333333, \"#9c179e\"], [0.4444444444444444, \"#bd3786\"], [0.5555555555555556, \"#d8576b\"], [0.6666666666666666, \"#ed7953\"], [0.7777777777777778, \"#fb9f3a\"], [0.8888888888888888, \"#fdca26\"], [1.0, \"#f0f921\"]], \"type\": \"heatmapgl\"}], \"histogram\": [{\"marker\": {\"colorbar\": {\"outlinewidth\": 0, \"ticks\": \"\"}}, \"type\": \"histogram\"}], \"histogram2d\": [{\"colorbar\": {\"outlinewidth\": 0, \"ticks\": \"\"}, \"colorscale\": [[0.0, \"#0d0887\"], [0.1111111111111111, \"#46039f\"], [0.2222222222222222, \"#7201a8\"], [0.3333333333333333, \"#9c179e\"], [0.4444444444444444, \"#bd3786\"], [0.5555555555555556, \"#d8576b\"], [0.6666666666666666, \"#ed7953\"], [0.7777777777777778, \"#fb9f3a\"], [0.8888888888888888, \"#fdca26\"], [1.0, \"#f0f921\"]], \"type\": \"histogram2d\"}], \"histogram2dcontour\": [{\"colorbar\": {\"outlinewidth\": 0, \"ticks\": \"\"}, \"colorscale\": [[0.0, \"#0d0887\"], [0.1111111111111111, \"#46039f\"], [0.2222222222222222, \"#7201a8\"], [0.3333333333333333, \"#9c179e\"], [0.4444444444444444, \"#bd3786\"], [0.5555555555555556, \"#d8576b\"], [0.6666666666666666, \"#ed7953\"], [0.7777777777777778, \"#fb9f3a\"], [0.8888888888888888, \"#fdca26\"], [1.0, \"#f0f921\"]], \"type\": \"histogram2dcontour\"}], \"mesh3d\": [{\"colorbar\": {\"outlinewidth\": 0, \"ticks\": \"\"}, \"type\": \"mesh3d\"}], \"parcoords\": [{\"line\": {\"colorbar\": {\"outlinewidth\": 0, \"ticks\": \"\"}}, \"type\": \"parcoords\"}], \"pie\": [{\"automargin\": true, \"type\": \"pie\"}], \"scatter\": [{\"marker\": {\"colorbar\": {\"outlinewidth\": 0, \"ticks\": \"\"}}, \"type\": \"scatter\"}], \"scatter3d\": [{\"line\": {\"colorbar\": {\"outlinewidth\": 0, \"ticks\": \"\"}}, \"marker\": {\"colorbar\": {\"outlinewidth\": 0, \"ticks\": \"\"}}, \"type\": \"scatter3d\"}], \"scattercarpet\": [{\"marker\": {\"colorbar\": {\"outlinewidth\": 0, \"ticks\": \"\"}}, \"type\": \"scattercarpet\"}], \"scattergeo\": [{\"marker\": {\"colorbar\": {\"outlinewidth\": 0, \"ticks\": \"\"}}, \"type\": \"scattergeo\"}], \"scattergl\": [{\"marker\": {\"colorbar\": {\"outlinewidth\": 0, \"ticks\": \"\"}}, \"type\": \"scattergl\"}], \"scattermapbox\": [{\"marker\": {\"colorbar\": {\"outlinewidth\": 0, \"ticks\": \"\"}}, \"type\": \"scattermapbox\"}], \"scatterpolar\": [{\"marker\": {\"colorbar\": {\"outlinewidth\": 0, \"ticks\": \"\"}}, \"type\": \"scatterpolar\"}], \"scatterpolargl\": [{\"marker\": {\"colorbar\": {\"outlinewidth\": 0, \"ticks\": \"\"}}, \"type\": \"scatterpolargl\"}], \"scatterternary\": [{\"marker\": {\"colorbar\": {\"outlinewidth\": 0, \"ticks\": \"\"}}, \"type\": \"scatterternary\"}], \"surface\": [{\"colorbar\": {\"outlinewidth\": 0, \"ticks\": \"\"}, \"colorscale\": [[0.0, \"#0d0887\"], [0.1111111111111111, \"#46039f\"], [0.2222222222222222, \"#7201a8\"], [0.3333333333333333, \"#9c179e\"], [0.4444444444444444, \"#bd3786\"], [0.5555555555555556, \"#d8576b\"], [0.6666666666666666, \"#ed7953\"], [0.7777777777777778, \"#fb9f3a\"], [0.8888888888888888, \"#fdca26\"], [1.0, \"#f0f921\"]], \"type\": \"surface\"}], \"table\": [{\"cells\": {\"fill\": {\"color\": \"#EBF0F8\"}, \"line\": {\"color\": \"white\"}}, \"header\": {\"fill\": {\"color\": \"#C8D4E3\"}, \"line\": {\"color\": \"white\"}}, \"type\": \"table\"}]}, \"layout\": {\"annotationdefaults\": {\"arrowcolor\": \"#2a3f5f\", \"arrowhead\": 0, \"arrowwidth\": 1}, \"autotypenumbers\": \"strict\", \"coloraxis\": {\"colorbar\": {\"outlinewidth\": 0, \"ticks\": \"\"}}, \"colorscale\": {\"diverging\": [[0, \"#8e0152\"], [0.1, \"#c51b7d\"], [0.2, \"#de77ae\"], [0.3, \"#f1b6da\"], [0.4, \"#fde0ef\"], [0.5, \"#f7f7f7\"], [0.6, \"#e6f5d0\"], [0.7, \"#b8e186\"], [0.8, \"#7fbc41\"], [0.9, \"#4d9221\"], [1, \"#276419\"]], \"sequential\": [[0.0, \"#0d0887\"], [0.1111111111111111, \"#46039f\"], [0.2222222222222222, \"#7201a8\"], [0.3333333333333333, \"#9c179e\"], [0.4444444444444444, \"#bd3786\"], [0.5555555555555556, \"#d8576b\"], [0.6666666666666666, \"#ed7953\"], [0.7777777777777778, \"#fb9f3a\"], [0.8888888888888888, \"#fdca26\"], [1.0, \"#f0f921\"]], \"sequentialminus\": [[0.0, \"#0d0887\"], [0.1111111111111111, \"#46039f\"], [0.2222222222222222, \"#7201a8\"], [0.3333333333333333, \"#9c179e\"], [0.4444444444444444, \"#bd3786\"], [0.5555555555555556, \"#d8576b\"], [0.6666666666666666, \"#ed7953\"], [0.7777777777777778, \"#fb9f3a\"], [0.8888888888888888, \"#fdca26\"], [1.0, \"#f0f921\"]]}, \"colorway\": [\"#636efa\", \"#EF553B\", \"#00cc96\", \"#ab63fa\", \"#FFA15A\", \"#19d3f3\", \"#FF6692\", \"#B6E880\", \"#FF97FF\", \"#FECB52\"], \"font\": {\"color\": \"#2a3f5f\"}, \"geo\": {\"bgcolor\": \"white\", \"lakecolor\": \"white\", \"landcolor\": \"#E5ECF6\", \"showlakes\": true, \"showland\": true, \"subunitcolor\": \"white\"}, \"hoverlabel\": {\"align\": \"left\"}, \"hovermode\": \"closest\", \"mapbox\": {\"style\": \"light\"}, \"paper_bgcolor\": \"white\", \"plot_bgcolor\": \"#E5ECF6\", \"polar\": {\"angularaxis\": {\"gridcolor\": \"white\", \"linecolor\": \"white\", \"ticks\": \"\"}, \"bgcolor\": \"#E5ECF6\", \"radialaxis\": {\"gridcolor\": \"white\", \"linecolor\": \"white\", \"ticks\": \"\"}}, \"scene\": {\"xaxis\": {\"backgroundcolor\": \"#E5ECF6\", \"gridcolor\": \"white\", \"gridwidth\": 2, \"linecolor\": \"white\", \"showbackground\": true, \"ticks\": \"\", \"zerolinecolor\": \"white\"}, \"yaxis\": {\"backgroundcolor\": \"#E5ECF6\", \"gridcolor\": \"white\", \"gridwidth\": 2, \"linecolor\": \"white\", \"showbackground\": true, \"ticks\": \"\", \"zerolinecolor\": \"white\"}, \"zaxis\": {\"backgroundcolor\": \"#E5ECF6\", \"gridcolor\": \"white\", \"gridwidth\": 2, \"linecolor\": \"white\", \"showbackground\": true, \"ticks\": \"\", \"zerolinecolor\": \"white\"}}, \"shapedefaults\": {\"line\": {\"color\": \"#2a3f5f\"}}, \"ternary\": {\"aaxis\": {\"gridcolor\": \"white\", \"linecolor\": \"white\", \"ticks\": \"\"}, \"baxis\": {\"gridcolor\": \"white\", \"linecolor\": \"white\", \"ticks\": \"\"}, \"bgcolor\": \"#E5ECF6\", \"caxis\": {\"gridcolor\": \"white\", \"linecolor\": \"white\", \"ticks\": \"\"}}, \"title\": {\"x\": 0.05}, \"xaxis\": {\"automargin\": true, \"gridcolor\": \"white\", \"linecolor\": \"white\", \"ticks\": \"\", \"title\": {\"standoff\": 15}, \"zerolinecolor\": \"white\", \"zerolinewidth\": 2}, \"yaxis\": {\"automargin\": true, \"gridcolor\": \"white\", \"linecolor\": \"white\", \"ticks\": \"\", \"title\": {\"standoff\": 15}, \"zerolinecolor\": \"white\", \"zerolinewidth\": 2}}}, \"title\": {\"text\": \"Housing Data\"}, \"width\": 900},                        {\"responsive\": true}                    ).then(function(){\n",
       "                            \n",
       "var gd = document.getElementById('369cbb3c-c5ae-4c9d-b226-e7f1e79f1971');\n",
       "var x = new MutationObserver(function (mutations, observer) {{\n",
       "        var display = window.getComputedStyle(gd).display;\n",
       "        if (!display || display === 'none') {{\n",
       "            console.log([gd, 'removed!']);\n",
       "            Plotly.purge(gd);\n",
       "            observer.disconnect();\n",
       "        }}\n",
       "}});\n",
       "\n",
       "// Listen for the removal of the full notebook cells\n",
       "var notebookContainer = gd.closest('#notebook-container');\n",
       "if (notebookContainer) {{\n",
       "    x.observe(notebookContainer, {childList: true});\n",
       "}}\n",
       "\n",
       "// Listen for the clearing of the current output cell\n",
       "var outputEl = gd.closest('.output');\n",
       "if (outputEl) {{\n",
       "    x.observe(outputEl, {childList: true});\n",
       "}}\n",
       "\n",
       "                        })                };                });            </script>        </div>"
      ]
     },
     "metadata": {},
     "output_type": "display_data"
    }
   ],
   "source": [
    "fig = go.Figure(data=data, layout=layout)\n",
    "\n",
    "offline.iplot(fig)"
   ]
  },
  {
   "cell_type": "code",
   "execution_count": null,
   "id": "b29904e3",
   "metadata": {},
   "outputs": [],
   "source": []
  }
 ],
 "metadata": {
  "kernelspec": {
   "display_name": "Python 3",
   "language": "python",
   "name": "python3"
  },
  "language_info": {
   "codemirror_mode": {
    "name": "ipython",
    "version": 3
   },
   "file_extension": ".py",
   "mimetype": "text/x-python",
   "name": "python",
   "nbconvert_exporter": "python",
   "pygments_lexer": "ipython3",
   "version": "3.9.4"
  },
  "toc": {
   "base_numbering": 1,
   "nav_menu": {},
   "number_sections": true,
   "sideBar": true,
   "skip_h1_title": false,
   "title_cell": "Table of Contents",
   "title_sidebar": "Contents",
   "toc_cell": false,
   "toc_position": {},
   "toc_section_display": true,
   "toc_window_display": false
  }
 },
 "nbformat": 4,
 "nbformat_minor": 5
}
