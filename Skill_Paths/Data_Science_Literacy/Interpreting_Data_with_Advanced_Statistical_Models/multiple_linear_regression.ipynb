{
 "cells": [
  {
   "cell_type": "markdown",
   "source": [
    "# Multiple Linear Regression"
   ],
   "metadata": {}
  },
  {
   "cell_type": "code",
   "execution_count": 1,
   "source": [
    "import matplotlib.pyplot as plt\r\n",
    "import numpy as np\r\n",
    "from sklearn import datasets, linear_model\r\n",
    "from sklearn.metrics import mean_squared_error, r2_score\r\n",
    "from sklearn.model_selection import train_test_split"
   ],
   "outputs": [],
   "metadata": {}
  },
  {
   "cell_type": "code",
   "execution_count": 2,
   "source": [
    "diabetes = datasets.load_diabetes()\r\n",
    "diabetes_X = diabetes.data"
   ],
   "outputs": [],
   "metadata": {}
  },
  {
   "cell_type": "code",
   "execution_count": 11,
   "source": [
    "X_train, X_test, y_train, y_test = train_test_split(diabetes_X, diabetes.target, test_size=0.20, random_state=42)\r\n",
    "y_test = y_test.reshape(-1, 1)\r\n",
    "y_train = y_train.reshape(-1, 1)"
   ],
   "outputs": [],
   "metadata": {}
  },
  {
   "cell_type": "code",
   "execution_count": 12,
   "source": [
    "print(\"Size of training set is {}\".format(X_train.shape))\r\n",
    "print(\"Size of the Label training set is {}\".format(y_train.shape))\r\n",
    "print(\"Size of the Label training set is {}\".format(y_test.shape))\r\n",
    "print(\"Size of the training set is {}\".format(X_test.shape))"
   ],
   "outputs": [
    {
     "output_type": "stream",
     "name": "stdout",
     "text": [
      "Size of training set is (353, 10)\n",
      "Size of the Label training set is (353, 1)\n",
      "Size of the Label training set is (89, 1)\n",
      "Size of the training set is (89, 10)\n"
     ]
    }
   ],
   "metadata": {}
  },
  {
   "cell_type": "code",
   "execution_count": 13,
   "source": [
    "# Create linear regression object\r\n",
    "regr = linear_model.LinearRegression()\r\n",
    "\r\n",
    "# Train model using training data\r\n",
    "regr.fit(X_train, y_train)"
   ],
   "outputs": [
    {
     "output_type": "execute_result",
     "data": {
      "text/plain": [
       "LinearRegression()"
      ]
     },
     "metadata": {},
     "execution_count": 13
    }
   ],
   "metadata": {}
  },
  {
   "cell_type": "code",
   "execution_count": 14,
   "source": [
    "# Make predictions using the testing set\r\n",
    "y_pred = regr.predict(X_test)"
   ],
   "outputs": [],
   "metadata": {}
  },
  {
   "cell_type": "code",
   "execution_count": 17,
   "source": [
    "# The coefficients\r\n",
    "print(\"Coefficients: \", regr.coef_)\r\n",
    "\r\n",
    "# The mean squared error\r\n",
    "print(\"Mean Squared Error: %.2f\" % mean_squared_error(y_test, y_pred))\r\n",
    "\r\n",
    "# Explained variance score\r\n",
    "print(\"Variance score: %.2f\" % r2_score(y_test, y_pred))"
   ],
   "outputs": [
    {
     "output_type": "stream",
     "name": "stdout",
     "text": [
      "Coefficients:  [[  37.90031426 -241.96624835  542.42575342  347.70830529 -931.46126093\n",
      "   518.04405547  163.40353476  275.31003837  736.18909839   48.67112488]]\n",
      "Mean Squared Error: 2900.17\n",
      "Variance score: 0.45\n"
     ]
    }
   ],
   "metadata": {}
  }
 ],
 "metadata": {
  "orig_nbformat": 4,
  "language_info": {
   "name": "python",
   "version": "3.9.4",
   "mimetype": "text/x-python",
   "codemirror_mode": {
    "name": "ipython",
    "version": 3
   },
   "pygments_lexer": "ipython3",
   "nbconvert_exporter": "python",
   "file_extension": ".py"
  },
  "kernelspec": {
   "name": "python3",
   "display_name": "Python 3.9.4 64-bit"
  },
  "interpreter": {
   "hash": "9fdb9160099e666fbe1246fdc3611df6e34403c4a50d97f5ca90d3cacc6ef812"
  }
 },
 "nbformat": 4,
 "nbformat_minor": 2
}