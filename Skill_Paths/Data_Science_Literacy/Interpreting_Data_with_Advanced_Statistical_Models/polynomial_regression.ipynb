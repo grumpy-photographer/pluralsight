{
 "cells": [
  {
   "cell_type": "markdown",
   "source": [
    "# Polynomial Regression"
   ],
   "metadata": {}
  },
  {
   "cell_type": "code",
   "execution_count": 1,
   "source": [
    "import numpy as np\r\n",
    "import pandas as pd\r\n",
    "import matplotlib.pyplot as plt\r\n",
    "from sklearn.pipeline import Pipeline\r\n",
    "from sklearn.preprocessing import PolynomialFeatures\r\n",
    "from sklearn.linear_model import LinearRegression\r\n",
    "from sklearn.model_selection import cross_val_score\r\n",
    "from sklearn.metrics import mean_squared_error, r2_score\r\n",
    "from sklearn.model_selection import train_test_split\r\n",
    "import nb_black\r\n",
    "\r\n",
    "%reload_ext nb_black"
   ],
   "outputs": [
    {
     "output_type": "display_data",
     "data": {
      "application/javascript": "\n            setTimeout(function() {\n                var nbb_cell_id = 1;\n                var nbb_unformatted_code = \"import numpy as np\\r\\nimport pandas as pd\\r\\nimport matplotlib.pyplot as plt\\r\\nfrom sklearn.pipeline import Pipeline\\r\\nfrom sklearn.preprocessing import PolynomialFeatures\\r\\nfrom sklearn.linear_model import LinearRegression\\r\\nfrom sklearn.model_selection import cross_val_score\\r\\nfrom sklearn.metrics import mean_squared_error, r2_score\\r\\nfrom sklearn.model_selection import train_test_split\\r\\nimport nb_black\\r\\n\\r\\n%reload_ext nb_black\";\n                var nbb_formatted_code = \"import numpy as np\\nimport pandas as pd\\nimport matplotlib.pyplot as plt\\nfrom sklearn.pipeline import Pipeline\\nfrom sklearn.preprocessing import PolynomialFeatures\\nfrom sklearn.linear_model import LinearRegression\\nfrom sklearn.model_selection import cross_val_score\\nfrom sklearn.metrics import mean_squared_error, r2_score\\nfrom sklearn.model_selection import train_test_split\\nimport nb_black\\n\\n%reload_ext nb_black\";\n                var nbb_cells = Jupyter.notebook.get_cells();\n                for (var i = 0; i < nbb_cells.length; ++i) {\n                    if (nbb_cells[i].input_prompt_number == nbb_cell_id) {\n                        if (nbb_cells[i].get_text() == nbb_unformatted_code) {\n                             nbb_cells[i].set_text(nbb_formatted_code);\n                        }\n                        break;\n                    }\n                }\n            }, 500);\n            ",
      "text/plain": [
       "<IPython.core.display.Javascript object>"
      ]
     },
     "metadata": {}
    }
   ],
   "metadata": {}
  },
  {
   "cell_type": "code",
   "execution_count": 2,
   "source": [
    "nyc_pumpkins = pd.read_csv(\"./data/new-york_9-24-2016_9-30-2017.csv\")\r\n",
    "cat_map = {\r\n",
    "    \"sml\": 0,\r\n",
    "    \"med\": 1,\r\n",
    "    \"med-lge\": 2,\r\n",
    "    \"lge\": 3,\r\n",
    "    \"xlge\": 4,\r\n",
    "    \"exjbo\": 5\r\n",
    "}\r\n",
    "\r\n",
    "nyc_pumpkins = nyc_pumpkins.assign(\r\n",
    "    size=nyc_pumpkins[\"Item Size\"].map(cat_map),\r\n",
    "    price=nyc_pumpkins[\"High Price\"] + nyc_pumpkins[\"Low Price\"] / 2,\r\n",
    "    size_class=(nyc_pumpkins[\"Item Size\"].map(cat_map) >= 2).astype(int)\r\n",
    ")\r\n",
    "nyc_pumpkins = nyc_pumpkins.drop([c for c in nyc_pumpkins if c not in [\"size\", \"price\", \"size_class\"]], axis=\"columns\")\r\n",
    "\r\n",
    "nyc_pumpkins = nyc_pumpkins.dropna()"
   ],
   "outputs": [
    {
     "output_type": "display_data",
     "data": {
      "application/javascript": "\n            setTimeout(function() {\n                var nbb_cell_id = 2;\n                var nbb_unformatted_code = \"nyc_pumpkins = pd.read_csv(\\\"./data/new-york_9-24-2016_9-30-2017.csv\\\")\\r\\ncat_map = {\\r\\n    \\\"sml\\\": 0,\\r\\n    \\\"med\\\": 1,\\r\\n    \\\"med-lge\\\": 2,\\r\\n    \\\"lge\\\": 3,\\r\\n    \\\"xlge\\\": 4,\\r\\n    \\\"exjbo\\\": 5\\r\\n}\\r\\n\\r\\nnyc_pumpkins = nyc_pumpkins.assign(\\r\\n    size=nyc_pumpkins[\\\"Item Size\\\"].map(cat_map),\\r\\n    price=nyc_pumpkins[\\\"High Price\\\"] + nyc_pumpkins[\\\"Low Price\\\"] / 2,\\r\\n    size_class=(nyc_pumpkins[\\\"Item Size\\\"].map(cat_map) >= 2).astype(int)\\r\\n)\\r\\nnyc_pumpkins = nyc_pumpkins.drop([c for c in nyc_pumpkins if c not in [\\\"size\\\", \\\"price\\\", \\\"size_class\\\"]], axis=\\\"columns\\\")\\r\\n\\r\\nnyc_pumpkins = nyc_pumpkins.dropna()\";\n                var nbb_formatted_code = \"nyc_pumpkins = pd.read_csv(\\\"./data/new-york_9-24-2016_9-30-2017.csv\\\")\\ncat_map = {\\\"sml\\\": 0, \\\"med\\\": 1, \\\"med-lge\\\": 2, \\\"lge\\\": 3, \\\"xlge\\\": 4, \\\"exjbo\\\": 5}\\n\\nnyc_pumpkins = nyc_pumpkins.assign(\\n    size=nyc_pumpkins[\\\"Item Size\\\"].map(cat_map),\\n    price=nyc_pumpkins[\\\"High Price\\\"] + nyc_pumpkins[\\\"Low Price\\\"] / 2,\\n    size_class=(nyc_pumpkins[\\\"Item Size\\\"].map(cat_map) >= 2).astype(int),\\n)\\nnyc_pumpkins = nyc_pumpkins.drop(\\n    [c for c in nyc_pumpkins if c not in [\\\"size\\\", \\\"price\\\", \\\"size_class\\\"]],\\n    axis=\\\"columns\\\",\\n)\\n\\nnyc_pumpkins = nyc_pumpkins.dropna()\";\n                var nbb_cells = Jupyter.notebook.get_cells();\n                for (var i = 0; i < nbb_cells.length; ++i) {\n                    if (nbb_cells[i].input_prompt_number == nbb_cell_id) {\n                        if (nbb_cells[i].get_text() == nbb_unformatted_code) {\n                             nbb_cells[i].set_text(nbb_formatted_code);\n                        }\n                        break;\n                    }\n                }\n            }, 500);\n            ",
      "text/plain": [
       "<IPython.core.display.Javascript object>"
      ]
     },
     "metadata": {}
    }
   ],
   "metadata": {}
  },
  {
   "cell_type": "code",
   "execution_count": 3,
   "source": [
    "nyc_pumpkins.head(10)"
   ],
   "outputs": [
    {
     "output_type": "execute_result",
     "data": {
      "text/html": [
       "<div>\n",
       "<style scoped>\n",
       "    .dataframe tbody tr th:only-of-type {\n",
       "        vertical-align: middle;\n",
       "    }\n",
       "\n",
       "    .dataframe tbody tr th {\n",
       "        vertical-align: top;\n",
       "    }\n",
       "\n",
       "    .dataframe thead th {\n",
       "        text-align: right;\n",
       "    }\n",
       "</style>\n",
       "<table border=\"1\" class=\"dataframe\">\n",
       "  <thead>\n",
       "    <tr style=\"text-align: right;\">\n",
       "      <th></th>\n",
       "      <th>size</th>\n",
       "      <th>price</th>\n",
       "      <th>size_class</th>\n",
       "    </tr>\n",
       "  </thead>\n",
       "  <tbody>\n",
       "    <tr>\n",
       "      <th>0</th>\n",
       "      <td>4.0</td>\n",
       "      <td>245.0</td>\n",
       "      <td>1</td>\n",
       "    </tr>\n",
       "    <tr>\n",
       "      <th>1</th>\n",
       "      <td>3.0</td>\n",
       "      <td>245.0</td>\n",
       "      <td>1</td>\n",
       "    </tr>\n",
       "    <tr>\n",
       "      <th>2</th>\n",
       "      <td>4.0</td>\n",
       "      <td>215.0</td>\n",
       "      <td>1</td>\n",
       "    </tr>\n",
       "    <tr>\n",
       "      <th>3</th>\n",
       "      <td>3.0</td>\n",
       "      <td>215.0</td>\n",
       "      <td>1</td>\n",
       "    </tr>\n",
       "    <tr>\n",
       "      <th>4</th>\n",
       "      <td>2.0</td>\n",
       "      <td>200.0</td>\n",
       "      <td>1</td>\n",
       "    </tr>\n",
       "    <tr>\n",
       "      <th>5</th>\n",
       "      <td>4.0</td>\n",
       "      <td>245.0</td>\n",
       "      <td>1</td>\n",
       "    </tr>\n",
       "    <tr>\n",
       "      <th>6</th>\n",
       "      <td>3.0</td>\n",
       "      <td>230.0</td>\n",
       "      <td>1</td>\n",
       "    </tr>\n",
       "    <tr>\n",
       "      <th>7</th>\n",
       "      <td>1.0</td>\n",
       "      <td>280.0</td>\n",
       "      <td>0</td>\n",
       "    </tr>\n",
       "    <tr>\n",
       "      <th>8</th>\n",
       "      <td>4.0</td>\n",
       "      <td>245.0</td>\n",
       "      <td>1</td>\n",
       "    </tr>\n",
       "    <tr>\n",
       "      <th>9</th>\n",
       "      <td>3.0</td>\n",
       "      <td>245.0</td>\n",
       "      <td>1</td>\n",
       "    </tr>\n",
       "  </tbody>\n",
       "</table>\n",
       "</div>"
      ],
      "text/plain": [
       "   size  price  size_class\n",
       "0   4.0  245.0           1\n",
       "1   3.0  245.0           1\n",
       "2   4.0  215.0           1\n",
       "3   3.0  215.0           1\n",
       "4   2.0  200.0           1\n",
       "5   4.0  245.0           1\n",
       "6   3.0  230.0           1\n",
       "7   1.0  280.0           0\n",
       "8   4.0  245.0           1\n",
       "9   3.0  245.0           1"
      ]
     },
     "metadata": {},
     "execution_count": 3
    },
    {
     "output_type": "display_data",
     "data": {
      "application/javascript": "\n            setTimeout(function() {\n                var nbb_cell_id = 3;\n                var nbb_unformatted_code = \"nyc_pumpkins.head(10)\";\n                var nbb_formatted_code = \"nyc_pumpkins.head(10)\";\n                var nbb_cells = Jupyter.notebook.get_cells();\n                for (var i = 0; i < nbb_cells.length; ++i) {\n                    if (nbb_cells[i].input_prompt_number == nbb_cell_id) {\n                        if (nbb_cells[i].get_text() == nbb_unformatted_code) {\n                             nbb_cells[i].set_text(nbb_formatted_code);\n                        }\n                        break;\n                    }\n                }\n            }, 500);\n            ",
      "text/plain": [
       "<IPython.core.display.Javascript object>"
      ]
     },
     "metadata": {}
    }
   ],
   "metadata": {}
  },
  {
   "cell_type": "code",
   "execution_count": 4,
   "source": [
    "nyc_pumpkins.shape"
   ],
   "outputs": [
    {
     "output_type": "execute_result",
     "data": {
      "text/plain": [
       "(104, 3)"
      ]
     },
     "metadata": {},
     "execution_count": 4
    },
    {
     "output_type": "display_data",
     "data": {
      "application/javascript": "\n            setTimeout(function() {\n                var nbb_cell_id = 4;\n                var nbb_unformatted_code = \"nyc_pumpkins.shape\";\n                var nbb_formatted_code = \"nyc_pumpkins.shape\";\n                var nbb_cells = Jupyter.notebook.get_cells();\n                for (var i = 0; i < nbb_cells.length; ++i) {\n                    if (nbb_cells[i].input_prompt_number == nbb_cell_id) {\n                        if (nbb_cells[i].get_text() == nbb_unformatted_code) {\n                             nbb_cells[i].set_text(nbb_formatted_code);\n                        }\n                        break;\n                    }\n                }\n            }, 500);\n            ",
      "text/plain": [
       "<IPython.core.display.Javascript object>"
      ]
     },
     "metadata": {}
    }
   ],
   "metadata": {}
  },
  {
   "cell_type": "code",
   "execution_count": 5,
   "source": [
    "X_train, X_test, y_train, y_test = train_test_split(nyc_pumpkins[\"price\"], nyc_pumpkins[\"size\"], test_size=0.20, random_state=42, shuffle=True)\r\n",
    "\r\n",
    "degrees = [1, 2, 4]\r\n",
    "fig = plt.figure(figsize=(20, 10))\r\n",
    "for i in range(len(degrees)):\r\n",
    "    ax = plt.subplot(1, len(degrees)+1, i + 2)\r\n",
    "    plt.setp(ax, xticks=(), yticks=())\r\n",
    "\r\n",
    "    polynomial_features = PolynomialFeatures(degree=degrees[i],\r\n",
    "    include_bias=True)\r\n",
    "\r\n",
    "    linear_regression = LinearRegression()\r\n",
    "    pipeline = Pipeline([(\"polynomial_features\", polynomial_features),\r\n",
    "    (\"linear_regression\", linear_regression)])\r\n",
    "    pipeline.fit(X_train[:, np.newaxis], y_train)\r\n",
    "\r\n",
    "    # Evaluate the models using crossvalidation\r\n",
    "    predicted_sizes = np.round(pipeline.predict(X_test[:, np.newaxis]))\r\n",
    "    plt.style.use(\"fivethirtyeight\")\r\n",
    "\r\n",
    "    pd.Series(\r\n",
    "        np.abs((np.array(y_test) - predicted_sizes).flatten()) <= 1\r\n",
    "    ).value_counts().plot.bar(title=\"Accuracy Within 1 Class \\n for degree {}\".format(degrees[i]))"
   ],
   "outputs": [
    {
     "output_type": "stream",
     "name": "stderr",
     "text": [
      "<ipython-input-5-fad4f15870b0>:15: FutureWarning: Support for multi-dimensional indexing (e.g. `obj[:, None]`) is deprecated and will be removed in a future version.  Convert to a numpy array before indexing instead.\n",
      "  pipeline.fit(X_train[:, np.newaxis], y_train)\n",
      "<ipython-input-5-fad4f15870b0>:18: FutureWarning: Support for multi-dimensional indexing (e.g. `obj[:, None]`) is deprecated and will be removed in a future version.  Convert to a numpy array before indexing instead.\n",
      "  predicted_sizes = np.round(pipeline.predict(X_test[:, np.newaxis]))\n",
      "<ipython-input-5-fad4f15870b0>:15: FutureWarning: Support for multi-dimensional indexing (e.g. `obj[:, None]`) is deprecated and will be removed in a future version.  Convert to a numpy array before indexing instead.\n",
      "  pipeline.fit(X_train[:, np.newaxis], y_train)\n",
      "<ipython-input-5-fad4f15870b0>:18: FutureWarning: Support for multi-dimensional indexing (e.g. `obj[:, None]`) is deprecated and will be removed in a future version.  Convert to a numpy array before indexing instead.\n",
      "  predicted_sizes = np.round(pipeline.predict(X_test[:, np.newaxis]))\n",
      "<ipython-input-5-fad4f15870b0>:15: FutureWarning: Support for multi-dimensional indexing (e.g. `obj[:, None]`) is deprecated and will be removed in a future version.  Convert to a numpy array before indexing instead.\n",
      "  pipeline.fit(X_train[:, np.newaxis], y_train)\n",
      "<ipython-input-5-fad4f15870b0>:18: FutureWarning: Support for multi-dimensional indexing (e.g. `obj[:, None]`) is deprecated and will be removed in a future version.  Convert to a numpy array before indexing instead.\n",
      "  predicted_sizes = np.round(pipeline.predict(X_test[:, np.newaxis]))\n"
     ]
    },
    {
     "output_type": "display_data",
     "data": {
      "image/png": "[encoded data removed]",
      "text/plain": [
       "<Figure size 1440x720 with 3 Axes>"
      ]
     },
     "metadata": {
      "needs_background": "light"
     }
    },
    {
     "output_type": "display_data",
     "data": {
      "application/javascript": "\n            setTimeout(function() {\n                var nbb_cell_id = 5;\n                var nbb_unformatted_code = \"X_train, X_test, y_train, y_test = train_test_split(nyc_pumpkins[\\\"price\\\"], nyc_pumpkins[\\\"size\\\"], test_size=0.20, random_state=42, shuffle=True)\\r\\n\\r\\ndegrees = [1, 2, 4]\\r\\nfig = plt.figure(figsize=(20, 10))\\r\\nfor i in range(len(degrees)):\\r\\n    ax = plt.subplot(1, len(degrees)+1, i + 2)\\r\\n    plt.setp(ax, xticks=(), yticks=())\\r\\n\\r\\n    polynomial_features = PolynomialFeatures(degree=degrees[i],\\r\\n    include_bias=True)\\r\\n\\r\\n    linear_regression = LinearRegression()\\r\\n    pipeline = Pipeline([(\\\"polynomial_features\\\", polynomial_features),\\r\\n    (\\\"linear_regression\\\", linear_regression)])\\r\\n    pipeline.fit(X_train[:, np.newaxis], y_train)\\r\\n\\r\\n    # Evaluate the models using crossvalidation\\r\\n    predicted_sizes = np.round(pipeline.predict(X_test[:, np.newaxis]))\\r\\n    plt.style.use(\\\"fivethirtyeight\\\")\\r\\n\\r\\n    pd.Series(\\r\\n        np.abs((np.array(y_test) - predicted_sizes).flatten()) <= 1\\r\\n    ).value_counts().plot.bar(title=\\\"Accuracy Within 1 Class \\\\n for degree {}\\\".format(degrees[i]))\";\n                var nbb_formatted_code = \"X_train, X_test, y_train, y_test = train_test_split(\\n    nyc_pumpkins[\\\"price\\\"],\\n    nyc_pumpkins[\\\"size\\\"],\\n    test_size=0.20,\\n    random_state=42,\\n    shuffle=True,\\n)\\n\\ndegrees = [1, 2, 4]\\nfig = plt.figure(figsize=(20, 10))\\nfor i in range(len(degrees)):\\n    ax = plt.subplot(1, len(degrees) + 1, i + 2)\\n    plt.setp(ax, xticks=(), yticks=())\\n\\n    polynomial_features = PolynomialFeatures(degree=degrees[i], include_bias=True)\\n\\n    linear_regression = LinearRegression()\\n    pipeline = Pipeline(\\n        [\\n            (\\\"polynomial_features\\\", polynomial_features),\\n            (\\\"linear_regression\\\", linear_regression),\\n        ]\\n    )\\n    pipeline.fit(X_train[:, np.newaxis], y_train)\\n\\n    # Evaluate the models using crossvalidation\\n    predicted_sizes = np.round(pipeline.predict(X_test[:, np.newaxis]))\\n    plt.style.use(\\\"fivethirtyeight\\\")\\n\\n    pd.Series(\\n        np.abs((np.array(y_test) - predicted_sizes).flatten()) <= 1\\n    ).value_counts().plot.bar(\\n        title=\\\"Accuracy Within 1 Class \\\\n for degree {}\\\".format(degrees[i])\\n    )\";\n                var nbb_cells = Jupyter.notebook.get_cells();\n                for (var i = 0; i < nbb_cells.length; ++i) {\n                    if (nbb_cells[i].input_prompt_number == nbb_cell_id) {\n                        if (nbb_cells[i].get_text() == nbb_unformatted_code) {\n                             nbb_cells[i].set_text(nbb_formatted_code);\n                        }\n                        break;\n                    }\n                }\n            }, 500);\n            ",
      "text/plain": [
       "<IPython.core.display.Javascript object>"
      ]
     },
     "metadata": {}
    }
   ],
   "metadata": {}
  },
  {
   "cell_type": "code",
   "execution_count": 6,
   "source": [
    "correlations = pd.DataFrame(PolynomialFeatures(degree=4, include_bias=False).fit_transform(np.array(nyc_pumpkins[\"price\"]).reshape(-1, 1))).corr()\r\n",
    "\r\n",
    "# Plot correlation matrix\r\n",
    "fig = plt.figure(figsize=(10, 10))\r\n",
    "ax = fig.add_subplot(111)\r\n",
    "cax = ax.matshow(correlations, vmin=-1, vmax=1)\r\n",
    "fig.colorbar(cax)\r\n",
    "ticks = np.arange(0, 4, 1)\r\n",
    "ax.set_xticks(ticks)\r\n",
    "ax.set_yticks(ticks)\r\n",
    "ax.set_xticklabels([\"X\", \"X^2\", \"X^3\", \"X^4\"])\r\n",
    "ax.set_yticklabels([\"X\", \"X^2\", \"X^3\", \"X^4\"])\r\n",
    "plt.show()"
   ],
   "outputs": [
    {
     "output_type": "display_data",
     "data": {
      "image/png": "[encoded data removed]",
      "text/plain": [
       "<Figure size 720x720 with 2 Axes>"
      ]
     },
     "metadata": {}
    },
    {
     "output_type": "display_data",
     "data": {
      "application/javascript": "\n            setTimeout(function() {\n                var nbb_cell_id = 6;\n                var nbb_unformatted_code = \"correlations = pd.DataFrame(PolynomialFeatures(degree=4, include_bias=False).fit_transform(np.array(nyc_pumpkins[\\\"price\\\"]).reshape(-1, 1))).corr()\\r\\n\\r\\n# Plot correlation matrix\\r\\nfig = plt.figure(figsize=(10, 10))\\r\\nax = fig.add_subplot(111)\\r\\ncax = ax.matshow(correlations, vmin=-1, vmax=1)\\r\\nfig.colorbar(cax)\\r\\nticks = np.arange(0, 4, 1)\\r\\nax.set_xticks(ticks)\\r\\nax.set_yticks(ticks)\\r\\nax.set_xticklabels([\\\"X\\\", \\\"X^2\\\", \\\"X^3\\\", \\\"X^4\\\"])\\r\\nax.set_yticklabels([\\\"X\\\", \\\"X^2\\\", \\\"X^3\\\", \\\"X^4\\\"])\\r\\nplt.show()\";\n                var nbb_formatted_code = \"correlations = pd.DataFrame(\\n    PolynomialFeatures(degree=4, include_bias=False).fit_transform(\\n        np.array(nyc_pumpkins[\\\"price\\\"]).reshape(-1, 1)\\n    )\\n).corr()\\n\\n# Plot correlation matrix\\nfig = plt.figure(figsize=(10, 10))\\nax = fig.add_subplot(111)\\ncax = ax.matshow(correlations, vmin=-1, vmax=1)\\nfig.colorbar(cax)\\nticks = np.arange(0, 4, 1)\\nax.set_xticks(ticks)\\nax.set_yticks(ticks)\\nax.set_xticklabels([\\\"X\\\", \\\"X^2\\\", \\\"X^3\\\", \\\"X^4\\\"])\\nax.set_yticklabels([\\\"X\\\", \\\"X^2\\\", \\\"X^3\\\", \\\"X^4\\\"])\\nplt.show()\";\n                var nbb_cells = Jupyter.notebook.get_cells();\n                for (var i = 0; i < nbb_cells.length; ++i) {\n                    if (nbb_cells[i].input_prompt_number == nbb_cell_id) {\n                        if (nbb_cells[i].get_text() == nbb_unformatted_code) {\n                             nbb_cells[i].set_text(nbb_formatted_code);\n                        }\n                        break;\n                    }\n                }\n            }, 500);\n            ",
      "text/plain": [
       "<IPython.core.display.Javascript object>"
      ]
     },
     "metadata": {}
    }
   ],
   "metadata": {}
  },
  {
   "cell_type": "code",
   "execution_count": 7,
   "source": [
    "X_train, X_test, y_train, y_test = train_test_split(nyc_pumpkins[\"price\"], nyc_pumpkins[\"size\"], test_size=0.20, random_state=42, shuffle=True)\r\n",
    "\r\n",
    "X_train[20] = -10\r\n",
    "y_train[20] = 30\r\n",
    "\r\n",
    "degrees = [1, 2, 4]\r\n",
    "fig = plt.figure(figsize=(20, 10))\r\n",
    "for i in range(len(degrees)):\r\n",
    "    ax = plt.subplot(1, len(degrees)+1, i + 2)\r\n",
    "    plt.setp(ax, xticks=(), yticks=())\r\n",
    "\r\n",
    "    polynomial_features = PolynomialFeatures(degree=degrees[i], include_bias=True)\r\n",
    "\r\n",
    "    linear_regression = LinearRegression()\r\n",
    "    pipeline = Pipeline([(\"polynomial_features\", polynomial_features),\r\n",
    "    (\"linear_regression\", linear_regression)])\r\n",
    "    pipeline.fit(X_train[:, np.newaxis], y_train)\r\n",
    "\r\n",
    "    # Evaluate the models using cross validation\r\n",
    "    predicted_sizes = np.round(pipeline.predict(X_test[:, np.newaxis]))\r\n",
    "    plt.style.use(\"fivethirtyeight\")\r\n",
    "\r\n",
    "    pd.Series(\r\n",
    "        np.abs((np.array(y_test) - predicted_sizes).flatten()) <= 1\r\n",
    "    ).value_counts().plot.bar(title=\"Accuracy Within 1 Class \\n for degree {}\".format(degrees[i]))"
   ],
   "outputs": [
    {
     "output_type": "stream",
     "name": "stderr",
     "text": [
      "<ipython-input-7-83e54817548c>:17: FutureWarning: Support for multi-dimensional indexing (e.g. `obj[:, None]`) is deprecated and will be removed in a future version.  Convert to a numpy array before indexing instead.\n",
      "  pipeline.fit(X_train[:, np.newaxis], y_train)\n",
      "<ipython-input-7-83e54817548c>:20: FutureWarning: Support for multi-dimensional indexing (e.g. `obj[:, None]`) is deprecated and will be removed in a future version.  Convert to a numpy array before indexing instead.\n",
      "  predicted_sizes = np.round(pipeline.predict(X_test[:, np.newaxis]))\n",
      "<ipython-input-7-83e54817548c>:17: FutureWarning: Support for multi-dimensional indexing (e.g. `obj[:, None]`) is deprecated and will be removed in a future version.  Convert to a numpy array before indexing instead.\n",
      "  pipeline.fit(X_train[:, np.newaxis], y_train)\n",
      "<ipython-input-7-83e54817548c>:20: FutureWarning: Support for multi-dimensional indexing (e.g. `obj[:, None]`) is deprecated and will be removed in a future version.  Convert to a numpy array before indexing instead.\n",
      "  predicted_sizes = np.round(pipeline.predict(X_test[:, np.newaxis]))\n",
      "<ipython-input-7-83e54817548c>:17: FutureWarning: Support for multi-dimensional indexing (e.g. `obj[:, None]`) is deprecated and will be removed in a future version.  Convert to a numpy array before indexing instead.\n",
      "  pipeline.fit(X_train[:, np.newaxis], y_train)\n",
      "<ipython-input-7-83e54817548c>:20: FutureWarning: Support for multi-dimensional indexing (e.g. `obj[:, None]`) is deprecated and will be removed in a future version.  Convert to a numpy array before indexing instead.\n",
      "  predicted_sizes = np.round(pipeline.predict(X_test[:, np.newaxis]))\n"
     ]
    },
    {
     "output_type": "display_data",
     "data": {
      "image/png": "[encoded data removed]",
      "text/plain": [
       "<Figure size 1440x720 with 3 Axes>"
      ]
     },
     "metadata": {}
    },
    {
     "output_type": "display_data",
     "data": {
      "application/javascript": "\n            setTimeout(function() {\n                var nbb_cell_id = 7;\n                var nbb_unformatted_code = \"X_train, X_test, y_train, y_test = train_test_split(nyc_pumpkins[\\\"price\\\"], nyc_pumpkins[\\\"size\\\"], test_size=0.20, random_state=42, shuffle=True)\\r\\n\\r\\nX_train[20] = -10\\r\\ny_train[20] = 30\\r\\n\\r\\ndegrees = [1, 2, 4]\\r\\nfig = plt.figure(figsize=(20, 10))\\r\\nfor i in range(len(degrees)):\\r\\n    ax = plt.subplot(1, len(degrees)+1, i + 2)\\r\\n    plt.setp(ax, xticks=(), yticks=())\\r\\n\\r\\n    polynomial_features = PolynomialFeatures(degree=degrees[i], include_bias=True)\\r\\n\\r\\n    linear_regression = LinearRegression()\\r\\n    pipeline = Pipeline([(\\\"polynomial_features\\\", polynomial_features),\\r\\n    (\\\"linear_regression\\\", linear_regression)])\\r\\n    pipeline.fit(X_train[:, np.newaxis], y_train)\\r\\n\\r\\n    # Evaluate the models using cross validation\\r\\n    predicted_sizes = np.round(pipeline.predict(X_test[:, np.newaxis]))\\r\\n    plt.style.use(\\\"fivethirtyeight\\\")\\r\\n\\r\\n    pd.Series(\\r\\n        np.abs((np.array(y_test) - predicted_sizes).flatten()) <= 1\\r\\n    ).value_counts().plot.bar(title=\\\"Accuracy Within 1 Class \\\\n for degree {}\\\".format(degrees[i]))\";\n                var nbb_formatted_code = \"X_train, X_test, y_train, y_test = train_test_split(\\n    nyc_pumpkins[\\\"price\\\"],\\n    nyc_pumpkins[\\\"size\\\"],\\n    test_size=0.20,\\n    random_state=42,\\n    shuffle=True,\\n)\\n\\nX_train[20] = -10\\ny_train[20] = 30\\n\\ndegrees = [1, 2, 4]\\nfig = plt.figure(figsize=(20, 10))\\nfor i in range(len(degrees)):\\n    ax = plt.subplot(1, len(degrees) + 1, i + 2)\\n    plt.setp(ax, xticks=(), yticks=())\\n\\n    polynomial_features = PolynomialFeatures(degree=degrees[i], include_bias=True)\\n\\n    linear_regression = LinearRegression()\\n    pipeline = Pipeline(\\n        [\\n            (\\\"polynomial_features\\\", polynomial_features),\\n            (\\\"linear_regression\\\", linear_regression),\\n        ]\\n    )\\n    pipeline.fit(X_train[:, np.newaxis], y_train)\\n\\n    # Evaluate the models using cross validation\\n    predicted_sizes = np.round(pipeline.predict(X_test[:, np.newaxis]))\\n    plt.style.use(\\\"fivethirtyeight\\\")\\n\\n    pd.Series(\\n        np.abs((np.array(y_test) - predicted_sizes).flatten()) <= 1\\n    ).value_counts().plot.bar(\\n        title=\\\"Accuracy Within 1 Class \\\\n for degree {}\\\".format(degrees[i])\\n    )\";\n                var nbb_cells = Jupyter.notebook.get_cells();\n                for (var i = 0; i < nbb_cells.length; ++i) {\n                    if (nbb_cells[i].input_prompt_number == nbb_cell_id) {\n                        if (nbb_cells[i].get_text() == nbb_unformatted_code) {\n                             nbb_cells[i].set_text(nbb_formatted_code);\n                        }\n                        break;\n                    }\n                }\n            }, 500);\n            ",
      "text/plain": [
       "<IPython.core.display.Javascript object>"
      ]
     },
     "metadata": {}
    }
   ],
   "metadata": {}
  },
  {
   "cell_type": "code",
   "execution_count": null,
   "source": [],
   "outputs": [],
   "metadata": {}
  }
 ],
 "metadata": {
  "orig_nbformat": 4,
  "language_info": {
   "name": "python",
   "version": "3.9.4",
   "mimetype": "text/x-python",
   "codemirror_mode": {
    "name": "ipython",
    "version": 3
   },
   "pygments_lexer": "ipython3",
   "nbconvert_exporter": "python",
   "file_extension": ".py"
  },
  "kernelspec": {
   "name": "python3",
   "display_name": "Python 3.9.4 64-bit"
  },
  "interpreter": {
   "hash": "9fdb9160099e666fbe1246fdc3611df6e34403c4a50d97f5ca90d3cacc6ef812"
  }
 },
 "nbformat": 4,
 "nbformat_minor": 2
}