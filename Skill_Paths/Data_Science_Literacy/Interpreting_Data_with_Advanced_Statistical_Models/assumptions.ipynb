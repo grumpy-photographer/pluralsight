{
 "cells": [
  {
   "cell_type": "markdown",
   "source": [
    "# Assumptions in Regression Model"
   ],
   "metadata": {}
  },
  {
   "cell_type": "code",
   "execution_count": 1,
   "source": [
    "import numpy as np\n",
    "import matplotlib\n",
    "import matplotlib.pyplot as plt\n",
    "import pandas as pd\n",
    "import statsmodels.api as sm\n",
    "from scipy import stats\n",
    "from statsmodels.stats.outliers_influence import variance_inflation_factor\n",
    "from sklearn import datasets, linear_model\n",
    "from sklearn.datasets import make_regression\n",
    "from sklearn.linear_model import LinearRegression\n",
    "from sklearn.compose import TransformedTargetRegressor\n",
    "from sklearn.model_selection import train_test_split\n",
    "from sklearn.metrics import median_absolute_error, r2_score\n",
    "from distutils.version import LooseVersion"
   ],
   "outputs": [],
   "metadata": {}
  },
  {
   "cell_type": "markdown",
   "source": [
    "# Lack of Normality\r\n",
    "\r\n",
    "A synthetic random regression problem is generated.  The targets `y` are modified by: 1) traslating all targets such that all entries are non-negative and 2) applying an exponential function to obtain non-linear targets which cannot be fitted using a simple linear model. \r\n",
    "\r\n",
    "Therefore, a logarithmic (`np.log1p`) and an exponential function (`np.expm1`) will be used to transform the targets before training a linear regression model and using it for prediction."
   ],
   "metadata": {}
  },
  {
   "cell_type": "code",
   "execution_count": null,
   "source": [
    "X, y = make_regression(n_samples=10000, noise=100, random_state=0)\n",
    "y = np.exp((y + abs(y.min())) / 200)\n",
    "y_trans = np.log1p(y)"
   ],
   "outputs": [],
   "metadata": {}
  },
  {
   "cell_type": "markdown",
   "source": [
    "The following illustrates the probability density functions of the target before and after applying the logarithmic functions."
   ],
   "metadata": {}
  },
  {
   "cell_type": "code",
   "execution_count": null,
   "source": [
    "f, (ax0, ax1) = plt.subplots(1, 2)\n",
    "\n",
    "ax0.hist(y, bins=100, **{\"density\": True})\n",
    "ax0.set_xlim([0, 2000])\n",
    "ax0.set_ylabel(\"Probability\")\n",
    "ax0.set_xlabel(\"Target\")\n",
    "ax0.set_title(\"Target Distribution\")\n",
    "\n",
    "ax1.hist(y_trans, bins=100, **{\"density\": True})\n",
    "ax1.set_ylabel(\"Probability\")\n",
    "ax1.set_xlabel(\"Target\")\n",
    "ax1.set_title(\"Transformed target distribution\")\n",
    "\n",
    "f.suptitle(\"Synthetic data\", y=0.035)\n",
    "f.tight_layout(rect=[0.05, 0.05, 0.95, 0.95])\n",
    "\n",
    "X_train, X_test, y_train, y_test = train_test_split(X, y, random_state=0)"
   ],
   "outputs": [],
   "metadata": {}
  },
  {
   "cell_type": "markdown",
   "source": [
    "At first, a linear model will be applied on the original targets.  Due to the non-linearity, the model trained will not be precise during the prediction.  Subsequently, a logarithmic function is used to linearize the targets, allowing better prediction even with a similar linear model as reported by the median absolute error (MAE)."
   ],
   "metadata": {}
  },
  {
   "cell_type": "code",
   "execution_count": null,
   "source": [
    "f, (ax0, ax1) = plt.subplots(1, 2, sharey=True)\n",
    "\n",
    "regr = LinearRegression()\n",
    "regr.fit(X_train, y_train)\n",
    "y_pred = regr.predict(X_test)\n",
    "\n",
    "ax0.scatter(y_test, y_pred)\n",
    "ax0.plot([0, 2000], [0, 2000], \"--k\")\n",
    "ax0.set_ylabel(\"Target Predicted\")\n",
    "ax0.set_xlabel(\"True Target\")\n",
    "ax0.set_title(\"Linear Regression \\n Without Target Transformation\")\n",
    "ax0.text(\n",
    "    100,\n",
    "    1750,\n",
    "    r\"$R^2$=%.2f, MAE=%.2f\"\n",
    "    % (r2_score(y_test, y_pred), median_absolute_error(y_test, y_pred)),\n",
    ")\n",
    "ax0.set_xlim([0, 2000])\n",
    "ax0.set_ylim([0, 2000])\n",
    "\n",
    "regr_trans = TransformedTargetRegressor(\n",
    "    regressor=LinearRegression(), func=np.log1p, inverse_func=np.expm1\n",
    ")\n",
    "\n",
    "regr_trans.fit(X_train, y_train)\n",
    "y_pred = regr_trans.predict(X_test)\n",
    "\n",
    "ax1.scatter(y_test, y_pred)\n",
    "ax1.plot([0, 2000], [0, 2000], \"--k\")\n",
    "ax1.set_ylabel(\"Target Predicted\")\n",
    "ax1.set_xlabel(\"True Target\")\n",
    "ax1.set_title(\"Linear Regression \\n Without Target Transformation\")\n",
    "ax1.text(\n",
    "    100,\n",
    "    1750,\n",
    "    r\"$R^2$=%.2f, MAE=%.2f\"\n",
    "    % (r2_score(y_test, y_pred), median_absolute_error(y_test, y_pred)),\n",
    ")\n",
    "ax1.set_xlim([0, 2000])\n",
    "ax1.set_ylim([0, 2000])\n",
    "\n",
    "f.suptitle(\"Synthetic Data\", y=0.035)\n",
    "f.tight_layout(rect=[0.05, 0.05, 0.95, 0.95])"
   ],
   "outputs": [],
   "metadata": {}
  },
  {
   "cell_type": "markdown",
   "source": [
    "## Collinearity and Signifiacance"
   ],
   "metadata": {}
  },
  {
   "cell_type": "code",
   "execution_count": null,
   "source": [
    "diabetes = datasets.load_diabetes()\n",
    "X = diabetes.data\n",
    "y = diabetes.target\n",
    "X2 = sm.add_constant(X)\n",
    "est = sm.OLS(y, X2)\n",
    "est2 = est.fit()\n",
    "print(est2.summary())"
   ],
   "outputs": [],
   "metadata": {}
  },
  {
   "cell_type": "code",
   "execution_count": null,
   "source": [
    "def calculate_vif_(X, thresh=5.0):\n",
    "    variables = list(range(X.shape[1]))\n",
    "    dropped = True\n",
    "    while dropped:\n",
    "        dropped = False\n",
    "        vif = [\n",
    "            variance_inflation_factor(X.iloc[:, variables].values, ix)\n",
    "            for ix in range(X.iloc[:, variables].shape[1])\n",
    "        ]\n",
    "        maxloc = vif.index(max(vif))\n",
    "        if max(vif) > thresh:\n",
    "            print(\n",
    "                \"dropping '\"\n",
    "                + str(X.iloc[:, variables].columns[maxloc])\n",
    "                + \"' at index: \"\n",
    "                + str(maxloc)\n",
    "            )\n",
    "            del variables[maxloc]\n",
    "            dropped = True\n",
    "    print(\"Remaining variables:\")\n",
    "    print(X.columns[variables])\n",
    "    return X.iloc[:, variables]"
   ],
   "outputs": [],
   "metadata": {}
  },
  {
   "cell_type": "code",
   "execution_count": null,
   "source": [
    "X = calculate_vif_(pd.DataFrame(X))"
   ],
   "outputs": [],
   "metadata": {}
  },
  {
   "cell_type": "code",
   "execution_count": null,
   "source": [
    "X2 = sm.add_constant(X)\n",
    "est = sm.OLS(y, X2)\n",
    "est2 = est.fit()\n",
    "print(est2.summary())"
   ],
   "outputs": [],
   "metadata": {}
  },
  {
   "cell_type": "code",
   "execution_count": null,
   "source": [],
   "outputs": [],
   "metadata": {}
  }
 ],
 "metadata": {
  "kernelspec": {
   "name": "python3",
   "display_name": "Python 3.9.4 64-bit"
  },
  "language_info": {
   "codemirror_mode": {
    "name": "ipython",
    "version": 3
   },
   "file_extension": ".py",
   "mimetype": "text/x-python",
   "name": "python",
   "nbconvert_exporter": "python",
   "pygments_lexer": "ipython3",
   "version": "3.9.4"
  },
  "toc": {
   "base_numbering": 1,
   "nav_menu": {},
   "number_sections": true,
   "sideBar": true,
   "skip_h1_title": false,
   "title_cell": "Table of Contents",
   "title_sidebar": "Contents",
   "toc_cell": false,
   "toc_position": {},
   "toc_section_display": true,
   "toc_window_display": false
  },
  "varInspector": {
   "cols": {
    "lenName": 16,
    "lenType": 16,
    "lenVar": 40
   },
   "kernels_config": {
    "python": {
     "delete_cmd_postfix": "",
     "delete_cmd_prefix": "del ",
     "library": "var_list.py",
     "varRefreshCmd": "print(var_dic_list())"
    },
    "r": {
     "delete_cmd_postfix": ") ",
     "delete_cmd_prefix": "rm(",
     "library": "var_list.r",
     "varRefreshCmd": "cat(var_dic_list()) "
    }
   },
   "types_to_exclude": [
    "module",
    "function",
    "builtin_function_or_method",
    "instance",
    "_Feature"
   ],
   "window_display": true
  },
  "interpreter": {
   "hash": "9fdb9160099e666fbe1246fdc3611df6e34403c4a50d97f5ca90d3cacc6ef812"
  }
 },
 "nbformat": 4,
 "nbformat_minor": 2
}