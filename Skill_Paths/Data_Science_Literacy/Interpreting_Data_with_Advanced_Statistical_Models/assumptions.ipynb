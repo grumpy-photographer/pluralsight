{
 "cells": [
  {
   "cell_type": "markdown",
   "source": [
    "# Assumptions in Regression Model"
   ],
   "metadata": {}
  },
  {
   "cell_type": "code",
   "execution_count": 1,
   "source": [
    "import numpy as np\r\n",
    "import matplotlib\r\n",
    "import matplotlib.pyplot as plt\r\n",
    "import pandas as pd\r\n",
    "import statsmodels.api as sm\r\n",
    "from scipy import stats\r\n",
    "from statsmodels.stats.outliers_influence import variance_inflation_factor\r\n",
    "from sklearn import datasets, linear_model\r\n",
    "from sklearn.datasets import make_regression\r\n",
    "from sklearn.linear_model import LinearRegression\r\n",
    "from sklearn.compose import TransformedTargetRegressor\r\n",
    "from sklearn.model_selection import train_test_split\r\n",
    "from sklearn.metrics import median_absolute_error, r2_score\r\n",
    "from distutils.version import LooseVersion\r\n"
   ],
   "outputs": [],
   "metadata": {}
  },
  {
   "cell_type": "markdown",
   "source": [
    "# Lack of Normality\r\n",
    "\r\n",
    "A synthetic random regression problem is generated.  The targets `y` are modified by: 1) traslating all targets such that all entries are non-negative and 2) applying an exponential function to obtain non-linear targets which cannot be fitted using a simple linear model. \r\n",
    "\r\n",
    "Therefore, a logarithmic (`np.log1p`) and an exponential function (`np.expm1`) will be used to transform the targets before training a linear regression model and using it for prediction."
   ],
   "metadata": {}
  },
  {
   "cell_type": "code",
   "execution_count": null,
   "source": [
    "X, y = make_regression(n_samples=10000, noise=100, random_state=0)\r\n",
    "y = np.exp((y + abs(y.min())) / 200)\r\n",
    "y_trans = np.log1p(y)"
   ],
   "outputs": [],
   "metadata": {}
  },
  {
   "cell_type": "markdown",
   "source": [
    "The following illustrates the probability density functions of the target before and after applying the logarithmic functions."
   ],
   "metadata": {}
  },
  {
   "cell_type": "code",
   "execution_count": null,
   "source": [
    "f, (ax0, ax1) = plt.subplots(1, 2)\r\n",
    "\r\n",
    "ax0.hist(y, bins=100, **{'density': True})\r\n",
    "ax0.set_xlim([0, 2000])\r\n",
    "ax0.set_ylabel('Probability')\r\n",
    "ax0.set_xlabel('Target')\r\n",
    "ax0.set_title(\"Target Distribution\")\r\n",
    "\r\n",
    "ax1.hist(y_trans, bins=100, **{'density': True})\r\n",
    "ax1.set_ylabel(\"Probability\")\r\n",
    "ax1.set_xlabel(\"Target\")\r\n",
    "ax1.set_title(\"Transformed target distribution\")\r\n",
    "\r\n",
    "f.suptitle(\"Synthetic data\", y=0.035)\r\n",
    "f.tight_layout(rect=[0.05, 0.05, 0.95, 0.95])\r\n",
    "\r\n",
    "X_train, X_test, y_train, y_test = train_test_split(X, y, random_state=0)"
   ],
   "outputs": [],
   "metadata": {}
  },
  {
   "cell_type": "markdown",
   "source": [
    "At first, a linear model will be applied on the original targets.  Due to the non-linearity, the model trained will not be precise during the prediction.  Subsequently, a logarithmic function is used to linearize the targets, allowing better prediction even with a similar linear model as reported by the median absolute error (MAE)."
   ],
   "metadata": {}
  },
  {
   "cell_type": "code",
   "execution_count": null,
   "source": [
    "f, (ax0, ax1)  = plt.subplots(1, 2, sharey=True)\r\n",
    "\r\n",
    "regr = LinearRegression()\r\n",
    "regr.fit(X_train, y_train)\r\n",
    "y_pred = regr.predict(X_test)\r\n",
    "\r\n",
    "ax0.scatter(y_test, y_pred)\r\n",
    "ax0.plot([0, 2000], [0, 2000], '--k')\r\n",
    "ax0.set_ylabel(\"Target Predicted\")\r\n",
    "ax0.set_xlabel(\"True Target\")\r\n",
    "ax0.set_title(\"Linear Regression \\n Without Target Transformation\")\r\n",
    "ax0.text(100, 1750, r'$R^2$=%.2f, MAE=%.2f' % (\r\n",
    "    r2_score(y_test, y_pred), median_absolute_error(y_test, y_pred)))\r\n",
    "ax0.set_xlim([0, 2000])\r\n",
    "ax0.set_ylim([0, 2000])\r\n",
    "\r\n",
    "regr_trans = TransformedTargetRegressor(regressor=LinearRegression(), func=np.log1p, inverse_func=np.expm1)\r\n",
    "\r\n",
    "regr_trans.fit(X_train, y_train)\r\n",
    "y_pred = regr_trans.predict(X_test)\r\n",
    "\r\n",
    "ax1.scatter(y_test, y_pred)\r\n",
    "ax1.plot([0, 2000], [0, 2000], '--k')\r\n",
    "ax1.set_ylabel(\"Target Predicted\")\r\n",
    "ax1.set_xlabel(\"True Target\")\r\n",
    "ax1.set_title(\"Linear Regression \\n Without Target Transformation\")\r\n",
    "ax1.text(100, 1750, r'$R^2$=%.2f, MAE=%.2f' % (\r\n",
    "    r2_score(y_test, y_pred), median_absolute_error(y_test, y_pred)))\r\n",
    "ax1.set_xlim([0, 2000])\r\n",
    "ax1.set_ylim([0, 2000])\r\n",
    "\r\n",
    "f.suptitle(\"Synthetic Data\", y=0.035)\r\n",
    "f.tight_layout(rect=[0.05, 0.05, 0.95, 0.95])"
   ],
   "outputs": [],
   "metadata": {}
  },
  {
   "cell_type": "markdown",
   "source": [
    "## Collinearity and Signifiacance"
   ],
   "metadata": {}
  },
  {
   "cell_type": "code",
   "execution_count": null,
   "source": [
    "diabetes = datasets.load_diabetes()\r\n",
    "X = diabetes.data\r\n",
    "y = diabetes.target\r\n",
    "X2 = sm.add_constant(X)\r\n",
    "est = sm.OLS(y, X2)\r\n",
    "est2 = est.fit()\r\n",
    "print(est2.summary())"
   ],
   "outputs": [],
   "metadata": {}
  },
  {
   "cell_type": "code",
   "execution_count": null,
   "source": [
    "def calculate_vif_(X, thresh=5.0):\r\n",
    "    variables = list(range(X.shape[1]))\r\n",
    "    dropped = True\r\n",
    "    while dropped:\r\n",
    "        dropped=False\r\n",
    "        vif = [variance_inflation_factor(X.iloc[:, variables].values, ix)\r\n",
    "                for ix in range(X.iloc[:, variables].shape[1])]\r\n",
    "        maxloc = vif.index(max(vif))\r\n",
    "        if max(vif) > thresh:\r\n",
    "            print('dropping \\'' + str(X.iloc[:, variables].columns[maxloc]) + '\\' at index: ' + str(maxloc))\r\n",
    "            del variables[maxloc]\r\n",
    "            dropped=True\r\n",
    "    print(\"Remaining variables:\")\r\n",
    "    print(X.columns[variables])\r\n",
    "    return X.iloc[:, variables]"
   ],
   "outputs": [],
   "metadata": {}
  },
  {
   "cell_type": "code",
   "execution_count": null,
   "source": [
    "X = calculate_vif_(pd.DataFrame(X))"
   ],
   "outputs": [],
   "metadata": {}
  },
  {
   "cell_type": "code",
   "execution_count": null,
   "source": [
    "X2 = sm.add_constant(X)\r\n",
    "est = sm.OLS(y, X2)\r\n",
    "est2 = est.fit()\r\n",
    "print(est2.summary())"
   ],
   "outputs": [],
   "metadata": {}
  },
  {
   "cell_type": "code",
   "execution_count": null,
   "source": [],
   "outputs": [],
   "metadata": {}
  }
 ],
 "metadata": {
  "kernelspec": {
   "name": "python3",
   "display_name": "Python 3.9.4 64-bit"
  },
  "language_info": {
   "codemirror_mode": {
    "name": "ipython",
    "version": 3
   },
   "file_extension": ".py",
   "mimetype": "text/x-python",
   "name": "python",
   "nbconvert_exporter": "python",
   "pygments_lexer": "ipython3",
   "version": "3.9.4"
  },
  "toc": {
   "base_numbering": 1,
   "nav_menu": {},
   "number_sections": true,
   "sideBar": true,
   "skip_h1_title": false,
   "title_cell": "Table of Contents",
   "title_sidebar": "Contents",
   "toc_cell": false,
   "toc_position": {},
   "toc_section_display": true,
   "toc_window_display": false
  },
  "varInspector": {
   "cols": {
    "lenName": 16,
    "lenType": 16,
    "lenVar": 40
   },
   "kernels_config": {
    "python": {
     "delete_cmd_postfix": "",
     "delete_cmd_prefix": "del ",
     "library": "var_list.py",
     "varRefreshCmd": "print(var_dic_list())"
    },
    "r": {
     "delete_cmd_postfix": ") ",
     "delete_cmd_prefix": "rm(",
     "library": "var_list.r",
     "varRefreshCmd": "cat(var_dic_list()) "
    }
   },
   "types_to_exclude": [
    "module",
    "function",
    "builtin_function_or_method",
    "instance",
    "_Feature"
   ],
   "window_display": true
  },
  "interpreter": {
   "hash": "9fdb9160099e666fbe1246fdc3611df6e34403c4a50d97f5ca90d3cacc6ef812"
  }
 },
 "nbformat": 4,
 "nbformat_minor": 2
}