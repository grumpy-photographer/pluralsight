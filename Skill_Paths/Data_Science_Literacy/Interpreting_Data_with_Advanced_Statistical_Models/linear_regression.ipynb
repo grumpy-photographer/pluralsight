{
 "cells": [
  {
   "cell_type": "markdown",
   "source": [
    "# Linear Regression\n",
    "\n",
    "In this example, we will use linear regression for the first feature of the diabetes dataset as done in https://scikit-learn.org/stable/auto_examples/linear_model/plot_ols.html.  We will split the data into train and test datasets to measure performance. "
   ],
   "metadata": {}
  },
  {
   "cell_type": "code",
   "execution_count": null,
   "source": [
    "import matplotlib.pyplot as plt\r\n",
    "import numpy as np\r\n",
    "from sklearn import datasets, linear_model\r\n",
    "from sklearn.metrics import mean_squared_error, r2_score\r\n",
    "from sklearn.model_selection import train_test_split"
   ],
   "outputs": [],
   "metadata": {}
  },
  {
   "cell_type": "code",
   "execution_count": null,
   "source": [
    "diabetes = datasets.load_diabetes()  # load dataset\r\n",
    "diabetes_X = diabetes.data[:, 0]  # get first feature\r\n",
    "X_train, X_test, y_train, y_test = train_test_split(diabetes_X,\r\n",
    "                                                    diabetes.target,\r\n",
    "                                                    test_size=0.20,\r\n",
    "                                                    random_state=42,\r\n",
    "                                                    shuffle=True)"
   ],
   "outputs": [],
   "metadata": {}
  },
  {
   "cell_type": "code",
   "execution_count": null,
   "source": [
    "X_train = X_train.reshape(-1, 1)\r\n",
    "X_test = X_test.reshape(-1, 1)\r\n",
    "y_test = y_test.reshape(-1, 1)\r\n",
    "y_train = y_train.reshape(-1, 1)"
   ],
   "outputs": [],
   "metadata": {}
  },
  {
   "cell_type": "code",
   "execution_count": null,
   "source": [
    "print(\"Size of training set is {}\".format(X_train.shape))\r\n",
    "print(\"Size of the Label training set is {}\".format(y_train.shape))\r\n",
    "print(\"Size of the Label training set is {}\".format(y_test.shape))\r\n",
    "print(\"Size of the training set is {}\".format(X_test.shape))"
   ],
   "outputs": [],
   "metadata": {}
  },
  {
   "cell_type": "markdown",
   "source": [
    "As you can see, with the simple train_test_split the partion of the dataset is easy."
   ],
   "metadata": {}
  },
  {
   "cell_type": "markdown",
   "source": [
    "### Important note is that train_test_split creates 1D arrays.  Data needs reshaped via Linear Regression."
   ],
   "metadata": {}
  },
  {
   "cell_type": "code",
   "execution_count": null,
   "source": [
    "# Create linear regression object\r\n",
    "regr = linear_model.LinearRegression()"
   ],
   "outputs": [],
   "metadata": {}
  },
  {
   "cell_type": "code",
   "execution_count": null,
   "source": [
    "# Train model\r\n",
    "regr.fit(X_train, y_train)"
   ],
   "outputs": [],
   "metadata": {}
  },
  {
   "cell_type": "code",
   "execution_count": null,
   "source": [
    "# Make predictions using test data\r\n",
    "y_pred = regr.predict(X_test)"
   ],
   "outputs": [],
   "metadata": {}
  },
  {
   "cell_type": "code",
   "execution_count": null,
   "source": [
    "# Coefficients\r\n",
    "print(\"Coefficients:\", regr.coef_)\r\n",
    "\r\n",
    "# Mean Squared Error\r\n",
    "print(\"Mean Squared Error: %.2f\" % mean_squared_error(y_test, y_pred))\r\n",
    "\r\n",
    "# Variance\r\n",
    "print(\"Variance: %.2f\" % r2_score(y_test, y_pred))"
   ],
   "outputs": [],
   "metadata": {}
  },
  {
   "cell_type": "code",
   "execution_count": null,
   "source": [
    "plt.scatter(X_test, y_test, color=\"black\")\r\n",
    "plt.plot(X_test, y_pred, color=\"blue\", linewidth=3)\r\n",
    "plt.xlabel(\"Glu\")\r\n",
    "plt.ylabel(\"Advancement of Diabetes\")\r\n",
    "plt.show()"
   ],
   "outputs": [],
   "metadata": {}
  },
  {
   "cell_type": "code",
   "execution_count": null,
   "source": [],
   "outputs": [],
   "metadata": {}
  }
 ],
 "metadata": {
  "interpreter": {
   "hash": "9fdb9160099e666fbe1246fdc3611df6e34403c4a50d97f5ca90d3cacc6ef812"
  },
  "kernelspec": {
   "name": "python3",
   "display_name": "Python 3.9.4 64-bit"
  },
  "language_info": {
   "codemirror_mode": {
    "name": "ipython",
    "version": 3
   },
   "file_extension": ".py",
   "mimetype": "text/x-python",
   "name": "python",
   "nbconvert_exporter": "python",
   "pygments_lexer": "ipython3",
   "version": "3.9.4"
  },
  "toc": {
   "base_numbering": 1,
   "nav_menu": {},
   "number_sections": true,
   "sideBar": true,
   "skip_h1_title": false,
   "title_cell": "Table of Contents",
   "title_sidebar": "Contents",
   "toc_cell": false,
   "toc_position": {},
   "toc_section_display": true,
   "toc_window_display": false
  }
 },
 "nbformat": 4,
 "nbformat_minor": 2
}