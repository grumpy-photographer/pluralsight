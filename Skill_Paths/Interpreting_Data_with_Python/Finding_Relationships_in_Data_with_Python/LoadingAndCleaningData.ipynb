{
 "cells": [
  {
   "cell_type": "code",
   "execution_count": 3,
   "metadata": {},
   "outputs": [],
   "source": [
    "import matplotlib\n",
    "import pandas as pd\n",
    "\n",
    "import matplotlib.pyplot as plt"
   ]
  },
  {
   "cell_type": "code",
   "execution_count": 4,
   "metadata": {},
   "outputs": [
    {
     "data": {
      "text/html": [
       "<div>\n",
       "<style scoped>\n",
       "    .dataframe tbody tr th:only-of-type {\n",
       "        vertical-align: middle;\n",
       "    }\n",
       "\n",
       "    .dataframe tbody tr th {\n",
       "        vertical-align: top;\n",
       "    }\n",
       "\n",
       "    .dataframe thead th {\n",
       "        text-align: right;\n",
       "    }\n",
       "</style>\n",
       "<table border=\"1\" class=\"dataframe\">\n",
       "  <thead>\n",
       "    <tr style=\"text-align: right;\">\n",
       "      <th></th>\n",
       "      <th>Month</th>\n",
       "      <th>U.S. Crude Oil</th>\n",
       "      <th>Alabama</th>\n",
       "      <th>Alaska</th>\n",
       "      <th>Arkansas</th>\n",
       "      <th>Arizona</th>\n",
       "      <th>California</th>\n",
       "      <th>Colorado</th>\n",
       "      <th>Federal Offshore Gulf of Mexico Crude Oil</th>\n",
       "      <th>Federal Offshore Pacific Crude Oil</th>\n",
       "      <th>...</th>\n",
       "      <th>Ohio</th>\n",
       "      <th>Oklahoma</th>\n",
       "      <th>Pennsylvania</th>\n",
       "      <th>South Dakota</th>\n",
       "      <th>Wyoming</th>\n",
       "      <th>West Virginia</th>\n",
       "      <th>Virginia</th>\n",
       "      <th>Utah</th>\n",
       "      <th>Texas</th>\n",
       "      <th>Tennessee</th>\n",
       "    </tr>\n",
       "  </thead>\n",
       "  <tbody>\n",
       "    <tr>\n",
       "      <th>0</th>\n",
       "      <td>2008-06-01</td>\n",
       "      <td>5138</td>\n",
       "      <td>21</td>\n",
       "      <td>655</td>\n",
       "      <td>17</td>\n",
       "      <td>0</td>\n",
       "      <td>583</td>\n",
       "      <td>82</td>\n",
       "      <td>1326</td>\n",
       "      <td>67</td>\n",
       "      <td>...</td>\n",
       "      <td>14</td>\n",
       "      <td>186</td>\n",
       "      <td>8</td>\n",
       "      <td>5</td>\n",
       "      <td>144</td>\n",
       "      <td>6</td>\n",
       "      <td>0</td>\n",
       "      <td>60</td>\n",
       "      <td>1097</td>\n",
       "      <td>1</td>\n",
       "    </tr>\n",
       "    <tr>\n",
       "      <th>1</th>\n",
       "      <td>2008-07-01</td>\n",
       "      <td>5177</td>\n",
       "      <td>21</td>\n",
       "      <td>640</td>\n",
       "      <td>17</td>\n",
       "      <td>0</td>\n",
       "      <td>586</td>\n",
       "      <td>81</td>\n",
       "      <td>1372</td>\n",
       "      <td>61</td>\n",
       "      <td>...</td>\n",
       "      <td>14</td>\n",
       "      <td>184</td>\n",
       "      <td>8</td>\n",
       "      <td>5</td>\n",
       "      <td>145</td>\n",
       "      <td>5</td>\n",
       "      <td>0</td>\n",
       "      <td>61</td>\n",
       "      <td>1111</td>\n",
       "      <td>1</td>\n",
       "    </tr>\n",
       "    <tr>\n",
       "      <th>2</th>\n",
       "      <td>2008-08-01</td>\n",
       "      <td>5003</td>\n",
       "      <td>21</td>\n",
       "      <td>544</td>\n",
       "      <td>17</td>\n",
       "      <td>0</td>\n",
       "      <td>588</td>\n",
       "      <td>82</td>\n",
       "      <td>1272</td>\n",
       "      <td>70</td>\n",
       "      <td>...</td>\n",
       "      <td>14</td>\n",
       "      <td>188</td>\n",
       "      <td>8</td>\n",
       "      <td>5</td>\n",
       "      <td>145</td>\n",
       "      <td>6</td>\n",
       "      <td>0</td>\n",
       "      <td>62</td>\n",
       "      <td>1110</td>\n",
       "      <td>1</td>\n",
       "    </tr>\n",
       "    <tr>\n",
       "      <th>3</th>\n",
       "      <td>2008-09-01</td>\n",
       "      <td>3974</td>\n",
       "      <td>21</td>\n",
       "      <td>681</td>\n",
       "      <td>16</td>\n",
       "      <td>0</td>\n",
       "      <td>587</td>\n",
       "      <td>88</td>\n",
       "      <td>242</td>\n",
       "      <td>67</td>\n",
       "      <td>...</td>\n",
       "      <td>14</td>\n",
       "      <td>186</td>\n",
       "      <td>8</td>\n",
       "      <td>5</td>\n",
       "      <td>144</td>\n",
       "      <td>6</td>\n",
       "      <td>0</td>\n",
       "      <td>63</td>\n",
       "      <td>1055</td>\n",
       "      <td>1</td>\n",
       "    </tr>\n",
       "    <tr>\n",
       "      <th>4</th>\n",
       "      <td>2008-10-01</td>\n",
       "      <td>4738</td>\n",
       "      <td>21</td>\n",
       "      <td>716</td>\n",
       "      <td>17</td>\n",
       "      <td>0</td>\n",
       "      <td>586</td>\n",
       "      <td>86</td>\n",
       "      <td>803</td>\n",
       "      <td>66</td>\n",
       "      <td>...</td>\n",
       "      <td>14</td>\n",
       "      <td>185</td>\n",
       "      <td>8</td>\n",
       "      <td>5</td>\n",
       "      <td>145</td>\n",
       "      <td>6</td>\n",
       "      <td>0</td>\n",
       "      <td>64</td>\n",
       "      <td>1125</td>\n",
       "      <td>1</td>\n",
       "    </tr>\n",
       "  </tbody>\n",
       "</table>\n",
       "<p>5 rows × 36 columns</p>\n",
       "</div>"
      ],
      "text/plain": [
       "        Month  U.S. Crude Oil   Alabama  Alaska  Arkansas  Arizona  \\\n",
       "0  2008-06-01             5138       21     655        17        0   \n",
       "1  2008-07-01             5177       21     640        17        0   \n",
       "2  2008-08-01             5003       21     544        17        0   \n",
       "3  2008-09-01             3974       21     681        16        0   \n",
       "4  2008-10-01             4738       21     716        17        0   \n",
       "\n",
       "   California  Colorado  Federal Offshore Gulf of Mexico Crude Oil  \\\n",
       "0         583        82                                       1326   \n",
       "1         586        81                                       1372   \n",
       "2         588        82                                       1272   \n",
       "3         587        88                                        242   \n",
       "4         586        86                                        803   \n",
       "\n",
       "   Federal Offshore Pacific Crude Oil  ...  Ohio  Oklahoma  Pennsylvania  \\\n",
       "0                                  67  ...    14       186             8   \n",
       "1                                  61  ...    14       184             8   \n",
       "2                                  70  ...    14       188             8   \n",
       "3                                  67  ...    14       186             8   \n",
       "4                                  66  ...    14       185             8   \n",
       "\n",
       "   South Dakota  Wyoming  West Virginia  Virginia  Utah  Texas  Tennessee  \n",
       "0             5      144              6         0    60   1097          1  \n",
       "1             5      145              5         0    61   1111          1  \n",
       "2             5      145              6         0    62   1110          1  \n",
       "3             5      144              6         0    63   1055          1  \n",
       "4             5      145              6         0    64   1125          1  \n",
       "\n",
       "[5 rows x 36 columns]"
      ]
     },
     "execution_count": 4,
     "metadata": {},
     "output_type": "execute_result"
    }
   ],
   "source": [
    "crude_oil_data = pd.read_csv(\"./datasets/U.S._crude_oil_production.csv\")\n",
    "\n",
    "crude_oil_data.head()"
   ]
  },
  {
   "cell_type": "code",
   "execution_count": 5,
   "metadata": {},
   "outputs": [
    {
     "data": {
      "text/html": [
       "<div>\n",
       "<style scoped>\n",
       "    .dataframe tbody tr th:only-of-type {\n",
       "        vertical-align: middle;\n",
       "    }\n",
       "\n",
       "    .dataframe tbody tr th {\n",
       "        vertical-align: top;\n",
       "    }\n",
       "\n",
       "    .dataframe thead th {\n",
       "        text-align: right;\n",
       "    }\n",
       "</style>\n",
       "<table border=\"1\" class=\"dataframe\">\n",
       "  <thead>\n",
       "    <tr style=\"text-align: right;\">\n",
       "      <th></th>\n",
       "      <th>Month</th>\n",
       "      <th>U.S. Crude Oil</th>\n",
       "      <th>Alabama</th>\n",
       "      <th>Alaska</th>\n",
       "      <th>Arkansas</th>\n",
       "      <th>Arizona</th>\n",
       "      <th>California</th>\n",
       "      <th>Colorado</th>\n",
       "      <th>Federal Offshore Gulf of Mexico Crude Oil</th>\n",
       "      <th>Federal Offshore Pacific Crude Oil</th>\n",
       "      <th>...</th>\n",
       "      <th>Ohio</th>\n",
       "      <th>Oklahoma</th>\n",
       "      <th>Pennsylvania</th>\n",
       "      <th>South Dakota</th>\n",
       "      <th>Wyoming</th>\n",
       "      <th>West Virginia</th>\n",
       "      <th>Virginia</th>\n",
       "      <th>Utah</th>\n",
       "      <th>Texas</th>\n",
       "      <th>Tennessee</th>\n",
       "    </tr>\n",
       "  </thead>\n",
       "  <tbody>\n",
       "    <tr>\n",
       "      <th>116</th>\n",
       "      <td>2018-02-01</td>\n",
       "      <td>10248</td>\n",
       "      <td>17</td>\n",
       "      <td>513</td>\n",
       "      <td>14</td>\n",
       "      <td>0</td>\n",
       "      <td>463</td>\n",
       "      <td>428</td>\n",
       "      <td>1704</td>\n",
       "      <td>14</td>\n",
       "      <td>...</td>\n",
       "      <td>54</td>\n",
       "      <td>527</td>\n",
       "      <td>18</td>\n",
       "      <td>4</td>\n",
       "      <td>223</td>\n",
       "      <td>27</td>\n",
       "      <td>0</td>\n",
       "      <td>100</td>\n",
       "      <td>4015</td>\n",
       "      <td>1</td>\n",
       "    </tr>\n",
       "    <tr>\n",
       "      <th>117</th>\n",
       "      <td>2018-03-01</td>\n",
       "      <td>10461</td>\n",
       "      <td>17</td>\n",
       "      <td>512</td>\n",
       "      <td>14</td>\n",
       "      <td>0</td>\n",
       "      <td>462</td>\n",
       "      <td>428</td>\n",
       "      <td>1681</td>\n",
       "      <td>16</td>\n",
       "      <td>...</td>\n",
       "      <td>54</td>\n",
       "      <td>543</td>\n",
       "      <td>18</td>\n",
       "      <td>4</td>\n",
       "      <td>231</td>\n",
       "      <td>29</td>\n",
       "      <td>0</td>\n",
       "      <td>104</td>\n",
       "      <td>4185</td>\n",
       "      <td>1</td>\n",
       "    </tr>\n",
       "    <tr>\n",
       "      <th>118</th>\n",
       "      <td>2018-04-01</td>\n",
       "      <td>10475</td>\n",
       "      <td>17</td>\n",
       "      <td>497</td>\n",
       "      <td>14</td>\n",
       "      <td>0</td>\n",
       "      <td>465</td>\n",
       "      <td>447</td>\n",
       "      <td>1583</td>\n",
       "      <td>16</td>\n",
       "      <td>...</td>\n",
       "      <td>54</td>\n",
       "      <td>531</td>\n",
       "      <td>19</td>\n",
       "      <td>4</td>\n",
       "      <td>232</td>\n",
       "      <td>29</td>\n",
       "      <td>0</td>\n",
       "      <td>103</td>\n",
       "      <td>4222</td>\n",
       "      <td>1</td>\n",
       "    </tr>\n",
       "    <tr>\n",
       "      <th>119</th>\n",
       "      <td>2018-05-01</td>\n",
       "      <td>10443</td>\n",
       "      <td>16</td>\n",
       "      <td>496</td>\n",
       "      <td>14</td>\n",
       "      <td>0</td>\n",
       "      <td>464</td>\n",
       "      <td>447</td>\n",
       "      <td>1504</td>\n",
       "      <td>15</td>\n",
       "      <td>...</td>\n",
       "      <td>58</td>\n",
       "      <td>529</td>\n",
       "      <td>19</td>\n",
       "      <td>3</td>\n",
       "      <td>228</td>\n",
       "      <td>29</td>\n",
       "      <td>0</td>\n",
       "      <td>97</td>\n",
       "      <td>4245</td>\n",
       "      <td>1</td>\n",
       "    </tr>\n",
       "    <tr>\n",
       "      <th>120</th>\n",
       "      <td>2018-06-01</td>\n",
       "      <td>10674</td>\n",
       "      <td>16</td>\n",
       "      <td>451</td>\n",
       "      <td>14</td>\n",
       "      <td>0</td>\n",
       "      <td>462</td>\n",
       "      <td>423</td>\n",
       "      <td>1658</td>\n",
       "      <td>15</td>\n",
       "      <td>...</td>\n",
       "      <td>65</td>\n",
       "      <td>526</td>\n",
       "      <td>18</td>\n",
       "      <td>4</td>\n",
       "      <td>226</td>\n",
       "      <td>30</td>\n",
       "      <td>0</td>\n",
       "      <td>94</td>\n",
       "      <td>4410</td>\n",
       "      <td>1</td>\n",
       "    </tr>\n",
       "  </tbody>\n",
       "</table>\n",
       "<p>5 rows × 36 columns</p>\n",
       "</div>"
      ],
      "text/plain": [
       "          Month  U.S. Crude Oil   Alabama  Alaska  Arkansas  Arizona  \\\n",
       "116  2018-02-01            10248       17     513        14        0   \n",
       "117  2018-03-01            10461       17     512        14        0   \n",
       "118  2018-04-01            10475       17     497        14        0   \n",
       "119  2018-05-01            10443       16     496        14        0   \n",
       "120  2018-06-01            10674       16     451        14        0   \n",
       "\n",
       "     California  Colorado  Federal Offshore Gulf of Mexico Crude Oil  \\\n",
       "116         463       428                                       1704   \n",
       "117         462       428                                       1681   \n",
       "118         465       447                                       1583   \n",
       "119         464       447                                       1504   \n",
       "120         462       423                                       1658   \n",
       "\n",
       "     Federal Offshore Pacific Crude Oil  ...  Ohio  Oklahoma  Pennsylvania  \\\n",
       "116                                  14  ...    54       527            18   \n",
       "117                                  16  ...    54       543            18   \n",
       "118                                  16  ...    54       531            19   \n",
       "119                                  15  ...    58       529            19   \n",
       "120                                  15  ...    65       526            18   \n",
       "\n",
       "     South Dakota  Wyoming  West Virginia  Virginia  Utah  Texas  Tennessee  \n",
       "116             4      223             27         0   100   4015          1  \n",
       "117             4      231             29         0   104   4185          1  \n",
       "118             4      232             29         0   103   4222          1  \n",
       "119             3      228             29         0    97   4245          1  \n",
       "120             4      226             30         0    94   4410          1  \n",
       "\n",
       "[5 rows x 36 columns]"
      ]
     },
     "execution_count": 5,
     "metadata": {},
     "output_type": "execute_result"
    }
   ],
   "source": [
    "crude_oil_data.tail()"
   ]
  },
  {
   "cell_type": "code",
   "execution_count": 6,
   "metadata": {},
   "outputs": [
    {
     "data": {
      "text/plain": [
       "(121, 36)"
      ]
     },
     "execution_count": 6,
     "metadata": {},
     "output_type": "execute_result"
    }
   ],
   "source": [
    "crude_oil_data.shape"
   ]
  },
  {
   "cell_type": "code",
   "execution_count": 7,
   "metadata": {},
   "outputs": [
    {
     "data": {
      "text/plain": [
       "Index(['Month', 'U.S. Crude Oil ', 'Alabama', 'Alaska', 'Arkansas', 'Arizona',\n",
       "       'California', 'Colorado', 'Federal Offshore Gulf of Mexico Crude Oil',\n",
       "       'Federal Offshore Pacific Crude Oil', 'Florida', 'Idaho', 'Illinois',\n",
       "       'Indiana', 'Kansas', 'Kentucky', 'Louisiana', 'Michigan', 'Mississippi',\n",
       "       'Missouri', 'Nebraska', 'Montana', 'Nevada', 'New Mexico', 'New York',\n",
       "       'North Dakota', 'Ohio', 'Oklahoma', 'Pennsylvania', 'South Dakota',\n",
       "       'Wyoming', 'West Virginia', 'Virginia', 'Utah', 'Texas', 'Tennessee'],\n",
       "      dtype='object')"
      ]
     },
     "execution_count": 7,
     "metadata": {},
     "output_type": "execute_result"
    }
   ],
   "source": [
    "crude_oil_data.columns"
   ]
  },
  {
   "cell_type": "code",
   "execution_count": 8,
   "metadata": {},
   "outputs": [
    {
     "data": {
      "text/plain": [
       "Index(['Arizona', 'Virginia'], dtype='object')"
      ]
     },
     "execution_count": 8,
     "metadata": {},
     "output_type": "execute_result"
    }
   ],
   "source": [
    "crude_oil_data.columns[(crude_oil_data.sum(axis=0)) == 0]"
   ]
  },
  {
   "cell_type": "code",
   "execution_count": 9,
   "metadata": {},
   "outputs": [
    {
     "data": {
      "text/plain": [
       "Index(['Month', 'U.S. Crude Oil ', 'Alabama', 'Alaska', 'Arkansas',\n",
       "       'California', 'Colorado', 'Federal Offshore Gulf of Mexico Crude Oil',\n",
       "       'Federal Offshore Pacific Crude Oil', 'Florida', 'Idaho', 'Illinois',\n",
       "       'Indiana', 'Kansas', 'Kentucky', 'Louisiana', 'Michigan', 'Mississippi',\n",
       "       'Missouri', 'Nebraska', 'Montana', 'Nevada', 'New Mexico', 'New York',\n",
       "       'North Dakota', 'Ohio', 'Oklahoma', 'Pennsylvania', 'South Dakota',\n",
       "       'Wyoming', 'West Virginia', 'Utah', 'Texas', 'Tennessee'],\n",
       "      dtype='object')"
      ]
     },
     "execution_count": 9,
     "metadata": {},
     "output_type": "execute_result"
    }
   ],
   "source": [
    "crude_oil_data.drop([\"Arizona\", \"Virginia\"], inplace=True, axis=1)\n",
    "crude_oil_data.columns"
   ]
  },
  {
   "cell_type": "code",
   "execution_count": 10,
   "metadata": {},
   "outputs": [
    {
     "data": {
      "text/plain": [
       "0   2008-06-01\n",
       "1   2008-07-01\n",
       "2   2008-08-01\n",
       "3   2008-09-01\n",
       "4   2008-10-01\n",
       "Name: Date, dtype: datetime64[ns]"
      ]
     },
     "execution_count": 10,
     "metadata": {},
     "output_type": "execute_result"
    }
   ],
   "source": [
    "crude_oil_data[\"Date\"] = pd.to_datetime(crude_oil_data[\"Month\"])\n",
    "crude_oil_data[\"Date\"].head()"
   ]
  },
  {
   "cell_type": "code",
   "execution_count": 11,
   "metadata": {},
   "outputs": [
    {
     "data": {
      "text/plain": [
       "Index(['U.S. Crude Oil ', 'Alabama', 'Alaska', 'Arkansas', 'California',\n",
       "       'Colorado', 'Federal Offshore Gulf of Mexico Crude Oil',\n",
       "       'Federal Offshore Pacific Crude Oil', 'Florida', 'Idaho', 'Illinois',\n",
       "       'Indiana', 'Kansas', 'Kentucky', 'Louisiana', 'Michigan', 'Mississippi',\n",
       "       'Missouri', 'Nebraska', 'Montana', 'Nevada', 'New Mexico', 'New York',\n",
       "       'North Dakota', 'Ohio', 'Oklahoma', 'Pennsylvania', 'South Dakota',\n",
       "       'Wyoming', 'West Virginia', 'Utah', 'Texas', 'Tennessee', 'Date'],\n",
       "      dtype='object')"
      ]
     },
     "execution_count": 11,
     "metadata": {},
     "output_type": "execute_result"
    }
   ],
   "source": [
    "crude_oil_data.drop(\"Month\", inplace=True, axis=1)\n",
    "crude_oil_data.columns"
   ]
  },
  {
   "cell_type": "code",
   "execution_count": 12,
   "metadata": {},
   "outputs": [
    {
     "data": {
      "text/plain": [
       "Index(['U.S. Crude Oil ', 'Alabama', 'Alaska', 'Arkansas', 'California',\n",
       "       'Colorado', 'Mexico', 'Pacific', 'Florida', 'Idaho', 'Illinois',\n",
       "       'Indiana', 'Kansas', 'Kentucky', 'Louisiana', 'Michigan', 'Mississippi',\n",
       "       'Missouri', 'Nebraska', 'Montana', 'Nevada', 'New Mexico', 'New York',\n",
       "       'North Dakota', 'Ohio', 'Oklahoma', 'Pennsylvania', 'South Dakota',\n",
       "       'Wyoming', 'West Virginia', 'Utah', 'Texas', 'Tennessee', 'Date'],\n",
       "      dtype='object')"
      ]
     },
     "execution_count": 12,
     "metadata": {},
     "output_type": "execute_result"
    }
   ],
   "source": [
    "crude_oil_data = crude_oil_data.rename(\n",
    "    columns={\n",
    "        \"Federal Offshore Gulf of Mexico Crude Oil\": \"Mexico\",\n",
    "        \"Federal Offshore Pacific Crude Oil\": \"Pacific\",\n",
    "    }\n",
    ")\n",
    "crude_oil_data.columns"
   ]
  },
  {
   "cell_type": "code",
   "execution_count": 13,
   "metadata": {},
   "outputs": [
    {
     "data": {
      "text/plain": [
       "97     2016\n",
       "111    2017\n",
       "112    2017\n",
       "39     2011\n",
       "66     2013\n",
       "83     2015\n",
       "1      2008\n",
       "94     2016\n",
       "24     2010\n",
       "43     2012\n",
       "Name: Year, dtype: int64"
      ]
     },
     "execution_count": 13,
     "metadata": {},
     "output_type": "execute_result"
    }
   ],
   "source": [
    "crude_oil_data[\"Year\"] = crude_oil_data[\"Date\"].dt.year\n",
    "crude_oil_data[\"Year\"].sample(10)"
   ]
  },
  {
   "cell_type": "code",
   "execution_count": 14,
   "metadata": {},
   "outputs": [
    {
     "data": {
      "text/plain": [
       "60      6\n",
       "74      8\n",
       "93      3\n",
       "28     10\n",
       "102    12\n",
       "9       3\n",
       "38      8\n",
       "95      5\n",
       "67      1\n",
       "84      6\n",
       "Name: Month, dtype: int64"
      ]
     },
     "execution_count": 14,
     "metadata": {},
     "output_type": "execute_result"
    }
   ],
   "source": [
    "crude_oil_data[\"Month\"] = crude_oil_data[\"Date\"].dt.month\n",
    "crude_oil_data[\"Month\"].sample(10)"
   ]
  },
  {
   "cell_type": "code",
   "execution_count": 15,
   "metadata": {},
   "outputs": [],
   "source": [
    "# crude_oil_data.to_csv(\"./datasets/crude_oil_data_processed.csv\", index=False)"
   ]
  },
  {
   "cell_type": "code",
   "execution_count": 16,
   "metadata": {},
   "outputs": [
    {
     "data": {
      "text/plain": [
       "<bound method NDFrame.describe of      U.S. Crude Oil   Alabama  Alaska  Arkansas  California  Colorado  Mexico  \\\n",
       "0               5138       21     655        17         583        82    1326   \n",
       "1               5177       21     640        17         586        81    1372   \n",
       "2               5003       21     544        17         588        82    1272   \n",
       "3               3974       21     681        16         587        88     242   \n",
       "4               4738       21     716        17         586        86     803   \n",
       "..               ...      ...     ...       ...         ...       ...     ...   \n",
       "116            10248       17     513        14         463       428    1704   \n",
       "117            10461       17     512        14         462       428    1681   \n",
       "118            10475       17     497        14         465       447    1583   \n",
       "119            10443       16     496        14         464       447    1504   \n",
       "120            10674       16     451        14         462       423    1658   \n",
       "\n",
       "     Pacific  Florida  Idaho  ...  Pennsylvania  South Dakota  Wyoming  \\\n",
       "0         67        5      0  ...             8             5      144   \n",
       "1         61        6      0  ...             8             5      145   \n",
       "2         70        5      0  ...             8             5      145   \n",
       "3         67        5      0  ...             8             5      144   \n",
       "4         66        6      0  ...             8             5      145   \n",
       "..       ...      ...    ...  ...           ...           ...      ...   \n",
       "116       14        5      0  ...            18             4      223   \n",
       "117       16        5      0  ...            18             4      231   \n",
       "118       16        5      0  ...            19             4      232   \n",
       "119       15        5      0  ...            19             3      228   \n",
       "120       15        5      0  ...            18             4      226   \n",
       "\n",
       "     West Virginia  Utah  Texas  Tennessee       Date  Year  Month  \n",
       "0                6    60   1097          1 2008-06-01  2008      6  \n",
       "1                5    61   1111          1 2008-07-01  2008      7  \n",
       "2                6    62   1110          1 2008-08-01  2008      8  \n",
       "3                6    63   1055          1 2008-09-01  2008      9  \n",
       "4                6    64   1125          1 2008-10-01  2008     10  \n",
       "..             ...   ...    ...        ...        ...   ...    ...  \n",
       "116             27   100   4015          1 2018-02-01  2018      2  \n",
       "117             29   104   4185          1 2018-03-01  2018      3  \n",
       "118             29   103   4222          1 2018-04-01  2018      4  \n",
       "119             29    97   4245          1 2018-05-01  2018      5  \n",
       "120             30    94   4410          1 2018-06-01  2018      6  \n",
       "\n",
       "[121 rows x 36 columns]>"
      ]
     },
     "execution_count": 16,
     "metadata": {},
     "output_type": "execute_result"
    }
   ],
   "source": [
    "crude_oil_data.describe"
   ]
  },
  {
   "cell_type": "code",
   "execution_count": null,
   "metadata": {},
   "outputs": [],
   "source": []
  }
 ],
 "metadata": {
  "kernelspec": {
   "display_name": "Python 3.10.4 64-bit",
   "language": "python",
   "name": "python3"
  },
  "language_info": {
   "codemirror_mode": {
    "name": "ipython",
    "version": 3
   },
   "file_extension": ".py",
   "mimetype": "text/x-python",
   "name": "python",
   "nbconvert_exporter": "python",
   "pygments_lexer": "ipython3",
   "version": "3.10.4"
  },
  "orig_nbformat": 4,
  "vscode": {
   "interpreter": {
    "hash": "9f0d103aebe82dfbb47ec724a2ca4fd3dcb0c9038207abb072b7913218171667"
   }
  }
 },
 "nbformat": 4,
 "nbformat_minor": 2
}
