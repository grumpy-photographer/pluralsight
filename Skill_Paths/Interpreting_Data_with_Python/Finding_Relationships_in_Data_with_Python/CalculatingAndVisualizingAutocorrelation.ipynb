{
 "cells": [
  {
   "cell_type": "code",
   "execution_count": 1,
   "id": "2c78bf92",
   "metadata": {
    "ExecuteTime": {
     "end_time": "2022-08-31T03:38:45.541887Z",
     "start_time": "2022-08-31T03:38:40.236968Z"
    }
   },
   "outputs": [],
   "source": [
    "import numpy as np\n",
    "import pandas as pd\n",
    "import matplotlib.pyplot as plt"
   ]
  },
  {
   "cell_type": "code",
   "execution_count": 2,
   "id": "34c39c26",
   "metadata": {
    "ExecuteTime": {
     "end_time": "2022-08-31T03:39:44.682706Z",
     "start_time": "2022-08-31T03:39:17.593523Z"
    }
   },
   "outputs": [
    {
     "data": {
      "text/html": [
       "<div>\n",
       "<style scoped>\n",
       "    .dataframe tbody tr th:only-of-type {\n",
       "        vertical-align: middle;\n",
       "    }\n",
       "\n",
       "    .dataframe tbody tr th {\n",
       "        vertical-align: top;\n",
       "    }\n",
       "\n",
       "    .dataframe thead th {\n",
       "        text-align: right;\n",
       "    }\n",
       "</style>\n",
       "<table border=\"1\" class=\"dataframe\">\n",
       "  <thead>\n",
       "    <tr style=\"text-align: right;\">\n",
       "      <th></th>\n",
       "      <th>dteday</th>\n",
       "      <th>season</th>\n",
       "      <th>yr</th>\n",
       "      <th>mnth</th>\n",
       "      <th>hr</th>\n",
       "      <th>holiday</th>\n",
       "      <th>weekday</th>\n",
       "      <th>workingday</th>\n",
       "      <th>weathersit</th>\n",
       "      <th>temp</th>\n",
       "      <th>atemp</th>\n",
       "      <th>hum</th>\n",
       "      <th>windspeed</th>\n",
       "      <th>casual</th>\n",
       "      <th>registered</th>\n",
       "      <th>cnt</th>\n",
       "    </tr>\n",
       "    <tr>\n",
       "      <th>instant</th>\n",
       "      <th></th>\n",
       "      <th></th>\n",
       "      <th></th>\n",
       "      <th></th>\n",
       "      <th></th>\n",
       "      <th></th>\n",
       "      <th></th>\n",
       "      <th></th>\n",
       "      <th></th>\n",
       "      <th></th>\n",
       "      <th></th>\n",
       "      <th></th>\n",
       "      <th></th>\n",
       "      <th></th>\n",
       "      <th></th>\n",
       "      <th></th>\n",
       "    </tr>\n",
       "  </thead>\n",
       "  <tbody>\n",
       "    <tr>\n",
       "      <th>1</th>\n",
       "      <td>2011-01-01</td>\n",
       "      <td>1</td>\n",
       "      <td>0</td>\n",
       "      <td>1</td>\n",
       "      <td>0</td>\n",
       "      <td>0</td>\n",
       "      <td>6</td>\n",
       "      <td>0</td>\n",
       "      <td>1</td>\n",
       "      <td>0.24</td>\n",
       "      <td>0.2879</td>\n",
       "      <td>0.81</td>\n",
       "      <td>0.0</td>\n",
       "      <td>3</td>\n",
       "      <td>13</td>\n",
       "      <td>16</td>\n",
       "    </tr>\n",
       "    <tr>\n",
       "      <th>2</th>\n",
       "      <td>2011-01-01</td>\n",
       "      <td>1</td>\n",
       "      <td>0</td>\n",
       "      <td>1</td>\n",
       "      <td>1</td>\n",
       "      <td>0</td>\n",
       "      <td>6</td>\n",
       "      <td>0</td>\n",
       "      <td>1</td>\n",
       "      <td>0.22</td>\n",
       "      <td>0.2727</td>\n",
       "      <td>0.80</td>\n",
       "      <td>0.0</td>\n",
       "      <td>8</td>\n",
       "      <td>32</td>\n",
       "      <td>40</td>\n",
       "    </tr>\n",
       "    <tr>\n",
       "      <th>3</th>\n",
       "      <td>2011-01-01</td>\n",
       "      <td>1</td>\n",
       "      <td>0</td>\n",
       "      <td>1</td>\n",
       "      <td>2</td>\n",
       "      <td>0</td>\n",
       "      <td>6</td>\n",
       "      <td>0</td>\n",
       "      <td>1</td>\n",
       "      <td>0.22</td>\n",
       "      <td>0.2727</td>\n",
       "      <td>0.80</td>\n",
       "      <td>0.0</td>\n",
       "      <td>5</td>\n",
       "      <td>27</td>\n",
       "      <td>32</td>\n",
       "    </tr>\n",
       "    <tr>\n",
       "      <th>4</th>\n",
       "      <td>2011-01-01</td>\n",
       "      <td>1</td>\n",
       "      <td>0</td>\n",
       "      <td>1</td>\n",
       "      <td>3</td>\n",
       "      <td>0</td>\n",
       "      <td>6</td>\n",
       "      <td>0</td>\n",
       "      <td>1</td>\n",
       "      <td>0.24</td>\n",
       "      <td>0.2879</td>\n",
       "      <td>0.75</td>\n",
       "      <td>0.0</td>\n",
       "      <td>3</td>\n",
       "      <td>10</td>\n",
       "      <td>13</td>\n",
       "    </tr>\n",
       "    <tr>\n",
       "      <th>5</th>\n",
       "      <td>2011-01-01</td>\n",
       "      <td>1</td>\n",
       "      <td>0</td>\n",
       "      <td>1</td>\n",
       "      <td>4</td>\n",
       "      <td>0</td>\n",
       "      <td>6</td>\n",
       "      <td>0</td>\n",
       "      <td>1</td>\n",
       "      <td>0.24</td>\n",
       "      <td>0.2879</td>\n",
       "      <td>0.75</td>\n",
       "      <td>0.0</td>\n",
       "      <td>0</td>\n",
       "      <td>1</td>\n",
       "      <td>1</td>\n",
       "    </tr>\n",
       "  </tbody>\n",
       "</table>\n",
       "</div>"
      ],
      "text/plain": [
       "             dteday  season  yr  mnth  hr  holiday  weekday  workingday  \\\n",
       "instant                                                                   \n",
       "1        2011-01-01       1   0     1   0        0        6           0   \n",
       "2        2011-01-01       1   0     1   1        0        6           0   \n",
       "3        2011-01-01       1   0     1   2        0        6           0   \n",
       "4        2011-01-01       1   0     1   3        0        6           0   \n",
       "5        2011-01-01       1   0     1   4        0        6           0   \n",
       "\n",
       "         weathersit  temp   atemp   hum  windspeed  casual  registered  cnt  \n",
       "instant                                                                      \n",
       "1                 1  0.24  0.2879  0.81        0.0       3          13   16  \n",
       "2                 1  0.22  0.2727  0.80        0.0       8          32   40  \n",
       "3                 1  0.22  0.2727  0.80        0.0       5          27   32  \n",
       "4                 1  0.24  0.2879  0.75        0.0       3          10   13  \n",
       "5                 1  0.24  0.2879  0.75        0.0       0           1    1  "
      ]
     },
     "execution_count": 2,
     "metadata": {},
     "output_type": "execute_result"
    }
   ],
   "source": [
    "bike_data = pd.read_csv(\"./datasets/bike_sharing_hourly.csv\", index_col=0)\n",
    "bike_data.head()"
   ]
  },
  {
   "cell_type": "code",
   "execution_count": 3,
   "id": "8cffde81",
   "metadata": {
    "ExecuteTime": {
     "end_time": "2022-08-31T03:40:24.370016Z",
     "start_time": "2022-08-31T03:40:24.318519Z"
    }
   },
   "outputs": [
    {
     "data": {
      "text/html": [
       "<div>\n",
       "<style scoped>\n",
       "    .dataframe tbody tr th:only-of-type {\n",
       "        vertical-align: middle;\n",
       "    }\n",
       "\n",
       "    .dataframe tbody tr th {\n",
       "        vertical-align: top;\n",
       "    }\n",
       "\n",
       "    .dataframe thead th {\n",
       "        text-align: right;\n",
       "    }\n",
       "</style>\n",
       "<table border=\"1\" class=\"dataframe\">\n",
       "  <thead>\n",
       "    <tr style=\"text-align: right;\">\n",
       "      <th></th>\n",
       "      <th>temp</th>\n",
       "      <th>hum</th>\n",
       "    </tr>\n",
       "  </thead>\n",
       "  <tbody>\n",
       "    <tr>\n",
       "      <th>count</th>\n",
       "      <td>17379.000000</td>\n",
       "      <td>17379.000000</td>\n",
       "    </tr>\n",
       "    <tr>\n",
       "      <th>mean</th>\n",
       "      <td>0.496987</td>\n",
       "      <td>0.627229</td>\n",
       "    </tr>\n",
       "    <tr>\n",
       "      <th>std</th>\n",
       "      <td>0.192556</td>\n",
       "      <td>0.192930</td>\n",
       "    </tr>\n",
       "    <tr>\n",
       "      <th>min</th>\n",
       "      <td>0.020000</td>\n",
       "      <td>0.000000</td>\n",
       "    </tr>\n",
       "    <tr>\n",
       "      <th>25%</th>\n",
       "      <td>0.340000</td>\n",
       "      <td>0.480000</td>\n",
       "    </tr>\n",
       "    <tr>\n",
       "      <th>50%</th>\n",
       "      <td>0.500000</td>\n",
       "      <td>0.630000</td>\n",
       "    </tr>\n",
       "    <tr>\n",
       "      <th>75%</th>\n",
       "      <td>0.660000</td>\n",
       "      <td>0.780000</td>\n",
       "    </tr>\n",
       "    <tr>\n",
       "      <th>max</th>\n",
       "      <td>1.000000</td>\n",
       "      <td>1.000000</td>\n",
       "    </tr>\n",
       "  </tbody>\n",
       "</table>\n",
       "</div>"
      ],
      "text/plain": [
       "               temp           hum\n",
       "count  17379.000000  17379.000000\n",
       "mean       0.496987      0.627229\n",
       "std        0.192556      0.192930\n",
       "min        0.020000      0.000000\n",
       "25%        0.340000      0.480000\n",
       "50%        0.500000      0.630000\n",
       "75%        0.660000      0.780000\n",
       "max        1.000000      1.000000"
      ]
     },
     "execution_count": 3,
     "metadata": {},
     "output_type": "execute_result"
    }
   ],
   "source": [
    "bike_data[[\"temp\", \"hum\"]].describe()"
   ]
  },
  {
   "cell_type": "code",
   "execution_count": 4,
   "id": "90ae34a6",
   "metadata": {
    "ExecuteTime": {
     "end_time": "2022-08-31T03:41:15.594661Z",
     "start_time": "2022-08-31T03:41:15.562515Z"
    }
   },
   "outputs": [
    {
     "data": {
      "text/html": [
       "<div>\n",
       "<style scoped>\n",
       "    .dataframe tbody tr th:only-of-type {\n",
       "        vertical-align: middle;\n",
       "    }\n",
       "\n",
       "    .dataframe tbody tr th {\n",
       "        vertical-align: top;\n",
       "    }\n",
       "\n",
       "    .dataframe thead th {\n",
       "        text-align: right;\n",
       "    }\n",
       "</style>\n",
       "<table border=\"1\" class=\"dataframe\">\n",
       "  <thead>\n",
       "    <tr style=\"text-align: right;\">\n",
       "      <th></th>\n",
       "      <th>temp</th>\n",
       "      <th>hum</th>\n",
       "    </tr>\n",
       "  </thead>\n",
       "  <tbody>\n",
       "    <tr>\n",
       "      <th>temp</th>\n",
       "      <td>1.000000</td>\n",
       "      <td>-0.069881</td>\n",
       "    </tr>\n",
       "    <tr>\n",
       "      <th>hum</th>\n",
       "      <td>-0.069881</td>\n",
       "      <td>1.000000</td>\n",
       "    </tr>\n",
       "  </tbody>\n",
       "</table>\n",
       "</div>"
      ],
      "text/plain": [
       "          temp       hum\n",
       "temp  1.000000 -0.069881\n",
       "hum  -0.069881  1.000000"
      ]
     },
     "execution_count": 4,
     "metadata": {},
     "output_type": "execute_result"
    }
   ],
   "source": [
    "bike_data[[\"temp\", \"hum\"]].corr()"
   ]
  },
  {
   "cell_type": "code",
   "execution_count": 6,
   "id": "5b25b3da",
   "metadata": {
    "ExecuteTime": {
     "end_time": "2022-08-31T03:42:01.216964Z",
     "start_time": "2022-08-31T03:42:01.170080Z"
    }
   },
   "outputs": [
    {
     "data": {
      "text/plain": [
       "0.9806849149013234"
      ]
     },
     "execution_count": 6,
     "metadata": {},
     "output_type": "execute_result"
    }
   ],
   "source": [
    "bike_data[\"temp\"].autocorr(lag=2)"
   ]
  },
  {
   "cell_type": "code",
   "execution_count": 7,
   "id": "434ffd3d",
   "metadata": {
    "ExecuteTime": {
     "end_time": "2022-08-31T03:42:26.534408Z",
     "start_time": "2022-08-31T03:42:26.505770Z"
    }
   },
   "outputs": [
    {
     "data": {
      "text/plain": [
       "0.8250709628213121"
      ]
     },
     "execution_count": 7,
     "metadata": {},
     "output_type": "execute_result"
    }
   ],
   "source": [
    "bike_data[\"temp\"].autocorr(lag=12)"
   ]
  },
  {
   "cell_type": "code",
   "execution_count": 8,
   "id": "1173be81",
   "metadata": {
    "ExecuteTime": {
     "end_time": "2022-08-31T03:42:43.656218Z",
     "start_time": "2022-08-31T03:42:43.630552Z"
    }
   },
   "outputs": [
    {
     "data": {
      "text/plain": [
       "0.7658269022298078"
      ]
     },
     "execution_count": 8,
     "metadata": {},
     "output_type": "execute_result"
    }
   ],
   "source": [
    "bike_data[\"temp\"].autocorr(lag=102)"
   ]
  },
  {
   "cell_type": "code",
   "execution_count": 9,
   "id": "e1755d2c",
   "metadata": {
    "ExecuteTime": {
     "end_time": "2022-08-31T03:43:00.927034Z",
     "start_time": "2022-08-31T03:43:00.896819Z"
    }
   },
   "outputs": [
    {
     "data": {
      "text/plain": [
       "0.5654240428574997"
      ]
     },
     "execution_count": 9,
     "metadata": {},
     "output_type": "execute_result"
    }
   ],
   "source": [
    "bike_data[\"temp\"].autocorr(lag=1002)"
   ]
  },
  {
   "cell_type": "code",
   "execution_count": 11,
   "id": "8393ce1e",
   "metadata": {
    "ExecuteTime": {
     "end_time": "2022-08-31T03:43:22.053883Z",
     "start_time": "2022-08-31T03:43:22.035930Z"
    }
   },
   "outputs": [
    {
     "data": {
      "text/plain": [
       "0.20088188422738362"
      ]
     },
     "execution_count": 11,
     "metadata": {},
     "output_type": "execute_result"
    }
   ],
   "source": [
    "bike_data[\"hum\"].autocorr(lag=12)"
   ]
  },
  {
   "cell_type": "code",
   "execution_count": 13,
   "id": "3128193a",
   "metadata": {
    "ExecuteTime": {
     "end_time": "2022-08-31T03:47:51.665759Z",
     "start_time": "2022-08-31T03:47:28.036803Z"
    }
   },
   "outputs": [
    {
     "data": {
      "image/png": "[encoded data removed]",
      "text/plain": [
       "<Figure size 864x1008 with 2 Axes>"
      ]
     },
     "metadata": {
      "needs_background": "light"
     },
     "output_type": "display_data"
    }
   ],
   "source": [
    "fig, (ax1, ax2) = plt.subplots(2, 1, figsize=(12, 14))\n",
    "\n",
    "ax1.acorr(bike_data[\"temp\"], maxlags=12, color=\"green\")\n",
    "\n",
    "ax1.title.set_text(\"Temperature\")\n",
    "ax1.set_xlabel(\"Lags\", fontsize=15)\n",
    "\n",
    "ax2.acorr(bike_data[\"hum\"], maxlags=12, color=\"red\")\n",
    "\n",
    "ax2.title.set_text(\"Humidity\")\n",
    "ax2.set_xlabel(\"Lags\", fontsize=15)\n",
    "\n",
    "plt.show();"
   ]
  },
  {
   "cell_type": "code",
   "execution_count": 14,
   "id": "f6d6f28c",
   "metadata": {
    "ExecuteTime": {
     "end_time": "2022-08-31T03:48:28.287339Z",
     "start_time": "2022-08-31T03:48:28.269258Z"
    }
   },
   "outputs": [
    {
     "data": {
      "text/plain": [
       "0.9148730709671984"
      ]
     },
     "execution_count": 14,
     "metadata": {},
     "output_type": "execute_result"
    }
   ],
   "source": [
    "bike_data[\"temp\"].autocorr(lag=24)"
   ]
  },
  {
   "cell_type": "code",
   "execution_count": 15,
   "id": "4187c47f",
   "metadata": {
    "ExecuteTime": {
     "end_time": "2022-08-31T03:48:37.413262Z",
     "start_time": "2022-08-31T03:48:37.387047Z"
    }
   },
   "outputs": [
    {
     "data": {
      "text/plain": [
       "0.4948813054393593"
      ]
     },
     "execution_count": 15,
     "metadata": {},
     "output_type": "execute_result"
    }
   ],
   "source": [
    "bike_data[\"hum\"].autocorr(lag=24)"
   ]
  },
  {
   "cell_type": "code",
   "execution_count": 17,
   "id": "45908aa8",
   "metadata": {
    "ExecuteTime": {
     "end_time": "2022-08-31T03:52:48.766391Z",
     "start_time": "2022-08-31T03:52:20.250479Z"
    }
   },
   "outputs": [
    {
     "data": {
      "image/png": "[encoded data removed]",
      "text/plain": [
       "<Figure size 1440x576 with 2 Axes>"
      ]
     },
     "metadata": {
      "needs_background": "light"
     },
     "output_type": "display_data"
    }
   ],
   "source": [
    "fig, (ax1, ax2) = plt.subplots(1, 2, figsize=(20, 8))\n",
    "\n",
    "ax1.acorr(bike_data[\"temp\"], maxlags=24, color=\"deeppink\")\n",
    "\n",
    "ax1.title.set_text(\"Temperature\")\n",
    "ax1.set_xlabel(\"Lags\", fontsize=12)\n",
    "\n",
    "ax2.acorr(bike_data[\"hum\"], maxlags=24, color=\"blue\")\n",
    "\n",
    "ax2.title.set_text(\"Humidity\")\n",
    "ax2.set_xlabel(\"Lags\", fontsize=12)\n",
    "\n",
    "plt.suptitle(\"Autocorrelation\")\n",
    "\n",
    "plt.show();"
   ]
  },
  {
   "cell_type": "code",
   "execution_count": 18,
   "id": "1413531b",
   "metadata": {
    "ExecuteTime": {
     "end_time": "2022-08-31T03:54:05.099682Z",
     "start_time": "2022-08-31T03:53:37.111806Z"
    }
   },
   "outputs": [
    {
     "data": {
      "image/png": "[encoded data removed]",
      "text/plain": [
       "<Figure size 1440x576 with 2 Axes>"
      ]
     },
     "metadata": {
      "needs_background": "light"
     },
     "output_type": "display_data"
    }
   ],
   "source": [
    "fig, (ax1, ax2) = plt.subplots(1, 2, figsize=(20, 8))\n",
    "\n",
    "ax1.acorr(bike_data[\"temp\"], maxlags=48, color=\"red\")\n",
    "\n",
    "ax1.title.set_text(\"Temperature\")\n",
    "ax1.set_xlabel(\"Lags\", fontsize=12)\n",
    "\n",
    "ax2.acorr(bike_data[\"hum\"], maxlags=48, color=\"black\")\n",
    "\n",
    "ax2.title.set_text(\"Humidity\")\n",
    "ax2.set_xlabel(\"Lags\", fontsize=12)\n",
    "\n",
    "plt.suptitle(\"Autocorrelation\")\n",
    "\n",
    "plt.show();"
   ]
  },
  {
   "cell_type": "code",
   "execution_count": null,
   "id": "fa1b796b",
   "metadata": {},
   "outputs": [],
   "source": []
  }
 ],
 "metadata": {
  "kernelspec": {
   "display_name": "Python 3 (ipykernel)",
   "language": "python",
   "name": "python3"
  },
  "language_info": {
   "codemirror_mode": {
    "name": "ipython",
    "version": 3
   },
   "file_extension": ".py",
   "mimetype": "text/x-python",
   "name": "python",
   "nbconvert_exporter": "python",
   "pygments_lexer": "ipython3",
   "version": "3.10.4"
  },
  "toc": {
   "base_numbering": 1,
   "nav_menu": {},
   "number_sections": true,
   "sideBar": true,
   "skip_h1_title": false,
   "title_cell": "Table of Contents",
   "title_sidebar": "Contents",
   "toc_cell": false,
   "toc_position": {},
   "toc_section_display": true,
   "toc_window_display": false
  },
  "varInspector": {
   "cols": {
    "lenName": 16,
    "lenType": 16,
    "lenVar": 40
   },
   "kernels_config": {
    "python": {
     "delete_cmd_postfix": "",
     "delete_cmd_prefix": "del ",
     "library": "var_list.py",
     "varRefreshCmd": "print(var_dic_list())"
    },
    "r": {
     "delete_cmd_postfix": ") ",
     "delete_cmd_prefix": "rm(",
     "library": "var_list.r",
     "varRefreshCmd": "cat(var_dic_list()) "
    }
   },
   "types_to_exclude": [
    "module",
    "function",
    "builtin_function_or_method",
    "instance",
    "_Feature"
   ],
   "window_display": false
  }
 },
 "nbformat": 4,
 "nbformat_minor": 5
}
