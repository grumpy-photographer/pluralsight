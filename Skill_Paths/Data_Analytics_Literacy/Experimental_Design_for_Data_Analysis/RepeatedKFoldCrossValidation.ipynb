{
 "cells": [
  {
   "cell_type": "code",
   "execution_count": 20,
   "metadata": {},
   "outputs": [],
   "source": [
    "import sklearn\r\n",
    "\r\n",
    "import numpy as np\r\n",
    "import pandas as pd\r\n",
    "\r\n",
    "from sklearn.linear_model import LinearRegression\r\n",
    "from sklearn.model_selection import RepeatedKFold, cross_val_score"
   ]
  },
  {
   "cell_type": "code",
   "execution_count": 21,
   "metadata": {},
   "outputs": [],
   "source": [
    "houseprice_df = pd.read_csv(\"data/houseprice_data.csv\")"
   ]
  },
  {
   "cell_type": "code",
   "execution_count": 22,
   "metadata": {},
   "outputs": [],
   "source": [
    "Y = (np.array(houseprice_df[\"price\"], dtype =\"float64\")).reshape(-1, 1)"
   ]
  },
  {
   "cell_type": "code",
   "execution_count": 23,
   "metadata": {},
   "outputs": [],
   "source": [
    "X = houseprice_df.drop(\"price\", axis=1)\r\n",
    "X = np.array(X)"
   ]
  },
  {
   "cell_type": "code",
   "execution_count": 24,
   "metadata": {},
   "outputs": [
    {
     "data": {
      "text/plain": "[(array([    4,     6,    10, ..., 21602, 21604, 21607]),\n  array([    0,     1,     2, ..., 21608, 21609, 21610])),\n (array([    0,     1,     2, ..., 21608, 21609, 21610]),\n  array([    4,     6,    10, ..., 21602, 21604, 21607])),\n (array([    3,     4,     5, ..., 21606, 21607, 21608]),\n  array([    0,     1,     2, ..., 21604, 21609, 21610])),\n (array([    0,     1,     2, ..., 21604, 21609, 21610]),\n  array([    3,     4,     5, ..., 21606, 21607, 21608]))]"
     },
     "execution_count": 24,
     "metadata": {},
     "output_type": "execute_result"
    }
   ],
   "source": [
    "rkf = RepeatedKFold(n_splits=2, n_repeats=2, random_state=0)\r\n",
    "list(rkf.split(X))"
   ]
  },
  {
   "cell_type": "code",
   "execution_count": 25,
   "metadata": {},
   "outputs": [
    {
     "name": "stdout",
     "output_type": "stream",
     "text": [
      "\n",
      "Train1 [    4     6    10 ... 21602 21604 21607]\n",
      "Test1 [    0     1     2 ... 21608 21609 21610]\n",
      "\n",
      "Train2 [    0     1     2 ... 21608 21609 21610]\n",
      "Test2 [    4     6    10 ... 21602 21604 21607]\n",
      "\n",
      "Train3 [    3     4     5 ... 21606 21607 21608]\n",
      "Test3 [    0     1     2 ... 21604 21609 21610]\n",
      "\n",
      "Train4 [    0     1     2 ... 21604 21609 21610]\n",
      "Test4 [    3     4     5 ... 21606 21607 21608]\n"
     ]
    }
   ],
   "source": [
    "i = 1\r\n",
    "for train, test in rkf.split(X):\r\n",
    "    print(\"\\nTrain\" + str(i), train)\r\n",
    "    print(\"Test\" + str(i), test)\r\n",
    "\r\n",
    "    i += 1"
   ]
  },
  {
   "cell_type": "code",
   "execution_count": 26,
   "metadata": {},
   "outputs": [
    {
     "data": {
      "text/plain": "(21611, 10806, 10805)"
     },
     "execution_count": 26,
     "metadata": {},
     "output_type": "execute_result"
    }
   ],
   "source": [
    "len(X), len(train), len(test)"
   ]
  },
  {
   "cell_type": "code",
   "execution_count": 27,
   "metadata": {},
   "outputs": [
    {
     "name": "stdout",
     "output_type": "stream",
     "text": [
      "\n",
      "Train1 [    4     6    10 ... 21602 21604 21607]\n",
      "Test1 [    0     1     2 ... 21608 21609 21610]\n",
      "\n",
      "Train2 [    0     1     2 ... 21608 21609 21610]\n",
      "Test2 [    4     6    10 ... 21602 21604 21607]\n",
      "\n",
      "Train3 [    3     4     5 ... 21606 21607 21608]\n",
      "Test3 [    0     1     2 ... 21604 21609 21610]\n",
      "\n",
      "Train4 [    0     1     2 ... 21604 21609 21610]\n",
      "Test4 [    3     4     5 ... 21606 21607 21608]\n",
      "\n",
      "Train5 [    0     4     5 ... 21604 21606 21610]\n",
      "Test5 [    1     2     3 ... 21607 21608 21609]\n",
      "\n",
      "Train6 [    1     2     3 ... 21607 21608 21609]\n",
      "Test6 [    0     4     5 ... 21604 21606 21610]\n"
     ]
    }
   ],
   "source": [
    "rkf = RepeatedKFold(n_splits=2, n_repeats=3, random_state=0)\r\n",
    "\r\n",
    "i = 1\r\n",
    "for train, test in rkf.split(X):\r\n",
    "    print(\"\\nTrain\" + str(i), train)\r\n",
    "    print(\"Test\" + str(i), test)\r\n",
    "    \r\n",
    "    i += 1"
   ]
  },
  {
   "cell_type": "code",
   "execution_count": 28,
   "metadata": {},
   "outputs": [
    {
     "data": {
      "text/plain": "(21611, 10806, 10805)"
     },
     "execution_count": 28,
     "metadata": {},
     "output_type": "execute_result"
    }
   ],
   "source": [
    "len(X), len(train), len(test)"
   ]
  },
  {
   "cell_type": "code",
   "execution_count": 29,
   "metadata": {},
   "outputs": [
    {
     "name": "stdout",
     "output_type": "stream",
     "text": [
      "\n",
      "Train1 [    0     2     3 ... 21607 21609 21610]\n",
      "Test1 [    1     7     8 ... 21600 21601 21608]\n",
      "\n",
      "Train2 [    1     4     6 ... 21604 21607 21608]\n",
      "Test2 [    0     2     3 ... 21606 21609 21610]\n",
      "\n",
      "Train3 [    0     1     2 ... 21608 21609 21610]\n",
      "Test3 [    4     6    10 ... 21594 21604 21607]\n",
      "\n",
      "Train4 [    3     4     5 ... 21607 21608 21609]\n",
      "Test4 [    0     1     2 ... 21602 21604 21610]\n",
      "\n",
      "Train5 [    0     1     2 ... 21607 21608 21610]\n",
      "Test5 [    4     8     9 ... 21600 21601 21609]\n",
      "\n",
      "Train6 [    0     1     2 ... 21604 21609 21610]\n",
      "Test6 [    3     5     7 ... 21606 21607 21608]\n",
      "\n",
      "Train7 [    0     2     4 ... 21606 21609 21610]\n",
      "Test7 [    1     3     9 ... 21603 21607 21608]\n",
      "\n",
      "Train8 [    0     1     3 ... 21606 21607 21608]\n",
      "Test8 [    2     4     8 ... 21605 21609 21610]\n",
      "\n",
      "Train9 [    1     2     3 ... 21608 21609 21610]\n",
      "Test9 [    0     5     6 ... 21598 21599 21606]\n"
     ]
    }
   ],
   "source": [
    "rkf = RepeatedKFold(n_splits=3, n_repeats=3, random_state=0)\r\n",
    "\r\n",
    "i = 1\r\n",
    "for train, test in rkf.split(X):\r\n",
    "    print(\"\\nTrain\" + str(i), train)\r\n",
    "    print(\"Test\" + str(i), test)\r\n",
    "    \r\n",
    "    i += 1"
   ]
  },
  {
   "cell_type": "code",
   "execution_count": 30,
   "metadata": {},
   "outputs": [
    {
     "data": {
      "text/plain": "(21611, 14408, 7203)"
     },
     "execution_count": 30,
     "metadata": {},
     "output_type": "execute_result"
    }
   ],
   "source": [
    "len(X), len(train), len(test)"
   ]
  },
  {
   "cell_type": "code",
   "execution_count": 31,
   "metadata": {},
   "outputs": [
    {
     "data": {
      "text/plain": "[(array([    4,     6,    10, ..., 21602, 21604, 21607]),\n  array([    0,     1,     2, ..., 21608, 21609, 21610])),\n (array([    0,     1,     2, ..., 21608, 21609, 21610]),\n  array([    4,     6,    10, ..., 21602, 21604, 21607]))]"
     },
     "execution_count": 31,
     "metadata": {},
     "output_type": "execute_result"
    }
   ],
   "source": [
    "rkf = RepeatedKFold(n_splits=2, n_repeats=1, random_state=0)\r\n",
    "\r\n",
    "indices_list = list(rkf.split(X))\r\n",
    "indices_list"
   ]
  },
  {
   "cell_type": "code",
   "execution_count": 32,
   "metadata": {},
   "outputs": [],
   "source": [
    "X_train1, y_train1 = X[indices_list[0][0]], Y[indices_list[0][0]]\r\n",
    "X_test1, y_test1 = X[indices_list[0][1]], Y[indices_list[0][1]]\r\n",
    "\r\n",
    "X_train2, y_train2 = X[indices_list[1][0]], Y[indices_list[1][0]]\r\n",
    "X_test2, y_test2 = X[indices_list[1][1]], Y[indices_list[1][1]]"
   ]
  },
  {
   "cell_type": "code",
   "execution_count": 34,
   "metadata": {},
   "outputs": [
    {
     "data": {
      "text/plain": "0.6451144395301234"
     },
     "execution_count": 34,
     "metadata": {},
     "output_type": "execute_result"
    }
   ],
   "source": [
    "reg = LinearRegression().fit(X_train1, y_train1)\r\n",
    "reg.score(X_test1, y_test1)"
   ]
  },
  {
   "cell_type": "code",
   "execution_count": 35,
   "metadata": {},
   "outputs": [
    {
     "data": {
      "text/plain": "0.6499231476569001"
     },
     "execution_count": 35,
     "metadata": {},
     "output_type": "execute_result"
    }
   ],
   "source": [
    "reg = LinearRegression().fit(X_train2, y_train2)\r\n",
    "reg.score(X_test2, y_test2)"
   ]
  },
  {
   "cell_type": "code",
   "execution_count": 36,
   "metadata": {},
   "outputs": [
    {
     "data": {
      "text/plain": "array([0.64511444, 0.64992315])"
     },
     "execution_count": 36,
     "metadata": {},
     "output_type": "execute_result"
    }
   ],
   "source": [
    "cross_val_score(reg, X, Y, cv=rkf)"
   ]
  },
  {
   "cell_type": "code",
   "execution_count": null,
   "metadata": {},
   "outputs": [],
   "source": []
  }
 ],
 "metadata": {
  "kernelspec": {
   "display_name": "Python 3.9.4 64-bit",
   "name": "python394jvsc74a57bd09fdb9160099e666fbe1246fdc3611df6e34403c4a50d97f5ca90d3cacc6ef812"
  },
  "language_info": {
   "codemirror_mode": {
    "name": "ipython",
    "version": 3
   },
   "file_extension": ".py",
   "mimetype": "text/x-python",
   "name": "python",
   "nbconvert_exporter": "python",
   "pygments_lexer": "ipython3",
   "version": "3.9.4"
  },
  "orig_nbformat": 2
 },
 "nbformat": 4,
 "nbformat_minor": 2
}