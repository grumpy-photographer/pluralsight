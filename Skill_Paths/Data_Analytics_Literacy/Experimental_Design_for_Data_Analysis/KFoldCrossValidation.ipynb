{
 "cells": [
  {
   "cell_type": "code",
   "execution_count": 1,
   "metadata": {},
   "outputs": [],
   "source": [
    "import sklearn\r\n",
    "\r\n",
    "import numpy as np\r\n",
    "import pandas as pd\r\n",
    "\r\n",
    "from sklearn.linear_model import LinearRegression\r\n",
    "from sklearn.model_selection import KFold, cross_val_score"
   ]
  },
  {
   "cell_type": "code",
   "execution_count": 2,
   "metadata": {},
   "outputs": [
    {
     "data": {
      "text/html": "<div>\n<style scoped>\n    .dataframe tbody tr th:only-of-type {\n        vertical-align: middle;\n    }\n\n    .dataframe tbody tr th {\n        vertical-align: top;\n    }\n\n    .dataframe thead th {\n        text-align: right;\n    }\n</style>\n<table border=\"1\" class=\"dataframe\">\n  <thead>\n    <tr style=\"text-align: right;\">\n      <th></th>\n      <th>price</th>\n      <th>bedrooms</th>\n      <th>bathrooms</th>\n      <th>sqft_living</th>\n      <th>sqft_lot</th>\n      <th>floors</th>\n      <th>waterfront</th>\n      <th>view</th>\n      <th>condition</th>\n      <th>grade</th>\n      <th>sqft_above</th>\n      <th>sqft_basement</th>\n      <th>yr_built</th>\n      <th>yr_renovated</th>\n      <th>sqft_living15</th>\n      <th>sqft_lot15</th>\n    </tr>\n  </thead>\n  <tbody>\n    <tr>\n      <th>0</th>\n      <td>221900.0</td>\n      <td>3</td>\n      <td>1.00</td>\n      <td>1180</td>\n      <td>5650</td>\n      <td>1.0</td>\n      <td>0</td>\n      <td>0</td>\n      <td>3</td>\n      <td>7</td>\n      <td>1180.0</td>\n      <td>0</td>\n      <td>1955</td>\n      <td>0</td>\n      <td>1340</td>\n      <td>5650</td>\n    </tr>\n    <tr>\n      <th>1</th>\n      <td>538000.0</td>\n      <td>3</td>\n      <td>2.25</td>\n      <td>2570</td>\n      <td>7242</td>\n      <td>2.0</td>\n      <td>0</td>\n      <td>0</td>\n      <td>3</td>\n      <td>7</td>\n      <td>2170.0</td>\n      <td>400</td>\n      <td>1951</td>\n      <td>1</td>\n      <td>1690</td>\n      <td>7639</td>\n    </tr>\n    <tr>\n      <th>2</th>\n      <td>180000.0</td>\n      <td>2</td>\n      <td>1.00</td>\n      <td>770</td>\n      <td>10000</td>\n      <td>1.0</td>\n      <td>0</td>\n      <td>0</td>\n      <td>3</td>\n      <td>6</td>\n      <td>770.0</td>\n      <td>0</td>\n      <td>1933</td>\n      <td>0</td>\n      <td>2720</td>\n      <td>8062</td>\n    </tr>\n    <tr>\n      <th>3</th>\n      <td>604000.0</td>\n      <td>4</td>\n      <td>3.00</td>\n      <td>1960</td>\n      <td>5000</td>\n      <td>1.0</td>\n      <td>0</td>\n      <td>0</td>\n      <td>5</td>\n      <td>7</td>\n      <td>1050.0</td>\n      <td>910</td>\n      <td>1965</td>\n      <td>0</td>\n      <td>1360</td>\n      <td>5000</td>\n    </tr>\n    <tr>\n      <th>4</th>\n      <td>510000.0</td>\n      <td>3</td>\n      <td>2.00</td>\n      <td>1680</td>\n      <td>8080</td>\n      <td>1.0</td>\n      <td>0</td>\n      <td>0</td>\n      <td>3</td>\n      <td>8</td>\n      <td>1680.0</td>\n      <td>0</td>\n      <td>1987</td>\n      <td>0</td>\n      <td>1800</td>\n      <td>7503</td>\n    </tr>\n  </tbody>\n</table>\n</div>",
      "text/plain": "      price  bedrooms  bathrooms  sqft_living  sqft_lot  floors  waterfront  \\\n0  221900.0         3       1.00         1180      5650     1.0           0   \n1  538000.0         3       2.25         2570      7242     2.0           0   \n2  180000.0         2       1.00          770     10000     1.0           0   \n3  604000.0         4       3.00         1960      5000     1.0           0   \n4  510000.0         3       2.00         1680      8080     1.0           0   \n\n   view  condition  grade  sqft_above  sqft_basement  yr_built  yr_renovated  \\\n0     0          3      7      1180.0              0      1955             0   \n1     0          3      7      2170.0            400      1951             1   \n2     0          3      6       770.0              0      1933             0   \n3     0          5      7      1050.0            910      1965             0   \n4     0          3      8      1680.0              0      1987             0   \n\n   sqft_living15  sqft_lot15  \n0           1340        5650  \n1           1690        7639  \n2           2720        8062  \n3           1360        5000  \n4           1800        7503  "
     },
     "execution_count": 2,
     "metadata": {},
     "output_type": "execute_result"
    }
   ],
   "source": [
    "houseprice_df = pd.read_csv(\"data/houseprice_data.csv\")\r\n",
    "houseprice_df.head()"
   ]
  },
  {
   "cell_type": "code",
   "execution_count": 3,
   "metadata": {},
   "outputs": [],
   "source": [
    "Y = (np.array(houseprice_df[\"price\"], dtype = \"float64\")).reshape(-1, 1)"
   ]
  },
  {
   "cell_type": "code",
   "execution_count": 4,
   "metadata": {},
   "outputs": [],
   "source": [
    "X = houseprice_df.drop(\"price\", axis=1)\r\n",
    "X = np.array(X)"
   ]
  },
  {
   "cell_type": "code",
   "execution_count": 5,
   "metadata": {},
   "outputs": [
    {
     "data": {
      "text/plain": "((21611, 15), (21611, 1))"
     },
     "execution_count": 5,
     "metadata": {},
     "output_type": "execute_result"
    }
   ],
   "source": [
    "X.shape, Y.shape"
   ]
  },
  {
   "cell_type": "code",
   "execution_count": 6,
   "metadata": {},
   "outputs": [
    {
     "data": {
      "text/plain": "[(array([ 7204,  7205,  7206, ..., 21608, 21609, 21610]),\n  array([   0,    1,    2, ..., 7201, 7202, 7203])),\n (array([    0,     1,     2, ..., 21608, 21609, 21610]),\n  array([ 7204,  7205,  7206, ..., 14405, 14406, 14407])),\n (array([    0,     1,     2, ..., 14405, 14406, 14407]),\n  array([14408, 14409, 14410, ..., 21608, 21609, 21610]))]"
     },
     "execution_count": 6,
     "metadata": {},
     "output_type": "execute_result"
    }
   ],
   "source": [
    "kf = KFold(n_splits=3)\r\n",
    "list(kf.split(X))"
   ]
  },
  {
   "cell_type": "code",
   "execution_count": 7,
   "metadata": {},
   "outputs": [
    {
     "name": "stdout",
     "output_type": "stream",
     "text": [
      "\n",
      "Train1 [ 7204  7205  7206 ... 21608 21609 21610]\n",
      "Test1 [   0    1    2 ... 7201 7202 7203]\n",
      "\n",
      "Train2 [    0     1     2 ... 21608 21609 21610]\n",
      "Test2 [ 7204  7205  7206 ... 14405 14406 14407]\n",
      "\n",
      "Train3 [    0     1     2 ... 14405 14406 14407]\n",
      "Test3 [14408 14409 14410 ... 21608 21609 21610]\n"
     ]
    }
   ],
   "source": [
    "i = 1\r\n",
    "\r\n",
    "for train, test in kf.split(X):\r\n",
    "    print(\"\\nTrain\" + str(i), train)\r\n",
    "    print(\"Test\" + str(i), test)\r\n",
    "\r\n",
    "    i += 1"
   ]
  },
  {
   "cell_type": "code",
   "execution_count": 8,
   "metadata": {},
   "outputs": [
    {
     "data": {
      "text/plain": "(21611, 14408, 7203)"
     },
     "execution_count": 8,
     "metadata": {},
     "output_type": "execute_result"
    }
   ],
   "source": [
    "len(X), len(train), len(test)"
   ]
  },
  {
   "cell_type": "code",
   "execution_count": 9,
   "metadata": {},
   "outputs": [
    {
     "name": "stdout",
     "output_type": "stream",
     "text": [
      "\n",
      "Train1 [ 5403  5404  5405 ... 21608 21609 21610]\n",
      "Test1 [   0    1    2 ... 5400 5401 5402]\n",
      "\n",
      "Train2 [    0     1     2 ... 21608 21609 21610]\n",
      "Test2 [ 5403  5404  5405 ... 10803 10804 10805]\n",
      "\n",
      "Train3 [    0     1     2 ... 21608 21609 21610]\n",
      "Test3 [10806 10807 10808 ... 16206 16207 16208]\n",
      "\n",
      "Train4 [    0     1     2 ... 16206 16207 16208]\n",
      "Test4 [16209 16210 16211 ... 21608 21609 21610]\n"
     ]
    }
   ],
   "source": [
    "kf = KFold(n_splits=4)\r\n",
    "\r\n",
    "i = 1\r\n",
    "for train, test in kf.split(X):\r\n",
    "    print(\"\\nTrain\" + str(i), train)\r\n",
    "    print(\"Test\" + str(i), test)\r\n",
    "\r\n",
    "    i += 1"
   ]
  },
  {
   "cell_type": "code",
   "execution_count": 10,
   "metadata": {},
   "outputs": [
    {
     "data": {
      "text/plain": "(21611, 16209, 5402)"
     },
     "execution_count": 10,
     "metadata": {},
     "output_type": "execute_result"
    }
   ],
   "source": [
    "len(X), len(train), len(test)"
   ]
  },
  {
   "cell_type": "code",
   "execution_count": 11,
   "metadata": {},
   "outputs": [
    {
     "name": "stdout",
     "output_type": "stream",
     "text": [
      "\n",
      "Train1 [ 1441  1442  1443 ... 21608 21609 21610]\n",
      "Test1 [   0    1    2 ... 1438 1439 1440]\n",
      "\n",
      "Train2 [    0     1     2 ... 21608 21609 21610]\n",
      "Test2 [1441 1442 1443 ... 2879 2880 2881]\n",
      "\n",
      "Train3 [    0     1     2 ... 21608 21609 21610]\n",
      "Test3 [2882 2883 2884 ... 4320 4321 4322]\n",
      "\n",
      "Train4 [    0     1     2 ... 21608 21609 21610]\n",
      "Test4 [4323 4324 4325 ... 5761 5762 5763]\n",
      "\n",
      "Train5 [    0     1     2 ... 21608 21609 21610]\n",
      "Test5 [5764 5765 5766 ... 7202 7203 7204]\n",
      "\n",
      "Train6 [    0     1     2 ... 21608 21609 21610]\n",
      "Test6 [7205 7206 7207 ... 8643 8644 8645]\n",
      "\n",
      "Train7 [    0     1     2 ... 21608 21609 21610]\n",
      "Test7 [ 8646  8647  8648 ... 10084 10085 10086]\n",
      "\n",
      "Train8 [    0     1     2 ... 21608 21609 21610]\n",
      "Test8 [10087 10088 10089 ... 11525 11526 11527]\n",
      "\n",
      "Train9 [    0     1     2 ... 21608 21609 21610]\n",
      "Test9 [11528 11529 11530 ... 12966 12967 12968]\n",
      "\n",
      "Train10 [    0     1     2 ... 21608 21609 21610]\n",
      "Test10 [12969 12970 12971 ... 14407 14408 14409]\n",
      "\n",
      "Train11 [    0     1     2 ... 21608 21609 21610]\n",
      "Test11 [14410 14411 14412 ... 15848 15849 15850]\n",
      "\n",
      "Train12 [    0     1     2 ... 21608 21609 21610]\n",
      "Test12 [15851 15852 15853 ... 17288 17289 17290]\n",
      "\n",
      "Train13 [    0     1     2 ... 21608 21609 21610]\n",
      "Test13 [17291 17292 17293 ... 18728 18729 18730]\n",
      "\n",
      "Train14 [    0     1     2 ... 21608 21609 21610]\n",
      "Test14 [18731 18732 18733 ... 20168 20169 20170]\n",
      "\n",
      "Train15 [    0     1     2 ... 20168 20169 20170]\n",
      "Test15 [20171 20172 20173 ... 21608 21609 21610]\n"
     ]
    }
   ],
   "source": [
    "kf = KFold(n_splits=15)\r\n",
    "\r\n",
    "i = 1\r\n",
    "for train, test in kf.split(X):\r\n",
    "    print(\"\\nTrain\" + str(i), train)\r\n",
    "    print(\"Test\" + str(i), test)\r\n",
    "\r\n",
    "    i += 1"
   ]
  },
  {
   "cell_type": "code",
   "execution_count": 12,
   "metadata": {},
   "outputs": [
    {
     "data": {
      "text/plain": "[(array([10806, 10807, 10808, ..., 21608, 21609, 21610]),\n  array([    0,     1,     2, ..., 10803, 10804, 10805])),\n (array([    0,     1,     2, ..., 10803, 10804, 10805]),\n  array([10806, 10807, 10808, ..., 21608, 21609, 21610]))]"
     },
     "execution_count": 12,
     "metadata": {},
     "output_type": "execute_result"
    }
   ],
   "source": [
    "kf = KFold(n_splits=2)\r\n",
    "\r\n",
    "indicies_list = list(kf.split(X))\r\n",
    "indicies_list"
   ]
  },
  {
   "cell_type": "code",
   "execution_count": 13,
   "metadata": {},
   "outputs": [
    {
     "data": {
      "text/plain": "(array([10806, 10807, 10808, ..., 21608, 21609, 21610]),\n array([    0,     1,     2, ..., 10803, 10804, 10805]))"
     },
     "execution_count": 13,
     "metadata": {},
     "output_type": "execute_result"
    }
   ],
   "source": [
    "indicies_list[0]"
   ]
  },
  {
   "cell_type": "code",
   "execution_count": 19,
   "metadata": {},
   "outputs": [],
   "source": [
    "X_train1, y_train1 = X[indicies_list[0][0]], Y[indicies_list[0][0]]\r\n",
    "X_test1, y_test1 = X[indicies_list[0][1]], Y[indicies_list[0][1]]\r\n",
    "\r\n",
    "X_train2, y_train2 = X[indicies_list[1][0]], Y[indicies_list[1][0]]\r\n",
    "X_test2, y_test2 = X[indicies_list[1][1]], Y[indicies_list[1][1]]"
   ]
  },
  {
   "cell_type": "code",
   "execution_count": 20,
   "metadata": {},
   "outputs": [
    {
     "data": {
      "text/plain": "((10805, 15), (10805, 1))"
     },
     "execution_count": 20,
     "metadata": {},
     "output_type": "execute_result"
    }
   ],
   "source": [
    "X_train1.shape, y_train1.shape"
   ]
  },
  {
   "cell_type": "code",
   "execution_count": 21,
   "metadata": {},
   "outputs": [
    {
     "data": {
      "text/plain": "((10806, 15), (10806, 1))"
     },
     "execution_count": 21,
     "metadata": {},
     "output_type": "execute_result"
    }
   ],
   "source": [
    "X_train2.shape, y_train2.shape"
   ]
  },
  {
   "cell_type": "code",
   "execution_count": 22,
   "metadata": {},
   "outputs": [
    {
     "data": {
      "text/plain": "((10805, 15), (10805, 1))"
     },
     "execution_count": 22,
     "metadata": {},
     "output_type": "execute_result"
    }
   ],
   "source": [
    "X_test2.shape, y_test2.shape"
   ]
  },
  {
   "cell_type": "code",
   "execution_count": 23,
   "metadata": {},
   "outputs": [
    {
     "data": {
      "text/plain": "0.6455507637942682"
     },
     "execution_count": 23,
     "metadata": {},
     "output_type": "execute_result"
    }
   ],
   "source": [
    "reg = LinearRegression().fit(X_train1, y_train1)\r\n",
    "reg.score(X_test1, y_test1)"
   ]
  },
  {
   "cell_type": "code",
   "execution_count": 25,
   "metadata": {},
   "outputs": [
    {
     "data": {
      "text/plain": "0.644251856944084"
     },
     "execution_count": 25,
     "metadata": {},
     "output_type": "execute_result"
    }
   ],
   "source": [
    "reg = LinearRegression().fit(X_train2, y_train2)\r\n",
    "reg.score(X_test2, y_test2)"
   ]
  },
  {
   "cell_type": "code",
   "execution_count": 26,
   "metadata": {},
   "outputs": [
    {
     "data": {
      "text/plain": "array([0.64555076, 0.64425186])"
     },
     "execution_count": 26,
     "metadata": {},
     "output_type": "execute_result"
    }
   ],
   "source": [
    "cross_val_score(reg, X, Y, cv=2)"
   ]
  },
  {
   "cell_type": "code",
   "execution_count": null,
   "metadata": {},
   "outputs": [],
   "source": []
  }
 ],
 "metadata": {
  "kernelspec": {
   "display_name": "Python 3.9.4 64-bit",
   "name": "python394jvsc74a57bd09fdb9160099e666fbe1246fdc3611df6e34403c4a50d97f5ca90d3cacc6ef812"
  },
  "language_info": {
   "codemirror_mode": {
    "name": "ipython",
    "version": 3
   },
   "file_extension": ".py",
   "mimetype": "text/x-python",
   "name": "python",
   "nbconvert_exporter": "python",
   "pygments_lexer": "ipython3",
   "version": "3.9.4"
  },
  "orig_nbformat": 2
 },
 "nbformat": 4,
 "nbformat_minor": 2
}