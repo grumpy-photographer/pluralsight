{
 "cells": [
  {
   "cell_type": "code",
   "execution_count": 13,
   "id": "ea31d8eb",
   "metadata": {
    "ExecuteTime": {
     "end_time": "2021-04-18T01:19:12.857634Z",
     "start_time": "2021-04-18T01:19:12.833654Z"
    }
   },
   "outputs": [],
   "source": [
    "import pandas as pd\n",
    "import numpy as np\n",
    "import seaborn as sns\n",
    "import matplotlib.pyplot as plt"
   ]
  },
  {
   "cell_type": "code",
   "execution_count": 2,
   "id": "7992f48d",
   "metadata": {
    "ExecuteTime": {
     "end_time": "2021-04-18T01:18:19.626221Z",
     "start_time": "2021-04-18T01:18:19.572072Z"
    }
   },
   "outputs": [
    {
     "data": {
      "text/html": [
       "<div>\n",
       "<style scoped>\n",
       "    .dataframe tbody tr th:only-of-type {\n",
       "        vertical-align: middle;\n",
       "    }\n",
       "\n",
       "    .dataframe tbody tr th {\n",
       "        vertical-align: top;\n",
       "    }\n",
       "\n",
       "    .dataframe thead th {\n",
       "        text-align: right;\n",
       "    }\n",
       "</style>\n",
       "<table border=\"1\" class=\"dataframe\">\n",
       "  <thead>\n",
       "    <tr style=\"text-align: right;\">\n",
       "      <th></th>\n",
       "      <th>Model</th>\n",
       "      <th>MPG</th>\n",
       "      <th>Cylinders</th>\n",
       "      <th>Displacement</th>\n",
       "      <th>Horsepower</th>\n",
       "      <th>Weight</th>\n",
       "      <th>Acceleration</th>\n",
       "      <th>Year</th>\n",
       "      <th>Origin</th>\n",
       "      <th>bore</th>\n",
       "      <th>stroke</th>\n",
       "      <th>compression-ratio</th>\n",
       "    </tr>\n",
       "  </thead>\n",
       "  <tbody>\n",
       "    <tr>\n",
       "      <th>0</th>\n",
       "      <td>chevrolet chevelle malibu</td>\n",
       "      <td>18.0</td>\n",
       "      <td>8</td>\n",
       "      <td>307.0</td>\n",
       "      <td>130</td>\n",
       "      <td>3504</td>\n",
       "      <td>12.0</td>\n",
       "      <td>1970[1975]</td>\n",
       "      <td>US; Detroit, Michigan</td>\n",
       "      <td>3.47</td>\n",
       "      <td>2.68</td>\n",
       "      <td>9.0</td>\n",
       "    </tr>\n",
       "    <tr>\n",
       "      <th>1</th>\n",
       "      <td>buick skylark 320</td>\n",
       "      <td>15.0</td>\n",
       "      <td>8</td>\n",
       "      <td>350.0</td>\n",
       "      <td>165</td>\n",
       "      <td>3693</td>\n",
       "      <td>11.5</td>\n",
       "      <td>1970</td>\n",
       "      <td>US]</td>\n",
       "      <td>3.47</td>\n",
       "      <td>2.68</td>\n",
       "      <td>9.0</td>\n",
       "    </tr>\n",
       "    <tr>\n",
       "      <th>2</th>\n",
       "      <td>plymouth satellite</td>\n",
       "      <td>18.0</td>\n",
       "      <td>8</td>\n",
       "      <td>318.0</td>\n",
       "      <td>150</td>\n",
       "      <td>3436</td>\n",
       "      <td>11.0</td>\n",
       "      <td>1970, 1976</td>\n",
       "      <td>US</td>\n",
       "      <td>2.68</td>\n",
       "      <td>3.47</td>\n",
       "      <td>9.0</td>\n",
       "    </tr>\n",
       "    <tr>\n",
       "      <th>3</th>\n",
       "      <td>amc rebel sst</td>\n",
       "      <td>16.0</td>\n",
       "      <td>8</td>\n",
       "      <td>304.0</td>\n",
       "      <td>150</td>\n",
       "      <td>3433</td>\n",
       "      <td>12.0</td>\n",
       "      <td>1970</td>\n",
       "      <td>US</td>\n",
       "      <td>3.19</td>\n",
       "      <td>3.40</td>\n",
       "      <td>10.0</td>\n",
       "    </tr>\n",
       "    <tr>\n",
       "      <th>4</th>\n",
       "      <td>ford torino</td>\n",
       "      <td>17.0</td>\n",
       "      <td>8</td>\n",
       "      <td>302.0</td>\n",
       "      <td>140</td>\n",
       "      <td>3449</td>\n",
       "      <td>10.5</td>\n",
       "      <td>1970-1972</td>\n",
       "      <td>US]</td>\n",
       "      <td>3.19</td>\n",
       "      <td>3.40</td>\n",
       "      <td>8.0</td>\n",
       "    </tr>\n",
       "  </tbody>\n",
       "</table>\n",
       "</div>"
      ],
      "text/plain": [
       "                       Model   MPG Cylinders  Displacement  Horsepower  \\\n",
       "0  chevrolet chevelle malibu  18.0         8         307.0         130   \n",
       "1          buick skylark 320  15.0         8         350.0         165   \n",
       "2         plymouth satellite  18.0         8         318.0         150   \n",
       "3              amc rebel sst  16.0         8         304.0         150   \n",
       "4                ford torino  17.0         8         302.0         140   \n",
       "\n",
       "   Weight  Acceleration        Year                 Origin  bore  stroke  \\\n",
       "0    3504          12.0  1970[1975]  US; Detroit, Michigan  3.47    2.68   \n",
       "1    3693          11.5        1970                    US]  3.47    2.68   \n",
       "2    3436          11.0  1970, 1976                     US  2.68    3.47   \n",
       "3    3433          12.0        1970                     US  3.19    3.40   \n",
       "4    3449          10.5   1970-1972                    US]  3.19    3.40   \n",
       "\n",
       "   compression-ratio  \n",
       "0                9.0  \n",
       "1                9.0  \n",
       "2                9.0  \n",
       "3               10.0  \n",
       "4                8.0  "
      ]
     },
     "execution_count": 2,
     "metadata": {},
     "output_type": "execute_result"
    }
   ],
   "source": [
    "cars_data = pd.read_csv(\"data/cars.csv\")\n",
    "cars_data.head()"
   ]
  },
  {
   "cell_type": "code",
   "execution_count": 3,
   "id": "03241806",
   "metadata": {
    "ExecuteTime": {
     "end_time": "2021-04-18T01:18:19.654818Z",
     "start_time": "2021-04-18T01:18:19.632468Z"
    }
   },
   "outputs": [
    {
     "data": {
      "text/plain": [
       "(394, 12)"
      ]
     },
     "execution_count": 3,
     "metadata": {},
     "output_type": "execute_result"
    }
   ],
   "source": [
    "cars_data.shape"
   ]
  },
  {
   "cell_type": "code",
   "execution_count": 4,
   "id": "7e65dba8",
   "metadata": {
    "ExecuteTime": {
     "end_time": "2021-04-18T01:18:20.358796Z",
     "start_time": "2021-04-18T01:18:19.656409Z"
    },
    "scrolled": false
   },
   "outputs": [
    {
     "name": "stderr",
     "output_type": "stream",
     "text": [
      "C:\\Users\\natha\\AppData\\Roaming\\Python\\Python38\\site-packages\\pandas\\plotting\\_matplotlib\\tools.py:400: MatplotlibDeprecationWarning: \n",
      "The is_first_col function was deprecated in Matplotlib 3.4 and will be removed two minor releases later. Use ax.get_subplotspec().is_first_col() instead.\n",
      "  if ax.is_first_col():\n"
     ]
    },
    {
     "data": {
      "text/plain": [
       "<AxesSubplot:xlabel='Displacement', ylabel='Acceleration'>"
      ]
     },
     "execution_count": 4,
     "metadata": {},
     "output_type": "execute_result"
    },
    {
     "data": {
      "image/png": "[encoded data removed]",
      "text/plain": [
       "<Figure size 720x576 with 2 Axes>"
      ]
     },
     "metadata": {
      "needs_background": "light"
     },
     "output_type": "display_data"
    }
   ],
   "source": [
    "cars_data.plot.scatter(\n",
    "    x=\"Displacement\",\n",
    "    y=\"Acceleration\",\n",
    "    c=\"Horsepower\",\n",
    "    colormap=\"viridis\",\n",
    "    figsize=(10, 8),\n",
    ")"
   ]
  },
  {
   "cell_type": "code",
   "execution_count": 5,
   "id": "79e9a242",
   "metadata": {
    "ExecuteTime": {
     "end_time": "2021-04-18T01:18:20.925873Z",
     "start_time": "2021-04-18T01:18:20.365845Z"
    }
   },
   "outputs": [
    {
     "data": {
      "text/plain": [
       "<AxesSubplot:xlabel='MPG', ylabel='Weight'>"
      ]
     },
     "execution_count": 5,
     "metadata": {},
     "output_type": "execute_result"
    },
    {
     "data": {
      "image/png": "[encoded data removed]",
      "text/plain": [
       "<Figure size 720x576 with 1 Axes>"
      ]
     },
     "metadata": {
      "needs_background": "light"
     },
     "output_type": "display_data"
    }
   ],
   "source": [
    "cars_data.plot.scatter(x=\"MPG\", y=\"Weight\", figsize=(10, 8))"
   ]
  },
  {
   "cell_type": "code",
   "execution_count": 6,
   "id": "ca0153be",
   "metadata": {
    "ExecuteTime": {
     "end_time": "2021-04-18T01:18:20.973453Z",
     "start_time": "2021-04-18T01:18:20.933396Z"
    },
    "scrolled": true
   },
   "outputs": [
    {
     "data": {
      "text/plain": [
       "Model                0\n",
       "MPG                  9\n",
       "Cylinders            0\n",
       "Displacement         0\n",
       "Horsepower           0\n",
       "Weight               0\n",
       "Acceleration         0\n",
       "Year                 0\n",
       "Origin               0\n",
       "bore                 0\n",
       "stroke               0\n",
       "compression-ratio    0\n",
       "dtype: int64"
      ]
     },
     "execution_count": 6,
     "metadata": {},
     "output_type": "execute_result"
    }
   ],
   "source": [
    "cars_data.isnull().sum()"
   ]
  },
  {
   "cell_type": "code",
   "execution_count": 7,
   "id": "920016a6",
   "metadata": {
    "ExecuteTime": {
     "end_time": "2021-04-18T01:18:21.039625Z",
     "start_time": "2021-04-18T01:18:20.990513Z"
    }
   },
   "outputs": [],
   "source": [
    "cars_data[\"MPG\"] = cars_data[\"MPG\"].fillna(cars_data[\"MPG\"].mean())"
   ]
  },
  {
   "cell_type": "code",
   "execution_count": 8,
   "id": "7b60b464",
   "metadata": {
    "ExecuteTime": {
     "end_time": "2021-04-18T01:18:21.086841Z",
     "start_time": "2021-04-18T01:18:21.048286Z"
    },
    "scrolled": true
   },
   "outputs": [
    {
     "data": {
      "text/plain": [
       "Model                0\n",
       "MPG                  0\n",
       "Cylinders            0\n",
       "Displacement         0\n",
       "Horsepower           0\n",
       "Weight               0\n",
       "Acceleration         0\n",
       "Year                 0\n",
       "Origin               0\n",
       "bore                 0\n",
       "stroke               0\n",
       "compression-ratio    0\n",
       "dtype: int64"
      ]
     },
     "execution_count": 8,
     "metadata": {},
     "output_type": "execute_result"
    }
   ],
   "source": [
    "cars_data.isnull().sum()"
   ]
  },
  {
   "cell_type": "code",
   "execution_count": 9,
   "id": "abcff7c9",
   "metadata": {
    "ExecuteTime": {
     "end_time": "2021-04-18T01:18:21.131590Z",
     "start_time": "2021-04-18T01:18:21.093895Z"
    }
   },
   "outputs": [],
   "source": [
    "to_drop = [\"bore\", \"stroke\", \"compression-ratio\"]"
   ]
  },
  {
   "cell_type": "code",
   "execution_count": 10,
   "id": "8fa8d05f",
   "metadata": {
    "ExecuteTime": {
     "end_time": "2021-04-18T01:18:21.197323Z",
     "start_time": "2021-04-18T01:18:21.135252Z"
    }
   },
   "outputs": [
    {
     "data": {
      "text/html": [
       "<div>\n",
       "<style scoped>\n",
       "    .dataframe tbody tr th:only-of-type {\n",
       "        vertical-align: middle;\n",
       "    }\n",
       "\n",
       "    .dataframe tbody tr th {\n",
       "        vertical-align: top;\n",
       "    }\n",
       "\n",
       "    .dataframe thead th {\n",
       "        text-align: right;\n",
       "    }\n",
       "</style>\n",
       "<table border=\"1\" class=\"dataframe\">\n",
       "  <thead>\n",
       "    <tr style=\"text-align: right;\">\n",
       "      <th></th>\n",
       "      <th>Model</th>\n",
       "      <th>MPG</th>\n",
       "      <th>Cylinders</th>\n",
       "      <th>Displacement</th>\n",
       "      <th>Horsepower</th>\n",
       "      <th>Weight</th>\n",
       "      <th>Acceleration</th>\n",
       "      <th>Year</th>\n",
       "      <th>Origin</th>\n",
       "    </tr>\n",
       "  </thead>\n",
       "  <tbody>\n",
       "    <tr>\n",
       "      <th>0</th>\n",
       "      <td>chevrolet chevelle malibu</td>\n",
       "      <td>18.0</td>\n",
       "      <td>8</td>\n",
       "      <td>307.0</td>\n",
       "      <td>130</td>\n",
       "      <td>3504</td>\n",
       "      <td>12.0</td>\n",
       "      <td>1970[1975]</td>\n",
       "      <td>US; Detroit, Michigan</td>\n",
       "    </tr>\n",
       "    <tr>\n",
       "      <th>1</th>\n",
       "      <td>buick skylark 320</td>\n",
       "      <td>15.0</td>\n",
       "      <td>8</td>\n",
       "      <td>350.0</td>\n",
       "      <td>165</td>\n",
       "      <td>3693</td>\n",
       "      <td>11.5</td>\n",
       "      <td>1970</td>\n",
       "      <td>US]</td>\n",
       "    </tr>\n",
       "    <tr>\n",
       "      <th>2</th>\n",
       "      <td>plymouth satellite</td>\n",
       "      <td>18.0</td>\n",
       "      <td>8</td>\n",
       "      <td>318.0</td>\n",
       "      <td>150</td>\n",
       "      <td>3436</td>\n",
       "      <td>11.0</td>\n",
       "      <td>1970, 1976</td>\n",
       "      <td>US</td>\n",
       "    </tr>\n",
       "    <tr>\n",
       "      <th>3</th>\n",
       "      <td>amc rebel sst</td>\n",
       "      <td>16.0</td>\n",
       "      <td>8</td>\n",
       "      <td>304.0</td>\n",
       "      <td>150</td>\n",
       "      <td>3433</td>\n",
       "      <td>12.0</td>\n",
       "      <td>1970</td>\n",
       "      <td>US</td>\n",
       "    </tr>\n",
       "    <tr>\n",
       "      <th>4</th>\n",
       "      <td>ford torino</td>\n",
       "      <td>17.0</td>\n",
       "      <td>8</td>\n",
       "      <td>302.0</td>\n",
       "      <td>140</td>\n",
       "      <td>3449</td>\n",
       "      <td>10.5</td>\n",
       "      <td>1970-1972</td>\n",
       "      <td>US]</td>\n",
       "    </tr>\n",
       "  </tbody>\n",
       "</table>\n",
       "</div>"
      ],
      "text/plain": [
       "                       Model   MPG Cylinders  Displacement  Horsepower  \\\n",
       "0  chevrolet chevelle malibu  18.0         8         307.0         130   \n",
       "1          buick skylark 320  15.0         8         350.0         165   \n",
       "2         plymouth satellite  18.0         8         318.0         150   \n",
       "3              amc rebel sst  16.0         8         304.0         150   \n",
       "4                ford torino  17.0         8         302.0         140   \n",
       "\n",
       "   Weight  Acceleration        Year                 Origin  \n",
       "0    3504          12.0  1970[1975]  US; Detroit, Michigan  \n",
       "1    3693          11.5        1970                    US]  \n",
       "2    3436          11.0  1970, 1976                     US  \n",
       "3    3433          12.0        1970                     US  \n",
       "4    3449          10.5   1970-1972                    US]  "
      ]
     },
     "execution_count": 10,
     "metadata": {},
     "output_type": "execute_result"
    }
   ],
   "source": [
    "cars_data.drop(to_drop, inplace=True, axis=1)\n",
    "cars_data.head()"
   ]
  },
  {
   "cell_type": "code",
   "execution_count": 11,
   "id": "aef88bad",
   "metadata": {
    "ExecuteTime": {
     "end_time": "2021-04-18T01:18:21.227246Z",
     "start_time": "2021-04-18T01:18:21.202333Z"
    },
    "scrolled": true
   },
   "outputs": [
    {
     "data": {
      "text/plain": [
       "0    1970[1975]\n",
       "1          1970\n",
       "2    1970, 1976\n",
       "3          1970\n",
       "4     1970-1972\n",
       "5          1970\n",
       "6    1970[1975]\n",
       "7          1970\n",
       "8          1970\n",
       "9          1970\n",
       "Name: Year, dtype: object"
      ]
     },
     "execution_count": 11,
     "metadata": {},
     "output_type": "execute_result"
    }
   ],
   "source": [
    "cars_data[\"Year\"].head(10)"
   ]
  },
  {
   "cell_type": "code",
   "execution_count": 12,
   "id": "80f446cf",
   "metadata": {
    "ExecuteTime": {
     "end_time": "2021-04-18T01:18:21.277536Z",
     "start_time": "2021-04-18T01:18:21.233548Z"
    }
   },
   "outputs": [
    {
     "data": {
      "text/plain": [
       "True     357\n",
       "False     37\n",
       "Name: Year, dtype: int64"
      ]
     },
     "execution_count": 12,
     "metadata": {},
     "output_type": "execute_result"
    }
   ],
   "source": [
    "cars_data[\"Year\"].str.isnumeric().value_counts()"
   ]
  },
  {
   "cell_type": "code",
   "execution_count": 14,
   "id": "a23931b9",
   "metadata": {
    "ExecuteTime": {
     "end_time": "2021-04-18T01:19:12.950284Z",
     "start_time": "2021-04-18T01:19:12.865657Z"
    }
   },
   "outputs": [
    {
     "data": {
      "text/plain": [
       "0          1970[1975]\n",
       "2          1970, 1976\n",
       "4           1970-1972\n",
       "6          1970[1975]\n",
       "30      1971[1973]971\n",
       "35         1971[1973]\n",
       "40         1971[1973]\n",
       "44         1971[1973]\n",
       "49         1971[1973]\n",
       "56         1972[1973]\n",
       "61         1972[1973]\n",
       "65         1972[1973]\n",
       "68         1972[1973]\n",
       "73         1972[1973]\n",
       "75            1972-73\n",
       "79            1972-73\n",
       "82            1972-73\n",
       "96          1973-1974\n",
       "97         1973, 1974\n",
       "102    1973, 19741973\n",
       "105        1973, 1974\n",
       "108        1973, 1974\n",
       "112        1973, 1974\n",
       "115        1973, 1974\n",
       "126        1974, 1975\n",
       "131        1974, 1975\n",
       "134        1974, 1975\n",
       "137        1974, 1975\n",
       "139    1974, 19751974\n",
       "142        1974, 1975\n",
       "365         1982-1985\n",
       "374         1982-1985\n",
       "380         1982-1985\n",
       "383         1982-1985\n",
       "387         1982-1985\n",
       "389         1982-1985\n",
       "391         1982-1985\n",
       "Name: Year, dtype: object"
      ]
     },
     "execution_count": 14,
     "metadata": {},
     "output_type": "execute_result"
    }
   ],
   "source": [
    "cars_data[\"Year\"].loc[cars_data[\"Year\"].str.isnumeric() == False]"
   ]
  },
  {
   "cell_type": "code",
   "execution_count": 15,
   "id": "8c1d1819",
   "metadata": {
    "ExecuteTime": {
     "end_time": "2021-04-18T01:20:23.787358Z",
     "start_time": "2021-04-18T01:20:23.753096Z"
    },
    "scrolled": true
   },
   "outputs": [
    {
     "data": {
      "text/plain": [
       "0      1970\n",
       "1      1970\n",
       "2      1970\n",
       "3      1970\n",
       "4      1970\n",
       "       ... \n",
       "389    1982\n",
       "390    1982\n",
       "391    1982\n",
       "392    1982\n",
       "393    1982\n",
       "Name: Year, Length: 394, dtype: object"
      ]
     },
     "execution_count": 15,
     "metadata": {},
     "output_type": "execute_result"
    }
   ],
   "source": [
    "extr = cars_data[\"Year\"].str.extract(r\"^(\\d{4})\", expand=False)\n",
    "extr"
   ]
  },
  {
   "cell_type": "code",
   "execution_count": 16,
   "id": "85284301",
   "metadata": {
    "ExecuteTime": {
     "end_time": "2021-04-18T01:20:56.643036Z",
     "start_time": "2021-04-18T01:20:56.590393Z"
    }
   },
   "outputs": [
    {
     "data": {
      "text/plain": [
       "dtype('int64')"
      ]
     },
     "execution_count": 16,
     "metadata": {},
     "output_type": "execute_result"
    }
   ],
   "source": [
    "cars_data[\"Year\"] = pd.to_numeric(extr)\n",
    "cars_data[\"Year\"].dtype"
   ]
  },
  {
   "cell_type": "code",
   "execution_count": 17,
   "id": "03214f85",
   "metadata": {
    "ExecuteTime": {
     "end_time": "2021-04-18T01:21:43.234581Z",
     "start_time": "2021-04-18T01:21:42.787356Z"
    }
   },
   "outputs": [
    {
     "data": {
      "text/plain": [
       "<AxesSubplot:xlabel='Year', ylabel='MPG'>"
      ]
     },
     "execution_count": 17,
     "metadata": {},
     "output_type": "execute_result"
    },
    {
     "data": {
      "image/png": "[encoded data removed]",
      "text/plain": [
       "<Figure size 720x576 with 1 Axes>"
      ]
     },
     "metadata": {
      "needs_background": "light"
     },
     "output_type": "display_data"
    }
   ],
   "source": [
    "cars_data.plot.scatter(x=\"Year\", y=\"MPG\", figsize=(10, 8))"
   ]
  },
  {
   "cell_type": "code",
   "execution_count": null,
   "id": "ec8ca72e",
   "metadata": {},
   "outputs": [],
   "source": []
  }
 ],
 "metadata": {
  "kernelspec": {
   "display_name": "Python 3",
   "language": "python",
   "name": "python3"
  },
  "language_info": {
   "codemirror_mode": {
    "name": "ipython",
    "version": 3
   },
   "file_extension": ".py",
   "mimetype": "text/x-python",
   "name": "python",
   "nbconvert_exporter": "python",
   "pygments_lexer": "ipython3",
   "version": "3.8.7"
  }
 },
 "nbformat": 4,
 "nbformat_minor": 5
}
