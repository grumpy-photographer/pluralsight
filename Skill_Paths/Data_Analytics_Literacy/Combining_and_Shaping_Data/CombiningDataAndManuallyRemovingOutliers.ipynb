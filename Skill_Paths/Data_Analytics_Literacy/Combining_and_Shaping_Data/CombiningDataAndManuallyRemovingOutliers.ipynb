{
 "cells": [
  {
   "cell_type": "code",
   "execution_count": 1,
   "id": "3cbf0339",
   "metadata": {
    "ExecuteTime": {
     "end_time": "2021-04-15T01:21:44.223377Z",
     "start_time": "2021-04-15T01:21:42.414128Z"
    }
   },
   "outputs": [],
   "source": [
    "import pandas as pd\n",
    "import matplotlib.pyplot as plt"
   ]
  },
  {
   "cell_type": "code",
   "execution_count": 2,
   "id": "720052e6",
   "metadata": {
    "ExecuteTime": {
     "end_time": "2021-04-15T01:21:44.303031Z",
     "start_time": "2021-04-15T01:21:44.233332Z"
    }
   },
   "outputs": [
    {
     "data": {
      "text/html": [
       "<div>\n",
       "<style scoped>\n",
       "    .dataframe tbody tr th:only-of-type {\n",
       "        vertical-align: middle;\n",
       "    }\n",
       "\n",
       "    .dataframe tbody tr th {\n",
       "        vertical-align: top;\n",
       "    }\n",
       "\n",
       "    .dataframe thead th {\n",
       "        text-align: right;\n",
       "    }\n",
       "</style>\n",
       "<table border=\"1\" class=\"dataframe\">\n",
       "  <thead>\n",
       "    <tr style=\"text-align: right;\">\n",
       "      <th></th>\n",
       "      <th>CustomerID</th>\n",
       "      <th>Gender</th>\n",
       "      <th>Age</th>\n",
       "      <th>Annual_Income</th>\n",
       "    </tr>\n",
       "  </thead>\n",
       "  <tbody>\n",
       "    <tr>\n",
       "      <th>0</th>\n",
       "      <td>1</td>\n",
       "      <td>Male</td>\n",
       "      <td>19</td>\n",
       "      <td>15</td>\n",
       "    </tr>\n",
       "    <tr>\n",
       "      <th>1</th>\n",
       "      <td>2</td>\n",
       "      <td>Male</td>\n",
       "      <td>21</td>\n",
       "      <td>15</td>\n",
       "    </tr>\n",
       "    <tr>\n",
       "      <th>2</th>\n",
       "      <td>3</td>\n",
       "      <td>Female</td>\n",
       "      <td>20</td>\n",
       "      <td>16</td>\n",
       "    </tr>\n",
       "    <tr>\n",
       "      <th>3</th>\n",
       "      <td>4</td>\n",
       "      <td>Female</td>\n",
       "      <td>23</td>\n",
       "      <td>16</td>\n",
       "    </tr>\n",
       "    <tr>\n",
       "      <th>4</th>\n",
       "      <td>5</td>\n",
       "      <td>Female</td>\n",
       "      <td>31</td>\n",
       "      <td>17</td>\n",
       "    </tr>\n",
       "  </tbody>\n",
       "</table>\n",
       "</div>"
      ],
      "text/plain": [
       "   CustomerID  Gender  Age  Annual_Income\n",
       "0           1    Male   19             15\n",
       "1           2    Male   21             15\n",
       "2           3  Female   20             16\n",
       "3           4  Female   23             16\n",
       "4           5  Female   31             17"
      ]
     },
     "execution_count": 2,
     "metadata": {},
     "output_type": "execute_result"
    }
   ],
   "source": [
    "mall_customers_info = pd.read_csv(\"data/mall_customers_info.csv\")\n",
    "\n",
    "mall_customers_info.head()"
   ]
  },
  {
   "cell_type": "code",
   "execution_count": 3,
   "id": "246b66e4",
   "metadata": {
    "ExecuteTime": {
     "end_time": "2021-04-15T01:21:44.333986Z",
     "start_time": "2021-04-15T01:21:44.312985Z"
    }
   },
   "outputs": [
    {
     "data": {
      "text/plain": [
       "(150, 4)"
      ]
     },
     "execution_count": 3,
     "metadata": {},
     "output_type": "execute_result"
    }
   ],
   "source": [
    "mall_customers_info.shape"
   ]
  },
  {
   "cell_type": "code",
   "execution_count": 4,
   "id": "52a26435",
   "metadata": {
    "ExecuteTime": {
     "end_time": "2021-04-15T01:21:44.427981Z",
     "start_time": "2021-04-15T01:21:44.342431Z"
    }
   },
   "outputs": [
    {
     "data": {
      "text/html": [
       "<div>\n",
       "<style scoped>\n",
       "    .dataframe tbody tr th:only-of-type {\n",
       "        vertical-align: middle;\n",
       "    }\n",
       "\n",
       "    .dataframe tbody tr th {\n",
       "        vertical-align: top;\n",
       "    }\n",
       "\n",
       "    .dataframe thead th {\n",
       "        text-align: right;\n",
       "    }\n",
       "</style>\n",
       "<table border=\"1\" class=\"dataframe\">\n",
       "  <thead>\n",
       "    <tr style=\"text-align: right;\">\n",
       "      <th></th>\n",
       "      <th>CustomerID</th>\n",
       "      <th>Spending Score (1-100)</th>\n",
       "    </tr>\n",
       "  </thead>\n",
       "  <tbody>\n",
       "    <tr>\n",
       "      <th>0</th>\n",
       "      <td>1</td>\n",
       "      <td>39</td>\n",
       "    </tr>\n",
       "    <tr>\n",
       "      <th>1</th>\n",
       "      <td>2</td>\n",
       "      <td>81</td>\n",
       "    </tr>\n",
       "    <tr>\n",
       "      <th>2</th>\n",
       "      <td>3</td>\n",
       "      <td>6</td>\n",
       "    </tr>\n",
       "    <tr>\n",
       "      <th>3</th>\n",
       "      <td>4</td>\n",
       "      <td>77</td>\n",
       "    </tr>\n",
       "    <tr>\n",
       "      <th>4</th>\n",
       "      <td>5</td>\n",
       "      <td>40</td>\n",
       "    </tr>\n",
       "  </tbody>\n",
       "</table>\n",
       "</div>"
      ],
      "text/plain": [
       "   CustomerID  Spending Score (1-100)\n",
       "0           1                      39\n",
       "1           2                      81\n",
       "2           3                       6\n",
       "3           4                      77\n",
       "4           5                      40"
      ]
     },
     "execution_count": 4,
     "metadata": {},
     "output_type": "execute_result"
    }
   ],
   "source": [
    "mall_customer_scores = pd.read_csv(\"data/mall_customers_score.csv\")\n",
    "mall_customer_scores.head()"
   ]
  },
  {
   "cell_type": "code",
   "execution_count": 5,
   "id": "db55e354",
   "metadata": {
    "ExecuteTime": {
     "end_time": "2021-04-15T01:21:44.459982Z",
     "start_time": "2021-04-15T01:21:44.434986Z"
    }
   },
   "outputs": [
    {
     "data": {
      "text/plain": [
       "(150, 2)"
      ]
     },
     "execution_count": 5,
     "metadata": {},
     "output_type": "execute_result"
    }
   ],
   "source": [
    "mall_customer_scores.shape"
   ]
  },
  {
   "cell_type": "code",
   "execution_count": 6,
   "id": "ea8c4074",
   "metadata": {
    "ExecuteTime": {
     "end_time": "2021-04-15T01:21:44.521987Z",
     "start_time": "2021-04-15T01:21:44.473987Z"
    }
   },
   "outputs": [],
   "source": [
    "customer_data = pd.merge(\n",
    "    mall_customers_info,\n",
    "    mall_customer_scores[[\"CustomerID\", \"Spending Score (1-100)\"]],\n",
    "    on=\"CustomerID\",\n",
    ")"
   ]
  },
  {
   "cell_type": "code",
   "execution_count": 7,
   "id": "8a0608d8",
   "metadata": {
    "ExecuteTime": {
     "end_time": "2021-04-15T01:21:44.569979Z",
     "start_time": "2021-04-15T01:21:44.529988Z"
    }
   },
   "outputs": [
    {
     "data": {
      "text/html": [
       "<div>\n",
       "<style scoped>\n",
       "    .dataframe tbody tr th:only-of-type {\n",
       "        vertical-align: middle;\n",
       "    }\n",
       "\n",
       "    .dataframe tbody tr th {\n",
       "        vertical-align: top;\n",
       "    }\n",
       "\n",
       "    .dataframe thead th {\n",
       "        text-align: right;\n",
       "    }\n",
       "</style>\n",
       "<table border=\"1\" class=\"dataframe\">\n",
       "  <thead>\n",
       "    <tr style=\"text-align: right;\">\n",
       "      <th></th>\n",
       "      <th>CustomerID</th>\n",
       "      <th>Gender</th>\n",
       "      <th>Age</th>\n",
       "      <th>Annual_Income</th>\n",
       "      <th>Spending Score (1-100)</th>\n",
       "    </tr>\n",
       "  </thead>\n",
       "  <tbody>\n",
       "    <tr>\n",
       "      <th>0</th>\n",
       "      <td>1</td>\n",
       "      <td>Male</td>\n",
       "      <td>19</td>\n",
       "      <td>15</td>\n",
       "      <td>39</td>\n",
       "    </tr>\n",
       "    <tr>\n",
       "      <th>1</th>\n",
       "      <td>2</td>\n",
       "      <td>Male</td>\n",
       "      <td>21</td>\n",
       "      <td>15</td>\n",
       "      <td>81</td>\n",
       "    </tr>\n",
       "    <tr>\n",
       "      <th>2</th>\n",
       "      <td>3</td>\n",
       "      <td>Female</td>\n",
       "      <td>20</td>\n",
       "      <td>16</td>\n",
       "      <td>6</td>\n",
       "    </tr>\n",
       "    <tr>\n",
       "      <th>3</th>\n",
       "      <td>4</td>\n",
       "      <td>Female</td>\n",
       "      <td>23</td>\n",
       "      <td>16</td>\n",
       "      <td>77</td>\n",
       "    </tr>\n",
       "    <tr>\n",
       "      <th>4</th>\n",
       "      <td>5</td>\n",
       "      <td>Female</td>\n",
       "      <td>31</td>\n",
       "      <td>17</td>\n",
       "      <td>40</td>\n",
       "    </tr>\n",
       "  </tbody>\n",
       "</table>\n",
       "</div>"
      ],
      "text/plain": [
       "   CustomerID  Gender  Age  Annual_Income  Spending Score (1-100)\n",
       "0           1    Male   19             15                      39\n",
       "1           2    Male   21             15                      81\n",
       "2           3  Female   20             16                       6\n",
       "3           4  Female   23             16                      77\n",
       "4           5  Female   31             17                      40"
      ]
     },
     "execution_count": 7,
     "metadata": {},
     "output_type": "execute_result"
    }
   ],
   "source": [
    "customer_data.head()"
   ]
  },
  {
   "cell_type": "code",
   "execution_count": 8,
   "id": "0502592d",
   "metadata": {
    "ExecuteTime": {
     "end_time": "2021-04-15T01:21:44.617278Z",
     "start_time": "2021-04-15T01:21:44.578194Z"
    }
   },
   "outputs": [
    {
     "name": "stdout",
     "output_type": "stream",
     "text": [
      "(150, 5)\n"
     ]
    }
   ],
   "source": [
    "print(customer_data.shape)"
   ]
  },
  {
   "cell_type": "code",
   "execution_count": 9,
   "id": "1ab800ce",
   "metadata": {
    "ExecuteTime": {
     "end_time": "2021-04-15T01:21:44.694985Z",
     "start_time": "2021-04-15T01:21:44.628089Z"
    }
   },
   "outputs": [
    {
     "data": {
      "text/html": [
       "<div>\n",
       "<style scoped>\n",
       "    .dataframe tbody tr th:only-of-type {\n",
       "        vertical-align: middle;\n",
       "    }\n",
       "\n",
       "    .dataframe tbody tr th {\n",
       "        vertical-align: top;\n",
       "    }\n",
       "\n",
       "    .dataframe thead th {\n",
       "        text-align: right;\n",
       "    }\n",
       "</style>\n",
       "<table border=\"1\" class=\"dataframe\">\n",
       "  <thead>\n",
       "    <tr style=\"text-align: right;\">\n",
       "      <th></th>\n",
       "      <th>CustomerID</th>\n",
       "      <th>Gender</th>\n",
       "      <th>Age</th>\n",
       "      <th>Annual_Income</th>\n",
       "      <th>Spending Score (1-100)</th>\n",
       "    </tr>\n",
       "  </thead>\n",
       "  <tbody>\n",
       "    <tr>\n",
       "      <th>0</th>\n",
       "      <td>151</td>\n",
       "      <td>Male</td>\n",
       "      <td>43</td>\n",
       "      <td>78</td>\n",
       "      <td>17</td>\n",
       "    </tr>\n",
       "    <tr>\n",
       "      <th>1</th>\n",
       "      <td>152</td>\n",
       "      <td>Male</td>\n",
       "      <td>39</td>\n",
       "      <td>78</td>\n",
       "      <td>88</td>\n",
       "    </tr>\n",
       "    <tr>\n",
       "      <th>2</th>\n",
       "      <td>153</td>\n",
       "      <td>Female</td>\n",
       "      <td>44</td>\n",
       "      <td>78</td>\n",
       "      <td>20</td>\n",
       "    </tr>\n",
       "    <tr>\n",
       "      <th>3</th>\n",
       "      <td>154</td>\n",
       "      <td>Female</td>\n",
       "      <td>38</td>\n",
       "      <td>78</td>\n",
       "      <td>76</td>\n",
       "    </tr>\n",
       "    <tr>\n",
       "      <th>4</th>\n",
       "      <td>155</td>\n",
       "      <td>Female</td>\n",
       "      <td>47</td>\n",
       "      <td>78</td>\n",
       "      <td>16</td>\n",
       "    </tr>\n",
       "  </tbody>\n",
       "</table>\n",
       "</div>"
      ],
      "text/plain": [
       "   CustomerID  Gender  Age  Annual_Income  Spending Score (1-100)\n",
       "0         151    Male   43             78                      17\n",
       "1         152    Male   39             78                      88\n",
       "2         153  Female   44             78                      20\n",
       "3         154  Female   38             78                      76\n",
       "4         155  Female   47             78                      16"
      ]
     },
     "execution_count": 9,
     "metadata": {},
     "output_type": "execute_result"
    }
   ],
   "source": [
    "customers_data_2 = pd.read_csv(\"data/customers_data_2.csv\")\n",
    "customers_data_2.head()"
   ]
  },
  {
   "cell_type": "code",
   "execution_count": 10,
   "id": "58cc117d",
   "metadata": {
    "ExecuteTime": {
     "end_time": "2021-04-15T01:21:44.726571Z",
     "start_time": "2021-04-15T01:21:44.702078Z"
    }
   },
   "outputs": [
    {
     "data": {
      "text/plain": [
       "(50, 5)"
      ]
     },
     "execution_count": 10,
     "metadata": {},
     "output_type": "execute_result"
    }
   ],
   "source": [
    "customers_data_2.shape"
   ]
  },
  {
   "cell_type": "code",
   "execution_count": 11,
   "id": "8ae39004",
   "metadata": {
    "ExecuteTime": {
     "end_time": "2021-04-15T01:21:44.772982Z",
     "start_time": "2021-04-15T01:21:44.735983Z"
    },
    "scrolled": true
   },
   "outputs": [
    {
     "data": {
      "text/html": [
       "<div>\n",
       "<style scoped>\n",
       "    .dataframe tbody tr th:only-of-type {\n",
       "        vertical-align: middle;\n",
       "    }\n",
       "\n",
       "    .dataframe tbody tr th {\n",
       "        vertical-align: top;\n",
       "    }\n",
       "\n",
       "    .dataframe thead th {\n",
       "        text-align: right;\n",
       "    }\n",
       "</style>\n",
       "<table border=\"1\" class=\"dataframe\">\n",
       "  <thead>\n",
       "    <tr style=\"text-align: right;\">\n",
       "      <th></th>\n",
       "      <th>CustomerID</th>\n",
       "      <th>Gender</th>\n",
       "      <th>Age</th>\n",
       "      <th>Annual_Income</th>\n",
       "      <th>Spending Score (1-100)</th>\n",
       "    </tr>\n",
       "  </thead>\n",
       "  <tbody>\n",
       "    <tr>\n",
       "      <th>15</th>\n",
       "      <td>16</td>\n",
       "      <td>Male</td>\n",
       "      <td>22</td>\n",
       "      <td>20</td>\n",
       "      <td>79</td>\n",
       "    </tr>\n",
       "    <tr>\n",
       "      <th>84</th>\n",
       "      <td>85</td>\n",
       "      <td>Female</td>\n",
       "      <td>21</td>\n",
       "      <td>54</td>\n",
       "      <td>57</td>\n",
       "    </tr>\n",
       "    <tr>\n",
       "      <th>103</th>\n",
       "      <td>104</td>\n",
       "      <td>Male</td>\n",
       "      <td>26</td>\n",
       "      <td>62</td>\n",
       "      <td>55</td>\n",
       "    </tr>\n",
       "    <tr>\n",
       "      <th>16</th>\n",
       "      <td>17</td>\n",
       "      <td>Female</td>\n",
       "      <td>35</td>\n",
       "      <td>21</td>\n",
       "      <td>35</td>\n",
       "    </tr>\n",
       "    <tr>\n",
       "      <th>124</th>\n",
       "      <td>125</td>\n",
       "      <td>Female</td>\n",
       "      <td>23</td>\n",
       "      <td>70</td>\n",
       "      <td>29</td>\n",
       "    </tr>\n",
       "    <tr>\n",
       "      <th>50</th>\n",
       "      <td>51</td>\n",
       "      <td>Female</td>\n",
       "      <td>49</td>\n",
       "      <td>42</td>\n",
       "      <td>52</td>\n",
       "    </tr>\n",
       "    <tr>\n",
       "      <th>148</th>\n",
       "      <td>149</td>\n",
       "      <td>Female</td>\n",
       "      <td>34</td>\n",
       "      <td>78</td>\n",
       "      <td>22</td>\n",
       "    </tr>\n",
       "    <tr>\n",
       "      <th>74</th>\n",
       "      <td>75</td>\n",
       "      <td>Male</td>\n",
       "      <td>59</td>\n",
       "      <td>54</td>\n",
       "      <td>47</td>\n",
       "    </tr>\n",
       "    <tr>\n",
       "      <th>33</th>\n",
       "      <td>184</td>\n",
       "      <td>Female</td>\n",
       "      <td>29</td>\n",
       "      <td>98</td>\n",
       "      <td>88</td>\n",
       "    </tr>\n",
       "    <tr>\n",
       "      <th>11</th>\n",
       "      <td>162</td>\n",
       "      <td>Female</td>\n",
       "      <td>29</td>\n",
       "      <td>79</td>\n",
       "      <td>83</td>\n",
       "    </tr>\n",
       "  </tbody>\n",
       "</table>\n",
       "</div>"
      ],
      "text/plain": [
       "     CustomerID  Gender  Age  Annual_Income  Spending Score (1-100)\n",
       "15           16    Male   22             20                      79\n",
       "84           85  Female   21             54                      57\n",
       "103         104    Male   26             62                      55\n",
       "16           17  Female   35             21                      35\n",
       "124         125  Female   23             70                      29\n",
       "50           51  Female   49             42                      52\n",
       "148         149  Female   34             78                      22\n",
       "74           75    Male   59             54                      47\n",
       "33          184  Female   29             98                      88\n",
       "11          162  Female   29             79                      83"
      ]
     },
     "execution_count": 11,
     "metadata": {},
     "output_type": "execute_result"
    }
   ],
   "source": [
    "customers_data_com = pd.concat([customer_data, customers_data_2])\n",
    "customers_data_com.sample(10)"
   ]
  },
  {
   "cell_type": "code",
   "execution_count": 12,
   "id": "acb248d0",
   "metadata": {
    "ExecuteTime": {
     "end_time": "2021-04-15T01:21:44.804987Z",
     "start_time": "2021-04-15T01:21:44.779982Z"
    }
   },
   "outputs": [],
   "source": [
    "customers_data_com.reset_index(inplace=True, drop=True)"
   ]
  },
  {
   "cell_type": "code",
   "execution_count": 13,
   "id": "c30f2a92",
   "metadata": {
    "ExecuteTime": {
     "end_time": "2021-04-15T01:21:44.835984Z",
     "start_time": "2021-04-15T01:21:44.810929Z"
    }
   },
   "outputs": [
    {
     "data": {
      "text/plain": [
       "(200, 5)"
      ]
     },
     "execution_count": 13,
     "metadata": {},
     "output_type": "execute_result"
    }
   ],
   "source": [
    "customers_data_com.shape"
   ]
  },
  {
   "cell_type": "code",
   "execution_count": 14,
   "id": "c50286b6",
   "metadata": {
    "ExecuteTime": {
     "end_time": "2021-04-15T01:21:44.851989Z",
     "start_time": "2021-04-15T01:21:44.840109Z"
    }
   },
   "outputs": [
    {
     "data": {
      "text/plain": [
       "CustomerID                 int64\n",
       "Gender                    object\n",
       "Age                        int64\n",
       "Annual_Income              int64\n",
       "Spending Score (1-100)     int64\n",
       "dtype: object"
      ]
     },
     "execution_count": 14,
     "metadata": {},
     "output_type": "execute_result"
    }
   ],
   "source": [
    "customers_data_com.dtypes"
   ]
  },
  {
   "cell_type": "code",
   "execution_count": 15,
   "id": "a69e0f59",
   "metadata": {
    "ExecuteTime": {
     "end_time": "2021-04-15T01:21:44.883982Z",
     "start_time": "2021-04-15T01:21:44.859992Z"
    }
   },
   "outputs": [],
   "source": [
    "customers_data_com.to_csv(\"data/combined_customers_data\", index=False)"
   ]
  },
  {
   "cell_type": "code",
   "execution_count": 16,
   "id": "3026e71d",
   "metadata": {
    "ExecuteTime": {
     "end_time": "2021-04-15T01:21:44.915981Z",
     "start_time": "2021-04-15T01:21:44.889985Z"
    }
   },
   "outputs": [
    {
     "data": {
      "text/plain": [
       "CustomerID                False\n",
       "Gender                    False\n",
       "Age                       False\n",
       "Annual_Income             False\n",
       "Spending Score (1-100)    False\n",
       "dtype: bool"
      ]
     },
     "execution_count": 16,
     "metadata": {},
     "output_type": "execute_result"
    }
   ],
   "source": [
    "customers_data_com.isnull().any()"
   ]
  },
  {
   "cell_type": "code",
   "execution_count": 17,
   "id": "13194762",
   "metadata": {
    "ExecuteTime": {
     "end_time": "2021-04-15T01:21:44.964510Z",
     "start_time": "2021-04-15T01:21:44.920983Z"
    }
   },
   "outputs": [
    {
     "data": {
      "text/plain": [
       "CustomerID                200\n",
       "Gender                      2\n",
       "Age                        50\n",
       "Annual_Income              67\n",
       "Spending Score (1-100)     82\n",
       "dtype: int64"
      ]
     },
     "execution_count": 17,
     "metadata": {},
     "output_type": "execute_result"
    }
   ],
   "source": [
    "customers_data_com.nunique()"
   ]
  },
  {
   "cell_type": "code",
   "execution_count": 18,
   "id": "883f9f47",
   "metadata": {
    "ExecuteTime": {
     "end_time": "2021-04-15T01:21:45.373017Z",
     "start_time": "2021-04-15T01:21:44.969984Z"
    }
   },
   "outputs": [
    {
     "data": {
      "text/plain": [
       "<AxesSubplot:ylabel='Frequency'>"
      ]
     },
     "execution_count": 18,
     "metadata": {},
     "output_type": "execute_result"
    },
    {
     "data": {
      "image/png": "[encoded data removed]",
      "text/plain": [
       "<Figure size 720x576 with 1 Axes>"
      ]
     },
     "metadata": {
      "needs_background": "light"
     },
     "output_type": "display_data"
    }
   ],
   "source": [
    "customers_data_com[\"Annual_Income\"].plot.hist(bins=10, figsize=(10, 8))"
   ]
  },
  {
   "cell_type": "code",
   "execution_count": 19,
   "id": "edbe1707",
   "metadata": {
    "ExecuteTime": {
     "end_time": "2021-04-15T01:21:45.844081Z",
     "start_time": "2021-04-15T01:21:45.380982Z"
    }
   },
   "outputs": [
    {
     "data": {
      "image/png": "[encoded data removed]",
      "text/plain": [
       "<Figure size 720x576 with 1 Axes>"
      ]
     },
     "metadata": {
      "needs_background": "light"
     },
     "output_type": "display_data"
    }
   ],
   "source": [
    "boxplot = customers_data_com.boxplot(grid=False, rot=45, figsize=(10, 8))"
   ]
  },
  {
   "cell_type": "code",
   "execution_count": 20,
   "id": "f89b10b5",
   "metadata": {
    "ExecuteTime": {
     "end_time": "2021-04-15T01:21:46.143367Z",
     "start_time": "2021-04-15T01:21:45.852921Z"
    }
   },
   "outputs": [
    {
     "data": {
      "image/png": "[encoded data removed]",
      "text/plain": [
       "<Figure size 720x576 with 1 Axes>"
      ]
     },
     "metadata": {
      "needs_background": "light"
     },
     "output_type": "display_data"
    }
   ],
   "source": [
    "boxplot = customers_data_com.boxplot(\n",
    "    grid=False, fontsize=15, column=[\"Annual_Income\"], figsize=(10, 8)\n",
    ")"
   ]
  },
  {
   "cell_type": "code",
   "execution_count": 21,
   "id": "0eeee294",
   "metadata": {
    "ExecuteTime": {
     "end_time": "2021-04-15T01:21:46.190883Z",
     "start_time": "2021-04-15T01:21:46.152878Z"
    }
   },
   "outputs": [
    {
     "data": {
      "text/html": [
       "<div>\n",
       "<style scoped>\n",
       "    .dataframe tbody tr th:only-of-type {\n",
       "        vertical-align: middle;\n",
       "    }\n",
       "\n",
       "    .dataframe tbody tr th {\n",
       "        vertical-align: top;\n",
       "    }\n",
       "\n",
       "    .dataframe thead th {\n",
       "        text-align: right;\n",
       "    }\n",
       "</style>\n",
       "<table border=\"1\" class=\"dataframe\">\n",
       "  <thead>\n",
       "    <tr style=\"text-align: right;\">\n",
       "      <th></th>\n",
       "      <th>CustomerID</th>\n",
       "      <th>Gender</th>\n",
       "      <th>Age</th>\n",
       "      <th>Annual_Income</th>\n",
       "      <th>Spending Score (1-100)</th>\n",
       "    </tr>\n",
       "  </thead>\n",
       "  <tbody>\n",
       "    <tr>\n",
       "      <th>198</th>\n",
       "      <td>199</td>\n",
       "      <td>Male</td>\n",
       "      <td>32</td>\n",
       "      <td>170</td>\n",
       "      <td>70</td>\n",
       "    </tr>\n",
       "    <tr>\n",
       "      <th>199</th>\n",
       "      <td>200</td>\n",
       "      <td>Male</td>\n",
       "      <td>30</td>\n",
       "      <td>165</td>\n",
       "      <td>73</td>\n",
       "    </tr>\n",
       "  </tbody>\n",
       "</table>\n",
       "</div>"
      ],
      "text/plain": [
       "     CustomerID Gender  Age  Annual_Income  Spending Score (1-100)\n",
       "198         199   Male   32            170                      70\n",
       "199         200   Male   30            165                      73"
      ]
     },
     "execution_count": 21,
     "metadata": {},
     "output_type": "execute_result"
    }
   ],
   "source": [
    "customers_data_com.loc[customers_data_com[\"Annual_Income\"] > 125]"
   ]
  },
  {
   "cell_type": "code",
   "execution_count": 22,
   "id": "5ffce068",
   "metadata": {
    "ExecuteTime": {
     "end_time": "2021-04-15T01:21:46.236879Z",
     "start_time": "2021-04-15T01:21:46.202099Z"
    }
   },
   "outputs": [],
   "source": [
    "Q1 = customers_data_com[\"Annual_Income\"].quantile(0.25)\n",
    "Q3 = customers_data_com[\"Annual_Income\"].quantile(0.75)"
   ]
  },
  {
   "cell_type": "code",
   "execution_count": 23,
   "id": "1daa3b47",
   "metadata": {
    "ExecuteTime": {
     "end_time": "2021-04-15T01:21:46.267878Z",
     "start_time": "2021-04-15T01:21:46.245892Z"
    }
   },
   "outputs": [
    {
     "name": "stdout",
     "output_type": "stream",
     "text": [
      "40.0 77.25\n"
     ]
    }
   ],
   "source": [
    "print(Q1, Q3)"
   ]
  },
  {
   "cell_type": "code",
   "execution_count": 24,
   "id": "86d3b3e8",
   "metadata": {
    "ExecuteTime": {
     "end_time": "2021-04-15T01:21:46.316155Z",
     "start_time": "2021-04-15T01:21:46.277884Z"
    }
   },
   "outputs": [
    {
     "name": "stdout",
     "output_type": "stream",
     "text": [
      "37.25\n"
     ]
    }
   ],
   "source": [
    "IQR = Q3 - Q1\n",
    "print(IQR)"
   ]
  },
  {
   "cell_type": "code",
   "execution_count": 25,
   "id": "8a1d0ae5",
   "metadata": {
    "ExecuteTime": {
     "end_time": "2021-04-15T01:21:46.332159Z",
     "start_time": "2021-04-15T01:21:46.322322Z"
    }
   },
   "outputs": [],
   "source": [
    "minimum = Q1 - 1.5 * IQR\n",
    "maximum = Q3 + 1.5 * IQR"
   ]
  },
  {
   "cell_type": "code",
   "execution_count": 26,
   "id": "4f5e9ee3",
   "metadata": {
    "ExecuteTime": {
     "end_time": "2021-04-15T01:21:46.379880Z",
     "start_time": "2021-04-15T01:21:46.350222Z"
    }
   },
   "outputs": [
    {
     "data": {
      "text/plain": [
       "-15.875"
      ]
     },
     "execution_count": 26,
     "metadata": {},
     "output_type": "execute_result"
    }
   ],
   "source": [
    "minimum"
   ]
  },
  {
   "cell_type": "code",
   "execution_count": 27,
   "id": "e619938b",
   "metadata": {
    "ExecuteTime": {
     "end_time": "2021-04-15T01:21:46.411885Z",
     "start_time": "2021-04-15T01:21:46.386090Z"
    }
   },
   "outputs": [
    {
     "data": {
      "text/plain": [
       "133.125"
      ]
     },
     "execution_count": 27,
     "metadata": {},
     "output_type": "execute_result"
    }
   ],
   "source": [
    "maximum"
   ]
  },
  {
   "cell_type": "code",
   "execution_count": 28,
   "id": "a1d05b03",
   "metadata": {
    "ExecuteTime": {
     "end_time": "2021-04-15T01:21:46.443255Z",
     "start_time": "2021-04-15T01:21:46.418877Z"
    }
   },
   "outputs": [],
   "source": [
    "customers_data_com[\"Annual_Income_Outlier\"] = False"
   ]
  },
  {
   "cell_type": "code",
   "execution_count": 29,
   "id": "6844113f",
   "metadata": {
    "ExecuteTime": {
     "end_time": "2021-04-15T01:21:46.503890Z",
     "start_time": "2021-04-15T01:21:46.451879Z"
    }
   },
   "outputs": [],
   "source": [
    "for index, row in customers_data_com.iterrows():\n",
    "    if row[\"Annual_Income\"] > maximum:\n",
    "        customers_data_com.at[index, \"Annual_Income_Outlier\"] = True"
   ]
  },
  {
   "cell_type": "code",
   "execution_count": 30,
   "id": "13d25f84",
   "metadata": {
    "ExecuteTime": {
     "end_time": "2021-04-15T01:21:46.549891Z",
     "start_time": "2021-04-15T01:21:46.516321Z"
    }
   },
   "outputs": [
    {
     "data": {
      "text/plain": [
       "2"
      ]
     },
     "execution_count": 30,
     "metadata": {},
     "output_type": "execute_result"
    }
   ],
   "source": [
    "customers_data_com[\"Annual_Income_Outlier\"].sum()"
   ]
  },
  {
   "cell_type": "code",
   "execution_count": 31,
   "id": "b877e2d6",
   "metadata": {
    "ExecuteTime": {
     "end_time": "2021-04-15T01:21:46.596884Z",
     "start_time": "2021-04-15T01:21:46.561070Z"
    }
   },
   "outputs": [
    {
     "data": {
      "text/plain": [
       "59.815"
      ]
     },
     "execution_count": 31,
     "metadata": {},
     "output_type": "execute_result"
    }
   ],
   "source": [
    "mean = customers_data_com[\"Annual_Income\"].mean()\n",
    "mean"
   ]
  },
  {
   "cell_type": "code",
   "execution_count": 32,
   "id": "5170a10a",
   "metadata": {
    "ExecuteTime": {
     "end_time": "2021-04-15T01:21:46.673881Z",
     "start_time": "2021-04-15T01:21:46.605899Z"
    }
   },
   "outputs": [],
   "source": [
    "for index, row in customers_data_com.iterrows():\n",
    "    if row[\"Annual_Income_Outlier\"] == True:\n",
    "        customers_data_com.at[index, \"Annual_Income\"] = mean"
   ]
  },
  {
   "cell_type": "code",
   "execution_count": 33,
   "id": "027c8365",
   "metadata": {
    "ExecuteTime": {
     "end_time": "2021-04-15T01:21:47.003884Z",
     "start_time": "2021-04-15T01:21:46.685262Z"
    }
   },
   "outputs": [
    {
     "data": {
      "image/png": "[encoded data removed]",
      "text/plain": [
       "<Figure size 720x576 with 1 Axes>"
      ]
     },
     "metadata": {
      "needs_background": "light"
     },
     "output_type": "display_data"
    }
   ],
   "source": [
    "boxplot = customers_data_com.boxplot(\n",
    "    grid=False, fontsize=15, column=[\"Annual_Income\"], figsize=(10, 8)\n",
    ")"
   ]
  },
  {
   "cell_type": "code",
   "execution_count": null,
   "id": "a8fef79d",
   "metadata": {},
   "outputs": [],
   "source": []
  }
 ],
 "metadata": {
  "kernelspec": {
   "display_name": "Python 3",
   "language": "python",
   "name": "python3"
  },
  "language_info": {
   "codemirror_mode": {
    "name": "ipython",
    "version": 3
   },
   "file_extension": ".py",
   "mimetype": "text/x-python",
   "name": "python",
   "nbconvert_exporter": "python",
   "pygments_lexer": "ipython3",
   "version": "3.8.7"
  }
 },
 "nbformat": 4,
 "nbformat_minor": 5
}
