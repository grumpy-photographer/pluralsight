{
 "cells": [
  {
   "cell_type": "code",
   "execution_count": 1,
   "id": "de332de3",
   "metadata": {
    "ExecuteTime": {
     "end_time": "2021-04-18T01:48:10.859016Z",
     "start_time": "2021-04-18T01:48:07.328650Z"
    }
   },
   "outputs": [],
   "source": [
    "import pandas as pd\n",
    "import numpy as np\n",
    "\n",
    "import matplotlib.pyplot as plt"
   ]
  },
  {
   "cell_type": "code",
   "execution_count": 2,
   "id": "d3ff95de",
   "metadata": {
    "ExecuteTime": {
     "end_time": "2021-04-18T01:48:11.049641Z",
     "start_time": "2021-04-18T01:48:10.880367Z"
    }
   },
   "outputs": [
    {
     "data": {
      "text/html": [
       "<div>\n",
       "<style scoped>\n",
       "    .dataframe tbody tr th:only-of-type {\n",
       "        vertical-align: middle;\n",
       "    }\n",
       "\n",
       "    .dataframe tbody tr th {\n",
       "        vertical-align: top;\n",
       "    }\n",
       "\n",
       "    .dataframe thead th {\n",
       "        text-align: right;\n",
       "    }\n",
       "</style>\n",
       "<table border=\"1\" class=\"dataframe\">\n",
       "  <thead>\n",
       "    <tr style=\"text-align: right;\">\n",
       "      <th></th>\n",
       "      <th>Pregnancies</th>\n",
       "      <th>Glucose</th>\n",
       "      <th>BloodPressure</th>\n",
       "      <th>SkinThickness</th>\n",
       "      <th>Insulin</th>\n",
       "      <th>BMI</th>\n",
       "      <th>DiabetesPedigreeFunction</th>\n",
       "      <th>Age</th>\n",
       "      <th>diagnosis</th>\n",
       "    </tr>\n",
       "  </thead>\n",
       "  <tbody>\n",
       "    <tr>\n",
       "      <th>0</th>\n",
       "      <td>10</td>\n",
       "      <td>115</td>\n",
       "      <td>0</td>\n",
       "      <td>0</td>\n",
       "      <td>0</td>\n",
       "      <td>35.3</td>\n",
       "      <td>0.134</td>\n",
       "      <td>29</td>\n",
       "      <td>0</td>\n",
       "    </tr>\n",
       "    <tr>\n",
       "      <th>1</th>\n",
       "      <td>2</td>\n",
       "      <td>197</td>\n",
       "      <td>70</td>\n",
       "      <td>45</td>\n",
       "      <td>543</td>\n",
       "      <td>30.5</td>\n",
       "      <td>0.158</td>\n",
       "      <td>53</td>\n",
       "      <td>1</td>\n",
       "    </tr>\n",
       "    <tr>\n",
       "      <th>2</th>\n",
       "      <td>4</td>\n",
       "      <td>110</td>\n",
       "      <td>92</td>\n",
       "      <td>0</td>\n",
       "      <td>0</td>\n",
       "      <td>37.6</td>\n",
       "      <td>0.191</td>\n",
       "      <td>30</td>\n",
       "      <td>0</td>\n",
       "    </tr>\n",
       "    <tr>\n",
       "      <th>3</th>\n",
       "      <td>10</td>\n",
       "      <td>168</td>\n",
       "      <td>74</td>\n",
       "      <td>0</td>\n",
       "      <td>0</td>\n",
       "      <td>38.0</td>\n",
       "      <td>0.537</td>\n",
       "      <td>34</td>\n",
       "      <td>1</td>\n",
       "    </tr>\n",
       "    <tr>\n",
       "      <th>4</th>\n",
       "      <td>10</td>\n",
       "      <td>139</td>\n",
       "      <td>80</td>\n",
       "      <td>0</td>\n",
       "      <td>0</td>\n",
       "      <td>27.1</td>\n",
       "      <td>1.441</td>\n",
       "      <td>57</td>\n",
       "      <td>0</td>\n",
       "    </tr>\n",
       "  </tbody>\n",
       "</table>\n",
       "</div>"
      ],
      "text/plain": [
       "   Pregnancies  Glucose  BloodPressure  SkinThickness  Insulin   BMI  \\\n",
       "0           10      115              0              0        0  35.3   \n",
       "1            2      197             70             45      543  30.5   \n",
       "2            4      110             92              0        0  37.6   \n",
       "3           10      168             74              0        0  38.0   \n",
       "4           10      139             80              0        0  27.1   \n",
       "\n",
       "   DiabetesPedigreeFunction  Age  diagnosis  \n",
       "0                     0.134   29          0  \n",
       "1                     0.158   53          1  \n",
       "2                     0.191   30          0  \n",
       "3                     0.537   34          1  \n",
       "4                     1.441   57          0  "
      ]
     },
     "execution_count": 2,
     "metadata": {},
     "output_type": "execute_result"
    }
   ],
   "source": [
    "diabetes_data = pd.read_csv(\"data/diabetes.csv\")\n",
    "diabetes_data.head()"
   ]
  },
  {
   "cell_type": "code",
   "execution_count": 3,
   "id": "8d71538e",
   "metadata": {
    "ExecuteTime": {
     "end_time": "2021-04-18T01:48:11.073117Z",
     "start_time": "2021-04-18T01:48:11.057646Z"
    }
   },
   "outputs": [
    {
     "data": {
      "text/plain": [
       "(533, 9)"
      ]
     },
     "execution_count": 3,
     "metadata": {},
     "output_type": "execute_result"
    }
   ],
   "source": [
    "diabetes_data.shape"
   ]
  },
  {
   "cell_type": "code",
   "execution_count": 4,
   "id": "b2c26feb",
   "metadata": {
    "ExecuteTime": {
     "end_time": "2021-04-18T01:48:14.033430Z",
     "start_time": "2021-04-18T01:48:11.077228Z"
    }
   },
   "outputs": [
    {
     "name": "stderr",
     "output_type": "stream",
     "text": [
      "C:\\Users\\natha\\AppData\\Roaming\\Python\\Python38\\site-packages\\pandas\\plotting\\_matplotlib\\tools.py:400: MatplotlibDeprecationWarning: \n",
      "The is_first_col function was deprecated in Matplotlib 3.4 and will be removed two minor releases later. Use ax.get_subplotspec().is_first_col() instead.\n",
      "  if ax.is_first_col():\n"
     ]
    },
    {
     "data": {
      "text/plain": [
       "array([[<AxesSubplot:title={'center':'Pregnancies'}>,\n",
       "        <AxesSubplot:title={'center':'Glucose'}>,\n",
       "        <AxesSubplot:title={'center':'BloodPressure'}>],\n",
       "       [<AxesSubplot:title={'center':'SkinThickness'}>,\n",
       "        <AxesSubplot:title={'center':'Insulin'}>,\n",
       "        <AxesSubplot:title={'center':'BMI'}>],\n",
       "       [<AxesSubplot:title={'center':'DiabetesPedigreeFunction'}>,\n",
       "        <AxesSubplot:title={'center':'Age'}>,\n",
       "        <AxesSubplot:title={'center':'diagnosis'}>]], dtype=object)"
      ]
     },
     "execution_count": 4,
     "metadata": {},
     "output_type": "execute_result"
    },
    {
     "data": {
      "image/png": "[encoded data removed]",
      "text/plain": [
       "<Figure size 1440x720 with 9 Axes>"
      ]
     },
     "metadata": {
      "needs_background": "light"
     },
     "output_type": "display_data"
    }
   ],
   "source": [
    "diabetes_data.hist(figsize=(20, 10))"
   ]
  },
  {
   "cell_type": "code",
   "execution_count": 5,
   "id": "92d9c4da",
   "metadata": {
    "ExecuteTime": {
     "end_time": "2021-04-18T01:48:14.067079Z",
     "start_time": "2021-04-18T01:48:14.044688Z"
    }
   },
   "outputs": [],
   "source": [
    "diagnosis_count = diabetes_data.diagnosis.value_counts()"
   ]
  },
  {
   "cell_type": "code",
   "execution_count": 6,
   "id": "b474396e",
   "metadata": {
    "ExecuteTime": {
     "end_time": "2021-04-18T01:48:14.164847Z",
     "start_time": "2021-04-18T01:48:14.078304Z"
    }
   },
   "outputs": [
    {
     "name": "stdout",
     "output_type": "stream",
     "text": [
      "Class 0: 487\n",
      "Class 1: 46\n",
      "Proportion: 10.59 : 1\n"
     ]
    }
   ],
   "source": [
    "print(\"Class 0:\", diagnosis_count[0])\n",
    "print(\"Class 1:\", diagnosis_count[1])\n",
    "print(\"Proportion:\", round(diagnosis_count[0] / diagnosis_count[1], 2), ': 1')"
   ]
  },
  {
   "cell_type": "code",
   "execution_count": 7,
   "id": "758c72c3",
   "metadata": {
    "ExecuteTime": {
     "end_time": "2021-04-18T01:48:14.489991Z",
     "start_time": "2021-04-18T01:48:14.172375Z"
    }
   },
   "outputs": [
    {
     "data": {
      "text/plain": [
       "<AxesSubplot:title={'center':'Count (target)'}>"
      ]
     },
     "execution_count": 7,
     "metadata": {},
     "output_type": "execute_result"
    },
    {
     "data": {
      "image/png": "[encoded data removed]",
      "text/plain": [
       "<Figure size 864x720 with 1 Axes>"
      ]
     },
     "metadata": {
      "needs_background": "light"
     },
     "output_type": "display_data"
    }
   ],
   "source": [
    "diagnosis_count.plot(kind=\"bar\", title=\"Count (target)\", figsize=(12, 10))"
   ]
  },
  {
   "cell_type": "code",
   "execution_count": 8,
   "id": "c510c0c3",
   "metadata": {
    "ExecuteTime": {
     "end_time": "2021-04-18T01:48:14.521509Z",
     "start_time": "2021-04-18T01:48:14.499623Z"
    }
   },
   "outputs": [],
   "source": [
    "y = diabetes_data.diagnosis\n",
    "X = diabetes_data.drop(\"diagnosis\", axis=1)"
   ]
  },
  {
   "cell_type": "code",
   "execution_count": 9,
   "id": "c8524aa4",
   "metadata": {
    "ExecuteTime": {
     "end_time": "2021-04-18T01:48:16.871304Z",
     "start_time": "2021-04-18T01:48:14.533044Z"
    }
   },
   "outputs": [],
   "source": [
    "from sklearn.model_selection import train_test_split"
   ]
  },
  {
   "cell_type": "code",
   "execution_count": 10,
   "id": "36aac2d8",
   "metadata": {
    "ExecuteTime": {
     "end_time": "2021-04-18T01:48:16.899505Z",
     "start_time": "2021-04-18T01:48:16.877891Z"
    }
   },
   "outputs": [],
   "source": [
    "X_train, X_test, y_train, y_test = train_test_split(X,\n",
    "                                                    y,\n",
    "                                                    test_size=0.25,\n",
    "                                                    random_state=27)"
   ]
  },
  {
   "cell_type": "code",
   "execution_count": 11,
   "id": "b3d141f9",
   "metadata": {
    "ExecuteTime": {
     "end_time": "2021-04-18T01:48:17.063378Z",
     "start_time": "2021-04-18T01:48:16.910569Z"
    }
   },
   "outputs": [],
   "source": [
    "from sklearn.linear_model import LogisticRegression"
   ]
  },
  {
   "cell_type": "code",
   "execution_count": 12,
   "id": "6c453e38",
   "metadata": {
    "ExecuteTime": {
     "end_time": "2021-04-18T01:48:17.080376Z",
     "start_time": "2021-04-18T01:48:17.067611Z"
    }
   },
   "outputs": [],
   "source": [
    "lm = LogisticRegression(solver=\"liblinear\")"
   ]
  },
  {
   "cell_type": "code",
   "execution_count": 13,
   "id": "b38f2d82",
   "metadata": {
    "ExecuteTime": {
     "end_time": "2021-04-18T01:48:17.153676Z",
     "start_time": "2021-04-18T01:48:17.090785Z"
    }
   },
   "outputs": [
    {
     "data": {
      "text/plain": [
       "LogisticRegression(solver='liblinear')"
      ]
     },
     "execution_count": 13,
     "metadata": {},
     "output_type": "execute_result"
    }
   ],
   "source": [
    "lm.fit(X_train, y_train)"
   ]
  },
  {
   "cell_type": "code",
   "execution_count": 14,
   "id": "1df7a82e",
   "metadata": {
    "ExecuteTime": {
     "end_time": "2021-04-18T01:48:17.199847Z",
     "start_time": "2021-04-18T01:48:17.163615Z"
    }
   },
   "outputs": [],
   "source": [
    "y_pred = lm.predict(X_test)"
   ]
  },
  {
   "cell_type": "code",
   "execution_count": 15,
   "id": "a8f58fff",
   "metadata": {
    "ExecuteTime": {
     "end_time": "2021-04-18T01:48:17.304780Z",
     "start_time": "2021-04-18T01:48:17.210453Z"
    }
   },
   "outputs": [
    {
     "data": {
      "text/html": [
       "<div>\n",
       "<style scoped>\n",
       "    .dataframe tbody tr th:only-of-type {\n",
       "        vertical-align: middle;\n",
       "    }\n",
       "\n",
       "    .dataframe tbody tr th {\n",
       "        vertical-align: top;\n",
       "    }\n",
       "\n",
       "    .dataframe thead th {\n",
       "        text-align: right;\n",
       "    }\n",
       "</style>\n",
       "<table border=\"1\" class=\"dataframe\">\n",
       "  <thead>\n",
       "    <tr style=\"text-align: right;\">\n",
       "      <th>diagnosis</th>\n",
       "      <th>0</th>\n",
       "      <th>1</th>\n",
       "    </tr>\n",
       "    <tr>\n",
       "      <th>row_0</th>\n",
       "      <th></th>\n",
       "      <th></th>\n",
       "    </tr>\n",
       "  </thead>\n",
       "  <tbody>\n",
       "    <tr>\n",
       "      <th>0</th>\n",
       "      <td>123</td>\n",
       "      <td>10</td>\n",
       "    </tr>\n",
       "    <tr>\n",
       "      <th>1</th>\n",
       "      <td>1</td>\n",
       "      <td>0</td>\n",
       "    </tr>\n",
       "  </tbody>\n",
       "</table>\n",
       "</div>"
      ],
      "text/plain": [
       "diagnosis    0   1\n",
       "row_0             \n",
       "0          123  10\n",
       "1            1   0"
      ]
     },
     "execution_count": 15,
     "metadata": {},
     "output_type": "execute_result"
    }
   ],
   "source": [
    "pd.crosstab(y_pred, y_test)"
   ]
  },
  {
   "cell_type": "code",
   "execution_count": 16,
   "id": "7a03cc3b",
   "metadata": {
    "ExecuteTime": {
     "end_time": "2021-04-18T01:48:17.319898Z",
     "start_time": "2021-04-18T01:48:17.311507Z"
    }
   },
   "outputs": [],
   "source": [
    "from sklearn import metrics"
   ]
  },
  {
   "cell_type": "code",
   "execution_count": 17,
   "id": "88efde9d",
   "metadata": {
    "ExecuteTime": {
     "end_time": "2021-04-18T01:48:17.363181Z",
     "start_time": "2021-04-18T01:48:17.327543Z"
    }
   },
   "outputs": [
    {
     "data": {
      "text/plain": [
       "0.917910447761194"
      ]
     },
     "execution_count": 17,
     "metadata": {},
     "output_type": "execute_result"
    }
   ],
   "source": [
    "metrics.accuracy_score(y_test, y_pred)"
   ]
  },
  {
   "cell_type": "code",
   "execution_count": 18,
   "id": "5ae28902",
   "metadata": {
    "ExecuteTime": {
     "end_time": "2021-04-18T01:48:17.401493Z",
     "start_time": "2021-04-18T01:48:17.377340Z"
    }
   },
   "outputs": [
    {
     "data": {
      "text/plain": [
       "0.0"
      ]
     },
     "execution_count": 18,
     "metadata": {},
     "output_type": "execute_result"
    }
   ],
   "source": [
    "metrics.precision_score(y_test, y_pred)"
   ]
  },
  {
   "cell_type": "code",
   "execution_count": 19,
   "id": "6dcc5f0e",
   "metadata": {
    "ExecuteTime": {
     "end_time": "2021-04-18T01:48:17.435163Z",
     "start_time": "2021-04-18T01:48:17.409799Z"
    }
   },
   "outputs": [
    {
     "data": {
      "text/plain": [
       "0.0"
      ]
     },
     "execution_count": 19,
     "metadata": {},
     "output_type": "execute_result"
    }
   ],
   "source": [
    "metrics.recall_score(y_test, y_pred)"
   ]
  },
  {
   "cell_type": "code",
   "execution_count": 20,
   "id": "b3a30f54",
   "metadata": {
    "ExecuteTime": {
     "end_time": "2021-04-18T01:48:17.465195Z",
     "start_time": "2021-04-18T01:48:17.440699Z"
    }
   },
   "outputs": [],
   "source": [
    "X = X.reset_index(drop=True)"
   ]
  },
  {
   "cell_type": "code",
   "execution_count": 21,
   "id": "1ca73f8e",
   "metadata": {
    "ExecuteTime": {
     "end_time": "2021-04-18T01:48:17.504761Z",
     "start_time": "2021-04-18T01:48:17.476613Z"
    }
   },
   "outputs": [],
   "source": [
    "non_diabetic = diabetes_data[diabetes_data.diagnosis == 0]\n",
    "diabetic = diabetes_data[diabetes_data.diagnosis == 1]"
   ]
  },
  {
   "cell_type": "code",
   "execution_count": 22,
   "id": "14367a63",
   "metadata": {
    "ExecuteTime": {
     "end_time": "2021-04-18T01:48:17.538217Z",
     "start_time": "2021-04-18T01:48:17.512318Z"
    }
   },
   "outputs": [],
   "source": [
    "from sklearn.utils import resample"
   ]
  },
  {
   "cell_type": "code",
   "execution_count": 23,
   "id": "4659cba7",
   "metadata": {
    "ExecuteTime": {
     "end_time": "2021-04-18T01:48:17.574086Z",
     "start_time": "2021-04-18T01:48:17.546475Z"
    }
   },
   "outputs": [],
   "source": [
    "over_sampled = resample(diabetic,\n",
    "                        replace=True,\n",
    "                        n_samples=len(non_diabetic),\n",
    "                        random_state=27)"
   ]
  },
  {
   "cell_type": "code",
   "execution_count": 24,
   "id": "09d4ed4a",
   "metadata": {
    "ExecuteTime": {
     "end_time": "2021-04-18T01:48:17.622209Z",
     "start_time": "2021-04-18T01:48:17.583636Z"
    }
   },
   "outputs": [],
   "source": [
    "over_sampled = pd.concat([non_diabetic, over_sampled])\n",
    "over_sampled = over_sampled.reset_index(drop=True)"
   ]
  },
  {
   "cell_type": "code",
   "execution_count": 25,
   "id": "44afb4b1",
   "metadata": {
    "ExecuteTime": {
     "end_time": "2021-04-18T01:48:17.672432Z",
     "start_time": "2021-04-18T01:48:17.630334Z"
    }
   },
   "outputs": [
    {
     "data": {
      "text/html": [
       "<div>\n",
       "<style scoped>\n",
       "    .dataframe tbody tr th:only-of-type {\n",
       "        vertical-align: middle;\n",
       "    }\n",
       "\n",
       "    .dataframe tbody tr th {\n",
       "        vertical-align: top;\n",
       "    }\n",
       "\n",
       "    .dataframe thead th {\n",
       "        text-align: right;\n",
       "    }\n",
       "</style>\n",
       "<table border=\"1\" class=\"dataframe\">\n",
       "  <thead>\n",
       "    <tr style=\"text-align: right;\">\n",
       "      <th></th>\n",
       "      <th>Pregnancies</th>\n",
       "      <th>Glucose</th>\n",
       "      <th>BloodPressure</th>\n",
       "      <th>SkinThickness</th>\n",
       "      <th>Insulin</th>\n",
       "      <th>BMI</th>\n",
       "      <th>DiabetesPedigreeFunction</th>\n",
       "      <th>Age</th>\n",
       "      <th>diagnosis</th>\n",
       "    </tr>\n",
       "  </thead>\n",
       "  <tbody>\n",
       "    <tr>\n",
       "      <th>0</th>\n",
       "      <td>10</td>\n",
       "      <td>115</td>\n",
       "      <td>0</td>\n",
       "      <td>0</td>\n",
       "      <td>0</td>\n",
       "      <td>35.3</td>\n",
       "      <td>0.134</td>\n",
       "      <td>29</td>\n",
       "      <td>0</td>\n",
       "    </tr>\n",
       "    <tr>\n",
       "      <th>1</th>\n",
       "      <td>4</td>\n",
       "      <td>110</td>\n",
       "      <td>92</td>\n",
       "      <td>0</td>\n",
       "      <td>0</td>\n",
       "      <td>37.6</td>\n",
       "      <td>0.191</td>\n",
       "      <td>30</td>\n",
       "      <td>0</td>\n",
       "    </tr>\n",
       "    <tr>\n",
       "      <th>2</th>\n",
       "      <td>10</td>\n",
       "      <td>139</td>\n",
       "      <td>80</td>\n",
       "      <td>0</td>\n",
       "      <td>0</td>\n",
       "      <td>27.1</td>\n",
       "      <td>1.441</td>\n",
       "      <td>57</td>\n",
       "      <td>0</td>\n",
       "    </tr>\n",
       "    <tr>\n",
       "      <th>3</th>\n",
       "      <td>1</td>\n",
       "      <td>103</td>\n",
       "      <td>30</td>\n",
       "      <td>38</td>\n",
       "      <td>83</td>\n",
       "      <td>43.3</td>\n",
       "      <td>0.183</td>\n",
       "      <td>33</td>\n",
       "      <td>0</td>\n",
       "    </tr>\n",
       "    <tr>\n",
       "      <th>4</th>\n",
       "      <td>3</td>\n",
       "      <td>126</td>\n",
       "      <td>88</td>\n",
       "      <td>41</td>\n",
       "      <td>235</td>\n",
       "      <td>39.3</td>\n",
       "      <td>0.704</td>\n",
       "      <td>27</td>\n",
       "      <td>0</td>\n",
       "    </tr>\n",
       "  </tbody>\n",
       "</table>\n",
       "</div>"
      ],
      "text/plain": [
       "   Pregnancies  Glucose  BloodPressure  SkinThickness  Insulin   BMI  \\\n",
       "0           10      115              0              0        0  35.3   \n",
       "1            4      110             92              0        0  37.6   \n",
       "2           10      139             80              0        0  27.1   \n",
       "3            1      103             30             38       83  43.3   \n",
       "4            3      126             88             41      235  39.3   \n",
       "\n",
       "   DiabetesPedigreeFunction  Age  diagnosis  \n",
       "0                     0.134   29          0  \n",
       "1                     0.191   30          0  \n",
       "2                     1.441   57          0  \n",
       "3                     0.183   33          0  \n",
       "4                     0.704   27          0  "
      ]
     },
     "execution_count": 25,
     "metadata": {},
     "output_type": "execute_result"
    }
   ],
   "source": [
    "over_sampled.head()"
   ]
  },
  {
   "cell_type": "code",
   "execution_count": 26,
   "id": "5be08943",
   "metadata": {
    "ExecuteTime": {
     "end_time": "2021-04-18T01:48:17.698825Z",
     "start_time": "2021-04-18T01:48:17.682484Z"
    }
   },
   "outputs": [],
   "source": [
    "diagnosis_count = over_sampled.diagnosis.value_counts()"
   ]
  },
  {
   "cell_type": "code",
   "execution_count": 27,
   "id": "c1c8faa4",
   "metadata": {
    "ExecuteTime": {
     "end_time": "2021-04-18T01:48:17.747590Z",
     "start_time": "2021-04-18T01:48:17.705634Z"
    }
   },
   "outputs": [
    {
     "name": "stdout",
     "output_type": "stream",
     "text": [
      "Class 0: 487\n",
      "Class 1: 487\n",
      "Proportion: 1.0 : 1\n"
     ]
    }
   ],
   "source": [
    "print(\"Class 0:\", diagnosis_count[0])\n",
    "print(\"Class 1:\", diagnosis_count[1])\n",
    "print(\"Proportion:\", round(diagnosis_count[0] / diagnosis_count[1], 2), ': 1')"
   ]
  },
  {
   "cell_type": "code",
   "execution_count": 28,
   "id": "1192108e",
   "metadata": {
    "ExecuteTime": {
     "end_time": "2021-04-18T01:48:18.205037Z",
     "start_time": "2021-04-18T01:48:17.759282Z"
    },
    "scrolled": false
   },
   "outputs": [
    {
     "data": {
      "text/plain": [
       "<AxesSubplot:title={'center':'Count (target)'}>"
      ]
     },
     "execution_count": 28,
     "metadata": {},
     "output_type": "execute_result"
    },
    {
     "data": {
      "image/png": "[encoded data removed]",
      "text/plain": [
       "<Figure size 864x720 with 1 Axes>"
      ]
     },
     "metadata": {
      "needs_background": "light"
     },
     "output_type": "display_data"
    }
   ],
   "source": [
    "diagnosis_count.plot(kind=\"bar\", title = \"Count (target)\", figsize=(12, 10))"
   ]
  },
  {
   "cell_type": "code",
   "execution_count": 29,
   "id": "18330f61",
   "metadata": {
    "ExecuteTime": {
     "end_time": "2021-04-18T01:49:11.168733Z",
     "start_time": "2021-04-18T01:49:11.146412Z"
    }
   },
   "outputs": [],
   "source": [
    "y_train = over_sampled.diagnosis\n",
    "X_train = over_sampled.drop(\"diagnosis\", axis =1)"
   ]
  },
  {
   "cell_type": "code",
   "execution_count": 32,
   "id": "86273d45",
   "metadata": {
    "ExecuteTime": {
     "end_time": "2021-04-18T01:50:00.614765Z",
     "start_time": "2021-04-18T01:50:00.603420Z"
    }
   },
   "outputs": [],
   "source": [
    "logm = LogisticRegression(solver = \"liblinear\")"
   ]
  },
  {
   "cell_type": "code",
   "execution_count": 33,
   "id": "af4ab512",
   "metadata": {
    "ExecuteTime": {
     "end_time": "2021-04-18T01:50:01.800409Z",
     "start_time": "2021-04-18T01:50:01.764782Z"
    }
   },
   "outputs": [
    {
     "data": {
      "text/plain": [
       "LogisticRegression(solver='liblinear')"
      ]
     },
     "execution_count": 33,
     "metadata": {},
     "output_type": "execute_result"
    }
   ],
   "source": [
    "logm.fit(X_train, y_train)"
   ]
  },
  {
   "cell_type": "code",
   "execution_count": 34,
   "id": "80dfe689",
   "metadata": {
    "ExecuteTime": {
     "end_time": "2021-04-18T01:50:26.773480Z",
     "start_time": "2021-04-18T01:50:26.749124Z"
    }
   },
   "outputs": [],
   "source": [
    "y_pred = logm.predict(X_test)"
   ]
  },
  {
   "cell_type": "code",
   "execution_count": 35,
   "id": "82060687",
   "metadata": {
    "ExecuteTime": {
     "end_time": "2021-04-18T01:50:41.261782Z",
     "start_time": "2021-04-18T01:50:41.208090Z"
    }
   },
   "outputs": [
    {
     "data": {
      "text/html": [
       "<div>\n",
       "<style scoped>\n",
       "    .dataframe tbody tr th:only-of-type {\n",
       "        vertical-align: middle;\n",
       "    }\n",
       "\n",
       "    .dataframe tbody tr th {\n",
       "        vertical-align: top;\n",
       "    }\n",
       "\n",
       "    .dataframe thead th {\n",
       "        text-align: right;\n",
       "    }\n",
       "</style>\n",
       "<table border=\"1\" class=\"dataframe\">\n",
       "  <thead>\n",
       "    <tr style=\"text-align: right;\">\n",
       "      <th>diagnosis</th>\n",
       "      <th>0</th>\n",
       "      <th>1</th>\n",
       "    </tr>\n",
       "    <tr>\n",
       "      <th>row_0</th>\n",
       "      <th></th>\n",
       "      <th></th>\n",
       "    </tr>\n",
       "  </thead>\n",
       "  <tbody>\n",
       "    <tr>\n",
       "      <th>0</th>\n",
       "      <td>101</td>\n",
       "      <td>1</td>\n",
       "    </tr>\n",
       "    <tr>\n",
       "      <th>1</th>\n",
       "      <td>23</td>\n",
       "      <td>9</td>\n",
       "    </tr>\n",
       "  </tbody>\n",
       "</table>\n",
       "</div>"
      ],
      "text/plain": [
       "diagnosis    0  1\n",
       "row_0            \n",
       "0          101  1\n",
       "1           23  9"
      ]
     },
     "execution_count": 35,
     "metadata": {},
     "output_type": "execute_result"
    }
   ],
   "source": [
    "pd.crosstab(y_pred, y_test)"
   ]
  },
  {
   "cell_type": "code",
   "execution_count": 37,
   "id": "2669f1f1",
   "metadata": {
    "ExecuteTime": {
     "end_time": "2021-04-18T01:51:19.970892Z",
     "start_time": "2021-04-18T01:51:19.954179Z"
    }
   },
   "outputs": [
    {
     "data": {
      "text/plain": [
       "0.8208955223880597"
      ]
     },
     "execution_count": 37,
     "metadata": {},
     "output_type": "execute_result"
    }
   ],
   "source": [
    "metrics.accuracy_score(y_test, y_pred)"
   ]
  },
  {
   "cell_type": "code",
   "execution_count": 38,
   "id": "64b33ba1",
   "metadata": {
    "ExecuteTime": {
     "end_time": "2021-04-18T01:51:40.817728Z",
     "start_time": "2021-04-18T01:51:40.794456Z"
    }
   },
   "outputs": [
    {
     "data": {
      "text/plain": [
       "0.28125"
      ]
     },
     "execution_count": 38,
     "metadata": {},
     "output_type": "execute_result"
    }
   ],
   "source": [
    "metrics.precision_score(y_test, y_pred)"
   ]
  },
  {
   "cell_type": "code",
   "execution_count": 39,
   "id": "d741a216",
   "metadata": {
    "ExecuteTime": {
     "end_time": "2021-04-18T01:51:56.841498Z",
     "start_time": "2021-04-18T01:51:56.814276Z"
    }
   },
   "outputs": [
    {
     "data": {
      "text/plain": [
       "0.9"
      ]
     },
     "execution_count": 39,
     "metadata": {},
     "output_type": "execute_result"
    }
   ],
   "source": [
    "metrics.recall_score(y_test, y_pred)"
   ]
  },
  {
   "cell_type": "code",
   "execution_count": null,
   "id": "1baf494a",
   "metadata": {},
   "outputs": [],
   "source": []
  }
 ],
 "metadata": {
  "kernelspec": {
   "display_name": "Python 3",
   "language": "python",
   "name": "python3"
  },
  "language_info": {
   "codemirror_mode": {
    "name": "ipython",
    "version": 3
   },
   "file_extension": ".py",
   "mimetype": "text/x-python",
   "name": "python",
   "nbconvert_exporter": "python",
   "pygments_lexer": "ipython3",
   "version": "3.8.7"
  }
 },
 "nbformat": 4,
 "nbformat_minor": 5
}
