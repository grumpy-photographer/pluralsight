{
 "cells": [
  {
   "cell_type": "code",
   "execution_count": 1,
   "id": "f1f76ba1",
   "metadata": {
    "ExecuteTime": {
     "end_time": "2021-05-31T23:26:47.434235Z",
     "start_time": "2021-05-31T23:26:45.463805Z"
    }
   },
   "outputs": [],
   "source": [
    "import matplotlib\n",
    "import matplotlib.pyplot as plt\n",
    "import pandas as pd"
   ]
  },
  {
   "cell_type": "code",
   "execution_count": 2,
   "id": "0959ebe7",
   "metadata": {
    "ExecuteTime": {
     "end_time": "2021-05-31T23:26:47.607807Z",
     "start_time": "2021-05-31T23:26:47.442887Z"
    }
   },
   "outputs": [
    {
     "data": {
      "text/html": [
       "<div>\n",
       "<style scoped>\n",
       "    .dataframe tbody tr th:only-of-type {\n",
       "        vertical-align: middle;\n",
       "    }\n",
       "\n",
       "    .dataframe tbody tr th {\n",
       "        vertical-align: top;\n",
       "    }\n",
       "\n",
       "    .dataframe thead th {\n",
       "        text-align: right;\n",
       "    }\n",
       "</style>\n",
       "<table border=\"1\" class=\"dataframe\">\n",
       "  <thead>\n",
       "    <tr style=\"text-align: right;\">\n",
       "      <th></th>\n",
       "      <th>longitude</th>\n",
       "      <th>latitude</th>\n",
       "      <th>housing_median_age</th>\n",
       "      <th>total_rooms</th>\n",
       "      <th>total_bedrooms</th>\n",
       "      <th>population</th>\n",
       "      <th>households</th>\n",
       "      <th>median_income</th>\n",
       "      <th>median_house_value</th>\n",
       "      <th>ocean_proximity</th>\n",
       "    </tr>\n",
       "  </thead>\n",
       "  <tbody>\n",
       "    <tr>\n",
       "      <th>20025</th>\n",
       "      <td>-119.05</td>\n",
       "      <td>36.07</td>\n",
       "      <td>21.0</td>\n",
       "      <td>2472.0</td>\n",
       "      <td>523.0</td>\n",
       "      <td>1238.0</td>\n",
       "      <td>504.0</td>\n",
       "      <td>1.7756</td>\n",
       "      <td>62900.0</td>\n",
       "      <td>INLAND</td>\n",
       "    </tr>\n",
       "    <tr>\n",
       "      <th>7369</th>\n",
       "      <td>-118.21</td>\n",
       "      <td>33.97</td>\n",
       "      <td>52.0</td>\n",
       "      <td>4220.0</td>\n",
       "      <td>908.0</td>\n",
       "      <td>3731.0</td>\n",
       "      <td>892.0</td>\n",
       "      <td>3.1901</td>\n",
       "      <td>167600.0</td>\n",
       "      <td>&lt;1H OCEAN</td>\n",
       "    </tr>\n",
       "    <tr>\n",
       "      <th>20029</th>\n",
       "      <td>-119.03</td>\n",
       "      <td>36.08</td>\n",
       "      <td>19.0</td>\n",
       "      <td>2736.0</td>\n",
       "      <td>549.0</td>\n",
       "      <td>1432.0</td>\n",
       "      <td>503.0</td>\n",
       "      <td>2.6944</td>\n",
       "      <td>67700.0</td>\n",
       "      <td>INLAND</td>\n",
       "    </tr>\n",
       "    <tr>\n",
       "      <th>8181</th>\n",
       "      <td>-118.10</td>\n",
       "      <td>33.81</td>\n",
       "      <td>36.0</td>\n",
       "      <td>1962.0</td>\n",
       "      <td>325.0</td>\n",
       "      <td>786.0</td>\n",
       "      <td>315.0</td>\n",
       "      <td>5.6200</td>\n",
       "      <td>239600.0</td>\n",
       "      <td>&lt;1H OCEAN</td>\n",
       "    </tr>\n",
       "    <tr>\n",
       "      <th>1903</th>\n",
       "      <td>-119.92</td>\n",
       "      <td>38.91</td>\n",
       "      <td>15.0</td>\n",
       "      <td>3831.0</td>\n",
       "      <td>625.0</td>\n",
       "      <td>984.0</td>\n",
       "      <td>328.0</td>\n",
       "      <td>5.0718</td>\n",
       "      <td>162500.0</td>\n",
       "      <td>INLAND</td>\n",
       "    </tr>\n",
       "    <tr>\n",
       "      <th>15707</th>\n",
       "      <td>-122.43</td>\n",
       "      <td>37.79</td>\n",
       "      <td>50.0</td>\n",
       "      <td>3312.0</td>\n",
       "      <td>1095.0</td>\n",
       "      <td>1475.0</td>\n",
       "      <td>997.0</td>\n",
       "      <td>2.7165</td>\n",
       "      <td>500001.0</td>\n",
       "      <td>NEAR BAY</td>\n",
       "    </tr>\n",
       "    <tr>\n",
       "      <th>17392</th>\n",
       "      <td>-120.45</td>\n",
       "      <td>34.96</td>\n",
       "      <td>21.0</td>\n",
       "      <td>2121.0</td>\n",
       "      <td>445.0</td>\n",
       "      <td>2211.0</td>\n",
       "      <td>463.0</td>\n",
       "      <td>4.0603</td>\n",
       "      <td>117600.0</td>\n",
       "      <td>&lt;1H OCEAN</td>\n",
       "    </tr>\n",
       "    <tr>\n",
       "      <th>18921</th>\n",
       "      <td>-122.18</td>\n",
       "      <td>38.07</td>\n",
       "      <td>10.0</td>\n",
       "      <td>4976.0</td>\n",
       "      <td>849.0</td>\n",
       "      <td>2089.0</td>\n",
       "      <td>803.0</td>\n",
       "      <td>5.3288</td>\n",
       "      <td>201800.0</td>\n",
       "      <td>NEAR BAY</td>\n",
       "    </tr>\n",
       "    <tr>\n",
       "      <th>13337</th>\n",
       "      <td>-117.68</td>\n",
       "      <td>34.04</td>\n",
       "      <td>27.0</td>\n",
       "      <td>574.0</td>\n",
       "      <td>103.0</td>\n",
       "      <td>321.0</td>\n",
       "      <td>103.0</td>\n",
       "      <td>3.9107</td>\n",
       "      <td>186500.0</td>\n",
       "      <td>INLAND</td>\n",
       "    </tr>\n",
       "    <tr>\n",
       "      <th>4790</th>\n",
       "      <td>-118.33</td>\n",
       "      <td>34.02</td>\n",
       "      <td>45.0</td>\n",
       "      <td>1667.0</td>\n",
       "      <td>399.0</td>\n",
       "      <td>928.0</td>\n",
       "      <td>375.0</td>\n",
       "      <td>1.8783</td>\n",
       "      <td>118200.0</td>\n",
       "      <td>&lt;1H OCEAN</td>\n",
       "    </tr>\n",
       "  </tbody>\n",
       "</table>\n",
       "</div>"
      ],
      "text/plain": [
       "       longitude  latitude  housing_median_age  total_rooms  total_bedrooms  \\\n",
       "20025    -119.05     36.07                21.0       2472.0           523.0   \n",
       "7369     -118.21     33.97                52.0       4220.0           908.0   \n",
       "20029    -119.03     36.08                19.0       2736.0           549.0   \n",
       "8181     -118.10     33.81                36.0       1962.0           325.0   \n",
       "1903     -119.92     38.91                15.0       3831.0           625.0   \n",
       "15707    -122.43     37.79                50.0       3312.0          1095.0   \n",
       "17392    -120.45     34.96                21.0       2121.0           445.0   \n",
       "18921    -122.18     38.07                10.0       4976.0           849.0   \n",
       "13337    -117.68     34.04                27.0        574.0           103.0   \n",
       "4790     -118.33     34.02                45.0       1667.0           399.0   \n",
       "\n",
       "       population  households  median_income  median_house_value  \\\n",
       "20025      1238.0       504.0         1.7756             62900.0   \n",
       "7369       3731.0       892.0         3.1901            167600.0   \n",
       "20029      1432.0       503.0         2.6944             67700.0   \n",
       "8181        786.0       315.0         5.6200            239600.0   \n",
       "1903        984.0       328.0         5.0718            162500.0   \n",
       "15707      1475.0       997.0         2.7165            500001.0   \n",
       "17392      2211.0       463.0         4.0603            117600.0   \n",
       "18921      2089.0       803.0         5.3288            201800.0   \n",
       "13337       321.0       103.0         3.9107            186500.0   \n",
       "4790        928.0       375.0         1.8783            118200.0   \n",
       "\n",
       "      ocean_proximity  \n",
       "20025          INLAND  \n",
       "7369        <1H OCEAN  \n",
       "20029          INLAND  \n",
       "8181        <1H OCEAN  \n",
       "1903           INLAND  \n",
       "15707        NEAR BAY  \n",
       "17392       <1H OCEAN  \n",
       "18921        NEAR BAY  \n",
       "13337          INLAND  \n",
       "4790        <1H OCEAN  "
      ]
     },
     "execution_count": 2,
     "metadata": {},
     "output_type": "execute_result"
    }
   ],
   "source": [
    "housing_data = pd.read_csv(\"data/housing.csv\")\n",
    "housing_data.dropna(axis=0, inplace=True)\n",
    "\n",
    "housing_data.sample(10)"
   ]
  },
  {
   "cell_type": "code",
   "execution_count": 3,
   "id": "472f4e7d",
   "metadata": {
    "ExecuteTime": {
     "end_time": "2021-05-31T23:26:47.639018Z",
     "start_time": "2021-05-31T23:26:47.615694Z"
    }
   },
   "outputs": [
    {
     "data": {
      "text/html": [
       "<div>\n",
       "<style scoped>\n",
       "    .dataframe tbody tr th:only-of-type {\n",
       "        vertical-align: middle;\n",
       "    }\n",
       "\n",
       "    .dataframe tbody tr th {\n",
       "        vertical-align: top;\n",
       "    }\n",
       "\n",
       "    .dataframe thead th {\n",
       "        text-align: right;\n",
       "    }\n",
       "</style>\n",
       "<table border=\"1\" class=\"dataframe\">\n",
       "  <thead>\n",
       "    <tr style=\"text-align: right;\">\n",
       "      <th></th>\n",
       "      <th>ocean_proximity</th>\n",
       "      <th>households</th>\n",
       "    </tr>\n",
       "  </thead>\n",
       "  <tbody>\n",
       "    <tr>\n",
       "      <th>8201</th>\n",
       "      <td>NEAR OCEAN</td>\n",
       "      <td>500.0</td>\n",
       "    </tr>\n",
       "    <tr>\n",
       "      <th>4410</th>\n",
       "      <td>&lt;1H OCEAN</td>\n",
       "      <td>418.0</td>\n",
       "    </tr>\n",
       "    <tr>\n",
       "      <th>5141</th>\n",
       "      <td>&lt;1H OCEAN</td>\n",
       "      <td>292.0</td>\n",
       "    </tr>\n",
       "    <tr>\n",
       "      <th>17374</th>\n",
       "      <td>&lt;1H OCEAN</td>\n",
       "      <td>408.0</td>\n",
       "    </tr>\n",
       "    <tr>\n",
       "      <th>10520</th>\n",
       "      <td>&lt;1H OCEAN</td>\n",
       "      <td>224.0</td>\n",
       "    </tr>\n",
       "  </tbody>\n",
       "</table>\n",
       "</div>"
      ],
      "text/plain": [
       "      ocean_proximity  households\n",
       "8201       NEAR OCEAN       500.0\n",
       "4410        <1H OCEAN       418.0\n",
       "5141        <1H OCEAN       292.0\n",
       "17374       <1H OCEAN       408.0\n",
       "10520       <1H OCEAN       224.0"
      ]
     },
     "execution_count": 3,
     "metadata": {},
     "output_type": "execute_result"
    }
   ],
   "source": [
    "households_data = housing_data[[\"ocean_proximity\", \"households\"]]\n",
    "households_data.sample(5)"
   ]
  },
  {
   "cell_type": "code",
   "execution_count": 4,
   "id": "5c79209a",
   "metadata": {
    "ExecuteTime": {
     "end_time": "2021-05-31T23:26:47.706948Z",
     "start_time": "2021-05-31T23:26:47.643268Z"
    }
   },
   "outputs": [
    {
     "data": {
      "text/html": [
       "<div>\n",
       "<style scoped>\n",
       "    .dataframe tbody tr th:only-of-type {\n",
       "        vertical-align: middle;\n",
       "    }\n",
       "\n",
       "    .dataframe tbody tr th {\n",
       "        vertical-align: top;\n",
       "    }\n",
       "\n",
       "    .dataframe thead th {\n",
       "        text-align: right;\n",
       "    }\n",
       "</style>\n",
       "<table border=\"1\" class=\"dataframe\">\n",
       "  <thead>\n",
       "    <tr style=\"text-align: right;\">\n",
       "      <th></th>\n",
       "      <th>ocean_proximity</th>\n",
       "      <th>households</th>\n",
       "    </tr>\n",
       "  </thead>\n",
       "  <tbody>\n",
       "    <tr>\n",
       "      <th>0</th>\n",
       "      <td>&lt;1H OCEAN</td>\n",
       "      <td>4674364.0</td>\n",
       "    </tr>\n",
       "    <tr>\n",
       "      <th>1</th>\n",
       "      <td>INLAND</td>\n",
       "      <td>3105133.0</td>\n",
       "    </tr>\n",
       "    <tr>\n",
       "      <th>2</th>\n",
       "      <td>ISLAND</td>\n",
       "      <td>1383.0</td>\n",
       "    </tr>\n",
       "    <tr>\n",
       "      <th>3</th>\n",
       "      <td>NEAR BAY</td>\n",
       "      <td>1106026.0</td>\n",
       "    </tr>\n",
       "    <tr>\n",
       "      <th>4</th>\n",
       "      <td>NEAR OCEAN</td>\n",
       "      <td>1318018.0</td>\n",
       "    </tr>\n",
       "  </tbody>\n",
       "</table>\n",
       "</div>"
      ],
      "text/plain": [
       "  ocean_proximity  households\n",
       "0       <1H OCEAN   4674364.0\n",
       "1          INLAND   3105133.0\n",
       "2          ISLAND      1383.0\n",
       "3        NEAR BAY   1106026.0\n",
       "4      NEAR OCEAN   1318018.0"
      ]
     },
     "execution_count": 4,
     "metadata": {},
     "output_type": "execute_result"
    }
   ],
   "source": [
    "grouped_data = households_data.groupby(\"ocean_proximity\", as_index=False).sum()\n",
    "grouped_data.head()"
   ]
  },
  {
   "cell_type": "code",
   "execution_count": 5,
   "id": "037d2778",
   "metadata": {
    "ExecuteTime": {
     "end_time": "2021-05-31T23:26:47.738803Z",
     "start_time": "2021-05-31T23:26:47.712958Z"
    }
   },
   "outputs": [
    {
     "data": {
      "text/plain": [
       "Index(['ocean_proximity', 'households'], dtype='object')"
      ]
     },
     "execution_count": 5,
     "metadata": {},
     "output_type": "execute_result"
    }
   ],
   "source": [
    "grouped_data.columns"
   ]
  },
  {
   "cell_type": "code",
   "execution_count": 6,
   "id": "5ca880e7",
   "metadata": {
    "ExecuteTime": {
     "end_time": "2021-05-31T23:26:47.991258Z",
     "start_time": "2021-05-31T23:26:47.744228Z"
    },
    "scrolled": true
   },
   "outputs": [
    {
     "data": {
      "image/png": "[encoded data removed]",
      "text/plain": [
       "<Figure size 432x288 with 1 Axes>"
      ]
     },
     "metadata": {},
     "output_type": "display_data"
    }
   ],
   "source": [
    "plt.pie(\n",
    "    grouped_data[\"households\"], labels=grouped_data[\"ocean_proximity\"], autopct=\"%.1f\"\n",
    ")\n",
    "\n",
    "plt.title(\"Households by Location\")\n",
    "plt.show()"
   ]
  },
  {
   "cell_type": "code",
   "execution_count": 7,
   "id": "7019ce88",
   "metadata": {
    "ExecuteTime": {
     "end_time": "2021-05-31T23:26:48.007937Z",
     "start_time": "2021-05-31T23:26:48.001117Z"
    }
   },
   "outputs": [],
   "source": [
    "COLORS = [\"lightblue\", \"limegreen\", \"orange\", \"gold\", \"peachpuff\"]"
   ]
  },
  {
   "cell_type": "code",
   "execution_count": 8,
   "id": "c0d64dd9",
   "metadata": {
    "ExecuteTime": {
     "end_time": "2021-05-31T23:26:48.208061Z",
     "start_time": "2021-05-31T23:26:48.014707Z"
    },
    "scrolled": false
   },
   "outputs": [
    {
     "data": {
      "image/png": "[encoded data removed]",
      "text/plain": [
       "<Figure size 432x288 with 1 Axes>"
      ]
     },
     "metadata": {},
     "output_type": "display_data"
    }
   ],
   "source": [
    "plt.pie(\n",
    "    grouped_data[\"households\"],\n",
    "    labels=grouped_data[\"ocean_proximity\"],\n",
    "    autopct=\"%.1f\",\n",
    "    colors=COLORS,\n",
    ")\n",
    "\n",
    "plt.title(\"Households by Location\")\n",
    "plt.axis(\"equal\")\n",
    "plt.show()"
   ]
  },
  {
   "cell_type": "code",
   "execution_count": 9,
   "id": "af7289c3",
   "metadata": {
    "ExecuteTime": {
     "end_time": "2021-05-31T23:26:48.569283Z",
     "start_time": "2021-05-31T23:26:48.214404Z"
    }
   },
   "outputs": [
    {
     "data": {
      "image/png": "[encoded data removed]",
      "text/plain": [
       "<Figure size 576x576 with 1 Axes>"
      ]
     },
     "metadata": {},
     "output_type": "display_data"
    }
   ],
   "source": [
    "fig, ax = plt.subplots(figsize=(8, 8))\n",
    "\n",
    "plt.pie(\n",
    "    grouped_data[\"households\"],\n",
    "    labels=grouped_data[\"ocean_proximity\"],\n",
    "    autopct=\"%.1f\",\n",
    "    colors=COLORS,\n",
    ")\n",
    "\n",
    "plt.title(\"Households by Location\", loc=\"left\")\n",
    "plt.axis(\"equal\")\n",
    "plt.show()"
   ]
  },
  {
   "cell_type": "code",
   "execution_count": 10,
   "id": "413117b8",
   "metadata": {
    "ExecuteTime": {
     "end_time": "2021-05-31T23:26:48.597891Z",
     "start_time": "2021-05-31T23:26:48.581472Z"
    }
   },
   "outputs": [],
   "source": [
    "explode = (0, 0, 0, 0, 0.2)"
   ]
  },
  {
   "cell_type": "code",
   "execution_count": 11,
   "id": "121ffac4",
   "metadata": {
    "ExecuteTime": {
     "end_time": "2021-05-31T23:26:49.103667Z",
     "start_time": "2021-05-31T23:26:48.611298Z"
    },
    "scrolled": false
   },
   "outputs": [
    {
     "data": {
      "image/png": "[encoded data removed]",
      "text/plain": [
       "<Figure size 576x576 with 1 Axes>"
      ]
     },
     "metadata": {},
     "output_type": "display_data"
    }
   ],
   "source": [
    "fig, ax = plt.subplots(figsize=(8, 8))\n",
    "\n",
    "wedges, texts, autotexts = plt.pie(\n",
    "    grouped_data[\"households\"],\n",
    "    labels=grouped_data[\"ocean_proximity\"],\n",
    "    autopct=\"%.1f\",\n",
    "    colors=COLORS,\n",
    "    explode=explode,\n",
    ")\n",
    "\n",
    "wedges[4].set(edgecolor=\"blue\", linewidth=2)\n",
    "plt.show()"
   ]
  },
  {
   "cell_type": "code",
   "execution_count": null,
   "id": "208a0231",
   "metadata": {},
   "outputs": [],
   "source": []
  }
 ],
 "metadata": {
  "kernelspec": {
   "display_name": "Python 3",
   "language": "python",
   "name": "python3"
  },
  "language_info": {
   "codemirror_mode": {
    "name": "ipython",
    "version": 3
   },
   "file_extension": ".py",
   "mimetype": "text/x-python",
   "name": "python",
   "nbconvert_exporter": "python",
   "pygments_lexer": "ipython3",
   "version": "3.9.4"
  },
  "toc": {
   "base_numbering": 1,
   "nav_menu": {},
   "number_sections": true,
   "sideBar": true,
   "skip_h1_title": false,
   "title_cell": "Table of Contents",
   "title_sidebar": "Contents",
   "toc_cell": false,
   "toc_position": {},
   "toc_section_display": true,
   "toc_window_display": false
  }
 },
 "nbformat": 4,
 "nbformat_minor": 5
}
