{
 "cells": [
  {
   "cell_type": "code",
   "execution_count": 1,
   "source": [
    "import pandas as pd\n",
    "import plotly.graph_objects as go\n",
    "import plotly.offline as offline\n",
    "\n",
    "offline.init_notebook_mode(connected=True)"
   ],
   "outputs": [
    {
     "output_type": "display_data",
     "data": {
      "text/html": [
       "        <script type=\"text/javascript\">\n",
       "        window.PlotlyConfig = {MathJaxConfig: 'local'};\n",
       "        if (window.MathJax) {MathJax.Hub.Config({SVG: {font: \"STIX-Web\"}});}\n",
       "        if (typeof require !== 'undefined') {\n",
       "        require.undef(\"plotly\");\n",
       "        requirejs.config({\n",
       "            paths: {\n",
       "                'plotly': ['https://cdn.plot.ly/plotly-latest.min']\n",
       "            }\n",
       "        });\n",
       "        require(['plotly'], function(Plotly) {\n",
       "            window._Plotly = Plotly;\n",
       "        });\n",
       "        }\n",
       "        </script>\n",
       "        "
      ]
     },
     "metadata": {}
    }
   ],
   "metadata": {}
  },
  {
   "cell_type": "code",
   "execution_count": 2,
   "source": [
    "career_path = [\n",
    "    \"PhD\",\n",
    "    \"Early Career Researcher\",\n",
    "    \"Research Staff\",\n",
    "    \"Career Outside Science\",\n",
    "    \"Permanent Research Staff\",\n",
    "    \"Professor\",\n",
    "    \"Non-Academic Research\",\n",
    "]"
   ],
   "outputs": [],
   "metadata": {}
  },
  {
   "cell_type": "code",
   "execution_count": 3,
   "source": [
    "data_trace = go.Sankey(\n",
    "    node=dict(label=career_path),\n",
    "    link=dict(\n",
    "        source=[0, 0, 1, 1, 2, 2, 2, 2],\n",
    "        target=[3, 1, 2, 6, 3, 4, 5, 6],\n",
    "        value=[53, 47, 30, 17, 20, 6.5, 3.5, 10],\n",
    "    ),\n",
    ")"
   ],
   "outputs": [],
   "metadata": {}
  },
  {
   "cell_type": "code",
   "execution_count": 4,
   "source": [
    "layout = dict(title=\"Sanky Diagram for Career Path after PhD\")"
   ],
   "outputs": [],
   "metadata": {}
  },
  {
   "cell_type": "code",
   "execution_count": 5,
   "source": [
    "fig = dict(data=[data_trace], layout=layout)\n",
    "\n",
    "offline.iplot(fig)"
   ],
   "outputs": [],
   "metadata": {}
  },
  {
   "cell_type": "code",
   "execution_count": null,
   "source": [],
   "outputs": [],
   "metadata": {}
  }
 ],
 "metadata": {
  "orig_nbformat": 4,
  "language_info": {
   "name": "python"
  }
 },
 "nbformat": 4,
 "nbformat_minor": 2
}