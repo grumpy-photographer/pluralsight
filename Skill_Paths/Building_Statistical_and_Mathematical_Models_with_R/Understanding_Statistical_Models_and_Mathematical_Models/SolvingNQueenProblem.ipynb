{
 "cells": [
  {
   "cell_type": "code",
   "execution_count": 1,
   "metadata": {},
   "outputs": [],
   "source": [
    "library(NMOF)"
   ]
  },
  {
   "cell_type": "code",
   "execution_count": 2,
   "metadata": {},
   "outputs": [],
   "source": [
    "board_size <- 8"
   ]
  },
  {
   "cell_type": "code",
   "execution_count": 3,
   "metadata": {},
   "outputs": [
    {
     "data": {
      "text/html": [
       "<style>\n",
       ".list-inline {list-style: none; margin:0; padding: 0}\n",
       ".list-inline>li {display: inline-block}\n",
       ".list-inline>li:not(:last-child)::after {content: \"\\00b7\"; padding: 0 .5ex}\n",
       "</style>\n",
       "<ol class=list-inline><li>7</li><li>8</li><li>3</li><li>1</li><li>6</li><li>4</li><li>2</li><li>5</li></ol>\n"
      ],
      "text/latex": [
       "\\begin{enumerate*}\n",
       "\\item 7\n",
       "\\item 8\n",
       "\\item 3\n",
       "\\item 1\n",
       "\\item 6\n",
       "\\item 4\n",
       "\\item 2\n",
       "\\item 5\n",
       "\\end{enumerate*}\n"
      ],
      "text/markdown": [
       "1. 7\n",
       "2. 8\n",
       "3. 3\n",
       "4. 1\n",
       "5. 6\n",
       "6. 4\n",
       "7. 2\n",
       "8. 5\n",
       "\n",
       "\n"
      ],
      "text/plain": [
       "[1] 7 8 3 1 6 4 2 5"
      ]
     },
     "metadata": {},
     "output_type": "display_data"
    }
   ],
   "source": [
    "pos <- sample.int(board_size)\n",
    "pos"
   ]
  },
  {
   "cell_type": "code",
   "execution_count": 4,
   "metadata": {},
   "outputs": [
    {
     "data": {
      "text/html": [
       "<table class=\"dataframe\">\n",
       "<caption>A data.frame: 8 × 2</caption>\n",
       "<thead>\n",
       "\t<tr><th scope=col>row</th><th scope=col>column</th></tr>\n",
       "\t<tr><th scope=col>&lt;int&gt;</th><th scope=col>&lt;int&gt;</th></tr>\n",
       "</thead>\n",
       "<tbody>\n",
       "\t<tr><td>1</td><td>7</td></tr>\n",
       "\t<tr><td>2</td><td>8</td></tr>\n",
       "\t<tr><td>3</td><td>3</td></tr>\n",
       "\t<tr><td>4</td><td>1</td></tr>\n",
       "\t<tr><td>5</td><td>6</td></tr>\n",
       "\t<tr><td>6</td><td>4</td></tr>\n",
       "\t<tr><td>7</td><td>2</td></tr>\n",
       "\t<tr><td>8</td><td>5</td></tr>\n",
       "</tbody>\n",
       "</table>\n"
      ],
      "text/latex": [
       "A data.frame: 8 × 2\n",
       "\\begin{tabular}{ll}\n",
       " row & column\\\\\n",
       " <int> & <int>\\\\\n",
       "\\hline\n",
       "\t 1 & 7\\\\\n",
       "\t 2 & 8\\\\\n",
       "\t 3 & 3\\\\\n",
       "\t 4 & 1\\\\\n",
       "\t 5 & 6\\\\\n",
       "\t 6 & 4\\\\\n",
       "\t 7 & 2\\\\\n",
       "\t 8 & 5\\\\\n",
       "\\end{tabular}\n"
      ],
      "text/markdown": [
       "\n",
       "A data.frame: 8 × 2\n",
       "\n",
       "| row &lt;int&gt; | column &lt;int&gt; |\n",
       "|---|---|\n",
       "| 1 | 7 |\n",
       "| 2 | 8 |\n",
       "| 3 | 3 |\n",
       "| 4 | 1 |\n",
       "| 5 | 6 |\n",
       "| 6 | 4 |\n",
       "| 7 | 2 |\n",
       "| 8 | 5 |\n",
       "\n"
      ],
      "text/plain": [
       "  row column\n",
       "1 1   7     \n",
       "2 2   8     \n",
       "3 3   3     \n",
       "4 4   1     \n",
       "5 5   6     \n",
       "6 6   4     \n",
       "7 7   2     \n",
       "8 8   5     "
      ]
     },
     "metadata": {},
     "output_type": "display_data"
    }
   ],
   "source": [
    "data.frame(row =1:board_size, column = pos)"
   ]
  },
  {
   "cell_type": "code",
   "execution_count": 5,
   "metadata": {},
   "outputs": [],
   "source": [
    "print_board <- function(position, q.char=\"1\", sep=\" \") {\n",
    "    n <- length(position)\n",
    "    row <- rep(\"*\", n)\n",
    "\n",
    "    for (i in seq_len(n)) {\n",
    "        row_i <- row\n",
    "        row_i[position[i]] <- q.char\n",
    "\n",
    "        cat(paste(row_i, collapse = sep))\n",
    "        cat(\"\\n\")\n",
    "    }\n",
    "}"
   ]
  },
  {
   "cell_type": "code",
   "execution_count": 6,
   "metadata": {},
   "outputs": [
    {
     "name": "stdout",
     "output_type": "stream",
     "text": [
      "* * * * * * 1 *\n",
      "* * * * * * * 1\n",
      "* * 1 * * * * *\n",
      "1 * * * * * * *\n",
      "* * * * * 1 * *\n",
      "* * * 1 * * * *\n",
      "* 1 * * * * * *\n",
      "* * * * 1 * * *\n"
     ]
    }
   ],
   "source": [
    "print_board(pos)"
   ]
  },
  {
   "cell_type": "code",
   "execution_count": 7,
   "metadata": {},
   "outputs": [
    {
     "data": {
      "text/html": [
       "<table class=\"dataframe\">\n",
       "<caption>A matrix: 8 × 8 of type lgl</caption>\n",
       "<tbody>\n",
       "\t<tr><td>NA</td><td>NA</td><td>NA</td><td>NA</td><td>NA</td><td>NA</td><td>NA</td><td>NA</td></tr>\n",
       "\t<tr><td>NA</td><td>NA</td><td>NA</td><td>NA</td><td>NA</td><td>NA</td><td>NA</td><td>NA</td></tr>\n",
       "\t<tr><td>NA</td><td>NA</td><td>NA</td><td>NA</td><td>NA</td><td>NA</td><td>NA</td><td>NA</td></tr>\n",
       "\t<tr><td>NA</td><td>NA</td><td>NA</td><td>NA</td><td>NA</td><td>NA</td><td>NA</td><td>NA</td></tr>\n",
       "\t<tr><td>NA</td><td>NA</td><td>NA</td><td>NA</td><td>NA</td><td>NA</td><td>NA</td><td>NA</td></tr>\n",
       "\t<tr><td>NA</td><td>NA</td><td>NA</td><td>NA</td><td>NA</td><td>NA</td><td>NA</td><td>NA</td></tr>\n",
       "\t<tr><td>NA</td><td>NA</td><td>NA</td><td>NA</td><td>NA</td><td>NA</td><td>NA</td><td>NA</td></tr>\n",
       "\t<tr><td>NA</td><td>NA</td><td>NA</td><td>NA</td><td>NA</td><td>NA</td><td>NA</td><td>NA</td></tr>\n",
       "</tbody>\n",
       "</table>\n"
      ],
      "text/latex": [
       "A matrix: 8 × 8 of type lgl\n",
       "\\begin{tabular}{llllllll}\n",
       "\t NA & NA & NA & NA & NA & NA & NA & NA\\\\\n",
       "\t NA & NA & NA & NA & NA & NA & NA & NA\\\\\n",
       "\t NA & NA & NA & NA & NA & NA & NA & NA\\\\\n",
       "\t NA & NA & NA & NA & NA & NA & NA & NA\\\\\n",
       "\t NA & NA & NA & NA & NA & NA & NA & NA\\\\\n",
       "\t NA & NA & NA & NA & NA & NA & NA & NA\\\\\n",
       "\t NA & NA & NA & NA & NA & NA & NA & NA\\\\\n",
       "\t NA & NA & NA & NA & NA & NA & NA & NA\\\\\n",
       "\\end{tabular}\n"
      ],
      "text/markdown": [
       "\n",
       "A matrix: 8 × 8 of type lgl\n",
       "\n",
       "| NA | NA | NA | NA | NA | NA | NA | NA |\n",
       "| NA | NA | NA | NA | NA | NA | NA | NA |\n",
       "| NA | NA | NA | NA | NA | NA | NA | NA |\n",
       "| NA | NA | NA | NA | NA | NA | NA | NA |\n",
       "| NA | NA | NA | NA | NA | NA | NA | NA |\n",
       "| NA | NA | NA | NA | NA | NA | NA | NA |\n",
       "| NA | NA | NA | NA | NA | NA | NA | NA |\n",
       "| NA | NA | NA | NA | NA | NA | NA | NA |\n",
       "\n"
      ],
      "text/plain": [
       "     [,1] [,2] [,3] [,4] [,5] [,6] [,7] [,8]\n",
       "[1,] NA   NA   NA   NA   NA   NA   NA   NA  \n",
       "[2,] NA   NA   NA   NA   NA   NA   NA   NA  \n",
       "[3,] NA   NA   NA   NA   NA   NA   NA   NA  \n",
       "[4,] NA   NA   NA   NA   NA   NA   NA   NA  \n",
       "[5,] NA   NA   NA   NA   NA   NA   NA   NA  \n",
       "[6,] NA   NA   NA   NA   NA   NA   NA   NA  \n",
       "[7,] NA   NA   NA   NA   NA   NA   NA   NA  \n",
       "[8,] NA   NA   NA   NA   NA   NA   NA   NA  "
      ]
     },
     "metadata": {},
     "output_type": "display_data"
    }
   ],
   "source": [
    "board <- array(NA, dim=c(board_size, board_size))\n",
    "\n",
    "board"
   ]
  },
  {
   "cell_type": "code",
   "execution_count": 8,
   "metadata": {},
   "outputs": [
    {
     "data": {
      "text/html": [
       "<table class=\"dataframe\">\n",
       "<caption>A matrix: 8 × 8 of type int</caption>\n",
       "<tbody>\n",
       "\t<tr><td> 0</td><td> 1</td><td> 2</td><td> 3</td><td> 4</td><td> 5</td><td> 6</td><td>7</td></tr>\n",
       "\t<tr><td>-1</td><td> 0</td><td> 1</td><td> 2</td><td> 3</td><td> 4</td><td> 5</td><td>6</td></tr>\n",
       "\t<tr><td>-2</td><td>-1</td><td> 0</td><td> 1</td><td> 2</td><td> 3</td><td> 4</td><td>5</td></tr>\n",
       "\t<tr><td>-3</td><td>-2</td><td>-1</td><td> 0</td><td> 1</td><td> 2</td><td> 3</td><td>4</td></tr>\n",
       "\t<tr><td>-4</td><td>-3</td><td>-2</td><td>-1</td><td> 0</td><td> 1</td><td> 2</td><td>3</td></tr>\n",
       "\t<tr><td>-5</td><td>-4</td><td>-3</td><td>-2</td><td>-1</td><td> 0</td><td> 1</td><td>2</td></tr>\n",
       "\t<tr><td>-6</td><td>-5</td><td>-4</td><td>-3</td><td>-2</td><td>-1</td><td> 0</td><td>1</td></tr>\n",
       "\t<tr><td>-7</td><td>-6</td><td>-5</td><td>-4</td><td>-3</td><td>-2</td><td>-1</td><td>0</td></tr>\n",
       "</tbody>\n",
       "</table>\n"
      ],
      "text/latex": [
       "A matrix: 8 × 8 of type int\n",
       "\\begin{tabular}{llllllll}\n",
       "\t  0 &  1 &  2 &  3 &  4 &  5 &  6 & 7\\\\\n",
       "\t -1 &  0 &  1 &  2 &  3 &  4 &  5 & 6\\\\\n",
       "\t -2 & -1 &  0 &  1 &  2 &  3 &  4 & 5\\\\\n",
       "\t -3 & -2 & -1 &  0 &  1 &  2 &  3 & 4\\\\\n",
       "\t -4 & -3 & -2 & -1 &  0 &  1 &  2 & 3\\\\\n",
       "\t -5 & -4 & -3 & -2 & -1 &  0 &  1 & 2\\\\\n",
       "\t -6 & -5 & -4 & -3 & -2 & -1 &  0 & 1\\\\\n",
       "\t -7 & -6 & -5 & -4 & -3 & -2 & -1 & 0\\\\\n",
       "\\end{tabular}\n"
      ],
      "text/markdown": [
       "\n",
       "A matrix: 8 × 8 of type int\n",
       "\n",
       "|  0 |  1 |  2 |  3 |  4 |  5 |  6 | 7 |\n",
       "| -1 |  0 |  1 |  2 |  3 |  4 |  5 | 6 |\n",
       "| -2 | -1 |  0 |  1 |  2 |  3 |  4 | 5 |\n",
       "| -3 | -2 | -1 |  0 |  1 |  2 |  3 | 4 |\n",
       "| -4 | -3 | -2 | -1 |  0 |  1 |  2 | 3 |\n",
       "| -5 | -4 | -3 | -2 | -1 |  0 |  1 | 2 |\n",
       "| -6 | -5 | -4 | -3 | -2 | -1 |  0 | 1 |\n",
       "| -7 | -6 | -5 | -4 | -3 | -2 | -1 | 0 |\n",
       "\n"
      ],
      "text/plain": [
       "     [,1] [,2] [,3] [,4] [,5] [,6] [,7] [,8]\n",
       "[1,]  0    1    2    3    4    5    6   7   \n",
       "[2,] -1    0    1    2    3    4    5   6   \n",
       "[3,] -2   -1    0    1    2    3    4   5   \n",
       "[4,] -3   -2   -1    0    1    2    3   4   \n",
       "[5,] -4   -3   -2   -1    0    1    2   3   \n",
       "[6,] -5   -4   -3   -2   -1    0    1   2   \n",
       "[7,] -6   -5   -4   -3   -2   -1    0   1   \n",
       "[8,] -7   -6   -5   -4   -3   -2   -1   0   "
      ]
     },
     "metadata": {},
     "output_type": "display_data"
    }
   ],
   "source": [
    "for (row in 1:board_size)\n",
    "    for (col in 1:board_size)\n",
    "        board[row, col] <- col - row\n",
    "\n",
    "board"
   ]
  },
  {
   "cell_type": "code",
   "execution_count": 9,
   "metadata": {},
   "outputs": [
    {
     "data": {
      "text/html": [
       "<table class=\"dataframe\">\n",
       "<caption>A matrix: 8 × 8 of type dbl</caption>\n",
       "<tbody>\n",
       "\t<tr><td>-7</td><td>-6</td><td>-5</td><td>-4</td><td>-3</td><td>-2</td><td>-1</td><td>0</td></tr>\n",
       "\t<tr><td>-6</td><td>-5</td><td>-4</td><td>-3</td><td>-2</td><td>-1</td><td> 0</td><td>1</td></tr>\n",
       "\t<tr><td>-5</td><td>-4</td><td>-3</td><td>-2</td><td>-1</td><td> 0</td><td> 1</td><td>2</td></tr>\n",
       "\t<tr><td>-4</td><td>-3</td><td>-2</td><td>-1</td><td> 0</td><td> 1</td><td> 2</td><td>3</td></tr>\n",
       "\t<tr><td>-3</td><td>-2</td><td>-1</td><td> 0</td><td> 1</td><td> 2</td><td> 3</td><td>4</td></tr>\n",
       "\t<tr><td>-2</td><td>-1</td><td> 0</td><td> 1</td><td> 2</td><td> 3</td><td> 4</td><td>5</td></tr>\n",
       "\t<tr><td>-1</td><td> 0</td><td> 1</td><td> 2</td><td> 3</td><td> 4</td><td> 5</td><td>6</td></tr>\n",
       "\t<tr><td> 0</td><td> 1</td><td> 2</td><td> 3</td><td> 4</td><td> 5</td><td> 6</td><td>7</td></tr>\n",
       "</tbody>\n",
       "</table>\n"
      ],
      "text/latex": [
       "A matrix: 8 × 8 of type dbl\n",
       "\\begin{tabular}{llllllll}\n",
       "\t -7 & -6 & -5 & -4 & -3 & -2 & -1 & 0\\\\\n",
       "\t -6 & -5 & -4 & -3 & -2 & -1 &  0 & 1\\\\\n",
       "\t -5 & -4 & -3 & -2 & -1 &  0 &  1 & 2\\\\\n",
       "\t -4 & -3 & -2 & -1 &  0 &  1 &  2 & 3\\\\\n",
       "\t -3 & -2 & -1 &  0 &  1 &  2 &  3 & 4\\\\\n",
       "\t -2 & -1 &  0 &  1 &  2 &  3 &  4 & 5\\\\\n",
       "\t -1 &  0 &  1 &  2 &  3 &  4 &  5 & 6\\\\\n",
       "\t  0 &  1 &  2 &  3 &  4 &  5 &  6 & 7\\\\\n",
       "\\end{tabular}\n"
      ],
      "text/markdown": [
       "\n",
       "A matrix: 8 × 8 of type dbl\n",
       "\n",
       "| -7 | -6 | -5 | -4 | -3 | -2 | -1 | 0 |\n",
       "| -6 | -5 | -4 | -3 | -2 | -1 |  0 | 1 |\n",
       "| -5 | -4 | -3 | -2 | -1 |  0 |  1 | 2 |\n",
       "| -4 | -3 | -2 | -1 |  0 |  1 |  2 | 3 |\n",
       "| -3 | -2 | -1 |  0 |  1 |  2 |  3 | 4 |\n",
       "| -2 | -1 |  0 |  1 |  2 |  3 |  4 | 5 |\n",
       "| -1 |  0 |  1 |  2 |  3 |  4 |  5 | 6 |\n",
       "|  0 |  1 |  2 |  3 |  4 |  5 |  6 | 7 |\n",
       "\n"
      ],
      "text/plain": [
       "     [,1] [,2] [,3] [,4] [,5] [,6] [,7] [,8]\n",
       "[1,] -7   -6   -5   -4   -3   -2   -1   0   \n",
       "[2,] -6   -5   -4   -3   -2   -1    0   1   \n",
       "[3,] -5   -4   -3   -2   -1    0    1   2   \n",
       "[4,] -4   -3   -2   -1    0    1    2   3   \n",
       "[5,] -3   -2   -1    0    1    2    3   4   \n",
       "[6,] -2   -1    0    1    2    3    4   5   \n",
       "[7,] -1    0    1    2    3    4    5   6   \n",
       "[8,]  0    1    2    3    4    5    6   7   "
      ]
     },
     "metadata": {},
     "output_type": "display_data"
    }
   ],
   "source": [
    "board <- array(NA, dim=c(board_size, board_size))\n",
    "\n",
    "for (row in 1:board_size)\n",
    "    for (col in 1:board_size)\n",
    "\n",
    "        board[row, col] <- col + row - (board_size + 1)\n",
    "\n",
    "board"
   ]
  },
  {
   "cell_type": "code",
   "execution_count": 10,
   "metadata": {},
   "outputs": [
    {
     "data": {
      "text/html": [
       "<style>\n",
       ".list-inline {list-style: none; margin:0; padding: 0}\n",
       ".list-inline>li {display: inline-block}\n",
       ".list-inline>li:not(:last-child)::after {content: \"\\00b7\"; padding: 0 .5ex}\n",
       "</style>\n",
       "<ol class=list-inline><li>7</li><li>8</li><li>3</li><li>1</li><li>6</li><li>4</li><li>2</li><li>5</li></ol>\n"
      ],
      "text/latex": [
       "\\begin{enumerate*}\n",
       "\\item 7\n",
       "\\item 8\n",
       "\\item 3\n",
       "\\item 1\n",
       "\\item 6\n",
       "\\item 4\n",
       "\\item 2\n",
       "\\item 5\n",
       "\\end{enumerate*}\n"
      ],
      "text/markdown": [
       "1. 7\n",
       "2. 8\n",
       "3. 3\n",
       "4. 1\n",
       "5. 6\n",
       "6. 4\n",
       "7. 2\n",
       "8. 5\n",
       "\n",
       "\n"
      ],
      "text/plain": [
       "[1] 7 8 3 1 6 4 2 5"
      ]
     },
     "metadata": {},
     "output_type": "display_data"
    }
   ],
   "source": [
    "pos"
   ]
  },
  {
   "cell_type": "code",
   "execution_count": 11,
   "metadata": {},
   "outputs": [
    {
     "data": {
      "text/html": [
       "<style>\n",
       ".list-inline {list-style: none; margin:0; padding: 0}\n",
       ".list-inline>li {display: inline-block}\n",
       ".list-inline>li:not(:last-child)::after {content: \"\\00b7\"; padding: 0 .5ex}\n",
       "</style>\n",
       "<ol class=list-inline><li>FALSE</li><li>FALSE</li><li>FALSE</li><li>FALSE</li><li>FALSE</li><li>FALSE</li><li>FALSE</li><li>FALSE</li></ol>\n"
      ],
      "text/latex": [
       "\\begin{enumerate*}\n",
       "\\item FALSE\n",
       "\\item FALSE\n",
       "\\item FALSE\n",
       "\\item FALSE\n",
       "\\item FALSE\n",
       "\\item FALSE\n",
       "\\item FALSE\n",
       "\\item FALSE\n",
       "\\end{enumerate*}\n"
      ],
      "text/markdown": [
       "1. FALSE\n",
       "2. FALSE\n",
       "3. FALSE\n",
       "4. FALSE\n",
       "5. FALSE\n",
       "6. FALSE\n",
       "7. FALSE\n",
       "8. FALSE\n",
       "\n",
       "\n"
      ],
      "text/plain": [
       "[1] FALSE FALSE FALSE FALSE FALSE FALSE FALSE FALSE"
      ]
     },
     "metadata": {},
     "output_type": "display_data"
    }
   ],
   "source": [
    "duplicated(pos)"
   ]
  },
  {
   "cell_type": "code",
   "execution_count": 12,
   "metadata": {},
   "outputs": [
    {
     "data": {
      "text/html": [
       "<style>\n",
       ".list-inline {list-style: none; margin:0; padding: 0}\n",
       ".list-inline>li {display: inline-block}\n",
       ".list-inline>li:not(:last-child)::after {content: \"\\00b7\"; padding: 0 .5ex}\n",
       "</style>\n",
       "<ol class=list-inline><li>1</li><li>2</li><li>3</li><li>4</li><li>5</li><li>6</li><li>7</li><li>8</li></ol>\n"
      ],
      "text/latex": [
       "\\begin{enumerate*}\n",
       "\\item 1\n",
       "\\item 2\n",
       "\\item 3\n",
       "\\item 4\n",
       "\\item 5\n",
       "\\item 6\n",
       "\\item 7\n",
       "\\item 8\n",
       "\\end{enumerate*}\n"
      ],
      "text/markdown": [
       "1. 1\n",
       "2. 2\n",
       "3. 3\n",
       "4. 4\n",
       "5. 5\n",
       "6. 6\n",
       "7. 7\n",
       "8. 8\n",
       "\n",
       "\n"
      ],
      "text/plain": [
       "[1] 1 2 3 4 5 6 7 8"
      ]
     },
     "metadata": {},
     "output_type": "display_data"
    }
   ],
   "source": [
    "seq_along(pos)"
   ]
  },
  {
   "cell_type": "code",
   "execution_count": 13,
   "metadata": {},
   "outputs": [
    {
     "data": {
      "text/html": [
       "<style>\n",
       ".list-inline {list-style: none; margin:0; padding: 0}\n",
       ".list-inline>li {display: inline-block}\n",
       ".list-inline>li:not(:last-child)::after {content: \"\\00b7\"; padding: 0 .5ex}\n",
       "</style>\n",
       "<ol class=list-inline><li>6</li><li>6</li><li>0</li><li>-3</li><li>1</li><li>-2</li><li>-5</li><li>-3</li></ol>\n"
      ],
      "text/latex": [
       "\\begin{enumerate*}\n",
       "\\item 6\n",
       "\\item 6\n",
       "\\item 0\n",
       "\\item -3\n",
       "\\item 1\n",
       "\\item -2\n",
       "\\item -5\n",
       "\\item -3\n",
       "\\end{enumerate*}\n"
      ],
      "text/markdown": [
       "1. 6\n",
       "2. 6\n",
       "3. 0\n",
       "4. -3\n",
       "5. 1\n",
       "6. -2\n",
       "7. -5\n",
       "8. -3\n",
       "\n",
       "\n"
      ],
      "text/plain": [
       "[1]  6  6  0 -3  1 -2 -5 -3"
      ]
     },
     "metadata": {},
     "output_type": "display_data"
    }
   ],
   "source": [
    "pos - seq_along(pos)"
   ]
  },
  {
   "cell_type": "code",
   "execution_count": 14,
   "metadata": {},
   "outputs": [
    {
     "data": {
      "text/html": [
       "<style>\n",
       ".list-inline {list-style: none; margin:0; padding: 0}\n",
       ".list-inline>li {display: inline-block}\n",
       ".list-inline>li:not(:last-child)::after {content: \"\\00b7\"; padding: 0 .5ex}\n",
       "</style>\n",
       "<ol class=list-inline><li>FALSE</li><li>TRUE</li><li>FALSE</li><li>FALSE</li><li>FALSE</li><li>FALSE</li><li>FALSE</li><li>TRUE</li></ol>\n"
      ],
      "text/latex": [
       "\\begin{enumerate*}\n",
       "\\item FALSE\n",
       "\\item TRUE\n",
       "\\item FALSE\n",
       "\\item FALSE\n",
       "\\item FALSE\n",
       "\\item FALSE\n",
       "\\item FALSE\n",
       "\\item TRUE\n",
       "\\end{enumerate*}\n"
      ],
      "text/markdown": [
       "1. FALSE\n",
       "2. TRUE\n",
       "3. FALSE\n",
       "4. FALSE\n",
       "5. FALSE\n",
       "6. FALSE\n",
       "7. FALSE\n",
       "8. TRUE\n",
       "\n",
       "\n"
      ],
      "text/plain": [
       "[1] FALSE  TRUE FALSE FALSE FALSE FALSE FALSE  TRUE"
      ]
     },
     "metadata": {},
     "output_type": "display_data"
    }
   ],
   "source": [
    "duplicated(pos - seq_along(pos))"
   ]
  },
  {
   "cell_type": "code",
   "execution_count": 15,
   "metadata": {},
   "outputs": [
    {
     "data": {
      "text/html": [
       "2"
      ],
      "text/latex": [
       "2"
      ],
      "text/markdown": [
       "2"
      ],
      "text/plain": [
       "[1] 2"
      ]
     },
     "metadata": {},
     "output_type": "display_data"
    }
   ],
   "source": [
    "sum(duplicated(pos - seq_along(pos)))"
   ]
  },
  {
   "cell_type": "code",
   "execution_count": 16,
   "metadata": {},
   "outputs": [
    {
     "data": {
      "text/html": [
       "1"
      ],
      "text/latex": [
       "1"
      ],
      "text/markdown": [
       "1"
      ],
      "text/plain": [
       "[1] 1"
      ]
     },
     "metadata": {},
     "output_type": "display_data"
    }
   ],
   "source": [
    "sum(duplicated(pos + seq_along(pos)))"
   ]
  },
  {
   "cell_type": "code",
   "execution_count": 17,
   "metadata": {},
   "outputs": [],
   "source": [
    "n_attacks <- function(position) {\n",
    "    sum(duplicated(position)) +\n",
    "    sum(duplicated(position - seq_along(position))) +\n",
    "    sum(duplicated(position + seq_along(position)))\n",
    "}"
   ]
  },
  {
   "cell_type": "code",
   "execution_count": 18,
   "metadata": {},
   "outputs": [
    {
     "data": {
      "text/html": [
       "3"
      ],
      "text/latex": [
       "3"
      ],
      "text/markdown": [
       "3"
      ],
      "text/plain": [
       "[1] 3"
      ]
     },
     "metadata": {},
     "output_type": "display_data"
    }
   ],
   "source": [
    "n_attacks(pos)"
   ]
  },
  {
   "cell_type": "code",
   "execution_count": 19,
   "metadata": {},
   "outputs": [],
   "source": [
    "neighbor <- function(position) {\n",
    "    step <- 2\n",
    "    i <- sample.int(board_size, 1)\n",
    "\n",
    "    position[i] <- position[i] + sample(c(1:step, -(1:step)), 1)\n",
    "\n",
    "    if (position[i] > board_size)\n",
    "        position[i] <- 1\n",
    "    else if (position[i] < 1)\n",
    "        position[i] <- board_size\n",
    "    \n",
    "    position\n",
    "}"
   ]
  },
  {
   "cell_type": "code",
   "execution_count": 20,
   "metadata": {},
   "outputs": [
    {
     "name": "stdout",
     "output_type": "stream",
     "text": [
      "* * * * * * 1 *\n",
      "* * * * * * * 1\n",
      "* * 1 * * * * *\n",
      "1 * * * * * * *\n",
      "* * * * * 1 * *\n",
      "* * * 1 * * * *\n",
      "* 1 * * * * * *\n",
      "* * * * 1 * * *\n"
     ]
    }
   ],
   "source": [
    "print_board(pos)"
   ]
  },
  {
   "cell_type": "code",
   "execution_count": 21,
   "metadata": {},
   "outputs": [
    {
     "name": "stdout",
     "output_type": "stream",
     "text": [
      "* * * * * * 1 *\n",
      "* * * * * * * 1\n",
      "* * 1 * * * * *\n",
      "1 * * * * * * *\n",
      "* * * * * 1 * *\n",
      "* * * 1 * * * *\n",
      "* 1 * * * * * *\n",
      "* * * 1 * * * *\n"
     ]
    }
   ],
   "source": [
    "print_board(pos <- neighbor(pos))"
   ]
  },
  {
   "cell_type": "code",
   "execution_count": 22,
   "metadata": {},
   "outputs": [],
   "source": [
    "pos0 <- rep(1, board_size)"
   ]
  },
  {
   "cell_type": "code",
   "execution_count": 23,
   "metadata": {},
   "outputs": [
    {
     "name": "stdout",
     "output_type": "stream",
     "text": [
      "1 * * * * * * *\n",
      "1 * * * * * * *\n",
      "1 * * * * * * *\n",
      "1 * * * * * * *\n",
      "1 * * * * * * *\n",
      "1 * * * * * * *\n",
      "1 * * * * * * *\n",
      "1 * * * * * * *\n"
     ]
    }
   ],
   "source": [
    "print_board(pos0)"
   ]
  },
  {
   "cell_type": "code",
   "execution_count": 24,
   "metadata": {},
   "outputs": [
    {
     "name": "stdout",
     "output_type": "stream",
     "text": [
      "\n",
      "Simulated Annealing.\n",
      "\n",
      "  |======================================================================| 100%\n",
      "OK\n",
      "Estimated remaining running time: 2.5 secs.\n",
      "\n",
      "Running Simulated Annealing ...\n",
      "Initial solution:  7 \n",
      "  |======================================================================| 100%Finished.\n",
      "Best solution overall: 0\n",
      "\n"
     ]
    }
   ],
   "source": [
    "solution <- SAopt(n_attacks, list(x0 = pos0,\n",
    "                                  neighbour = neighbor,\n",
    "                                  printBar = TRUE,\n",
    "                                  nS = 1000))"
   ]
  },
  {
   "cell_type": "code",
   "execution_count": 25,
   "metadata": {},
   "outputs": [
    {
     "data": {
      "text/html": [
       "<style>\n",
       ".list-inline {list-style: none; margin:0; padding: 0}\n",
       ".list-inline>li {display: inline-block}\n",
       ".list-inline>li:not(:last-child)::after {content: \"\\00b7\"; padding: 0 .5ex}\n",
       "</style>\n",
       "<ol class=list-inline><li>3</li><li>6</li><li>4</li><li>1</li><li>8</li><li>5</li><li>7</li><li>2</li></ol>\n"
      ],
      "text/latex": [
       "\\begin{enumerate*}\n",
       "\\item 3\n",
       "\\item 6\n",
       "\\item 4\n",
       "\\item 1\n",
       "\\item 8\n",
       "\\item 5\n",
       "\\item 7\n",
       "\\item 2\n",
       "\\end{enumerate*}\n"
      ],
      "text/markdown": [
       "1. 3\n",
       "2. 6\n",
       "3. 4\n",
       "4. 1\n",
       "5. 8\n",
       "6. 5\n",
       "7. 7\n",
       "8. 2\n",
       "\n",
       "\n"
      ],
      "text/plain": [
       "[1] 3 6 4 1 8 5 7 2"
      ]
     },
     "metadata": {},
     "output_type": "display_data"
    }
   ],
   "source": [
    "solution$xbest"
   ]
  },
  {
   "cell_type": "code",
   "execution_count": 26,
   "metadata": {},
   "outputs": [
    {
     "data": {
      "text/html": [
       "0"
      ],
      "text/latex": [
       "0"
      ],
      "text/markdown": [
       "0"
      ],
      "text/plain": [
       "[1] 0"
      ]
     },
     "metadata": {},
     "output_type": "display_data"
    }
   ],
   "source": [
    "n_attacks(solution$xbest)"
   ]
  },
  {
   "cell_type": "code",
   "execution_count": 27,
   "metadata": {},
   "outputs": [
    {
     "name": "stdout",
     "output_type": "stream",
     "text": [
      "* * 1 * * * * *\n",
      "* * * * * 1 * *\n",
      "* * * 1 * * * *\n",
      "1 * * * * * * *\n",
      "* * * * * * * 1\n",
      "* * * * 1 * * *\n",
      "* * * * * * 1 *\n",
      "* 1 * * * * * *\n"
     ]
    }
   ],
   "source": [
    "print_board(solution$xbest)"
   ]
  },
  {
   "cell_type": "code",
   "execution_count": 28,
   "metadata": {},
   "outputs": [
    {
     "name": "stdout",
     "output_type": "stream",
     "text": [
      "\n",
      "Local Search.\n",
      "Initial solution:  7 \n",
      "  |======================================================================| 100%\n",
      "Finished.\n",
      "Best solution overall: 1\n"
     ]
    }
   ],
   "source": [
    "solution <- LSopt(n_attacks, list(x0 = pos0,\n",
    "                                neighbour= neighbor,\n",
    "                                printBar = TRUE,\n",
    "                                nS = 1000))"
   ]
  },
  {
   "cell_type": "code",
   "execution_count": 29,
   "metadata": {},
   "outputs": [
    {
     "data": {
      "text/html": [
       "1"
      ],
      "text/latex": [
       "1"
      ],
      "text/markdown": [
       "1"
      ],
      "text/plain": [
       "[1] 1"
      ]
     },
     "metadata": {},
     "output_type": "display_data"
    }
   ],
   "source": [
    "n_attacks(solution$xbest)"
   ]
  },
  {
   "cell_type": "code",
   "execution_count": 30,
   "metadata": {},
   "outputs": [
    {
     "name": "stdout",
     "output_type": "stream",
     "text": [
      "* * * * * * 1 *\n",
      "* 1 * * * * * *\n",
      "* * * * * 1 * *\n",
      "* * 1 * * * * *\n",
      "1 * * * * * * *\n",
      "* * * * * * * 1\n",
      "* * * * 1 * * *\n",
      "* * 1 * * * * *\n"
     ]
    }
   ],
   "source": [
    "print_board(solution$xbest)"
   ]
  },
  {
   "cell_type": "code",
   "execution_count": 31,
   "metadata": {},
   "outputs": [
    {
     "name": "stdout",
     "output_type": "stream",
     "text": [
      "\n",
      "Threshold Accepting\n",
      "\n",
      "  Computing thresholds ... \n",
      "  |============================================================| 100%\n",
      "  OK\n",
      "  Estimated remaining running time: 2.05 secs\n",
      "\n",
      "  Running Threshold Accepting ...\n",
      "  Initial solution: 7 \n",
      "  |============================================================| 100%\n",
      "  Finished.\n",
      "  Best solution overall: 1\n"
     ]
    }
   ],
   "source": [
    "solution <- TAopt(n_attacks, list(x0 = pos0,\n",
    "neighbour = neighbor,\n",
    "printBar = TRUE,\n",
    "nS = 1000))"
   ]
  },
  {
   "cell_type": "code",
   "execution_count": 32,
   "metadata": {},
   "outputs": [
    {
     "data": {
      "text/html": [
       "1"
      ],
      "text/latex": [
       "1"
      ],
      "text/markdown": [
       "1"
      ],
      "text/plain": [
       "[1] 1"
      ]
     },
     "metadata": {},
     "output_type": "display_data"
    }
   ],
   "source": [
    "n_attacks(solution$xbest)"
   ]
  },
  {
   "cell_type": "code",
   "execution_count": 33,
   "metadata": {},
   "outputs": [
    {
     "name": "stdout",
     "output_type": "stream",
     "text": [
      "* * * * * * 1 *\n",
      "* * * * 1 * * *\n",
      "* 1 * * * * * *\n",
      "* * * * * 1 * *\n",
      "1 * * * * * * *\n",
      "* * 1 * * * * *\n",
      "* * * * * * * 1\n",
      "* * 1 * * * * *\n"
     ]
    }
   ],
   "source": [
    "print_board(solution$xbest)"
   ]
  },
  {
   "cell_type": "code",
   "execution_count": 34,
   "metadata": {},
   "outputs": [],
   "source": [
    "pos0 <- sample.int(board_size)"
   ]
  },
  {
   "cell_type": "code",
   "execution_count": 35,
   "metadata": {},
   "outputs": [
    {
     "name": "stdout",
     "output_type": "stream",
     "text": [
      "* * * * * * * 1\n",
      "1 * * * * * * *\n",
      "* * * * * * 1 *\n",
      "* * * * * 1 * *\n",
      "* 1 * * * * * *\n",
      "* * * * 1 * * *\n",
      "* * * 1 * * * *\n",
      "* * 1 * * * * *\n"
     ]
    }
   ],
   "source": [
    "print_board(pos0)"
   ]
  },
  {
   "cell_type": "code",
   "execution_count": 36,
   "metadata": {},
   "outputs": [
    {
     "name": "stdout",
     "output_type": "stream",
     "text": [
      "\n",
      "Simulated Annealing.\n",
      "\n",
      "  |======================================================================| 100%\n",
      "OK\n",
      "Estimated remaining running time: 2.85 secs.\n",
      "\n",
      "Running Simulated Annealing ...\n",
      "Initial solution:  5 \n",
      "  |======================================================================| 100%Finished.\n",
      "Best solution overall: 0\n",
      "\n"
     ]
    }
   ],
   "source": [
    "solution <- SAopt(n_attacks, list(x0 = pos0,\n",
    "neighbour = neighbor,\n",
    "printBar = TRUE,\n",
    "nS=1000))"
   ]
  },
  {
   "cell_type": "code",
   "execution_count": 37,
   "metadata": {},
   "outputs": [
    {
     "data": {
      "text/html": [
       "0"
      ],
      "text/latex": [
       "0"
      ],
      "text/markdown": [
       "0"
      ],
      "text/plain": [
       "[1] 0"
      ]
     },
     "metadata": {},
     "output_type": "display_data"
    }
   ],
   "source": [
    "n_attacks(solution$xbest)"
   ]
  },
  {
   "cell_type": "code",
   "execution_count": 38,
   "metadata": {},
   "outputs": [
    {
     "name": "stdout",
     "output_type": "stream",
     "text": [
      "* * * * 1 * * *\n",
      "1 * * * * * * *\n",
      "* * * 1 * * * *\n",
      "* * * * * 1 * *\n",
      "* * * * * * * 1\n",
      "* 1 * * * * * *\n",
      "* * * * * * 1 *\n",
      "* * 1 * * * * *\n"
     ]
    }
   ],
   "source": [
    "print_board(solution$xbest)"
   ]
  },
  {
   "cell_type": "code",
   "execution_count": 39,
   "metadata": {},
   "outputs": [
    {
     "name": "stdout",
     "output_type": "stream",
     "text": [
      "\n",
      "Local Search.\n",
      "Initial solution:  5 \n",
      "  |======================================================================| 100%\n",
      "Finished.\n",
      "Best solution overall: 0\n"
     ]
    }
   ],
   "source": [
    "solution <- LSopt(n_attacks, list(x0 = pos0,\n",
    "neighbour =neighbor,\n",
    "printBar =TRUE,\n",
    "nS = 1000 ))"
   ]
  },
  {
   "cell_type": "code",
   "execution_count": 40,
   "metadata": {},
   "outputs": [
    {
     "data": {
      "text/html": [
       "0"
      ],
      "text/latex": [
       "0"
      ],
      "text/markdown": [
       "0"
      ],
      "text/plain": [
       "[1] 0"
      ]
     },
     "metadata": {},
     "output_type": "display_data"
    }
   ],
   "source": [
    "n_attacks(solution$xbest)"
   ]
  },
  {
   "cell_type": "code",
   "execution_count": 41,
   "metadata": {},
   "outputs": [
    {
     "name": "stdout",
     "output_type": "stream",
     "text": [
      "* * * * * * * 1\n",
      "* * 1 * * * * *\n",
      "1 * * * * * * *\n",
      "* * * * * 1 * *\n",
      "* 1 * * * * * *\n",
      "* * * * 1 * * *\n",
      "* * * * * * 1 *\n",
      "* * * 1 * * * *\n"
     ]
    }
   ],
   "source": [
    "print_board(solution$xbest)"
   ]
  },
  {
   "cell_type": "code",
   "execution_count": 42,
   "metadata": {},
   "outputs": [
    {
     "name": "stdout",
     "output_type": "stream",
     "text": [
      "\n",
      "Threshold Accepting\n",
      "\n",
      "  Computing thresholds ... \n",
      "  |============================================================| 100%\n",
      "  OK\n",
      "  Estimated remaining running time: 2.2 secs\n",
      "\n",
      "  Running Threshold Accepting ...\n",
      "  Initial solution: 5 \n",
      "  |============================================================| 100%\n",
      "  Finished.\n",
      "  Best solution overall: 0\n"
     ]
    }
   ],
   "source": [
    "solution <- TAopt(n_attacks, list(x0 = pos0,\n",
    "neighbour = neighbor, printBar = TRUE, nS = 1000))"
   ]
  },
  {
   "cell_type": "code",
   "execution_count": 43,
   "metadata": {},
   "outputs": [
    {
     "data": {
      "text/html": [
       "0"
      ],
      "text/latex": [
       "0"
      ],
      "text/markdown": [
       "0"
      ],
      "text/plain": [
       "[1] 0"
      ]
     },
     "metadata": {},
     "output_type": "display_data"
    }
   ],
   "source": [
    "n_attacks(solution$xbest)"
   ]
  },
  {
   "cell_type": "code",
   "execution_count": 44,
   "metadata": {},
   "outputs": [
    {
     "name": "stdout",
     "output_type": "stream",
     "text": [
      "* * * * 1 * * *\n",
      "* * * * * * * 1\n",
      "* * * 1 * * * *\n",
      "1 * * * * * * *\n",
      "* * 1 * * * * *\n",
      "* * * * * 1 * *\n",
      "* 1 * * * * * *\n",
      "* * * * * * 1 *\n"
     ]
    }
   ],
   "source": [
    "print_board(solution$xbest)"
   ]
  },
  {
   "cell_type": "code",
   "execution_count": null,
   "metadata": {},
   "outputs": [],
   "source": []
  }
 ],
 "metadata": {
  "kernelspec": {
   "display_name": "R",
   "language": "R",
   "name": "ir"
  },
  "language_info": {
   "codemirror_mode": "r",
   "file_extension": ".r",
   "mimetype": "text/x-r-source",
   "name": "R",
   "pygments_lexer": "r",
   "version": "4.1.2"
  },
  "orig_nbformat": 4
 },
 "nbformat": 4,
 "nbformat_minor": 2
}
