{
 "cells": [
  {
   "cell_type": "code",
   "execution_count": 1,
   "metadata": {},
   "outputs": [
    {
     "name": "stderr",
     "output_type": "stream",
     "text": [
      "\n",
      "Attaching package: 'dplyr'\n",
      "\n",
      "\n",
      "The following objects are masked from 'package:plyr':\n",
      "\n",
      "    arrange, count, desc, failwith, id, mutate, rename, summarise,\n",
      "    summarize\n",
      "\n",
      "\n",
      "The following objects are masked from 'package:stats':\n",
      "\n",
      "    filter, lag\n",
      "\n",
      "\n",
      "The following objects are masked from 'package:base':\n",
      "\n",
      "    intersect, setdiff, setequal, union\n",
      "\n",
      "\n"
     ]
    }
   ],
   "source": [
    "library(ggplot2)\n",
    "library(plyr)\n",
    "library(dplyr)"
   ]
  },
  {
   "cell_type": "code",
   "execution_count": 2,
   "metadata": {},
   "outputs": [
    {
     "data": {
      "text/html": [
       "<table class=\"dataframe\">\n",
       "<caption>A data.frame: 10 × 23</caption>\n",
       "<thead>\n",
       "\t<tr><th></th><th scope=col>normalized_losses</th><th scope=col>fuel_type</th><th scope=col>aspiration</th><th scope=col>number_of_doors</th><th scope=col>drive_wheels</th><th scope=col>engine_location</th><th scope=col>wheel_base</th><th scope=col>length</th><th scope=col>width</th><th scope=col>height</th><th scope=col>...</th><th scope=col>engine_size</th><th scope=col>fuel_system</th><th scope=col>bore</th><th scope=col>stroke</th><th scope=col>compression_ratio</th><th scope=col>horsepower</th><th scope=col>peak_rpm</th><th scope=col>city_mpg</th><th scope=col>highway_mpg</th><th scope=col>price</th></tr>\n",
       "\t<tr><th></th><th scope=col>&lt;int&gt;</th><th scope=col>&lt;chr&gt;</th><th scope=col>&lt;chr&gt;</th><th scope=col>&lt;chr&gt;</th><th scope=col>&lt;chr&gt;</th><th scope=col>&lt;chr&gt;</th><th scope=col>&lt;dbl&gt;</th><th scope=col>&lt;dbl&gt;</th><th scope=col>&lt;dbl&gt;</th><th scope=col>&lt;dbl&gt;</th><th scope=col>...</th><th scope=col>&lt;int&gt;</th><th scope=col>&lt;chr&gt;</th><th scope=col>&lt;dbl&gt;</th><th scope=col>&lt;dbl&gt;</th><th scope=col>&lt;dbl&gt;</th><th scope=col>&lt;int&gt;</th><th scope=col>&lt;int&gt;</th><th scope=col>&lt;int&gt;</th><th scope=col>&lt;int&gt;</th><th scope=col>&lt;int&gt;</th></tr>\n",
       "</thead>\n",
       "<tbody>\n",
       "\t<tr><th scope=row>1</th><td>168</td><td>gas</td><td>std  </td><td>two </td><td>rwd</td><td>front</td><td> 88.6</td><td>168.8</td><td>64.1</td><td>48.8</td><td>...</td><td>130</td><td>mpfi</td><td>3.47</td><td>2.68</td><td> 9.0</td><td>111</td><td>5000</td><td>21</td><td>27</td><td>13495</td></tr>\n",
       "\t<tr><th scope=row>2</th><td>168</td><td>gas</td><td>std  </td><td>two </td><td>rwd</td><td>front</td><td> 88.6</td><td>168.8</td><td>64.1</td><td>48.8</td><td>...</td><td>130</td><td>mpfi</td><td>3.47</td><td>2.68</td><td> 9.0</td><td>111</td><td>5000</td><td>21</td><td>27</td><td>16500</td></tr>\n",
       "\t<tr><th scope=row>3</th><td>168</td><td>gas</td><td>std  </td><td>two </td><td>rwd</td><td>front</td><td> 94.5</td><td>171.2</td><td>65.5</td><td>52.4</td><td>...</td><td>152</td><td>mpfi</td><td>2.68</td><td>3.47</td><td> 9.0</td><td>154</td><td>5000</td><td>19</td><td>26</td><td>16500</td></tr>\n",
       "\t<tr><th scope=row>4</th><td>164</td><td>gas</td><td>std  </td><td>four</td><td>fwd</td><td>front</td><td> 99.8</td><td>176.6</td><td>66.2</td><td>54.3</td><td>...</td><td>109</td><td>mpfi</td><td>3.19</td><td>3.40</td><td>10.0</td><td>102</td><td>5500</td><td>24</td><td>30</td><td>13950</td></tr>\n",
       "\t<tr><th scope=row>5</th><td>164</td><td>gas</td><td>std  </td><td>four</td><td>4wd</td><td>front</td><td> 99.4</td><td>176.6</td><td>66.4</td><td>54.3</td><td>...</td><td>136</td><td>mpfi</td><td>3.19</td><td>3.40</td><td> 8.0</td><td>115</td><td>5500</td><td>18</td><td>22</td><td>17450</td></tr>\n",
       "\t<tr><th scope=row>6</th><td>161</td><td>gas</td><td>std  </td><td>two </td><td>fwd</td><td>front</td><td> 99.8</td><td>177.3</td><td>66.3</td><td>53.1</td><td>...</td><td>136</td><td>mpfi</td><td>3.19</td><td>3.40</td><td> 8.5</td><td>110</td><td>5500</td><td>19</td><td>25</td><td>15250</td></tr>\n",
       "\t<tr><th scope=row>7</th><td>158</td><td>gas</td><td>std  </td><td>four</td><td>fwd</td><td>front</td><td>105.8</td><td>192.7</td><td>71.4</td><td>55.7</td><td>...</td><td>136</td><td>mpfi</td><td>3.19</td><td>3.40</td><td> 8.5</td><td>110</td><td>5500</td><td>19</td><td>25</td><td>17710</td></tr>\n",
       "\t<tr><th scope=row>8</th><td>168</td><td>gas</td><td>std  </td><td>four</td><td>fwd</td><td>front</td><td>105.8</td><td>192.7</td><td>71.4</td><td>55.7</td><td>...</td><td>136</td><td>mpfi</td><td>3.19</td><td>3.40</td><td> 8.5</td><td>110</td><td>5500</td><td>19</td><td>25</td><td>18920</td></tr>\n",
       "\t<tr><th scope=row>9</th><td>158</td><td>gas</td><td>turbo</td><td>four</td><td>fwd</td><td>front</td><td>105.8</td><td>192.7</td><td>71.4</td><td>55.9</td><td>...</td><td>131</td><td>mpfi</td><td>3.13</td><td>3.40</td><td> 8.3</td><td>140</td><td>5500</td><td>17</td><td>20</td><td>23875</td></tr>\n",
       "\t<tr><th scope=row>10</th><td>192</td><td>gas</td><td>std  </td><td>two </td><td>rwd</td><td>front</td><td>101.2</td><td>176.8</td><td>64.8</td><td>54.3</td><td>...</td><td>108</td><td>mpfi</td><td>3.50</td><td>2.80</td><td> 8.8</td><td>101</td><td>5800</td><td>23</td><td>29</td><td>16430</td></tr>\n",
       "</tbody>\n",
       "</table>\n"
      ],
      "text/latex": [
       "A data.frame: 10 × 23\n",
       "\\begin{tabular}{r|lllllllllllllllllllll}\n",
       "  & normalized\\_losses & fuel\\_type & aspiration & number\\_of\\_doors & drive\\_wheels & engine\\_location & wheel\\_base & length & width & height & ... & engine\\_size & fuel\\_system & bore & stroke & compression\\_ratio & horsepower & peak\\_rpm & city\\_mpg & highway\\_mpg & price\\\\\n",
       "  & <int> & <chr> & <chr> & <chr> & <chr> & <chr> & <dbl> & <dbl> & <dbl> & <dbl> & ... & <int> & <chr> & <dbl> & <dbl> & <dbl> & <int> & <int> & <int> & <int> & <int>\\\\\n",
       "\\hline\n",
       "\t1 & 168 & gas & std   & two  & rwd & front &  88.6 & 168.8 & 64.1 & 48.8 & ... & 130 & mpfi & 3.47 & 2.68 &  9.0 & 111 & 5000 & 21 & 27 & 13495\\\\\n",
       "\t2 & 168 & gas & std   & two  & rwd & front &  88.6 & 168.8 & 64.1 & 48.8 & ... & 130 & mpfi & 3.47 & 2.68 &  9.0 & 111 & 5000 & 21 & 27 & 16500\\\\\n",
       "\t3 & 168 & gas & std   & two  & rwd & front &  94.5 & 171.2 & 65.5 & 52.4 & ... & 152 & mpfi & 2.68 & 3.47 &  9.0 & 154 & 5000 & 19 & 26 & 16500\\\\\n",
       "\t4 & 164 & gas & std   & four & fwd & front &  99.8 & 176.6 & 66.2 & 54.3 & ... & 109 & mpfi & 3.19 & 3.40 & 10.0 & 102 & 5500 & 24 & 30 & 13950\\\\\n",
       "\t5 & 164 & gas & std   & four & 4wd & front &  99.4 & 176.6 & 66.4 & 54.3 & ... & 136 & mpfi & 3.19 & 3.40 &  8.0 & 115 & 5500 & 18 & 22 & 17450\\\\\n",
       "\t6 & 161 & gas & std   & two  & fwd & front &  99.8 & 177.3 & 66.3 & 53.1 & ... & 136 & mpfi & 3.19 & 3.40 &  8.5 & 110 & 5500 & 19 & 25 & 15250\\\\\n",
       "\t7 & 158 & gas & std   & four & fwd & front & 105.8 & 192.7 & 71.4 & 55.7 & ... & 136 & mpfi & 3.19 & 3.40 &  8.5 & 110 & 5500 & 19 & 25 & 17710\\\\\n",
       "\t8 & 168 & gas & std   & four & fwd & front & 105.8 & 192.7 & 71.4 & 55.7 & ... & 136 & mpfi & 3.19 & 3.40 &  8.5 & 110 & 5500 & 19 & 25 & 18920\\\\\n",
       "\t9 & 158 & gas & turbo & four & fwd & front & 105.8 & 192.7 & 71.4 & 55.9 & ... & 131 & mpfi & 3.13 & 3.40 &  8.3 & 140 & 5500 & 17 & 20 & 23875\\\\\n",
       "\t10 & 192 & gas & std   & two  & rwd & front & 101.2 & 176.8 & 64.8 & 54.3 & ... & 108 & mpfi & 3.50 & 2.80 &  8.8 & 101 & 5800 & 23 & 29 & 16430\\\\\n",
       "\\end{tabular}\n"
      ],
      "text/markdown": [
       "\n",
       "A data.frame: 10 × 23\n",
       "\n",
       "| <!--/--> | normalized_losses &lt;int&gt; | fuel_type &lt;chr&gt; | aspiration &lt;chr&gt; | number_of_doors &lt;chr&gt; | drive_wheels &lt;chr&gt; | engine_location &lt;chr&gt; | wheel_base &lt;dbl&gt; | length &lt;dbl&gt; | width &lt;dbl&gt; | height &lt;dbl&gt; | ... ... | engine_size &lt;int&gt; | fuel_system &lt;chr&gt; | bore &lt;dbl&gt; | stroke &lt;dbl&gt; | compression_ratio &lt;dbl&gt; | horsepower &lt;int&gt; | peak_rpm &lt;int&gt; | city_mpg &lt;int&gt; | highway_mpg &lt;int&gt; | price &lt;int&gt; |\n",
       "|---|---|---|---|---|---|---|---|---|---|---|---|---|---|---|---|---|---|---|---|---|---|\n",
       "| 1 | 168 | gas | std   | two  | rwd | front |  88.6 | 168.8 | 64.1 | 48.8 | ... | 130 | mpfi | 3.47 | 2.68 |  9.0 | 111 | 5000 | 21 | 27 | 13495 |\n",
       "| 2 | 168 | gas | std   | two  | rwd | front |  88.6 | 168.8 | 64.1 | 48.8 | ... | 130 | mpfi | 3.47 | 2.68 |  9.0 | 111 | 5000 | 21 | 27 | 16500 |\n",
       "| 3 | 168 | gas | std   | two  | rwd | front |  94.5 | 171.2 | 65.5 | 52.4 | ... | 152 | mpfi | 2.68 | 3.47 |  9.0 | 154 | 5000 | 19 | 26 | 16500 |\n",
       "| 4 | 164 | gas | std   | four | fwd | front |  99.8 | 176.6 | 66.2 | 54.3 | ... | 109 | mpfi | 3.19 | 3.40 | 10.0 | 102 | 5500 | 24 | 30 | 13950 |\n",
       "| 5 | 164 | gas | std   | four | 4wd | front |  99.4 | 176.6 | 66.4 | 54.3 | ... | 136 | mpfi | 3.19 | 3.40 |  8.0 | 115 | 5500 | 18 | 22 | 17450 |\n",
       "| 6 | 161 | gas | std   | two  | fwd | front |  99.8 | 177.3 | 66.3 | 53.1 | ... | 136 | mpfi | 3.19 | 3.40 |  8.5 | 110 | 5500 | 19 | 25 | 15250 |\n",
       "| 7 | 158 | gas | std   | four | fwd | front | 105.8 | 192.7 | 71.4 | 55.7 | ... | 136 | mpfi | 3.19 | 3.40 |  8.5 | 110 | 5500 | 19 | 25 | 17710 |\n",
       "| 8 | 168 | gas | std   | four | fwd | front | 105.8 | 192.7 | 71.4 | 55.7 | ... | 136 | mpfi | 3.19 | 3.40 |  8.5 | 110 | 5500 | 19 | 25 | 18920 |\n",
       "| 9 | 158 | gas | turbo | four | fwd | front | 105.8 | 192.7 | 71.4 | 55.9 | ... | 131 | mpfi | 3.13 | 3.40 |  8.3 | 140 | 5500 | 17 | 20 | 23875 |\n",
       "| 10 | 192 | gas | std   | two  | rwd | front | 101.2 | 176.8 | 64.8 | 54.3 | ... | 108 | mpfi | 3.50 | 2.80 |  8.8 | 101 | 5800 | 23 | 29 | 16430 |\n",
       "\n"
      ],
      "text/plain": [
       "   normalized_losses fuel_type aspiration number_of_doors drive_wheels\n",
       "1  168               gas       std        two             rwd         \n",
       "2  168               gas       std        two             rwd         \n",
       "3  168               gas       std        two             rwd         \n",
       "4  164               gas       std        four            fwd         \n",
       "5  164               gas       std        four            4wd         \n",
       "6  161               gas       std        two             fwd         \n",
       "7  158               gas       std        four            fwd         \n",
       "8  168               gas       std        four            fwd         \n",
       "9  158               gas       turbo      four            fwd         \n",
       "10 192               gas       std        two             rwd         \n",
       "   engine_location wheel_base length width height ... engine_size fuel_system\n",
       "1  front            88.6      168.8  64.1  48.8   ... 130         mpfi       \n",
       "2  front            88.6      168.8  64.1  48.8   ... 130         mpfi       \n",
       "3  front            94.5      171.2  65.5  52.4   ... 152         mpfi       \n",
       "4  front            99.8      176.6  66.2  54.3   ... 109         mpfi       \n",
       "5  front            99.4      176.6  66.4  54.3   ... 136         mpfi       \n",
       "6  front            99.8      177.3  66.3  53.1   ... 136         mpfi       \n",
       "7  front           105.8      192.7  71.4  55.7   ... 136         mpfi       \n",
       "8  front           105.8      192.7  71.4  55.7   ... 136         mpfi       \n",
       "9  front           105.8      192.7  71.4  55.9   ... 131         mpfi       \n",
       "10 front           101.2      176.8  64.8  54.3   ... 108         mpfi       \n",
       "   bore stroke compression_ratio horsepower peak_rpm city_mpg highway_mpg price\n",
       "1  3.47 2.68    9.0              111        5000     21       27          13495\n",
       "2  3.47 2.68    9.0              111        5000     21       27          16500\n",
       "3  2.68 3.47    9.0              154        5000     19       26          16500\n",
       "4  3.19 3.40   10.0              102        5500     24       30          13950\n",
       "5  3.19 3.40    8.0              115        5500     18       22          17450\n",
       "6  3.19 3.40    8.5              110        5500     19       25          15250\n",
       "7  3.19 3.40    8.5              110        5500     19       25          17710\n",
       "8  3.19 3.40    8.5              110        5500     19       25          18920\n",
       "9  3.13 3.40    8.3              140        5500     17       20          23875\n",
       "10 3.50 2.80    8.8              101        5800     23       29          16430"
      ]
     },
     "metadata": {},
     "output_type": "display_data"
    }
   ],
   "source": [
    "auto_mobiles <- read.csv(\"datasets/auto_mobiles_processed.csv\", header=TRUE)\n",
    "\n",
    "head(auto_mobiles, 10)"
   ]
  },
  {
   "cell_type": "code",
   "execution_count": 3,
   "metadata": {},
   "outputs": [
    {
     "data": {
      "text/plain": [
       "\n",
       "diesel    gas \n",
       "    19    168 "
      ]
     },
     "metadata": {},
     "output_type": "display_data"
    }
   ],
   "source": [
    "table(auto_mobiles$fuel_type)"
   ]
  },
  {
   "cell_type": "code",
   "execution_count": 4,
   "metadata": {},
   "outputs": [],
   "source": [
    "options(repr.plot.width=6, repr.plot.height=3.5)"
   ]
  },
  {
   "cell_type": "code",
   "execution_count": 7,
   "metadata": {},
   "outputs": [
    {
     "data": {
      "image/png": "[encoded data removed]",
      "text/plain": [
       "plot without title"
      ]
     },
     "metadata": {
      "image/png": {
       "height": 210,
       "width": 360
      }
     },
     "output_type": "display_data"
    }
   ],
   "source": [
    "ggplot(data=auto_mobiles,\n",
    "aes(factor(x=fuel_type), col=fuel_type)) + geom_bar() + xlab(\"Fuel Type\") + ylab(\"Counts\")"
   ]
  },
  {
   "cell_type": "code",
   "execution_count": 8,
   "metadata": {},
   "outputs": [
    {
     "data": {
      "image/png": "[encoded data removed]",
      "text/plain": [
       "plot without title"
      ]
     },
     "metadata": {
      "image/png": {
       "height": 210,
       "width": 360
      }
     },
     "output_type": "display_data"
    }
   ],
   "source": [
    "qplot(factor(x=fuel_type), y=price, geom = \"boxplot\", data = auto_mobiles, xlab=\"Fuel Type\", ylab = \"Price\", fill = I(\"#a9a9a9\"))"
   ]
  },
  {
   "cell_type": "code",
   "execution_count": 11,
   "metadata": {},
   "outputs": [
    {
     "data": {
      "text/html": [
       "<table class=\"dataframe\">\n",
       "<caption>A data.frame: 2 × 5</caption>\n",
       "<thead>\n",
       "\t<tr><th scope=col>factor(fuel_type)</th><th scope=col>group_size</th><th scope=col>price_mean</th><th scope=col>price_std</th><th scope=col>std_error_price</th></tr>\n",
       "\t<tr><th scope=col>&lt;fct&gt;</th><th scope=col>&lt;int&gt;</th><th scope=col>&lt;dbl&gt;</th><th scope=col>&lt;dbl&gt;</th><th scope=col>&lt;dbl&gt;</th></tr>\n",
       "</thead>\n",
       "<tbody>\n",
       "\t<tr><td>diesel</td><td> 19</td><td>15008.58</td><td>7002.289</td><td>1606.4352</td></tr>\n",
       "\t<tr><td>gas   </td><td>168</td><td>11106.73</td><td>4557.894</td><td> 351.6492</td></tr>\n",
       "</tbody>\n",
       "</table>\n"
      ],
      "text/latex": [
       "A data.frame: 2 × 5\n",
       "\\begin{tabular}{lllll}\n",
       " factor(fuel\\_type) & group\\_size & price\\_mean & price\\_std & std\\_error\\_price\\\\\n",
       " <fct> & <int> & <dbl> & <dbl> & <dbl>\\\\\n",
       "\\hline\n",
       "\t diesel &  19 & 15008.58 & 7002.289 & 1606.4352\\\\\n",
       "\t gas    & 168 & 11106.73 & 4557.894 &  351.6492\\\\\n",
       "\\end{tabular}\n"
      ],
      "text/markdown": [
       "\n",
       "A data.frame: 2 × 5\n",
       "\n",
       "| factor(fuel_type) &lt;fct&gt; | group_size &lt;int&gt; | price_mean &lt;dbl&gt; | price_std &lt;dbl&gt; | std_error_price &lt;dbl&gt; |\n",
       "|---|---|---|---|---|\n",
       "| diesel |  19 | 15008.58 | 7002.289 | 1606.4352 |\n",
       "| gas    | 168 | 11106.73 | 4557.894 |  351.6492 |\n",
       "\n"
      ],
      "text/plain": [
       "  factor(fuel_type) group_size price_mean price_std std_error_price\n",
       "1 diesel             19        15008.58   7002.289  1606.4352      \n",
       "2 gas               168        11106.73   4557.894   351.6492      "
      ]
     },
     "metadata": {},
     "output_type": "display_data"
    }
   ],
   "source": [
    "model_data <- ddply(auto_mobiles,\n",
    "~factor(fuel_type),\n",
    "summarize,\n",
    "group_size = length(price),\n",
    "price_mean = mean(price),\n",
    "price_std = sd(price),\n",
    "std_error_price = price_std / sqrt(group_size))\n",
    "\n",
    "model_data"
   ]
  },
  {
   "cell_type": "code",
   "execution_count": 12,
   "metadata": {},
   "outputs": [
    {
     "data": {
      "text/plain": [
       "\n",
       "\tWilcoxon rank sum test with continuity correction\n",
       "\n",
       "data:  auto_mobiles$price by auto_mobiles$fuel_type\n",
       "W = 2146, p-value = 0.014\n",
       "alternative hypothesis: true location shift is not equal to 0\n",
       "95 percent confidence interval:\n",
       "  503 6236\n",
       "sample estimates:\n",
       "difference in location \n",
       "              2807.712 \n"
      ]
     },
     "metadata": {},
     "output_type": "display_data"
    }
   ],
   "source": [
    "wilcox.test <- wilcox.test(auto_mobiles$price ~ auto_mobiles$fuel_type, data = auto_mobiles, conf.int=TRUE)\n",
    "\n",
    "wilcox.test"
   ]
  },
  {
   "cell_type": "code",
   "execution_count": 14,
   "metadata": {},
   "outputs": [
    {
     "data": {
      "image/png": "[encoded data removed]",
      "text/plain": [
       "plot without title"
      ]
     },
     "metadata": {
      "image/png": {
       "height": 210,
       "width": 360
      }
     },
     "output_type": "display_data"
    }
   ],
   "source": [
    "plot <- ggplot(data = auto_mobiles, aes(sample = price))\n",
    "\n",
    "plot + stat_qq() + stat_qq_line()"
   ]
  },
  {
   "cell_type": "code",
   "execution_count": 18,
   "metadata": {},
   "outputs": [
    {
     "data": {
      "image/png": "[encoded data removed]",
      "text/plain": [
       "plot without title"
      ]
     },
     "metadata": {
      "image/png": {
       "height": 210,
       "width": 360
      }
     },
     "output_type": "display_data"
    }
   ],
   "source": [
    "plot + stat_qq() + stat_qq_line() + facet_grid(. ~ fuel_type)"
   ]
  },
  {
   "cell_type": "code",
   "execution_count": 19,
   "metadata": {},
   "outputs": [
    {
     "name": "stderr",
     "output_type": "stream",
     "text": [
      "Installing package into 'C:/Users/natha/Documents/R/win-library/4.1'\n",
      "(as 'lib' is unspecified)\n",
      "\n",
      "Warning message:\n",
      "\"package 'r_conda' is not available for this version of R\n",
      "\n",
      "A version of this package for your version of R might be available elsewhere,\n",
      "see the ideas at\n",
      "https://cran.r-project.org/doc/manuals/r-patched/R-admin.html#Installing-packages\"\n"
     ]
    }
   ],
   "source": [
    "#install.packages(\"r_conda\")"
   ]
  },
  {
   "cell_type": "code",
   "execution_count": 20,
   "metadata": {},
   "outputs": [
    {
     "name": "stderr",
     "output_type": "stream",
     "text": [
      "Loading required package: carData\n",
      "\n",
      "\n",
      "Attaching package: 'car'\n",
      "\n",
      "\n",
      "The following object is masked from 'package:dplyr':\n",
      "\n",
      "    recode\n",
      "\n",
      "\n"
     ]
    }
   ],
   "source": [
    "library(car)"
   ]
  },
  {
   "cell_type": "code",
   "execution_count": 21,
   "metadata": {},
   "outputs": [
    {
     "name": "stderr",
     "output_type": "stream",
     "text": [
      "Warning message in leveneTest.default(y = y, group = group, ...):\n",
      "\"group coerced to factor.\"\n"
     ]
    },
    {
     "data": {
      "text/html": [
       "<table class=\"dataframe\">\n",
       "<caption>A anova: 2 × 3</caption>\n",
       "<thead>\n",
       "\t<tr><th></th><th scope=col>Df</th><th scope=col>F value</th><th scope=col>Pr(&gt;F)</th></tr>\n",
       "\t<tr><th></th><th scope=col>&lt;int&gt;</th><th scope=col>&lt;dbl&gt;</th><th scope=col>&lt;dbl&gt;</th></tr>\n",
       "</thead>\n",
       "<tbody>\n",
       "\t<tr><th scope=row>group</th><td>  1</td><td>6.037873</td><td>0.01492378</td></tr>\n",
       "\t<tr><th scope=row> </th><td>185</td><td>      NA</td><td>        NA</td></tr>\n",
       "</tbody>\n",
       "</table>\n"
      ],
      "text/latex": [
       "A anova: 2 × 3\n",
       "\\begin{tabular}{r|lll}\n",
       "  & Df & F value & Pr(>F)\\\\\n",
       "  & <int> & <dbl> & <dbl>\\\\\n",
       "\\hline\n",
       "\tgroup &   1 & 6.037873 & 0.01492378\\\\\n",
       "\t  & 185 &       NA &         NA\\\\\n",
       "\\end{tabular}\n"
      ],
      "text/markdown": [
       "\n",
       "A anova: 2 × 3\n",
       "\n",
       "| <!--/--> | Df &lt;int&gt; | F value &lt;dbl&gt; | Pr(&gt;F) &lt;dbl&gt; |\n",
       "|---|---|---|---|\n",
       "| group |   1 | 6.037873 | 0.01492378 |\n",
       "| <!----> | 185 |       NA |         NA |\n",
       "\n"
      ],
      "text/plain": [
       "      Df  F value  Pr(>F)    \n",
       "group   1 6.037873 0.01492378\n",
       "      185       NA         NA"
      ]
     },
     "metadata": {},
     "output_type": "display_data"
    }
   ],
   "source": [
    "leveneTest(price ~ fuel_type, data = auto_mobiles)"
   ]
  },
  {
   "cell_type": "code",
   "execution_count": 23,
   "metadata": {},
   "outputs": [
    {
     "data": {
      "text/plain": [
       "\n",
       "\tWelch Two Sample t-test\n",
       "\n",
       "data:  price by factor(fuel_type)\n",
       "t = 2.3727, df = 19.761, p-value = 0.02793\n",
       "alternative hypothesis: true difference in means between group diesel and group gas is not equal to 0\n",
       "95 percent confidence interval:\n",
       "  468.880 7334.814\n",
       "sample estimates:\n",
       "mean in group diesel    mean in group gas \n",
       "            15008.58             11106.73 \n"
      ]
     },
     "metadata": {},
     "output_type": "display_data"
    }
   ],
   "source": [
    "t_tests <- t.test(price ~ factor(fuel_type), data = auto_mobiles, alternative = \"two.sided\")\n",
    "\n",
    "t_tests"
   ]
  },
  {
   "cell_type": "code",
   "execution_count": null,
   "metadata": {},
   "outputs": [],
   "source": []
  }
 ],
 "metadata": {
  "kernelspec": {
   "display_name": "R",
   "language": "R",
   "name": "ir"
  },
  "language_info": {
   "codemirror_mode": "r",
   "file_extension": ".r",
   "mimetype": "text/x-r-source",
   "name": "R",
   "pygments_lexer": "r",
   "version": "4.1.2"
  },
  "orig_nbformat": 4
 },
 "nbformat": 4,
 "nbformat_minor": 2
}
