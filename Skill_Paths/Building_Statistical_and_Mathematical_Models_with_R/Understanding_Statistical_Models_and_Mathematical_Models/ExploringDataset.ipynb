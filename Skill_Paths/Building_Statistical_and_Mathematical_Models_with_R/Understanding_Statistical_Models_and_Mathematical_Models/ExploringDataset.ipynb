{
 "cells": [
  {
   "cell_type": "code",
   "execution_count": 1,
   "metadata": {},
   "outputs": [],
   "source": [
    "library(ggplot2)\n",
    "library(plyr)\n",
    "library(readxl)"
   ]
  },
  {
   "cell_type": "code",
   "execution_count": 2,
   "metadata": {},
   "outputs": [],
   "source": [
    "auto_mobile <- read.csv(\"datasets/Automobile.csv\")"
   ]
  },
  {
   "cell_type": "code",
   "execution_count": 3,
   "metadata": {},
   "outputs": [
    {
     "data": {
      "text/html": [
       "<table class=\"dataframe\">\n",
       "<caption>A data.frame: 5 × 26</caption>\n",
       "<thead>\n",
       "\t<tr><th></th><th scope=col>ï..symboling</th><th scope=col>normalized_losses</th><th scope=col>make</th><th scope=col>fuel_type</th><th scope=col>aspiration</th><th scope=col>number_of_doors</th><th scope=col>body_style</th><th scope=col>drive_wheels</th><th scope=col>engine_location</th><th scope=col>wheel_base</th><th scope=col>...</th><th scope=col>engine_size</th><th scope=col>fuel_system</th><th scope=col>bore</th><th scope=col>stroke</th><th scope=col>compression_ratio</th><th scope=col>horsepower</th><th scope=col>peak_rpm</th><th scope=col>city_mpg</th><th scope=col>highway_mpg</th><th scope=col>price</th></tr>\n",
       "\t<tr><th></th><th scope=col>&lt;int&gt;</th><th scope=col>&lt;int&gt;</th><th scope=col>&lt;chr&gt;</th><th scope=col>&lt;chr&gt;</th><th scope=col>&lt;chr&gt;</th><th scope=col>&lt;chr&gt;</th><th scope=col>&lt;chr&gt;</th><th scope=col>&lt;chr&gt;</th><th scope=col>&lt;chr&gt;</th><th scope=col>&lt;dbl&gt;</th><th scope=col>...</th><th scope=col>&lt;int&gt;</th><th scope=col>&lt;chr&gt;</th><th scope=col>&lt;dbl&gt;</th><th scope=col>&lt;dbl&gt;</th><th scope=col>&lt;dbl&gt;</th><th scope=col>&lt;int&gt;</th><th scope=col>&lt;int&gt;</th><th scope=col>&lt;int&gt;</th><th scope=col>&lt;int&gt;</th><th scope=col>&lt;int&gt;</th></tr>\n",
       "</thead>\n",
       "<tbody>\n",
       "\t<tr><th scope=row>1</th><td>3</td><td>168</td><td>alfa-romero</td><td>gas</td><td>std</td><td>two </td><td>convertible</td><td>rwd</td><td>front</td><td>88.6</td><td>...</td><td>130</td><td>mpfi</td><td>3.47</td><td>2.68</td><td> 9</td><td>111</td><td>5000</td><td>21</td><td>27</td><td>13495</td></tr>\n",
       "\t<tr><th scope=row>2</th><td>3</td><td>168</td><td>alfa-romero</td><td>gas</td><td>std</td><td>two </td><td>convertible</td><td>rwd</td><td>front</td><td>88.6</td><td>...</td><td>130</td><td>mpfi</td><td>3.47</td><td>2.68</td><td> 9</td><td>111</td><td>5000</td><td>21</td><td>27</td><td>16500</td></tr>\n",
       "\t<tr><th scope=row>3</th><td>1</td><td>168</td><td>alfa-romero</td><td>gas</td><td>std</td><td>two </td><td>hatchback  </td><td>rwd</td><td>front</td><td>94.5</td><td>...</td><td>152</td><td>mpfi</td><td>2.68</td><td>3.47</td><td> 9</td><td>154</td><td>5000</td><td>19</td><td>26</td><td>16500</td></tr>\n",
       "\t<tr><th scope=row>4</th><td>2</td><td>164</td><td>audi       </td><td>gas</td><td>std</td><td>four</td><td>sedan      </td><td>fwd</td><td>front</td><td>99.8</td><td>...</td><td>109</td><td>mpfi</td><td>3.19</td><td>3.40</td><td>10</td><td>102</td><td>5500</td><td>24</td><td>30</td><td>13950</td></tr>\n",
       "\t<tr><th scope=row>5</th><td>2</td><td>164</td><td>audi       </td><td>gas</td><td>std</td><td>four</td><td>sedan      </td><td>4wd</td><td>front</td><td>99.4</td><td>...</td><td>136</td><td>mpfi</td><td>3.19</td><td>3.40</td><td> 8</td><td>115</td><td>5500</td><td>18</td><td>22</td><td>17450</td></tr>\n",
       "</tbody>\n",
       "</table>\n"
      ],
      "text/latex": [
       "A data.frame: 5 × 26\n",
       "\\begin{tabular}{r|lllllllllllllllllllll}\n",
       "  & ï..symboling & normalized\\_losses & make & fuel\\_type & aspiration & number\\_of\\_doors & body\\_style & drive\\_wheels & engine\\_location & wheel\\_base & ... & engine\\_size & fuel\\_system & bore & stroke & compression\\_ratio & horsepower & peak\\_rpm & city\\_mpg & highway\\_mpg & price\\\\\n",
       "  & <int> & <int> & <chr> & <chr> & <chr> & <chr> & <chr> & <chr> & <chr> & <dbl> & ... & <int> & <chr> & <dbl> & <dbl> & <dbl> & <int> & <int> & <int> & <int> & <int>\\\\\n",
       "\\hline\n",
       "\t1 & 3 & 168 & alfa-romero & gas & std & two  & convertible & rwd & front & 88.6 & ... & 130 & mpfi & 3.47 & 2.68 &  9 & 111 & 5000 & 21 & 27 & 13495\\\\\n",
       "\t2 & 3 & 168 & alfa-romero & gas & std & two  & convertible & rwd & front & 88.6 & ... & 130 & mpfi & 3.47 & 2.68 &  9 & 111 & 5000 & 21 & 27 & 16500\\\\\n",
       "\t3 & 1 & 168 & alfa-romero & gas & std & two  & hatchback   & rwd & front & 94.5 & ... & 152 & mpfi & 2.68 & 3.47 &  9 & 154 & 5000 & 19 & 26 & 16500\\\\\n",
       "\t4 & 2 & 164 & audi        & gas & std & four & sedan       & fwd & front & 99.8 & ... & 109 & mpfi & 3.19 & 3.40 & 10 & 102 & 5500 & 24 & 30 & 13950\\\\\n",
       "\t5 & 2 & 164 & audi        & gas & std & four & sedan       & 4wd & front & 99.4 & ... & 136 & mpfi & 3.19 & 3.40 &  8 & 115 & 5500 & 18 & 22 & 17450\\\\\n",
       "\\end{tabular}\n"
      ],
      "text/markdown": [
       "\n",
       "A data.frame: 5 × 26\n",
       "\n",
       "| <!--/--> | ï..symboling &lt;int&gt; | normalized_losses &lt;int&gt; | make &lt;chr&gt; | fuel_type &lt;chr&gt; | aspiration &lt;chr&gt; | number_of_doors &lt;chr&gt; | body_style &lt;chr&gt; | drive_wheels &lt;chr&gt; | engine_location &lt;chr&gt; | wheel_base &lt;dbl&gt; | ... ... | engine_size &lt;int&gt; | fuel_system &lt;chr&gt; | bore &lt;dbl&gt; | stroke &lt;dbl&gt; | compression_ratio &lt;dbl&gt; | horsepower &lt;int&gt; | peak_rpm &lt;int&gt; | city_mpg &lt;int&gt; | highway_mpg &lt;int&gt; | price &lt;int&gt; |\n",
       "|---|---|---|---|---|---|---|---|---|---|---|---|---|---|---|---|---|---|---|---|---|---|\n",
       "| 1 | 3 | 168 | alfa-romero | gas | std | two  | convertible | rwd | front | 88.6 | ... | 130 | mpfi | 3.47 | 2.68 |  9 | 111 | 5000 | 21 | 27 | 13495 |\n",
       "| 2 | 3 | 168 | alfa-romero | gas | std | two  | convertible | rwd | front | 88.6 | ... | 130 | mpfi | 3.47 | 2.68 |  9 | 111 | 5000 | 21 | 27 | 16500 |\n",
       "| 3 | 1 | 168 | alfa-romero | gas | std | two  | hatchback   | rwd | front | 94.5 | ... | 152 | mpfi | 2.68 | 3.47 |  9 | 154 | 5000 | 19 | 26 | 16500 |\n",
       "| 4 | 2 | 164 | audi        | gas | std | four | sedan       | fwd | front | 99.8 | ... | 109 | mpfi | 3.19 | 3.40 | 10 | 102 | 5500 | 24 | 30 | 13950 |\n",
       "| 5 | 2 | 164 | audi        | gas | std | four | sedan       | 4wd | front | 99.4 | ... | 136 | mpfi | 3.19 | 3.40 |  8 | 115 | 5500 | 18 | 22 | 17450 |\n",
       "\n"
      ],
      "text/plain": [
       "  ï..symboling normalized_losses make        fuel_type aspiration\n",
       "1 3            168               alfa-romero gas       std       \n",
       "2 3            168               alfa-romero gas       std       \n",
       "3 1            168               alfa-romero gas       std       \n",
       "4 2            164               audi        gas       std       \n",
       "5 2            164               audi        gas       std       \n",
       "  number_of_doors body_style  drive_wheels engine_location wheel_base ...\n",
       "1 two             convertible rwd          front           88.6       ...\n",
       "2 two             convertible rwd          front           88.6       ...\n",
       "3 two             hatchback   rwd          front           94.5       ...\n",
       "4 four            sedan       fwd          front           99.8       ...\n",
       "5 four            sedan       4wd          front           99.4       ...\n",
       "  engine_size fuel_system bore stroke compression_ratio horsepower peak_rpm\n",
       "1 130         mpfi        3.47 2.68    9                111        5000    \n",
       "2 130         mpfi        3.47 2.68    9                111        5000    \n",
       "3 152         mpfi        2.68 3.47    9                154        5000    \n",
       "4 109         mpfi        3.19 3.40   10                102        5500    \n",
       "5 136         mpfi        3.19 3.40    8                115        5500    \n",
       "  city_mpg highway_mpg price\n",
       "1 21       27          13495\n",
       "2 21       27          16500\n",
       "3 19       26          16500\n",
       "4 24       30          13950\n",
       "5 18       22          17450"
      ]
     },
     "metadata": {},
     "output_type": "display_data"
    }
   ],
   "source": [
    "head(auto_mobile, 5)"
   ]
  },
  {
   "cell_type": "code",
   "execution_count": 4,
   "metadata": {},
   "outputs": [
    {
     "data": {
      "text/html": [
       "<style>\n",
       ".list-inline {list-style: none; margin:0; padding: 0}\n",
       ".list-inline>li {display: inline-block}\n",
       ".list-inline>li:not(:last-child)::after {content: \"\\00b7\"; padding: 0 .5ex}\n",
       "</style>\n",
       "<ol class=list-inline><li>201</li><li>26</li></ol>\n"
      ],
      "text/latex": [
       "\\begin{enumerate*}\n",
       "\\item 201\n",
       "\\item 26\n",
       "\\end{enumerate*}\n"
      ],
      "text/markdown": [
       "1. 201\n",
       "2. 26\n",
       "\n",
       "\n"
      ],
      "text/plain": [
       "[1] 201  26"
      ]
     },
     "metadata": {},
     "output_type": "display_data"
    }
   ],
   "source": [
    "dim(auto_mobile)"
   ]
  },
  {
   "cell_type": "code",
   "execution_count": 5,
   "metadata": {},
   "outputs": [
    {
     "data": {
      "text/html": [
       "<style>\n",
       ".list-inline {list-style: none; margin:0; padding: 0}\n",
       ".list-inline>li {display: inline-block}\n",
       ".list-inline>li:not(:last-child)::after {content: \"\\00b7\"; padding: 0 .5ex}\n",
       "</style>\n",
       "<ol class=list-inline><li>'ï..symboling'</li><li>'normalized_losses'</li><li>'make'</li><li>'fuel_type'</li><li>'aspiration'</li><li>'number_of_doors'</li><li>'body_style'</li><li>'drive_wheels'</li><li>'engine_location'</li><li>'wheel_base'</li><li>'length'</li><li>'width'</li><li>'height'</li><li>'curb_weight'</li><li>'engine_type'</li><li>'number_of_cylinders'</li><li>'engine_size'</li><li>'fuel_system'</li><li>'bore'</li><li>'stroke'</li><li>'compression_ratio'</li><li>'horsepower'</li><li>'peak_rpm'</li><li>'city_mpg'</li><li>'highway_mpg'</li><li>'price'</li></ol>\n"
      ],
      "text/latex": [
       "\\begin{enumerate*}\n",
       "\\item 'ï..symboling'\n",
       "\\item 'normalized\\_losses'\n",
       "\\item 'make'\n",
       "\\item 'fuel\\_type'\n",
       "\\item 'aspiration'\n",
       "\\item 'number\\_of\\_doors'\n",
       "\\item 'body\\_style'\n",
       "\\item 'drive\\_wheels'\n",
       "\\item 'engine\\_location'\n",
       "\\item 'wheel\\_base'\n",
       "\\item 'length'\n",
       "\\item 'width'\n",
       "\\item 'height'\n",
       "\\item 'curb\\_weight'\n",
       "\\item 'engine\\_type'\n",
       "\\item 'number\\_of\\_cylinders'\n",
       "\\item 'engine\\_size'\n",
       "\\item 'fuel\\_system'\n",
       "\\item 'bore'\n",
       "\\item 'stroke'\n",
       "\\item 'compression\\_ratio'\n",
       "\\item 'horsepower'\n",
       "\\item 'peak\\_rpm'\n",
       "\\item 'city\\_mpg'\n",
       "\\item 'highway\\_mpg'\n",
       "\\item 'price'\n",
       "\\end{enumerate*}\n"
      ],
      "text/markdown": [
       "1. 'ï..symboling'\n",
       "2. 'normalized_losses'\n",
       "3. 'make'\n",
       "4. 'fuel_type'\n",
       "5. 'aspiration'\n",
       "6. 'number_of_doors'\n",
       "7. 'body_style'\n",
       "8. 'drive_wheels'\n",
       "9. 'engine_location'\n",
       "10. 'wheel_base'\n",
       "11. 'length'\n",
       "12. 'width'\n",
       "13. 'height'\n",
       "14. 'curb_weight'\n",
       "15. 'engine_type'\n",
       "16. 'number_of_cylinders'\n",
       "17. 'engine_size'\n",
       "18. 'fuel_system'\n",
       "19. 'bore'\n",
       "20. 'stroke'\n",
       "21. 'compression_ratio'\n",
       "22. 'horsepower'\n",
       "23. 'peak_rpm'\n",
       "24. 'city_mpg'\n",
       "25. 'highway_mpg'\n",
       "26. 'price'\n",
       "\n",
       "\n"
      ],
      "text/plain": [
       " [1] \"ï..symboling\"        \"normalized_losses\"   \"make\"               \n",
       " [4] \"fuel_type\"           \"aspiration\"          \"number_of_doors\"    \n",
       " [7] \"body_style\"          \"drive_wheels\"        \"engine_location\"    \n",
       "[10] \"wheel_base\"          \"length\"              \"width\"              \n",
       "[13] \"height\"              \"curb_weight\"         \"engine_type\"        \n",
       "[16] \"number_of_cylinders\" \"engine_size\"         \"fuel_system\"        \n",
       "[19] \"bore\"                \"stroke\"              \"compression_ratio\"  \n",
       "[22] \"horsepower\"          \"peak_rpm\"            \"city_mpg\"           \n",
       "[25] \"highway_mpg\"         \"price\"              "
      ]
     },
     "metadata": {},
     "output_type": "display_data"
    }
   ],
   "source": [
    "colnames(auto_mobile)"
   ]
  },
  {
   "cell_type": "code",
   "execution_count": 6,
   "metadata": {},
   "outputs": [],
   "source": [
    "auto_mobile[ ,c(\"symboling\", \"make\", \"body_style\")] <- list(NULL)"
   ]
  },
  {
   "cell_type": "code",
   "execution_count": 7,
   "metadata": {},
   "outputs": [
    {
     "data": {
      "text/html": [
       "<style>\n",
       ".list-inline {list-style: none; margin:0; padding: 0}\n",
       ".list-inline>li {display: inline-block}\n",
       ".list-inline>li:not(:last-child)::after {content: \"\\00b7\"; padding: 0 .5ex}\n",
       "</style>\n",
       "<ol class=list-inline><li>201</li><li>24</li></ol>\n"
      ],
      "text/latex": [
       "\\begin{enumerate*}\n",
       "\\item 201\n",
       "\\item 24\n",
       "\\end{enumerate*}\n"
      ],
      "text/markdown": [
       "1. 201\n",
       "2. 24\n",
       "\n",
       "\n"
      ],
      "text/plain": [
       "[1] 201  24"
      ]
     },
     "metadata": {},
     "output_type": "display_data"
    }
   ],
   "source": [
    "dim(auto_mobile)"
   ]
  },
  {
   "cell_type": "code",
   "execution_count": 8,
   "metadata": {},
   "outputs": [
    {
     "data": {
      "text/html": [
       "<style>\n",
       ".dl-inline {width: auto; margin:0; padding: 0}\n",
       ".dl-inline>dt, .dl-inline>dd {float: none; width: auto; display: inline-block}\n",
       ".dl-inline>dt::after {content: \":\\0020\"; padding-right: .5ex}\n",
       ".dl-inline>dt:not(:first-of-type) {padding-left: .5ex}\n",
       "</style><dl class=dl-inline><dt>ï..symboling</dt><dd>0</dd><dt>normalized_losses</dt><dd>0</dd><dt>fuel_type</dt><dd>0</dd><dt>aspiration</dt><dd>0</dd><dt>number_of_doors</dt><dd>0</dd><dt>drive_wheels</dt><dd>0</dd><dt>engine_location</dt><dd>0</dd><dt>wheel_base</dt><dd>0</dd><dt>length</dt><dd>0</dd><dt>width</dt><dd>0</dd><dt>height</dt><dd>0</dd><dt>curb_weight</dt><dd>0</dd><dt>engine_type</dt><dd>0</dd><dt>number_of_cylinders</dt><dd>0</dd><dt>engine_size</dt><dd>0</dd><dt>fuel_system</dt><dd>0</dd><dt>bore</dt><dd>0</dd><dt>stroke</dt><dd>0</dd><dt>compression_ratio</dt><dd>0</dd><dt>horsepower</dt><dd>0</dd><dt>peak_rpm</dt><dd>0</dd><dt>city_mpg</dt><dd>0</dd><dt>highway_mpg</dt><dd>0</dd><dt>price</dt><dd>0</dd></dl>\n"
      ],
      "text/latex": [
       "\\begin{description*}\n",
       "\\item[ï..symboling] 0\n",
       "\\item[normalized\\textbackslash{}\\_losses] 0\n",
       "\\item[fuel\\textbackslash{}\\_type] 0\n",
       "\\item[aspiration] 0\n",
       "\\item[number\\textbackslash{}\\_of\\textbackslash{}\\_doors] 0\n",
       "\\item[drive\\textbackslash{}\\_wheels] 0\n",
       "\\item[engine\\textbackslash{}\\_location] 0\n",
       "\\item[wheel\\textbackslash{}\\_base] 0\n",
       "\\item[length] 0\n",
       "\\item[width] 0\n",
       "\\item[height] 0\n",
       "\\item[curb\\textbackslash{}\\_weight] 0\n",
       "\\item[engine\\textbackslash{}\\_type] 0\n",
       "\\item[number\\textbackslash{}\\_of\\textbackslash{}\\_cylinders] 0\n",
       "\\item[engine\\textbackslash{}\\_size] 0\n",
       "\\item[fuel\\textbackslash{}\\_system] 0\n",
       "\\item[bore] 0\n",
       "\\item[stroke] 0\n",
       "\\item[compression\\textbackslash{}\\_ratio] 0\n",
       "\\item[horsepower] 0\n",
       "\\item[peak\\textbackslash{}\\_rpm] 0\n",
       "\\item[city\\textbackslash{}\\_mpg] 0\n",
       "\\item[highway\\textbackslash{}\\_mpg] 0\n",
       "\\item[price] 0\n",
       "\\end{description*}\n"
      ],
      "text/markdown": [
       "ï..symboling\n",
       ":   0normalized_losses\n",
       ":   0fuel_type\n",
       ":   0aspiration\n",
       ":   0number_of_doors\n",
       ":   0drive_wheels\n",
       ":   0engine_location\n",
       ":   0wheel_base\n",
       ":   0length\n",
       ":   0width\n",
       ":   0height\n",
       ":   0curb_weight\n",
       ":   0engine_type\n",
       ":   0number_of_cylinders\n",
       ":   0engine_size\n",
       ":   0fuel_system\n",
       ":   0bore\n",
       ":   0stroke\n",
       ":   0compression_ratio\n",
       ":   0horsepower\n",
       ":   0peak_rpm\n",
       ":   0city_mpg\n",
       ":   0highway_mpg\n",
       ":   0price\n",
       ":   0\n",
       "\n"
      ],
      "text/plain": [
       "       ï..symboling   normalized_losses           fuel_type          aspiration \n",
       "                  0                   0                   0                   0 \n",
       "    number_of_doors        drive_wheels     engine_location          wheel_base \n",
       "                  0                   0                   0                   0 \n",
       "             length               width              height         curb_weight \n",
       "                  0                   0                   0                   0 \n",
       "        engine_type number_of_cylinders         engine_size         fuel_system \n",
       "                  0                   0                   0                   0 \n",
       "               bore              stroke   compression_ratio          horsepower \n",
       "                  0                   0                   0                   0 \n",
       "           peak_rpm            city_mpg         highway_mpg               price \n",
       "                  0                   0                   0                   0 "
      ]
     },
     "metadata": {},
     "output_type": "display_data"
    }
   ],
   "source": [
    "colSums(is.na(auto_mobile))"
   ]
  },
  {
   "cell_type": "code",
   "execution_count": 9,
   "metadata": {},
   "outputs": [
    {
     "name": "stdout",
     "output_type": "stream",
     "text": [
      "'data.frame':\t201 obs. of  24 variables:\n",
      " $ ï..symboling       : int  3 3 1 2 2 2 1 1 1 2 ...\n",
      " $ normalized_losses  : int  168 168 168 164 164 161 158 168 158 192 ...\n",
      " $ fuel_type          : chr  \"gas\" \"gas\" \"gas\" \"gas\" ...\n",
      " $ aspiration         : chr  \"std\" \"std\" \"std\" \"std\" ...\n",
      " $ number_of_doors    : chr  \"two\" \"two\" \"two\" \"four\" ...\n",
      " $ drive_wheels       : chr  \"rwd\" \"rwd\" \"rwd\" \"fwd\" ...\n",
      " $ engine_location    : chr  \"front\" \"front\" \"front\" \"front\" ...\n",
      " $ wheel_base         : num  88.6 88.6 94.5 99.8 99.4 ...\n",
      " $ length             : num  169 169 171 177 177 ...\n",
      " $ width              : num  64.1 64.1 65.5 66.2 66.4 66.3 71.4 71.4 71.4 64.8 ...\n",
      " $ height             : num  48.8 48.8 52.4 54.3 54.3 53.1 55.7 55.7 55.9 54.3 ...\n",
      " $ curb_weight        : int  2548 2548 2823 2337 2824 2507 2844 2954 3086 2395 ...\n",
      " $ engine_type        : chr  \"dohc\" \"dohc\" \"ohcv\" \"ohc\" ...\n",
      " $ number_of_cylinders: chr  \"four\" \"four\" \"six\" \"four\" ...\n",
      " $ engine_size        : int  130 130 152 109 136 136 136 136 131 108 ...\n",
      " $ fuel_system        : chr  \"mpfi\" \"mpfi\" \"mpfi\" \"mpfi\" ...\n",
      " $ bore               : num  3.47 3.47 2.68 3.19 3.19 3.19 3.19 3.19 3.13 3.5 ...\n",
      " $ stroke             : num  2.68 2.68 3.47 3.4 3.4 3.4 3.4 3.4 3.4 2.8 ...\n",
      " $ compression_ratio  : num  9 9 9 10 8 8.5 8.5 8.5 8.3 8.8 ...\n",
      " $ horsepower         : int  111 111 154 102 115 110 110 110 140 101 ...\n",
      " $ peak_rpm           : int  5000 5000 5000 5500 5500 5500 5500 5500 5500 5800 ...\n",
      " $ city_mpg           : int  21 21 19 24 18 19 19 19 17 23 ...\n",
      " $ highway_mpg        : int  27 27 26 30 22 25 25 25 20 29 ...\n",
      " $ price              : int  13495 16500 16500 13950 17450 15250 17710 18920 23875 16430 ...\n"
     ]
    }
   ],
   "source": [
    "str(auto_mobile)"
   ]
  },
  {
   "cell_type": "code",
   "execution_count": 10,
   "metadata": {},
   "outputs": [
    {
     "data": {
      "text/html": [
       "<style>\n",
       ".list-inline {list-style: none; margin:0; padding: 0}\n",
       ".list-inline>li {display: inline-block}\n",
       ".list-inline>li:not(:last-child)::after {content: \"\\00b7\"; padding: 0 .5ex}\n",
       "</style>\n",
       "<ol class=list-inline><li>'gas'</li><li>'diesel'</li></ol>\n"
      ],
      "text/latex": [
       "\\begin{enumerate*}\n",
       "\\item 'gas'\n",
       "\\item 'diesel'\n",
       "\\end{enumerate*}\n"
      ],
      "text/markdown": [
       "1. 'gas'\n",
       "2. 'diesel'\n",
       "\n",
       "\n"
      ],
      "text/plain": [
       "[1] \"gas\"    \"diesel\""
      ]
     },
     "metadata": {},
     "output_type": "display_data"
    }
   ],
   "source": [
    "unique(auto_mobile$fuel_type)"
   ]
  },
  {
   "cell_type": "code",
   "execution_count": 11,
   "metadata": {},
   "outputs": [
    {
     "data": {
      "text/plain": [
       "\n",
       "diesel    gas \n",
       "    20    181 "
      ]
     },
     "metadata": {},
     "output_type": "display_data"
    }
   ],
   "source": [
    "table(auto_mobile$fuel_type)"
   ]
  },
  {
   "cell_type": "code",
   "execution_count": 12,
   "metadata": {},
   "outputs": [
    {
     "data": {
      "text/plain": [
       "\n",
       "four  two \n",
       " 114   87 "
      ]
     },
     "metadata": {},
     "output_type": "display_data"
    }
   ],
   "source": [
    "table(auto_mobile$number_of_doors)"
   ]
  },
  {
   "cell_type": "code",
   "execution_count": 13,
   "metadata": {},
   "outputs": [
    {
     "data": {
      "text/plain": [
       "\n",
       " eight   five   four    six  three twelve    two \n",
       "     4     10    157     24      1      1      4 "
      ]
     },
     "metadata": {},
     "output_type": "display_data"
    }
   ],
   "source": [
    "table(auto_mobile$number_of_cylinders)"
   ]
  },
  {
   "cell_type": "code",
   "execution_count": 14,
   "metadata": {},
   "outputs": [],
   "source": [
    "options(repr.plot.width = 6, repr.plot.height = 3.5)"
   ]
  },
  {
   "cell_type": "code",
   "execution_count": 15,
   "metadata": {},
   "outputs": [
    {
     "data": {
      "image/png": "[encoded data removed]",
      "text/plain": [
       "plot without title"
      ]
     },
     "metadata": {
      "image/png": {
       "height": 210,
       "width": 360
      }
     },
     "output_type": "display_data"
    }
   ],
   "source": [
    "g <- ggplot(auto_mobile, aes(number_of_cylinders))\n",
    "\n",
    "g + geom_bar() + theme(aspect.ratio = 0.5)"
   ]
  },
  {
   "cell_type": "code",
   "execution_count": 16,
   "metadata": {},
   "outputs": [
    {
     "data": {
      "image/png": "[encoded data removed]",
      "text/plain": [
       "plot without title"
      ]
     },
     "metadata": {
      "image/png": {
       "height": 210,
       "width": 360
      }
     },
     "output_type": "display_data"
    }
   ],
   "source": [
    "g <- ggplot(auto_mobile, aes(fuel_type))\n",
    "\n",
    "g + geom_bar() + theme(aspect.ratio = 0.5)"
   ]
  },
  {
   "cell_type": "code",
   "execution_count": 17,
   "metadata": {},
   "outputs": [
    {
     "data": {
      "image/png": "[encoded data removed]",
      "text/plain": [
       "plot without title"
      ]
     },
     "metadata": {
      "image/png": {
       "height": 210,
       "width": 360
      }
     },
     "output_type": "display_data"
    }
   ],
   "source": [
    "ggplot(auto_mobile, aes(x = horsepower, y = city_mpg)) + geom_point(col = \"purple\")"
   ]
  },
  {
   "cell_type": "code",
   "execution_count": 18,
   "metadata": {},
   "outputs": [
    {
     "data": {
      "image/png": "[encoded data removed]",
      "text/plain": [
       "plot without title"
      ]
     },
     "metadata": {
      "image/png": {
       "height": 210,
       "width": 360
      }
     },
     "output_type": "display_data"
    }
   ],
   "source": [
    "ggplot(auto_mobile, aes(x=city_mpg, y=price)) + geom_point(col=\"darkgreen\")"
   ]
  },
  {
   "cell_type": "code",
   "execution_count": 19,
   "metadata": {},
   "outputs": [
    {
     "data": {
      "image/png": "[encoded data removed]",
      "text/plain": [
       "plot without title"
      ]
     },
     "metadata": {
      "image/png": {
       "height": 210,
       "width": 360
      }
     },
     "output_type": "display_data"
    }
   ],
   "source": [
    "price_boxplot <- boxplot(auto_mobile$price, col=\"#2E86C1\")"
   ]
  },
  {
   "cell_type": "code",
   "execution_count": 20,
   "metadata": {},
   "outputs": [
    {
     "data": {
      "text/html": [
       "<dl>\n",
       "\t<dt>$stats</dt>\n",
       "\t\t<dd><table class=\"dataframe\">\n",
       "<caption>A matrix: 5 × 1 of type dbl</caption>\n",
       "<tbody>\n",
       "\t<tr><td> 5118</td></tr>\n",
       "\t<tr><td> 7775</td></tr>\n",
       "\t<tr><td>10295</td></tr>\n",
       "\t<tr><td>16500</td></tr>\n",
       "\t<tr><td>28248</td></tr>\n",
       "</tbody>\n",
       "</table>\n",
       "</dd>\n",
       "\t<dt>$n</dt>\n",
       "\t\t<dd>201</dd>\n",
       "\t<dt>$conf</dt>\n",
       "\t\t<dd><table class=\"dataframe\">\n",
       "<caption>A matrix: 2 × 1 of type dbl</caption>\n",
       "<tbody>\n",
       "\t<tr><td> 9322.646</td></tr>\n",
       "\t<tr><td>11267.354</td></tr>\n",
       "</tbody>\n",
       "</table>\n",
       "</dd>\n",
       "\t<dt>$out</dt>\n",
       "\t\t<dd><style>\n",
       ".list-inline {list-style: none; margin:0; padding: 0}\n",
       ".list-inline>li {display: inline-block}\n",
       ".list-inline>li:not(:last-child)::after {content: \"\\00b7\"; padding: 0 .5ex}\n",
       "</style>\n",
       "<ol class=list-inline><li>30760</li><li>41315</li><li>36880</li><li>32250</li><li>35550</li><li>36000</li><li>31600</li><li>34184</li><li>35056</li><li>40960</li><li>45400</li><li>32528</li><li>34028</li><li>37028</li></ol>\n",
       "</dd>\n",
       "\t<dt>$group</dt>\n",
       "\t\t<dd><style>\n",
       ".list-inline {list-style: none; margin:0; padding: 0}\n",
       ".list-inline>li {display: inline-block}\n",
       ".list-inline>li:not(:last-child)::after {content: \"\\00b7\"; padding: 0 .5ex}\n",
       "</style>\n",
       "<ol class=list-inline><li>1</li><li>1</li><li>1</li><li>1</li><li>1</li><li>1</li><li>1</li><li>1</li><li>1</li><li>1</li><li>1</li><li>1</li><li>1</li><li>1</li></ol>\n",
       "</dd>\n",
       "\t<dt>$names</dt>\n",
       "\t\t<dd>'1'</dd>\n",
       "</dl>\n"
      ],
      "text/latex": [
       "\\begin{description}\n",
       "\\item[\\$stats] A matrix: 5 × 1 of type dbl\n",
       "\\begin{tabular}{l}\n",
       "\t  5118\\\\\n",
       "\t  7775\\\\\n",
       "\t 10295\\\\\n",
       "\t 16500\\\\\n",
       "\t 28248\\\\\n",
       "\\end{tabular}\n",
       "\n",
       "\\item[\\$n] 201\n",
       "\\item[\\$conf] A matrix: 2 × 1 of type dbl\n",
       "\\begin{tabular}{l}\n",
       "\t  9322.646\\\\\n",
       "\t 11267.354\\\\\n",
       "\\end{tabular}\n",
       "\n",
       "\\item[\\$out] \\begin{enumerate*}\n",
       "\\item 30760\n",
       "\\item 41315\n",
       "\\item 36880\n",
       "\\item 32250\n",
       "\\item 35550\n",
       "\\item 36000\n",
       "\\item 31600\n",
       "\\item 34184\n",
       "\\item 35056\n",
       "\\item 40960\n",
       "\\item 45400\n",
       "\\item 32528\n",
       "\\item 34028\n",
       "\\item 37028\n",
       "\\end{enumerate*}\n",
       "\n",
       "\\item[\\$group] \\begin{enumerate*}\n",
       "\\item 1\n",
       "\\item 1\n",
       "\\item 1\n",
       "\\item 1\n",
       "\\item 1\n",
       "\\item 1\n",
       "\\item 1\n",
       "\\item 1\n",
       "\\item 1\n",
       "\\item 1\n",
       "\\item 1\n",
       "\\item 1\n",
       "\\item 1\n",
       "\\item 1\n",
       "\\end{enumerate*}\n",
       "\n",
       "\\item[\\$names] '1'\n",
       "\\end{description}\n"
      ],
      "text/markdown": [
       "$stats\n",
       ":   \n",
       "A matrix: 5 × 1 of type dbl\n",
       "\n",
       "|  5118 |\n",
       "|  7775 |\n",
       "| 10295 |\n",
       "| 16500 |\n",
       "| 28248 |\n",
       "\n",
       "\n",
       "$n\n",
       ":   201\n",
       "$conf\n",
       ":   \n",
       "A matrix: 2 × 1 of type dbl\n",
       "\n",
       "|  9322.646 |\n",
       "| 11267.354 |\n",
       "\n",
       "\n",
       "$out\n",
       ":   1. 30760\n",
       "2. 41315\n",
       "3. 36880\n",
       "4. 32250\n",
       "5. 35550\n",
       "6. 36000\n",
       "7. 31600\n",
       "8. 34184\n",
       "9. 35056\n",
       "10. 40960\n",
       "11. 45400\n",
       "12. 32528\n",
       "13. 34028\n",
       "14. 37028\n",
       "\n",
       "\n",
       "\n",
       "$group\n",
       ":   1. 1\n",
       "2. 1\n",
       "3. 1\n",
       "4. 1\n",
       "5. 1\n",
       "6. 1\n",
       "7. 1\n",
       "8. 1\n",
       "9. 1\n",
       "10. 1\n",
       "11. 1\n",
       "12. 1\n",
       "13. 1\n",
       "14. 1\n",
       "\n",
       "\n",
       "\n",
       "$names\n",
       ":   '1'\n",
       "\n",
       "\n"
      ],
      "text/plain": [
       "$stats\n",
       "      [,1]\n",
       "[1,]  5118\n",
       "[2,]  7775\n",
       "[3,] 10295\n",
       "[4,] 16500\n",
       "[5,] 28248\n",
       "\n",
       "$n\n",
       "[1] 201\n",
       "\n",
       "$conf\n",
       "          [,1]\n",
       "[1,]  9322.646\n",
       "[2,] 11267.354\n",
       "\n",
       "$out\n",
       " [1] 30760 41315 36880 32250 35550 36000 31600 34184 35056 40960 45400 32528\n",
       "[13] 34028 37028\n",
       "\n",
       "$group\n",
       " [1] 1 1 1 1 1 1 1 1 1 1 1 1 1 1\n",
       "\n",
       "$names\n",
       "[1] \"1\"\n"
      ]
     },
     "metadata": {},
     "output_type": "display_data"
    }
   ],
   "source": [
    "price_boxplot"
   ]
  },
  {
   "cell_type": "code",
   "execution_count": 21,
   "metadata": {},
   "outputs": [
    {
     "data": {
      "text/html": [
       "<style>\n",
       ".list-inline {list-style: none; margin:0; padding: 0}\n",
       ".list-inline>li {display: inline-block}\n",
       ".list-inline>li:not(:last-child)::after {content: \"\\00b7\"; padding: 0 .5ex}\n",
       "</style>\n",
       "<ol class=list-inline><li>30760</li><li>41315</li><li>36880</li><li>32250</li><li>35550</li><li>36000</li><li>31600</li><li>34184</li><li>35056</li><li>40960</li><li>45400</li><li>32528</li><li>34028</li><li>37028</li></ol>\n"
      ],
      "text/latex": [
       "\\begin{enumerate*}\n",
       "\\item 30760\n",
       "\\item 41315\n",
       "\\item 36880\n",
       "\\item 32250\n",
       "\\item 35550\n",
       "\\item 36000\n",
       "\\item 31600\n",
       "\\item 34184\n",
       "\\item 35056\n",
       "\\item 40960\n",
       "\\item 45400\n",
       "\\item 32528\n",
       "\\item 34028\n",
       "\\item 37028\n",
       "\\end{enumerate*}\n"
      ],
      "text/markdown": [
       "1. 30760\n",
       "2. 41315\n",
       "3. 36880\n",
       "4. 32250\n",
       "5. 35550\n",
       "6. 36000\n",
       "7. 31600\n",
       "8. 34184\n",
       "9. 35056\n",
       "10. 40960\n",
       "11. 45400\n",
       "12. 32528\n",
       "13. 34028\n",
       "14. 37028\n",
       "\n",
       "\n"
      ],
      "text/plain": [
       " [1] 30760 41315 36880 32250 35550 36000 31600 34184 35056 40960 45400 32528\n",
       "[13] 34028 37028"
      ]
     },
     "metadata": {},
     "output_type": "display_data"
    }
   ],
   "source": [
    "price_boxplot$out"
   ]
  },
  {
   "cell_type": "code",
   "execution_count": 22,
   "metadata": {},
   "outputs": [],
   "source": [
    "auto_mobile <- auto_mobile[-which(auto_mobile$price %in% price_boxplot$out),]"
   ]
  },
  {
   "cell_type": "code",
   "execution_count": 23,
   "metadata": {},
   "outputs": [
    {
     "data": {
      "text/html": [
       "<style>\n",
       ".list-inline {list-style: none; margin:0; padding: 0}\n",
       ".list-inline>li {display: inline-block}\n",
       ".list-inline>li:not(:last-child)::after {content: \"\\00b7\"; padding: 0 .5ex}\n",
       "</style>\n",
       "<ol class=list-inline><li>187</li><li>24</li></ol>\n"
      ],
      "text/latex": [
       "\\begin{enumerate*}\n",
       "\\item 187\n",
       "\\item 24\n",
       "\\end{enumerate*}\n"
      ],
      "text/markdown": [
       "1. 187\n",
       "2. 24\n",
       "\n",
       "\n"
      ],
      "text/plain": [
       "[1] 187  24"
      ]
     },
     "metadata": {},
     "output_type": "display_data"
    }
   ],
   "source": [
    "dim(auto_mobile)"
   ]
  },
  {
   "cell_type": "code",
   "execution_count": 24,
   "metadata": {},
   "outputs": [],
   "source": [
    "#write.csv(auto_mobile, file=\"datasets/auto_mobiles_processed.csv\", row.names=FALSE)"
   ]
  },
  {
   "cell_type": "code",
   "execution_count": null,
   "metadata": {},
   "outputs": [],
   "source": []
  }
 ],
 "metadata": {
  "kernelspec": {
   "display_name": "R",
   "language": "R",
   "name": "ir"
  },
  "language_info": {
   "codemirror_mode": "r",
   "file_extension": ".r",
   "mimetype": "text/x-r-source",
   "name": "R",
   "pygments_lexer": "r",
   "version": "4.1.2"
  },
  "orig_nbformat": 4
 },
 "nbformat": 4,
 "nbformat_minor": 2
}
