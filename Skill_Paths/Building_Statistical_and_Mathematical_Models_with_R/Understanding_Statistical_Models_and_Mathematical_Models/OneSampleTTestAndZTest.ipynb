{
 "cells": [
  {
   "cell_type": "code",
   "execution_count": 1,
   "metadata": {},
   "outputs": [],
   "source": [
    "#install.packages(\"ggpubr\")"
   ]
  },
  {
   "cell_type": "code",
   "execution_count": 2,
   "metadata": {},
   "outputs": [
    {
     "name": "stderr",
     "output_type": "stream",
     "text": [
      "\n",
      "Attaching package: 'ggpubr'\n",
      "\n",
      "\n",
      "The following object is masked from 'package:plyr':\n",
      "\n",
      "    mutate\n",
      "\n",
      "\n"
     ]
    }
   ],
   "source": [
    "library(ggplot2)\n",
    "library(plyr)\n",
    "library(ggpubr)"
   ]
  },
  {
   "cell_type": "code",
   "execution_count": 3,
   "metadata": {},
   "outputs": [],
   "source": [
    "options(repr.plot.width=6, repr.plot.height=3.5)"
   ]
  },
  {
   "cell_type": "code",
   "execution_count": 4,
   "metadata": {},
   "outputs": [
    {
     "data": {
      "text/html": [
       "<table class=\"dataframe\">\n",
       "<caption>A data.frame: 10 × 23</caption>\n",
       "<thead>\n",
       "\t<tr><th></th><th scope=col>normalized_losses</th><th scope=col>fuel_type</th><th scope=col>aspiration</th><th scope=col>number_of_doors</th><th scope=col>drive_wheels</th><th scope=col>engine_location</th><th scope=col>wheel_base</th><th scope=col>length</th><th scope=col>width</th><th scope=col>height</th><th scope=col>...</th><th scope=col>engine_size</th><th scope=col>fuel_system</th><th scope=col>bore</th><th scope=col>stroke</th><th scope=col>compression_ratio</th><th scope=col>horsepower</th><th scope=col>peak_rpm</th><th scope=col>city_mpg</th><th scope=col>highway_mpg</th><th scope=col>price</th></tr>\n",
       "\t<tr><th></th><th scope=col>&lt;int&gt;</th><th scope=col>&lt;chr&gt;</th><th scope=col>&lt;chr&gt;</th><th scope=col>&lt;chr&gt;</th><th scope=col>&lt;chr&gt;</th><th scope=col>&lt;chr&gt;</th><th scope=col>&lt;dbl&gt;</th><th scope=col>&lt;dbl&gt;</th><th scope=col>&lt;dbl&gt;</th><th scope=col>&lt;dbl&gt;</th><th scope=col>...</th><th scope=col>&lt;int&gt;</th><th scope=col>&lt;chr&gt;</th><th scope=col>&lt;dbl&gt;</th><th scope=col>&lt;dbl&gt;</th><th scope=col>&lt;dbl&gt;</th><th scope=col>&lt;int&gt;</th><th scope=col>&lt;int&gt;</th><th scope=col>&lt;int&gt;</th><th scope=col>&lt;int&gt;</th><th scope=col>&lt;int&gt;</th></tr>\n",
       "</thead>\n",
       "<tbody>\n",
       "\t<tr><th scope=row>1</th><td>168</td><td>gas</td><td>std  </td><td>two </td><td>rwd</td><td>front</td><td> 88.6</td><td>168.8</td><td>64.1</td><td>48.8</td><td>...</td><td>130</td><td>mpfi</td><td>3.47</td><td>2.68</td><td> 9.0</td><td>111</td><td>5000</td><td>21</td><td>27</td><td>13495</td></tr>\n",
       "\t<tr><th scope=row>2</th><td>168</td><td>gas</td><td>std  </td><td>two </td><td>rwd</td><td>front</td><td> 88.6</td><td>168.8</td><td>64.1</td><td>48.8</td><td>...</td><td>130</td><td>mpfi</td><td>3.47</td><td>2.68</td><td> 9.0</td><td>111</td><td>5000</td><td>21</td><td>27</td><td>16500</td></tr>\n",
       "\t<tr><th scope=row>3</th><td>168</td><td>gas</td><td>std  </td><td>two </td><td>rwd</td><td>front</td><td> 94.5</td><td>171.2</td><td>65.5</td><td>52.4</td><td>...</td><td>152</td><td>mpfi</td><td>2.68</td><td>3.47</td><td> 9.0</td><td>154</td><td>5000</td><td>19</td><td>26</td><td>16500</td></tr>\n",
       "\t<tr><th scope=row>4</th><td>164</td><td>gas</td><td>std  </td><td>four</td><td>fwd</td><td>front</td><td> 99.8</td><td>176.6</td><td>66.2</td><td>54.3</td><td>...</td><td>109</td><td>mpfi</td><td>3.19</td><td>3.40</td><td>10.0</td><td>102</td><td>5500</td><td>24</td><td>30</td><td>13950</td></tr>\n",
       "\t<tr><th scope=row>5</th><td>164</td><td>gas</td><td>std  </td><td>four</td><td>4wd</td><td>front</td><td> 99.4</td><td>176.6</td><td>66.4</td><td>54.3</td><td>...</td><td>136</td><td>mpfi</td><td>3.19</td><td>3.40</td><td> 8.0</td><td>115</td><td>5500</td><td>18</td><td>22</td><td>17450</td></tr>\n",
       "\t<tr><th scope=row>6</th><td>161</td><td>gas</td><td>std  </td><td>two </td><td>fwd</td><td>front</td><td> 99.8</td><td>177.3</td><td>66.3</td><td>53.1</td><td>...</td><td>136</td><td>mpfi</td><td>3.19</td><td>3.40</td><td> 8.5</td><td>110</td><td>5500</td><td>19</td><td>25</td><td>15250</td></tr>\n",
       "\t<tr><th scope=row>7</th><td>158</td><td>gas</td><td>std  </td><td>four</td><td>fwd</td><td>front</td><td>105.8</td><td>192.7</td><td>71.4</td><td>55.7</td><td>...</td><td>136</td><td>mpfi</td><td>3.19</td><td>3.40</td><td> 8.5</td><td>110</td><td>5500</td><td>19</td><td>25</td><td>17710</td></tr>\n",
       "\t<tr><th scope=row>8</th><td>168</td><td>gas</td><td>std  </td><td>four</td><td>fwd</td><td>front</td><td>105.8</td><td>192.7</td><td>71.4</td><td>55.7</td><td>...</td><td>136</td><td>mpfi</td><td>3.19</td><td>3.40</td><td> 8.5</td><td>110</td><td>5500</td><td>19</td><td>25</td><td>18920</td></tr>\n",
       "\t<tr><th scope=row>9</th><td>158</td><td>gas</td><td>turbo</td><td>four</td><td>fwd</td><td>front</td><td>105.8</td><td>192.7</td><td>71.4</td><td>55.9</td><td>...</td><td>131</td><td>mpfi</td><td>3.13</td><td>3.40</td><td> 8.3</td><td>140</td><td>5500</td><td>17</td><td>20</td><td>23875</td></tr>\n",
       "\t<tr><th scope=row>10</th><td>192</td><td>gas</td><td>std  </td><td>two </td><td>rwd</td><td>front</td><td>101.2</td><td>176.8</td><td>64.8</td><td>54.3</td><td>...</td><td>108</td><td>mpfi</td><td>3.50</td><td>2.80</td><td> 8.8</td><td>101</td><td>5800</td><td>23</td><td>29</td><td>16430</td></tr>\n",
       "</tbody>\n",
       "</table>\n"
      ],
      "text/latex": [
       "A data.frame: 10 × 23\n",
       "\\begin{tabular}{r|lllllllllllllllllllll}\n",
       "  & normalized\\_losses & fuel\\_type & aspiration & number\\_of\\_doors & drive\\_wheels & engine\\_location & wheel\\_base & length & width & height & ... & engine\\_size & fuel\\_system & bore & stroke & compression\\_ratio & horsepower & peak\\_rpm & city\\_mpg & highway\\_mpg & price\\\\\n",
       "  & <int> & <chr> & <chr> & <chr> & <chr> & <chr> & <dbl> & <dbl> & <dbl> & <dbl> & ... & <int> & <chr> & <dbl> & <dbl> & <dbl> & <int> & <int> & <int> & <int> & <int>\\\\\n",
       "\\hline\n",
       "\t1 & 168 & gas & std   & two  & rwd & front &  88.6 & 168.8 & 64.1 & 48.8 & ... & 130 & mpfi & 3.47 & 2.68 &  9.0 & 111 & 5000 & 21 & 27 & 13495\\\\\n",
       "\t2 & 168 & gas & std   & two  & rwd & front &  88.6 & 168.8 & 64.1 & 48.8 & ... & 130 & mpfi & 3.47 & 2.68 &  9.0 & 111 & 5000 & 21 & 27 & 16500\\\\\n",
       "\t3 & 168 & gas & std   & two  & rwd & front &  94.5 & 171.2 & 65.5 & 52.4 & ... & 152 & mpfi & 2.68 & 3.47 &  9.0 & 154 & 5000 & 19 & 26 & 16500\\\\\n",
       "\t4 & 164 & gas & std   & four & fwd & front &  99.8 & 176.6 & 66.2 & 54.3 & ... & 109 & mpfi & 3.19 & 3.40 & 10.0 & 102 & 5500 & 24 & 30 & 13950\\\\\n",
       "\t5 & 164 & gas & std   & four & 4wd & front &  99.4 & 176.6 & 66.4 & 54.3 & ... & 136 & mpfi & 3.19 & 3.40 &  8.0 & 115 & 5500 & 18 & 22 & 17450\\\\\n",
       "\t6 & 161 & gas & std   & two  & fwd & front &  99.8 & 177.3 & 66.3 & 53.1 & ... & 136 & mpfi & 3.19 & 3.40 &  8.5 & 110 & 5500 & 19 & 25 & 15250\\\\\n",
       "\t7 & 158 & gas & std   & four & fwd & front & 105.8 & 192.7 & 71.4 & 55.7 & ... & 136 & mpfi & 3.19 & 3.40 &  8.5 & 110 & 5500 & 19 & 25 & 17710\\\\\n",
       "\t8 & 168 & gas & std   & four & fwd & front & 105.8 & 192.7 & 71.4 & 55.7 & ... & 136 & mpfi & 3.19 & 3.40 &  8.5 & 110 & 5500 & 19 & 25 & 18920\\\\\n",
       "\t9 & 158 & gas & turbo & four & fwd & front & 105.8 & 192.7 & 71.4 & 55.9 & ... & 131 & mpfi & 3.13 & 3.40 &  8.3 & 140 & 5500 & 17 & 20 & 23875\\\\\n",
       "\t10 & 192 & gas & std   & two  & rwd & front & 101.2 & 176.8 & 64.8 & 54.3 & ... & 108 & mpfi & 3.50 & 2.80 &  8.8 & 101 & 5800 & 23 & 29 & 16430\\\\\n",
       "\\end{tabular}\n"
      ],
      "text/markdown": [
       "\n",
       "A data.frame: 10 × 23\n",
       "\n",
       "| <!--/--> | normalized_losses &lt;int&gt; | fuel_type &lt;chr&gt; | aspiration &lt;chr&gt; | number_of_doors &lt;chr&gt; | drive_wheels &lt;chr&gt; | engine_location &lt;chr&gt; | wheel_base &lt;dbl&gt; | length &lt;dbl&gt; | width &lt;dbl&gt; | height &lt;dbl&gt; | ... ... | engine_size &lt;int&gt; | fuel_system &lt;chr&gt; | bore &lt;dbl&gt; | stroke &lt;dbl&gt; | compression_ratio &lt;dbl&gt; | horsepower &lt;int&gt; | peak_rpm &lt;int&gt; | city_mpg &lt;int&gt; | highway_mpg &lt;int&gt; | price &lt;int&gt; |\n",
       "|---|---|---|---|---|---|---|---|---|---|---|---|---|---|---|---|---|---|---|---|---|---|\n",
       "| 1 | 168 | gas | std   | two  | rwd | front |  88.6 | 168.8 | 64.1 | 48.8 | ... | 130 | mpfi | 3.47 | 2.68 |  9.0 | 111 | 5000 | 21 | 27 | 13495 |\n",
       "| 2 | 168 | gas | std   | two  | rwd | front |  88.6 | 168.8 | 64.1 | 48.8 | ... | 130 | mpfi | 3.47 | 2.68 |  9.0 | 111 | 5000 | 21 | 27 | 16500 |\n",
       "| 3 | 168 | gas | std   | two  | rwd | front |  94.5 | 171.2 | 65.5 | 52.4 | ... | 152 | mpfi | 2.68 | 3.47 |  9.0 | 154 | 5000 | 19 | 26 | 16500 |\n",
       "| 4 | 164 | gas | std   | four | fwd | front |  99.8 | 176.6 | 66.2 | 54.3 | ... | 109 | mpfi | 3.19 | 3.40 | 10.0 | 102 | 5500 | 24 | 30 | 13950 |\n",
       "| 5 | 164 | gas | std   | four | 4wd | front |  99.4 | 176.6 | 66.4 | 54.3 | ... | 136 | mpfi | 3.19 | 3.40 |  8.0 | 115 | 5500 | 18 | 22 | 17450 |\n",
       "| 6 | 161 | gas | std   | two  | fwd | front |  99.8 | 177.3 | 66.3 | 53.1 | ... | 136 | mpfi | 3.19 | 3.40 |  8.5 | 110 | 5500 | 19 | 25 | 15250 |\n",
       "| 7 | 158 | gas | std   | four | fwd | front | 105.8 | 192.7 | 71.4 | 55.7 | ... | 136 | mpfi | 3.19 | 3.40 |  8.5 | 110 | 5500 | 19 | 25 | 17710 |\n",
       "| 8 | 168 | gas | std   | four | fwd | front | 105.8 | 192.7 | 71.4 | 55.7 | ... | 136 | mpfi | 3.19 | 3.40 |  8.5 | 110 | 5500 | 19 | 25 | 18920 |\n",
       "| 9 | 158 | gas | turbo | four | fwd | front | 105.8 | 192.7 | 71.4 | 55.9 | ... | 131 | mpfi | 3.13 | 3.40 |  8.3 | 140 | 5500 | 17 | 20 | 23875 |\n",
       "| 10 | 192 | gas | std   | two  | rwd | front | 101.2 | 176.8 | 64.8 | 54.3 | ... | 108 | mpfi | 3.50 | 2.80 |  8.8 | 101 | 5800 | 23 | 29 | 16430 |\n",
       "\n"
      ],
      "text/plain": [
       "   normalized_losses fuel_type aspiration number_of_doors drive_wheels\n",
       "1  168               gas       std        two             rwd         \n",
       "2  168               gas       std        two             rwd         \n",
       "3  168               gas       std        two             rwd         \n",
       "4  164               gas       std        four            fwd         \n",
       "5  164               gas       std        four            4wd         \n",
       "6  161               gas       std        two             fwd         \n",
       "7  158               gas       std        four            fwd         \n",
       "8  168               gas       std        four            fwd         \n",
       "9  158               gas       turbo      four            fwd         \n",
       "10 192               gas       std        two             rwd         \n",
       "   engine_location wheel_base length width height ... engine_size fuel_system\n",
       "1  front            88.6      168.8  64.1  48.8   ... 130         mpfi       \n",
       "2  front            88.6      168.8  64.1  48.8   ... 130         mpfi       \n",
       "3  front            94.5      171.2  65.5  52.4   ... 152         mpfi       \n",
       "4  front            99.8      176.6  66.2  54.3   ... 109         mpfi       \n",
       "5  front            99.4      176.6  66.4  54.3   ... 136         mpfi       \n",
       "6  front            99.8      177.3  66.3  53.1   ... 136         mpfi       \n",
       "7  front           105.8      192.7  71.4  55.7   ... 136         mpfi       \n",
       "8  front           105.8      192.7  71.4  55.7   ... 136         mpfi       \n",
       "9  front           105.8      192.7  71.4  55.9   ... 131         mpfi       \n",
       "10 front           101.2      176.8  64.8  54.3   ... 108         mpfi       \n",
       "   bore stroke compression_ratio horsepower peak_rpm city_mpg highway_mpg price\n",
       "1  3.47 2.68    9.0              111        5000     21       27          13495\n",
       "2  3.47 2.68    9.0              111        5000     21       27          16500\n",
       "3  2.68 3.47    9.0              154        5000     19       26          16500\n",
       "4  3.19 3.40   10.0              102        5500     24       30          13950\n",
       "5  3.19 3.40    8.0              115        5500     18       22          17450\n",
       "6  3.19 3.40    8.5              110        5500     19       25          15250\n",
       "7  3.19 3.40    8.5              110        5500     19       25          17710\n",
       "8  3.19 3.40    8.5              110        5500     19       25          18920\n",
       "9  3.13 3.40    8.3              140        5500     17       20          23875\n",
       "10 3.50 2.80    8.8              101        5800     23       29          16430"
      ]
     },
     "metadata": {},
     "output_type": "display_data"
    }
   ],
   "source": [
    "auto_mobile <- read.csv(\"datasets/auto_mobiles_processed.csv\", header=TRUE)\n",
    "\n",
    "head(auto_mobile, 10)"
   ]
  },
  {
   "cell_type": "code",
   "execution_count": 5,
   "metadata": {},
   "outputs": [
    {
     "data": {
      "text/html": [
       "<style>\n",
       ".list-inline {list-style: none; margin:0; padding: 0}\n",
       ".list-inline>li {display: inline-block}\n",
       ".list-inline>li:not(:last-child)::after {content: \"\\00b7\"; padding: 0 .5ex}\n",
       "</style>\n",
       "<ol class=list-inline><li>187</li><li>23</li></ol>\n"
      ],
      "text/latex": [
       "\\begin{enumerate*}\n",
       "\\item 187\n",
       "\\item 23\n",
       "\\end{enumerate*}\n"
      ],
      "text/markdown": [
       "1. 187\n",
       "2. 23\n",
       "\n",
       "\n"
      ],
      "text/plain": [
       "[1] 187  23"
      ]
     },
     "metadata": {},
     "output_type": "display_data"
    }
   ],
   "source": [
    "dim(auto_mobile)"
   ]
  },
  {
   "cell_type": "code",
   "execution_count": 6,
   "metadata": {},
   "outputs": [
    {
     "data": {
      "text/html": [
       "<style>\n",
       ".list-inline {list-style: none; margin:0; padding: 0}\n",
       ".list-inline>li {display: inline-block}\n",
       ".list-inline>li:not(:last-child)::after {content: \"\\00b7\"; padding: 0 .5ex}\n",
       "</style>\n",
       "<ol class=list-inline><li>14489</li><li>7299</li><li>10245</li><li>6692</li><li>17199</li><li>10295</li><li>22018</li><li>8013</li><li>13950</li><li>16503</li><li>6669</li><li>16845</li><li>7775</li><li>15690</li><li>5389</li><li>16500</li><li>11199</li><li>6575</li><li>7957</li><li>5499</li><li>16695</li><li>5151</li><li>16430</li><li>15040</li><li>6095</li><li>6795</li><li>7099</li><li>20970</li><li>6938</li></ol>\n"
      ],
      "text/latex": [
       "\\begin{enumerate*}\n",
       "\\item 14489\n",
       "\\item 7299\n",
       "\\item 10245\n",
       "\\item 6692\n",
       "\\item 17199\n",
       "\\item 10295\n",
       "\\item 22018\n",
       "\\item 8013\n",
       "\\item 13950\n",
       "\\item 16503\n",
       "\\item 6669\n",
       "\\item 16845\n",
       "\\item 7775\n",
       "\\item 15690\n",
       "\\item 5389\n",
       "\\item 16500\n",
       "\\item 11199\n",
       "\\item 6575\n",
       "\\item 7957\n",
       "\\item 5499\n",
       "\\item 16695\n",
       "\\item 5151\n",
       "\\item 16430\n",
       "\\item 15040\n",
       "\\item 6095\n",
       "\\item 6795\n",
       "\\item 7099\n",
       "\\item 20970\n",
       "\\item 6938\n",
       "\\end{enumerate*}\n"
      ],
      "text/markdown": [
       "1. 14489\n",
       "2. 7299\n",
       "3. 10245\n",
       "4. 6692\n",
       "5. 17199\n",
       "6. 10295\n",
       "7. 22018\n",
       "8. 8013\n",
       "9. 13950\n",
       "10. 16503\n",
       "11. 6669\n",
       "12. 16845\n",
       "13. 7775\n",
       "14. 15690\n",
       "15. 5389\n",
       "16. 16500\n",
       "17. 11199\n",
       "18. 6575\n",
       "19. 7957\n",
       "20. 5499\n",
       "21. 16695\n",
       "22. 5151\n",
       "23. 16430\n",
       "24. 15040\n",
       "25. 6095\n",
       "26. 6795\n",
       "27. 7099\n",
       "28. 20970\n",
       "29. 6938\n",
       "\n",
       "\n"
      ],
      "text/plain": [
       " [1] 14489  7299 10245  6692 17199 10295 22018  8013 13950 16503  6669 16845\n",
       "[13]  7775 15690  5389 16500 11199  6575  7957  5499 16695  5151 16430 15040\n",
       "[25]  6095  6795  7099 20970  6938"
      ]
     },
     "metadata": {},
     "output_type": "display_data"
    }
   ],
   "source": [
    "set.seed=(1000)\n",
    "\n",
    "price_subset <- sample(auto_mobile$price, 29)\n",
    "\n",
    "price_subset"
   ]
  },
  {
   "cell_type": "code",
   "execution_count": 7,
   "metadata": {},
   "outputs": [
    {
     "data": {
      "text/plain": [
       "\n",
       "\tShapiro-Wilk normality test\n",
       "\n",
       "data:  price_subset\n",
       "W = 0.88189, p-value = 0.003708\n"
      ]
     },
     "metadata": {},
     "output_type": "display_data"
    }
   ],
   "source": [
    "shapiro.test(price_subset)"
   ]
  },
  {
   "cell_type": "code",
   "execution_count": 8,
   "metadata": {},
   "outputs": [
    {
     "data": {
      "image/png": "[encoded data removed]",
      "text/plain": [
       "plot without title"
      ]
     },
     "metadata": {
      "image/png": {
       "height": 210,
       "width": 360
      }
     },
     "output_type": "display_data"
    }
   ],
   "source": [
    "ggqqplot(price_subset, ylab=\"Price\", ggtheme = theme_minimal())"
   ]
  },
  {
   "cell_type": "code",
   "execution_count": 9,
   "metadata": {},
   "outputs": [
    {
     "data": {
      "text/html": [
       "11310.8275862069"
      ],
      "text/latex": [
       "11310.8275862069"
      ],
      "text/markdown": [
       "11310.8275862069"
      ],
      "text/plain": [
       "[1] 11310.83"
      ]
     },
     "metadata": {},
     "output_type": "display_data"
    }
   ],
   "source": [
    "actual_mean <- mean(price_subset)\n",
    "\n",
    "actual_mean"
   ]
  },
  {
   "cell_type": "code",
   "execution_count": 10,
   "metadata": {},
   "outputs": [
    {
     "data": {
      "text/html": [
       "5147.56831682249"
      ],
      "text/latex": [
       "5147.56831682249"
      ],
      "text/markdown": [
       "5147.56831682249"
      ],
      "text/plain": [
       "[1] 5147.568"
      ]
     },
     "metadata": {},
     "output_type": "display_data"
    }
   ],
   "source": [
    "std <- sd(price_subset)\n",
    "\n",
    "std"
   ]
  },
  {
   "cell_type": "code",
   "execution_count": 11,
   "metadata": {},
   "outputs": [
    {
     "data": {
      "text/html": [
       "29"
      ],
      "text/latex": [
       "29"
      ],
      "text/markdown": [
       "29"
      ],
      "text/plain": [
       "[1] 29"
      ]
     },
     "metadata": {},
     "output_type": "display_data"
    }
   ],
   "source": [
    "len_data <- length(price_subset)\n",
    "\n",
    "len_data"
   ]
  },
  {
   "cell_type": "code",
   "execution_count": 12,
   "metadata": {},
   "outputs": [
    {
     "data": {
      "text/html": [
       "<style>\n",
       ".list-inline {list-style: none; margin:0; padding: 0}\n",
       ".list-inline>li {display: inline-block}\n",
       ".list-inline>li:not(:last-child)::after {content: \"\\00b7\"; padding: 0 .5ex}\n",
       "</style>\n",
       "<ol class=list-inline><li>42.7644521717066</li><li>60.2518570880022</li><li>50.8564613010181</li><li>62.925134570555</li><li>39.2509814837307</li><li>50.7328130234844</li><li>34.6907097598774</li><li>57.5048596434257</li><li>43.5827886652408</li><li>40.070122423618</li><li>63.0335490556093</li><li>39.661269522917</li><li>58.3783640232092</li><li>41.0951573199722</li><li>70.1209881126999</li><li>40.0737649964561</li><li>48.6421202253682</li><li>63.4825320441045</li><li>57.7068595215245</li><li>69.4161078665674</li><li>39.8390439213383</li><li>71.7226527666835</li><li>40.1590413825953</li><li>41.973791512797</li><li>65.9348866869488</li><li>62.4463974130473</li><li>61.0946992221597</li><li>35.5469958839508</li><li>61.7995014262129</li></ol>\n"
      ],
      "text/latex": [
       "\\begin{enumerate*}\n",
       "\\item 42.7644521717066\n",
       "\\item 60.2518570880022\n",
       "\\item 50.8564613010181\n",
       "\\item 62.925134570555\n",
       "\\item 39.2509814837307\n",
       "\\item 50.7328130234844\n",
       "\\item 34.6907097598774\n",
       "\\item 57.5048596434257\n",
       "\\item 43.5827886652408\n",
       "\\item 40.070122423618\n",
       "\\item 63.0335490556093\n",
       "\\item 39.661269522917\n",
       "\\item 58.3783640232092\n",
       "\\item 41.0951573199722\n",
       "\\item 70.1209881126999\n",
       "\\item 40.0737649964561\n",
       "\\item 48.6421202253682\n",
       "\\item 63.4825320441045\n",
       "\\item 57.7068595215245\n",
       "\\item 69.4161078665674\n",
       "\\item 39.8390439213383\n",
       "\\item 71.7226527666835\n",
       "\\item 40.1590413825953\n",
       "\\item 41.973791512797\n",
       "\\item 65.9348866869488\n",
       "\\item 62.4463974130473\n",
       "\\item 61.0946992221597\n",
       "\\item 35.5469958839508\n",
       "\\item 61.7995014262129\n",
       "\\end{enumerate*}\n"
      ],
      "text/markdown": [
       "1. 42.7644521717066\n",
       "2. 60.2518570880022\n",
       "3. 50.8564613010181\n",
       "4. 62.925134570555\n",
       "5. 39.2509814837307\n",
       "6. 50.7328130234844\n",
       "7. 34.6907097598774\n",
       "8. 57.5048596434257\n",
       "9. 43.5827886652408\n",
       "10. 40.070122423618\n",
       "11. 63.0335490556093\n",
       "12. 39.661269522917\n",
       "13. 58.3783640232092\n",
       "14. 41.0951573199722\n",
       "15. 70.1209881126999\n",
       "16. 40.0737649964561\n",
       "17. 48.6421202253682\n",
       "18. 63.4825320441045\n",
       "19. 57.7068595215245\n",
       "20. 69.4161078665674\n",
       "21. 39.8390439213383\n",
       "22. 71.7226527666835\n",
       "23. 40.1590413825953\n",
       "24. 41.973791512797\n",
       "25. 65.9348866869488\n",
       "26. 62.4463974130473\n",
       "27. 61.0946992221597\n",
       "28. 35.5469958839508\n",
       "29. 61.7995014262129\n",
       "\n",
       "\n"
      ],
      "text/plain": [
       " [1] 42.76445 60.25186 50.85646 62.92513 39.25098 50.73281 34.69071 57.50486\n",
       " [9] 43.58279 40.07012 63.03355 39.66127 58.37836 41.09516 70.12099 40.07376\n",
       "[17] 48.64212 63.48253 57.70686 69.41611 39.83904 71.72265 40.15904 41.97379\n",
       "[25] 65.93489 62.44640 61.09470 35.54700 61.79950"
      ]
     },
     "metadata": {},
     "output_type": "display_data"
    }
   ],
   "source": [
    "std_error <- std /sqrt(price_subset)\n",
    "\n",
    "std_error"
   ]
  },
  {
   "cell_type": "code",
   "execution_count": 13,
   "metadata": {},
   "outputs": [],
   "source": [
    "mu = 1000"
   ]
  },
  {
   "cell_type": "code",
   "execution_count": 14,
   "metadata": {},
   "outputs": [
    {
     "data": {
      "text/html": [
       "10.7867448146755"
      ],
      "text/latex": [
       "10.7867448146755"
      ],
      "text/markdown": [
       "10.7867448146755"
      ],
      "text/plain": [
       "[1] 10.78674"
      ]
     },
     "metadata": {},
     "output_type": "display_data"
    }
   ],
   "source": [
    "t_stat <- (actual_mean - mu) / (std / sqrt(len_data))\n",
    "\n",
    "t_stat"
   ]
  },
  {
   "cell_type": "code",
   "execution_count": 15,
   "metadata": {},
   "outputs": [
    {
     "data": {
      "text/html": [
       "1.76238790997429e-11"
      ],
      "text/latex": [
       "1.76238790997429e-11"
      ],
      "text/markdown": [
       "1.76238790997429e-11"
      ],
      "text/plain": [
       "[1] 1.762388e-11"
      ]
     },
     "metadata": {},
     "output_type": "display_data"
    }
   ],
   "source": [
    "p_value <- 2 * pt(t_stat, df = len_data - 1, lower=F)\n",
    "\n",
    "p_value"
   ]
  },
  {
   "cell_type": "code",
   "execution_count": 16,
   "metadata": {},
   "outputs": [
    {
     "data": {
      "text/html": [
       "'Mean of sample not equal to 1000 (alt hypothesis)'"
      ],
      "text/latex": [
       "'Mean of sample not equal to 1000 (alt hypothesis)'"
      ],
      "text/markdown": [
       "'Mean of sample not equal to 1000 (alt hypothesis)'"
      ],
      "text/plain": [
       "[1] \"Mean of sample not equal to 1000 (alt hypothesis)\""
      ]
     },
     "metadata": {},
     "output_type": "display_data"
    }
   ],
   "source": [
    "if (p_value <= 0.05) {\n",
    "    'Mean of sample not equal to 1000 (alt hypothesis)'\n",
    "} else {\n",
    "    'Mean of sample is equal to 1000 (null hypothesis)'\n",
    "}"
   ]
  },
  {
   "cell_type": "code",
   "execution_count": 17,
   "metadata": {},
   "outputs": [
    {
     "data": {
      "text/plain": [
       "   Min. 1st Qu.  Median    Mean 3rd Qu.    Max. \n",
       "   5151    6795   10245   11311   16430   22018 "
      ]
     },
     "metadata": {},
     "output_type": "display_data"
    }
   ],
   "source": [
    "summary(price_subset)"
   ]
  },
  {
   "cell_type": "code",
   "execution_count": 18,
   "metadata": {},
   "outputs": [
    {
     "data": {
      "text/plain": [
       "\n",
       "\tOne Sample t-test\n",
       "\n",
       "data:  price_subset\n",
       "t = 10.787, df = 28, p-value = 1.762e-11\n",
       "alternative hypothesis: true mean is not equal to 1000\n",
       "95 percent confidence interval:\n",
       "  9352.797 13268.858\n",
       "sample estimates:\n",
       "mean of x \n",
       " 11310.83 \n"
      ]
     },
     "metadata": {},
     "output_type": "display_data"
    }
   ],
   "source": [
    "t_test <- t.test(price_subset, mu=mu, alternative = \"two.sided\")\n",
    "\n",
    "t_test"
   ]
  },
  {
   "cell_type": "code",
   "execution_count": 19,
   "metadata": {},
   "outputs": [
    {
     "data": {
      "text/html": [
       "<style>\n",
       ".list-inline {list-style: none; margin:0; padding: 0}\n",
       ".list-inline>li {display: inline-block}\n",
       ".list-inline>li:not(:last-child)::after {content: \"\\00b7\"; padding: 0 .5ex}\n",
       "</style>\n",
       "<ol class=list-inline><li>'statistic'</li><li>'parameter'</li><li>'p.value'</li><li>'conf.int'</li><li>'estimate'</li><li>'null.value'</li><li>'stderr'</li><li>'alternative'</li><li>'method'</li><li>'data.name'</li></ol>\n"
      ],
      "text/latex": [
       "\\begin{enumerate*}\n",
       "\\item 'statistic'\n",
       "\\item 'parameter'\n",
       "\\item 'p.value'\n",
       "\\item 'conf.int'\n",
       "\\item 'estimate'\n",
       "\\item 'null.value'\n",
       "\\item 'stderr'\n",
       "\\item 'alternative'\n",
       "\\item 'method'\n",
       "\\item 'data.name'\n",
       "\\end{enumerate*}\n"
      ],
      "text/markdown": [
       "1. 'statistic'\n",
       "2. 'parameter'\n",
       "3. 'p.value'\n",
       "4. 'conf.int'\n",
       "5. 'estimate'\n",
       "6. 'null.value'\n",
       "7. 'stderr'\n",
       "8. 'alternative'\n",
       "9. 'method'\n",
       "10. 'data.name'\n",
       "\n",
       "\n"
      ],
      "text/plain": [
       " [1] \"statistic\"   \"parameter\"   \"p.value\"     \"conf.int\"    \"estimate\"   \n",
       " [6] \"null.value\"  \"stderr\"      \"alternative\" \"method\"      \"data.name\"  "
      ]
     },
     "metadata": {},
     "output_type": "display_data"
    }
   ],
   "source": [
    "names(t_test)"
   ]
  },
  {
   "cell_type": "code",
   "execution_count": 20,
   "metadata": {},
   "outputs": [
    {
     "data": {
      "text/html": [
       "<strong>t:</strong> 10.7867448146755"
      ],
      "text/latex": [
       "\\textbf{t:} 10.7867448146755"
      ],
      "text/markdown": [
       "**t:** 10.7867448146755"
      ],
      "text/plain": [
       "       t \n",
       "10.78674 "
      ]
     },
     "metadata": {},
     "output_type": "display_data"
    }
   ],
   "source": [
    "t_test$statistic"
   ]
  },
  {
   "cell_type": "code",
   "execution_count": 21,
   "metadata": {},
   "outputs": [
    {
     "data": {
      "text/html": [
       "1.76238790997429e-11"
      ],
      "text/latex": [
       "1.76238790997429e-11"
      ],
      "text/markdown": [
       "1.76238790997429e-11"
      ],
      "text/plain": [
       "[1] 1.762388e-11"
      ]
     },
     "metadata": {},
     "output_type": "display_data"
    }
   ],
   "source": [
    "t_test$p.value"
   ]
  },
  {
   "cell_type": "markdown",
   "metadata": {},
   "source": [
    "***"
   ]
  },
  {
   "cell_type": "code",
   "execution_count": 22,
   "metadata": {},
   "outputs": [],
   "source": [
    "#install.packages(c(\"pastecs\", \"TeachingDemos\"))"
   ]
  },
  {
   "cell_type": "code",
   "execution_count": 23,
   "metadata": {},
   "outputs": [],
   "source": [
    "library(TeachingDemos)\n",
    "library(pastecs)"
   ]
  },
  {
   "cell_type": "code",
   "execution_count": 24,
   "metadata": {},
   "outputs": [
    {
     "data": {
      "text/html": [
       "187"
      ],
      "text/latex": [
       "187"
      ],
      "text/markdown": [
       "187"
      ],
      "text/plain": [
       "[1] 187"
      ]
     },
     "metadata": {},
     "output_type": "display_data"
    }
   ],
   "source": [
    "nrow(auto_mobile)"
   ]
  },
  {
   "cell_type": "code",
   "execution_count": 25,
   "metadata": {},
   "outputs": [
    {
     "data": {
      "text/plain": [
       "\n",
       "\tShapiro-Wilk normality test\n",
       "\n",
       "data:  auto_mobile$price\n",
       "W = 0.90311, p-value = 1.045e-09\n"
      ]
     },
     "metadata": {},
     "output_type": "display_data"
    }
   ],
   "source": [
    "shapiro.test(auto_mobile$price)"
   ]
  },
  {
   "cell_type": "code",
   "execution_count": 27,
   "metadata": {},
   "outputs": [
    {
     "data": {
      "image/png": "[encoded data removed]",
      "text/plain": [
       "plot without title"
      ]
     },
     "metadata": {
      "image/png": {
       "height": 210,
       "width": 360
      }
     },
     "output_type": "display_data"
    }
   ],
   "source": [
    "ggqqplot(auto_mobile$price, ylab=\"Price\", ggtheme = theme_minimal())"
   ]
  },
  {
   "cell_type": "code",
   "execution_count": 28,
   "metadata": {},
   "outputs": [
    {
     "data": {
      "text/html": [
       "11503.1764705882"
      ],
      "text/latex": [
       "11503.1764705882"
      ],
      "text/markdown": [
       "11503.1764705882"
      ],
      "text/plain": [
       "[1] 11503.18"
      ]
     },
     "metadata": {},
     "output_type": "display_data"
    }
   ],
   "source": [
    "z_actual_mean <- mean(auto_mobile$price)\n",
    "\n",
    "z_actual_mean"
   ]
  },
  {
   "cell_type": "code",
   "execution_count": 31,
   "metadata": {},
   "outputs": [
    {
     "data": {
      "text/html": [
       "4979.4065421194"
      ],
      "text/latex": [
       "4979.4065421194"
      ],
      "text/markdown": [
       "4979.4065421194"
      ],
      "text/plain": [
       "[1] 4979.407"
      ]
     },
     "metadata": {},
     "output_type": "display_data"
    }
   ],
   "source": [
    "z_std <- sd(auto_mobile$price)\n",
    "\n",
    "z_std"
   ]
  },
  {
   "cell_type": "code",
   "execution_count": 32,
   "metadata": {},
   "outputs": [
    {
     "data": {
      "text/html": [
       "187"
      ],
      "text/latex": [
       "187"
      ],
      "text/markdown": [
       "187"
      ],
      "text/plain": [
       "[1] 187"
      ]
     },
     "metadata": {},
     "output_type": "display_data"
    }
   ],
   "source": [
    "z_len_data <- length(auto_mobile$price)\n",
    "\n",
    "z_len_data"
   ]
  },
  {
   "cell_type": "code",
   "execution_count": 34,
   "metadata": {},
   "outputs": [
    {
     "data": {
      "text/html": [
       "364.130269277014"
      ],
      "text/latex": [
       "364.130269277014"
      ],
      "text/markdown": [
       "364.130269277014"
      ],
      "text/plain": [
       "[1] 364.1303"
      ]
     },
     "metadata": {},
     "output_type": "display_data"
    }
   ],
   "source": [
    "z_std_error <- z_std / sqrt(z_len_data)\n",
    "\n",
    "z_std_error"
   ]
  },
  {
   "cell_type": "code",
   "execution_count": 35,
   "metadata": {},
   "outputs": [
    {
     "data": {
      "text/html": [
       "1000"
      ],
      "text/latex": [
       "1000"
      ],
      "text/markdown": [
       "1000"
      ],
      "text/plain": [
       "[1] 1000"
      ]
     },
     "metadata": {},
     "output_type": "display_data"
    }
   ],
   "source": [
    "mu"
   ]
  },
  {
   "cell_type": "code",
   "execution_count": 36,
   "metadata": {},
   "outputs": [
    {
     "data": {
      "text/html": [
       "28.8445574476476"
      ],
      "text/latex": [
       "28.8445574476476"
      ],
      "text/markdown": [
       "28.8445574476476"
      ],
      "text/plain": [
       "[1] 28.84456"
      ]
     },
     "metadata": {},
     "output_type": "display_data"
    }
   ],
   "source": [
    "z_stat <- (z_actual_mean - mu) / (z_std / sqrt(z_len_data))\n",
    "\n",
    "z_stat"
   ]
  },
  {
   "cell_type": "code",
   "execution_count": 37,
   "metadata": {},
   "outputs": [
    {
     "data": {
      "text/html": [
       "5.9293455491803e-183"
      ],
      "text/latex": [
       "5.9293455491803e-183"
      ],
      "text/markdown": [
       "5.9293455491803e-183"
      ],
      "text/plain": [
       "[1] 5.929346e-183"
      ]
     },
     "metadata": {},
     "output_type": "display_data"
    }
   ],
   "source": [
    "p_value <- 2 * pnorm(-abs(z_stat))\n",
    "\n",
    "p_value"
   ]
  },
  {
   "cell_type": "code",
   "execution_count": 38,
   "metadata": {},
   "outputs": [
    {
     "data": {
      "text/html": [
       "'Mean of sample not equal to 10000 (alt hypothesis)'"
      ],
      "text/latex": [
       "'Mean of sample not equal to 10000 (alt hypothesis)'"
      ],
      "text/markdown": [
       "'Mean of sample not equal to 10000 (alt hypothesis)'"
      ],
      "text/plain": [
       "[1] \"Mean of sample not equal to 10000 (alt hypothesis)\""
      ]
     },
     "metadata": {},
     "output_type": "display_data"
    }
   ],
   "source": [
    "if (p_value <= 0.5) {\n",
    "    \"Mean of sample not equal to 10000 (alt hypothesis)\"\n",
    "} else {\"Mean of sample is equal to 1000 (null hypothesis)\"\n",
    "}"
   ]
  },
  {
   "cell_type": "code",
   "execution_count": 39,
   "metadata": {},
   "outputs": [
    {
     "data": {
      "text/plain": [
       "\n",
       "\tOne Sample z-test\n",
       "\n",
       "data:  auto_mobile$price\n",
       "z = 28.845, n = 187.00, Std. Dev. = 4979.41, Std. Dev. of the sample\n",
       "mean = 364.13, p-value < 2.2e-16\n",
       "alternative hypothesis: true mean is not equal to 1000\n",
       "95 percent confidence interval:\n",
       " 10789.49 12216.86\n",
       "sample estimates:\n",
       "mean of auto_mobile$price \n",
       "                 11503.18 \n"
      ]
     },
     "metadata": {},
     "output_type": "display_data"
    }
   ],
   "source": [
    "z_test <- z.test(auto_mobile$price, mu=mu, stdev = z_std)\n",
    "\n",
    "z_test"
   ]
  },
  {
   "cell_type": "code",
   "execution_count": null,
   "metadata": {},
   "outputs": [],
   "source": []
  }
 ],
 "metadata": {
  "kernelspec": {
   "display_name": "R",
   "language": "R",
   "name": "ir"
  },
  "language_info": {
   "codemirror_mode": "r",
   "file_extension": ".r",
   "mimetype": "text/x-r-source",
   "name": "R",
   "pygments_lexer": "r",
   "version": "4.1.2"
  },
  "orig_nbformat": 4
 },
 "nbformat": 4,
 "nbformat_minor": 2
}
