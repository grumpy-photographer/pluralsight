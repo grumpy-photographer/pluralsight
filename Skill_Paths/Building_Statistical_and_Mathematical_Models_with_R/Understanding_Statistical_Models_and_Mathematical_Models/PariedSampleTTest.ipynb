{
 "cells": [
  {
   "cell_type": "code",
   "execution_count": 2,
   "metadata": {},
   "outputs": [],
   "source": [
    "#install.packages(c(\"DescTools\", \"mvtnorm\", \"expm\"))"
   ]
  },
  {
   "cell_type": "code",
   "execution_count": 3,
   "metadata": {},
   "outputs": [
    {
     "name": "stderr",
     "output_type": "stream",
     "text": [
      "\n",
      "Attaching package: 'dplyr'\n",
      "\n",
      "\n",
      "The following objects are masked from 'package:stats':\n",
      "\n",
      "    filter, lag\n",
      "\n",
      "\n",
      "The following objects are masked from 'package:base':\n",
      "\n",
      "    intersect, setdiff, setequal, union\n",
      "\n",
      "\n"
     ]
    }
   ],
   "source": [
    "library(dplyr)\n",
    "library(\"DescTools\")"
   ]
  },
  {
   "cell_type": "code",
   "execution_count": 4,
   "metadata": {},
   "outputs": [
    {
     "data": {
      "text/html": [
       "<table class=\"dataframe\">\n",
       "<caption>A data.frame: 6 × 5</caption>\n",
       "<thead>\n",
       "\t<tr><th></th><th scope=col>patient</th><th scope=col>sex</th><th scope=col>agegrp</th><th scope=col>bp_before</th><th scope=col>bp_after</th></tr>\n",
       "\t<tr><th></th><th scope=col>&lt;int&gt;</th><th scope=col>&lt;chr&gt;</th><th scope=col>&lt;chr&gt;</th><th scope=col>&lt;int&gt;</th><th scope=col>&lt;int&gt;</th></tr>\n",
       "</thead>\n",
       "<tbody>\n",
       "\t<tr><th scope=row>1</th><td>1</td><td>Male</td><td>30-45</td><td>143</td><td>153</td></tr>\n",
       "\t<tr><th scope=row>2</th><td>2</td><td>Male</td><td>30-45</td><td>163</td><td>170</td></tr>\n",
       "\t<tr><th scope=row>3</th><td>3</td><td>Male</td><td>30-45</td><td>153</td><td>168</td></tr>\n",
       "\t<tr><th scope=row>4</th><td>4</td><td>Male</td><td>30-45</td><td>153</td><td>142</td></tr>\n",
       "\t<tr><th scope=row>5</th><td>5</td><td>Male</td><td>30-45</td><td>146</td><td>141</td></tr>\n",
       "\t<tr><th scope=row>6</th><td>6</td><td>Male</td><td>30-45</td><td>150</td><td>147</td></tr>\n",
       "</tbody>\n",
       "</table>\n"
      ],
      "text/latex": [
       "A data.frame: 6 × 5\n",
       "\\begin{tabular}{r|lllll}\n",
       "  & patient & sex & agegrp & bp\\_before & bp\\_after\\\\\n",
       "  & <int> & <chr> & <chr> & <int> & <int>\\\\\n",
       "\\hline\n",
       "\t1 & 1 & Male & 30-45 & 143 & 153\\\\\n",
       "\t2 & 2 & Male & 30-45 & 163 & 170\\\\\n",
       "\t3 & 3 & Male & 30-45 & 153 & 168\\\\\n",
       "\t4 & 4 & Male & 30-45 & 153 & 142\\\\\n",
       "\t5 & 5 & Male & 30-45 & 146 & 141\\\\\n",
       "\t6 & 6 & Male & 30-45 & 150 & 147\\\\\n",
       "\\end{tabular}\n"
      ],
      "text/markdown": [
       "\n",
       "A data.frame: 6 × 5\n",
       "\n",
       "| <!--/--> | patient &lt;int&gt; | sex &lt;chr&gt; | agegrp &lt;chr&gt; | bp_before &lt;int&gt; | bp_after &lt;int&gt; |\n",
       "|---|---|---|---|---|---|\n",
       "| 1 | 1 | Male | 30-45 | 143 | 153 |\n",
       "| 2 | 2 | Male | 30-45 | 163 | 170 |\n",
       "| 3 | 3 | Male | 30-45 | 153 | 168 |\n",
       "| 4 | 4 | Male | 30-45 | 153 | 142 |\n",
       "| 5 | 5 | Male | 30-45 | 146 | 141 |\n",
       "| 6 | 6 | Male | 30-45 | 150 | 147 |\n",
       "\n"
      ],
      "text/plain": [
       "  patient sex  agegrp bp_before bp_after\n",
       "1 1       Male 30-45  143       153     \n",
       "2 2       Male 30-45  163       170     \n",
       "3 3       Male 30-45  153       168     \n",
       "4 4       Male 30-45  153       142     \n",
       "5 5       Male 30-45  146       141     \n",
       "6 6       Male 30-45  150       147     "
      ]
     },
     "metadata": {},
     "output_type": "display_data"
    }
   ],
   "source": [
    "blood_pressure <- read.csv(\"datasets/blood_pressure.csv\", header=TRUE)\n",
    "\n",
    "head(blood_pressure)"
   ]
  },
  {
   "cell_type": "code",
   "execution_count": 5,
   "metadata": {},
   "outputs": [
    {
     "data": {
      "text/html": [
       "<style>\n",
       ".list-inline {list-style: none; margin:0; padding: 0}\n",
       ".list-inline>li {display: inline-block}\n",
       ".list-inline>li:not(:last-child)::after {content: \"\\00b7\"; padding: 0 .5ex}\n",
       "</style>\n",
       "<ol class=list-inline><li>120</li><li>5</li></ol>\n"
      ],
      "text/latex": [
       "\\begin{enumerate*}\n",
       "\\item 120\n",
       "\\item 5\n",
       "\\end{enumerate*}\n"
      ],
      "text/markdown": [
       "1. 120\n",
       "2. 5\n",
       "\n",
       "\n"
      ],
      "text/plain": [
       "[1] 120   5"
      ]
     },
     "metadata": {},
     "output_type": "display_data"
    }
   ],
   "source": [
    "dim(blood_pressure)"
   ]
  },
  {
   "cell_type": "code",
   "execution_count": 6,
   "metadata": {},
   "outputs": [
    {
     "name": "stdout",
     "output_type": "stream",
     "text": [
      "'data.frame':\t120 obs. of  5 variables:\n",
      " $ patient  : int  1 2 3 4 5 6 7 8 9 10 ...\n",
      " $ sex      : chr  \"Male\" \"Male\" \"Male\" \"Male\" ...\n",
      " $ agegrp   : chr  \"30-45\" \"30-45\" \"30-45\" \"30-45\" ...\n",
      " $ bp_before: int  143 163 153 153 146 150 148 153 153 158 ...\n",
      " $ bp_after : int  153 170 168 142 141 147 133 141 131 125 ...\n"
     ]
    }
   ],
   "source": [
    "str(blood_pressure)"
   ]
  },
  {
   "cell_type": "code",
   "execution_count": 7,
   "metadata": {},
   "outputs": [
    {
     "data": {
      "text/plain": [
       "    patient           sex               agegrp            bp_before    \n",
       " Min.   :  1.00   Length:120         Length:120         Min.   :138.0  \n",
       " 1st Qu.: 30.75   Class :character   Class :character   1st Qu.:147.0  \n",
       " Median : 60.50   Mode  :character   Mode  :character   Median :154.5  \n",
       " Mean   : 60.50                                         Mean   :156.4  \n",
       " 3rd Qu.: 90.25                                         3rd Qu.:164.0  \n",
       " Max.   :120.00                                         Max.   :185.0  \n",
       "    bp_after    \n",
       " Min.   :125.0  \n",
       " 1st Qu.:140.8  \n",
       " Median :149.5  \n",
       " Mean   :151.4  \n",
       " 3rd Qu.:161.0  \n",
       " Max.   :185.0  "
      ]
     },
     "metadata": {},
     "output_type": "display_data"
    }
   ],
   "source": [
    "summary(blood_pressure)"
   ]
  },
  {
   "cell_type": "code",
   "execution_count": 8,
   "metadata": {},
   "outputs": [],
   "source": [
    "options(repr.plot.width=6, repr.plot.height=3.5)"
   ]
  },
  {
   "cell_type": "code",
   "execution_count": 12,
   "metadata": {},
   "outputs": [
    {
     "data": {
      "image/png": "[encoded data removed]",
      "text/plain": [
       "Plot with title \"Density plot for bp before treatment\""
      ]
     },
     "metadata": {
      "image/png": {
       "height": 210,
       "width": 360
      }
     },
     "output_type": "display_data"
    }
   ],
   "source": [
    "d1 <- density(blood_pressure$bp_before)\n",
    "\n",
    "plot(d1, main = \"Density plot for bp before treatment\")"
   ]
  },
  {
   "cell_type": "code",
   "execution_count": 13,
   "metadata": {},
   "outputs": [
    {
     "data": {
      "image/png": "[encoded data removed]",
      "text/plain": [
       "Plot with title \"Density plot for bp after treatment\""
      ]
     },
     "metadata": {
      "image/png": {
       "height": 210,
       "width": 360
      }
     },
     "output_type": "display_data"
    }
   ],
   "source": [
    "d2 <- density(blood_pressure$bp_after)\n",
    "\n",
    "plot(d2, main=\"Density plot for bp after treatment\")"
   ]
  },
  {
   "cell_type": "code",
   "execution_count": 14,
   "metadata": {},
   "outputs": [
    {
     "data": {
      "image/png": "[encoded data removed]",
      "text/plain": [
       "Plot with title \"Boxplot of BP before and after treatment\""
      ]
     },
     "metadata": {
      "image/png": {
       "height": 210,
       "width": 360
      }
     },
     "output_type": "display_data"
    }
   ],
   "source": [
    "bp <- c(\"Before\", \"After\")\n",
    "\n",
    "boxplot(blood_pressure$bp_before,\n",
    "blood_pressure$bp_after,\n",
    "names = bp,\n",
    "horizontal = FALSE,\n",
    "main = \"Boxplot of BP before and after treatment\", ylab = \"BP\")"
   ]
  },
  {
   "cell_type": "code",
   "execution_count": 15,
   "metadata": {},
   "outputs": [
    {
     "data": {
      "text/plain": [
       "   Min. 1st Qu.  Median    Mean 3rd Qu.    Max. \n",
       "  138.0   147.0   154.5   156.4   164.0   185.0 "
      ]
     },
     "metadata": {},
     "output_type": "display_data"
    }
   ],
   "source": [
    "summary(blood_pressure$bp_before)"
   ]
  },
  {
   "cell_type": "code",
   "execution_count": 16,
   "metadata": {},
   "outputs": [
    {
     "data": {
      "text/plain": [
       "   Min. 1st Qu.  Median    Mean 3rd Qu.    Max. \n",
       "  125.0   140.8   149.5   151.4   161.0   185.0 "
      ]
     },
     "metadata": {},
     "output_type": "display_data"
    }
   ],
   "source": [
    "summary(blood_pressure$bp_after)"
   ]
  },
  {
   "cell_type": "code",
   "execution_count": 17,
   "metadata": {},
   "outputs": [
    {
     "data": {
      "text/plain": [
       "\n",
       "\tPaired t-test\n",
       "\n",
       "data:  blood_pressure$bp_before and blood_pressure$bp_after\n",
       "t = 3.3372, df = 119, p-value = 0.00113\n",
       "alternative hypothesis: true difference in means is not equal to 0\n",
       "95 percent confidence interval:\n",
       " 2.070557 8.112776\n",
       "sample estimates:\n",
       "mean of the differences \n",
       "               5.091667 \n"
      ]
     },
     "metadata": {},
     "output_type": "display_data"
    }
   ],
   "source": [
    "paired_test <- t.test(blood_pressure$bp_before, blood_pressure$bp_after, paired = TRUE, alternative = \"two.sided\")\n",
    "\n",
    "paired_test"
   ]
  },
  {
   "cell_type": "code",
   "execution_count": 18,
   "metadata": {},
   "outputs": [
    {
     "data": {
      "text/html": [
       "2.78777712503171"
      ],
      "text/latex": [
       "2.78777712503171"
      ],
      "text/markdown": [
       "2.78777712503171"
      ],
      "text/plain": [
       "[1] 2.787777"
      ]
     },
     "metadata": {},
     "output_type": "display_data"
    }
   ],
   "source": [
    "sd_bp = sd(blood_pressure$bp_after) - sd(blood_pressure$bp_before)\n",
    "\n",
    "sd_bp"
   ]
  },
  {
   "cell_type": "code",
   "execution_count": 21,
   "metadata": {},
   "outputs": [
    {
     "data": {
      "text/plain": [
       "\n",
       "\tPaired z-test\n",
       "\n",
       "data:  bp_before and bp_after\n",
       "z = 20.007, Std. Dev. Population = 2.7878, p-value < 2.2e-16\n",
       "alternative hypothesis: true difference in means is not equal to 0\n",
       "95 percent confidence interval:\n",
       " 4.592879 5.590454\n",
       "sample estimates:\n",
       "mean of the differences \n",
       "               5.091667 \n"
      ]
     },
     "metadata": {},
     "output_type": "display_data"
    }
   ],
   "source": [
    "paired_ztest <- with(select(blood_pressure, bp_before, bp_after), ZTest(bp_before, bp_after, sd_pop = sd_bp, paired = TRUE))\n",
    "\n",
    "paired_ztest"
   ]
  },
  {
   "cell_type": "code",
   "execution_count": null,
   "metadata": {},
   "outputs": [],
   "source": []
  }
 ],
 "metadata": {
  "kernelspec": {
   "display_name": "R",
   "language": "R",
   "name": "ir"
  },
  "language_info": {
   "codemirror_mode": "r",
   "file_extension": ".r",
   "mimetype": "text/x-r-source",
   "name": "R",
   "pygments_lexer": "r",
   "version": "4.1.2"
  },
  "orig_nbformat": 4
 },
 "nbformat": 4,
 "nbformat_minor": 2
}
