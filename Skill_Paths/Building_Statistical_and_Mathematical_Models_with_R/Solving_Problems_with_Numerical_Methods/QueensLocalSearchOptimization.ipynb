{
 "cells": [
  {
   "cell_type": "code",
   "execution_count": 1,
   "metadata": {},
   "outputs": [],
   "source": [
    "#install.packages(\"NMOF\")"
   ]
  },
  {
   "cell_type": "code",
   "execution_count": 2,
   "metadata": {},
   "outputs": [],
   "source": [
    "library(\"NMOF\")"
   ]
  },
  {
   "cell_type": "code",
   "execution_count": 3,
   "metadata": {},
   "outputs": [],
   "source": [
    "set.seed(1345797)"
   ]
  },
  {
   "cell_type": "code",
   "execution_count": 4,
   "metadata": {},
   "outputs": [],
   "source": [
    "N <- 8"
   ]
  },
  {
   "cell_type": "code",
   "execution_count": 5,
   "metadata": {},
   "outputs": [
    {
     "data": {
      "text/html": [
       "<style>\n",
       ".list-inline {list-style: none; margin:0; padding: 0}\n",
       ".list-inline>li {display: inline-block}\n",
       ".list-inline>li:not(:last-child)::after {content: \"\\00b7\"; padding: 0 .5ex}\n",
       "</style>\n",
       "<ol class=list-inline><li>6</li><li>5</li><li>7</li><li>2</li><li>3</li><li>8</li><li>1</li><li>4</li></ol>\n"
      ],
      "text/latex": [
       "\\begin{enumerate*}\n",
       "\\item 6\n",
       "\\item 5\n",
       "\\item 7\n",
       "\\item 2\n",
       "\\item 3\n",
       "\\item 8\n",
       "\\item 1\n",
       "\\item 4\n",
       "\\end{enumerate*}\n"
      ],
      "text/markdown": [
       "1. 6\n",
       "2. 5\n",
       "3. 7\n",
       "4. 2\n",
       "5. 3\n",
       "6. 8\n",
       "7. 1\n",
       "8. 4\n",
       "\n",
       "\n"
      ],
      "text/plain": [
       "[1] 6 5 7 2 3 8 1 4"
      ]
     },
     "metadata": {},
     "output_type": "display_data"
    }
   ],
   "source": [
    "rand_position <- sample.int(N)\n",
    "\n",
    "rand_position"
   ]
  },
  {
   "cell_type": "code",
   "execution_count": 6,
   "metadata": {},
   "outputs": [
    {
     "data": {
      "text/html": [
       "<table class=\"dataframe\">\n",
       "<caption>A data.frame: 8 × 2</caption>\n",
       "<thead>\n",
       "\t<tr><th scope=col>row</th><th scope=col>column</th></tr>\n",
       "\t<tr><th scope=col>&lt;int&gt;</th><th scope=col>&lt;int&gt;</th></tr>\n",
       "</thead>\n",
       "<tbody>\n",
       "\t<tr><td>1</td><td>6</td></tr>\n",
       "\t<tr><td>2</td><td>5</td></tr>\n",
       "\t<tr><td>3</td><td>7</td></tr>\n",
       "\t<tr><td>4</td><td>2</td></tr>\n",
       "\t<tr><td>5</td><td>3</td></tr>\n",
       "\t<tr><td>6</td><td>8</td></tr>\n",
       "\t<tr><td>7</td><td>1</td></tr>\n",
       "\t<tr><td>8</td><td>4</td></tr>\n",
       "</tbody>\n",
       "</table>\n"
      ],
      "text/latex": [
       "A data.frame: 8 × 2\n",
       "\\begin{tabular}{ll}\n",
       " row & column\\\\\n",
       " <int> & <int>\\\\\n",
       "\\hline\n",
       "\t 1 & 6\\\\\n",
       "\t 2 & 5\\\\\n",
       "\t 3 & 7\\\\\n",
       "\t 4 & 2\\\\\n",
       "\t 5 & 3\\\\\n",
       "\t 6 & 8\\\\\n",
       "\t 7 & 1\\\\\n",
       "\t 8 & 4\\\\\n",
       "\\end{tabular}\n"
      ],
      "text/markdown": [
       "\n",
       "A data.frame: 8 × 2\n",
       "\n",
       "| row &lt;int&gt; | column &lt;int&gt; |\n",
       "|---|---|\n",
       "| 1 | 6 |\n",
       "| 2 | 5 |\n",
       "| 3 | 7 |\n",
       "| 4 | 2 |\n",
       "| 5 | 3 |\n",
       "| 6 | 8 |\n",
       "| 7 | 1 |\n",
       "| 8 | 4 |\n",
       "\n"
      ],
      "text/plain": [
       "  row column\n",
       "1 1   6     \n",
       "2 2   5     \n",
       "3 3   7     \n",
       "4 4   2     \n",
       "5 5   3     \n",
       "6 6   8     \n",
       "7 7   1     \n",
       "8 8   4     "
      ]
     },
     "metadata": {},
     "output_type": "display_data"
    }
   ],
   "source": [
    "data_frame <- data.frame(row = 1:N, column = rand_position)\n",
    "\n",
    "data_frame"
   ]
  },
  {
   "cell_type": "code",
   "execution_count": 7,
   "metadata": {},
   "outputs": [],
   "source": [
    "chessboard <- function(rand_position, queen = \"Q\", sep = '  ') {\n",
    "    n <- length(rand_position)\n",
    "    row <- rep('_', n)\n",
    "\n",
    "    for (i in seq_len(n)) {\n",
    "        row_i <- row\n",
    "        row_i[rand_position[i]] <- queen\n",
    "        \n",
    "        cat(paste(row_i, collapse = sep))\n",
    "        cat('\\n')\n",
    "    }\n",
    "}"
   ]
  },
  {
   "cell_type": "code",
   "execution_count": 8,
   "metadata": {},
   "outputs": [
    {
     "name": "stdout",
     "output_type": "stream",
     "text": [
      "_  _  _  _  _  Q  _  _\n",
      "_  _  _  _  Q  _  _  _\n",
      "_  _  _  _  _  _  Q  _\n",
      "_  Q  _  _  _  _  _  _\n",
      "_  _  Q  _  _  _  _  _\n",
      "_  _  _  _  _  _  _  Q\n",
      "Q  _  _  _  _  _  _  _\n",
      "_  _  _  Q  _  _  _  _\n"
     ]
    }
   ],
   "source": [
    "chessboard(rand_position)"
   ]
  },
  {
   "cell_type": "code",
   "execution_count": 9,
   "metadata": {},
   "outputs": [
    {
     "data": {
      "text/html": [
       "<table class=\"dataframe\">\n",
       "<caption>A matrix: 8 × 8 of type lgl</caption>\n",
       "<tbody>\n",
       "\t<tr><td>NA</td><td>NA</td><td>NA</td><td>NA</td><td>NA</td><td>NA</td><td>NA</td><td>NA</td></tr>\n",
       "\t<tr><td>NA</td><td>NA</td><td>NA</td><td>NA</td><td>NA</td><td>NA</td><td>NA</td><td>NA</td></tr>\n",
       "\t<tr><td>NA</td><td>NA</td><td>NA</td><td>NA</td><td>NA</td><td>NA</td><td>NA</td><td>NA</td></tr>\n",
       "\t<tr><td>NA</td><td>NA</td><td>NA</td><td>NA</td><td>NA</td><td>NA</td><td>NA</td><td>NA</td></tr>\n",
       "\t<tr><td>NA</td><td>NA</td><td>NA</td><td>NA</td><td>NA</td><td>NA</td><td>NA</td><td>NA</td></tr>\n",
       "\t<tr><td>NA</td><td>NA</td><td>NA</td><td>NA</td><td>NA</td><td>NA</td><td>NA</td><td>NA</td></tr>\n",
       "\t<tr><td>NA</td><td>NA</td><td>NA</td><td>NA</td><td>NA</td><td>NA</td><td>NA</td><td>NA</td></tr>\n",
       "\t<tr><td>NA</td><td>NA</td><td>NA</td><td>NA</td><td>NA</td><td>NA</td><td>NA</td><td>NA</td></tr>\n",
       "</tbody>\n",
       "</table>\n"
      ],
      "text/latex": [
       "A matrix: 8 × 8 of type lgl\n",
       "\\begin{tabular}{llllllll}\n",
       "\t NA & NA & NA & NA & NA & NA & NA & NA\\\\\n",
       "\t NA & NA & NA & NA & NA & NA & NA & NA\\\\\n",
       "\t NA & NA & NA & NA & NA & NA & NA & NA\\\\\n",
       "\t NA & NA & NA & NA & NA & NA & NA & NA\\\\\n",
       "\t NA & NA & NA & NA & NA & NA & NA & NA\\\\\n",
       "\t NA & NA & NA & NA & NA & NA & NA & NA\\\\\n",
       "\t NA & NA & NA & NA & NA & NA & NA & NA\\\\\n",
       "\t NA & NA & NA & NA & NA & NA & NA & NA\\\\\n",
       "\\end{tabular}\n"
      ],
      "text/markdown": [
       "\n",
       "A matrix: 8 × 8 of type lgl\n",
       "\n",
       "| NA | NA | NA | NA | NA | NA | NA | NA |\n",
       "| NA | NA | NA | NA | NA | NA | NA | NA |\n",
       "| NA | NA | NA | NA | NA | NA | NA | NA |\n",
       "| NA | NA | NA | NA | NA | NA | NA | NA |\n",
       "| NA | NA | NA | NA | NA | NA | NA | NA |\n",
       "| NA | NA | NA | NA | NA | NA | NA | NA |\n",
       "| NA | NA | NA | NA | NA | NA | NA | NA |\n",
       "| NA | NA | NA | NA | NA | NA | NA | NA |\n",
       "\n"
      ],
      "text/plain": [
       "     [,1] [,2] [,3] [,4] [,5] [,6] [,7] [,8]\n",
       "[1,] NA   NA   NA   NA   NA   NA   NA   NA  \n",
       "[2,] NA   NA   NA   NA   NA   NA   NA   NA  \n",
       "[3,] NA   NA   NA   NA   NA   NA   NA   NA  \n",
       "[4,] NA   NA   NA   NA   NA   NA   NA   NA  \n",
       "[5,] NA   NA   NA   NA   NA   NA   NA   NA  \n",
       "[6,] NA   NA   NA   NA   NA   NA   NA   NA  \n",
       "[7,] NA   NA   NA   NA   NA   NA   NA   NA  \n",
       "[8,] NA   NA   NA   NA   NA   NA   NA   NA  "
      ]
     },
     "metadata": {},
     "output_type": "display_data"
    }
   ],
   "source": [
    "matrix_diag <- array(NA, dim = c(N, N))\n",
    "\n",
    "matrix_diag"
   ]
  },
  {
   "cell_type": "code",
   "execution_count": 10,
   "metadata": {},
   "outputs": [
    {
     "data": {
      "text/html": [
       "<table class=\"dataframe\">\n",
       "<caption>A matrix: 8 × 8 of type int</caption>\n",
       "<tbody>\n",
       "\t<tr><td> 0</td><td> 1</td><td> 2</td><td> 3</td><td> 4</td><td> 5</td><td> 6</td><td>7</td></tr>\n",
       "\t<tr><td>-1</td><td> 0</td><td> 1</td><td> 2</td><td> 3</td><td> 4</td><td> 5</td><td>6</td></tr>\n",
       "\t<tr><td>-2</td><td>-1</td><td> 0</td><td> 1</td><td> 2</td><td> 3</td><td> 4</td><td>5</td></tr>\n",
       "\t<tr><td>-3</td><td>-2</td><td>-1</td><td> 0</td><td> 1</td><td> 2</td><td> 3</td><td>4</td></tr>\n",
       "\t<tr><td>-4</td><td>-3</td><td>-2</td><td>-1</td><td> 0</td><td> 1</td><td> 2</td><td>3</td></tr>\n",
       "\t<tr><td>-5</td><td>-4</td><td>-3</td><td>-2</td><td>-1</td><td> 0</td><td> 1</td><td>2</td></tr>\n",
       "\t<tr><td>-6</td><td>-5</td><td>-4</td><td>-3</td><td>-2</td><td>-1</td><td> 0</td><td>1</td></tr>\n",
       "\t<tr><td>-7</td><td>-6</td><td>-5</td><td>-4</td><td>-3</td><td>-2</td><td>-1</td><td>0</td></tr>\n",
       "</tbody>\n",
       "</table>\n"
      ],
      "text/latex": [
       "A matrix: 8 × 8 of type int\n",
       "\\begin{tabular}{llllllll}\n",
       "\t  0 &  1 &  2 &  3 &  4 &  5 &  6 & 7\\\\\n",
       "\t -1 &  0 &  1 &  2 &  3 &  4 &  5 & 6\\\\\n",
       "\t -2 & -1 &  0 &  1 &  2 &  3 &  4 & 5\\\\\n",
       "\t -3 & -2 & -1 &  0 &  1 &  2 &  3 & 4\\\\\n",
       "\t -4 & -3 & -2 & -1 &  0 &  1 &  2 & 3\\\\\n",
       "\t -5 & -4 & -3 & -2 & -1 &  0 &  1 & 2\\\\\n",
       "\t -6 & -5 & -4 & -3 & -2 & -1 &  0 & 1\\\\\n",
       "\t -7 & -6 & -5 & -4 & -3 & -2 & -1 & 0\\\\\n",
       "\\end{tabular}\n"
      ],
      "text/markdown": [
       "\n",
       "A matrix: 8 × 8 of type int\n",
       "\n",
       "|  0 |  1 |  2 |  3 |  4 |  5 |  6 | 7 |\n",
       "| -1 |  0 |  1 |  2 |  3 |  4 |  5 | 6 |\n",
       "| -2 | -1 |  0 |  1 |  2 |  3 |  4 | 5 |\n",
       "| -3 | -2 | -1 |  0 |  1 |  2 |  3 | 4 |\n",
       "| -4 | -3 | -2 | -1 |  0 |  1 |  2 | 3 |\n",
       "| -5 | -4 | -3 | -2 | -1 |  0 |  1 | 2 |\n",
       "| -6 | -5 | -4 | -3 | -2 | -1 |  0 | 1 |\n",
       "| -7 | -6 | -5 | -4 | -3 | -2 | -1 | 0 |\n",
       "\n"
      ],
      "text/plain": [
       "     [,1] [,2] [,3] [,4] [,5] [,6] [,7] [,8]\n",
       "[1,]  0    1    2    3    4    5    6   7   \n",
       "[2,] -1    0    1    2    3    4    5   6   \n",
       "[3,] -2   -1    0    1    2    3    4   5   \n",
       "[4,] -3   -2   -1    0    1    2    3   4   \n",
       "[5,] -4   -3   -2   -1    0    1    2   3   \n",
       "[6,] -5   -4   -3   -2   -1    0    1   2   \n",
       "[7,] -6   -5   -4   -3   -2   -1    0   1   \n",
       "[8,] -7   -6   -5   -4   -3   -2   -1   0   "
      ]
     },
     "metadata": {},
     "output_type": "display_data"
    }
   ],
   "source": [
    "for (row in 1:N)\n",
    "    for (col in 1:N)\n",
    "        matrix_diag[row, col] <- col - row\n",
    "\n",
    "matrix_diag"
   ]
  },
  {
   "cell_type": "code",
   "execution_count": 11,
   "metadata": {},
   "outputs": [
    {
     "data": {
      "text/html": [
       "<table class=\"dataframe\">\n",
       "<caption>A matrix: 8 × 8 of type dbl</caption>\n",
       "<tbody>\n",
       "\t<tr><td>-7</td><td>-6</td><td>-5</td><td>-4</td><td>-3</td><td>-2</td><td>-1</td><td>0</td></tr>\n",
       "\t<tr><td>-6</td><td>-5</td><td>-4</td><td>-3</td><td>-2</td><td>-1</td><td> 0</td><td>1</td></tr>\n",
       "\t<tr><td>-5</td><td>-4</td><td>-3</td><td>-2</td><td>-1</td><td> 0</td><td> 1</td><td>2</td></tr>\n",
       "\t<tr><td>-4</td><td>-3</td><td>-2</td><td>-1</td><td> 0</td><td> 1</td><td> 2</td><td>3</td></tr>\n",
       "\t<tr><td>-3</td><td>-2</td><td>-1</td><td> 0</td><td> 1</td><td> 2</td><td> 3</td><td>4</td></tr>\n",
       "\t<tr><td>-2</td><td>-1</td><td> 0</td><td> 1</td><td> 2</td><td> 3</td><td> 4</td><td>5</td></tr>\n",
       "\t<tr><td>-1</td><td> 0</td><td> 1</td><td> 2</td><td> 3</td><td> 4</td><td> 5</td><td>6</td></tr>\n",
       "\t<tr><td> 0</td><td> 1</td><td> 2</td><td> 3</td><td> 4</td><td> 5</td><td> 6</td><td>7</td></tr>\n",
       "</tbody>\n",
       "</table>\n"
      ],
      "text/latex": [
       "A matrix: 8 × 8 of type dbl\n",
       "\\begin{tabular}{llllllll}\n",
       "\t -7 & -6 & -5 & -4 & -3 & -2 & -1 & 0\\\\\n",
       "\t -6 & -5 & -4 & -3 & -2 & -1 &  0 & 1\\\\\n",
       "\t -5 & -4 & -3 & -2 & -1 &  0 &  1 & 2\\\\\n",
       "\t -4 & -3 & -2 & -1 &  0 &  1 &  2 & 3\\\\\n",
       "\t -3 & -2 & -1 &  0 &  1 &  2 &  3 & 4\\\\\n",
       "\t -2 & -1 &  0 &  1 &  2 &  3 &  4 & 5\\\\\n",
       "\t -1 &  0 &  1 &  2 &  3 &  4 &  5 & 6\\\\\n",
       "\t  0 &  1 &  2 &  3 &  4 &  5 &  6 & 7\\\\\n",
       "\\end{tabular}\n"
      ],
      "text/markdown": [
       "\n",
       "A matrix: 8 × 8 of type dbl\n",
       "\n",
       "| -7 | -6 | -5 | -4 | -3 | -2 | -1 | 0 |\n",
       "| -6 | -5 | -4 | -3 | -2 | -1 |  0 | 1 |\n",
       "| -5 | -4 | -3 | -2 | -1 |  0 |  1 | 2 |\n",
       "| -4 | -3 | -2 | -1 |  0 |  1 |  2 | 3 |\n",
       "| -3 | -2 | -1 |  0 |  1 |  2 |  3 | 4 |\n",
       "| -2 | -1 |  0 |  1 |  2 |  3 |  4 | 5 |\n",
       "| -1 |  0 |  1 |  2 |  3 |  4 |  5 | 6 |\n",
       "|  0 |  1 |  2 |  3 |  4 |  5 |  6 | 7 |\n",
       "\n"
      ],
      "text/plain": [
       "     [,1] [,2] [,3] [,4] [,5] [,6] [,7] [,8]\n",
       "[1,] -7   -6   -5   -4   -3   -2   -1   0   \n",
       "[2,] -6   -5   -4   -3   -2   -1    0   1   \n",
       "[3,] -5   -4   -3   -2   -1    0    1   2   \n",
       "[4,] -4   -3   -2   -1    0    1    2   3   \n",
       "[5,] -3   -2   -1    0    1    2    3   4   \n",
       "[6,] -2   -1    0    1    2    3    4   5   \n",
       "[7,] -1    0    1    2    3    4    5   6   \n",
       "[8,]  0    1    2    3    4    5    6   7   "
      ]
     },
     "metadata": {},
     "output_type": "display_data"
    }
   ],
   "source": [
    "for (row in 1:N)\n",
    "    for (col in 1:N)\n",
    "        matrix_diag[row, col] <- col + row - (N + 1)\n",
    "\n",
    "matrix_diag"
   ]
  },
  {
   "cell_type": "code",
   "execution_count": 12,
   "metadata": {},
   "outputs": [
    {
     "data": {
      "text/html": [
       "<style>\n",
       ".list-inline {list-style: none; margin:0; padding: 0}\n",
       ".list-inline>li {display: inline-block}\n",
       ".list-inline>li:not(:last-child)::after {content: \"\\00b7\"; padding: 0 .5ex}\n",
       "</style>\n",
       "<ol class=list-inline><li>6</li><li>5</li><li>7</li><li>2</li><li>3</li><li>8</li><li>1</li><li>4</li></ol>\n"
      ],
      "text/latex": [
       "\\begin{enumerate*}\n",
       "\\item 6\n",
       "\\item 5\n",
       "\\item 7\n",
       "\\item 2\n",
       "\\item 3\n",
       "\\item 8\n",
       "\\item 1\n",
       "\\item 4\n",
       "\\end{enumerate*}\n"
      ],
      "text/markdown": [
       "1. 6\n",
       "2. 5\n",
       "3. 7\n",
       "4. 2\n",
       "5. 3\n",
       "6. 8\n",
       "7. 1\n",
       "8. 4\n",
       "\n",
       "\n"
      ],
      "text/plain": [
       "[1] 6 5 7 2 3 8 1 4"
      ]
     },
     "metadata": {},
     "output_type": "display_data"
    }
   ],
   "source": [
    "rand_position"
   ]
  },
  {
   "cell_type": "code",
   "execution_count": 13,
   "metadata": {},
   "outputs": [
    {
     "data": {
      "text/html": [
       "<style>\n",
       ".list-inline {list-style: none; margin:0; padding: 0}\n",
       ".list-inline>li {display: inline-block}\n",
       ".list-inline>li:not(:last-child)::after {content: \"\\00b7\"; padding: 0 .5ex}\n",
       "</style>\n",
       "<ol class=list-inline><li>FALSE</li><li>FALSE</li><li>FALSE</li><li>FALSE</li><li>FALSE</li><li>FALSE</li><li>FALSE</li><li>FALSE</li></ol>\n"
      ],
      "text/latex": [
       "\\begin{enumerate*}\n",
       "\\item FALSE\n",
       "\\item FALSE\n",
       "\\item FALSE\n",
       "\\item FALSE\n",
       "\\item FALSE\n",
       "\\item FALSE\n",
       "\\item FALSE\n",
       "\\item FALSE\n",
       "\\end{enumerate*}\n"
      ],
      "text/markdown": [
       "1. FALSE\n",
       "2. FALSE\n",
       "3. FALSE\n",
       "4. FALSE\n",
       "5. FALSE\n",
       "6. FALSE\n",
       "7. FALSE\n",
       "8. FALSE\n",
       "\n",
       "\n"
      ],
      "text/plain": [
       "[1] FALSE FALSE FALSE FALSE FALSE FALSE FALSE FALSE"
      ]
     },
     "metadata": {},
     "output_type": "display_data"
    }
   ],
   "source": [
    "duplicated(rand_position)"
   ]
  },
  {
   "cell_type": "code",
   "execution_count": 14,
   "metadata": {},
   "outputs": [
    {
     "data": {
      "text/html": [
       "0"
      ],
      "text/latex": [
       "0"
      ],
      "text/markdown": [
       "0"
      ],
      "text/plain": [
       "[1] 0"
      ]
     },
     "metadata": {},
     "output_type": "display_data"
    }
   ],
   "source": [
    "sum(duplicated(rand_position))"
   ]
  },
  {
   "cell_type": "code",
   "execution_count": 15,
   "metadata": {},
   "outputs": [
    {
     "data": {
      "text/html": [
       "<style>\n",
       ".list-inline {list-style: none; margin:0; padding: 0}\n",
       ".list-inline>li {display: inline-block}\n",
       ".list-inline>li:not(:last-child)::after {content: \"\\00b7\"; padding: 0 .5ex}\n",
       "</style>\n",
       "<ol class=list-inline><li>FALSE</li><li>FALSE</li><li>FALSE</li><li>FALSE</li><li>TRUE</li><li>FALSE</li><li>FALSE</li><li>FALSE</li></ol>\n"
      ],
      "text/latex": [
       "\\begin{enumerate*}\n",
       "\\item FALSE\n",
       "\\item FALSE\n",
       "\\item FALSE\n",
       "\\item FALSE\n",
       "\\item TRUE\n",
       "\\item FALSE\n",
       "\\item FALSE\n",
       "\\item FALSE\n",
       "\\end{enumerate*}\n"
      ],
      "text/markdown": [
       "1. FALSE\n",
       "2. FALSE\n",
       "3. FALSE\n",
       "4. FALSE\n",
       "5. TRUE\n",
       "6. FALSE\n",
       "7. FALSE\n",
       "8. FALSE\n",
       "\n",
       "\n"
      ],
      "text/plain": [
       "[1] FALSE FALSE FALSE FALSE  TRUE FALSE FALSE FALSE"
      ]
     },
     "metadata": {},
     "output_type": "display_data"
    }
   ],
   "source": [
    "duplicated(rand_position - seq_along(rand_position))"
   ]
  },
  {
   "cell_type": "code",
   "execution_count": 16,
   "metadata": {},
   "outputs": [
    {
     "data": {
      "text/html": [
       "<style>\n",
       ".list-inline {list-style: none; margin:0; padding: 0}\n",
       ".list-inline>li {display: inline-block}\n",
       ".list-inline>li:not(:last-child)::after {content: \"\\00b7\"; padding: 0 .5ex}\n",
       "</style>\n",
       "<ol class=list-inline><li>5</li><li>3</li><li>4</li><li>-2</li><li>-2</li><li>2</li><li>-6</li><li>-4</li></ol>\n"
      ],
      "text/latex": [
       "\\begin{enumerate*}\n",
       "\\item 5\n",
       "\\item 3\n",
       "\\item 4\n",
       "\\item -2\n",
       "\\item -2\n",
       "\\item 2\n",
       "\\item -6\n",
       "\\item -4\n",
       "\\end{enumerate*}\n"
      ],
      "text/markdown": [
       "1. 5\n",
       "2. 3\n",
       "3. 4\n",
       "4. -2\n",
       "5. -2\n",
       "6. 2\n",
       "7. -6\n",
       "8. -4\n",
       "\n",
       "\n"
      ],
      "text/plain": [
       "[1]  5  3  4 -2 -2  2 -6 -4"
      ]
     },
     "metadata": {},
     "output_type": "display_data"
    }
   ],
   "source": [
    "rand_position - seq_along(rand_position)"
   ]
  },
  {
   "cell_type": "code",
   "execution_count": 17,
   "metadata": {},
   "outputs": [
    {
     "data": {
      "text/html": [
       "1"
      ],
      "text/latex": [
       "1"
      ],
      "text/markdown": [
       "1"
      ],
      "text/plain": [
       "[1] 1"
      ]
     },
     "metadata": {},
     "output_type": "display_data"
    }
   ],
   "source": [
    "sum(duplicated(rand_position - seq_along(rand_position)))"
   ]
  },
  {
   "cell_type": "code",
   "execution_count": 18,
   "metadata": {},
   "outputs": [
    {
     "data": {
      "text/html": [
       "<style>\n",
       ".list-inline {list-style: none; margin:0; padding: 0}\n",
       ".list-inline>li {display: inline-block}\n",
       ".list-inline>li:not(:last-child)::after {content: \"\\00b7\"; padding: 0 .5ex}\n",
       "</style>\n",
       "<ol class=list-inline><li>FALSE</li><li>TRUE</li><li>FALSE</li><li>FALSE</li><li>FALSE</li><li>FALSE</li><li>TRUE</li><li>FALSE</li></ol>\n"
      ],
      "text/latex": [
       "\\begin{enumerate*}\n",
       "\\item FALSE\n",
       "\\item TRUE\n",
       "\\item FALSE\n",
       "\\item FALSE\n",
       "\\item FALSE\n",
       "\\item FALSE\n",
       "\\item TRUE\n",
       "\\item FALSE\n",
       "\\end{enumerate*}\n"
      ],
      "text/markdown": [
       "1. FALSE\n",
       "2. TRUE\n",
       "3. FALSE\n",
       "4. FALSE\n",
       "5. FALSE\n",
       "6. FALSE\n",
       "7. TRUE\n",
       "8. FALSE\n",
       "\n",
       "\n"
      ],
      "text/plain": [
       "[1] FALSE  TRUE FALSE FALSE FALSE FALSE  TRUE FALSE"
      ]
     },
     "metadata": {},
     "output_type": "display_data"
    }
   ],
   "source": [
    "duplicated(rand_position + seq_along(rand_position))"
   ]
  },
  {
   "cell_type": "code",
   "execution_count": 19,
   "metadata": {},
   "outputs": [
    {
     "data": {
      "text/html": [
       "<style>\n",
       ".list-inline {list-style: none; margin:0; padding: 0}\n",
       ".list-inline>li {display: inline-block}\n",
       ".list-inline>li:not(:last-child)::after {content: \"\\00b7\"; padding: 0 .5ex}\n",
       "</style>\n",
       "<ol class=list-inline><li>7</li><li>7</li><li>10</li><li>6</li><li>8</li><li>14</li><li>8</li><li>12</li></ol>\n"
      ],
      "text/latex": [
       "\\begin{enumerate*}\n",
       "\\item 7\n",
       "\\item 7\n",
       "\\item 10\n",
       "\\item 6\n",
       "\\item 8\n",
       "\\item 14\n",
       "\\item 8\n",
       "\\item 12\n",
       "\\end{enumerate*}\n"
      ],
      "text/markdown": [
       "1. 7\n",
       "2. 7\n",
       "3. 10\n",
       "4. 6\n",
       "5. 8\n",
       "6. 14\n",
       "7. 8\n",
       "8. 12\n",
       "\n",
       "\n"
      ],
      "text/plain": [
       "[1]  7  7 10  6  8 14  8 12"
      ]
     },
     "metadata": {},
     "output_type": "display_data"
    }
   ],
   "source": [
    "rand_position + seq_along(rand_position)"
   ]
  },
  {
   "cell_type": "code",
   "execution_count": 20,
   "metadata": {},
   "outputs": [
    {
     "data": {
      "text/html": [
       "2"
      ],
      "text/latex": [
       "2"
      ],
      "text/markdown": [
       "2"
      ],
      "text/plain": [
       "[1] 2"
      ]
     },
     "metadata": {},
     "output_type": "display_data"
    }
   ],
   "source": [
    "sum(duplicated(rand_position + seq_along(rand_position)))"
   ]
  },
  {
   "cell_type": "code",
   "execution_count": 21,
   "metadata": {},
   "outputs": [],
   "source": [
    "num_attacks <- function(rand_position) {\n",
    "    sum(duplicated(rand_position)) + \n",
    "    sum(duplicated(rand_position - seq_along(rand_position))) + \n",
    "    sum(duplicated(rand_position + seq_along(rand_position)))\n",
    "}"
   ]
  },
  {
   "cell_type": "code",
   "execution_count": 22,
   "metadata": {},
   "outputs": [
    {
     "data": {
      "text/html": [
       "3"
      ],
      "text/latex": [
       "3"
      ],
      "text/markdown": [
       "3"
      ],
      "text/plain": [
       "[1] 3"
      ]
     },
     "metadata": {},
     "output_type": "display_data"
    }
   ],
   "source": [
    "num_attacks(rand_position)"
   ]
  },
  {
   "cell_type": "code",
   "execution_count": 23,
   "metadata": {},
   "outputs": [],
   "source": [
    "move_one_queen <- function(rand_position){\n",
    "    step <- 4\n",
    "    i <- sample.int(N, 1)\n",
    "    \n",
    "    rand_position[i] <- rand_position[i] + sample(c(1:step, -(1:step)), 1)\n",
    "    \n",
    "    if (rand_position[i] > N)\n",
    "        rand_position[i] <- 1\n",
    "    else if (rand_position[i] < 1)\n",
    "        rand_position[i] <- N\n",
    "    \n",
    "    rand_position\n",
    "}"
   ]
  },
  {
   "cell_type": "code",
   "execution_count": 24,
   "metadata": {},
   "outputs": [
    {
     "name": "stdout",
     "output_type": "stream",
     "text": [
      "_  _  _  _  _  Q  _  _\n",
      "_  _  _  _  Q  _  _  _\n",
      "_  _  _  _  _  _  Q  _\n",
      "_  Q  _  _  _  _  _  _\n",
      "_  _  Q  _  _  _  _  _\n",
      "_  _  _  _  _  _  _  Q\n",
      "Q  _  _  _  _  _  _  _\n",
      "_  _  _  Q  _  _  _  _\n"
     ]
    }
   ],
   "source": [
    "chessboard(rand_position)"
   ]
  },
  {
   "cell_type": "code",
   "execution_count": 25,
   "metadata": {},
   "outputs": [
    {
     "name": "stdout",
     "output_type": "stream",
     "text": [
      "_  _  _  _  _  Q  _  _\n",
      "_  Q  _  _  _  _  _  _\n",
      "_  _  _  _  _  _  Q  _\n",
      "_  Q  _  _  _  _  _  _\n",
      "_  _  Q  _  _  _  _  _\n",
      "_  _  _  _  _  _  _  Q\n",
      "Q  _  _  _  _  _  _  _\n",
      "_  _  _  Q  _  _  _  _\n"
     ]
    }
   ],
   "source": [
    "chessboard(rand_position <- move_one_queen(rand_position))"
   ]
  },
  {
   "cell_type": "code",
   "execution_count": 26,
   "metadata": {},
   "outputs": [
    {
     "name": "stdout",
     "output_type": "stream",
     "text": [
      "_  _  _  _  _  Q  _  _\n",
      "_  Q  _  _  _  _  _  _\n",
      "_  _  _  _  _  _  Q  _\n",
      "_  Q  _  _  _  _  _  _\n",
      "_  _  Q  _  _  _  _  _\n",
      "_  _  _  _  _  _  _  Q\n",
      "_  Q  _  _  _  _  _  _\n",
      "_  _  _  Q  _  _  _  _\n"
     ]
    }
   ],
   "source": [
    "chessboard(rand_position <- move_one_queen(rand_position))"
   ]
  },
  {
   "cell_type": "code",
   "execution_count": 27,
   "metadata": {},
   "outputs": [
    {
     "data": {
      "text/html": [
       "<style>\n",
       ".list-inline {list-style: none; margin:0; padding: 0}\n",
       ".list-inline>li {display: inline-block}\n",
       ".list-inline>li:not(:last-child)::after {content: \"\\00b7\"; padding: 0 .5ex}\n",
       "</style>\n",
       "<ol class=list-inline><li>2</li><li>2</li><li>2</li><li>2</li><li>2</li><li>2</li><li>2</li><li>2</li></ol>\n"
      ],
      "text/latex": [
       "\\begin{enumerate*}\n",
       "\\item 2\n",
       "\\item 2\n",
       "\\item 2\n",
       "\\item 2\n",
       "\\item 2\n",
       "\\item 2\n",
       "\\item 2\n",
       "\\item 2\n",
       "\\end{enumerate*}\n"
      ],
      "text/markdown": [
       "1. 2\n",
       "2. 2\n",
       "3. 2\n",
       "4. 2\n",
       "5. 2\n",
       "6. 2\n",
       "7. 2\n",
       "8. 2\n",
       "\n",
       "\n"
      ],
      "text/plain": [
       "[1] 2 2 2 2 2 2 2 2"
      ]
     },
     "metadata": {},
     "output_type": "display_data"
    }
   ],
   "source": [
    "p0 <- rep(2, N)\n",
    "\n",
    "p0"
   ]
  },
  {
   "cell_type": "code",
   "execution_count": 28,
   "metadata": {},
   "outputs": [
    {
     "name": "stdout",
     "output_type": "stream",
     "text": [
      "_  Q  _  _  _  _  _  _\n",
      "_  Q  _  _  _  _  _  _\n",
      "_  Q  _  _  _  _  _  _\n",
      "_  Q  _  _  _  _  _  _\n",
      "_  Q  _  _  _  _  _  _\n",
      "_  Q  _  _  _  _  _  _\n",
      "_  Q  _  _  _  _  _  _\n",
      "_  Q  _  _  _  _  _  _\n"
     ]
    }
   ],
   "source": [
    "chessboard(p0)"
   ]
  },
  {
   "cell_type": "code",
   "execution_count": 29,
   "metadata": {},
   "outputs": [
    {
     "name": "stdout",
     "output_type": "stream",
     "text": [
      "_  Q  _  _  _  _  _  _\n",
      "_  Q  _  _  _  _  _  _\n",
      "_  _  _  _  _  Q  _  _\n",
      "_  Q  _  _  _  _  _  _\n",
      "_  Q  _  _  _  _  _  _\n",
      "_  Q  _  _  _  _  _  _\n",
      "_  Q  _  _  _  _  _  _\n",
      "_  Q  _  _  _  _  _  _\n"
     ]
    }
   ],
   "source": [
    "chessboard(rand_position <- move_one_queen(p0))"
   ]
  },
  {
   "cell_type": "code",
   "execution_count": 30,
   "metadata": {},
   "outputs": [
    {
     "name": "stdout",
     "output_type": "stream",
     "text": [
      "_  Q  _  _  _  _  _  _\n",
      "_  Q  _  _  _  _  _  _\n",
      "_  _  _  _  _  Q  _  _\n",
      "_  Q  _  _  _  _  _  _\n",
      "_  Q  _  _  _  _  _  _\n",
      "_  Q  _  _  _  _  _  _\n",
      "_  _  _  _  _  _  _  Q\n",
      "_  Q  _  _  _  _  _  _\n"
     ]
    }
   ],
   "source": [
    "chessboard(rand_position <- move_one_queen(rand_position))"
   ]
  },
  {
   "cell_type": "code",
   "execution_count": 31,
   "metadata": {},
   "outputs": [
    {
     "name": "stdout",
     "output_type": "stream",
     "text": [
      "\n",
      "Local Search.\n",
      "Initial solution:  7 \n",
      "  |======================================================================| 100%\n",
      "Finished.\n",
      "Best solution overall: 0\n"
     ]
    }
   ],
   "source": [
    "stochastic_local_search <- LSopt(num_attacks, list(x0 = p0, neighbour = move_one_queen,\n",
    "                                 printBar = T, nS = 10000))"
   ]
  },
  {
   "cell_type": "code",
   "execution_count": 32,
   "metadata": {},
   "outputs": [
    {
     "data": {
      "text/html": [
       "<style>\n",
       ".list-inline {list-style: none; margin:0; padding: 0}\n",
       ".list-inline>li {display: inline-block}\n",
       ".list-inline>li:not(:last-child)::after {content: \"\\00b7\"; padding: 0 .5ex}\n",
       "</style>\n",
       "<ol class=list-inline><li>3</li><li>5</li><li>2</li><li>8</li><li>1</li><li>7</li><li>4</li><li>6</li></ol>\n"
      ],
      "text/latex": [
       "\\begin{enumerate*}\n",
       "\\item 3\n",
       "\\item 5\n",
       "\\item 2\n",
       "\\item 8\n",
       "\\item 1\n",
       "\\item 7\n",
       "\\item 4\n",
       "\\item 6\n",
       "\\end{enumerate*}\n"
      ],
      "text/markdown": [
       "1. 3\n",
       "2. 5\n",
       "3. 2\n",
       "4. 8\n",
       "5. 1\n",
       "6. 7\n",
       "7. 4\n",
       "8. 6\n",
       "\n",
       "\n"
      ],
      "text/plain": [
       "[1] 3 5 2 8 1 7 4 6"
      ]
     },
     "metadata": {},
     "output_type": "display_data"
    }
   ],
   "source": [
    "stochastic_local_search$xbest"
   ]
  },
  {
   "cell_type": "code",
   "execution_count": 33,
   "metadata": {},
   "outputs": [
    {
     "name": "stdout",
     "output_type": "stream",
     "text": [
      "_  _  Q  _  _  _  _  _\n",
      "_  _  _  _  Q  _  _  _\n",
      "_  Q  _  _  _  _  _  _\n",
      "_  _  _  _  _  _  _  Q\n",
      "Q  _  _  _  _  _  _  _\n",
      "_  _  _  _  _  _  Q  _\n",
      "_  _  _  Q  _  _  _  _\n",
      "_  _  _  _  _  Q  _  _\n"
     ]
    }
   ],
   "source": [
    "chessboard(stochastic_local_search$xbest)"
   ]
  },
  {
   "cell_type": "code",
   "execution_count": 34,
   "metadata": {},
   "outputs": [
    {
     "data": {
      "text/html": [
       "0"
      ],
      "text/latex": [
       "0"
      ],
      "text/markdown": [
       "0"
      ],
      "text/plain": [
       "[1] 0"
      ]
     },
     "metadata": {},
     "output_type": "display_data"
    }
   ],
   "source": [
    "num_attacks(stochastic_local_search$xbest)"
   ]
  },
  {
   "cell_type": "code",
   "execution_count": 35,
   "metadata": {},
   "outputs": [
    {
     "data": {
      "text/html": [
       "0"
      ],
      "text/latex": [
       "0"
      ],
      "text/markdown": [
       "0"
      ],
      "text/plain": [
       "[1] 0"
      ]
     },
     "metadata": {},
     "output_type": "display_data"
    }
   ],
   "source": [
    "stochastic_local_search$OFvalue"
   ]
  },
  {
   "cell_type": "code",
   "execution_count": 36,
   "metadata": {},
   "outputs": [
    {
     "name": "stdout",
     "output_type": "stream",
     "text": [
      "\n",
      "Threshold Accepting\n",
      "\n",
      "  Computing thresholds ... \n",
      "  |============================================================| 100%\n",
      "  OK\n",
      "  Estimated remaining running time: 53 secs\n",
      "\n",
      "  Running Threshold Accepting ...\n",
      "  Initial solution: 7 \n",
      "  |============================================================| 100%\n",
      "  Finished.\n",
      "  Best solution overall: 1\n"
     ]
    }
   ],
   "source": [
    "threshold_accepting_search <- TAopt(num_attacks, list(x0 = p0, neighbour = move_one_queen,\n",
    "                                    printBar = T, nS = 10000))"
   ]
  },
  {
   "cell_type": "code",
   "execution_count": 37,
   "metadata": {},
   "outputs": [
    {
     "data": {
      "text/html": [
       "<style>\n",
       ".list-inline {list-style: none; margin:0; padding: 0}\n",
       ".list-inline>li {display: inline-block}\n",
       ".list-inline>li:not(:last-child)::after {content: \"\\00b7\"; padding: 0 .5ex}\n",
       "</style>\n",
       "<ol class=list-inline><li>2</li><li>2</li><li>2</li><li>2</li><li>2</li><li>2</li><li>2</li><li>2</li></ol>\n"
      ],
      "text/latex": [
       "\\begin{enumerate*}\n",
       "\\item 2\n",
       "\\item 2\n",
       "\\item 2\n",
       "\\item 2\n",
       "\\item 2\n",
       "\\item 2\n",
       "\\item 2\n",
       "\\item 2\n",
       "\\end{enumerate*}\n"
      ],
      "text/markdown": [
       "1. 2\n",
       "2. 2\n",
       "3. 2\n",
       "4. 2\n",
       "5. 2\n",
       "6. 2\n",
       "7. 2\n",
       "8. 2\n",
       "\n",
       "\n"
      ],
      "text/plain": [
       "[1] 2 2 2 2 2 2 2 2"
      ]
     },
     "metadata": {},
     "output_type": "display_data"
    }
   ],
   "source": [
    "threshold_accepting_search$x0"
   ]
  },
  {
   "cell_type": "code",
   "execution_count": 38,
   "metadata": {},
   "outputs": [
    {
     "data": {
      "text/html": [
       "<style>\n",
       ".list-inline {list-style: none; margin:0; padding: 0}\n",
       ".list-inline>li {display: inline-block}\n",
       ".list-inline>li:not(:last-child)::after {content: \"\\00b7\"; padding: 0 .5ex}\n",
       "</style>\n",
       "<ol class=list-inline><li>8</li><li>6</li><li>3</li><li>7</li><li>4</li><li>1</li><li>5</li><li>2</li></ol>\n"
      ],
      "text/latex": [
       "\\begin{enumerate*}\n",
       "\\item 8\n",
       "\\item 6\n",
       "\\item 3\n",
       "\\item 7\n",
       "\\item 4\n",
       "\\item 1\n",
       "\\item 5\n",
       "\\item 2\n",
       "\\end{enumerate*}\n"
      ],
      "text/markdown": [
       "1. 8\n",
       "2. 6\n",
       "3. 3\n",
       "4. 7\n",
       "5. 4\n",
       "6. 1\n",
       "7. 5\n",
       "8. 2\n",
       "\n",
       "\n"
      ],
      "text/plain": [
       "[1] 8 6 3 7 4 1 5 2"
      ]
     },
     "metadata": {},
     "output_type": "display_data"
    }
   ],
   "source": [
    "threshold_accepting_search$xbest"
   ]
  },
  {
   "cell_type": "code",
   "execution_count": 39,
   "metadata": {},
   "outputs": [
    {
     "name": "stdout",
     "output_type": "stream",
     "text": [
      "_  _  _  _  _  _  _  Q\n",
      "_  _  _  _  _  Q  _  _\n",
      "_  _  Q  _  _  _  _  _\n",
      "_  _  _  _  _  _  Q  _\n",
      "_  _  _  Q  _  _  _  _\n",
      "Q  _  _  _  _  _  _  _\n",
      "_  _  _  _  Q  _  _  _\n",
      "_  Q  _  _  _  _  _  _\n"
     ]
    }
   ],
   "source": [
    "chessboard(threshold_accepting_search$xbest)"
   ]
  },
  {
   "cell_type": "code",
   "execution_count": 40,
   "metadata": {},
   "outputs": [
    {
     "data": {
      "text/html": [
       "1"
      ],
      "text/latex": [
       "1"
      ],
      "text/markdown": [
       "1"
      ],
      "text/plain": [
       "[1] 1"
      ]
     },
     "metadata": {},
     "output_type": "display_data"
    }
   ],
   "source": [
    "num_attacks(threshold_accepting_search$xbest)"
   ]
  },
  {
   "cell_type": "code",
   "execution_count": 41,
   "metadata": {},
   "outputs": [
    {
     "data": {
      "text/html": [
       "1"
      ],
      "text/latex": [
       "1"
      ],
      "text/markdown": [
       "1"
      ],
      "text/plain": [
       "[1] 1"
      ]
     },
     "metadata": {},
     "output_type": "display_data"
    }
   ],
   "source": [
    "threshold_accepting_search$OFvalue"
   ]
  },
  {
   "cell_type": "code",
   "execution_count": 42,
   "metadata": {},
   "outputs": [
    {
     "name": "stdout",
     "output_type": "stream",
     "text": [
      "\n",
      "Simulated Annealing.\n",
      "\n",
      "  |======================================================================| 100%\n",
      "OK\n",
      "Estimated remaining running time: 99 secs.\n",
      "\n",
      "Running Simulated Annealing ...\n",
      "Initial solution:  7 \n",
      "  |======================================================================| 100%Finished.\n",
      "Best solution overall: 0\n",
      "\n"
     ]
    }
   ],
   "source": [
    "simulated_annealing_search <- SAopt(num_attacks, list(x0 = p0, neighbour = move_one_queen,\n",
    "                                    printBar = T, nS = 10000))"
   ]
  },
  {
   "cell_type": "code",
   "execution_count": 43,
   "metadata": {},
   "outputs": [
    {
     "data": {
      "text/html": [
       "<style>\n",
       ".list-inline {list-style: none; margin:0; padding: 0}\n",
       ".list-inline>li {display: inline-block}\n",
       ".list-inline>li:not(:last-child)::after {content: \"\\00b7\"; padding: 0 .5ex}\n",
       "</style>\n",
       "<ol class=list-inline><li>4</li><li>8</li><li>5</li><li>3</li><li>1</li><li>7</li><li>2</li><li>6</li></ol>\n"
      ],
      "text/latex": [
       "\\begin{enumerate*}\n",
       "\\item 4\n",
       "\\item 8\n",
       "\\item 5\n",
       "\\item 3\n",
       "\\item 1\n",
       "\\item 7\n",
       "\\item 2\n",
       "\\item 6\n",
       "\\end{enumerate*}\n"
      ],
      "text/markdown": [
       "1. 4\n",
       "2. 8\n",
       "3. 5\n",
       "4. 3\n",
       "5. 1\n",
       "6. 7\n",
       "7. 2\n",
       "8. 6\n",
       "\n",
       "\n"
      ],
      "text/plain": [
       "[1] 4 8 5 3 1 7 2 6"
      ]
     },
     "metadata": {},
     "output_type": "display_data"
    }
   ],
   "source": [
    "simulated_annealing_search$xbest"
   ]
  },
  {
   "cell_type": "code",
   "execution_count": 44,
   "metadata": {},
   "outputs": [
    {
     "name": "stdout",
     "output_type": "stream",
     "text": [
      "_  _  _  Q  _  _  _  _\n",
      "_  _  _  _  _  _  _  Q\n",
      "_  _  _  _  Q  _  _  _\n",
      "_  _  Q  _  _  _  _  _\n",
      "Q  _  _  _  _  _  _  _\n",
      "_  _  _  _  _  _  Q  _\n",
      "_  Q  _  _  _  _  _  _\n",
      "_  _  _  _  _  Q  _  _\n"
     ]
    }
   ],
   "source": [
    "chessboard(simulated_annealing_search$xbest)"
   ]
  },
  {
   "cell_type": "code",
   "execution_count": 45,
   "metadata": {},
   "outputs": [
    {
     "data": {
      "text/html": [
       "0"
      ],
      "text/latex": [
       "0"
      ],
      "text/markdown": [
       "0"
      ],
      "text/plain": [
       "[1] 0"
      ]
     },
     "metadata": {},
     "output_type": "display_data"
    }
   ],
   "source": [
    "num_attacks(simulated_annealing_search$xbest)"
   ]
  },
  {
   "cell_type": "code",
   "execution_count": 46,
   "metadata": {},
   "outputs": [
    {
     "data": {
      "text/html": [
       "0"
      ],
      "text/latex": [
       "0"
      ],
      "text/markdown": [
       "0"
      ],
      "text/plain": [
       "[1] 0"
      ]
     },
     "metadata": {},
     "output_type": "display_data"
    }
   ],
   "source": [
    "simulated_annealing_search$OFvalue"
   ]
  },
  {
   "cell_type": "code",
   "execution_count": null,
   "metadata": {},
   "outputs": [],
   "source": []
  }
 ],
 "metadata": {
  "kernelspec": {
   "display_name": "R",
   "language": "R",
   "name": "ir"
  },
  "language_info": {
   "codemirror_mode": "r",
   "file_extension": ".r",
   "mimetype": "text/x-r-source",
   "name": "R",
   "pygments_lexer": "r",
   "version": "4.1.2"
  },
  "orig_nbformat": 4
 },
 "nbformat": 4,
 "nbformat_minor": 2
}
