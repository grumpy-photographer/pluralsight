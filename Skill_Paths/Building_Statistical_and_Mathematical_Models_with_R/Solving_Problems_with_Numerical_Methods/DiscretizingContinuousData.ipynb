{
 "cells": [
  {
   "cell_type": "code",
   "execution_count": null,
   "metadata": {},
   "outputs": [],
   "source": [
    "install.packages(\"lambda.tools\")"
   ]
  },
  {
   "cell_type": "code",
   "execution_count": null,
   "metadata": {},
   "outputs": [],
   "source": [
    "library(lambda.tools)\n",
    "library(ggplot2)\n",
    "\n",
    "options(repr.plot.width = 12, repr.plot.height=8)"
   ]
  },
  {
   "cell_type": "code",
   "execution_count": null,
   "metadata": {},
   "outputs": [],
   "source": [
    "con_value <- seq(-20, 20, by = .5)\n",
    "\n",
    "con_value"
   ]
  },
  {
   "cell_type": "code",
   "execution_count": null,
   "metadata": {},
   "outputs": [],
   "source": [
    "qnt_01 <- quantize(con_value)\n",
    "\n",
    "qut_01"
   ]
  },
  {
   "cell_type": "code",
   "execution_count": null,
   "metadata": {},
   "outputs": [],
   "source": [
    "qnt_df_01 <- data.frame(con_value, qnt_1)\n",
    "\n",
    "head(qnt_df_01, 5)"
   ]
  },
  {
   "cell_type": "code",
   "execution_count": null,
   "metadata": {},
   "outputs": [],
   "source": [
    "ggplot(qnt_df_01, aes(x=con_value, y=qnt_01)) +\n",
    "    geom_point(size=3, aes(color=factor(qnt_01)))"
   ]
  },
  {
   "cell_type": "code",
   "execution_count": null,
   "metadata": {},
   "outputs": [],
   "source": [
    "qnt_02 <- quantize(con_value, bins = c(-4, -3, -2, -1, 0, 1, 2, 3, 4))\n",
    "\n",
    "qnt_02"
   ]
  },
  {
   "cell_type": "code",
   "execution_count": null,
   "metadata": {},
   "outputs": [],
   "source": [
    "qnt_df_02 <- data.frame(con_value, qnt_02)\n",
    "\n",
    "head(qnt_df_02, 5)"
   ]
  },
  {
   "cell_type": "code",
   "execution_count": null,
   "metadata": {},
   "outputs": [],
   "source": [
    "ggplot(qnt_df_02, aes(x=con_value, y=qnt_02)) +\n",
    "    geom_point(size=3, aes(colour = factor(qnt_02)))"
   ]
  },
  {
   "cell_type": "code",
   "execution_count": null,
   "metadata": {},
   "outputs": [],
   "source": [
    "x <- seq(0, 2*pi, by=.1)\n",
    "\n",
    "x"
   ]
  },
  {
   "cell_type": "code",
   "execution_count": null,
   "metadata": {},
   "outputs": [],
   "source": [
    "y <- sin(x)\n",
    "\n",
    "y "
   ]
  },
  {
   "cell_type": "code",
   "execution_count": null,
   "metadata": {},
   "outputs": [],
   "source": [
    "sin_wave <- qplot(x, y, geom=\"path\", xlab=\"time\", ylab=\"Sine Wave\") +\n",
    "    geom_point(col=\"red\", size=3) +\n",
    "    geom_hline(aes(yintercept = 0), size=1, col=\"black\")\n",
    "\n",
    "sin_wave"
   ]
  },
  {
   "cell_type": "code",
   "execution_count": null,
   "metadata": {},
   "outputs": [],
   "source": [
    "qnt_03 <- quantize(sin(x), bins = c(-1, -0.75, -0.5, -.25, 0 , .25, .5, .75, 1))\n",
    "\n",
    "qnt_03"
   ]
  },
  {
   "cell_type": "code",
   "execution_count": null,
   "metadata": {},
   "outputs": [],
   "source": [
    "qnt_03 <- data.frame(x, qnt_03)\n",
    "\n",
    "head(qnt_03, 5)"
   ]
  },
  {
   "cell_type": "code",
   "execution_count": null,
   "metadata": {},
   "outputs": [],
   "source": [
    "ggplot(qnt_df_03, aes(x = x, y = qnt_03)) + \n",
    "    geom_point(size=3, aes(col=factor(qnt_03)))"
   ]
  },
  {
   "cell_type": "code",
   "execution_count": null,
   "metadata": {},
   "outputs": [],
   "source": [
    "sin_wave + geom_step(aes(x=x, y=qnt_03), col=\"blue\", size=.75)"
   ]
  },
  {
   "cell_type": "code",
   "execution_count": null,
   "metadata": {},
   "outputs": [],
   "source": []
  }
 ],
 "metadata": {
  "kernelspec": {
   "display_name": "R",
   "language": "R",
   "name": "ir"
  },
  "language_info": {
   "codemirror_mode": "r",
   "file_extension": ".r",
   "mimetype": "text/x-r-source",
   "name": "R",
   "pygments_lexer": "r",
   "version": "4.1.2"
  },
  "orig_nbformat": 4
 },
 "nbformat": 4,
 "nbformat_minor": 2
}
