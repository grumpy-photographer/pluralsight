{
 "cells": [
  {
   "cell_type": "code",
   "execution_count": 1,
   "metadata": {},
   "outputs": [
    {
     "name": "stderr",
     "output_type": "stream",
     "text": [
      "\n",
      "Attaching package: 'igraph'\n",
      "\n",
      "\n",
      "The following objects are masked from 'package:stats':\n",
      "\n",
      "    decompose, spectrum\n",
      "\n",
      "\n",
      "The following object is masked from 'package:base':\n",
      "\n",
      "    union\n",
      "\n",
      "\n"
     ]
    }
   ],
   "source": [
    "library(igraph)\n",
    "\n",
    "options(repr.plot.width = 12, repr.plot.height = 8)"
   ]
  },
  {
   "cell_type": "code",
   "execution_count": 2,
   "metadata": {},
   "outputs": [
    {
     "data": {
      "text/html": [
       "<table class=\"dataframe\">\n",
       "<caption>A data.frame: 13 × 3</caption>\n",
       "<thead>\n",
       "\t<tr><th scope=col>n1</th><th scope=col>n2</th><th scope=col>weight</th></tr>\n",
       "\t<tr><th scope=col>&lt;chr&gt;</th><th scope=col>&lt;chr&gt;</th><th scope=col>&lt;dbl&gt;</th></tr>\n",
       "</thead>\n",
       "<tbody>\n",
       "\t<tr><td>A</td><td>B</td><td>2</td></tr>\n",
       "\t<tr><td>A</td><td>C</td><td>3</td></tr>\n",
       "\t<tr><td>A</td><td>E</td><td>2</td></tr>\n",
       "\t<tr><td>A</td><td>F</td><td>5</td></tr>\n",
       "\t<tr><td>B</td><td>C</td><td>3</td></tr>\n",
       "\t<tr><td>C</td><td>F</td><td>3</td></tr>\n",
       "\t<tr><td>F</td><td>D</td><td>1</td></tr>\n",
       "\t<tr><td>E</td><td>D</td><td>2</td></tr>\n",
       "\t<tr><td>D</td><td>A</td><td>3</td></tr>\n",
       "\t<tr><td>A</td><td>P</td><td>2</td></tr>\n",
       "\t<tr><td>P</td><td>Q</td><td>4</td></tr>\n",
       "\t<tr><td>P</td><td>R</td><td>2</td></tr>\n",
       "\t<tr><td>B</td><td>R</td><td>2</td></tr>\n",
       "</tbody>\n",
       "</table>\n"
      ],
      "text/latex": [
       "A data.frame: 13 × 3\n",
       "\\begin{tabular}{lll}\n",
       " n1 & n2 & weight\\\\\n",
       " <chr> & <chr> & <dbl>\\\\\n",
       "\\hline\n",
       "\t A & B & 2\\\\\n",
       "\t A & C & 3\\\\\n",
       "\t A & E & 2\\\\\n",
       "\t A & F & 5\\\\\n",
       "\t B & C & 3\\\\\n",
       "\t C & F & 3\\\\\n",
       "\t F & D & 1\\\\\n",
       "\t E & D & 2\\\\\n",
       "\t D & A & 3\\\\\n",
       "\t A & P & 2\\\\\n",
       "\t P & Q & 4\\\\\n",
       "\t P & R & 2\\\\\n",
       "\t B & R & 2\\\\\n",
       "\\end{tabular}\n"
      ],
      "text/markdown": [
       "\n",
       "A data.frame: 13 × 3\n",
       "\n",
       "| n1 &lt;chr&gt; | n2 &lt;chr&gt; | weight &lt;dbl&gt; |\n",
       "|---|---|---|\n",
       "| A | B | 2 |\n",
       "| A | C | 3 |\n",
       "| A | E | 2 |\n",
       "| A | F | 5 |\n",
       "| B | C | 3 |\n",
       "| C | F | 3 |\n",
       "| F | D | 1 |\n",
       "| E | D | 2 |\n",
       "| D | A | 3 |\n",
       "| A | P | 2 |\n",
       "| P | Q | 4 |\n",
       "| P | R | 2 |\n",
       "| B | R | 2 |\n",
       "\n"
      ],
      "text/plain": [
       "   n1 n2 weight\n",
       "1  A  B  2     \n",
       "2  A  C  3     \n",
       "3  A  E  2     \n",
       "4  A  F  5     \n",
       "5  B  C  3     \n",
       "6  C  F  3     \n",
       "7  F  D  1     \n",
       "8  E  D  2     \n",
       "9  D  A  3     \n",
       "10 A  P  2     \n",
       "11 P  Q  4     \n",
       "12 P  R  2     \n",
       "13 B  R  2     "
      ]
     },
     "metadata": {},
     "output_type": "display_data"
    }
   ],
   "source": [
    "df = data.frame(\"n1\"=c('A','A','A','A', 'B', 'C', 'F', 'E', 'D', 'A', 'P', 'P', 'B'),\n",
    "                \"n2\"=c('B','C','E','F', 'C', 'F', 'D', 'D', 'A', 'P', 'Q', 'R', 'R'),\n",
    "                \n",
    "                \"weight\"=c(2, 3, 2, 5, 3, 3, 1, 2, 3, 2, 4, 2, 2))\n",
    "\n",
    "df"
   ]
  },
  {
   "cell_type": "code",
   "execution_count": 3,
   "metadata": {},
   "outputs": [
    {
     "data": {
      "image/png": "[encoded data removed]",
      "text/plain": [
       "Plot with title \"\""
      ]
     },
     "metadata": {
      "image/png": {
       "height": 480,
       "width": 720
      }
     },
     "output_type": "display_data"
    }
   ],
   "source": [
    "graph_df <- graph_from_data_frame(df, directed = T)\n",
    "\n",
    "plot(graph_df, vertex.size = 30, vertex.label.cex = 1.5)"
   ]
  },
  {
   "cell_type": "code",
   "execution_count": 4,
   "metadata": {},
   "outputs": [
    {
     "data": {
      "image/png": "[encoded data removed]",
      "text/plain": [
       "Plot with title \"\""
      ]
     },
     "metadata": {
      "image/png": {
       "height": 480,
       "width": 720
      }
     },
     "output_type": "display_data"
    }
   ],
   "source": [
    "graph_df <- set_edge_attr(graph_df, \"label\", value = E(graph_df)$weight)\n",
    "\n",
    "plot(graph_df, vertex.size = 30, vertex.label.cex = 1.5)"
   ]
  },
  {
   "cell_type": "code",
   "execution_count": 6,
   "metadata": {},
   "outputs": [
    {
     "data": {
      "text/html": [
       "<table class=\"dataframe\">\n",
       "<caption>A matrix: 1 × 2 of type dbl</caption>\n",
       "<thead>\n",
       "\t<tr><th></th><th scope=col>F</th><th scope=col>D</th></tr>\n",
       "</thead>\n",
       "<tbody>\n",
       "\t<tr><th scope=row>A</th><td>5</td><td>4</td></tr>\n",
       "</tbody>\n",
       "</table>\n"
      ],
      "text/latex": [
       "A matrix: 1 × 2 of type dbl\n",
       "\\begin{tabular}{r|ll}\n",
       "  & F & D\\\\\n",
       "\\hline\n",
       "\tA & 5 & 4\\\\\n",
       "\\end{tabular}\n"
      ],
      "text/markdown": [
       "\n",
       "A matrix: 1 × 2 of type dbl\n",
       "\n",
       "| <!--/--> | F | D |\n",
       "|---|---|---|\n",
       "| A | 5 | 4 |\n",
       "\n"
      ],
      "text/plain": [
       "  F D\n",
       "A 5 4"
      ]
     },
     "metadata": {},
     "output_type": "display_data"
    }
   ],
   "source": [
    "distances(graph_df, v = c(\"A\"), to = c(\"F\", \"D\"), mode = c(\"out\"), algorithm = c(\"dijkstra\"))"
   ]
  },
  {
   "cell_type": "code",
   "execution_count": 7,
   "metadata": {},
   "outputs": [
    {
     "data": {
      "text/html": [
       "<table class=\"dataframe\">\n",
       "<caption>A matrix: 1 × 2 of type dbl</caption>\n",
       "<thead>\n",
       "\t<tr><th></th><th scope=col>Q</th><th scope=col>B</th></tr>\n",
       "</thead>\n",
       "<tbody>\n",
       "\t<tr><th scope=row>P</th><td>4</td><td>Inf</td></tr>\n",
       "</tbody>\n",
       "</table>\n"
      ],
      "text/latex": [
       "A matrix: 1 × 2 of type dbl\n",
       "\\begin{tabular}{r|ll}\n",
       "  & Q & B\\\\\n",
       "\\hline\n",
       "\tP & 4 & Inf\\\\\n",
       "\\end{tabular}\n"
      ],
      "text/markdown": [
       "\n",
       "A matrix: 1 × 2 of type dbl\n",
       "\n",
       "| <!--/--> | Q | B |\n",
       "|---|---|---|\n",
       "| P | 4 | Inf |\n",
       "\n"
      ],
      "text/plain": [
       "  Q B  \n",
       "P 4 Inf"
      ]
     },
     "metadata": {},
     "output_type": "display_data"
    }
   ],
   "source": [
    "distances(graph_df, v = c(\"P\"), to = c(\"Q\", \"B\"), mode = c(\"out\"), algorithm = c(\"bellman-ford\"))"
   ]
  },
  {
   "cell_type": "code",
   "execution_count": 8,
   "metadata": {},
   "outputs": [
    {
     "data": {
      "text/html": [
       "<table class=\"dataframe\">\n",
       "<caption>A matrix: 1 × 2 of type dbl</caption>\n",
       "<thead>\n",
       "\t<tr><th></th><th scope=col>F</th><th scope=col>D</th></tr>\n",
       "</thead>\n",
       "<tbody>\n",
       "\t<tr><th scope=row>A</th><td>4</td><td>3</td></tr>\n",
       "</tbody>\n",
       "</table>\n"
      ],
      "text/latex": [
       "A matrix: 1 × 2 of type dbl\n",
       "\\begin{tabular}{r|ll}\n",
       "  & F & D\\\\\n",
       "\\hline\n",
       "\tA & 4 & 3\\\\\n",
       "\\end{tabular}\n"
      ],
      "text/markdown": [
       "\n",
       "A matrix: 1 × 2 of type dbl\n",
       "\n",
       "| <!--/--> | F | D |\n",
       "|---|---|---|\n",
       "| A | 4 | 3 |\n",
       "\n"
      ],
      "text/plain": [
       "  F D\n",
       "A 4 3"
      ]
     },
     "metadata": {},
     "output_type": "display_data"
    }
   ],
   "source": [
    "distances(graph_df, v = c(\"A\"), to = c(\"F\", \"D\"), mode = c(\"in\"), algorithm = c(\"dijkstra\"))"
   ]
  },
  {
   "cell_type": "code",
   "execution_count": 9,
   "metadata": {},
   "outputs": [
    {
     "data": {
      "text/html": [
       "<table class=\"dataframe\">\n",
       "<caption>A matrix: 1 × 2 of type dbl</caption>\n",
       "<thead>\n",
       "\t<tr><th></th><th scope=col>Q</th><th scope=col>B</th></tr>\n",
       "</thead>\n",
       "<tbody>\n",
       "\t<tr><th scope=row>P</th><td>Inf</td><td>12</td></tr>\n",
       "</tbody>\n",
       "</table>\n"
      ],
      "text/latex": [
       "A matrix: 1 × 2 of type dbl\n",
       "\\begin{tabular}{r|ll}\n",
       "  & Q & B\\\\\n",
       "\\hline\n",
       "\tP & Inf & 12\\\\\n",
       "\\end{tabular}\n"
      ],
      "text/markdown": [
       "\n",
       "A matrix: 1 × 2 of type dbl\n",
       "\n",
       "| <!--/--> | Q | B |\n",
       "|---|---|---|\n",
       "| P | Inf | 12 |\n",
       "\n"
      ],
      "text/plain": [
       "  Q   B \n",
       "P Inf 12"
      ]
     },
     "metadata": {},
     "output_type": "display_data"
    }
   ],
   "source": [
    "distances(graph_df, v = c(\"P\"), to = c(\"Q\", \"B\"), mode = c(\"in\"), algorithm = c(\"bellman-ford\"))"
   ]
  },
  {
   "cell_type": "code",
   "execution_count": 11,
   "metadata": {},
   "outputs": [
    {
     "data": {
      "text/html": [
       "<table class=\"dataframe\">\n",
       "<caption>A matrix: 1 × 2 of type dbl</caption>\n",
       "<thead>\n",
       "\t<tr><th></th><th scope=col>F</th><th scope=col>D</th></tr>\n",
       "</thead>\n",
       "<tbody>\n",
       "\t<tr><th scope=row>A</th><td>4</td><td>3</td></tr>\n",
       "</tbody>\n",
       "</table>\n"
      ],
      "text/latex": [
       "A matrix: 1 × 2 of type dbl\n",
       "\\begin{tabular}{r|ll}\n",
       "  & F & D\\\\\n",
       "\\hline\n",
       "\tA & 4 & 3\\\\\n",
       "\\end{tabular}\n"
      ],
      "text/markdown": [
       "\n",
       "A matrix: 1 × 2 of type dbl\n",
       "\n",
       "| <!--/--> | F | D |\n",
       "|---|---|---|\n",
       "| A | 4 | 3 |\n",
       "\n"
      ],
      "text/plain": [
       "  F D\n",
       "A 4 3"
      ]
     },
     "metadata": {},
     "output_type": "display_data"
    }
   ],
   "source": [
    "distances(graph_df, v = c(\"A\"), to = c(\"F\", \"D\"), mode = c(\"all\"), algorithm = c(\"dijkstra\"))"
   ]
  },
  {
   "cell_type": "code",
   "execution_count": 12,
   "metadata": {},
   "outputs": [
    {
     "data": {
      "text/plain": [
       "[[1]]\n",
       "+ 3/9 vertices, named, from 64dae07:\n",
       "[1] F D A\n"
      ]
     },
     "metadata": {},
     "output_type": "display_data"
    }
   ],
   "source": [
    "path <- shortest_paths(graph_df, from = \"F\", to = c(\"A\"), mode = c(\"out\"))\n",
    "\n",
    "path$vpath"
   ]
  },
  {
   "cell_type": "code",
   "execution_count": 13,
   "metadata": {},
   "outputs": [
    {
     "data": {
      "text/plain": [
       "[[1]]\n",
       "+ 2/9 vertices, named, from 64dae07:\n",
       "[1] F A\n"
      ]
     },
     "metadata": {},
     "output_type": "display_data"
    }
   ],
   "source": [
    "path <- shortest_paths(graph_df, from = \"F\", to = c(\"A\"), mode = c(\"in\"))\n",
    "\n",
    "path$vpath"
   ]
  },
  {
   "cell_type": "code",
   "execution_count": 14,
   "metadata": {},
   "outputs": [
    {
     "data": {
      "text/plain": [
       "[[1]]\n",
       "+ 3/9 vertices, named, from 64dae07:\n",
       "[1] F D A\n"
      ]
     },
     "metadata": {},
     "output_type": "display_data"
    }
   ],
   "source": [
    "path <- shortest_paths(graph_df, from = \"F\", to = c(\"A\"), mode = c(\"all\"))\n",
    "\n",
    "path$vpath"
   ]
  },
  {
   "cell_type": "code",
   "execution_count": 15,
   "metadata": {},
   "outputs": [
    {
     "data": {
      "text/plain": [
       "[[1]]\n",
       "+ 3/9 vertices, named, from 64dae07:\n",
       "[1] F D A\n",
       "\n",
       "[[2]]\n",
       "+ 4/9 vertices, named, from 64dae07:\n",
       "[1] F D A E\n"
      ]
     },
     "metadata": {},
     "output_type": "display_data"
    }
   ],
   "source": [
    "path <- shortest_paths(graph_df, from = \"F\", to = c(\"A\", \"E\"), mode = c(\"out\"))\n",
    "\n",
    "path$vpath"
   ]
  },
  {
   "cell_type": "code",
   "execution_count": null,
   "metadata": {},
   "outputs": [],
   "source": []
  }
 ],
 "metadata": {
  "kernelspec": {
   "display_name": "R",
   "language": "R",
   "name": "ir"
  },
  "language_info": {
   "codemirror_mode": "r",
   "file_extension": ".r",
   "mimetype": "text/x-r-source",
   "name": "R",
   "pygments_lexer": "r",
   "version": "4.1.2"
  },
  "orig_nbformat": 4
 },
 "nbformat": 4,
 "nbformat_minor": 2
}
