{
 "cells": [
  {
   "cell_type": "code",
   "execution_count": 9,
   "metadata": {},
   "outputs": [],
   "source": [
    "#install.packages(c(\"deSolve\", \"rmarkdown\"))"
   ]
  },
  {
   "cell_type": "code",
   "execution_count": 10,
   "metadata": {},
   "outputs": [],
   "source": [
    "library(ggplot2)\n",
    "library(rmarkdown) \n",
    "library(deSolve)\n",
    "\n",
    "options(repr.plot.width = 12, repr.plot.height = 8)"
   ]
  },
  {
   "cell_type": "code",
   "execution_count": 11,
   "metadata": {},
   "outputs": [
    {
     "data": {
      "text/html": [
       "<style>\n",
       ".list-inline {list-style: none; margin:0; padding: 0}\n",
       ".list-inline>li {display: inline-block}\n",
       ".list-inline>li:not(:last-child)::after {content: \"\\00b7\"; padding: 0 .5ex}\n",
       "</style>\n",
       "<ol class=list-inline><li>0</li><li>1</li><li>2</li><li>3</li><li>4</li><li>5</li><li>6</li><li>7</li><li>8</li><li>9</li></ol>\n"
      ],
      "text/latex": [
       "\\begin{enumerate*}\n",
       "\\item 0\n",
       "\\item 1\n",
       "\\item 2\n",
       "\\item 3\n",
       "\\item 4\n",
       "\\item 5\n",
       "\\item 6\n",
       "\\item 7\n",
       "\\item 8\n",
       "\\item 9\n",
       "\\end{enumerate*}\n"
      ],
      "text/markdown": [
       "1. 0\n",
       "2. 1\n",
       "3. 2\n",
       "4. 3\n",
       "5. 4\n",
       "6. 5\n",
       "7. 6\n",
       "8. 7\n",
       "9. 8\n",
       "10. 9\n",
       "\n",
       "\n"
      ],
      "text/plain": [
       " [1] 0 1 2 3 4 5 6 7 8 9"
      ]
     },
     "metadata": {},
     "output_type": "display_data"
    }
   ],
   "source": [
    "time_interval <- seq(0, 9, by = 1)\n",
    "\n",
    "time_interval"
   ]
  },
  {
   "cell_type": "code",
   "execution_count": 12,
   "metadata": {},
   "outputs": [],
   "source": [
    "state <- c(x = 0)"
   ]
  },
  {
   "cell_type": "code",
   "execution_count": 13,
   "metadata": {},
   "outputs": [],
   "source": [
    "parameters <- c()"
   ]
  },
  {
   "cell_type": "code",
   "execution_count": 14,
   "metadata": {},
   "outputs": [],
   "source": [
    "model_fn <- function(t, state, parameters){\n",
    "    with(as.list(c(state, parameters)), {\n",
    "        dx <- 3\n",
    "\n",
    "        return (list(dx))\n",
    "    })\n",
    "}"
   ]
  },
  {
   "cell_type": "code",
   "execution_count": 15,
   "metadata": {},
   "outputs": [
    {
     "data": {
      "text/html": [
       "<table class=\"dataframe\">\n",
       "<caption>A matrix: 10 × 2 of type dbl</caption>\n",
       "<thead>\n",
       "\t<tr><th scope=col>time</th><th scope=col>x</th></tr>\n",
       "</thead>\n",
       "<tbody>\n",
       "\t<tr><td>0</td><td> 0</td></tr>\n",
       "\t<tr><td>1</td><td> 3</td></tr>\n",
       "\t<tr><td>2</td><td> 6</td></tr>\n",
       "\t<tr><td>3</td><td> 9</td></tr>\n",
       "\t<tr><td>4</td><td>12</td></tr>\n",
       "\t<tr><td>5</td><td>15</td></tr>\n",
       "\t<tr><td>6</td><td>18</td></tr>\n",
       "\t<tr><td>7</td><td>21</td></tr>\n",
       "\t<tr><td>8</td><td>24</td></tr>\n",
       "\t<tr><td>9</td><td>27</td></tr>\n",
       "</tbody>\n",
       "</table>\n"
      ],
      "text/latex": [
       "A matrix: 10 × 2 of type dbl\n",
       "\\begin{tabular}{ll}\n",
       " time & x\\\\\n",
       "\\hline\n",
       "\t 0 &  0\\\\\n",
       "\t 1 &  3\\\\\n",
       "\t 2 &  6\\\\\n",
       "\t 3 &  9\\\\\n",
       "\t 4 & 12\\\\\n",
       "\t 5 & 15\\\\\n",
       "\t 6 & 18\\\\\n",
       "\t 7 & 21\\\\\n",
       "\t 8 & 24\\\\\n",
       "\t 9 & 27\\\\\n",
       "\\end{tabular}\n"
      ],
      "text/markdown": [
       "\n",
       "A matrix: 10 × 2 of type dbl\n",
       "\n",
       "| time | x |\n",
       "|---|---|\n",
       "| 0 |  0 |\n",
       "| 1 |  3 |\n",
       "| 2 |  6 |\n",
       "| 3 |  9 |\n",
       "| 4 | 12 |\n",
       "| 5 | 15 |\n",
       "| 6 | 18 |\n",
       "| 7 | 21 |\n",
       "| 8 | 24 |\n",
       "| 9 | 27 |\n",
       "\n"
      ],
      "text/plain": [
       "      time x \n",
       " [1,] 0     0\n",
       " [2,] 1     3\n",
       " [3,] 2     6\n",
       " [4,] 3     9\n",
       " [5,] 4    12\n",
       " [6,] 5    15\n",
       " [7,] 6    18\n",
       " [8,] 7    21\n",
       " [9,] 8    24\n",
       "[10,] 9    27"
      ]
     },
     "metadata": {},
     "output_type": "display_data"
    }
   ],
   "source": [
    "result <- ode(y = state, times = time_interval, func = model_fn, parms = parameters)\n",
    "\n",
    "head(result, 10)"
   ]
  },
  {
   "cell_type": "code",
   "execution_count": 16,
   "metadata": {},
   "outputs": [
    {
     "data": {
      "image/png": "[encoded data removed]",
      "text/plain": [
       "plot without title"
      ]
     },
     "metadata": {
      "image/png": {
       "height": 480,
       "width": 720
      }
     },
     "output_type": "display_data"
    }
   ],
   "source": [
    "plot <- ggplot(data = as.data.frame(result), aes(time, x)) +\n",
    "        geom_line(color = '#2E86C1', size = 1.5)\n",
    "\n",
    "plot"
   ]
  },
  {
   "cell_type": "code",
   "execution_count": 17,
   "metadata": {},
   "outputs": [],
   "source": [
    "time_interval <- seq(0, 9, by = 1)\n",
    "\n",
    "state <- c(x = 3)\n",
    "\n",
    "parameters <- c()\n",
    "\n",
    "model_fn <- function(t, state, parameters) {\n",
    "    with(as.list(c(state, parameters)), {\n",
    "        dx <- 3*t\n",
    "\n",
    "        return(list(dx))\n",
    "    })\n",
    "}"
   ]
  },
  {
   "cell_type": "code",
   "execution_count": 18,
   "metadata": {},
   "outputs": [
    {
     "data": {
      "text/html": [
       "<table class=\"dataframe\">\n",
       "<caption>A matrix: 10 × 2 of type dbl</caption>\n",
       "<thead>\n",
       "\t<tr><th scope=col>time</th><th scope=col>x</th></tr>\n",
       "</thead>\n",
       "<tbody>\n",
       "\t<tr><td>0</td><td>  3.000000</td></tr>\n",
       "\t<tr><td>1</td><td>  4.500003</td></tr>\n",
       "\t<tr><td>2</td><td>  9.000003</td></tr>\n",
       "\t<tr><td>3</td><td> 16.500003</td></tr>\n",
       "\t<tr><td>4</td><td> 27.000003</td></tr>\n",
       "\t<tr><td>5</td><td> 40.500003</td></tr>\n",
       "\t<tr><td>6</td><td> 57.000003</td></tr>\n",
       "\t<tr><td>7</td><td> 76.500003</td></tr>\n",
       "\t<tr><td>8</td><td> 99.000003</td></tr>\n",
       "\t<tr><td>9</td><td>124.500003</td></tr>\n",
       "</tbody>\n",
       "</table>\n"
      ],
      "text/latex": [
       "A matrix: 10 × 2 of type dbl\n",
       "\\begin{tabular}{ll}\n",
       " time & x\\\\\n",
       "\\hline\n",
       "\t 0 &   3.000000\\\\\n",
       "\t 1 &   4.500003\\\\\n",
       "\t 2 &   9.000003\\\\\n",
       "\t 3 &  16.500003\\\\\n",
       "\t 4 &  27.000003\\\\\n",
       "\t 5 &  40.500003\\\\\n",
       "\t 6 &  57.000003\\\\\n",
       "\t 7 &  76.500003\\\\\n",
       "\t 8 &  99.000003\\\\\n",
       "\t 9 & 124.500003\\\\\n",
       "\\end{tabular}\n"
      ],
      "text/markdown": [
       "\n",
       "A matrix: 10 × 2 of type dbl\n",
       "\n",
       "| time | x |\n",
       "|---|---|\n",
       "| 0 |   3.000000 |\n",
       "| 1 |   4.500003 |\n",
       "| 2 |   9.000003 |\n",
       "| 3 |  16.500003 |\n",
       "| 4 |  27.000003 |\n",
       "| 5 |  40.500003 |\n",
       "| 6 |  57.000003 |\n",
       "| 7 |  76.500003 |\n",
       "| 8 |  99.000003 |\n",
       "| 9 | 124.500003 |\n",
       "\n"
      ],
      "text/plain": [
       "      time x         \n",
       " [1,] 0      3.000000\n",
       " [2,] 1      4.500003\n",
       " [3,] 2      9.000003\n",
       " [4,] 3     16.500003\n",
       " [5,] 4     27.000003\n",
       " [6,] 5     40.500003\n",
       " [7,] 6     57.000003\n",
       " [8,] 7     76.500003\n",
       " [9,] 8     99.000003\n",
       "[10,] 9    124.500003"
      ]
     },
     "metadata": {},
     "output_type": "display_data"
    }
   ],
   "source": [
    "result <- ode(y = state, times = time_interval, func = model_fn, parms = parameters)\n",
    "\n",
    "head(result, 1000)"
   ]
  },
  {
   "cell_type": "code",
   "execution_count": 19,
   "metadata": {},
   "outputs": [
    {
     "data": {
      "image/png": "[encoded data removed]",
      "text/plain": [
       "plot without title"
      ]
     },
     "metadata": {
      "image/png": {
       "height": 480,
       "width": 720
      }
     },
     "output_type": "display_data"
    }
   ],
   "source": [
    "plot <- ggplot(data = as.data.frame(result), aes(time, x)) +\n",
    "        geom_line(color = '#2E86C1', size = 1.5)\n",
    "\n",
    "plot"
   ]
  },
  {
   "cell_type": "code",
   "execution_count": 20,
   "metadata": {},
   "outputs": [],
   "source": [
    "time_interval <- seq(0, 9, by = 1)\n",
    "\n",
    "state <- c(x = 4)\n",
    "\n",
    "parameters <- c(k = 100)\n",
    "\n",
    "model_fn <- function(t, state, parameters) {\n",
    "    with(as.list(c(state, parameters)), {\n",
    "        dx <- t*t + k\n",
    "\n",
    "        return(list(dx))\n",
    "    })\n",
    "}"
   ]
  },
  {
   "cell_type": "code",
   "execution_count": 21,
   "metadata": {},
   "outputs": [
    {
     "data": {
      "text/html": [
       "<table class=\"dataframe\">\n",
       "<caption>A matrix: 10 × 2 of type dbl</caption>\n",
       "<thead>\n",
       "\t<tr><th scope=col>time</th><th scope=col>x</th></tr>\n",
       "</thead>\n",
       "<tbody>\n",
       "\t<tr><td>0</td><td>   4.0000</td></tr>\n",
       "\t<tr><td>1</td><td> 104.3333</td></tr>\n",
       "\t<tr><td>2</td><td> 206.6667</td></tr>\n",
       "\t<tr><td>3</td><td> 313.0000</td></tr>\n",
       "\t<tr><td>4</td><td> 425.3333</td></tr>\n",
       "\t<tr><td>5</td><td> 545.6667</td></tr>\n",
       "\t<tr><td>6</td><td> 676.0000</td></tr>\n",
       "\t<tr><td>7</td><td> 818.3333</td></tr>\n",
       "\t<tr><td>8</td><td> 974.6667</td></tr>\n",
       "\t<tr><td>9</td><td>1147.0000</td></tr>\n",
       "</tbody>\n",
       "</table>\n"
      ],
      "text/latex": [
       "A matrix: 10 × 2 of type dbl\n",
       "\\begin{tabular}{ll}\n",
       " time & x\\\\\n",
       "\\hline\n",
       "\t 0 &    4.0000\\\\\n",
       "\t 1 &  104.3333\\\\\n",
       "\t 2 &  206.6667\\\\\n",
       "\t 3 &  313.0000\\\\\n",
       "\t 4 &  425.3333\\\\\n",
       "\t 5 &  545.6667\\\\\n",
       "\t 6 &  676.0000\\\\\n",
       "\t 7 &  818.3333\\\\\n",
       "\t 8 &  974.6667\\\\\n",
       "\t 9 & 1147.0000\\\\\n",
       "\\end{tabular}\n"
      ],
      "text/markdown": [
       "\n",
       "A matrix: 10 × 2 of type dbl\n",
       "\n",
       "| time | x |\n",
       "|---|---|\n",
       "| 0 |    4.0000 |\n",
       "| 1 |  104.3333 |\n",
       "| 2 |  206.6667 |\n",
       "| 3 |  313.0000 |\n",
       "| 4 |  425.3333 |\n",
       "| 5 |  545.6667 |\n",
       "| 6 |  676.0000 |\n",
       "| 7 |  818.3333 |\n",
       "| 8 |  974.6667 |\n",
       "| 9 | 1147.0000 |\n",
       "\n"
      ],
      "text/plain": [
       "      time x        \n",
       " [1,] 0       4.0000\n",
       " [2,] 1     104.3333\n",
       " [3,] 2     206.6667\n",
       " [4,] 3     313.0000\n",
       " [5,] 4     425.3333\n",
       " [6,] 5     545.6667\n",
       " [7,] 6     676.0000\n",
       " [8,] 7     818.3333\n",
       " [9,] 8     974.6667\n",
       "[10,] 9    1147.0000"
      ]
     },
     "metadata": {},
     "output_type": "display_data"
    }
   ],
   "source": [
    "result <- ode(y = state, times = time_interval, func = model_fn, parms = parameters)\n",
    "\n",
    "head(result, 1000)"
   ]
  },
  {
   "cell_type": "code",
   "execution_count": 22,
   "metadata": {},
   "outputs": [
    {
     "data": {
      "image/png": "[encoded data removed]",
      "text/plain": [
       "plot without title"
      ]
     },
     "metadata": {
      "image/png": {
       "height": 480,
       "width": 720
      }
     },
     "output_type": "display_data"
    }
   ],
   "source": [
    "plot <- ggplot(data = as.data.frame(result), aes(time, x)) +\n",
    "        geom_line(color = '#2E86C1', size = 1.5)\n",
    "\n",
    "plot"
   ]
  },
  {
   "cell_type": "markdown",
   "metadata": {},
   "source": []
  },
  {
   "cell_type": "code",
   "execution_count": 23,
   "metadata": {},
   "outputs": [
    {
     "data": {
      "text/html": [
       "<style>\n",
       ".list-inline {list-style: none; margin:0; padding: 0}\n",
       ".list-inline>li {display: inline-block}\n",
       ".list-inline>li:not(:last-child)::after {content: \"\\00b7\"; padding: 0 .5ex}\n",
       "</style>\n",
       "<ol class=list-inline><li>0</li><li>0.5</li><li>1</li><li>1.5</li><li>2</li><li>2.5</li><li>3</li><li>3.5</li><li>4</li><li>4.5</li><li>5</li><li>5.5</li><li>6</li><li>6.5</li><li>7</li><li>7.5</li><li>8</li><li>8.5</li><li>9</li><li>9.5</li><li>10</li></ol>\n"
      ],
      "text/latex": [
       "\\begin{enumerate*}\n",
       "\\item 0\n",
       "\\item 0.5\n",
       "\\item 1\n",
       "\\item 1.5\n",
       "\\item 2\n",
       "\\item 2.5\n",
       "\\item 3\n",
       "\\item 3.5\n",
       "\\item 4\n",
       "\\item 4.5\n",
       "\\item 5\n",
       "\\item 5.5\n",
       "\\item 6\n",
       "\\item 6.5\n",
       "\\item 7\n",
       "\\item 7.5\n",
       "\\item 8\n",
       "\\item 8.5\n",
       "\\item 9\n",
       "\\item 9.5\n",
       "\\item 10\n",
       "\\end{enumerate*}\n"
      ],
      "text/markdown": [
       "1. 0\n",
       "2. 0.5\n",
       "3. 1\n",
       "4. 1.5\n",
       "5. 2\n",
       "6. 2.5\n",
       "7. 3\n",
       "8. 3.5\n",
       "9. 4\n",
       "10. 4.5\n",
       "11. 5\n",
       "12. 5.5\n",
       "13. 6\n",
       "14. 6.5\n",
       "15. 7\n",
       "16. 7.5\n",
       "17. 8\n",
       "18. 8.5\n",
       "19. 9\n",
       "20. 9.5\n",
       "21. 10\n",
       "\n",
       "\n"
      ],
      "text/plain": [
       " [1]  0.0  0.5  1.0  1.5  2.0  2.5  3.0  3.5  4.0  4.5  5.0  5.5  6.0  6.5  7.0\n",
       "[16]  7.5  8.0  8.5  9.0  9.5 10.0"
      ]
     },
     "metadata": {},
     "output_type": "display_data"
    }
   ],
   "source": [
    "time_interval <- seq(0, 10, by = 0.5)\n",
    "\n",
    "time_interval"
   ]
  },
  {
   "cell_type": "code",
   "execution_count": 24,
   "metadata": {},
   "outputs": [],
   "source": [
    "diff_func <- function(x, k) {\n",
    "    x * (1 - k*x)\n",
    "}"
   ]
  },
  {
   "cell_type": "code",
   "execution_count": 25,
   "metadata": {},
   "outputs": [],
   "source": [
    "state <- c(x = 0.1)"
   ]
  },
  {
   "cell_type": "code",
   "execution_count": 26,
   "metadata": {},
   "outputs": [],
   "source": [
    "k <- 0.2\n",
    "\n",
    "result_list <- c()"
   ]
  },
  {
   "cell_type": "code",
   "execution_count": 27,
   "metadata": {},
   "outputs": [],
   "source": [
    "result_list[1] <- state"
   ]
  },
  {
   "cell_type": "code",
   "execution_count": 28,
   "metadata": {},
   "outputs": [],
   "source": [
    "for (i in 1:(length(time_interval) -1)) {\n",
    "    result_list[i + 1] = result_list[i] + 0.5 * diff_func(result_list[i], k)\n",
    "}"
   ]
  },
  {
   "cell_type": "code",
   "execution_count": 29,
   "metadata": {},
   "outputs": [
    {
     "data": {
      "text/html": [
       "<style>\n",
       ".list-inline {list-style: none; margin:0; padding: 0}\n",
       ".list-inline>li {display: inline-block}\n",
       ".list-inline>li:not(:last-child)::after {content: \"\\00b7\"; padding: 0 .5ex}\n",
       "</style>\n",
       "<ol class=list-inline><li>0.1</li><li>0.149</li><li>0.2212799</li><li>0.327023370585599</li><li>0.479840627387482</li><li>0.696736238312062</li><li>0.996560218890368</li><li>1.39552710134807</li><li>1.89854106296241</li><li>2.48736577766817</li><li>3.11234981531078</li><li>3.69985258567967</li><li>4.18088796294345</li><li>4.52334952854663</li><li>4.73895519707964</li><li>4.86266315962665</li><li>4.92944543904095</li><li>4.96422492491326</li><li>4.98198447685689</li><li>4.99095978252103</li><li>4.99547171870731</li></ol>\n"
      ],
      "text/latex": [
       "\\begin{enumerate*}\n",
       "\\item 0.1\n",
       "\\item 0.149\n",
       "\\item 0.2212799\n",
       "\\item 0.327023370585599\n",
       "\\item 0.479840627387482\n",
       "\\item 0.696736238312062\n",
       "\\item 0.996560218890368\n",
       "\\item 1.39552710134807\n",
       "\\item 1.89854106296241\n",
       "\\item 2.48736577766817\n",
       "\\item 3.11234981531078\n",
       "\\item 3.69985258567967\n",
       "\\item 4.18088796294345\n",
       "\\item 4.52334952854663\n",
       "\\item 4.73895519707964\n",
       "\\item 4.86266315962665\n",
       "\\item 4.92944543904095\n",
       "\\item 4.96422492491326\n",
       "\\item 4.98198447685689\n",
       "\\item 4.99095978252103\n",
       "\\item 4.99547171870731\n",
       "\\end{enumerate*}\n"
      ],
      "text/markdown": [
       "1. 0.1\n",
       "2. 0.149\n",
       "3. 0.2212799\n",
       "4. 0.327023370585599\n",
       "5. 0.479840627387482\n",
       "6. 0.696736238312062\n",
       "7. 0.996560218890368\n",
       "8. 1.39552710134807\n",
       "9. 1.89854106296241\n",
       "10. 2.48736577766817\n",
       "11. 3.11234981531078\n",
       "12. 3.69985258567967\n",
       "13. 4.18088796294345\n",
       "14. 4.52334952854663\n",
       "15. 4.73895519707964\n",
       "16. 4.86266315962665\n",
       "17. 4.92944543904095\n",
       "18. 4.96422492491326\n",
       "19. 4.98198447685689\n",
       "20. 4.99095978252103\n",
       "21. 4.99547171870731\n",
       "\n",
       "\n"
      ],
      "text/plain": [
       " [1] 0.1000000 0.1490000 0.2212799 0.3270234 0.4798406 0.6967362 0.9965602\n",
       " [8] 1.3955271 1.8985411 2.4873658 3.1123498 3.6998526 4.1808880 4.5233495\n",
       "[15] 4.7389552 4.8626632 4.9294454 4.9642249 4.9819845 4.9909598 4.9954717"
      ]
     },
     "metadata": {},
     "output_type": "display_data"
    }
   ],
   "source": [
    "result_list"
   ]
  },
  {
   "cell_type": "code",
   "execution_count": 30,
   "metadata": {},
   "outputs": [
    {
     "data": {
      "image/png": "[encoded data removed]",
      "text/plain": [
       "plot without title"
      ]
     },
     "metadata": {
      "image/png": {
       "height": 480,
       "width": 720
      }
     },
     "output_type": "display_data"
    }
   ],
   "source": [
    "approximation <- ggplot(data = data.frame(p = result_list, t = time_interval), aes(t, result_list)) + geom_point(size = 3)\n",
    "\n",
    "print(approximation)"
   ]
  },
  {
   "cell_type": "code",
   "execution_count": 31,
   "metadata": {},
   "outputs": [],
   "source": [
    "parameters <- c(k = 0.2)"
   ]
  },
  {
   "cell_type": "code",
   "execution_count": 32,
   "metadata": {},
   "outputs": [],
   "source": [
    "model_fn <- function(t, state, parameters) {\n",
    "    with(as.list(c(state, parameters)), {\n",
    "        dx <- x * (1 - k * x)\n",
    "\n",
    "        return(list(dx))\n",
    "    })\n",
    "}"
   ]
  },
  {
   "cell_type": "code",
   "execution_count": 33,
   "metadata": {},
   "outputs": [
    {
     "data": {
      "text/html": [
       "<table class=\"dataframe\">\n",
       "<caption>A matrix: 10 × 2 of type dbl</caption>\n",
       "<thead>\n",
       "\t<tr><th scope=col>time</th><th scope=col>x</th></tr>\n",
       "</thead>\n",
       "<tbody>\n",
       "\t<tr><td>0.0</td><td>0.1000000</td></tr>\n",
       "\t<tr><td>0.5</td><td>0.1627619</td></tr>\n",
       "\t<tr><td>1.0</td><td>0.2627987</td></tr>\n",
       "\t<tr><td>1.5</td><td>0.4189936</td></tr>\n",
       "\t<tr><td>2.0</td><td>0.6551831</td></tr>\n",
       "\t<tr><td>2.5</td><td>0.9955795</td></tr>\n",
       "\t<tr><td>3.0</td><td>1.4536600</td></tr>\n",
       "\t<tr><td>3.5</td><td>2.0163866</td></tr>\n",
       "\t<tr><td>4.0</td><td>2.6350863</td></tr>\n",
       "\t<tr><td>4.5</td><td>3.2376200</td></tr>\n",
       "</tbody>\n",
       "</table>\n"
      ],
      "text/latex": [
       "A matrix: 10 × 2 of type dbl\n",
       "\\begin{tabular}{ll}\n",
       " time & x\\\\\n",
       "\\hline\n",
       "\t 0.0 & 0.1000000\\\\\n",
       "\t 0.5 & 0.1627619\\\\\n",
       "\t 1.0 & 0.2627987\\\\\n",
       "\t 1.5 & 0.4189936\\\\\n",
       "\t 2.0 & 0.6551831\\\\\n",
       "\t 2.5 & 0.9955795\\\\\n",
       "\t 3.0 & 1.4536600\\\\\n",
       "\t 3.5 & 2.0163866\\\\\n",
       "\t 4.0 & 2.6350863\\\\\n",
       "\t 4.5 & 3.2376200\\\\\n",
       "\\end{tabular}\n"
      ],
      "text/markdown": [
       "\n",
       "A matrix: 10 × 2 of type dbl\n",
       "\n",
       "| time | x |\n",
       "|---|---|\n",
       "| 0.0 | 0.1000000 |\n",
       "| 0.5 | 0.1627619 |\n",
       "| 1.0 | 0.2627987 |\n",
       "| 1.5 | 0.4189936 |\n",
       "| 2.0 | 0.6551831 |\n",
       "| 2.5 | 0.9955795 |\n",
       "| 3.0 | 1.4536600 |\n",
       "| 3.5 | 2.0163866 |\n",
       "| 4.0 | 2.6350863 |\n",
       "| 4.5 | 3.2376200 |\n",
       "\n"
      ],
      "text/plain": [
       "      time x        \n",
       " [1,] 0.0  0.1000000\n",
       " [2,] 0.5  0.1627619\n",
       " [3,] 1.0  0.2627987\n",
       " [4,] 1.5  0.4189936\n",
       " [5,] 2.0  0.6551831\n",
       " [6,] 2.5  0.9955795\n",
       " [7,] 3.0  1.4536600\n",
       " [8,] 3.5  2.0163866\n",
       " [9,] 4.0  2.6350863\n",
       "[10,] 4.5  3.2376200"
      ]
     },
     "metadata": {},
     "output_type": "display_data"
    }
   ],
   "source": [
    "result <- ode(y = state, times = time_interval, func = model_fn, parms = parameters)\n",
    "\n",
    "head(result, 10)"
   ]
  },
  {
   "cell_type": "code",
   "execution_count": 34,
   "metadata": {},
   "outputs": [
    {
     "data": {
      "image/png": "[encoded data removed]",
      "text/plain": [
       "plot without title"
      ]
     },
     "metadata": {
      "image/png": {
       "height": 480,
       "width": 720
      }
     },
     "output_type": "display_data"
    }
   ],
   "source": [
    "ggplot(data = as.data.frame(result), aes(time, x)) + geom_line(color = \"#2E86C1\", size = 1.5)"
   ]
  },
  {
   "cell_type": "code",
   "execution_count": 35,
   "metadata": {},
   "outputs": [
    {
     "data": {
      "image/png": "[encoded data removed]",
      "text/plain": [
       "plot without title"
      ]
     },
     "metadata": {
      "image/png": {
       "height": 480,
       "width": 720
      }
     },
     "output_type": "display_data"
    }
   ],
   "source": [
    "ggplot() + geom_point(data = data.frame(p = result_list, t = time_interval), aes(t, result_list), size =3) + geom_line(data = as.data.frame(result), aes(time, x), color = \"#2E86C1\", size = 1.5)"
   ]
  },
  {
   "cell_type": "code",
   "execution_count": 36,
   "metadata": {},
   "outputs": [],
   "source": [
    "time_interval <- seq(from = 0, to = 12, by = 0.05)"
   ]
  },
  {
   "cell_type": "code",
   "execution_count": 37,
   "metadata": {},
   "outputs": [],
   "source": [
    "parameters <- c(r = 1.3, k = 12)"
   ]
  },
  {
   "cell_type": "code",
   "execution_count": 38,
   "metadata": {},
   "outputs": [],
   "source": [
    "state <- c(x = 0.1)"
   ]
  },
  {
   "cell_type": "code",
   "execution_count": 39,
   "metadata": {},
   "outputs": [],
   "source": [
    "model_fn <- function(t, state, parameters) {\n",
    "    with(as.list(c(state, parameters)), {\n",
    "        dx <- r * x * (1 - x / k)\n",
    "\n",
    "        return(list(dx))\n",
    "    })\n",
    "}"
   ]
  },
  {
   "cell_type": "code",
   "execution_count": 40,
   "metadata": {},
   "outputs": [
    {
     "data": {
      "text/html": [
       "<table class=\"dataframe\">\n",
       "<caption>A matrix: 10 × 2 of type dbl</caption>\n",
       "<thead>\n",
       "\t<tr><th scope=col>time</th><th scope=col>x</th></tr>\n",
       "</thead>\n",
       "<tbody>\n",
       "\t<tr><td>0.00</td><td>0.1000000</td></tr>\n",
       "\t<tr><td>0.05</td><td>0.1066570</td></tr>\n",
       "\t<tr><td>0.10</td><td>0.1137525</td></tr>\n",
       "\t<tr><td>0.15</td><td>0.1213143</td></tr>\n",
       "\t<tr><td>0.20</td><td>0.1293739</td></tr>\n",
       "\t<tr><td>0.25</td><td>0.1379627</td></tr>\n",
       "\t<tr><td>0.30</td><td>0.1471146</td></tr>\n",
       "\t<tr><td>0.35</td><td>0.1568655</td></tr>\n",
       "\t<tr><td>0.40</td><td>0.1672536</td></tr>\n",
       "\t<tr><td>0.45</td><td>0.1783192</td></tr>\n",
       "</tbody>\n",
       "</table>\n"
      ],
      "text/latex": [
       "A matrix: 10 × 2 of type dbl\n",
       "\\begin{tabular}{ll}\n",
       " time & x\\\\\n",
       "\\hline\n",
       "\t 0.00 & 0.1000000\\\\\n",
       "\t 0.05 & 0.1066570\\\\\n",
       "\t 0.10 & 0.1137525\\\\\n",
       "\t 0.15 & 0.1213143\\\\\n",
       "\t 0.20 & 0.1293739\\\\\n",
       "\t 0.25 & 0.1379627\\\\\n",
       "\t 0.30 & 0.1471146\\\\\n",
       "\t 0.35 & 0.1568655\\\\\n",
       "\t 0.40 & 0.1672536\\\\\n",
       "\t 0.45 & 0.1783192\\\\\n",
       "\\end{tabular}\n"
      ],
      "text/markdown": [
       "\n",
       "A matrix: 10 × 2 of type dbl\n",
       "\n",
       "| time | x |\n",
       "|---|---|\n",
       "| 0.00 | 0.1000000 |\n",
       "| 0.05 | 0.1066570 |\n",
       "| 0.10 | 0.1137525 |\n",
       "| 0.15 | 0.1213143 |\n",
       "| 0.20 | 0.1293739 |\n",
       "| 0.25 | 0.1379627 |\n",
       "| 0.30 | 0.1471146 |\n",
       "| 0.35 | 0.1568655 |\n",
       "| 0.40 | 0.1672536 |\n",
       "| 0.45 | 0.1783192 |\n",
       "\n"
      ],
      "text/plain": [
       "      time x        \n",
       " [1,] 0.00 0.1000000\n",
       " [2,] 0.05 0.1066570\n",
       " [3,] 0.10 0.1137525\n",
       " [4,] 0.15 0.1213143\n",
       " [5,] 0.20 0.1293739\n",
       " [6,] 0.25 0.1379627\n",
       " [7,] 0.30 0.1471146\n",
       " [8,] 0.35 0.1568655\n",
       " [9,] 0.40 0.1672536\n",
       "[10,] 0.45 0.1783192"
      ]
     },
     "metadata": {},
     "output_type": "display_data"
    }
   ],
   "source": [
    "result <- ode(y = state, times = time_interval, func = model_fn, parms = parameters) \n",
    "\n",
    "head(result,10)"
   ]
  },
  {
   "cell_type": "code",
   "execution_count": 41,
   "metadata": {},
   "outputs": [
    {
     "data": {
      "image/png": "[encoded data removed]",
      "text/plain": [
       "plot without title"
      ]
     },
     "metadata": {
      "image/png": {
       "height": 480,
       "width": 720
      }
     },
     "output_type": "display_data"
    }
   ],
   "source": [
    "plot <- ggplot(data = as.data.frame(result), aes(time, x)) + geom_line(color = \"#2E86C1\", size = 1.5)\n",
    "\n",
    "plot"
   ]
  },
  {
   "cell_type": "code",
   "execution_count": null,
   "metadata": {},
   "outputs": [],
   "source": []
  }
 ],
 "metadata": {
  "kernelspec": {
   "display_name": "R",
   "language": "R",
   "name": "ir"
  },
  "language_info": {
   "codemirror_mode": "r",
   "file_extension": ".r",
   "mimetype": "text/x-r-source",
   "name": "R",
   "pygments_lexer": "r",
   "version": "4.1.2"
  },
  "orig_nbformat": 4
 },
 "nbformat": 4,
 "nbformat_minor": 2
}
