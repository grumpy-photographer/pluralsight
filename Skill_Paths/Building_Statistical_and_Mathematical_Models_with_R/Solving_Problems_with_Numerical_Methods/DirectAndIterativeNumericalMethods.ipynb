{
 "cells": [
  {
   "cell_type": "code",
   "execution_count": 2,
   "metadata": {},
   "outputs": [],
   "source": [
    "#install.packages(\"Rlinsolve\")\n",
    "#install.packages(\"ggplot2\")\n",
    "#install.packages(\"pracma\")"
   ]
  },
  {
   "cell_type": "code",
   "execution_count": 3,
   "metadata": {},
   "outputs": [
    {
     "name": "stderr",
     "output_type": "stream",
     "text": [
      "** ------------------------------------------------------- **\n",
      "\n",
      "** Rlinsolve\n",
      "\n",
      "**  - Solving (Sparse) System of Linear Equations\n",
      "\n",
      "**\n",
      "\n",
      "** Version    : 0.3.2      (2021)\n",
      "\n",
      "** Maintainer : Kisung You (kisungyou@outlook.com)\n",
      "\n",
      "**\n",
      "\n",
      "** Please share any bugs or suggestions to the maintainer.\n",
      "\n",
      "** ------------------------------------------------------- **\n",
      "\n"
     ]
    }
   ],
   "source": [
    "library(RcppArmadillo)\n",
    "library(Rlinsolve)\n",
    "library(ggplot2)\n",
    "library(pracma)\n",
    "\n",
    "options(repr.plot.width = 12, repr.plot.height = 8)"
   ]
  },
  {
   "cell_type": "code",
   "execution_count": 5,
   "metadata": {},
   "outputs": [
    {
     "data": {
      "text/html": [
       "<table class=\"dataframe\">\n",
       "<caption>A matrix: 2 × 2 of type dbl</caption>\n",
       "<tbody>\n",
       "\t<tr><td>2</td><td>1</td></tr>\n",
       "\t<tr><td>5</td><td>7</td></tr>\n",
       "</tbody>\n",
       "</table>\n"
      ],
      "text/latex": [
       "A matrix: 2 × 2 of type dbl\n",
       "\\begin{tabular}{ll}\n",
       "\t 2 & 1\\\\\n",
       "\t 5 & 7\\\\\n",
       "\\end{tabular}\n"
      ],
      "text/markdown": [
       "\n",
       "A matrix: 2 × 2 of type dbl\n",
       "\n",
       "| 2 | 1 |\n",
       "| 5 | 7 |\n",
       "\n"
      ],
      "text/plain": [
       "     [,1] [,2]\n",
       "[1,] 2    1   \n",
       "[2,] 5    7   "
      ]
     },
     "metadata": {},
     "output_type": "display_data"
    }
   ],
   "source": [
    "A <- matrix(c(2, 1,\n",
    "            5, 7), nrow=2, ncol=2, byrow=T)\n",
    "\n",
    "A"
   ]
  },
  {
   "cell_type": "code",
   "execution_count": 6,
   "metadata": {},
   "outputs": [
    {
     "data": {
      "text/html": [
       "<table class=\"dataframe\">\n",
       "<caption>A matrix: 2 × 1 of type dbl</caption>\n",
       "<tbody>\n",
       "\t<tr><td>11</td></tr>\n",
       "\t<tr><td>13</td></tr>\n",
       "</tbody>\n",
       "</table>\n"
      ],
      "text/latex": [
       "A matrix: 2 × 1 of type dbl\n",
       "\\begin{tabular}{l}\n",
       "\t 11\\\\\n",
       "\t 13\\\\\n",
       "\\end{tabular}\n"
      ],
      "text/markdown": [
       "\n",
       "A matrix: 2 × 1 of type dbl\n",
       "\n",
       "| 11 |\n",
       "| 13 |\n",
       "\n"
      ],
      "text/plain": [
       "     [,1]\n",
       "[1,] 11  \n",
       "[2,] 13  "
      ]
     },
     "metadata": {},
     "output_type": "display_data"
    }
   ],
   "source": [
    "b <- matrix(c(11, 13), nrow=2, ncol=1, byrow=T)\n",
    "\n",
    "b"
   ]
  },
  {
   "cell_type": "code",
   "execution_count": 8,
   "metadata": {},
   "outputs": [],
   "source": [
    "out1 = lsolve.jacobi(A, b, weight=1, verbose=F)"
   ]
  },
  {
   "cell_type": "code",
   "execution_count": 10,
   "metadata": {},
   "outputs": [
    {
     "data": {
      "text/html": [
       "<table class=\"dataframe\">\n",
       "<caption>A matrix: 2 × 1 of type dbl</caption>\n",
       "<tbody>\n",
       "\t<tr><td> 7.111043</td></tr>\n",
       "\t<tr><td>-3.222196</td></tr>\n",
       "</tbody>\n",
       "</table>\n"
      ],
      "text/latex": [
       "A matrix: 2 × 1 of type dbl\n",
       "\\begin{tabular}{l}\n",
       "\t  7.111043\\\\\n",
       "\t -3.222196\\\\\n",
       "\\end{tabular}\n"
      ],
      "text/markdown": [
       "\n",
       "A matrix: 2 × 1 of type dbl\n",
       "\n",
       "|  7.111043 |\n",
       "| -3.222196 |\n",
       "\n"
      ],
      "text/plain": [
       "     [,1]     \n",
       "[1,]  7.111043\n",
       "[2,] -3.222196"
      ]
     },
     "metadata": {},
     "output_type": "display_data"
    }
   ],
   "source": [
    "out1$x"
   ]
  },
  {
   "cell_type": "code",
   "execution_count": 11,
   "metadata": {},
   "outputs": [
    {
     "data": {
      "text/html": [
       "401"
      ],
      "text/latex": [
       "401"
      ],
      "text/markdown": [
       "401"
      ],
      "text/plain": [
       "[1] 401"
      ]
     },
     "metadata": {},
     "output_type": "display_data"
    }
   ],
   "source": [
    "out1$iter"
   ]
  },
  {
   "cell_type": "code",
   "execution_count": 12,
   "metadata": {},
   "outputs": [
    {
     "data": {
      "text/html": [
       "<table class=\"dataframe\">\n",
       "<caption>A matrix: 6 × 1 of type dbl</caption>\n",
       "<tbody>\n",
       "\t<tr><td>0.9939542</td></tr>\n",
       "\t<tr><td>0.9441379</td></tr>\n",
       "\t<tr><td>0.9384299</td></tr>\n",
       "\t<tr><td>0.8913964</td></tr>\n",
       "\t<tr><td>0.8860073</td></tr>\n",
       "\t<tr><td>0.8416012</td></tr>\n",
       "</tbody>\n",
       "</table>\n"
      ],
      "text/latex": [
       "A matrix: 6 × 1 of type dbl\n",
       "\\begin{tabular}{l}\n",
       "\t 0.9939542\\\\\n",
       "\t 0.9441379\\\\\n",
       "\t 0.9384299\\\\\n",
       "\t 0.8913964\\\\\n",
       "\t 0.8860073\\\\\n",
       "\t 0.8416012\\\\\n",
       "\\end{tabular}\n"
      ],
      "text/markdown": [
       "\n",
       "A matrix: 6 × 1 of type dbl\n",
       "\n",
       "| 0.9939542 |\n",
       "| 0.9441379 |\n",
       "| 0.9384299 |\n",
       "| 0.8913964 |\n",
       "| 0.8860073 |\n",
       "| 0.8416012 |\n",
       "\n"
      ],
      "text/plain": [
       "     [,1]     \n",
       "[1,] 0.9939542\n",
       "[2,] 0.9441379\n",
       "[3,] 0.9384299\n",
       "[4,] 0.8913964\n",
       "[5,] 0.8860073\n",
       "[6,] 0.8416012"
      ]
     },
     "metadata": {},
     "output_type": "display_data"
    }
   ],
   "source": [
    "head(out1$errors)"
   ]
  },
  {
   "cell_type": "code",
   "execution_count": 13,
   "metadata": {},
   "outputs": [
    {
     "data": {
      "text/html": [
       "<table class=\"dataframe\">\n",
       "<caption>A matrix: 6 × 1 of type dbl</caption>\n",
       "<tbody>\n",
       "\t<tr><th scope=row>[397,]</th><td>1.133404e-05</td></tr>\n",
       "\t<tr><th scope=row>[398,]</th><td>1.076598e-05</td></tr>\n",
       "\t<tr><th scope=row>[399,]</th><td>1.070090e-05</td></tr>\n",
       "\t<tr><th scope=row>[400,]</th><td>1.016457e-05</td></tr>\n",
       "\t<tr><th scope=row>[401,]</th><td>1.010312e-05</td></tr>\n",
       "\t<tr><th scope=row>[402,]</th><td>9.596760e-06</td></tr>\n",
       "</tbody>\n",
       "</table>\n"
      ],
      "text/latex": [
       "A matrix: 6 × 1 of type dbl\n",
       "\\begin{tabular}{r|l}\n",
       "\t{[}397,{]} & 1.133404e-05\\\\\n",
       "\t{[}398,{]} & 1.076598e-05\\\\\n",
       "\t{[}399,{]} & 1.070090e-05\\\\\n",
       "\t{[}400,{]} & 1.016457e-05\\\\\n",
       "\t{[}401,{]} & 1.010312e-05\\\\\n",
       "\t{[}402,{]} & 9.596760e-06\\\\\n",
       "\\end{tabular}\n"
      ],
      "text/markdown": [
       "\n",
       "A matrix: 6 × 1 of type dbl\n",
       "\n",
       "| [397,] | 1.133404e-05 |\n",
       "| [398,] | 1.076598e-05 |\n",
       "| [399,] | 1.070090e-05 |\n",
       "| [400,] | 1.016457e-05 |\n",
       "| [401,] | 1.010312e-05 |\n",
       "| [402,] | 9.596760e-06 |\n",
       "\n"
      ],
      "text/plain": [
       "       [,1]        \n",
       "[397,] 1.133404e-05\n",
       "[398,] 1.076598e-05\n",
       "[399,] 1.070090e-05\n",
       "[400,] 1.016457e-05\n",
       "[401,] 1.010312e-05\n",
       "[402,] 9.596760e-06"
      ]
     },
     "metadata": {},
     "output_type": "display_data"
    }
   ],
   "source": [
    "tail(out1$errors )"
   ]
  },
  {
   "cell_type": "code",
   "execution_count": 17,
   "metadata": {},
   "outputs": [],
   "source": [
    "error <- out1$errors\n",
    "\n",
    "iteration <- out1$iter"
   ]
  },
  {
   "cell_type": "code",
   "execution_count": 18,
   "metadata": {},
   "outputs": [
    {
     "data": {
      "text/html": [
       "<style>\n",
       ".list-inline {list-style: none; margin:0; padding: 0}\n",
       ".list-inline>li {display: inline-block}\n",
       ".list-inline>li:not(:last-child)::after {content: \"\\00b7\"; padding: 0 .5ex}\n",
       "</style>\n",
       "<ol class=list-inline><li>0</li><li>1</li><li>2</li><li>3</li><li>4</li><li>5</li><li>6</li><li>7</li><li>8</li><li>9</li><li>10</li><li>11</li><li>12</li><li>13</li><li>14</li><li>15</li><li>16</li><li>17</li><li>18</li><li>19</li><li>20</li><li>21</li><li>22</li><li>23</li><li>24</li><li>25</li><li>26</li><li>27</li><li>28</li><li>29</li><li>30</li><li>31</li><li>32</li><li>33</li><li>34</li><li>35</li><li>36</li><li>37</li><li>38</li><li>39</li><li>40</li><li>41</li><li>42</li><li>43</li><li>44</li><li>45</li><li>46</li><li>47</li><li>48</li><li>49</li><li>50</li><li>51</li><li>52</li><li>53</li><li>54</li><li>55</li><li>56</li><li>57</li><li>58</li><li>59</li><li>60</li><li>61</li><li>62</li><li>63</li><li>64</li><li>65</li><li>66</li><li>67</li><li>68</li><li>69</li><li>70</li><li>71</li><li>72</li><li>73</li><li>74</li><li>75</li><li>76</li><li>77</li><li>78</li><li>79</li><li>80</li><li>81</li><li>82</li><li>83</li><li>84</li><li>85</li><li>86</li><li>87</li><li>88</li><li>89</li><li>90</li><li>91</li><li>92</li><li>93</li><li>94</li><li>95</li><li>96</li><li>97</li><li>98</li><li>99</li><li>100</li><li>101</li><li>102</li><li>103</li><li>104</li><li>105</li><li>106</li><li>107</li><li>108</li><li>109</li><li>110</li><li>111</li><li>112</li><li>113</li><li>114</li><li>115</li><li>116</li><li>117</li><li>118</li><li>119</li><li>120</li><li>121</li><li>122</li><li>123</li><li>124</li><li>125</li><li>126</li><li>127</li><li>128</li><li>129</li><li>130</li><li>131</li><li>132</li><li>133</li><li>134</li><li>135</li><li>136</li><li>137</li><li>138</li><li>139</li><li>140</li><li>141</li><li>142</li><li>143</li><li>144</li><li>145</li><li>146</li><li>147</li><li>148</li><li>149</li><li>150</li><li>151</li><li>152</li><li>153</li><li>154</li><li>155</li><li>156</li><li>157</li><li>158</li><li>159</li><li>160</li><li>161</li><li>162</li><li>163</li><li>164</li><li>165</li><li>166</li><li>167</li><li>168</li><li>169</li><li>170</li><li>171</li><li>172</li><li>173</li><li>174</li><li>175</li><li>176</li><li>177</li><li>178</li><li>179</li><li>180</li><li>181</li><li>182</li><li>183</li><li>184</li><li>185</li><li>186</li><li>187</li><li>188</li><li>189</li><li>190</li><li>191</li><li>192</li><li>193</li><li>194</li><li>195</li><li>196</li><li>197</li><li>198</li><li>199</li><li>...</li><li>202</li><li>203</li><li>204</li><li>205</li><li>206</li><li>207</li><li>208</li><li>209</li><li>210</li><li>211</li><li>212</li><li>213</li><li>214</li><li>215</li><li>216</li><li>217</li><li>218</li><li>219</li><li>220</li><li>221</li><li>222</li><li>223</li><li>224</li><li>225</li><li>226</li><li>227</li><li>228</li><li>229</li><li>230</li><li>231</li><li>232</li><li>233</li><li>234</li><li>235</li><li>236</li><li>237</li><li>238</li><li>239</li><li>240</li><li>241</li><li>242</li><li>243</li><li>244</li><li>245</li><li>246</li><li>247</li><li>248</li><li>249</li><li>250</li><li>251</li><li>252</li><li>253</li><li>254</li><li>255</li><li>256</li><li>257</li><li>258</li><li>259</li><li>260</li><li>261</li><li>262</li><li>263</li><li>264</li><li>265</li><li>266</li><li>267</li><li>268</li><li>269</li><li>270</li><li>271</li><li>272</li><li>273</li><li>274</li><li>275</li><li>276</li><li>277</li><li>278</li><li>279</li><li>280</li><li>281</li><li>282</li><li>283</li><li>284</li><li>285</li><li>286</li><li>287</li><li>288</li><li>289</li><li>290</li><li>291</li><li>292</li><li>293</li><li>294</li><li>295</li><li>296</li><li>297</li><li>298</li><li>299</li><li>300</li><li>301</li><li>302</li><li>303</li><li>304</li><li>305</li><li>306</li><li>307</li><li>308</li><li>309</li><li>310</li><li>311</li><li>312</li><li>313</li><li>314</li><li>315</li><li>316</li><li>317</li><li>318</li><li>319</li><li>320</li><li>321</li><li>322</li><li>323</li><li>324</li><li>325</li><li>326</li><li>327</li><li>328</li><li>329</li><li>330</li><li>331</li><li>332</li><li>333</li><li>334</li><li>335</li><li>336</li><li>337</li><li>338</li><li>339</li><li>340</li><li>341</li><li>342</li><li>343</li><li>344</li><li>345</li><li>346</li><li>347</li><li>348</li><li>349</li><li>350</li><li>351</li><li>352</li><li>353</li><li>354</li><li>355</li><li>356</li><li>357</li><li>358</li><li>359</li><li>360</li><li>361</li><li>362</li><li>363</li><li>364</li><li>365</li><li>366</li><li>367</li><li>368</li><li>369</li><li>370</li><li>371</li><li>372</li><li>373</li><li>374</li><li>375</li><li>376</li><li>377</li><li>378</li><li>379</li><li>380</li><li>381</li><li>382</li><li>383</li><li>384</li><li>385</li><li>386</li><li>387</li><li>388</li><li>389</li><li>390</li><li>391</li><li>392</li><li>393</li><li>394</li><li>395</li><li>396</li><li>397</li><li>398</li><li>399</li><li>400</li><li>401</li></ol>\n"
      ],
      "text/latex": [
       "\\begin{enumerate*}\n",
       "\\item 0\n",
       "\\item 1\n",
       "\\item 2\n",
       "\\item 3\n",
       "\\item 4\n",
       "\\item 5\n",
       "\\item 6\n",
       "\\item 7\n",
       "\\item 8\n",
       "\\item 9\n",
       "\\item 10\n",
       "\\item 11\n",
       "\\item 12\n",
       "\\item 13\n",
       "\\item 14\n",
       "\\item 15\n",
       "\\item 16\n",
       "\\item 17\n",
       "\\item 18\n",
       "\\item 19\n",
       "\\item 20\n",
       "\\item 21\n",
       "\\item 22\n",
       "\\item 23\n",
       "\\item 24\n",
       "\\item 25\n",
       "\\item 26\n",
       "\\item 27\n",
       "\\item 28\n",
       "\\item 29\n",
       "\\item 30\n",
       "\\item 31\n",
       "\\item 32\n",
       "\\item 33\n",
       "\\item 34\n",
       "\\item 35\n",
       "\\item 36\n",
       "\\item 37\n",
       "\\item 38\n",
       "\\item 39\n",
       "\\item 40\n",
       "\\item 41\n",
       "\\item 42\n",
       "\\item 43\n",
       "\\item 44\n",
       "\\item 45\n",
       "\\item 46\n",
       "\\item 47\n",
       "\\item 48\n",
       "\\item 49\n",
       "\\item 50\n",
       "\\item 51\n",
       "\\item 52\n",
       "\\item 53\n",
       "\\item 54\n",
       "\\item 55\n",
       "\\item 56\n",
       "\\item 57\n",
       "\\item 58\n",
       "\\item 59\n",
       "\\item 60\n",
       "\\item 61\n",
       "\\item 62\n",
       "\\item 63\n",
       "\\item 64\n",
       "\\item 65\n",
       "\\item 66\n",
       "\\item 67\n",
       "\\item 68\n",
       "\\item 69\n",
       "\\item 70\n",
       "\\item 71\n",
       "\\item 72\n",
       "\\item 73\n",
       "\\item 74\n",
       "\\item 75\n",
       "\\item 76\n",
       "\\item 77\n",
       "\\item 78\n",
       "\\item 79\n",
       "\\item 80\n",
       "\\item 81\n",
       "\\item 82\n",
       "\\item 83\n",
       "\\item 84\n",
       "\\item 85\n",
       "\\item 86\n",
       "\\item 87\n",
       "\\item 88\n",
       "\\item 89\n",
       "\\item 90\n",
       "\\item 91\n",
       "\\item 92\n",
       "\\item 93\n",
       "\\item 94\n",
       "\\item 95\n",
       "\\item 96\n",
       "\\item 97\n",
       "\\item 98\n",
       "\\item 99\n",
       "\\item 100\n",
       "\\item 101\n",
       "\\item 102\n",
       "\\item 103\n",
       "\\item 104\n",
       "\\item 105\n",
       "\\item 106\n",
       "\\item 107\n",
       "\\item 108\n",
       "\\item 109\n",
       "\\item 110\n",
       "\\item 111\n",
       "\\item 112\n",
       "\\item 113\n",
       "\\item 114\n",
       "\\item 115\n",
       "\\item 116\n",
       "\\item 117\n",
       "\\item 118\n",
       "\\item 119\n",
       "\\item 120\n",
       "\\item 121\n",
       "\\item 122\n",
       "\\item 123\n",
       "\\item 124\n",
       "\\item 125\n",
       "\\item 126\n",
       "\\item 127\n",
       "\\item 128\n",
       "\\item 129\n",
       "\\item 130\n",
       "\\item 131\n",
       "\\item 132\n",
       "\\item 133\n",
       "\\item 134\n",
       "\\item 135\n",
       "\\item 136\n",
       "\\item 137\n",
       "\\item 138\n",
       "\\item 139\n",
       "\\item 140\n",
       "\\item 141\n",
       "\\item 142\n",
       "\\item 143\n",
       "\\item 144\n",
       "\\item 145\n",
       "\\item 146\n",
       "\\item 147\n",
       "\\item 148\n",
       "\\item 149\n",
       "\\item 150\n",
       "\\item 151\n",
       "\\item 152\n",
       "\\item 153\n",
       "\\item 154\n",
       "\\item 155\n",
       "\\item 156\n",
       "\\item 157\n",
       "\\item 158\n",
       "\\item 159\n",
       "\\item 160\n",
       "\\item 161\n",
       "\\item 162\n",
       "\\item 163\n",
       "\\item 164\n",
       "\\item 165\n",
       "\\item 166\n",
       "\\item 167\n",
       "\\item 168\n",
       "\\item 169\n",
       "\\item 170\n",
       "\\item 171\n",
       "\\item 172\n",
       "\\item 173\n",
       "\\item 174\n",
       "\\item 175\n",
       "\\item 176\n",
       "\\item 177\n",
       "\\item 178\n",
       "\\item 179\n",
       "\\item 180\n",
       "\\item 181\n",
       "\\item 182\n",
       "\\item 183\n",
       "\\item 184\n",
       "\\item 185\n",
       "\\item 186\n",
       "\\item 187\n",
       "\\item 188\n",
       "\\item 189\n",
       "\\item 190\n",
       "\\item 191\n",
       "\\item 192\n",
       "\\item 193\n",
       "\\item 194\n",
       "\\item 195\n",
       "\\item 196\n",
       "\\item 197\n",
       "\\item 198\n",
       "\\item 199\n",
       "\\item ...\n",
       "\\item 202\n",
       "\\item 203\n",
       "\\item 204\n",
       "\\item 205\n",
       "\\item 206\n",
       "\\item 207\n",
       "\\item 208\n",
       "\\item 209\n",
       "\\item 210\n",
       "\\item 211\n",
       "\\item 212\n",
       "\\item 213\n",
       "\\item 214\n",
       "\\item 215\n",
       "\\item 216\n",
       "\\item 217\n",
       "\\item 218\n",
       "\\item 219\n",
       "\\item 220\n",
       "\\item 221\n",
       "\\item 222\n",
       "\\item 223\n",
       "\\item 224\n",
       "\\item 225\n",
       "\\item 226\n",
       "\\item 227\n",
       "\\item 228\n",
       "\\item 229\n",
       "\\item 230\n",
       "\\item 231\n",
       "\\item 232\n",
       "\\item 233\n",
       "\\item 234\n",
       "\\item 235\n",
       "\\item 236\n",
       "\\item 237\n",
       "\\item 238\n",
       "\\item 239\n",
       "\\item 240\n",
       "\\item 241\n",
       "\\item 242\n",
       "\\item 243\n",
       "\\item 244\n",
       "\\item 245\n",
       "\\item 246\n",
       "\\item 247\n",
       "\\item 248\n",
       "\\item 249\n",
       "\\item 250\n",
       "\\item 251\n",
       "\\item 252\n",
       "\\item 253\n",
       "\\item 254\n",
       "\\item 255\n",
       "\\item 256\n",
       "\\item 257\n",
       "\\item 258\n",
       "\\item 259\n",
       "\\item 260\n",
       "\\item 261\n",
       "\\item 262\n",
       "\\item 263\n",
       "\\item 264\n",
       "\\item 265\n",
       "\\item 266\n",
       "\\item 267\n",
       "\\item 268\n",
       "\\item 269\n",
       "\\item 270\n",
       "\\item 271\n",
       "\\item 272\n",
       "\\item 273\n",
       "\\item 274\n",
       "\\item 275\n",
       "\\item 276\n",
       "\\item 277\n",
       "\\item 278\n",
       "\\item 279\n",
       "\\item 280\n",
       "\\item 281\n",
       "\\item 282\n",
       "\\item 283\n",
       "\\item 284\n",
       "\\item 285\n",
       "\\item 286\n",
       "\\item 287\n",
       "\\item 288\n",
       "\\item 289\n",
       "\\item 290\n",
       "\\item 291\n",
       "\\item 292\n",
       "\\item 293\n",
       "\\item 294\n",
       "\\item 295\n",
       "\\item 296\n",
       "\\item 297\n",
       "\\item 298\n",
       "\\item 299\n",
       "\\item 300\n",
       "\\item 301\n",
       "\\item 302\n",
       "\\item 303\n",
       "\\item 304\n",
       "\\item 305\n",
       "\\item 306\n",
       "\\item 307\n",
       "\\item 308\n",
       "\\item 309\n",
       "\\item 310\n",
       "\\item 311\n",
       "\\item 312\n",
       "\\item 313\n",
       "\\item 314\n",
       "\\item 315\n",
       "\\item 316\n",
       "\\item 317\n",
       "\\item 318\n",
       "\\item 319\n",
       "\\item 320\n",
       "\\item 321\n",
       "\\item 322\n",
       "\\item 323\n",
       "\\item 324\n",
       "\\item 325\n",
       "\\item 326\n",
       "\\item 327\n",
       "\\item 328\n",
       "\\item 329\n",
       "\\item 330\n",
       "\\item 331\n",
       "\\item 332\n",
       "\\item 333\n",
       "\\item 334\n",
       "\\item 335\n",
       "\\item 336\n",
       "\\item 337\n",
       "\\item 338\n",
       "\\item 339\n",
       "\\item 340\n",
       "\\item 341\n",
       "\\item 342\n",
       "\\item 343\n",
       "\\item 344\n",
       "\\item 345\n",
       "\\item 346\n",
       "\\item 347\n",
       "\\item 348\n",
       "\\item 349\n",
       "\\item 350\n",
       "\\item 351\n",
       "\\item 352\n",
       "\\item 353\n",
       "\\item 354\n",
       "\\item 355\n",
       "\\item 356\n",
       "\\item 357\n",
       "\\item 358\n",
       "\\item 359\n",
       "\\item 360\n",
       "\\item 361\n",
       "\\item 362\n",
       "\\item 363\n",
       "\\item 364\n",
       "\\item 365\n",
       "\\item 366\n",
       "\\item 367\n",
       "\\item 368\n",
       "\\item 369\n",
       "\\item 370\n",
       "\\item 371\n",
       "\\item 372\n",
       "\\item 373\n",
       "\\item 374\n",
       "\\item 375\n",
       "\\item 376\n",
       "\\item 377\n",
       "\\item 378\n",
       "\\item 379\n",
       "\\item 380\n",
       "\\item 381\n",
       "\\item 382\n",
       "\\item 383\n",
       "\\item 384\n",
       "\\item 385\n",
       "\\item 386\n",
       "\\item 387\n",
       "\\item 388\n",
       "\\item 389\n",
       "\\item 390\n",
       "\\item 391\n",
       "\\item 392\n",
       "\\item 393\n",
       "\\item 394\n",
       "\\item 395\n",
       "\\item 396\n",
       "\\item 397\n",
       "\\item 398\n",
       "\\item 399\n",
       "\\item 400\n",
       "\\item 401\n",
       "\\end{enumerate*}\n"
      ],
      "text/markdown": [
       "1. 0\n",
       "2. 1\n",
       "3. 2\n",
       "4. 3\n",
       "5. 4\n",
       "6. 5\n",
       "7. 6\n",
       "8. 7\n",
       "9. 8\n",
       "10. 9\n",
       "11. 10\n",
       "12. 11\n",
       "13. 12\n",
       "14. 13\n",
       "15. 14\n",
       "16. 15\n",
       "17. 16\n",
       "18. 17\n",
       "19. 18\n",
       "20. 19\n",
       "21. 20\n",
       "22. 21\n",
       "23. 22\n",
       "24. 23\n",
       "25. 24\n",
       "26. 25\n",
       "27. 26\n",
       "28. 27\n",
       "29. 28\n",
       "30. 29\n",
       "31. 30\n",
       "32. 31\n",
       "33. 32\n",
       "34. 33\n",
       "35. 34\n",
       "36. 35\n",
       "37. 36\n",
       "38. 37\n",
       "39. 38\n",
       "40. 39\n",
       "41. 40\n",
       "42. 41\n",
       "43. 42\n",
       "44. 43\n",
       "45. 44\n",
       "46. 45\n",
       "47. 46\n",
       "48. 47\n",
       "49. 48\n",
       "50. 49\n",
       "51. 50\n",
       "52. 51\n",
       "53. 52\n",
       "54. 53\n",
       "55. 54\n",
       "56. 55\n",
       "57. 56\n",
       "58. 57\n",
       "59. 58\n",
       "60. 59\n",
       "61. 60\n",
       "62. 61\n",
       "63. 62\n",
       "64. 63\n",
       "65. 64\n",
       "66. 65\n",
       "67. 66\n",
       "68. 67\n",
       "69. 68\n",
       "70. 69\n",
       "71. 70\n",
       "72. 71\n",
       "73. 72\n",
       "74. 73\n",
       "75. 74\n",
       "76. 75\n",
       "77. 76\n",
       "78. 77\n",
       "79. 78\n",
       "80. 79\n",
       "81. 80\n",
       "82. 81\n",
       "83. 82\n",
       "84. 83\n",
       "85. 84\n",
       "86. 85\n",
       "87. 86\n",
       "88. 87\n",
       "89. 88\n",
       "90. 89\n",
       "91. 90\n",
       "92. 91\n",
       "93. 92\n",
       "94. 93\n",
       "95. 94\n",
       "96. 95\n",
       "97. 96\n",
       "98. 97\n",
       "99. 98\n",
       "100. 99\n",
       "101. 100\n",
       "102. 101\n",
       "103. 102\n",
       "104. 103\n",
       "105. 104\n",
       "106. 105\n",
       "107. 106\n",
       "108. 107\n",
       "109. 108\n",
       "110. 109\n",
       "111. 110\n",
       "112. 111\n",
       "113. 112\n",
       "114. 113\n",
       "115. 114\n",
       "116. 115\n",
       "117. 116\n",
       "118. 117\n",
       "119. 118\n",
       "120. 119\n",
       "121. 120\n",
       "122. 121\n",
       "123. 122\n",
       "124. 123\n",
       "125. 124\n",
       "126. 125\n",
       "127. 126\n",
       "128. 127\n",
       "129. 128\n",
       "130. 129\n",
       "131. 130\n",
       "132. 131\n",
       "133. 132\n",
       "134. 133\n",
       "135. 134\n",
       "136. 135\n",
       "137. 136\n",
       "138. 137\n",
       "139. 138\n",
       "140. 139\n",
       "141. 140\n",
       "142. 141\n",
       "143. 142\n",
       "144. 143\n",
       "145. 144\n",
       "146. 145\n",
       "147. 146\n",
       "148. 147\n",
       "149. 148\n",
       "150. 149\n",
       "151. 150\n",
       "152. 151\n",
       "153. 152\n",
       "154. 153\n",
       "155. 154\n",
       "156. 155\n",
       "157. 156\n",
       "158. 157\n",
       "159. 158\n",
       "160. 159\n",
       "161. 160\n",
       "162. 161\n",
       "163. 162\n",
       "164. 163\n",
       "165. 164\n",
       "166. 165\n",
       "167. 166\n",
       "168. 167\n",
       "169. 168\n",
       "170. 169\n",
       "171. 170\n",
       "172. 171\n",
       "173. 172\n",
       "174. 173\n",
       "175. 174\n",
       "176. 175\n",
       "177. 176\n",
       "178. 177\n",
       "179. 178\n",
       "180. 179\n",
       "181. 180\n",
       "182. 181\n",
       "183. 182\n",
       "184. 183\n",
       "185. 184\n",
       "186. 185\n",
       "187. 186\n",
       "188. 187\n",
       "189. 188\n",
       "190. 189\n",
       "191. 190\n",
       "192. 191\n",
       "193. 192\n",
       "194. 193\n",
       "195. 194\n",
       "196. 195\n",
       "197. 196\n",
       "198. 197\n",
       "199. 198\n",
       "200. 199\n",
       "201. ...\n",
       "202. 202\n",
       "203. 203\n",
       "204. 204\n",
       "205. 205\n",
       "206. 206\n",
       "207. 207\n",
       "208. 208\n",
       "209. 209\n",
       "210. 210\n",
       "211. 211\n",
       "212. 212\n",
       "213. 213\n",
       "214. 214\n",
       "215. 215\n",
       "216. 216\n",
       "217. 217\n",
       "218. 218\n",
       "219. 219\n",
       "220. 220\n",
       "221. 221\n",
       "222. 222\n",
       "223. 223\n",
       "224. 224\n",
       "225. 225\n",
       "226. 226\n",
       "227. 227\n",
       "228. 228\n",
       "229. 229\n",
       "230. 230\n",
       "231. 231\n",
       "232. 232\n",
       "233. 233\n",
       "234. 234\n",
       "235. 235\n",
       "236. 236\n",
       "237. 237\n",
       "238. 238\n",
       "239. 239\n",
       "240. 240\n",
       "241. 241\n",
       "242. 242\n",
       "243. 243\n",
       "244. 244\n",
       "245. 245\n",
       "246. 246\n",
       "247. 247\n",
       "248. 248\n",
       "249. 249\n",
       "250. 250\n",
       "251. 251\n",
       "252. 252\n",
       "253. 253\n",
       "254. 254\n",
       "255. 255\n",
       "256. 256\n",
       "257. 257\n",
       "258. 258\n",
       "259. 259\n",
       "260. 260\n",
       "261. 261\n",
       "262. 262\n",
       "263. 263\n",
       "264. 264\n",
       "265. 265\n",
       "266. 266\n",
       "267. 267\n",
       "268. 268\n",
       "269. 269\n",
       "270. 270\n",
       "271. 271\n",
       "272. 272\n",
       "273. 273\n",
       "274. 274\n",
       "275. 275\n",
       "276. 276\n",
       "277. 277\n",
       "278. 278\n",
       "279. 279\n",
       "280. 280\n",
       "281. 281\n",
       "282. 282\n",
       "283. 283\n",
       "284. 284\n",
       "285. 285\n",
       "286. 286\n",
       "287. 287\n",
       "288. 288\n",
       "289. 289\n",
       "290. 290\n",
       "291. 291\n",
       "292. 292\n",
       "293. 293\n",
       "294. 294\n",
       "295. 295\n",
       "296. 296\n",
       "297. 297\n",
       "298. 298\n",
       "299. 299\n",
       "300. 300\n",
       "301. 301\n",
       "302. 302\n",
       "303. 303\n",
       "304. 304\n",
       "305. 305\n",
       "306. 306\n",
       "307. 307\n",
       "308. 308\n",
       "309. 309\n",
       "310. 310\n",
       "311. 311\n",
       "312. 312\n",
       "313. 313\n",
       "314. 314\n",
       "315. 315\n",
       "316. 316\n",
       "317. 317\n",
       "318. 318\n",
       "319. 319\n",
       "320. 320\n",
       "321. 321\n",
       "322. 322\n",
       "323. 323\n",
       "324. 324\n",
       "325. 325\n",
       "326. 326\n",
       "327. 327\n",
       "328. 328\n",
       "329. 329\n",
       "330. 330\n",
       "331. 331\n",
       "332. 332\n",
       "333. 333\n",
       "334. 334\n",
       "335. 335\n",
       "336. 336\n",
       "337. 337\n",
       "338. 338\n",
       "339. 339\n",
       "340. 340\n",
       "341. 341\n",
       "342. 342\n",
       "343. 343\n",
       "344. 344\n",
       "345. 345\n",
       "346. 346\n",
       "347. 347\n",
       "348. 348\n",
       "349. 349\n",
       "350. 350\n",
       "351. 351\n",
       "352. 352\n",
       "353. 353\n",
       "354. 354\n",
       "355. 355\n",
       "356. 356\n",
       "357. 357\n",
       "358. 358\n",
       "359. 359\n",
       "360. 360\n",
       "361. 361\n",
       "362. 362\n",
       "363. 363\n",
       "364. 364\n",
       "365. 365\n",
       "366. 366\n",
       "367. 367\n",
       "368. 368\n",
       "369. 369\n",
       "370. 370\n",
       "371. 371\n",
       "372. 372\n",
       "373. 373\n",
       "374. 374\n",
       "375. 375\n",
       "376. 376\n",
       "377. 377\n",
       "378. 378\n",
       "379. 379\n",
       "380. 380\n",
       "381. 381\n",
       "382. 382\n",
       "383. 383\n",
       "384. 384\n",
       "385. 385\n",
       "386. 386\n",
       "387. 387\n",
       "388. 388\n",
       "389. 389\n",
       "390. 390\n",
       "391. 391\n",
       "392. 392\n",
       "393. 393\n",
       "394. 394\n",
       "395. 395\n",
       "396. 396\n",
       "397. 397\n",
       "398. 398\n",
       "399. 399\n",
       "400. 400\n",
       "401. 401\n",
       "\n",
       "\n"
      ],
      "text/plain": [
       "  [1]   0   1   2   3   4   5   6   7   8   9  10  11  12  13  14  15  16  17\n",
       " [19]  18  19  20  21  22  23  24  25  26  27  28  29  30  31  32  33  34  35\n",
       " [37]  36  37  38  39  40  41  42  43  44  45  46  47  48  49  50  51  52  53\n",
       " [55]  54  55  56  57  58  59  60  61  62  63  64  65  66  67  68  69  70  71\n",
       " [73]  72  73  74  75  76  77  78  79  80  81  82  83  84  85  86  87  88  89\n",
       " [91]  90  91  92  93  94  95  96  97  98  99 100 101 102 103 104 105 106 107\n",
       "[109] 108 109 110 111 112 113 114 115 116 117 118 119 120 121 122 123 124 125\n",
       "[127] 126 127 128 129 130 131 132 133 134 135 136 137 138 139 140 141 142 143\n",
       "[145] 144 145 146 147 148 149 150 151 152 153 154 155 156 157 158 159 160 161\n",
       "[163] 162 163 164 165 166 167 168 169 170 171 172 173 174 175 176 177 178 179\n",
       "[181] 180 181 182 183 184 185 186 187 188 189 190 191 192 193 194 195 196 197\n",
       "[199] 198 199 200 201 202 203 204 205 206 207 208 209 210 211 212 213 214 215\n",
       "[217] 216 217 218 219 220 221 222 223 224 225 226 227 228 229 230 231 232 233\n",
       "[235] 234 235 236 237 238 239 240 241 242 243 244 245 246 247 248 249 250 251\n",
       "[253] 252 253 254 255 256 257 258 259 260 261 262 263 264 265 266 267 268 269\n",
       "[271] 270 271 272 273 274 275 276 277 278 279 280 281 282 283 284 285 286 287\n",
       "[289] 288 289 290 291 292 293 294 295 296 297 298 299 300 301 302 303 304 305\n",
       "[307] 306 307 308 309 310 311 312 313 314 315 316 317 318 319 320 321 322 323\n",
       "[325] 324 325 326 327 328 329 330 331 332 333 334 335 336 337 338 339 340 341\n",
       "[343] 342 343 344 345 346 347 348 349 350 351 352 353 354 355 356 357 358 359\n",
       "[361] 360 361 362 363 364 365 366 367 368 369 370 371 372 373 374 375 376 377\n",
       "[379] 378 379 380 381 382 383 384 385 386 387 388 389 390 391 392 393 394 395\n",
       "[397] 396 397 398 399 400 401"
      ]
     },
     "metadata": {},
     "output_type": "display_data"
    }
   ],
   "source": [
    "iter_seq <- seq.int(0, iteration, 1)\n",
    "\n",
    "iter_seq"
   ]
  },
  {
   "cell_type": "code",
   "execution_count": 19,
   "metadata": {},
   "outputs": [
    {
     "data": {
      "text/html": [
       "<table class=\"dataframe\">\n",
       "<caption>A data.frame: 6 × 2</caption>\n",
       "<thead>\n",
       "\t<tr><th></th><th scope=col>iter_seq</th><th scope=col>error</th></tr>\n",
       "\t<tr><th></th><th scope=col>&lt;dbl&gt;</th><th scope=col>&lt;dbl&gt;</th></tr>\n",
       "</thead>\n",
       "<tbody>\n",
       "\t<tr><th scope=row>1</th><td>0</td><td>0.9939542</td></tr>\n",
       "\t<tr><th scope=row>2</th><td>1</td><td>0.9441379</td></tr>\n",
       "\t<tr><th scope=row>3</th><td>2</td><td>0.9384299</td></tr>\n",
       "\t<tr><th scope=row>4</th><td>3</td><td>0.8913964</td></tr>\n",
       "\t<tr><th scope=row>5</th><td>4</td><td>0.8860073</td></tr>\n",
       "\t<tr><th scope=row>6</th><td>5</td><td>0.8416012</td></tr>\n",
       "</tbody>\n",
       "</table>\n"
      ],
      "text/latex": [
       "A data.frame: 6 × 2\n",
       "\\begin{tabular}{r|ll}\n",
       "  & iter\\_seq & error\\\\\n",
       "  & <dbl> & <dbl>\\\\\n",
       "\\hline\n",
       "\t1 & 0 & 0.9939542\\\\\n",
       "\t2 & 1 & 0.9441379\\\\\n",
       "\t3 & 2 & 0.9384299\\\\\n",
       "\t4 & 3 & 0.8913964\\\\\n",
       "\t5 & 4 & 0.8860073\\\\\n",
       "\t6 & 5 & 0.8416012\\\\\n",
       "\\end{tabular}\n"
      ],
      "text/markdown": [
       "\n",
       "A data.frame: 6 × 2\n",
       "\n",
       "| <!--/--> | iter_seq &lt;dbl&gt; | error &lt;dbl&gt; |\n",
       "|---|---|---|\n",
       "| 1 | 0 | 0.9939542 |\n",
       "| 2 | 1 | 0.9441379 |\n",
       "| 3 | 2 | 0.9384299 |\n",
       "| 4 | 3 | 0.8913964 |\n",
       "| 5 | 4 | 0.8860073 |\n",
       "| 6 | 5 | 0.8416012 |\n",
       "\n"
      ],
      "text/plain": [
       "  iter_seq error    \n",
       "1 0        0.9939542\n",
       "2 1        0.9441379\n",
       "3 2        0.9384299\n",
       "4 3        0.8913964\n",
       "5 4        0.8860073\n",
       "6 5        0.8416012"
      ]
     },
     "metadata": {},
     "output_type": "display_data"
    }
   ],
   "source": [
    "error_per_iter <- data.frame(iter_seq, error)\n",
    "\n",
    "head(error_per_iter)"
   ]
  },
  {
   "cell_type": "code",
   "execution_count": 20,
   "metadata": {},
   "outputs": [
    {
     "data": {
      "image/png": "[encoded data removed]",
      "text/plain": [
       "plot without title"
      ]
     },
     "metadata": {
      "image/png": {
       "height": 480,
       "width": 720
      }
     },
     "output_type": "display_data"
    }
   ],
   "source": [
    "ggplot(error_per_iter, aes(x=iter_seq, y=error)) +\n",
    "    geom_line(col=\"red\", size=2)"
   ]
  },
  {
   "cell_type": "code",
   "execution_count": 21,
   "metadata": {},
   "outputs": [
    {
     "data": {
      "text/html": [
       "<table class=\"dataframe\">\n",
       "<caption>A matrix: 2 × 1 of type dbl</caption>\n",
       "<tbody>\n",
       "\t<tr><td> 7.109534</td></tr>\n",
       "\t<tr><td>-3.221021</td></tr>\n",
       "</tbody>\n",
       "</table>\n"
      ],
      "text/latex": [
       "A matrix: 2 × 1 of type dbl\n",
       "\\begin{tabular}{l}\n",
       "\t  7.109534\\\\\n",
       "\t -3.221021\\\\\n",
       "\\end{tabular}\n"
      ],
      "text/markdown": [
       "\n",
       "A matrix: 2 × 1 of type dbl\n",
       "\n",
       "|  7.109534 |\n",
       "| -3.221021 |\n",
       "\n"
      ],
      "text/plain": [
       "     [,1]     \n",
       "[1,]  7.109534\n",
       "[2,] -3.221021"
      ]
     },
     "metadata": {},
     "output_type": "display_data"
    }
   ],
   "source": [
    "out2 <- lsolve.jacobi(A, b, weight = 0.66, verbose=FALSE)\n",
    "\n",
    "out2$x"
   ]
  },
  {
   "cell_type": "code",
   "execution_count": 22,
   "metadata": {},
   "outputs": [],
   "source": [
    "error <- out2$errors\n",
    "\n",
    "iteration <- out2$iter"
   ]
  },
  {
   "cell_type": "code",
   "execution_count": 23,
   "metadata": {},
   "outputs": [
    {
     "data": {
      "text/html": [
       "<table class=\"dataframe\">\n",
       "<caption>A data.frame: 6 × 2</caption>\n",
       "<thead>\n",
       "\t<tr><th></th><th scope=col>iter_seq</th><th scope=col>error</th></tr>\n",
       "\t<tr><th></th><th scope=col>&lt;dbl&gt;</th><th scope=col>&lt;dbl&gt;</th></tr>\n",
       "</thead>\n",
       "<tbody>\n",
       "\t<tr><th scope=row>1</th><td>0</td><td>0.31405007</td></tr>\n",
       "\t<tr><th scope=row>2</th><td>1</td><td>0.08857574</td></tr>\n",
       "\t<tr><th scope=row>3</th><td>2</td><td>0.04697458</td></tr>\n",
       "\t<tr><th scope=row>4</th><td>3</td><td>0.02969921</td></tr>\n",
       "\t<tr><th scope=row>5</th><td>4</td><td>0.03099098</td></tr>\n",
       "\t<tr><th scope=row>6</th><td>5</td><td>0.02947441</td></tr>\n",
       "</tbody>\n",
       "</table>\n"
      ],
      "text/latex": [
       "A data.frame: 6 × 2\n",
       "\\begin{tabular}{r|ll}\n",
       "  & iter\\_seq & error\\\\\n",
       "  & <dbl> & <dbl>\\\\\n",
       "\\hline\n",
       "\t1 & 0 & 0.31405007\\\\\n",
       "\t2 & 1 & 0.08857574\\\\\n",
       "\t3 & 2 & 0.04697458\\\\\n",
       "\t4 & 3 & 0.02969921\\\\\n",
       "\t5 & 4 & 0.03099098\\\\\n",
       "\t6 & 5 & 0.02947441\\\\\n",
       "\\end{tabular}\n"
      ],
      "text/markdown": [
       "\n",
       "A data.frame: 6 × 2\n",
       "\n",
       "| <!--/--> | iter_seq &lt;dbl&gt; | error &lt;dbl&gt; |\n",
       "|---|---|---|\n",
       "| 1 | 0 | 0.31405007 |\n",
       "| 2 | 1 | 0.08857574 |\n",
       "| 3 | 2 | 0.04697458 |\n",
       "| 4 | 3 | 0.02969921 |\n",
       "| 5 | 4 | 0.03099098 |\n",
       "| 6 | 5 | 0.02947441 |\n",
       "\n"
      ],
      "text/plain": [
       "  iter_seq error     \n",
       "1 0        0.31405007\n",
       "2 1        0.08857574\n",
       "3 2        0.04697458\n",
       "4 3        0.02969921\n",
       "5 4        0.03099098\n",
       "6 5        0.02947441"
      ]
     },
     "metadata": {},
     "output_type": "display_data"
    }
   ],
   "source": [
    "iter_seq <- seq(0, iteration, 1)\n",
    "\n",
    "error_per_iter <- data.frame(iter_seq, error)\n",
    "\n",
    "head(error_per_iter)"
   ]
  },
  {
   "cell_type": "code",
   "execution_count": 24,
   "metadata": {},
   "outputs": [
    {
     "data": {
      "image/png": "[encoded data removed]",
      "text/plain": [
       "plot without title"
      ]
     },
     "metadata": {
      "image/png": {
       "height": 480,
       "width": 720
      }
     },
     "output_type": "display_data"
    }
   ],
   "source": [
    "ggplot(error_per_iter, aes(x = iter_seq, y = error)) +\n",
    "    geom_line(col = \"red\", size=2)"
   ]
  },
  {
   "cell_type": "code",
   "execution_count": 25,
   "metadata": {},
   "outputs": [
    {
     "data": {
      "text/html": [
       "<table class=\"dataframe\">\n",
       "<caption>A matrix: 2 × 2 of type dbl</caption>\n",
       "<tbody>\n",
       "\t<tr><td>2</td><td>1</td></tr>\n",
       "\t<tr><td>5</td><td>7</td></tr>\n",
       "</tbody>\n",
       "</table>\n"
      ],
      "text/latex": [
       "A matrix: 2 × 2 of type dbl\n",
       "\\begin{tabular}{ll}\n",
       "\t 2 & 1\\\\\n",
       "\t 5 & 7\\\\\n",
       "\\end{tabular}\n"
      ],
      "text/markdown": [
       "\n",
       "A matrix: 2 × 2 of type dbl\n",
       "\n",
       "| 2 | 1 |\n",
       "| 5 | 7 |\n",
       "\n"
      ],
      "text/plain": [
       "     [,1] [,2]\n",
       "[1,] 2    1   \n",
       "[2,] 5    7   "
      ]
     },
     "metadata": {},
     "output_type": "display_data"
    }
   ],
   "source": [
    "A <- matrix(c(2, 1,\n",
    "    5, 7), nrow=2, byrow=T)\n",
    "A"
   ]
  },
  {
   "cell_type": "code",
   "execution_count": 27,
   "metadata": {},
   "outputs": [
    {
     "data": {
      "text/html": [
       "<table class=\"dataframe\">\n",
       "<caption>A matrix: 2 × 1 of type dbl</caption>\n",
       "<tbody>\n",
       "\t<tr><td>11</td></tr>\n",
       "\t<tr><td>13</td></tr>\n",
       "</tbody>\n",
       "</table>\n"
      ],
      "text/latex": [
       "A matrix: 2 × 1 of type dbl\n",
       "\\begin{tabular}{l}\n",
       "\t 11\\\\\n",
       "\t 13\\\\\n",
       "\\end{tabular}\n"
      ],
      "text/markdown": [
       "\n",
       "A matrix: 2 × 1 of type dbl\n",
       "\n",
       "| 11 |\n",
       "| 13 |\n",
       "\n"
      ],
      "text/plain": [
       "     [,1]\n",
       "[1,] 11  \n",
       "[2,] 13  "
      ]
     },
     "metadata": {},
     "output_type": "display_data"
    }
   ],
   "source": [
    "b <- matrix(c(11, 13), nrow=2, ncol=1, byrow=T)\n",
    "b"
   ]
  },
  {
   "cell_type": "code",
   "execution_count": 28,
   "metadata": {},
   "outputs": [
    {
     "data": {
      "text/html": [
       "<table class=\"dataframe\">\n",
       "<caption>A matrix: 2 × 3 of type dbl</caption>\n",
       "<tbody>\n",
       "\t<tr><td>1</td><td>0</td><td> 7.111111</td></tr>\n",
       "\t<tr><td>0</td><td>1</td><td>-3.222222</td></tr>\n",
       "</tbody>\n",
       "</table>\n"
      ],
      "text/latex": [
       "A matrix: 2 × 3 of type dbl\n",
       "\\begin{tabular}{lll}\n",
       "\t 1 & 0 &  7.111111\\\\\n",
       "\t 0 & 1 & -3.222222\\\\\n",
       "\\end{tabular}\n"
      ],
      "text/markdown": [
       "\n",
       "A matrix: 2 × 3 of type dbl\n",
       "\n",
       "| 1 | 0 |  7.111111 |\n",
       "| 0 | 1 | -3.222222 |\n",
       "\n"
      ],
      "text/plain": [
       "     [,1] [,2] [,3]     \n",
       "[1,] 1    0     7.111111\n",
       "[2,] 0    1    -3.222222"
      ]
     },
     "metadata": {},
     "output_type": "display_data"
    }
   ],
   "source": [
    "rref(cbind(A, b))"
   ]
  },
  {
   "cell_type": "code",
   "execution_count": 29,
   "metadata": {},
   "outputs": [
    {
     "data": {
      "text/html": [
       "<table class=\"dataframe\">\n",
       "<caption>A matrix: 3 × 3 of type dbl</caption>\n",
       "<tbody>\n",
       "\t<tr><td>6</td><td>4</td><td>1</td></tr>\n",
       "\t<tr><td>1</td><td>4</td><td>2</td></tr>\n",
       "\t<tr><td>1</td><td>1</td><td>3</td></tr>\n",
       "</tbody>\n",
       "</table>\n"
      ],
      "text/latex": [
       "A matrix: 3 × 3 of type dbl\n",
       "\\begin{tabular}{lll}\n",
       "\t 6 & 4 & 1\\\\\n",
       "\t 1 & 4 & 2\\\\\n",
       "\t 1 & 1 & 3\\\\\n",
       "\\end{tabular}\n"
      ],
      "text/markdown": [
       "\n",
       "A matrix: 3 × 3 of type dbl\n",
       "\n",
       "| 6 | 4 | 1 |\n",
       "| 1 | 4 | 2 |\n",
       "| 1 | 1 | 3 |\n",
       "\n"
      ],
      "text/plain": [
       "     [,1] [,2] [,3]\n",
       "[1,] 6    4    1   \n",
       "[2,] 1    4    2   \n",
       "[3,] 1    1    3   "
      ]
     },
     "metadata": {},
     "output_type": "display_data"
    }
   ],
   "source": [
    "A <- matrix(c(6, 4, 1,\n",
    "    1, 4, 2,\n",
    "    1, 1, 3), nrow=3, byrow=T)\n",
    "\n",
    "A"
   ]
  },
  {
   "cell_type": "code",
   "execution_count": 31,
   "metadata": {},
   "outputs": [
    {
     "data": {
      "text/html": [
       "<table class=\"dataframe\">\n",
       "<caption>A matrix: 3 × 1 of type dbl</caption>\n",
       "<tbody>\n",
       "\t<tr><td>24</td></tr>\n",
       "\t<tr><td>11</td></tr>\n",
       "\t<tr><td>10</td></tr>\n",
       "</tbody>\n",
       "</table>\n"
      ],
      "text/latex": [
       "A matrix: 3 × 1 of type dbl\n",
       "\\begin{tabular}{l}\n",
       "\t 24\\\\\n",
       "\t 11\\\\\n",
       "\t 10\\\\\n",
       "\\end{tabular}\n"
      ],
      "text/markdown": [
       "\n",
       "A matrix: 3 × 1 of type dbl\n",
       "\n",
       "| 24 |\n",
       "| 11 |\n",
       "| 10 |\n",
       "\n"
      ],
      "text/plain": [
       "     [,1]\n",
       "[1,] 24  \n",
       "[2,] 11  \n",
       "[3,] 10  "
      ]
     },
     "metadata": {},
     "output_type": "display_data"
    }
   ],
   "source": [
    "b <- matrix(c(24,\n",
    "11,\n",
    "10), nrow=3, ncol=1, byrow=T)\n",
    "\n",
    "b"
   ]
  },
  {
   "cell_type": "code",
   "execution_count": 32,
   "metadata": {},
   "outputs": [
    {
     "data": {
      "text/html": [
       "<table class=\"dataframe\">\n",
       "<caption>A matrix: 3 × 4 of type dbl</caption>\n",
       "<tbody>\n",
       "\t<tr><td>1</td><td>0</td><td>0</td><td>3</td></tr>\n",
       "\t<tr><td>0</td><td>1</td><td>0</td><td>1</td></tr>\n",
       "\t<tr><td>0</td><td>0</td><td>1</td><td>2</td></tr>\n",
       "</tbody>\n",
       "</table>\n"
      ],
      "text/latex": [
       "A matrix: 3 × 4 of type dbl\n",
       "\\begin{tabular}{llll}\n",
       "\t 1 & 0 & 0 & 3\\\\\n",
       "\t 0 & 1 & 0 & 1\\\\\n",
       "\t 0 & 0 & 1 & 2\\\\\n",
       "\\end{tabular}\n"
      ],
      "text/markdown": [
       "\n",
       "A matrix: 3 × 4 of type dbl\n",
       "\n",
       "| 1 | 0 | 0 | 3 |\n",
       "| 0 | 1 | 0 | 1 |\n",
       "| 0 | 0 | 1 | 2 |\n",
       "\n"
      ],
      "text/plain": [
       "     [,1] [,2] [,3] [,4]\n",
       "[1,] 1    0    0    3   \n",
       "[2,] 0    1    0    1   \n",
       "[3,] 0    0    1    2   "
      ]
     },
     "metadata": {},
     "output_type": "display_data"
    }
   ],
   "source": [
    "rref(cbind(A, b))"
   ]
  },
  {
   "cell_type": "code",
   "execution_count": 33,
   "metadata": {},
   "outputs": [
    {
     "data": {
      "text/html": [
       "<table class=\"dataframe\">\n",
       "<caption>A matrix: 2 × 2 of type dbl</caption>\n",
       "<tbody>\n",
       "\t<tr><td>1</td><td>2</td></tr>\n",
       "\t<tr><td>5</td><td>4</td></tr>\n",
       "</tbody>\n",
       "</table>\n"
      ],
      "text/latex": [
       "A matrix: 2 × 2 of type dbl\n",
       "\\begin{tabular}{ll}\n",
       "\t 1 & 2\\\\\n",
       "\t 5 & 4\\\\\n",
       "\\end{tabular}\n"
      ],
      "text/markdown": [
       "\n",
       "A matrix: 2 × 2 of type dbl\n",
       "\n",
       "| 1 | 2 |\n",
       "| 5 | 4 |\n",
       "\n"
      ],
      "text/plain": [
       "     [,1] [,2]\n",
       "[1,] 1    2   \n",
       "[2,] 5    4   "
      ]
     },
     "metadata": {},
     "output_type": "display_data"
    }
   ],
   "source": [
    "A <- matrix(c(1, 2,\n",
    "    5, 4), nrow=2, ncol=2, byrow=TRUE)\n",
    "\n",
    "A"
   ]
  },
  {
   "cell_type": "code",
   "execution_count": 34,
   "metadata": {},
   "outputs": [
    {
     "data": {
      "text/html": [
       "<table class=\"dataframe\">\n",
       "<caption>A matrix: 2 × 1 of type dbl</caption>\n",
       "<tbody>\n",
       "\t<tr><td>5</td></tr>\n",
       "\t<tr><td>3</td></tr>\n",
       "</tbody>\n",
       "</table>\n"
      ],
      "text/latex": [
       "A matrix: 2 × 1 of type dbl\n",
       "\\begin{tabular}{l}\n",
       "\t 5\\\\\n",
       "\t 3\\\\\n",
       "\\end{tabular}\n"
      ],
      "text/markdown": [
       "\n",
       "A matrix: 2 × 1 of type dbl\n",
       "\n",
       "| 5 |\n",
       "| 3 |\n",
       "\n"
      ],
      "text/plain": [
       "     [,1]\n",
       "[1,] 5   \n",
       "[2,] 3   "
      ]
     },
     "metadata": {},
     "output_type": "display_data"
    }
   ],
   "source": [
    "b <- matrix(c(5, 3), nrow=2, ncol=1, byrow=T)\n",
    "b"
   ]
  },
  {
   "cell_type": "code",
   "execution_count": 35,
   "metadata": {},
   "outputs": [
    {
     "data": {
      "text/html": [
       "<table class=\"dataframe\">\n",
       "<caption>A matrix: 2 × 3 of type dbl</caption>\n",
       "<tbody>\n",
       "\t<tr><td>1</td><td>0</td><td>-2.333333</td></tr>\n",
       "\t<tr><td>0</td><td>1</td><td> 3.666667</td></tr>\n",
       "</tbody>\n",
       "</table>\n"
      ],
      "text/latex": [
       "A matrix: 2 × 3 of type dbl\n",
       "\\begin{tabular}{lll}\n",
       "\t 1 & 0 & -2.333333\\\\\n",
       "\t 0 & 1 &  3.666667\\\\\n",
       "\\end{tabular}\n"
      ],
      "text/markdown": [
       "\n",
       "A matrix: 2 × 3 of type dbl\n",
       "\n",
       "| 1 | 0 | -2.333333 |\n",
       "| 0 | 1 |  3.666667 |\n",
       "\n"
      ],
      "text/plain": [
       "     [,1] [,2] [,3]     \n",
       "[1,] 1    0    -2.333333\n",
       "[2,] 0    1     3.666667"
      ]
     },
     "metadata": {},
     "output_type": "display_data"
    }
   ],
   "source": [
    "rref(cbind(A, b))"
   ]
  }
 ],
 "metadata": {
  "kernelspec": {
   "display_name": "R",
   "language": "R",
   "name": "ir"
  },
  "language_info": {
   "codemirror_mode": "r",
   "file_extension": ".r",
   "mimetype": "text/x-r-source",
   "name": "R",
   "pygments_lexer": "r",
   "version": "4.1.2"
  },
  "orig_nbformat": 4
 },
 "nbformat": 4,
 "nbformat_minor": 2
}
