{
 "cells": [
  {
   "cell_type": "code",
   "execution_count": 1,
   "metadata": {
    "ExecuteTime": {
     "end_time": "2021-12-23T05:12:04.047497Z",
     "start_time": "2021-12-23T05:12:03.983Z"
    }
   },
   "outputs": [],
   "source": [
    "#install.packages(\"cubature\")"
   ]
  },
  {
   "cell_type": "code",
   "execution_count": 2,
   "metadata": {
    "ExecuteTime": {
     "end_time": "2021-12-23T05:12:04.918333Z",
     "start_time": "2021-12-23T05:12:03.988Z"
    }
   },
   "outputs": [],
   "source": [
    "library(cubature)\n",
    "library(ggplot2)\n",
    "\n",
    "options(repr.plot.width = 12, repr.plot.height = 8)"
   ]
  },
  {
   "cell_type": "code",
   "execution_count": 3,
   "metadata": {
    "ExecuteTime": {
     "end_time": "2021-12-23T05:12:04.955333Z",
     "start_time": "2021-12-23T05:12:03.994Z"
    }
   },
   "outputs": [
    {
     "data": {
      "text/html": [
       "3.14159265358979"
      ],
      "text/latex": [
       "3.14159265358979"
      ],
      "text/markdown": [
       "3.14159265358979"
      ],
      "text/plain": [
       "[1] 3.141593"
      ]
     },
     "metadata": {},
     "output_type": "display_data"
    }
   ],
   "source": [
    "a <- pi\n",
    "\n",
    "a"
   ]
  },
  {
   "cell_type": "code",
   "execution_count": 4,
   "metadata": {
    "ExecuteTime": {
     "end_time": "2021-12-23T05:12:05.001332Z",
     "start_time": "2021-12-23T05:12:03.999Z"
    }
   },
   "outputs": [
    {
     "data": {
      "text/html": [
       "3.142"
      ],
      "text/latex": [
       "3.142"
      ],
      "text/markdown": [
       "3.142"
      ],
      "text/plain": [
       "[1] 3.142"
      ]
     },
     "metadata": {},
     "output_type": "display_data"
    }
   ],
   "source": [
    "b <- 3.142\n",
    "\n",
    "b"
   ]
  },
  {
   "cell_type": "code",
   "execution_count": 5,
   "metadata": {
    "ExecuteTime": {
     "end_time": "2021-12-23T05:12:05.068897Z",
     "start_time": "2021-12-23T05:12:04.006Z"
    }
   },
   "outputs": [
    {
     "data": {
      "text/html": [
       "-0.000407346410206788"
      ],
      "text/latex": [
       "-0.000407346410206788"
      ],
      "text/markdown": [
       "-0.000407346410206788"
      ],
      "text/plain": [
       "[1] -0.0004073464"
      ]
     },
     "metadata": {},
     "output_type": "display_data"
    }
   ],
   "source": [
    "error <- a - b\n",
    "\n",
    "error"
   ]
  },
  {
   "cell_type": "code",
   "execution_count": 6,
   "metadata": {
    "ExecuteTime": {
     "end_time": "2021-12-23T05:12:05.121640Z",
     "start_time": "2021-12-23T05:12:04.013Z"
    }
   },
   "outputs": [
    {
     "data": {
      "text/html": [
       "<style>\n",
       ".list-inline {list-style: none; margin:0; padding: 0}\n",
       ".list-inline>li {display: inline-block}\n",
       ".list-inline>li:not(:last-child)::after {content: \"\\00b7\"; padding: 0 .5ex}\n",
       "</style>\n",
       "<ol class=list-inline><li>-1</li><li>-0.5</li><li>0</li><li>0.5</li><li>1</li><li>1.5</li><li>2</li><li>2.5</li><li>3</li><li>3.5</li><li>4</li><li>4.5</li><li>5</li><li>5.5</li><li>6</li><li>6.5</li><li>7</li></ol>\n"
      ],
      "text/latex": [
       "\\begin{enumerate*}\n",
       "\\item -1\n",
       "\\item -0.5\n",
       "\\item 0\n",
       "\\item 0.5\n",
       "\\item 1\n",
       "\\item 1.5\n",
       "\\item 2\n",
       "\\item 2.5\n",
       "\\item 3\n",
       "\\item 3.5\n",
       "\\item 4\n",
       "\\item 4.5\n",
       "\\item 5\n",
       "\\item 5.5\n",
       "\\item 6\n",
       "\\item 6.5\n",
       "\\item 7\n",
       "\\end{enumerate*}\n"
      ],
      "text/markdown": [
       "1. -1\n",
       "2. -0.5\n",
       "3. 0\n",
       "4. 0.5\n",
       "5. 1\n",
       "6. 1.5\n",
       "7. 2\n",
       "8. 2.5\n",
       "9. 3\n",
       "10. 3.5\n",
       "11. 4\n",
       "12. 4.5\n",
       "13. 5\n",
       "14. 5.5\n",
       "15. 6\n",
       "16. 6.5\n",
       "17. 7\n",
       "\n",
       "\n"
      ],
      "text/plain": [
       " [1] -1.0 -0.5  0.0  0.5  1.0  1.5  2.0  2.5  3.0  3.5  4.0  4.5  5.0  5.5  6.0\n",
       "[16]  6.5  7.0"
      ]
     },
     "metadata": {},
     "output_type": "display_data"
    }
   ],
   "source": [
    "x <- seq(-1, 7, .5)\n",
    "\n",
    "x"
   ]
  },
  {
   "cell_type": "code",
   "execution_count": 7,
   "metadata": {
    "ExecuteTime": {
     "end_time": "2021-12-23T05:12:05.167638Z",
     "start_time": "2021-12-23T05:12:04.020Z"
    }
   },
   "outputs": [
    {
     "data": {
      "text/plain": [
       "expression(4 * x^2)"
      ]
     },
     "metadata": {},
     "output_type": "display_data"
    }
   ],
   "source": [
    " f_x <- expression(4*x^2)\n",
    "\n",
    " f_x"
   ]
  },
  {
   "cell_type": "code",
   "execution_count": 8,
   "metadata": {
    "ExecuteTime": {
     "end_time": "2021-12-23T05:12:05.209268Z",
     "start_time": "2021-12-23T05:12:04.028Z"
    }
   },
   "outputs": [
    {
     "data": {
      "text/html": [
       "<style>\n",
       ".list-inline {list-style: none; margin:0; padding: 0}\n",
       ".list-inline>li {display: inline-block}\n",
       ".list-inline>li:not(:last-child)::after {content: \"\\00b7\"; padding: 0 .5ex}\n",
       "</style>\n",
       "<ol class=list-inline><li>4</li><li>1</li><li>0</li><li>1</li><li>4</li><li>9</li><li>16</li><li>25</li><li>36</li><li>49</li><li>64</li><li>81</li><li>100</li><li>121</li><li>144</li><li>169</li><li>196</li></ol>\n"
      ],
      "text/latex": [
       "\\begin{enumerate*}\n",
       "\\item 4\n",
       "\\item 1\n",
       "\\item 0\n",
       "\\item 1\n",
       "\\item 4\n",
       "\\item 9\n",
       "\\item 16\n",
       "\\item 25\n",
       "\\item 36\n",
       "\\item 49\n",
       "\\item 64\n",
       "\\item 81\n",
       "\\item 100\n",
       "\\item 121\n",
       "\\item 144\n",
       "\\item 169\n",
       "\\item 196\n",
       "\\end{enumerate*}\n"
      ],
      "text/markdown": [
       "1. 4\n",
       "2. 1\n",
       "3. 0\n",
       "4. 1\n",
       "5. 4\n",
       "6. 9\n",
       "7. 16\n",
       "8. 25\n",
       "9. 36\n",
       "10. 49\n",
       "11. 64\n",
       "12. 81\n",
       "13. 100\n",
       "14. 121\n",
       "15. 144\n",
       "16. 169\n",
       "17. 196\n",
       "\n",
       "\n"
      ],
      "text/plain": [
       " [1]   4   1   0   1   4   9  16  25  36  49  64  81 100 121 144 169 196"
      ]
     },
     "metadata": {},
     "output_type": "display_data"
    }
   ],
   "source": [
    "y <- eval(f_x)\n",
    "\n",
    "y"
   ]
  },
  {
   "cell_type": "code",
   "execution_count": 9,
   "metadata": {
    "ExecuteTime": {
     "end_time": "2021-12-23T05:12:05.272260Z",
     "start_time": "2021-12-23T05:12:04.037Z"
    }
   },
   "outputs": [
    {
     "data": {
      "text/html": [
       "<table class=\"dataframe\">\n",
       "<caption>A data.frame: 17 × 2</caption>\n",
       "<thead>\n",
       "\t<tr><th scope=col>x</th><th scope=col>y</th></tr>\n",
       "\t<tr><th scope=col>&lt;dbl&gt;</th><th scope=col>&lt;dbl&gt;</th></tr>\n",
       "</thead>\n",
       "<tbody>\n",
       "\t<tr><td>-1.0</td><td>  4</td></tr>\n",
       "\t<tr><td>-0.5</td><td>  1</td></tr>\n",
       "\t<tr><td> 0.0</td><td>  0</td></tr>\n",
       "\t<tr><td> 0.5</td><td>  1</td></tr>\n",
       "\t<tr><td> 1.0</td><td>  4</td></tr>\n",
       "\t<tr><td> 1.5</td><td>  9</td></tr>\n",
       "\t<tr><td> 2.0</td><td> 16</td></tr>\n",
       "\t<tr><td> 2.5</td><td> 25</td></tr>\n",
       "\t<tr><td> 3.0</td><td> 36</td></tr>\n",
       "\t<tr><td> 3.5</td><td> 49</td></tr>\n",
       "\t<tr><td> 4.0</td><td> 64</td></tr>\n",
       "\t<tr><td> 4.5</td><td> 81</td></tr>\n",
       "\t<tr><td> 5.0</td><td>100</td></tr>\n",
       "\t<tr><td> 5.5</td><td>121</td></tr>\n",
       "\t<tr><td> 6.0</td><td>144</td></tr>\n",
       "\t<tr><td> 6.5</td><td>169</td></tr>\n",
       "\t<tr><td> 7.0</td><td>196</td></tr>\n",
       "</tbody>\n",
       "</table>\n"
      ],
      "text/latex": [
       "A data.frame: 17 × 2\n",
       "\\begin{tabular}{ll}\n",
       " x & y\\\\\n",
       " <dbl> & <dbl>\\\\\n",
       "\\hline\n",
       "\t -1.0 &   4\\\\\n",
       "\t -0.5 &   1\\\\\n",
       "\t  0.0 &   0\\\\\n",
       "\t  0.5 &   1\\\\\n",
       "\t  1.0 &   4\\\\\n",
       "\t  1.5 &   9\\\\\n",
       "\t  2.0 &  16\\\\\n",
       "\t  2.5 &  25\\\\\n",
       "\t  3.0 &  36\\\\\n",
       "\t  3.5 &  49\\\\\n",
       "\t  4.0 &  64\\\\\n",
       "\t  4.5 &  81\\\\\n",
       "\t  5.0 & 100\\\\\n",
       "\t  5.5 & 121\\\\\n",
       "\t  6.0 & 144\\\\\n",
       "\t  6.5 & 169\\\\\n",
       "\t  7.0 & 196\\\\\n",
       "\\end{tabular}\n"
      ],
      "text/markdown": [
       "\n",
       "A data.frame: 17 × 2\n",
       "\n",
       "| x &lt;dbl&gt; | y &lt;dbl&gt; |\n",
       "|---|---|\n",
       "| -1.0 |   4 |\n",
       "| -0.5 |   1 |\n",
       "|  0.0 |   0 |\n",
       "|  0.5 |   1 |\n",
       "|  1.0 |   4 |\n",
       "|  1.5 |   9 |\n",
       "|  2.0 |  16 |\n",
       "|  2.5 |  25 |\n",
       "|  3.0 |  36 |\n",
       "|  3.5 |  49 |\n",
       "|  4.0 |  64 |\n",
       "|  4.5 |  81 |\n",
       "|  5.0 | 100 |\n",
       "|  5.5 | 121 |\n",
       "|  6.0 | 144 |\n",
       "|  6.5 | 169 |\n",
       "|  7.0 | 196 |\n",
       "\n"
      ],
      "text/plain": [
       "   x    y  \n",
       "1  -1.0   4\n",
       "2  -0.5   1\n",
       "3   0.0   0\n",
       "4   0.5   1\n",
       "5   1.0   4\n",
       "6   1.5   9\n",
       "7   2.0  16\n",
       "8   2.5  25\n",
       "9   3.0  36\n",
       "10  3.5  49\n",
       "11  4.0  64\n",
       "12  4.5  81\n",
       "13  5.0 100\n",
       "14  5.5 121\n",
       "15  6.0 144\n",
       "16  6.5 169\n",
       "17  7.0 196"
      ]
     },
     "metadata": {},
     "output_type": "display_data"
    }
   ],
   "source": [
    "data_points <- data.frame(x, y)\n",
    "\n",
    "data_points"
   ]
  },
  {
   "cell_type": "code",
   "execution_count": 10,
   "metadata": {
    "ExecuteTime": {
     "end_time": "2021-12-23T05:12:05.305865Z",
     "start_time": "2021-12-23T05:12:04.045Z"
    }
   },
   "outputs": [],
   "source": [
    "poly_fun <- function(x) {\n",
    "    return (4 * x^2)\n",
    "}"
   ]
  },
  {
   "cell_type": "code",
   "execution_count": 11,
   "metadata": {
    "ExecuteTime": {
     "end_time": "2021-12-23T05:12:05.698230Z",
     "start_time": "2021-12-23T05:12:04.054Z"
    },
    "scrolled": false
   },
   "outputs": [
    {
     "data": {
      "image/png": "[encoded data removed]",
      "text/plain": [
       "plot without title"
      ]
     },
     "metadata": {
      "image/png": {
       "height": 480,
       "width": 720
      }
     },
     "output_type": "display_data"
    }
   ],
   "source": [
    "ggplot(data_points, aes(x = x, y = y)) +\n",
    "    stat_function(fun = poly_fun, col = \"darkgreen\", size = 1, alpha = 1) +\n",
    "    geom_hline(aes(yintercept = 0), size = 1, col = \"darkblue\") +\n",
    "    geom_vline(aes(xintercept = 0), size = 1, col = \"darkblue\")"
   ]
  },
  {
   "cell_type": "code",
   "execution_count": 12,
   "metadata": {
    "ExecuteTime": {
     "end_time": "2021-12-23T05:12:05.781308Z",
     "start_time": "2021-12-23T05:12:04.059Z"
    }
   },
   "outputs": [],
   "source": [
    "x <- c(3, 5)\n",
    "y <- c(36, 100)"
   ]
  },
  {
   "cell_type": "code",
   "execution_count": 13,
   "metadata": {
    "ExecuteTime": {
     "end_time": "2021-12-23T05:12:05.825851Z",
     "start_time": "2021-12-23T05:12:04.067Z"
    }
   },
   "outputs": [
    {
     "data": {
      "text/html": [
       "<table class=\"dataframe\">\n",
       "<caption>A data.frame: 2 × 2</caption>\n",
       "<thead>\n",
       "\t<tr><th scope=col>x</th><th scope=col>y</th></tr>\n",
       "\t<tr><th scope=col>&lt;dbl&gt;</th><th scope=col>&lt;dbl&gt;</th></tr>\n",
       "</thead>\n",
       "<tbody>\n",
       "\t<tr><td>3</td><td> 36</td></tr>\n",
       "\t<tr><td>5</td><td>100</td></tr>\n",
       "</tbody>\n",
       "</table>\n"
      ],
      "text/latex": [
       "A data.frame: 2 × 2\n",
       "\\begin{tabular}{ll}\n",
       " x & y\\\\\n",
       " <dbl> & <dbl>\\\\\n",
       "\\hline\n",
       "\t 3 &  36\\\\\n",
       "\t 5 & 100\\\\\n",
       "\\end{tabular}\n"
      ],
      "text/markdown": [
       "\n",
       "A data.frame: 2 × 2\n",
       "\n",
       "| x &lt;dbl&gt; | y &lt;dbl&gt; |\n",
       "|---|---|\n",
       "| 3 |  36 |\n",
       "| 5 | 100 |\n",
       "\n"
      ],
      "text/plain": [
       "  x y  \n",
       "1 3  36\n",
       "2 5 100"
      ]
     },
     "metadata": {},
     "output_type": "display_data"
    }
   ],
   "source": [
    "two_points <- data.frame(x, y)\n",
    "two_points"
   ]
  },
  {
   "cell_type": "code",
   "execution_count": 14,
   "metadata": {
    "ExecuteTime": {
     "end_time": "2021-12-23T05:12:06.162374Z",
     "start_time": "2021-12-23T05:12:04.072Z"
    }
   },
   "outputs": [
    {
     "data": {
      "image/png": "[encoded data removed]",
      "text/plain": [
       "plot without title"
      ]
     },
     "metadata": {
      "image/png": {
       "height": 480,
       "width": 720
      }
     },
     "output_type": "display_data"
    }
   ],
   "source": [
    "ggplot(data_points, aes(x = x, y = y)) +\n",
    "    stat_function(fun = poly_fun, col = \"darkgreen\", size = 1, alpha = 1) +\n",
    "    geom_hline(aes(yintercept = 0), size = 1, col = \"darkblue\") +\n",
    "    geom_vline(aes(xintercept = 0), size = 1, col = \"darkblue\") +\n",
    "    geom_point(col = \"black\", data = two_points, size = 3)"
   ]
  },
  {
   "cell_type": "code",
   "execution_count": 15,
   "metadata": {
    "ExecuteTime": {
     "end_time": "2021-12-23T05:12:06.508970Z",
     "start_time": "2021-12-23T05:12:04.078Z"
    }
   },
   "outputs": [
    {
     "data": {
      "image/png": "[encoded data removed]",
      "text/plain": [
       "plot without title"
      ]
     },
     "metadata": {
      "image/png": {
       "height": 480,
       "width": 720
      }
     },
     "output_type": "display_data"
    }
   ],
   "source": [
    "ggplot(data_points, aes(x = x, y = y)) +\n",
    "    stat_function(fun = poly_fun, col = \"darkgreen\", size = 1, alpha = 1) +\n",
    "    geom_hline(aes(yintercept = 0), size = 1, col = \"darkblue\") +\n",
    "    geom_vline(aes(xintercept = 0), size = 1, col = \"darkblue\") +\n",
    "    geom_point(col = \"black\", data = two_points, size = 3) +\n",
    "    geom_line(col = \"red\", data = two_points, size = 1)"
   ]
  },
  {
   "cell_type": "code",
   "execution_count": 16,
   "metadata": {
    "ExecuteTime": {
     "end_time": "2021-12-23T05:12:06.563148Z",
     "start_time": "2021-12-23T05:12:04.083Z"
    }
   },
   "outputs": [],
   "source": [
    "x <- 3\n",
    "h <- .1"
   ]
  },
  {
   "cell_type": "code",
   "execution_count": 17,
   "metadata": {
    "ExecuteTime": {
     "end_time": "2021-12-23T05:12:06.625583Z",
     "start_time": "2021-12-23T05:12:04.089Z"
    }
   },
   "outputs": [
    {
     "data": {
      "text/plain": [
       "expression(4 * x^2)"
      ]
     },
     "metadata": {},
     "output_type": "display_data"
    }
   ],
   "source": [
    "f_x <- expression(4*x^2)\n",
    "\n",
    "f_x"
   ]
  },
  {
   "cell_type": "code",
   "execution_count": 18,
   "metadata": {
    "ExecuteTime": {
     "end_time": "2021-12-23T05:12:06.670578Z",
     "start_time": "2021-12-23T05:12:04.094Z"
    }
   },
   "outputs": [
    {
     "data": {
      "text/plain": [
       "expression(4 * (x + h)^2)"
      ]
     },
     "metadata": {},
     "output_type": "display_data"
    }
   ],
   "source": [
    "f_x_h <- expression(4 * (x + h)^2)\n",
    "\n",
    "f_x_h"
   ]
  },
  {
   "cell_type": "code",
   "execution_count": 19,
   "metadata": {
    "ExecuteTime": {
     "end_time": "2021-12-23T05:12:06.717580Z",
     "start_time": "2021-12-23T05:12:04.101Z"
    }
   },
   "outputs": [
    {
     "data": {
      "text/plain": [
       "4 * (2 * x)"
      ]
     },
     "metadata": {},
     "output_type": "display_data"
    }
   ],
   "source": [
    "dx <- D(f_x, 'x')\n",
    "\n",
    "dx"
   ]
  },
  {
   "cell_type": "code",
   "execution_count": 20,
   "metadata": {
    "ExecuteTime": {
     "end_time": "2021-12-23T05:12:06.754228Z",
     "start_time": "2021-12-23T05:12:04.110Z"
    }
   },
   "outputs": [
    {
     "data": {
      "text/html": [
       "24"
      ],
      "text/latex": [
       "24"
      ],
      "text/markdown": [
       "24"
      ],
      "text/plain": [
       "[1] 24"
      ]
     },
     "metadata": {},
     "output_type": "display_data"
    }
   ],
   "source": [
    "true_value <- eval(dx)\n",
    "\n",
    "true_value"
   ]
  },
  {
   "cell_type": "code",
   "execution_count": 21,
   "metadata": {
    "ExecuteTime": {
     "end_time": "2021-12-23T05:12:06.802263Z",
     "start_time": "2021-12-23T05:12:04.113Z"
    }
   },
   "outputs": [
    {
     "data": {
      "text/html": [
       "24.4"
      ],
      "text/latex": [
       "24.4"
      ],
      "text/markdown": [
       "24.4"
      ],
      "text/plain": [
       "[1] 24.4"
      ]
     },
     "metadata": {},
     "output_type": "display_data"
    }
   ],
   "source": [
    "approx_value <- (eval(f_x_h) - eval(f_x)) / h\n",
    "\n",
    "approx_value"
   ]
  },
  {
   "cell_type": "code",
   "execution_count": 22,
   "metadata": {
    "ExecuteTime": {
     "end_time": "2021-12-23T05:12:06.846507Z",
     "start_time": "2021-12-23T05:12:04.122Z"
    }
   },
   "outputs": [
    {
     "data": {
      "text/html": [
       "-0.400000000000048"
      ],
      "text/latex": [
       "-0.400000000000048"
      ],
      "text/markdown": [
       "-0.400000000000048"
      ],
      "text/plain": [
       "[1] -0.4"
      ]
     },
     "metadata": {},
     "output_type": "display_data"
    }
   ],
   "source": [
    "true_error_value <- true_value - approx_value\n",
    "\n",
    "true_error_value"
   ]
  },
  {
   "cell_type": "code",
   "execution_count": 23,
   "metadata": {
    "ExecuteTime": {
     "end_time": "2021-12-23T05:12:06.886290Z",
     "start_time": "2021-12-23T05:12:04.126Z"
    }
   },
   "outputs": [
    {
     "data": {
      "text/html": [
       "-0.0166666666666687"
      ],
      "text/latex": [
       "-0.0166666666666687"
      ],
      "text/markdown": [
       "-0.0166666666666687"
      ],
      "text/plain": [
       "[1] -0.01666667"
      ]
     },
     "metadata": {},
     "output_type": "display_data"
    }
   ],
   "source": [
    "rel_true_error <- true_error_value / true_value\n",
    "\n",
    "rel_true_error"
   ]
  },
  {
   "cell_type": "code",
   "execution_count": 24,
   "metadata": {
    "ExecuteTime": {
     "end_time": "2021-12-23T05:12:06.926232Z",
     "start_time": "2021-12-23T05:12:04.133Z"
    }
   },
   "outputs": [],
   "source": [
    "x <- 3\n",
    "h <- .0001"
   ]
  },
  {
   "cell_type": "code",
   "execution_count": 25,
   "metadata": {
    "ExecuteTime": {
     "end_time": "2021-12-23T05:12:06.974140Z",
     "start_time": "2021-12-23T05:12:04.139Z"
    }
   },
   "outputs": [
    {
     "data": {
      "text/html": [
       "24"
      ],
      "text/latex": [
       "24"
      ],
      "text/markdown": [
       "24"
      ],
      "text/plain": [
       "[1] 24"
      ]
     },
     "metadata": {},
     "output_type": "display_data"
    }
   ],
   "source": [
    "true_value <- eval(dx)\n",
    "\n",
    "true_value"
   ]
  },
  {
   "cell_type": "code",
   "execution_count": 26,
   "metadata": {
    "ExecuteTime": {
     "end_time": "2021-12-23T05:12:07.026046Z",
     "start_time": "2021-12-23T05:12:04.145Z"
    }
   },
   "outputs": [
    {
     "data": {
      "text/html": [
       "24.0004000000482"
      ],
      "text/latex": [
       "24.0004000000482"
      ],
      "text/markdown": [
       "24.0004000000482"
      ],
      "text/plain": [
       "[1] 24.0004"
      ]
     },
     "metadata": {},
     "output_type": "display_data"
    }
   ],
   "source": [
    "approx_value <- (eval(f_x_h) - eval(f_x)) / h\n",
    "\n",
    "approx_value"
   ]
  },
  {
   "cell_type": "code",
   "execution_count": 27,
   "metadata": {
    "ExecuteTime": {
     "end_time": "2021-12-23T05:12:07.070770Z",
     "start_time": "2021-12-23T05:12:04.153Z"
    }
   },
   "outputs": [
    {
     "data": {
      "text/html": [
       "-0.000400000048216498"
      ],
      "text/latex": [
       "-0.000400000048216498"
      ],
      "text/markdown": [
       "-0.000400000048216498"
      ],
      "text/plain": [
       "[1] -4e-04"
      ]
     },
     "metadata": {},
     "output_type": "display_data"
    }
   ],
   "source": [
    "true_error_value <- true_value - approx_value\n",
    "\n",
    "true_error_value"
   ]
  },
  {
   "cell_type": "code",
   "execution_count": 28,
   "metadata": {
    "ExecuteTime": {
     "end_time": "2021-12-23T05:12:07.115814Z",
     "start_time": "2021-12-23T05:12:04.157Z"
    }
   },
   "outputs": [
    {
     "data": {
      "text/html": [
       "-1.66666686756874e-05"
      ],
      "text/latex": [
       "-1.66666686756874e-05"
      ],
      "text/markdown": [
       "-1.66666686756874e-05"
      ],
      "text/plain": [
       "[1] -1.666667e-05"
      ]
     },
     "metadata": {},
     "output_type": "display_data"
    }
   ],
   "source": [
    "rel_true_error <- true_error_value / true_value\n",
    "\n",
    "rel_true_error"
   ]
  },
  {
   "cell_type": "code",
   "execution_count": 29,
   "metadata": {
    "ExecuteTime": {
     "end_time": "2021-12-23T05:12:07.166790Z",
     "start_time": "2021-12-23T05:12:04.163Z"
    }
   },
   "outputs": [
    {
     "data": {
      "text/html": [
       "<pre class=language-r><code>function (t_i, y) \n",
       "{\n",
       "<span style=white-space:pre-wrap>    y</span>\n",
       "}</code></pre>"
      ],
      "text/latex": [
       "\\begin{minted}{r}\n",
       "function (t\\_i, y) \n",
       "\\{\n",
       "    y\n",
       "\\}\n",
       "\\end{minted}"
      ],
      "text/markdown": [
       "```r\n",
       "function (t_i, y) \n",
       "{\n",
       "    y\n",
       "}\n",
       "```"
      ],
      "text/plain": [
       "function(t_i, y) {\n",
       "    y\n",
       "}"
      ]
     },
     "metadata": {},
     "output_type": "display_data"
    }
   ],
   "source": [
    "y_dash <- function(t_i, y) {\n",
    "    y\n",
    "}\n",
    "\n",
    "y_dash"
   ]
  },
  {
   "cell_type": "code",
   "execution_count": 30,
   "metadata": {
    "ExecuteTime": {
     "end_time": "2021-12-23T05:12:07.223632Z",
     "start_time": "2021-12-23T05:12:04.170Z"
    }
   },
   "outputs": [],
   "source": [
    "t_0 <- 0\n",
    "t_n <- 6\n",
    "h <- 1\n",
    "y_0 <- 1"
   ]
  },
  {
   "cell_type": "code",
   "execution_count": 31,
   "metadata": {
    "ExecuteTime": {
     "end_time": "2021-12-23T05:12:07.274909Z",
     "start_time": "2021-12-23T05:12:04.177Z"
    }
   },
   "outputs": [],
   "source": [
    "euler_method <- function(t_0, h, t_n, y_0, y_dash) {\n",
    "    t_seq <- seq(t_0, t_n, by = h)\n",
    "    \n",
    "    data_frame <- data.frame(t_i = t_seq)\n",
    "    \n",
    "    data_frame$h <- h\n",
    "    data_frame$y_i <- y_0\n",
    "    \n",
    "    data_frame$f_dash[1] <- y_dash(data_frame$t_i[1], y_0)\n",
    "    \n",
    "    for (i in 2:nrow(data_frame)) {\n",
    "        \n",
    "        data_frame$y_i[i] <- data_frame$y_i[i - 1] + h * data_frame$f_dash[i - 1]\n",
    "        \n",
    "        data_frame$f_dash[i] <- y_dash(data_frame$t_i[i], data_frame$y_i[i])    \n",
    "    }\n",
    "    return (data_frame)\n",
    "}"
   ]
  },
  {
   "cell_type": "code",
   "execution_count": 32,
   "metadata": {
    "ExecuteTime": {
     "end_time": "2021-12-23T05:12:07.360549Z",
     "start_time": "2021-12-23T05:12:04.180Z"
    }
   },
   "outputs": [
    {
     "data": {
      "text/html": [
       "<table class=\"dataframe\">\n",
       "<caption>A data.frame: 7 × 4</caption>\n",
       "<thead>\n",
       "\t<tr><th scope=col>t_i</th><th scope=col>h</th><th scope=col>y_i</th><th scope=col>f_dash</th></tr>\n",
       "\t<tr><th scope=col>&lt;dbl&gt;</th><th scope=col>&lt;dbl&gt;</th><th scope=col>&lt;dbl&gt;</th><th scope=col>&lt;dbl&gt;</th></tr>\n",
       "</thead>\n",
       "<tbody>\n",
       "\t<tr><td>0</td><td>1</td><td> 1</td><td> 1</td></tr>\n",
       "\t<tr><td>1</td><td>1</td><td> 2</td><td> 2</td></tr>\n",
       "\t<tr><td>2</td><td>1</td><td> 4</td><td> 4</td></tr>\n",
       "\t<tr><td>3</td><td>1</td><td> 8</td><td> 8</td></tr>\n",
       "\t<tr><td>4</td><td>1</td><td>16</td><td>16</td></tr>\n",
       "\t<tr><td>5</td><td>1</td><td>32</td><td>32</td></tr>\n",
       "\t<tr><td>6</td><td>1</td><td>64</td><td>64</td></tr>\n",
       "</tbody>\n",
       "</table>\n"
      ],
      "text/latex": [
       "A data.frame: 7 × 4\n",
       "\\begin{tabular}{llll}\n",
       " t\\_i & h & y\\_i & f\\_dash\\\\\n",
       " <dbl> & <dbl> & <dbl> & <dbl>\\\\\n",
       "\\hline\n",
       "\t 0 & 1 &  1 &  1\\\\\n",
       "\t 1 & 1 &  2 &  2\\\\\n",
       "\t 2 & 1 &  4 &  4\\\\\n",
       "\t 3 & 1 &  8 &  8\\\\\n",
       "\t 4 & 1 & 16 & 16\\\\\n",
       "\t 5 & 1 & 32 & 32\\\\\n",
       "\t 6 & 1 & 64 & 64\\\\\n",
       "\\end{tabular}\n"
      ],
      "text/markdown": [
       "\n",
       "A data.frame: 7 × 4\n",
       "\n",
       "| t_i &lt;dbl&gt; | h &lt;dbl&gt; | y_i &lt;dbl&gt; | f_dash &lt;dbl&gt; |\n",
       "|---|---|---|---|\n",
       "| 0 | 1 |  1 |  1 |\n",
       "| 1 | 1 |  2 |  2 |\n",
       "| 2 | 1 |  4 |  4 |\n",
       "| 3 | 1 |  8 |  8 |\n",
       "| 4 | 1 | 16 | 16 |\n",
       "| 5 | 1 | 32 | 32 |\n",
       "| 6 | 1 | 64 | 64 |\n",
       "\n"
      ],
      "text/plain": [
       "  t_i h y_i f_dash\n",
       "1 0   1  1   1    \n",
       "2 1   1  2   2    \n",
       "3 2   1  4   4    \n",
       "4 3   1  8   8    \n",
       "5 4   1 16  16    \n",
       "6 5   1 32  32    \n",
       "7 6   1 64  64    "
      ]
     },
     "metadata": {},
     "output_type": "display_data"
    }
   ],
   "source": [
    "table <- euler_method(t_0, h, t_n, y_0, y_dash)\n",
    "\n",
    "table"
   ]
  },
  {
   "cell_type": "code",
   "execution_count": 33,
   "metadata": {
    "ExecuteTime": {
     "end_time": "2021-12-23T05:12:07.409015Z",
     "start_time": "2021-12-23T05:12:04.190Z"
    }
   },
   "outputs": [
    {
     "data": {
      "text/html": [
       "<table class=\"dataframe\">\n",
       "<caption>A data.frame: 7 × 4</caption>\n",
       "<thead>\n",
       "\t<tr><th scope=col>t.i</th><th scope=col>h</th><th scope=col>y.i</th><th scope=col>Dy/dt</th></tr>\n",
       "\t<tr><th scope=col>&lt;dbl&gt;</th><th scope=col>&lt;dbl&gt;</th><th scope=col>&lt;dbl&gt;</th><th scope=col>&lt;dbl&gt;</th></tr>\n",
       "</thead>\n",
       "<tbody>\n",
       "\t<tr><td>0</td><td>1</td><td> 1</td><td> 1</td></tr>\n",
       "\t<tr><td>1</td><td>1</td><td> 2</td><td> 2</td></tr>\n",
       "\t<tr><td>2</td><td>1</td><td> 4</td><td> 4</td></tr>\n",
       "\t<tr><td>3</td><td>1</td><td> 8</td><td> 8</td></tr>\n",
       "\t<tr><td>4</td><td>1</td><td>16</td><td>16</td></tr>\n",
       "\t<tr><td>5</td><td>1</td><td>32</td><td>32</td></tr>\n",
       "\t<tr><td>6</td><td>1</td><td>64</td><td>64</td></tr>\n",
       "</tbody>\n",
       "</table>\n"
      ],
      "text/latex": [
       "A data.frame: 7 × 4\n",
       "\\begin{tabular}{llll}\n",
       " t.i & h & y.i & Dy/dt\\\\\n",
       " <dbl> & <dbl> & <dbl> & <dbl>\\\\\n",
       "\\hline\n",
       "\t 0 & 1 &  1 &  1\\\\\n",
       "\t 1 & 1 &  2 &  2\\\\\n",
       "\t 2 & 1 &  4 &  4\\\\\n",
       "\t 3 & 1 &  8 &  8\\\\\n",
       "\t 4 & 1 & 16 & 16\\\\\n",
       "\t 5 & 1 & 32 & 32\\\\\n",
       "\t 6 & 1 & 64 & 64\\\\\n",
       "\\end{tabular}\n"
      ],
      "text/markdown": [
       "\n",
       "A data.frame: 7 × 4\n",
       "\n",
       "| t.i &lt;dbl&gt; | h &lt;dbl&gt; | y.i &lt;dbl&gt; | Dy/dt &lt;dbl&gt; |\n",
       "|---|---|---|---|\n",
       "| 0 | 1 |  1 |  1 |\n",
       "| 1 | 1 |  2 |  2 |\n",
       "| 2 | 1 |  4 |  4 |\n",
       "| 3 | 1 |  8 |  8 |\n",
       "| 4 | 1 | 16 | 16 |\n",
       "| 5 | 1 | 32 | 32 |\n",
       "| 6 | 1 | 64 | 64 |\n",
       "\n"
      ],
      "text/plain": [
       "  t.i h y.i Dy/dt\n",
       "1 0   1  1   1   \n",
       "2 1   1  2   2   \n",
       "3 2   1  4   4   \n",
       "4 3   1  8   8   \n",
       "5 4   1 16  16   \n",
       "6 5   1 32  32   \n",
       "7 6   1 64  64   "
      ]
     },
     "metadata": {},
     "output_type": "display_data"
    }
   ],
   "source": [
    "colnames(table) <- c('t.i', 'h', 'y.i', 'Dy/dt')\n",
    "\n",
    "table"
   ]
  },
  {
   "cell_type": "code",
   "execution_count": 34,
   "metadata": {
    "ExecuteTime": {
     "end_time": "2021-12-23T05:12:07.465333Z",
     "start_time": "2021-12-23T05:12:04.198Z"
    }
   },
   "outputs": [
    {
     "data": {
      "text/html": [
       "<table class=\"dataframe\">\n",
       "<caption>A data.frame: 7 × 5</caption>\n",
       "<thead>\n",
       "\t<tr><th scope=col>t.i</th><th scope=col>h</th><th scope=col>y.i</th><th scope=col>Dy/dt</th><th scope=col>y</th></tr>\n",
       "\t<tr><th scope=col>&lt;dbl&gt;</th><th scope=col>&lt;dbl&gt;</th><th scope=col>&lt;dbl&gt;</th><th scope=col>&lt;dbl&gt;</th><th scope=col>&lt;dbl&gt;</th></tr>\n",
       "</thead>\n",
       "<tbody>\n",
       "\t<tr><td>0</td><td>1</td><td> 1</td><td> 1</td><td>  1.000000</td></tr>\n",
       "\t<tr><td>1</td><td>1</td><td> 2</td><td> 2</td><td>  2.718282</td></tr>\n",
       "\t<tr><td>2</td><td>1</td><td> 4</td><td> 4</td><td>  7.389056</td></tr>\n",
       "\t<tr><td>3</td><td>1</td><td> 8</td><td> 8</td><td> 20.085537</td></tr>\n",
       "\t<tr><td>4</td><td>1</td><td>16</td><td>16</td><td> 54.598150</td></tr>\n",
       "\t<tr><td>5</td><td>1</td><td>32</td><td>32</td><td>148.413159</td></tr>\n",
       "\t<tr><td>6</td><td>1</td><td>64</td><td>64</td><td>403.428793</td></tr>\n",
       "</tbody>\n",
       "</table>\n"
      ],
      "text/latex": [
       "A data.frame: 7 × 5\n",
       "\\begin{tabular}{lllll}\n",
       " t.i & h & y.i & Dy/dt & y\\\\\n",
       " <dbl> & <dbl> & <dbl> & <dbl> & <dbl>\\\\\n",
       "\\hline\n",
       "\t 0 & 1 &  1 &  1 &   1.000000\\\\\n",
       "\t 1 & 1 &  2 &  2 &   2.718282\\\\\n",
       "\t 2 & 1 &  4 &  4 &   7.389056\\\\\n",
       "\t 3 & 1 &  8 &  8 &  20.085537\\\\\n",
       "\t 4 & 1 & 16 & 16 &  54.598150\\\\\n",
       "\t 5 & 1 & 32 & 32 & 148.413159\\\\\n",
       "\t 6 & 1 & 64 & 64 & 403.428793\\\\\n",
       "\\end{tabular}\n"
      ],
      "text/markdown": [
       "\n",
       "A data.frame: 7 × 5\n",
       "\n",
       "| t.i &lt;dbl&gt; | h &lt;dbl&gt; | y.i &lt;dbl&gt; | Dy/dt &lt;dbl&gt; | y &lt;dbl&gt; |\n",
       "|---|---|---|---|---|\n",
       "| 0 | 1 |  1 |  1 |   1.000000 |\n",
       "| 1 | 1 |  2 |  2 |   2.718282 |\n",
       "| 2 | 1 |  4 |  4 |   7.389056 |\n",
       "| 3 | 1 |  8 |  8 |  20.085537 |\n",
       "| 4 | 1 | 16 | 16 |  54.598150 |\n",
       "| 5 | 1 | 32 | 32 | 148.413159 |\n",
       "| 6 | 1 | 64 | 64 | 403.428793 |\n",
       "\n"
      ],
      "text/plain": [
       "  t.i h y.i Dy/dt y         \n",
       "1 0   1  1   1      1.000000\n",
       "2 1   1  2   2      2.718282\n",
       "3 2   1  4   4      7.389056\n",
       "4 3   1  8   8     20.085537\n",
       "5 4   1 16  16     54.598150\n",
       "6 5   1 32  32    148.413159\n",
       "7 6   1 64  64    403.428793"
      ]
     },
     "metadata": {},
     "output_type": "display_data"
    }
   ],
   "source": [
    "table$y <- exp(table$t.i)\n",
    "\n",
    "table"
   ]
  },
  {
   "cell_type": "code",
   "execution_count": 35,
   "metadata": {
    "ExecuteTime": {
     "end_time": "2021-12-23T05:12:07.643783Z",
     "start_time": "2021-12-23T05:12:04.203Z"
    }
   },
   "outputs": [
    {
     "data": {
      "image/png": "[encoded data removed]",
      "text/plain": [
       "plot without title"
      ]
     },
     "metadata": {
      "image/png": {
       "height": 480,
       "width": 720
      }
     },
     "output_type": "display_data"
    }
   ],
   "source": [
    "plot(table$t.i, table$y.i, col = 'red', type = 'l', lwd = 3)\n",
    "points(table$t.i, table$y.i, col = 'black', lwd = 3)\n",
    "\n",
    "lines(table$t.i, table$y, col = 'green', lwd = 3)\n",
    "points(table$t.i, table$y, col = 'black', lwd = 3)\n",
    "\n",
    "grid(col = 'black')\n",
    "legend('topleft', legend = c('Eular', 'Exact'), lwd = 2, col = c('red', 'green'))"
   ]
  },
  {
   "cell_type": "code",
   "execution_count": 36,
   "metadata": {
    "ExecuteTime": {
     "end_time": "2021-12-23T05:12:07.688536Z",
     "start_time": "2021-12-23T05:12:04.210Z"
    }
   },
   "outputs": [
    {
     "data": {
      "text/html": [
       "<table class=\"dataframe\">\n",
       "<caption>A data.frame: 7 × 6</caption>\n",
       "<thead>\n",
       "\t<tr><th scope=col>t.i</th><th scope=col>h</th><th scope=col>y.i</th><th scope=col>Dy/dt</th><th scope=col>y</th><th scope=col>error</th></tr>\n",
       "\t<tr><th scope=col>&lt;dbl&gt;</th><th scope=col>&lt;dbl&gt;</th><th scope=col>&lt;dbl&gt;</th><th scope=col>&lt;dbl&gt;</th><th scope=col>&lt;dbl&gt;</th><th scope=col>&lt;dbl&gt;</th></tr>\n",
       "</thead>\n",
       "<tbody>\n",
       "\t<tr><td>0</td><td>1</td><td> 1</td><td> 1</td><td>  1.000000</td><td>   0.0000000</td></tr>\n",
       "\t<tr><td>1</td><td>1</td><td> 2</td><td> 2</td><td>  2.718282</td><td>  -0.7182818</td></tr>\n",
       "\t<tr><td>2</td><td>1</td><td> 4</td><td> 4</td><td>  7.389056</td><td>  -3.3890561</td></tr>\n",
       "\t<tr><td>3</td><td>1</td><td> 8</td><td> 8</td><td> 20.085537</td><td> -12.0855369</td></tr>\n",
       "\t<tr><td>4</td><td>1</td><td>16</td><td>16</td><td> 54.598150</td><td> -38.5981500</td></tr>\n",
       "\t<tr><td>5</td><td>1</td><td>32</td><td>32</td><td>148.413159</td><td>-116.4131591</td></tr>\n",
       "\t<tr><td>6</td><td>1</td><td>64</td><td>64</td><td>403.428793</td><td>-339.4287935</td></tr>\n",
       "</tbody>\n",
       "</table>\n"
      ],
      "text/latex": [
       "A data.frame: 7 × 6\n",
       "\\begin{tabular}{llllll}\n",
       " t.i & h & y.i & Dy/dt & y & error\\\\\n",
       " <dbl> & <dbl> & <dbl> & <dbl> & <dbl> & <dbl>\\\\\n",
       "\\hline\n",
       "\t 0 & 1 &  1 &  1 &   1.000000 &    0.0000000\\\\\n",
       "\t 1 & 1 &  2 &  2 &   2.718282 &   -0.7182818\\\\\n",
       "\t 2 & 1 &  4 &  4 &   7.389056 &   -3.3890561\\\\\n",
       "\t 3 & 1 &  8 &  8 &  20.085537 &  -12.0855369\\\\\n",
       "\t 4 & 1 & 16 & 16 &  54.598150 &  -38.5981500\\\\\n",
       "\t 5 & 1 & 32 & 32 & 148.413159 & -116.4131591\\\\\n",
       "\t 6 & 1 & 64 & 64 & 403.428793 & -339.4287935\\\\\n",
       "\\end{tabular}\n"
      ],
      "text/markdown": [
       "\n",
       "A data.frame: 7 × 6\n",
       "\n",
       "| t.i &lt;dbl&gt; | h &lt;dbl&gt; | y.i &lt;dbl&gt; | Dy/dt &lt;dbl&gt; | y &lt;dbl&gt; | error &lt;dbl&gt; |\n",
       "|---|---|---|---|---|---|\n",
       "| 0 | 1 |  1 |  1 |   1.000000 |    0.0000000 |\n",
       "| 1 | 1 |  2 |  2 |   2.718282 |   -0.7182818 |\n",
       "| 2 | 1 |  4 |  4 |   7.389056 |   -3.3890561 |\n",
       "| 3 | 1 |  8 |  8 |  20.085537 |  -12.0855369 |\n",
       "| 4 | 1 | 16 | 16 |  54.598150 |  -38.5981500 |\n",
       "| 5 | 1 | 32 | 32 | 148.413159 | -116.4131591 |\n",
       "| 6 | 1 | 64 | 64 | 403.428793 | -339.4287935 |\n",
       "\n"
      ],
      "text/plain": [
       "  t.i h y.i Dy/dt y          error       \n",
       "1 0   1  1   1      1.000000    0.0000000\n",
       "2 1   1  2   2      2.718282   -0.7182818\n",
       "3 2   1  4   4      7.389056   -3.3890561\n",
       "4 3   1  8   8     20.085537  -12.0855369\n",
       "5 4   1 16  16     54.598150  -38.5981500\n",
       "6 5   1 32  32    148.413159 -116.4131591\n",
       "7 6   1 64  64    403.428793 -339.4287935"
      ]
     },
     "metadata": {},
     "output_type": "display_data"
    }
   ],
   "source": [
    "table$error <- table$y.i - table$y\n",
    "\n",
    "table"
   ]
  },
  {
   "cell_type": "code",
   "execution_count": 37,
   "metadata": {
    "ExecuteTime": {
     "end_time": "2021-12-23T05:12:07.745534Z",
     "start_time": "2021-12-23T05:12:04.213Z"
    }
   },
   "outputs": [],
   "source": [
    "t_0 <- 0\n",
    "t_n <- 6\n",
    "h <- 0.03\n",
    "y_0 <- 1"
   ]
  },
  {
   "cell_type": "code",
   "execution_count": 38,
   "metadata": {
    "ExecuteTime": {
     "end_time": "2021-12-23T05:12:07.815531Z",
     "start_time": "2021-12-23T05:12:04.221Z"
    }
   },
   "outputs": [
    {
     "data": {
      "text/html": [
       "<table class=\"dataframe\">\n",
       "<caption>A data.frame: 6 × 4</caption>\n",
       "<thead>\n",
       "\t<tr><th></th><th scope=col>t_i</th><th scope=col>h</th><th scope=col>y_i</th><th scope=col>f_dash</th></tr>\n",
       "\t<tr><th></th><th scope=col>&lt;dbl&gt;</th><th scope=col>&lt;dbl&gt;</th><th scope=col>&lt;dbl&gt;</th><th scope=col>&lt;dbl&gt;</th></tr>\n",
       "</thead>\n",
       "<tbody>\n",
       "\t<tr><th scope=row>1</th><td>0.00</td><td>0.03</td><td>1.000000</td><td>1.000000</td></tr>\n",
       "\t<tr><th scope=row>2</th><td>0.03</td><td>0.03</td><td>1.030000</td><td>1.030000</td></tr>\n",
       "\t<tr><th scope=row>3</th><td>0.06</td><td>0.03</td><td>1.060900</td><td>1.060900</td></tr>\n",
       "\t<tr><th scope=row>4</th><td>0.09</td><td>0.03</td><td>1.092727</td><td>1.092727</td></tr>\n",
       "\t<tr><th scope=row>5</th><td>0.12</td><td>0.03</td><td>1.125509</td><td>1.125509</td></tr>\n",
       "\t<tr><th scope=row>6</th><td>0.15</td><td>0.03</td><td>1.159274</td><td>1.159274</td></tr>\n",
       "</tbody>\n",
       "</table>\n"
      ],
      "text/latex": [
       "A data.frame: 6 × 4\n",
       "\\begin{tabular}{r|llll}\n",
       "  & t\\_i & h & y\\_i & f\\_dash\\\\\n",
       "  & <dbl> & <dbl> & <dbl> & <dbl>\\\\\n",
       "\\hline\n",
       "\t1 & 0.00 & 0.03 & 1.000000 & 1.000000\\\\\n",
       "\t2 & 0.03 & 0.03 & 1.030000 & 1.030000\\\\\n",
       "\t3 & 0.06 & 0.03 & 1.060900 & 1.060900\\\\\n",
       "\t4 & 0.09 & 0.03 & 1.092727 & 1.092727\\\\\n",
       "\t5 & 0.12 & 0.03 & 1.125509 & 1.125509\\\\\n",
       "\t6 & 0.15 & 0.03 & 1.159274 & 1.159274\\\\\n",
       "\\end{tabular}\n"
      ],
      "text/markdown": [
       "\n",
       "A data.frame: 6 × 4\n",
       "\n",
       "| <!--/--> | t_i &lt;dbl&gt; | h &lt;dbl&gt; | y_i &lt;dbl&gt; | f_dash &lt;dbl&gt; |\n",
       "|---|---|---|---|---|\n",
       "| 1 | 0.00 | 0.03 | 1.000000 | 1.000000 |\n",
       "| 2 | 0.03 | 0.03 | 1.030000 | 1.030000 |\n",
       "| 3 | 0.06 | 0.03 | 1.060900 | 1.060900 |\n",
       "| 4 | 0.09 | 0.03 | 1.092727 | 1.092727 |\n",
       "| 5 | 0.12 | 0.03 | 1.125509 | 1.125509 |\n",
       "| 6 | 0.15 | 0.03 | 1.159274 | 1.159274 |\n",
       "\n"
      ],
      "text/plain": [
       "  t_i  h    y_i      f_dash  \n",
       "1 0.00 0.03 1.000000 1.000000\n",
       "2 0.03 0.03 1.030000 1.030000\n",
       "3 0.06 0.03 1.060900 1.060900\n",
       "4 0.09 0.03 1.092727 1.092727\n",
       "5 0.12 0.03 1.125509 1.125509\n",
       "6 0.15 0.03 1.159274 1.159274"
      ]
     },
     "metadata": {},
     "output_type": "display_data"
    }
   ],
   "source": [
    "table <- euler_method(t_0, h, t_n, y_0, y_dash)\n",
    "\n",
    "head(table)"
   ]
  },
  {
   "cell_type": "code",
   "execution_count": 39,
   "metadata": {
    "ExecuteTime": {
     "end_time": "2021-12-23T05:12:07.871299Z",
     "start_time": "2021-12-23T05:12:04.229Z"
    }
   },
   "outputs": [
    {
     "data": {
      "text/html": [
       "<table class=\"dataframe\">\n",
       "<caption>A data.frame: 6 × 5</caption>\n",
       "<thead>\n",
       "\t<tr><th></th><th scope=col>t.i</th><th scope=col>h</th><th scope=col>y.i</th><th scope=col>Dy/dt</th><th scope=col>y</th></tr>\n",
       "\t<tr><th></th><th scope=col>&lt;dbl&gt;</th><th scope=col>&lt;dbl&gt;</th><th scope=col>&lt;dbl&gt;</th><th scope=col>&lt;dbl&gt;</th><th scope=col>&lt;dbl&gt;</th></tr>\n",
       "</thead>\n",
       "<tbody>\n",
       "\t<tr><th scope=row>1</th><td>0.00</td><td>0.03</td><td>1.000000</td><td>1.000000</td><td>1.000000</td></tr>\n",
       "\t<tr><th scope=row>2</th><td>0.03</td><td>0.03</td><td>1.030000</td><td>1.030000</td><td>1.030455</td></tr>\n",
       "\t<tr><th scope=row>3</th><td>0.06</td><td>0.03</td><td>1.060900</td><td>1.060900</td><td>1.061837</td></tr>\n",
       "\t<tr><th scope=row>4</th><td>0.09</td><td>0.03</td><td>1.092727</td><td>1.092727</td><td>1.094174</td></tr>\n",
       "\t<tr><th scope=row>5</th><td>0.12</td><td>0.03</td><td>1.125509</td><td>1.125509</td><td>1.127497</td></tr>\n",
       "\t<tr><th scope=row>6</th><td>0.15</td><td>0.03</td><td>1.159274</td><td>1.159274</td><td>1.161834</td></tr>\n",
       "</tbody>\n",
       "</table>\n"
      ],
      "text/latex": [
       "A data.frame: 6 × 5\n",
       "\\begin{tabular}{r|lllll}\n",
       "  & t.i & h & y.i & Dy/dt & y\\\\\n",
       "  & <dbl> & <dbl> & <dbl> & <dbl> & <dbl>\\\\\n",
       "\\hline\n",
       "\t1 & 0.00 & 0.03 & 1.000000 & 1.000000 & 1.000000\\\\\n",
       "\t2 & 0.03 & 0.03 & 1.030000 & 1.030000 & 1.030455\\\\\n",
       "\t3 & 0.06 & 0.03 & 1.060900 & 1.060900 & 1.061837\\\\\n",
       "\t4 & 0.09 & 0.03 & 1.092727 & 1.092727 & 1.094174\\\\\n",
       "\t5 & 0.12 & 0.03 & 1.125509 & 1.125509 & 1.127497\\\\\n",
       "\t6 & 0.15 & 0.03 & 1.159274 & 1.159274 & 1.161834\\\\\n",
       "\\end{tabular}\n"
      ],
      "text/markdown": [
       "\n",
       "A data.frame: 6 × 5\n",
       "\n",
       "| <!--/--> | t.i &lt;dbl&gt; | h &lt;dbl&gt; | y.i &lt;dbl&gt; | Dy/dt &lt;dbl&gt; | y &lt;dbl&gt; |\n",
       "|---|---|---|---|---|---|\n",
       "| 1 | 0.00 | 0.03 | 1.000000 | 1.000000 | 1.000000 |\n",
       "| 2 | 0.03 | 0.03 | 1.030000 | 1.030000 | 1.030455 |\n",
       "| 3 | 0.06 | 0.03 | 1.060900 | 1.060900 | 1.061837 |\n",
       "| 4 | 0.09 | 0.03 | 1.092727 | 1.092727 | 1.094174 |\n",
       "| 5 | 0.12 | 0.03 | 1.125509 | 1.125509 | 1.127497 |\n",
       "| 6 | 0.15 | 0.03 | 1.159274 | 1.159274 | 1.161834 |\n",
       "\n"
      ],
      "text/plain": [
       "  t.i  h    y.i      Dy/dt    y       \n",
       "1 0.00 0.03 1.000000 1.000000 1.000000\n",
       "2 0.03 0.03 1.030000 1.030000 1.030455\n",
       "3 0.06 0.03 1.060900 1.060900 1.061837\n",
       "4 0.09 0.03 1.092727 1.092727 1.094174\n",
       "5 0.12 0.03 1.125509 1.125509 1.127497\n",
       "6 0.15 0.03 1.159274 1.159274 1.161834"
      ]
     },
     "metadata": {},
     "output_type": "display_data"
    }
   ],
   "source": [
    "colnames(table) <- c('t.i', 'h', 'y.i', 'Dy/dt')\n",
    "\n",
    "table$y <- exp(table$t.i)\n",
    "\n",
    "head(table)"
   ]
  },
  {
   "cell_type": "code",
   "execution_count": 40,
   "metadata": {
    "ExecuteTime": {
     "end_time": "2021-12-23T05:12:08.038383Z",
     "start_time": "2021-12-23T05:12:04.234Z"
    }
   },
   "outputs": [
    {
     "data": {
      "image/png": "[encoded data removed]",
      "text/plain": [
       "plot without title"
      ]
     },
     "metadata": {
      "image/png": {
       "height": 480,
       "width": 720
      }
     },
     "output_type": "display_data"
    }
   ],
   "source": [
    "plot(table$t.i, table$y.i, col = 'red', type = 'l', lwd = 3)\n",
    "lines(table$t.i, table$y, col = 'green', lwd = 3)\n",
    "grid(col = 'black')\n",
    "legend('topleft', legend = c('Eular', 'Exact'), lwd = 2, col = c('red', 'green'))"
   ]
  },
  {
   "cell_type": "code",
   "execution_count": 41,
   "metadata": {
    "ExecuteTime": {
     "end_time": "2021-12-23T05:12:08.089420Z",
     "start_time": "2021-12-23T05:12:04.239Z"
    }
   },
   "outputs": [
    {
     "data": {
      "text/html": [
       "<table class=\"dataframe\">\n",
       "<caption>A data.frame: 6 × 6</caption>\n",
       "<thead>\n",
       "\t<tr><th></th><th scope=col>t.i</th><th scope=col>h</th><th scope=col>y.i</th><th scope=col>Dy/dt</th><th scope=col>y</th><th scope=col>error</th></tr>\n",
       "\t<tr><th></th><th scope=col>&lt;dbl&gt;</th><th scope=col>&lt;dbl&gt;</th><th scope=col>&lt;dbl&gt;</th><th scope=col>&lt;dbl&gt;</th><th scope=col>&lt;dbl&gt;</th><th scope=col>&lt;dbl&gt;</th></tr>\n",
       "</thead>\n",
       "<tbody>\n",
       "\t<tr><th scope=row>1</th><td>0.00</td><td>0.03</td><td>1.000000</td><td>1.000000</td><td>1.000000</td><td> 0.0000000000</td></tr>\n",
       "\t<tr><th scope=row>2</th><td>0.03</td><td>0.03</td><td>1.030000</td><td>1.030000</td><td>1.030455</td><td>-0.0004545340</td></tr>\n",
       "\t<tr><th scope=row>3</th><td>0.06</td><td>0.03</td><td>1.060900</td><td>1.060900</td><td>1.061837</td><td>-0.0009365465</td></tr>\n",
       "\t<tr><th scope=row>4</th><td>0.09</td><td>0.03</td><td>1.092727</td><td>1.092727</td><td>1.094174</td><td>-0.0014472837</td></tr>\n",
       "\t<tr><th scope=row>5</th><td>0.12</td><td>0.03</td><td>1.125509</td><td>1.125509</td><td>1.127497</td><td>-0.0019880416</td></tr>\n",
       "\t<tr><th scope=row>6</th><td>0.15</td><td>0.03</td><td>1.159274</td><td>1.159274</td><td>1.161834</td><td>-0.0025601684</td></tr>\n",
       "</tbody>\n",
       "</table>\n"
      ],
      "text/latex": [
       "A data.frame: 6 × 6\n",
       "\\begin{tabular}{r|llllll}\n",
       "  & t.i & h & y.i & Dy/dt & y & error\\\\\n",
       "  & <dbl> & <dbl> & <dbl> & <dbl> & <dbl> & <dbl>\\\\\n",
       "\\hline\n",
       "\t1 & 0.00 & 0.03 & 1.000000 & 1.000000 & 1.000000 &  0.0000000000\\\\\n",
       "\t2 & 0.03 & 0.03 & 1.030000 & 1.030000 & 1.030455 & -0.0004545340\\\\\n",
       "\t3 & 0.06 & 0.03 & 1.060900 & 1.060900 & 1.061837 & -0.0009365465\\\\\n",
       "\t4 & 0.09 & 0.03 & 1.092727 & 1.092727 & 1.094174 & -0.0014472837\\\\\n",
       "\t5 & 0.12 & 0.03 & 1.125509 & 1.125509 & 1.127497 & -0.0019880416\\\\\n",
       "\t6 & 0.15 & 0.03 & 1.159274 & 1.159274 & 1.161834 & -0.0025601684\\\\\n",
       "\\end{tabular}\n"
      ],
      "text/markdown": [
       "\n",
       "A data.frame: 6 × 6\n",
       "\n",
       "| <!--/--> | t.i &lt;dbl&gt; | h &lt;dbl&gt; | y.i &lt;dbl&gt; | Dy/dt &lt;dbl&gt; | y &lt;dbl&gt; | error &lt;dbl&gt; |\n",
       "|---|---|---|---|---|---|---|\n",
       "| 1 | 0.00 | 0.03 | 1.000000 | 1.000000 | 1.000000 |  0.0000000000 |\n",
       "| 2 | 0.03 | 0.03 | 1.030000 | 1.030000 | 1.030455 | -0.0004545340 |\n",
       "| 3 | 0.06 | 0.03 | 1.060900 | 1.060900 | 1.061837 | -0.0009365465 |\n",
       "| 4 | 0.09 | 0.03 | 1.092727 | 1.092727 | 1.094174 | -0.0014472837 |\n",
       "| 5 | 0.12 | 0.03 | 1.125509 | 1.125509 | 1.127497 | -0.0019880416 |\n",
       "| 6 | 0.15 | 0.03 | 1.159274 | 1.159274 | 1.161834 | -0.0025601684 |\n",
       "\n"
      ],
      "text/plain": [
       "  t.i  h    y.i      Dy/dt    y        error        \n",
       "1 0.00 0.03 1.000000 1.000000 1.000000  0.0000000000\n",
       "2 0.03 0.03 1.030000 1.030000 1.030455 -0.0004545340\n",
       "3 0.06 0.03 1.060900 1.060900 1.061837 -0.0009365465\n",
       "4 0.09 0.03 1.092727 1.092727 1.094174 -0.0014472837\n",
       "5 0.12 0.03 1.125509 1.125509 1.127497 -0.0019880416\n",
       "6 0.15 0.03 1.159274 1.159274 1.161834 -0.0025601684"
      ]
     },
     "metadata": {},
     "output_type": "display_data"
    }
   ],
   "source": [
    "table$error <- table$y.i - table$y\n",
    "\n",
    "head(table)"
   ]
  },
  {
   "cell_type": "code",
   "execution_count": 42,
   "metadata": {
    "ExecuteTime": {
     "end_time": "2021-12-23T05:12:08.131359Z",
     "start_time": "2021-12-23T05:12:04.245Z"
    }
   },
   "outputs": [
    {
     "data": {
      "text/html": [
       "<pre class=language-r><code>function (t_i, y) \n",
       "{\n",
       "<span style=white-space:pre-wrap>    -2.3 * y</span>\n",
       "}</code></pre>"
      ],
      "text/latex": [
       "\\begin{minted}{r}\n",
       "function (t\\_i, y) \n",
       "\\{\n",
       "    -2.3 * y\n",
       "\\}\n",
       "\\end{minted}"
      ],
      "text/markdown": [
       "```r\n",
       "function (t_i, y) \n",
       "{\n",
       "    -2.3 * y\n",
       "}\n",
       "```"
      ],
      "text/plain": [
       "function(t_i, y) {\n",
       "    -2.3 * y\n",
       "}"
      ]
     },
     "metadata": {},
     "output_type": "display_data"
    }
   ],
   "source": [
    "y_dash <- function(t_i, y) {\n",
    "    -2.3 * y\n",
    "}\n",
    "\n",
    "y_dash"
   ]
  },
  {
   "cell_type": "code",
   "execution_count": 43,
   "metadata": {
    "ExecuteTime": {
     "end_time": "2021-12-23T05:12:08.176460Z",
     "start_time": "2021-12-23T05:12:04.250Z"
    }
   },
   "outputs": [],
   "source": [
    "t_0 <- 0\n",
    "t_n <- 6\n",
    "h <- 1\n",
    "y_0 <- 1"
   ]
  },
  {
   "cell_type": "code",
   "execution_count": 44,
   "metadata": {
    "ExecuteTime": {
     "end_time": "2021-12-23T05:12:08.240361Z",
     "start_time": "2021-12-23T05:12:04.256Z"
    }
   },
   "outputs": [
    {
     "data": {
      "text/html": [
       "<table class=\"dataframe\">\n",
       "<caption>A data.frame: 7 × 4</caption>\n",
       "<thead>\n",
       "\t<tr><th scope=col>t_i</th><th scope=col>h</th><th scope=col>y_i</th><th scope=col>f_dash</th></tr>\n",
       "\t<tr><th scope=col>&lt;dbl&gt;</th><th scope=col>&lt;dbl&gt;</th><th scope=col>&lt;dbl&gt;</th><th scope=col>&lt;dbl&gt;</th></tr>\n",
       "</thead>\n",
       "<tbody>\n",
       "\t<tr><td>0</td><td>1</td><td> 1.000000</td><td> -2.300000</td></tr>\n",
       "\t<tr><td>1</td><td>1</td><td>-1.300000</td><td>  2.990000</td></tr>\n",
       "\t<tr><td>2</td><td>1</td><td> 1.690000</td><td> -3.887000</td></tr>\n",
       "\t<tr><td>3</td><td>1</td><td>-2.197000</td><td>  5.053100</td></tr>\n",
       "\t<tr><td>4</td><td>1</td><td> 2.856100</td><td> -6.569030</td></tr>\n",
       "\t<tr><td>5</td><td>1</td><td>-3.712930</td><td>  8.539739</td></tr>\n",
       "\t<tr><td>6</td><td>1</td><td> 4.826809</td><td>-11.101661</td></tr>\n",
       "</tbody>\n",
       "</table>\n"
      ],
      "text/latex": [
       "A data.frame: 7 × 4\n",
       "\\begin{tabular}{llll}\n",
       " t\\_i & h & y\\_i & f\\_dash\\\\\n",
       " <dbl> & <dbl> & <dbl> & <dbl>\\\\\n",
       "\\hline\n",
       "\t 0 & 1 &  1.000000 &  -2.300000\\\\\n",
       "\t 1 & 1 & -1.300000 &   2.990000\\\\\n",
       "\t 2 & 1 &  1.690000 &  -3.887000\\\\\n",
       "\t 3 & 1 & -2.197000 &   5.053100\\\\\n",
       "\t 4 & 1 &  2.856100 &  -6.569030\\\\\n",
       "\t 5 & 1 & -3.712930 &   8.539739\\\\\n",
       "\t 6 & 1 &  4.826809 & -11.101661\\\\\n",
       "\\end{tabular}\n"
      ],
      "text/markdown": [
       "\n",
       "A data.frame: 7 × 4\n",
       "\n",
       "| t_i &lt;dbl&gt; | h &lt;dbl&gt; | y_i &lt;dbl&gt; | f_dash &lt;dbl&gt; |\n",
       "|---|---|---|---|\n",
       "| 0 | 1 |  1.000000 |  -2.300000 |\n",
       "| 1 | 1 | -1.300000 |   2.990000 |\n",
       "| 2 | 1 |  1.690000 |  -3.887000 |\n",
       "| 3 | 1 | -2.197000 |   5.053100 |\n",
       "| 4 | 1 |  2.856100 |  -6.569030 |\n",
       "| 5 | 1 | -3.712930 |   8.539739 |\n",
       "| 6 | 1 |  4.826809 | -11.101661 |\n",
       "\n"
      ],
      "text/plain": [
       "  t_i h y_i       f_dash    \n",
       "1 0   1  1.000000  -2.300000\n",
       "2 1   1 -1.300000   2.990000\n",
       "3 2   1  1.690000  -3.887000\n",
       "4 3   1 -2.197000   5.053100\n",
       "5 4   1  2.856100  -6.569030\n",
       "6 5   1 -3.712930   8.539739\n",
       "7 6   1  4.826809 -11.101661"
      ]
     },
     "metadata": {},
     "output_type": "display_data"
    }
   ],
   "source": [
    "table <- euler_method(t_0, h, t_n, y_0, y_dash)\n",
    "\n",
    "table"
   ]
  },
  {
   "cell_type": "code",
   "execution_count": 45,
   "metadata": {
    "ExecuteTime": {
     "end_time": "2021-12-23T05:12:08.301512Z",
     "start_time": "2021-12-23T05:12:04.261Z"
    }
   },
   "outputs": [
    {
     "data": {
      "text/html": [
       "<table class=\"dataframe\">\n",
       "<caption>A data.frame: 6 × 5</caption>\n",
       "<thead>\n",
       "\t<tr><th></th><th scope=col>t.i</th><th scope=col>h</th><th scope=col>y.i</th><th scope=col>Dy/dt</th><th scope=col>y</th></tr>\n",
       "\t<tr><th></th><th scope=col>&lt;dbl&gt;</th><th scope=col>&lt;dbl&gt;</th><th scope=col>&lt;dbl&gt;</th><th scope=col>&lt;dbl&gt;</th><th scope=col>&lt;dbl&gt;</th></tr>\n",
       "</thead>\n",
       "<tbody>\n",
       "\t<tr><th scope=row>1</th><td>0</td><td>1</td><td> 1.00000</td><td>-2.300000</td><td>1.000000e+00</td></tr>\n",
       "\t<tr><th scope=row>2</th><td>1</td><td>1</td><td>-1.30000</td><td> 2.990000</td><td>1.002588e-01</td></tr>\n",
       "\t<tr><th scope=row>3</th><td>2</td><td>1</td><td> 1.69000</td><td>-3.887000</td><td>1.005184e-02</td></tr>\n",
       "\t<tr><th scope=row>4</th><td>3</td><td>1</td><td>-2.19700</td><td> 5.053100</td><td>1.007785e-03</td></tr>\n",
       "\t<tr><th scope=row>5</th><td>4</td><td>1</td><td> 2.85610</td><td>-6.569030</td><td>1.010394e-04</td></tr>\n",
       "\t<tr><th scope=row>6</th><td>5</td><td>1</td><td>-3.71293</td><td> 8.539739</td><td>1.013009e-05</td></tr>\n",
       "</tbody>\n",
       "</table>\n"
      ],
      "text/latex": [
       "A data.frame: 6 × 5\n",
       "\\begin{tabular}{r|lllll}\n",
       "  & t.i & h & y.i & Dy/dt & y\\\\\n",
       "  & <dbl> & <dbl> & <dbl> & <dbl> & <dbl>\\\\\n",
       "\\hline\n",
       "\t1 & 0 & 1 &  1.00000 & -2.300000 & 1.000000e+00\\\\\n",
       "\t2 & 1 & 1 & -1.30000 &  2.990000 & 1.002588e-01\\\\\n",
       "\t3 & 2 & 1 &  1.69000 & -3.887000 & 1.005184e-02\\\\\n",
       "\t4 & 3 & 1 & -2.19700 &  5.053100 & 1.007785e-03\\\\\n",
       "\t5 & 4 & 1 &  2.85610 & -6.569030 & 1.010394e-04\\\\\n",
       "\t6 & 5 & 1 & -3.71293 &  8.539739 & 1.013009e-05\\\\\n",
       "\\end{tabular}\n"
      ],
      "text/markdown": [
       "\n",
       "A data.frame: 6 × 5\n",
       "\n",
       "| <!--/--> | t.i &lt;dbl&gt; | h &lt;dbl&gt; | y.i &lt;dbl&gt; | Dy/dt &lt;dbl&gt; | y &lt;dbl&gt; |\n",
       "|---|---|---|---|---|---|\n",
       "| 1 | 0 | 1 |  1.00000 | -2.300000 | 1.000000e+00 |\n",
       "| 2 | 1 | 1 | -1.30000 |  2.990000 | 1.002588e-01 |\n",
       "| 3 | 2 | 1 |  1.69000 | -3.887000 | 1.005184e-02 |\n",
       "| 4 | 3 | 1 | -2.19700 |  5.053100 | 1.007785e-03 |\n",
       "| 5 | 4 | 1 |  2.85610 | -6.569030 | 1.010394e-04 |\n",
       "| 6 | 5 | 1 | -3.71293 |  8.539739 | 1.013009e-05 |\n",
       "\n"
      ],
      "text/plain": [
       "  t.i h y.i      Dy/dt     y           \n",
       "1 0   1  1.00000 -2.300000 1.000000e+00\n",
       "2 1   1 -1.30000  2.990000 1.002588e-01\n",
       "3 2   1  1.69000 -3.887000 1.005184e-02\n",
       "4 3   1 -2.19700  5.053100 1.007785e-03\n",
       "5 4   1  2.85610 -6.569030 1.010394e-04\n",
       "6 5   1 -3.71293  8.539739 1.013009e-05"
      ]
     },
     "metadata": {},
     "output_type": "display_data"
    }
   ],
   "source": [
    "colnames(table) <- c('t.i', 'h', 'y.i', 'Dy/dt')\n",
    "\n",
    "table$y <- exp(-2.3 * table$t.i)\n",
    "\n",
    "head(table)"
   ]
  },
  {
   "cell_type": "code",
   "execution_count": 46,
   "metadata": {
    "ExecuteTime": {
     "end_time": "2021-12-23T05:12:08.505510Z",
     "start_time": "2021-12-23T05:12:04.266Z"
    }
   },
   "outputs": [
    {
     "data": {
      "image/png": "[encoded data removed]",
      "text/plain": [
       "plot without title"
      ]
     },
     "metadata": {
      "image/png": {
       "height": 480,
       "width": 720
      }
     },
     "output_type": "display_data"
    }
   ],
   "source": [
    "plot(table$t.i, table$y.i, col = 'blue', type = 'l', lty = 2, lwd = 3)\n",
    "points(table$t.i, table$y.i, col = 'red', lwd = 3)\n",
    "\n",
    "lines(table$t.i, table$y, col = 'green', lwd = 3)\n",
    "grid(col = 'black')\n",
    "legend('topleft', legend = c('Eular', 'Exact'), lwd = 2, col = c('blue', 'green'))"
   ]
  },
  {
   "cell_type": "code",
   "execution_count": 47,
   "metadata": {
    "ExecuteTime": {
     "end_time": "2021-12-23T05:12:08.559514Z",
     "start_time": "2021-12-23T05:12:04.271Z"
    }
   },
   "outputs": [],
   "source": [
    "t_0 <- 0\n",
    "t_n <- 6\n",
    "h <- .6\n",
    "y_0 <- 1"
   ]
  },
  {
   "cell_type": "code",
   "execution_count": 48,
   "metadata": {
    "ExecuteTime": {
     "end_time": "2021-12-23T05:12:36.949440Z",
     "start_time": "2021-12-23T05:12:36.907Z"
    }
   },
   "outputs": [
    {
     "data": {
      "text/html": [
       "<table class=\"dataframe\">\n",
       "<caption>A data.frame: 6 × 5</caption>\n",
       "<thead>\n",
       "\t<tr><th></th><th scope=col>t.i</th><th scope=col>h</th><th scope=col>y.i</th><th scope=col>Dy/dt</th><th scope=col>y</th></tr>\n",
       "\t<tr><th></th><th scope=col>&lt;dbl&gt;</th><th scope=col>&lt;dbl&gt;</th><th scope=col>&lt;dbl&gt;</th><th scope=col>&lt;dbl&gt;</th><th scope=col>&lt;dbl&gt;</th></tr>\n",
       "</thead>\n",
       "<tbody>\n",
       "\t<tr><th scope=row>1</th><td>0.0</td><td>0.6</td><td> 1.000000000</td><td>-2.30000000</td><td>1.000000000</td></tr>\n",
       "\t<tr><th scope=row>2</th><td>0.6</td><td>0.6</td><td>-0.380000000</td><td> 0.87400000</td><td>0.251578553</td></tr>\n",
       "\t<tr><th scope=row>3</th><td>1.2</td><td>0.6</td><td> 0.144400000</td><td>-0.33212000</td><td>0.063291768</td></tr>\n",
       "\t<tr><th scope=row>4</th><td>1.8</td><td>0.6</td><td>-0.054872000</td><td> 0.12620560</td><td>0.015922852</td></tr>\n",
       "\t<tr><th scope=row>5</th><td>2.4</td><td>0.6</td><td> 0.020851360</td><td>-0.04795813</td><td>0.004005848</td></tr>\n",
       "\t<tr><th scope=row>6</th><td>3.0</td><td>0.6</td><td>-0.007923517</td><td> 0.01822409</td><td>0.001007785</td></tr>\n",
       "</tbody>\n",
       "</table>\n"
      ],
      "text/latex": [
       "A data.frame: 6 × 5\n",
       "\\begin{tabular}{r|lllll}\n",
       "  & t.i & h & y.i & Dy/dt & y\\\\\n",
       "  & <dbl> & <dbl> & <dbl> & <dbl> & <dbl>\\\\\n",
       "\\hline\n",
       "\t1 & 0.0 & 0.6 &  1.000000000 & -2.30000000 & 1.000000000\\\\\n",
       "\t2 & 0.6 & 0.6 & -0.380000000 &  0.87400000 & 0.251578553\\\\\n",
       "\t3 & 1.2 & 0.6 &  0.144400000 & -0.33212000 & 0.063291768\\\\\n",
       "\t4 & 1.8 & 0.6 & -0.054872000 &  0.12620560 & 0.015922852\\\\\n",
       "\t5 & 2.4 & 0.6 &  0.020851360 & -0.04795813 & 0.004005848\\\\\n",
       "\t6 & 3.0 & 0.6 & -0.007923517 &  0.01822409 & 0.001007785\\\\\n",
       "\\end{tabular}\n"
      ],
      "text/markdown": [
       "\n",
       "A data.frame: 6 × 5\n",
       "\n",
       "| <!--/--> | t.i &lt;dbl&gt; | h &lt;dbl&gt; | y.i &lt;dbl&gt; | Dy/dt &lt;dbl&gt; | y &lt;dbl&gt; |\n",
       "|---|---|---|---|---|---|\n",
       "| 1 | 0.0 | 0.6 |  1.000000000 | -2.30000000 | 1.000000000 |\n",
       "| 2 | 0.6 | 0.6 | -0.380000000 |  0.87400000 | 0.251578553 |\n",
       "| 3 | 1.2 | 0.6 |  0.144400000 | -0.33212000 | 0.063291768 |\n",
       "| 4 | 1.8 | 0.6 | -0.054872000 |  0.12620560 | 0.015922852 |\n",
       "| 5 | 2.4 | 0.6 |  0.020851360 | -0.04795813 | 0.004005848 |\n",
       "| 6 | 3.0 | 0.6 | -0.007923517 |  0.01822409 | 0.001007785 |\n",
       "\n"
      ],
      "text/plain": [
       "  t.i h   y.i          Dy/dt       y          \n",
       "1 0.0 0.6  1.000000000 -2.30000000 1.000000000\n",
       "2 0.6 0.6 -0.380000000  0.87400000 0.251578553\n",
       "3 1.2 0.6  0.144400000 -0.33212000 0.063291768\n",
       "4 1.8 0.6 -0.054872000  0.12620560 0.015922852\n",
       "5 2.4 0.6  0.020851360 -0.04795813 0.004005848\n",
       "6 3.0 0.6 -0.007923517  0.01822409 0.001007785"
      ]
     },
     "metadata": {},
     "output_type": "display_data"
    }
   ],
   "source": [
    "table <- euler_method(t_0, h, t_n, y_0, y_dash)\n",
    "\n",
    "colnames(table) <- c('t.i', 'h', 'y.i', 'Dy/dt')\n",
    "\n",
    "table$y <- exp(-2.3 * table$t.i)\n",
    "\n",
    "head(table)"
   ]
  },
  {
   "cell_type": "code",
   "execution_count": 50,
   "metadata": {
    "ExecuteTime": {
     "end_time": "2021-12-23T05:13:02.812342Z",
     "start_time": "2021-12-23T05:13:02.630Z"
    }
   },
   "outputs": [
    {
     "data": {
      "image/png": "[encoded data removed]",
      "text/plain": [
       "plot without title"
      ]
     },
     "metadata": {
      "image/png": {
       "height": 480,
       "width": 720
      }
     },
     "output_type": "display_data"
    }
   ],
   "source": [
    "plot(table$t.i, table$y.i, col = 'blue', type = 'l', lty = 2, lwd = 3)\n",
    "points(table$t.i, table$y.i, col = 'red', lwd = 3)\n",
    "\n",
    "lines(table$t.i, table$y, col = 'green', lwd = 3)\n",
    "grid(col = 'black')\n",
    "legend('topright', legend = c('Eular', 'Exact'), lwd = 2, col = c('blue', 'green'))"
   ]
  },
  {
   "cell_type": "code",
   "execution_count": null,
   "metadata": {},
   "outputs": [],
   "source": []
  }
 ],
 "metadata": {
  "kernelspec": {
   "display_name": "R",
   "language": "R",
   "name": "ir"
  },
  "language_info": {
   "codemirror_mode": "r",
   "file_extension": ".r",
   "mimetype": "text/x-r-source",
   "name": "R",
   "pygments_lexer": "r",
   "version": "4.1.2"
  },
  "toc": {
   "base_numbering": 1,
   "nav_menu": {},
   "number_sections": true,
   "sideBar": true,
   "skip_h1_title": false,
   "title_cell": "Table of Contents",
   "title_sidebar": "Contents",
   "toc_cell": false,
   "toc_position": {},
   "toc_section_display": true,
   "toc_window_display": false
  },
  "varInspector": {
   "cols": {
    "lenName": 16,
    "lenType": 16,
    "lenVar": 40
   },
   "kernels_config": {
    "python": {
     "delete_cmd_postfix": "",
     "delete_cmd_prefix": "del ",
     "library": "var_list.py",
     "varRefreshCmd": "print(var_dic_list())"
    },
    "r": {
     "delete_cmd_postfix": ") ",
     "delete_cmd_prefix": "rm(",
     "library": "var_list.r",
     "varRefreshCmd": "cat(var_dic_list()) "
    }
   },
   "types_to_exclude": [
    "module",
    "function",
    "builtin_function_or_method",
    "instance",
    "_Feature"
   ],
   "window_display": false
  }
 },
 "nbformat": 4,
 "nbformat_minor": 2
}
