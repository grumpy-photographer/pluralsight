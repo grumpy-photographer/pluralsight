{
 "cells": [
  {
   "cell_type": "code",
   "execution_count": 1,
   "id": "crazy-minority",
   "metadata": {},
   "outputs": [],
   "source": [
    "import sklearn\n",
    "import pandas as pd\n",
    "\n",
    "from sklearn.model_selection import train_test_split\n",
    "from sklearn.svm import LinearSVC\n",
    "from sklearn.feature_extraction.text import TfidfVectorizer"
   ]
  },
  {
   "cell_type": "code",
   "execution_count": 2,
   "id": "flexible-lambda",
   "metadata": {},
   "outputs": [
    {
     "data": {
      "text/plain": [
       "'0.24.1'"
      ]
     },
     "execution_count": 2,
     "metadata": {},
     "output_type": "execute_result"
    }
   ],
   "source": [
    "scikit_version = sklearn.__version__\n",
    "scikit_version"
   ]
  },
  {
   "cell_type": "code",
   "execution_count": 3,
   "id": "stable-stuart",
   "metadata": {},
   "outputs": [
    {
     "data": {
      "text/html": [
       "<div>\n",
       "<style scoped>\n",
       "    .dataframe tbody tr th:only-of-type {\n",
       "        vertical-align: middle;\n",
       "    }\n",
       "\n",
       "    .dataframe tbody tr th {\n",
       "        vertical-align: top;\n",
       "    }\n",
       "\n",
       "    .dataframe thead th {\n",
       "        text-align: right;\n",
       "    }\n",
       "</style>\n",
       "<table border=\"1\" class=\"dataframe\">\n",
       "  <thead>\n",
       "    <tr style=\"text-align: right;\">\n",
       "      <th></th>\n",
       "      <th>Label</th>\n",
       "      <th>Text</th>\n",
       "    </tr>\n",
       "  </thead>\n",
       "  <tbody>\n",
       "    <tr>\n",
       "      <th>1989</th>\n",
       "      <td>1</td>\n",
       "      <td>For example, I love the Harry Potter books as ...</td>\n",
       "    </tr>\n",
       "    <tr>\n",
       "      <th>5851</th>\n",
       "      <td>0</td>\n",
       "      <td>I think I hate Harry Potter because it outshin...</td>\n",
       "    </tr>\n",
       "    <tr>\n",
       "      <th>2317</th>\n",
       "      <td>1</td>\n",
       "      <td>I love Harry Potter..</td>\n",
       "    </tr>\n",
       "    <tr>\n",
       "      <th>5985</th>\n",
       "      <td>0</td>\n",
       "      <td>I have to say, I hated Brokeback Mountain, tho...</td>\n",
       "    </tr>\n",
       "    <tr>\n",
       "      <th>5519</th>\n",
       "      <td>0</td>\n",
       "      <td>Is it just me, or does Harry Potter suck?...</td>\n",
       "    </tr>\n",
       "    <tr>\n",
       "      <th>3525</th>\n",
       "      <td>1</td>\n",
       "      <td>He's like,'YEAH I GOT ACNE AND I LOVE BROKEBAC...</td>\n",
       "    </tr>\n",
       "    <tr>\n",
       "      <th>1868</th>\n",
       "      <td>1</td>\n",
       "      <td>we're gonna like watch Mission Impossible or H...</td>\n",
       "    </tr>\n",
       "    <tr>\n",
       "      <th>4731</th>\n",
       "      <td>0</td>\n",
       "      <td>Da Vinci Code = Up, Up, Down, Down, Left, Righ...</td>\n",
       "    </tr>\n",
       "    <tr>\n",
       "      <th>3431</th>\n",
       "      <td>1</td>\n",
       "      <td>Anyway, thats why I love \" Brokeback Mountain.</td>\n",
       "    </tr>\n",
       "    <tr>\n",
       "      <th>1327</th>\n",
       "      <td>1</td>\n",
       "      <td>mission impossible 2 rocks!!....</td>\n",
       "    </tr>\n",
       "  </tbody>\n",
       "</table>\n",
       "</div>"
      ],
      "text/plain": [
       "      Label                                               Text\n",
       "1989      1  For example, I love the Harry Potter books as ...\n",
       "5851      0  I think I hate Harry Potter because it outshin...\n",
       "2317      1                              I love Harry Potter..\n",
       "5985      0  I have to say, I hated Brokeback Mountain, tho...\n",
       "5519      0       Is it just me, or does Harry Potter suck?...\n",
       "3525      1  He's like,'YEAH I GOT ACNE AND I LOVE BROKEBAC...\n",
       "1868      1  we're gonna like watch Mission Impossible or H...\n",
       "4731      0  Da Vinci Code = Up, Up, Down, Down, Left, Righ...\n",
       "3431      1     Anyway, thats why I love \" Brokeback Mountain.\n",
       "1327      1                   mission impossible 2 rocks!!...."
      ]
     },
     "execution_count": 3,
     "metadata": {},
     "output_type": "execute_result"
    }
   ],
   "source": [
    "sentiment_data = pd.read_csv('datasets/sentimental_analysis_data.csv',\n",
    "                            header=None,\n",
    "                            names=['Label', 'Text'],\n",
    "                            sep='\\t')\n",
    "\n",
    "sentiment_data.sample(10)"
   ]
  },
  {
   "cell_type": "code",
   "execution_count": 4,
   "id": "distributed-aging",
   "metadata": {},
   "outputs": [
    {
     "data": {
      "text/plain": [
       "(6918, 2)"
      ]
     },
     "execution_count": 4,
     "metadata": {},
     "output_type": "execute_result"
    }
   ],
   "source": [
    "sentiment_data.shape"
   ]
  },
  {
   "cell_type": "code",
   "execution_count": 5,
   "id": "instructional-hindu",
   "metadata": {},
   "outputs": [],
   "source": [
    "X = sentiment_data['Text']\n",
    "y = sentiment_data['Label']"
   ]
  },
  {
   "cell_type": "code",
   "execution_count": 6,
   "id": "continent-kentucky",
   "metadata": {},
   "outputs": [],
   "source": [
    "X_train, X_test, y_train, y_test = train_test_split(X, y, test_size=0.2)"
   ]
  },
  {
   "cell_type": "code",
   "execution_count": 7,
   "id": "saved-broad",
   "metadata": {},
   "outputs": [
    {
     "data": {
      "text/plain": [
       "((5534,), (1384,))"
      ]
     },
     "execution_count": 7,
     "metadata": {},
     "output_type": "execute_result"
    }
   ],
   "source": [
    "X_train.shape, X_test.shape"
   ]
  },
  {
   "cell_type": "code",
   "execution_count": 8,
   "id": "coordinated-money",
   "metadata": {},
   "outputs": [
    {
     "data": {
      "text/plain": [
       "((5534,), (1384,))"
      ]
     },
     "execution_count": 8,
     "metadata": {},
     "output_type": "execute_result"
    }
   ],
   "source": [
    "y_train.shape, y_test.shape"
   ]
  },
  {
   "cell_type": "code",
   "execution_count": 9,
   "id": "bigger-relevance",
   "metadata": {},
   "outputs": [],
   "source": [
    "tfidf_vect = TfidfVectorizer(max_features=15)\n",
    "x_trans = tfidf_vect.fit_transform(X_train)"
   ]
  },
  {
   "cell_type": "code",
   "execution_count": 10,
   "id": "ready-beauty",
   "metadata": {},
   "outputs": [
    {
     "name": "stdout",
     "output_type": "stream",
     "text": [
      "  (0, 0)\t0.458901690695104\n",
      "  (0, 6)\t0.5354838109758301\n",
      "  (0, 9)\t0.5354838109758301\n",
      "  (0, 8)\t0.46467560151440906\n",
      "  (1, 1)\t0.48601927428689595\n",
      "  (1, 7)\t0.4366945193762843\n",
      "  (1, 3)\t0.3893823977339896\n",
      "  (1, 13)\t0.3893823977339896\n",
      "  (1, 4)\t0.3893823977339896\n",
      "  (1, 12)\t0.3438418339486082\n",
      "  (2, 3)\t0.5773502691896257\n",
      "  (2, 13)\t0.5773502691896257\n",
      "  (2, 4)\t0.5773502691896257\n"
     ]
    }
   ],
   "source": [
    "print(x_trans[0:3])"
   ]
  },
  {
   "cell_type": "code",
   "execution_count": 11,
   "id": "covered-suite",
   "metadata": {},
   "outputs": [
    {
     "data": {
      "text/plain": [
       "(5534, 15)"
      ]
     },
     "execution_count": 11,
     "metadata": {},
     "output_type": "execute_result"
    }
   ],
   "source": [
    "x_trans.shape"
   ]
  },
  {
   "cell_type": "code",
   "execution_count": 12,
   "id": "roman-swift",
   "metadata": {},
   "outputs": [
    {
     "data": {
      "text/plain": [
       "LinearSVC(tol=0.001)"
      ]
     },
     "execution_count": 12,
     "metadata": {},
     "output_type": "execute_result"
    }
   ],
   "source": [
    "classifier = LinearSVC(C=1.0, max_iter=1000, tol=1e-3)\n",
    "linear_svc_model = classifier.fit(x_trans, y_train)\n",
    "linear_svc_model"
   ]
  },
  {
   "cell_type": "code",
   "execution_count": 13,
   "id": "sporting-bennett",
   "metadata": {},
   "outputs": [],
   "source": [
    "x_test_trans = tfidf_vect.fit_transform(X_test)"
   ]
  },
  {
   "cell_type": "code",
   "execution_count": 14,
   "id": "minor-bankruptcy",
   "metadata": {},
   "outputs": [
    {
     "data": {
      "text/plain": [
       "(1384, 15)"
      ]
     },
     "execution_count": 14,
     "metadata": {},
     "output_type": "execute_result"
    }
   ],
   "source": [
    "x_test_trans.shape"
   ]
  },
  {
   "cell_type": "code",
   "execution_count": 15,
   "id": "identical-malta",
   "metadata": {},
   "outputs": [
    {
     "data": {
      "text/plain": [
       "array([0, 1, 0, ..., 1, 0, 0], dtype=int64)"
      ]
     },
     "execution_count": 15,
     "metadata": {},
     "output_type": "execute_result"
    }
   ],
   "source": [
    "y_pred = linear_svc_model.predict(x_test_trans)\n",
    "y_pred"
   ]
  },
  {
   "cell_type": "code",
   "execution_count": 16,
   "id": "internal-arena",
   "metadata": {},
   "outputs": [
    {
     "data": {
      "text/html": [
       "<div>\n",
       "<style scoped>\n",
       "    .dataframe tbody tr th:only-of-type {\n",
       "        vertical-align: middle;\n",
       "    }\n",
       "\n",
       "    .dataframe tbody tr th {\n",
       "        vertical-align: top;\n",
       "    }\n",
       "\n",
       "    .dataframe thead th {\n",
       "        text-align: right;\n",
       "    }\n",
       "</style>\n",
       "<table border=\"1\" class=\"dataframe\">\n",
       "  <thead>\n",
       "    <tr style=\"text-align: right;\">\n",
       "      <th></th>\n",
       "      <th>y_test</th>\n",
       "      <th>y_pred</th>\n",
       "    </tr>\n",
       "  </thead>\n",
       "  <tbody>\n",
       "    <tr>\n",
       "      <th>272</th>\n",
       "      <td>1</td>\n",
       "      <td>1</td>\n",
       "    </tr>\n",
       "    <tr>\n",
       "      <th>5602</th>\n",
       "      <td>0</td>\n",
       "      <td>0</td>\n",
       "    </tr>\n",
       "    <tr>\n",
       "      <th>1782</th>\n",
       "      <td>1</td>\n",
       "      <td>0</td>\n",
       "    </tr>\n",
       "    <tr>\n",
       "      <th>5525</th>\n",
       "      <td>0</td>\n",
       "      <td>0</td>\n",
       "    </tr>\n",
       "    <tr>\n",
       "      <th>1876</th>\n",
       "      <td>1</td>\n",
       "      <td>1</td>\n",
       "    </tr>\n",
       "  </tbody>\n",
       "</table>\n",
       "</div>"
      ],
      "text/plain": [
       "      y_test  y_pred\n",
       "272        1       1\n",
       "5602       0       0\n",
       "1782       1       0\n",
       "5525       0       0\n",
       "1876       1       1"
      ]
     },
     "execution_count": 16,
     "metadata": {},
     "output_type": "execute_result"
    }
   ],
   "source": [
    "pred_results = pd.DataFrame({'y_test': y_test,\n",
    "                            'y_pred': y_pred})\n",
    "pred_results.sample(5)"
   ]
  },
  {
   "cell_type": "code",
   "execution_count": 17,
   "id": "seven-moscow",
   "metadata": {},
   "outputs": [],
   "source": [
    "from sklearn.metrics import accuracy_score"
   ]
  },
  {
   "cell_type": "code",
   "execution_count": 18,
   "id": "piano-leather",
   "metadata": {},
   "outputs": [
    {
     "data": {
      "text/plain": [
       "0.786849710982659"
      ]
     },
     "execution_count": 18,
     "metadata": {},
     "output_type": "execute_result"
    }
   ],
   "source": [
    "accuracy = accuracy_score(y_test, y_pred)\n",
    "accuracy"
   ]
  },
  {
   "cell_type": "code",
   "execution_count": 19,
   "id": "honey-providence",
   "metadata": {},
   "outputs": [],
   "source": [
    "text_clf_param = {}\n",
    "\n",
    "text_clf_param['preprocessing'] = tfidf_vect\n",
    "text_clf_param['model'] = linear_svc_model\n",
    "text_clf_param['sklearn_version'] = scikit_version\n",
    "text_clf_param['accuracy'] = accuracy"
   ]
  },
  {
   "cell_type": "code",
   "execution_count": 20,
   "id": "fabulous-restaurant",
   "metadata": {},
   "outputs": [
    {
     "data": {
      "text/plain": [
       "{'preprocessing': TfidfVectorizer(max_features=15),\n",
       " 'model': LinearSVC(tol=0.001),\n",
       " 'sklearn_version': '0.24.1',\n",
       " 'accuracy': 0.786849710982659}"
      ]
     },
     "execution_count": 20,
     "metadata": {},
     "output_type": "execute_result"
    }
   ],
   "source": [
    "text_clf_param"
   ]
  },
  {
   "cell_type": "code",
   "execution_count": 21,
   "id": "unable-colonial",
   "metadata": {},
   "outputs": [],
   "source": [
    "import joblib"
   ]
  },
  {
   "cell_type": "code",
   "execution_count": 22,
   "id": "residential-association",
   "metadata": {},
   "outputs": [],
   "source": [
    "filename = 'models/text_clf_checkpoint.joblib'"
   ]
  },
  {
   "cell_type": "code",
   "execution_count": 23,
   "id": "identified-jewel",
   "metadata": {},
   "outputs": [
    {
     "data": {
      "text/plain": [
       "['models/text_clf_checkpoint.joblib']"
      ]
     },
     "execution_count": 23,
     "metadata": {},
     "output_type": "execute_result"
    }
   ],
   "source": [
    "joblib.dump(text_clf_param, filename)"
   ]
  },
  {
   "cell_type": "code",
   "execution_count": 24,
   "id": "mature-times",
   "metadata": {},
   "outputs": [],
   "source": [
    "clf_checkpoint = joblib.load(filename)"
   ]
  },
  {
   "cell_type": "code",
   "execution_count": 25,
   "id": "composed-jacob",
   "metadata": {},
   "outputs": [
    {
     "data": {
      "text/plain": [
       "TfidfVectorizer(max_features=15)"
      ]
     },
     "execution_count": 25,
     "metadata": {},
     "output_type": "execute_result"
    }
   ],
   "source": [
    "reloaded_vect = clf_checkpoint['preprocessing']\n",
    "reloaded_vect"
   ]
  },
  {
   "cell_type": "code",
   "execution_count": 26,
   "id": "unlike-slovakia",
   "metadata": {},
   "outputs": [
    {
     "data": {
      "text/plain": [
       "LinearSVC(tol=0.001)"
      ]
     },
     "execution_count": 26,
     "metadata": {},
     "output_type": "execute_result"
    }
   ],
   "source": [
    "clf_model = clf_checkpoint['model']\n",
    "clf_model"
   ]
  },
  {
   "cell_type": "code",
   "execution_count": 27,
   "id": "familiar-calvin",
   "metadata": {},
   "outputs": [],
   "source": [
    "x_test_trans_new = reloaded_vect.fit_transform(X_test)"
   ]
  },
  {
   "cell_type": "code",
   "execution_count": 28,
   "id": "adverse-porcelain",
   "metadata": {},
   "outputs": [
    {
     "data": {
      "text/plain": [
       "array([0, 1, 0, ..., 1, 0, 0], dtype=int64)"
      ]
     },
     "execution_count": 28,
     "metadata": {},
     "output_type": "execute_result"
    }
   ],
   "source": [
    "y_pred = clf_model.predict(x_test_trans_new)\n",
    "y_pred"
   ]
  },
  {
   "cell_type": "code",
   "execution_count": 29,
   "id": "wireless-colon",
   "metadata": {},
   "outputs": [
    {
     "data": {
      "text/plain": [
       "0.786849710982659"
      ]
     },
     "execution_count": 29,
     "metadata": {},
     "output_type": "execute_result"
    }
   ],
   "source": [
    "accuracy_score(y_test, y_pred)"
   ]
  },
  {
   "cell_type": "code",
   "execution_count": 30,
   "id": "harmful-conjunction",
   "metadata": {
    "scrolled": true
   },
   "outputs": [
    {
     "data": {
      "text/plain": [
       "0.786849710982659"
      ]
     },
     "execution_count": 30,
     "metadata": {},
     "output_type": "execute_result"
    }
   ],
   "source": [
    "clf_checkpoint['accuracy']"
   ]
  },
  {
   "cell_type": "code",
   "execution_count": 31,
   "id": "processed-journalism",
   "metadata": {},
   "outputs": [],
   "source": [
    "from sklearn.pipeline import Pipeline"
   ]
  },
  {
   "cell_type": "code",
   "execution_count": 32,
   "id": "fifteen-george",
   "metadata": {},
   "outputs": [],
   "source": [
    "clf_pipeline = Pipeline(steps =[('tfidf_vect', tfidf_vect), ('classifier', classifier)])\n",
    "pipeline_model = clf_pipeline.fit(X_train, y_train)"
   ]
  },
  {
   "cell_type": "code",
   "execution_count": 33,
   "id": "structural-converter",
   "metadata": {},
   "outputs": [],
   "source": [
    "y_pred = pipeline_model.predict(X_test)"
   ]
  },
  {
   "cell_type": "code",
   "execution_count": 34,
   "id": "comic-understanding",
   "metadata": {},
   "outputs": [
    {
     "data": {
      "text/plain": [
       "0.8916184971098265"
      ]
     },
     "execution_count": 34,
     "metadata": {},
     "output_type": "execute_result"
    }
   ],
   "source": [
    "accuracy = accuracy_score(y_test, y_pred)\n",
    "accuracy"
   ]
  },
  {
   "cell_type": "code",
   "execution_count": 35,
   "id": "surprised-holder",
   "metadata": {},
   "outputs": [],
   "source": [
    "pipe_clf_param = {}\n",
    "pipe_clf_param['pipeline_clf'] = pipeline_model\n",
    "pipe_clf_param['sklearn_version'] = scikit_version\n",
    "pipe_clf_param['accuracy'] = accuracy"
   ]
  },
  {
   "cell_type": "code",
   "execution_count": 36,
   "id": "worst-gregory",
   "metadata": {},
   "outputs": [],
   "source": [
    "filename = 'models/pipe_clf_checkpoint.joblib'"
   ]
  },
  {
   "cell_type": "code",
   "execution_count": 37,
   "id": "external-trailer",
   "metadata": {},
   "outputs": [
    {
     "data": {
      "text/plain": [
       "['models/pipe_clf_checkpoint.joblib']"
      ]
     },
     "execution_count": 37,
     "metadata": {},
     "output_type": "execute_result"
    }
   ],
   "source": [
    "joblib.dump(pipe_clf_param, filename)"
   ]
  },
  {
   "cell_type": "code",
   "execution_count": 38,
   "id": "operating-arthur",
   "metadata": {},
   "outputs": [],
   "source": [
    "pipe_clf_checkpoint = joblib.load(filename)"
   ]
  },
  {
   "cell_type": "code",
   "execution_count": 39,
   "id": "silver-cheese",
   "metadata": {},
   "outputs": [
    {
     "data": {
      "text/plain": [
       "Pipeline(steps=[('tfidf_vect', TfidfVectorizer(max_features=15)),\n",
       "                ('classifier', LinearSVC(tol=0.001))])"
      ]
     },
     "execution_count": 39,
     "metadata": {},
     "output_type": "execute_result"
    }
   ],
   "source": [
    "reloaded_pipeline = pipe_clf_checkpoint['pipeline_clf']\n",
    "reloaded_pipeline"
   ]
  },
  {
   "cell_type": "code",
   "execution_count": 40,
   "id": "discrete-sheet",
   "metadata": {},
   "outputs": [],
   "source": [
    "y_pred = reloaded_pipeline.predict(X_test)"
   ]
  },
  {
   "cell_type": "code",
   "execution_count": 41,
   "id": "metallic-formula",
   "metadata": {},
   "outputs": [
    {
     "data": {
      "text/plain": [
       "0.8916184971098265"
      ]
     },
     "execution_count": 41,
     "metadata": {},
     "output_type": "execute_result"
    }
   ],
   "source": [
    "accuracy_score(y_test, y_pred)"
   ]
  },
  {
   "cell_type": "code",
   "execution_count": 42,
   "id": "suffering-inquiry",
   "metadata": {},
   "outputs": [
    {
     "data": {
      "text/plain": [
       "0.8916184971098265"
      ]
     },
     "execution_count": 42,
     "metadata": {},
     "output_type": "execute_result"
    }
   ],
   "source": [
    "pipe_clf_checkpoint['accuracy']"
   ]
  },
  {
   "cell_type": "code",
   "execution_count": null,
   "id": "editorial-practitioner",
   "metadata": {},
   "outputs": [],
   "source": []
  }
 ],
 "metadata": {
  "kernelspec": {
   "display_name": "Python 3",
   "language": "python",
   "name": "python3"
  },
  "language_info": {
   "codemirror_mode": {
    "name": "ipython",
    "version": 3
   },
   "file_extension": ".py",
   "mimetype": "text/x-python",
   "name": "python",
   "nbconvert_exporter": "python",
   "pygments_lexer": "ipython3",
   "version": "3.8.7"
  }
 },
 "nbformat": 4,
 "nbformat_minor": 5
}
